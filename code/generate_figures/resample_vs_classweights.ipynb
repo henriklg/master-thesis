{
 "cells": [
  {
   "cell_type": "markdown",
   "metadata": {},
   "source": [
    "Run three experiments. One with no class imbalance measures, one with resampling and one with class_weights. Mease training history and compute f1-metrics"
   ]
  },
  {
   "cell_type": "code",
   "execution_count": 1,
   "metadata": {},
   "outputs": [],
   "source": [
    "from __future__ import absolute_import, division, print_function, unicode_literals\n",
    "\n",
    "import tensorflow as tf\n",
    "\n",
    "import numpy as np\n",
    "import datetime\n",
    "import time\n",
    "import os\n",
    "import pathlib\n",
    "import matplotlib.pyplot as plt\n",
    "import seaborn as sns\n",
    "import pickle\n",
    "\n",
    "# Some stuff to make utils-function work\n",
    "import sys\n",
    "sys.path.append('../utils')\n",
    "from pipeline import create_dataset, split_and_create_dataset, prepare_for_training\n",
    "from create_model import create_model, create_callbacks\n",
    "from utils import write_to_file, get_class_weights\n",
    "%load_ext autoreload\n",
    "%autoreload 2\n",
    "\n",
    "# Jupyter-specific\n",
    "%matplotlib inline\n",
    "\n",
    "project_time = datetime.datetime.now().strftime(\"%Y%m%d-%H%M%S\")"
   ]
  },
  {
   "cell_type": "code",
   "execution_count": 2,
   "metadata": {},
   "outputs": [],
   "source": [
    "data_dir = pathlib.Path('/home/henriklg/master-thesis/data/hyper-kvasir/labeled_ttv/')\n",
    "unlab_dir = pathlib.Path('/home/henriklg/master-thesis/data/hyper-kvasir/unlabeled_ttv/')\n",
    "\n",
    "dir_name = \"none\"\n",
    "experiment = \"_resample\"\n",
    "log_dir = \"./logs/{}{}/{}\".format(project_time, experiment, dir_name)\n",
    "\n",
    "conf = {\n",
    "    # Dataset\n",
    "    \"data_dir\": data_dir,\n",
    "    \"unlab_dir\": unlab_dir,\n",
    "    \"ds_info\": 'hypkva',\n",
    "    \"augment\": [\"crop\",\"flip\",\"brightness\",\"saturation\",\"contrast\",\"rotate\"],\n",
    "    \"aug_mult\": 0.5,\n",
    "    \"resample\": False,\n",
    "    \"class_weight\": False,\n",
    "    \"shuffle_buffer_size\": 2000,        # 0=no shuffling\n",
    "    \"seed\": 2511,\n",
    "    \"neg_class\": None,                 # select neg class for binary ds (normal class)\n",
    "    \"outcast\": None,                   # list of folders to drop - currently only works for 1 item\n",
    "    # Model\n",
    "    \"model\": 'EfficientNetB0',\n",
    "    \"weights\": None,                   # which weights to initialize the model with\n",
    "    \"dropout\": 0.2,\n",
    "    \"num_epochs\": 5,\n",
    "    \"batch_size\": 16,\n",
    "    \"img_shape\": (128, 128, 3),\n",
    "    \"learning_rate\": 0.001,\n",
    "    \"optimizer\": 'Adam',\n",
    "    \"final_activation\": 'softmax',     # sigmoid for binary ds\n",
    "    # Callbacks\n",
    "    \"tensorboard\": False,\n",
    "    \"learning_schedule\": False,\n",
    "    \"decay_rate\": 0,                   # 128:0.25   64:1.0   32:4.0   16:16   8:64\n",
    "    \"checkpoint\": False,\n",
    "    \"early_stopp\": False,\n",
    "    \"early_stopp_patience\": 7,\n",
    "    # Misc\n",
    "    \"verbosity\": 0,\n",
    "    \"keep_threshold\": 0.0,\n",
    "    \"log_dir\": log_dir,\n",
    "    \"cache_dir\": \"./cache\"\n",
    "    }"
   ]
  },
  {
   "cell_type": "code",
   "execution_count": 3,
   "metadata": {},
   "outputs": [],
   "source": [
    "ds = create_dataset(conf)\n",
    "\n",
    "history_list = []\n",
    "evaluate_list = []"
   ]
  },
  {
   "cell_type": "markdown",
   "metadata": {},
   "source": [
    "## No resampling or class weight"
   ]
  },
  {
   "cell_type": "code",
   "execution_count": 5,
   "metadata": {},
   "outputs": [
    {
     "name": "stdout",
     "output_type": "stream",
     "text": [
      "Train for 465 steps, validate for 99 steps\n",
      "Epoch 1/5\n",
      "465/465 [==============================] - 29s 63ms/step - loss: 1.9822 - sparse_categorical_accuracy: 0.3590 - val_loss: 2.1699 - val_sparse_categorical_accuracy: 0.4009\n",
      "Epoch 2/5\n",
      "465/465 [==============================] - 22s 48ms/step - loss: 1.3189 - sparse_categorical_accuracy: 0.5476 - val_loss: 1.1547 - val_sparse_categorical_accuracy: 0.6054\n",
      "Epoch 3/5\n",
      "465/465 [==============================] - 22s 48ms/step - loss: 1.0479 - sparse_categorical_accuracy: 0.6312 - val_loss: 0.8241 - val_sparse_categorical_accuracy: 0.7033\n",
      "Epoch 4/5\n",
      "465/465 [==============================] - 22s 48ms/step - loss: 0.9423 - sparse_categorical_accuracy: 0.6618 - val_loss: 0.7730 - val_sparse_categorical_accuracy: 0.7279\n",
      "Epoch 5/5\n",
      "465/465 [==============================] - 23s 49ms/step - loss: 0.8546 - sparse_categorical_accuracy: 0.6913 - val_loss: 0.7919 - val_sparse_categorical_accuracy: 0.7254\n",
      "100/100 - 1s - loss: 0.7830 - sparse_categorical_accuracy: 0.7337\n"
     ]
    }
   ],
   "source": [
    "model = create_model(conf)\n",
    "callbacks = create_callbacks(conf)\n",
    "\n",
    "history = model.fit(\n",
    "        ds[\"train\"],\n",
    "        steps_per_epoch = conf[\"steps\"][\"train\"],\n",
    "        epochs = conf[\"num_epochs\"],\n",
    "        validation_data = ds[\"test\"],\n",
    "        validation_steps = conf[\"steps\"][\"test\"],\n",
    "        validation_freq = 1,\n",
    "        callbacks = callbacks,\n",
    "        verbose = 1\n",
    ")\n",
    "\n",
    "# Save the metrics from training\n",
    "write_to_file(history.history, conf, \"history\")\n",
    "write_to_file(conf, conf, \"conf\")\n",
    "history_list.append(history.history)\n",
    "with open(conf[\"log_dir\"]+\"/history_list.pkl\", 'wb') as f:\n",
    "    pickle.dump(history_list, f)\n",
    "    \n",
    "model_evaluation = model.evaluate(ds[\"val\"], verbose=2, steps=conf[\"steps\"][\"val\"])\n",
    "write_to_file(model_evaluation, conf, \"evaluate_val\")\n",
    "evaluate_list.append(model_evaluation)"
   ]
  },
  {
   "cell_type": "markdown",
   "metadata": {},
   "source": [
    "## Class Weights"
   ]
  },
  {
   "cell_type": "code",
   "execution_count": 6,
   "metadata": {},
   "outputs": [
    {
     "name": "stdout",
     "output_type": "stream",
     "text": [
      "Train for 465 steps, validate for 99 steps\n",
      "Epoch 1/5\n",
      "465/465 [==============================] - 29s 62ms/step - loss: 4.8000 - sparse_categorical_accuracy: 0.1594 - val_loss: 5.9687 - val_sparse_categorical_accuracy: 0.0246\n",
      "Epoch 2/5\n",
      "465/465 [==============================] - 23s 49ms/step - loss: 4.0735 - sparse_categorical_accuracy: 0.2005 - val_loss: 3.6481 - val_sparse_categorical_accuracy: 0.2601\n",
      "Epoch 3/5\n",
      "465/465 [==============================] - 23s 50ms/step - loss: 4.2222 - sparse_categorical_accuracy: 0.1667 - val_loss: 7.4330 - val_sparse_categorical_accuracy: 0.1622\n",
      "Epoch 4/5\n",
      "465/465 [==============================] - 23s 50ms/step - loss: 4.2615 - sparse_categorical_accuracy: 0.1413 - val_loss: 7.5512 - val_sparse_categorical_accuracy: 0.1679\n",
      "Epoch 5/5\n",
      "465/465 [==============================] - 23s 50ms/step - loss: 4.0946 - sparse_categorical_accuracy: 0.1575 - val_loss: 3.7061 - val_sparse_categorical_accuracy: 0.2513\n",
      "100/100 - 2s - loss: 2.2504 - sparse_categorical_accuracy: 0.2537\n"
     ]
    }
   ],
   "source": [
    "log_dir = \"./logs/{}{}/{}\".format(project_time, experiment, \"class_weight\")\n",
    "pathlib.Path(log_dir).mkdir(parents=True, exist_ok=True)\n",
    "conf[\"log_dir\"] = log_dir\n",
    "\n",
    "conf[\"class_weight\"] = True\n",
    "\n",
    "\n",
    "model = create_model(conf)\n",
    "callbacks = create_callbacks(conf)\n",
    "class_weights = get_class_weights(ds[\"train\"], conf)\n",
    "\n",
    "history = model.fit(\n",
    "        ds[\"train\"],\n",
    "        steps_per_epoch = conf[\"steps\"][\"train\"],\n",
    "        epochs = conf[\"num_epochs\"],\n",
    "        validation_data = ds[\"test\"],\n",
    "        validation_steps = conf[\"steps\"][\"test\"],\n",
    "        validation_freq = 1,\n",
    "        callbacks = callbacks,\n",
    "        class_weight = class_weights,\n",
    "        verbose = 1\n",
    ")\n",
    "\n",
    "# Save the metrics from training\n",
    "write_to_file(history.history, conf, \"history\")\n",
    "write_to_file(conf, conf, \"conf\")\n",
    "history_list.append(history.history)\n",
    "with open(conf[\"log_dir\"]+\"/history_list.pkl\", 'wb') as f:\n",
    "    pickle.dump(history_list, f)\n",
    "    \n",
    "model_evaluation = model.evaluate(ds[\"val\"], verbose=2, steps=conf[\"steps\"][\"val\"])\n",
    "write_to_file(model_evaluation, conf, \"evaluate_val\")\n",
    "evaluate_list.append(model_evaluation)"
   ]
  },
  {
   "cell_type": "markdown",
   "metadata": {},
   "source": [
    "## Resampling"
   ]
  },
  {
   "cell_type": "code",
   "execution_count": 7,
   "metadata": {},
   "outputs": [
    {
     "name": "stdout",
     "output_type": "stream",
     "text": [
      "Train for 465 steps, validate for 99 steps\n",
      "Epoch 1/5\n",
      "465/465 [==============================] - 28s 60ms/step - loss: 2.5457 - sparse_categorical_accuracy: 0.1749 - val_loss: 2.7383 - val_sparse_categorical_accuracy: 0.2172\n",
      "Epoch 2/5\n",
      "465/465 [==============================] - 22s 47ms/step - loss: 1.8708 - sparse_categorical_accuracy: 0.3165 - val_loss: 1.7886 - val_sparse_categorical_accuracy: 0.4508\n",
      "Epoch 3/5\n",
      "465/465 [==============================] - 22s 48ms/step - loss: 1.5493 - sparse_categorical_accuracy: 0.4290 - val_loss: 1.1022 - val_sparse_categorical_accuracy: 0.6193\n",
      "Epoch 4/5\n",
      "465/465 [==============================] - 22s 48ms/step - loss: 1.3931 - sparse_categorical_accuracy: 0.4819 - val_loss: 1.3659 - val_sparse_categorical_accuracy: 0.5259\n",
      "Epoch 5/5\n",
      "465/465 [==============================] - 22s 48ms/step - loss: 1.2415 - sparse_categorical_accuracy: 0.5378 - val_loss: 1.7787 - val_sparse_categorical_accuracy: 0.4545\n",
      "100/100 - 1s - loss: 1.7580 - sparse_categorical_accuracy: 0.4569\n"
     ]
    }
   ],
   "source": [
    "log_dir = \"./logs/{}{}/{}\".format(project_time, experiment, \"resampling\")\n",
    "pathlib.Path(log_dir).mkdir(parents=True, exist_ok=True)\n",
    "conf[\"log_dir\"] = log_dir\n",
    "\n",
    "conf[\"resample\"] = True\n",
    "conf[\"class_weight\"] = False\n",
    "ds = create_dataset(conf)\n",
    "\n",
    "\n",
    "model = create_model(conf)\n",
    "callbacks = create_callbacks(conf)\n",
    "\n",
    "history = model.fit(\n",
    "        ds[\"train\"],\n",
    "        steps_per_epoch = conf[\"steps\"][\"train\"],\n",
    "        epochs = conf[\"num_epochs\"],\n",
    "        validation_data = ds[\"test\"],\n",
    "        validation_steps = conf[\"steps\"][\"test\"],\n",
    "        validation_freq = 1,\n",
    "        callbacks = callbacks,\n",
    "        verbose = 1\n",
    ")\n",
    "\n",
    "# Save the metrics from training\n",
    "write_to_file(history.history, conf, \"history\")\n",
    "write_to_file(conf, conf, \"conf\")\n",
    "history_list.append(history.history)\n",
    "with open(conf[\"log_dir\"]+\"/history_list.pkl\", 'wb') as f:\n",
    "    pickle.dump(history_list, f)\n",
    "    \n",
    "model_evaluation = model.evaluate(ds[\"val\"], verbose=2, steps=conf[\"steps\"][\"val\"])\n",
    "write_to_file(model_evaluation, conf, \"evaluate_val\")\n",
    "evaluate_list.append(model_evaluation)"
   ]
  },
  {
   "cell_type": "markdown",
   "metadata": {},
   "source": [
    "## Get previous results"
   ]
  },
  {
   "cell_type": "raw",
   "metadata": {},
   "source": [
    "pickle_path = \"/home/henriklg/master-thesis/code/generate_figures/logs/imagenet_weights/B6/\"\n",
    "history_list = pickle.load (open (pickle_path+\"/history_list.pkl\", \"rb\"))"
   ]
  },
  {
   "cell_type": "markdown",
   "metadata": {},
   "source": [
    "# Plotting"
   ]
  },
  {
   "cell_type": "code",
   "execution_count": 8,
   "metadata": {},
   "outputs": [],
   "source": [
    "import matplotlib.pyplot as plt\n",
    "import seaborn as sns\n",
    "sns.set()\n",
    "\n",
    "SMALL_SIZE = 12\n",
    "MEDIUM_SIZE = 14\n",
    "BIGGER_SIZE = 16\n",
    "\n",
    "plt.rc('font', size=SMALL_SIZE)          # controls default text sizes\n",
    "plt.rc('axes', titlesize=BIGGER_SIZE)     # fontsize of the axes title\n",
    "plt.rc('axes', labelsize=MEDIUM_SIZE)    # fontsize of the x and y labels\n",
    "plt.rc('xtick', labelsize=SMALL_SIZE)    # fontsize of the tick labels\n",
    "plt.rc('ytick', labelsize=SMALL_SIZE)    # fontsize of the tick labels\n",
    "plt.rc('legend', fontsize=MEDIUM_SIZE)    # legend fontsize\n",
    "plt.rc('figure', titlesize=BIGGER_SIZE)  # fontsize of the figure title"
   ]
  },
  {
   "cell_type": "code",
   "execution_count": null,
   "metadata": {},
   "outputs": [],
   "source": [
    "x = range(conf[\"num_epochs\"])\n",
    "legends = [\"none\", \"class_weight\", \"resample\"]\n",
    "\n",
    "# Plot train-val accuracy and loss\n",
    "plt.figure(figsize=(14, 6))\n",
    "\n",
    "# Subplot 1\n",
    "plt.subplot(1, 2, 1)\n",
    "for hist in history_list:\n",
    "    plt.plot(x, hist['val_sparse_categorical_accuracy'])\n",
    "plt.legend(legends, loc='lower right')\n",
    "plt.ylim([0, 1])\n",
    "plt.xlabel('Epoch')\n",
    "plt.ylabel('Accuracy')\n",
    "plt.title('Validation Accuracy')\n",
    "\n",
    "# Subplot 2\n",
    "plt.subplot(1, 2, 2)\n",
    "for hist in history_list:\n",
    "    plt.plot(x, hist['val_loss'])\n",
    "plt.legend(legends, loc='upper right')\n",
    "plt.ylim([0.0, 3])\n",
    "plt.xlabel('Epoch')\n",
    "plt.ylabel('Loss')\n",
    "plt.title('Validation Loss')\n",
    "\n",
    "plt.tight_layout()\n",
    "plt.savefig('figures/resample_vs_classweight.pdf', format='pdf')\n",
    "plt.show()"
   ]
  },
  {
   "cell_type": "code",
   "execution_count": null,
   "metadata": {},
   "outputs": [],
   "source": []
  }
 ],
 "metadata": {
  "kernelspec": {
   "display_name": "Python 3",
   "language": "python",
   "name": "python3"
  },
  "language_info": {
   "codemirror_mode": {
    "name": "ipython",
    "version": 3
   },
   "file_extension": ".py",
   "mimetype": "text/x-python",
   "name": "python",
   "nbconvert_exporter": "python",
   "pygments_lexer": "ipython3",
   "version": "3.7.6"
  }
 },
 "nbformat": 4,
 "nbformat_minor": 4
}
