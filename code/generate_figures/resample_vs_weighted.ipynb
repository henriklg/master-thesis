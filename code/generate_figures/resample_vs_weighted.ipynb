{
 "cells": [
  {
   "cell_type": "markdown",
   "metadata": {},
   "source": [
    "Run three experiments. One with no class imbalance measures, one with resampling and one with class_weights. Mease training history and compute f1-metrics"
   ]
  },
  {
   "cell_type": "code",
   "execution_count": null,
   "metadata": {},
   "outputs": [],
   "source": [
    "from __future__ import absolute_import, division, print_function, unicode_literals\n",
    "\n",
    "import tensorflow as tf\n",
    "\n",
    "import numpy as np\n",
    "import datetime\n",
    "import time\n",
    "import os\n",
    "import pathlib\n",
    "import matplotlib.pyplot as plt\n",
    "import seaborn as sns\n",
    "import pickle\n",
    "\n",
    "# Some stuff to make utils-function work\n",
    "import sys\n",
    "sys.path.append('../utils')\n",
    "from pipeline import create_dataset, split_and_create_dataset, prepare_for_training\n",
    "from create_model import create_model, create_callbacks, get_class_weights\n",
    "from utils import write_to_file, unpipe\n",
    "%load_ext autoreload\n",
    "%autoreload 2\n",
    "\n",
    "# Jupyter-specific\n",
    "%matplotlib inline\n",
    "\n",
    "project_time = datetime.datetime.now().strftime(\"%Y%m%d-%H%M%S\")"
   ]
  },
  {
   "cell_type": "code",
   "execution_count": null,
   "metadata": {},
   "outputs": [],
   "source": [
    "data_dir = pathlib.Path('/home/henriklg/master-thesis/data/hyper-kvasir/labeled_ttv/')\n",
    "\n",
    "dir_name = \"baseline\"\n",
    "experiment = \"resample\"\n",
    "log_dir = \"./logs/{}_{}/{}\".format(project_time, experiment, dir_name)\n",
    "\n",
    "conf = {\n",
    "    # Dataset\n",
    "    \"data_dir\": data_dir,\n",
    "    \"ds_info\": 'hypkva',\n",
    "    \"augment\": [\"xcrop\",\"flip\",\"brightness\",\"saturation\",\"contrast\",\"rotate\"],\n",
    "    \"aug_mult\": 0.2,\n",
    "    \"resample\": False,\n",
    "    \"class_weight\": False,\n",
    "    \"shuffle_buffer_size\": 2000,        # 0=no shuffling\n",
    "    \"seed\": 2511,\n",
    "    \"neg_class\": None,                 # select neg class for binary ds (normal class)\n",
    "    \"outcast\": None,                   # list of folders to drop - currently only works for 1 item\n",
    "    # Model\n",
    "    \"model\": 'EfficientNetB0',\n",
    "    \"weights\": None,                   # which weights to initialize the model with\n",
    "    \"dropout\": 0.1,\n",
    "    \"num_epochs\": 15,\n",
    "    \"batch_size\": 64,\n",
    "    \"img_shape\": (128, 128, 3),\n",
    "    \"learning_rate\": 0.001,\n",
    "    \"optimizer\": 'Adam',\n",
    "    \"final_activation\": 'softmax',     # sigmoid for binary ds\n",
    "    # Callbacks\n",
    "    \"tensorboard\": False,\n",
    "    \"learning_schedule\": False,\n",
    "    \"decay_rate\": 0,                   # 128:0.25   64:1.0   32:4.0   16:16   8:64\n",
    "    \"checkpoint\": False,\n",
    "    \"early_stopp\": False,\n",
    "    \"early_stopp_patience\": 7,\n",
    "    # Misc\n",
    "    \"verbosity\": 0,\n",
    "    \"keep_threshold\": 0.0,\n",
    "    \"log_dir\": log_dir,\n",
    "    \"cache_dir\": \"./cache\"\n",
    "    }"
   ]
  },
  {
   "cell_type": "code",
   "execution_count": null,
   "metadata": {},
   "outputs": [],
   "source": [
    "ds = create_dataset(conf)\n",
    "\n",
    "history_dict = {}\n",
    "evaluate_list = []"
   ]
  },
  {
   "cell_type": "code",
   "execution_count": null,
   "metadata": {},
   "outputs": [],
   "source": [
    "from model_evaluation import get_classification_report\n",
    "from model_evaluation import get_metrics, get_confusion_matrix\n",
    "from model_evaluation import show_dataset_predictions\n",
    "from model_evaluation import plot_confusion_matrix, plot_lr_and_accuracy\n",
    "\n",
    "# Create true_labels and pred_labels for later evaluations\n",
    "eval_ds = unpipe(ds[\"val\"], conf[\"ds_sizes\"][\"val\"]).as_numpy_iterator()\n",
    "eval_ds = np.array(list(eval_ds))\n",
    "true_labels = list(eval_ds[:,1])\n",
    "eval_images = np.stack(eval_ds[:,0], axis=0)\n",
    "\n",
    "def evaluate_model(model, history, ds, conf):\n",
    "    \n",
    "    # Save the metrics from training\n",
    "    write_to_file(history.history, conf, \"history\")\n",
    "    write_to_file(conf, conf, \"conf\")\n",
    "    with open(conf[\"log_dir\"]+\"/history_dict.pkl\", 'wb') as f:\n",
    "        pickle.dump(history_dict, f)\n",
    "    \n",
    "    # Evaluate model on test dataset\n",
    "    model_evaluation = model.evaluate(ds[\"val\"], verbose=2, steps=conf[\"steps\"][\"val\"])\n",
    "    write_to_file(model_evaluation, conf, \"evaluate_val\")\n",
    "    evaluate_list.append(model_evaluation[-1])\n",
    "    \n",
    "    # Create predictions and pred_labels\n",
    "    predictions = model.predict(eval_images, verbose=1)\n",
    "    pred_confidence = [np.max(pred) for pred in predictions]\n",
    "    pred_labels = [np.argmax(pred) for pred in predictions]\n",
    "    \n",
    "    # Classification report\n",
    "    report = get_classification_report(\n",
    "            true_labels, \n",
    "            pred_labels, \n",
    "            range(conf[\"num_classes\"]), \n",
    "            target_names=conf[\"class_names\"]\n",
    "    )\n",
    "    print (report)\n",
    "    write_to_file(report, conf, \"classification_report\")\n",
    "\n",
    "    # Confusion matrix\n",
    "    cm = get_confusion_matrix(true_labels, pred_labels)\n",
    "    plot_confusion_matrix(cm, conf[\"log_dir\"], conf[\"class_names\"], figsize=(12,10), show=False)"
   ]
  },
  {
   "cell_type": "markdown",
   "metadata": {},
   "source": [
    "## Baseline"
   ]
  },
  {
   "cell_type": "code",
   "execution_count": null,
   "metadata": {},
   "outputs": [],
   "source": [
    "model = create_model(conf)\n",
    "callbacks = create_callbacks(conf)\n",
    "\n",
    "history = model.fit(\n",
    "        ds[\"train\"],\n",
    "        steps_per_epoch = conf[\"steps\"][\"train\"],\n",
    "        epochs = conf[\"num_epochs\"],\n",
    "        validation_data = ds[\"test\"],\n",
    "        validation_steps = conf[\"steps\"][\"test\"],\n",
    "        validation_freq = 1,\n",
    "        callbacks = callbacks,\n",
    "        class_weight = None,\n",
    "        verbose = 1\n",
    ")\n",
    "\n",
    "history_dict[\"baseline\"] = history.history\n",
    "evaluate_model(model, history, ds, conf)"
   ]
  },
  {
   "cell_type": "markdown",
   "metadata": {},
   "source": [
    "## Weighted"
   ]
  },
  {
   "cell_type": "code",
   "execution_count": null,
   "metadata": {},
   "outputs": [],
   "source": [
    "conf[\"log_dir\"] = \"./logs/{}_{}/{}\".format(project_time, experiment, \"weighted\")\n",
    "pathlib.Path(conf[\"log_dir\"]).mkdir(parents=True, exist_ok=True)\n",
    "conf[\"class_weight\"] = True\n",
    "\n",
    "model = create_model(conf)\n",
    "callbacks = create_callbacks(conf)\n",
    "class_weights = get_class_weights(ds[\"train\"], conf)\n",
    "\n",
    "history = model.fit(\n",
    "        ds[\"train\"],\n",
    "        steps_per_epoch = conf[\"steps\"][\"train\"],\n",
    "        epochs = conf[\"num_epochs\"],\n",
    "        validation_data = ds[\"test\"],\n",
    "        validation_steps = conf[\"steps\"][\"test\"],\n",
    "        validation_freq = 1,\n",
    "        callbacks = callbacks,\n",
    "        class_weight = class_weights,\n",
    "        verbose = 1\n",
    ")\n",
    "\n",
    "history_dict[\"weighted\"] = history.history\n",
    "evaluate_model(model, history, ds, conf)"
   ]
  },
  {
   "cell_type": "markdown",
   "metadata": {},
   "source": [
    "## Resample"
   ]
  },
  {
   "cell_type": "code",
   "execution_count": null,
   "metadata": {},
   "outputs": [],
   "source": [
    "# Remove the cache\n",
    "!rm -rf ./cache/*"
   ]
  },
  {
   "cell_type": "code",
   "execution_count": null,
   "metadata": {},
   "outputs": [],
   "source": [
    "conf[\"log_dir\"] = \"./logs/{}_{}/{}\".format(project_time, experiment, \"resampled\")\n",
    "pathlib.Path(conf[\"log_dir\"]).mkdir(parents=True, exist_ok=True)\n",
    "\n",
    "conf[\"resample\"] = True\n",
    "conf[\"class_weight\"] = False\n",
    "ds = create_dataset(conf)\n",
    "\n",
    "model = create_model(conf)\n",
    "callbacks = create_callbacks(conf)\n",
    "\n",
    "history = model.fit(\n",
    "        ds[\"train\"],\n",
    "        steps_per_epoch = conf[\"steps\"][\"train\"],\n",
    "        epochs = conf[\"num_epochs\"],\n",
    "        validation_data = ds[\"test\"],\n",
    "        validation_steps = conf[\"steps\"][\"test\"],\n",
    "        validation_freq = 1,\n",
    "        callbacks = callbacks,\n",
    "        class_weight = None,\n",
    "        verbose = 1\n",
    ")\n",
    "\n",
    "history_dict[\"resampled\"] = history.history\n",
    "evaluate_model(model, history, ds, conf)"
   ]
  },
  {
   "cell_type": "markdown",
   "metadata": {},
   "source": [
    "## Get previous results"
   ]
  },
  {
   "cell_type": "raw",
   "metadata": {},
   "source": [
    "pickle_path = \"/home/henriklg/master-thesis/code/generate_figures/logs/20200612-223209_resample/resampling/\"\n",
    "history_list = pickle.load (open (pickle_path+\"/history_list.pkl\", \"rb\"))"
   ]
  },
  {
   "cell_type": "markdown",
   "metadata": {},
   "source": [
    "# Plotting"
   ]
  },
  {
   "cell_type": "code",
   "execution_count": null,
   "metadata": {},
   "outputs": [],
   "source": [
    "import matplotlib.pyplot as plt\n",
    "import seaborn as sns\n",
    "sns.set()\n",
    "\n",
    "SMALL_SIZE = 12\n",
    "MEDIUM_SIZE = 14\n",
    "BIGGER_SIZE = 16\n",
    "\n",
    "plt.rc('font', size=SMALL_SIZE)          # controls default text sizes\n",
    "plt.rc('axes', titlesize=BIGGER_SIZE)     # fontsize of the axes title\n",
    "plt.rc('axes', labelsize=MEDIUM_SIZE)    # fontsize of the x and y labels\n",
    "plt.rc('xtick', labelsize=SMALL_SIZE)    # fontsize of the tick labels\n",
    "plt.rc('ytick', labelsize=SMALL_SIZE)    # fontsize of the tick labels\n",
    "plt.rc('legend', fontsize=MEDIUM_SIZE)    # legend fontsize\n",
    "plt.rc('figure', titlesize=BIGGER_SIZE)  # fontsize of the figure title"
   ]
  },
  {
   "cell_type": "code",
   "execution_count": null,
   "metadata": {},
   "outputs": [],
   "source": [
    "x = range(conf[\"num_epochs\"])\n",
    "legends = list(history_dict.keys())"
   ]
  },
  {
   "cell_type": "code",
   "execution_count": null,
   "metadata": {},
   "outputs": [],
   "source": [
    "# Plot train-val accuracy and loss\n",
    "plt.figure(figsize=(14, 6))\n",
    "\n",
    "# Subplot 1\n",
    "plt.subplot(1, 2, 1)\n",
    "for (name, history) in history_dict.items():\n",
    "    plt.plot(x, history['val_sparse_categorical_accuracy'])\n",
    "plt.legend(legends, loc='lower right')\n",
    "plt.ylim([0, 1])\n",
    "plt.xlabel('Epoch')\n",
    "plt.ylabel('Accuracy')\n",
    "plt.title('Validation Accuracy')\n",
    "\n",
    "# Subplot 2\n",
    "plt.subplot(1, 2, 2)\n",
    "for (name, history) in history_dict.items():\n",
    "    plt.plot(x, history['val_loss'])\n",
    "plt.legend(legends, loc='upper right')\n",
    "plt.ylim([0.0, 4])\n",
    "plt.xlabel('Epoch')\n",
    "plt.ylabel('Loss')\n",
    "plt.title('Validation Loss')\n",
    "\n",
    "plt.tight_layout()\n",
    "plt.savefig('figures/resample_vs_weighted_val.pdf', format='pdf')\n",
    "plt.show()"
   ]
  },
  {
   "cell_type": "code",
   "execution_count": null,
   "metadata": {},
   "outputs": [],
   "source": [
    "# Plot train-val accuracy and loss\n",
    "plt.figure(figsize=(14, 6))\n",
    "\n",
    "# Subplot 1\n",
    "plt.subplot(1, 2, 1)\n",
    "for (name, history) in history_dict.items():\n",
    "    plt.plot(x, history['sparse_categorical_accuracy'])\n",
    "plt.legend(legends, loc='lower right')\n",
    "plt.ylim([0, 1])\n",
    "plt.xlabel('Epoch')\n",
    "plt.ylabel('Accuracy')\n",
    "plt.title('Training Accuracy')\n",
    "\n",
    "# Subplot 2\n",
    "plt.subplot(1, 2, 2)\n",
    "for (name, history) in history_dict.items():\n",
    "    plt.plot(x, history['loss'])\n",
    "plt.legend(legends, loc='upper right')\n",
    "plt.ylim([0.0, 4])\n",
    "plt.xlabel('Epoch')\n",
    "plt.ylabel('Loss')\n",
    "plt.title('Training Loss')\n",
    "\n",
    "plt.tight_layout()\n",
    "plt.savefig('figures/resample_vs_weighted_train.pdf', format='pdf')\n",
    "plt.show()"
   ]
  }
 ],
 "metadata": {
  "kernelspec": {
   "display_name": "Python 3",
   "language": "python",
   "name": "python3"
  },
  "language_info": {
   "codemirror_mode": {
    "name": "ipython",
    "version": 3
   },
   "file_extension": ".py",
   "mimetype": "text/x-python",
   "name": "python",
   "nbconvert_exporter": "python",
   "pygments_lexer": "ipython3",
   "version": "3.7.6"
  }
 },
 "nbformat": 4,
 "nbformat_minor": 4
}
