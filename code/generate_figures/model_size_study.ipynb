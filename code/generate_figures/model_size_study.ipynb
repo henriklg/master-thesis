{
 "cells": [
  {
   "cell_type": "code",
   "execution_count": null,
   "metadata": {},
   "outputs": [],
   "source": [
    "from __future__ import absolute_import, division, print_function, unicode_literals\n",
    "\n",
    "import tensorflow as tf\n",
    "\n",
    "import numpy as np\n",
    "import datetime\n",
    "import time\n",
    "import os\n",
    "import pathlib\n",
    "import matplotlib.pyplot as plt\n",
    "import pickle\n",
    "\n",
    "# Some stuff to make utils-function work\n",
    "import sys\n",
    "sys.path.append('../utils')\n",
    "from pipeline import create_dataset, split_and_create_dataset, prepare_for_training\n",
    "from utils import show_image, class_distribution\n",
    "from utils import print_split_info, unpipe, tf_bincount, checkout_dataset\n",
    "%load_ext autoreload\n",
    "%autoreload 2\n",
    "\n",
    "\n",
    "from create_model import create_model\n",
    "from create_model import create_callbacks\n",
    "from utils import write_to_file\n",
    "from utils import get_class_weights\n",
    "\n",
    "# Jupyter-specific\n",
    "%matplotlib inline\n",
    "\n",
    "project_time = datetime.datetime.now().strftime(\"%Y%m%d-%H%M%S\")"
   ]
  },
  {
   "cell_type": "code",
   "execution_count": null,
   "metadata": {},
   "outputs": [],
   "source": [
    "data_dir = pathlib.Path('/home/henriklg/master-thesis/data/hyper-kvasir/labeled_ttv/')\n",
    "unlab_dir = pathlib.Path('/home/henriklg/master-thesis/data/hyper-kvasir/unlabeled_ttv/')\n",
    "\n",
    "model_name = \"EfficientNetB0\"\n",
    "experiment = \"_size_study_noweights\"\n",
    "log_dir = \"./logs/{}{}/{}\".format(project_time, experiment, model_name)\n",
    "\n",
    "conf = {\n",
    "    # Dataset\n",
    "    \"data_dir\": data_dir,\n",
    "    \"unlab_dir\": unlab_dir,\n",
    "    \"log_dir\": log_dir,\n",
    "    \"cache_dir\": \"./cache\",\n",
    "    \"ds_info\": 'hypkva',\n",
    "    \"augment\": [\"crop\",\"flip\",\"brightness\",\"saturation\",\"contrast\",\"rotate\"],\n",
    "    \"aug_mult\": 0.5,\n",
    "    \"resample\": True,\n",
    "    \"class_weight\": False,\n",
    "    \"shuffle_buffer_size\": 2000,        # 0=no shuffling\n",
    "    \"seed\": 2511,\n",
    "    \"neg_class\": None,                 # select neg class for binary ds (normal class)\n",
    "    \"outcast\": None,                   # list of folders to drop - currently only works for 1 item\n",
    "    # Model\n",
    "    \"model_name\": model_name,\n",
    "    \"model\": 'EfficientNetB0',\n",
    "    \"weights\": None,                   # which weights to initialize the model with\n",
    "    \"dropout\": 0.2,\n",
    "    \"num_epochs\": 40,\n",
    "    \"batch_size\": 16,\n",
    "    \"img_shape\": (128, 128, 3),\n",
    "    \"learning_rate\": 0.001,\n",
    "    \"optimizer\": 'Adam',\n",
    "    \"final_activation\": 'softmax',     # sigmoid for binary ds\n",
    "    # Callbacks\n",
    "    \"tensorboard\": False,\n",
    "    \"learning_schedule\": False,\n",
    "    \"decay_rate\": 0,                   # 128:0.25   64:1.0   32:4.0   16:16   8:64\n",
    "    \"checkpoint\": False,\n",
    "    \"early_stopp\": False,\n",
    "    \"early_stopp_patience\": 7,\n",
    "    # Misc\n",
    "    \"verbosity\": 0,\n",
    "    \"keep_threshold\": 0.0\n",
    "    }"
   ]
  },
  {
   "cell_type": "code",
   "execution_count": null,
   "metadata": {},
   "outputs": [],
   "source": [
    "ds = create_dataset(conf)\n",
    "\n",
    "history_list = []\n",
    "# models = [\"B0\", \"B1\", \"B2\", \"B3\", \"B4\", \"B5\", \"B6\", \"B7\"]\n",
    "models = [\"EfficientNetB0\", \"EfficientNetB2\", \"EfficientNetB4\", \"EfficientNetB6\"]"
   ]
  },
  {
   "cell_type": "markdown",
   "metadata": {},
   "source": [
    "## Create training history"
   ]
  },
  {
   "cell_type": "code",
   "execution_count": null,
   "metadata": {},
   "outputs": [],
   "source": [
    "start_time = time.time()\n",
    "\n",
    "for model_name in models:\n",
    "    log_dir = \"./logs/{}{}/{}\".format(project_time, experiment, model_name)\n",
    "    pathlib.Path(log_dir).mkdir(parents=True, exist_ok=True)\n",
    "    \n",
    "    conf[\"model_name\"] = model_name\n",
    "    conf[\"log_dir\"] = log_dir\n",
    "    conf[\"model\"] = model_name\n",
    "    print (\"\\n\\n----------{}----------\".format(conf[\"model\"]))\n",
    "    \n",
    "    model = create_model(conf)\n",
    "    callbacks = create_callbacks(conf)\n",
    "    \n",
    "    history = model.fit(\n",
    "            ds[\"train\"],\n",
    "            steps_per_epoch = conf[\"steps\"][\"train\"],\n",
    "            epochs = conf[\"num_epochs\"],\n",
    "            validation_data = ds[\"test\"],\n",
    "            validation_steps = conf[\"steps\"][\"test\"],\n",
    "            validation_freq = 1,\n",
    "            callbacks = callbacks,\n",
    "            verbose = 1\n",
    "    )\n",
    "\n",
    "    # Save the metrics from training\n",
    "    write_to_file(history.history, conf, \"history\")\n",
    "    write_to_file(conf, conf, \"conf\")\n",
    "    history_list.append(history.history)\n",
    "    with open(conf[\"log_dir\"]+\"/history_list.pkl\", 'wb') as f:\n",
    "        pickle.dump(history_list, f)\n",
    "        \n",
    "seconds = time.time() - start_time\n",
    "minutes = seconds/60\n",
    "hours = minutes/60\n",
    "print (\"Run for {:.2f} hours.\".format(hours))"
   ]
  },
  {
   "cell_type": "markdown",
   "metadata": {},
   "source": [
    "## Get previous results"
   ]
  },
  {
   "cell_type": "raw",
   "metadata": {},
   "source": [
    "pickle_path = \"/home/henriklg/master-thesis/code/generate_figures/logs/imagenet_weights/B6/\"\n",
    "history_list = pickle.load (open (pickle_path+\"/history_list.pkl\", \"rb\"))"
   ]
  },
  {
   "cell_type": "markdown",
   "metadata": {},
   "source": [
    "## Plot"
   ]
  },
  {
   "cell_type": "code",
   "execution_count": null,
   "metadata": {},
   "outputs": [],
   "source": [
    "import matplotlib.pyplot as plt\n",
    "import seaborn as sns\n",
    "sns.set()\n",
    "\n",
    "SMALL_SIZE = 12\n",
    "MEDIUM_SIZE = 14\n",
    "BIGGER_SIZE = 16\n",
    "\n",
    "plt.rc('font', size=SMALL_SIZE)          # controls default text sizes\n",
    "plt.rc('axes', titlesize=BIGGER_SIZE)     # fontsize of the axes title\n",
    "plt.rc('axes', labelsize=MEDIUM_SIZE)    # fontsize of the x and y labels\n",
    "plt.rc('xtick', labelsize=SMALL_SIZE)    # fontsize of the tick labels\n",
    "plt.rc('ytick', labelsize=SMALL_SIZE)    # fontsize of the tick labels\n",
    "plt.rc('legend', fontsize=MEDIUM_SIZE)    # legend fontsize\n",
    "plt.rc('figure', titlesize=BIGGER_SIZE)  # fontsize of the figure title"
   ]
  },
  {
   "cell_type": "code",
   "execution_count": null,
   "metadata": {},
   "outputs": [],
   "source": [
    "x = range(conf[\"num_epochs\"])\n",
    "\n",
    "# Plot train-val accuracy and loss\n",
    "plt.figure(figsize=(14, 6))\n",
    "\n",
    "# Subplot 1\n",
    "plt.subplot(1, 2, 1)\n",
    "for hist in history_list:\n",
    "    plt.plot(x, hist['val_sparse_categorical_accuracy'])\n",
    "plt.legend(models, loc='lower right')\n",
    "plt.ylim([0, 1])\n",
    "plt.xlabel('Epoch')\n",
    "plt.ylabel('Accuracy')\n",
    "plt.title('Validation Accuracy')\n",
    "\n",
    "# Subplot 2\n",
    "plt.subplot(1, 2, 2)\n",
    "for hist in history_list:\n",
    "    plt.plot(x, hist['val_loss'])\n",
    "plt.legend(models, loc='upper right')\n",
    "plt.ylim([0.0, 3])\n",
    "plt.xlabel('Epoch')\n",
    "plt.ylabel('Loss')\n",
    "plt.title('Validation Loss')\n",
    "\n",
    "plt.tight_layout()\n",
    "plt.savefig('figures/model_size_study_val.pdf', format='pdf')\n",
    "plt.show()"
   ]
  },
  {
   "cell_type": "code",
   "execution_count": null,
   "metadata": {},
   "outputs": [],
   "source": [
    "history_list[0]['val_sparse_categorical_accuracy'][-1] - history_list[-1]['val_sparse_categorical_accuracy'][-1]"
   ]
  },
  {
   "cell_type": "code",
   "execution_count": null,
   "metadata": {},
   "outputs": [],
   "source": [
    "history_list[0]['sparse_categorical_accuracy'][-1] - history_list[-1]['sparse_categorical_accuracy'][-1]"
   ]
  }
 ],
 "metadata": {
  "kernelspec": {
   "display_name": "Python 3",
   "language": "python",
   "name": "python3"
  },
  "language_info": {
   "codemirror_mode": {
    "name": "ipython",
    "version": 3
   },
   "file_extension": ".py",
   "mimetype": "text/x-python",
   "name": "python",
   "nbconvert_exporter": "python",
   "pygments_lexer": "ipython3",
   "version": "3.7.6"
  }
 },
 "nbformat": 4,
 "nbformat_minor": 4
}
