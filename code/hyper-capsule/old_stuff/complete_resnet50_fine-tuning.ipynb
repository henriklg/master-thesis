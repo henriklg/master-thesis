{
 "cells": [
  {
   "cell_type": "markdown",
   "metadata": {},
   "source": [
    "PillCam dataset trained on all classes with resnet50 without augmentation.  \n",
    "- Fine tuning by unfreezing some layers (get aprox 90% accuracy)\n",
    "- Early stopping\n",
    "- Adaptive learning rate  \n",
    "`TODO:`  \n",
    "- DS resample  \n",
    "- Class weighting  "
   ]
  },
  {
   "cell_type": "markdown",
   "metadata": {},
   "source": [
    "### Loading images\n",
    "https://www.tensorflow.org/tutorials/load_data/images"
   ]
  },
  {
   "cell_type": "code",
   "execution_count": 2,
   "metadata": {},
   "outputs": [
    {
     "name": "stdout",
     "output_type": "stream",
     "text": [
      "The autoreload extension is already loaded. To reload it, use:\n",
      "  %reload_ext autoreload\n"
     ]
    }
   ],
   "source": [
    "from __future__ import absolute_import, division, print_function, unicode_literals\n",
    "\n",
    "import tensorflow as tf\n",
    "\n",
    "import numpy as np\n",
    "import os\n",
    "import pathlib\n",
    "import matplotlib.pyplot as plt\n",
    "\n",
    "# Some stuff to make utils-function work\n",
    "import sys\n",
    "sys.path.append('/home/henrik/master_thesis/code/utils')\n",
    "from data_prep import create_dataset, print_class_info, show_image\n",
    "%load_ext autoreload\n",
    "%autoreload 2\n",
    "\n",
    "# Jupyter-specific\n",
    "%matplotlib inline"
   ]
  },
  {
   "cell_type": "markdown",
   "metadata": {},
   "source": [
    "Some parameters"
   ]
  },
  {
   "cell_type": "code",
   "execution_count": 3,
   "metadata": {},
   "outputs": [],
   "source": [
    "data_dir = pathlib.Path('/mnt/sdb/augere_export_class/')\n",
    "\n",
    "config = {\n",
    "    \"data_dir\": data_dir,\n",
    "    \"cache_dir\": \"./cache\",\n",
    "    \"model\": 'resnet50',\n",
    "    \"ds_info\": 'complete',\n",
    "    \"resample\": False,\n",
    "    \"neg_class\": ['Normal'],\n",
    "    \"num_epochs\": 100,\n",
    "    \"batch_size\": 128,\n",
    "    \"img_shape\": (32, 32, 3),\n",
    "    \"outcast\": None,\n",
    "    \"optimizer\": 'SGD',\n",
    "    \"final_activation\": 'softmax',\n",
    "    \"learning_rate\": 0.01,\n",
    "    \"early_stopping_patience\": 10,\n",
    "    \"decay_rate\": 0.4,              # higher number gives steeper dropoff\n",
    "    \"verbosity\": 1\n",
    "    }\n",
    "\n",
    "model_name = '{}x{}x{}_{}_{}'.format(config[\"num_epochs\"], config[\"batch_size\"], \n",
    "                                     config[\"img_shape\"][1], config[\"ds_info\"], config[\"model\"])\n",
    "\n",
    "learning_rate = config[\"learning_rate\"]\n",
    "fine_tune_at = 130\n",
    "fine_tune_epochs = 150\n",
    "early_stopping_patience = config[\"early_stopping_patience\"]"
   ]
  },
  {
   "cell_type": "markdown",
   "metadata": {},
   "source": [
    "Create training, testing and validation dataset from utils/data_prep.py"
   ]
  },
  {
   "cell_type": "code",
   "execution_count": 4,
   "metadata": {},
   "outputs": [],
   "source": [
    "train_ds, test_ds, val_ds, params = create_dataset(config)\n",
    "\n",
    "train_steps = params[\"train_size\"] // config[\"batch_size\"]\n",
    "test_steps = params[\"test_size\"] // config[\"batch_size\"]\n",
    "val_steps = params[\"val_size\"] // config[\"batch_size\"]\n",
    "\n",
    "neg = params[\"neg_count\"]\n",
    "pos = params[\"pos_count\"]\n",
    "total = params[\"ds_size\"]"
   ]
  },
  {
   "cell_type": "markdown",
   "metadata": {},
   "source": [
    "## Training"
   ]
  },
  {
   "cell_type": "markdown",
   "metadata": {},
   "source": [
    "### Resnet50 transfer learning\n",
    "resnet50: https://adventuresinmachinelearning.com/transfer-learning-tensorflow-2/  \n",
    "fine-tuning: https://www.tensorflow.org/tutorials/images/transfer_learning  \n",
    "  and https://towardsdatascience.com/easy-image-classification-with-tensorflow-2-0-f734fee52d13  \n",
    "callbacks: https://www.kaggle.com/suniliitb96/tutorial-keras-transfer-learning-with-resnet50  "
   ]
  },
  {
   "cell_type": "code",
   "execution_count": 5,
   "metadata": {},
   "outputs": [],
   "source": [
    "from tensorflow.python.keras.applications import ResNet50\n",
    "from tensorflow.python.keras.models import Sequential, Model\n",
    "from tensorflow.keras.layers import Dense, Dropout, Flatten, GlobalAveragePooling2D\n",
    "\n",
    "from tensorflow.python.keras.callbacks import EarlyStopping, ModelCheckpoint, TensorBoard, LearningRateScheduler\n",
    "import datetime"
   ]
  },
  {
   "cell_type": "markdown",
   "metadata": {},
   "source": [
    "Create and compile the model"
   ]
  },
  {
   "cell_type": "code",
   "execution_count": 6,
   "metadata": {},
   "outputs": [],
   "source": [
    "res_net = ResNet50(\n",
    "    weights='imagenet', \n",
    "    include_top=False, \n",
    "    input_shape=config[\"img_shape\"]\n",
    ")\n",
    "\n",
    "# output = res_net.layers[-1].output\n",
    "# output = Flatten()(output)\n",
    "\n",
    "# res_net = Model(res_net.input, outputs=output)"
   ]
  },
  {
   "cell_type": "code",
   "execution_count": 7,
   "metadata": {},
   "outputs": [],
   "source": [
    "# Freeze layers in resnet\n",
    "res_net.trainable = True\n",
    "\n",
    "# Define model\n",
    "# resnet50_model = Sequential()\n",
    "\n",
    "# resnet50_model.add(res_net)\n",
    "# resnet50_model.add(GlobalAveragePooling2D())\n",
    "# resnet50_model.add(Dense(params[\"NUM_CLASSES\"], activation='softmax'))\n",
    "\n",
    "global_average_layer = GlobalAveragePooling2D()\n",
    "output_layer = Dense(params[\"num_classes\"], activation=config[\"final_activation\"])\n",
    "\n",
    "resnet50_model = tf.keras.Sequential([\n",
    "        res_net,\n",
    "        global_average_layer,\n",
    "        output_layer])\n",
    "\n",
    "if config['optimizer'] == 'Adam':\n",
    "    opt = tf.keras.optimizers.Adam(learning_rate=learning_rate)\n",
    "elif config['optimizer'] == 'SGD':\n",
    "    opt = tf.keras.optimizers.SGD(learning_rate=learning_rate)\n",
    "\n",
    "resnet50_model.compile(\n",
    "    optimizer=opt,\n",
    "    loss='sparse_categorical_crossentropy',\n",
    "    metrics=['accuracy'] #['sparse_categorical_accuracy']?\n",
    ")"
   ]
  },
  {
   "cell_type": "code",
   "execution_count": 8,
   "metadata": {},
   "outputs": [
    {
     "name": "stdout",
     "output_type": "stream",
     "text": [
      "Model: \"sequential\"\n",
      "_________________________________________________________________\n",
      "Layer (type)                 Output Shape              Param #   \n",
      "=================================================================\n",
      "resnet50 (Model)             (None, 1, 1, 2048)        23587712  \n",
      "_________________________________________________________________\n",
      "global_average_pooling2d (Gl (None, 2048)              0         \n",
      "_________________________________________________________________\n",
      "dense (Dense)                (None, 8)                 16392     \n",
      "=================================================================\n",
      "Total params: 23,604,104\n",
      "Trainable params: 23,550,984\n",
      "Non-trainable params: 53,120\n",
      "_________________________________________________________________\n"
     ]
    }
   ],
   "source": [
    "if config[\"verbosity\"] > 0:\n",
    "    resnet50_model.summary()"
   ]
  },
  {
   "cell_type": "raw",
   "metadata": {},
   "source": [
    "# Save image of layers\n",
    "tf.keras.utils.plot_model(resnet50_model, 'models/{}.png'.format(model_name), show_shapes=True)"
   ]
  },
  {
   "cell_type": "markdown",
   "metadata": {},
   "source": [
    "`Reduce learning rate during training`"
   ]
  },
  {
   "cell_type": "markdown",
   "metadata": {},
   "source": [
    "Callbacks"
   ]
  },
  {
   "cell_type": "code",
   "execution_count": 9,
   "metadata": {},
   "outputs": [],
   "source": [
    "# By using LearnignRateScheduler\n",
    "initial_learning_rate = learning_rate\n",
    "decay_steps = params[\"train_size\"] // config[\"batch_size\"]\n",
    "batch_size = config['batch_size']\n",
    "decay_rate = config['decay_rate']\n",
    "\n",
    "def schedule(epoch):\n",
    "    # calculate new learning rate\n",
    "    learning_rate = initial_learning_rate / (1 + decay_rate * (epoch*batch_size) / decay_steps)\n",
    "    \n",
    "    # update tensorboard\n",
    "    tf.summary.scalar(name='learning_rate', data=learning_rate, step=epoch)\n",
    "    return learning_rate\n",
    "\n",
    "log_dir=\"./logs/{}/\".format(config[\"model\"]) + datetime.datetime.now().strftime(\"%Y%m%d-%H%M%S\")\n",
    "file_writer = tf.summary.create_file_writer(log_dir + \"/metrics\")\n",
    "file_writer.set_as_default()\n",
    "\n",
    "lr_schedule_cb = LearningRateScheduler(schedule, verbose=1)\n",
    "earlystopp_cb = EarlyStopping(monitor='val_loss',verbose=1, patience=early_stopping_patience, restore_best_weights=True)\n",
    "checkpoint_cb = ModelCheckpoint(filepath='./models/best_cp-{epoch:03d}.hdf', monitor='val_loss', save_best_only=True, mode='auto')\n",
    "tensorboard_cb = TensorBoard(log_dir=log_dir, update_freq='batch')\n",
    "\n",
    "callbacks = [tensorboard_cb, earlystopp_cb, lr_schedule_cb]\n",
    "\n",
    "# Write config dictionary to text file\n",
    "f = open(log_dir+\"/config.txt\",\"w\")\n",
    "f.write( str(config) )\n",
    "f.close()"
   ]
  },
  {
   "cell_type": "markdown",
   "metadata": {},
   "source": [
    "Train the model"
   ]
  },
  {
   "cell_type": "code",
   "execution_count": 11,
   "metadata": {},
   "outputs": [
    {
     "name": "stdout",
     "output_type": "stream",
     "text": [
      "Train for 243 steps, validate for 52 steps\n",
      "\n",
      "Epoch 00001: LearningRateScheduler reducing learning rate to 0.01.\n",
      "Epoch 1/100\n",
      "243/243 [==============================] - 96s 397ms/step - loss: 0.5243 - accuracy: 0.8506 - val_loss: 3.2331 - val_accuracy: 0.7456\n",
      "\n",
      "Epoch 00002: LearningRateScheduler reducing learning rate to 0.008259687287559483.\n",
      "Epoch 2/100\n",
      "243/243 [==============================] - 12s 49ms/step - loss: 0.1890 - accuracy: 0.9433 - val_loss: 2.6130 - val_accuracy: 0.2120\n",
      "\n",
      "Epoch 00003: LearningRateScheduler reducing learning rate to 0.0070353213665315575.\n",
      "Epoch 3/100\n",
      "243/243 [==============================] - 12s 49ms/step - loss: 0.0889 - accuracy: 0.9737 - val_loss: 1.3951 - val_accuracy: 0.4552\n",
      "\n",
      "Epoch 00004: LearningRateScheduler reducing learning rate to 0.0061270801815431165.\n",
      "Epoch 4/100\n",
      "243/243 [==============================] - 12s 49ms/step - loss: 0.0454 - accuracy: 0.9884 - val_loss: 1.5070 - val_accuracy: 0.6013\n",
      "\n",
      "Epoch 00005: LearningRateScheduler reducing learning rate to 0.005426529700759268.\n",
      "Epoch 5/100\n",
      "243/243 [==============================] - 12s 49ms/step - loss: 0.0258 - accuracy: 0.9943 - val_loss: 0.2160 - val_accuracy: 0.9306\n",
      "\n",
      "Epoch 00006: LearningRateScheduler reducing learning rate to 0.0048697394789579155.\n",
      "Epoch 6/100\n",
      "243/243 [==============================] - 12s 49ms/step - loss: 0.0178 - accuracy: 0.9969 - val_loss: 0.0538 - val_accuracy: 0.9874\n",
      "\n",
      "Epoch 00007: LearningRateScheduler reducing learning rate to 0.0044165757906215915.\n",
      "Epoch 7/100\n",
      "243/243 [==============================] - 12s 49ms/step - loss: 0.0139 - accuracy: 0.9979 - val_loss: 0.0509 - val_accuracy: 0.9877\n",
      "\n",
      "Epoch 00008: LearningRateScheduler reducing learning rate to 0.004040571998669771.\n",
      "Epoch 8/100\n",
      "243/243 [==============================] - 12s 49ms/step - loss: 0.0105 - accuracy: 0.9986 - val_loss: 0.0527 - val_accuracy: 0.9880\n",
      "\n",
      "Epoch 00009: LearningRateScheduler reducing learning rate to 0.0037235672693840026.\n",
      "Epoch 9/100\n",
      "243/243 [==============================] - 12s 49ms/step - loss: 0.0091 - accuracy: 0.9988 - val_loss: 0.0481 - val_accuracy: 0.9875\n",
      "\n",
      "Epoch 00010: LearningRateScheduler reducing learning rate to 0.003452685421994885.\n",
      "Epoch 10/100\n",
      "243/243 [==============================] - 12s 49ms/step - loss: 0.0080 - accuracy: 0.9991 - val_loss: 0.0505 - val_accuracy: 0.9880\n",
      "\n",
      "Epoch 00011: LearningRateScheduler reducing learning rate to 0.0032185430463576156.\n",
      "Epoch 11/100\n",
      "243/243 [==============================] - 12s 49ms/step - loss: 0.0066 - accuracy: 0.9992 - val_loss: 0.0505 - val_accuracy: 0.9884\n",
      "\n",
      "Epoch 00012: LearningRateScheduler reducing learning rate to 0.0030141404118084842.\n",
      "Epoch 12/100\n",
      "243/243 [==============================] - 12s 49ms/step - loss: 0.0056 - accuracy: 0.9995 - val_loss: 0.0498 - val_accuracy: 0.9883\n",
      "\n",
      "Epoch 00013: LearningRateScheduler reducing learning rate to 0.0028341497550734775.\n",
      "Epoch 13/100\n",
      "243/243 [==============================] - 12s 49ms/step - loss: 0.0052 - accuracy: 0.9995 - val_loss: 0.0500 - val_accuracy: 0.9880\n",
      "\n",
      "Epoch 00014: LearningRateScheduler reducing learning rate to 0.002674444199867929.\n",
      "Epoch 14/100\n",
      "243/243 [==============================] - 12s 49ms/step - loss: 0.0053 - accuracy: 0.9993 - val_loss: 0.0510 - val_accuracy: 0.9886\n",
      "\n",
      "Epoch 00015: LearningRateScheduler reducing learning rate to 0.002531777453636174.\n",
      "Epoch 15/100\n",
      "243/243 [==============================] - 12s 49ms/step - loss: 0.0047 - accuracy: 0.9995 - val_loss: 0.0502 - val_accuracy: 0.9887\n",
      "\n",
      "Epoch 00016: LearningRateScheduler reducing learning rate to 0.0024035608308605344.\n",
      "Epoch 16/100\n",
      "243/243 [==============================] - 12s 49ms/step - loss: 0.0046 - accuracy: 0.9995 - val_loss: 0.0513 - val_accuracy: 0.9881\n",
      "\n",
      "Epoch 00017: LearningRateScheduler reducing learning rate to 0.0022877047636979853.\n",
      "Epoch 17/100\n",
      "243/243 [==============================] - 12s 49ms/step - loss: 0.0043 - accuracy: 0.9994 - val_loss: 0.0510 - val_accuracy: 0.9887\n",
      "\n",
      "Epoch 00018: LearningRateScheduler reducing learning rate to 0.002182504041674151.\n",
      "Epoch 18/100\n",
      "243/243 [==============================] - 12s 49ms/step - loss: 0.0041 - accuracy: 0.9996 - val_loss: 0.0521 - val_accuracy: 0.9880\n",
      "\n",
      "Epoch 00019: LearningRateScheduler reducing learning rate to 0.0020865533230293664.\n",
      "Epoch 19/100\n",
      "241/243 [============================>.] - ETA: 0s - loss: 0.0040 - accuracy: 0.9995Restoring model weights from the end of the best epoch.\n",
      "243/243 [==============================] - 12s 49ms/step - loss: 0.0040 - accuracy: 0.9995 - val_loss: 0.0519 - val_accuracy: 0.9883\n",
      "Epoch 00019: early stopping\n"
     ]
    }
   ],
   "source": [
    "history = resnet50_model.fit(\n",
    "    train_ds,\n",
    "    steps_per_epoch = train_steps,\n",
    "    epochs = config[\"num_epochs\"],\n",
    "    validation_data = test_ds,\n",
    "    validation_steps = test_steps,\n",
    "    validation_freq = 1,\n",
    "    callbacks = callbacks\n",
    ")\n",
    "\n",
    "# Write history dictionary to text file\n",
    "f = open(log_dir+\"/history.txt\",\"w\")\n",
    "f.write( str(history.history) )\n",
    "f.close()"
   ]
  },
  {
   "cell_type": "markdown",
   "metadata": {},
   "source": [
    "`Keras`\n",
    "Save/load the model"
   ]
  },
  {
   "cell_type": "code",
   "execution_count": 16,
   "metadata": {},
   "outputs": [],
   "source": [
    "# resnet50_model.save('models/{}.h5'.format(model_name))\n",
    "# resnet50_model = tf.keras.models.load_model('models/{}.h5'.format(model_name))"
   ]
  },
  {
   "cell_type": "markdown",
   "metadata": {},
   "source": [
    "## Evaluate the model"
   ]
  },
  {
   "cell_type": "code",
   "execution_count": 12,
   "metadata": {},
   "outputs": [
    {
     "name": "stdout",
     "output_type": "stream",
     "text": [
      "52/52 - 56s - loss: 0.0608 - accuracy: 0.9850\n"
     ]
    }
   ],
   "source": [
    "resnet50_evaluate = resnet50_model.evaluate(val_ds, verbose=2, steps=val_steps)\n",
    "\n",
    "# Write evaluate dictionary to text file\n",
    "f = open(log_dir+\"/evaluate.txt\",\"w\")\n",
    "f.write( str(resnet50_evaluate) )\n",
    "f.close()"
   ]
  },
  {
   "cell_type": "code",
   "execution_count": 13,
   "metadata": {},
   "outputs": [],
   "source": [
    "acc = history.history['accuracy']\n",
    "val_acc = history.history['val_accuracy']\n",
    "loss = history.history['loss']\n",
    "val_loss = history.history['val_loss']\n",
    "\n",
    "epochs_range = range(history.epoch[-1]+1)"
   ]
  },
  {
   "cell_type": "code",
   "execution_count": 14,
   "metadata": {},
   "outputs": [
    {
     "data": {
      "image/png": "[encoded data removed]",
      "text/plain": [
       "<Figure size 576x432 with 1 Axes>"
      ]
     },
     "metadata": {
      "needs_background": "light"
     },
     "output_type": "display_data"
    }
   ],
   "source": [
    "# Plot the learning rate\n",
    "plt.figure(figsize=(8, 6))\n",
    "plt.plot(epochs_range, history.history['lr'], label='Learning Rate')\n",
    "plt.xlabel('Epoch')\n",
    "plt.ylabel('Learnign rate')\n",
    "plt.savefig(log_dir+'/learning_rate.png')\n",
    "plt.title('Adaptive Learning Rate');"
   ]
  },
  {
   "cell_type": "code",
   "execution_count": 15,
   "metadata": {},
   "outputs": [
    {
     "data": {
      "image/png": "[encoded data removed]",
      "text/plain": [
       "<Figure size 1008x432 with 2 Axes>"
      ]
     },
     "metadata": {
      "needs_background": "light"
     },
     "output_type": "display_data"
    }
   ],
   "source": [
    "# Plot train-val accuracy and loss\n",
    "plt.figure(figsize=(14, 6))\n",
    "\n",
    "# Subplot 1\n",
    "plt.subplot(1, 2, 1)\n",
    "plt.plot(epochs_range, acc, label='Training Accuracy')\n",
    "plt.plot(epochs_range, val_acc, label='Validation Accuracy')\n",
    "plt.legend(loc='lower right')\n",
    "# plt.ylim([0.5, 1])\n",
    "plt.xlabel('Epoch')\n",
    "plt.ylabel('Accuracy')\n",
    "plt.title('Training and Validation Accuracy')\n",
    "\n",
    "# Subplot 2\n",
    "plt.subplot(1, 2, 2)\n",
    "plt.plot(epochs_range, loss, label='Training Loss')\n",
    "plt.plot(epochs_range, val_loss, label='Validation Loss')\n",
    "plt.legend(loc='upper right')\n",
    "plt.ylim([0.0, 3])\n",
    "plt.xlabel('Epoch')\n",
    "plt.ylabel('Accuracy')\n",
    "plt.title('Training and Validation Loss')\n",
    "plt.savefig(log_dir+'/accuracy_and_loss.png')\n",
    "plt.show()"
   ]
  },
  {
   "cell_type": "markdown",
   "metadata": {},
   "source": [
    "### Fine tune the model"
   ]
  },
  {
   "cell_type": "code",
   "execution_count": 16,
   "metadata": {},
   "outputs": [
    {
     "name": "stdout",
     "output_type": "stream",
     "text": [
      "Number of layers in the base model:  175\n",
      "Number of layers unfreezed:  56\n"
     ]
    }
   ],
   "source": [
    "res_net.trainable = True\n",
    "\n",
    "# Let's take a look to see how many layers are in the base model\n",
    "print(\"Number of layers in the base model: \", len(res_net.layers))\n",
    "\n",
    "# Fine-tune from this layer onwards\n",
    "fine_tune_at = fine_tune_at\n",
    "\n",
    "# Freeze all the layers before the `fine_tune_at` layer\n",
    "for layer in res_net.layers[:fine_tune_at]:\n",
    "    layer.trainable = False\n",
    "\n",
    "print(\"Number of layers unfreezed: \", len(resnet50_model.trainable_variables))"
   ]
  },
  {
   "cell_type": "code",
   "execution_count": 17,
   "metadata": {},
   "outputs": [],
   "source": [
    "if config['optimizer'] == 'Adam':\n",
    "    opt = tf.keras.optimizers.Adam(learning_rate=learning_rate)\n",
    "elif config['optimizer'] == 'SGD':\n",
    "    opt = tf.keras.optimizers.SGD(learning_rate=learning_rate)\n",
    "\n",
    "resnet50_model.compile(\n",
    "    optimizer=opt,\n",
    "    loss='sparse_categorical_crossentropy',\n",
    "    metrics=['accuracy']\n",
    ")"
   ]
  },
  {
   "cell_type": "code",
   "execution_count": 18,
   "metadata": {},
   "outputs": [
    {
     "name": "stdout",
     "output_type": "stream",
     "text": [
      "Train for 243 steps, validate for 52 steps\n",
      "\n",
      "Epoch 00019: LearningRateScheduler reducing learning rate to 0.0020865533230293664.\n",
      "Epoch 19/168\n",
      "243/243 [==============================] - 12s 51ms/step - loss: 0.0078 - accuracy: 0.9993 - val_loss: 0.0500 - val_accuracy: 0.9872\n",
      "\n",
      "Epoch 00020: LearningRateScheduler reducing learning rate to 0.0019986839940779734.\n",
      "Epoch 20/168\n",
      "243/243 [==============================] - 8s 35ms/step - loss: 0.0077 - accuracy: 0.9991 - val_loss: 0.0501 - val_accuracy: 0.9872\n",
      "\n",
      "Epoch 00021: LearningRateScheduler reducing learning rate to 0.0019179163378058406.\n",
      "Epoch 21/168\n",
      "243/243 [==============================] - 8s 34ms/step - loss: 0.0071 - accuracy: 0.9992 - val_loss: 0.0502 - val_accuracy: 0.9872\n",
      "\n",
      "Epoch 00022: LearningRateScheduler reducing learning rate to 0.001843422849340009.\n",
      "Epoch 22/168\n",
      "243/243 [==============================] - 8s 34ms/step - loss: 0.0064 - accuracy: 0.9995 - val_loss: 0.0501 - val_accuracy: 0.9874\n",
      "\n",
      "Epoch 00023: LearningRateScheduler reducing learning rate to 0.0017744997809259527.\n",
      "Epoch 23/168\n",
      "243/243 [==============================] - 8s 35ms/step - loss: 0.0060 - accuracy: 0.9995 - val_loss: 0.0492 - val_accuracy: 0.9877\n",
      "\n",
      "Epoch 00024: LearningRateScheduler reducing learning rate to 0.0017105448402083626.\n",
      "Epoch 24/168\n",
      "243/243 [==============================] - 8s 34ms/step - loss: 0.0065 - accuracy: 0.9991 - val_loss: 0.0499 - val_accuracy: 0.9874\n",
      "\n",
      "Epoch 00025: LearningRateScheduler reducing learning rate to 0.0016510395434162248.\n",
      "Epoch 25/168\n",
      "243/243 [==============================] - 8s 34ms/step - loss: 0.0059 - accuracy: 0.9994 - val_loss: 0.0507 - val_accuracy: 0.9874\n",
      "\n",
      "Epoch 00026: LearningRateScheduler reducing learning rate to 0.0015955351280367695.\n",
      "Epoch 26/168\n",
      "243/243 [==============================] - 8s 35ms/step - loss: 0.0061 - accuracy: 0.9992 - val_loss: 0.0500 - val_accuracy: 0.9877\n",
      "\n",
      "Epoch 00027: LearningRateScheduler reducing learning rate to 0.001543641214585186.\n",
      "Epoch 27/168\n",
      "243/243 [==============================] - 8s 34ms/step - loss: 0.0056 - accuracy: 0.9994 - val_loss: 0.0506 - val_accuracy: 0.9877\n",
      "\n",
      "Epoch 00028: LearningRateScheduler reducing learning rate to 0.001495016611295681.\n",
      "Epoch 28/168\n",
      "243/243 [==============================] - 8s 34ms/step - loss: 0.0057 - accuracy: 0.9995 - val_loss: 0.0507 - val_accuracy: 0.9875\n",
      "\n",
      "Epoch 00029: LearningRateScheduler reducing learning rate to 0.0014493618036502446.\n",
      "Epoch 29/168\n",
      "243/243 [==============================] - 8s 34ms/step - loss: 0.0055 - accuracy: 0.9993 - val_loss: 0.0505 - val_accuracy: 0.9878\n",
      "\n",
      "Epoch 00030: LearningRateScheduler reducing learning rate to 0.0014064127792568584.\n",
      "Epoch 30/168\n",
      "243/243 [==============================] - 8s 34ms/step - loss: 0.0050 - accuracy: 0.9995 - val_loss: 0.0504 - val_accuracy: 0.9878\n",
      "\n",
      "Epoch 00031: LearningRateScheduler reducing learning rate to 0.0013659359190556493.\n",
      "Epoch 31/168\n",
      "243/243 [==============================] - 8s 34ms/step - loss: 0.0052 - accuracy: 0.9995 - val_loss: 0.0508 - val_accuracy: 0.9875\n",
      "\n",
      "Epoch 00032: LearningRateScheduler reducing learning rate to 0.0013277237460386844.\n",
      "Epoch 32/168\n",
      "243/243 [==============================] - 8s 34ms/step - loss: 0.0050 - accuracy: 0.9994 - val_loss: 0.0510 - val_accuracy: 0.9877\n",
      "\n",
      "Epoch 00033: LearningRateScheduler reducing learning rate to 0.0012915913681301157.\n",
      "Epoch 33/168\n",
      "241/243 [============================>.] - ETA: 0s - loss: 0.0049 - accuracy: 0.9995Restoring model weights from the end of the best epoch.\n",
      "243/243 [==============================] - 8s 35ms/step - loss: 0.0049 - accuracy: 0.9995 - val_loss: 0.0509 - val_accuracy: 0.9880\n",
      "Epoch 00033: early stopping\n"
     ]
    }
   ],
   "source": [
    "fine_tune_epochs = fine_tune_epochs\n",
    "total_epochs = history.epoch[-1] + fine_tune_epochs\n",
    "\n",
    "history_fine = resnet50_model.fit(\n",
    "    train_ds,\n",
    "    steps_per_epoch = train_steps,\n",
    "    epochs = total_epochs,\n",
    "    initial_epoch = history.epoch[-1],\n",
    "    validation_data = test_ds,\n",
    "    validation_steps = val_steps,\n",
    "    validation_freq = 1,\n",
    "    callbacks = callbacks\n",
    ")"
   ]
  },
  {
   "cell_type": "code",
   "execution_count": 19,
   "metadata": {},
   "outputs": [],
   "source": [
    "# For fine-tuning\n",
    "acc += history_fine.history['accuracy']\n",
    "val_acc += history_fine.history['val_accuracy']\n",
    "\n",
    "loss += history_fine.history['loss']\n",
    "val_loss += history_fine.history['val_loss']"
   ]
  },
  {
   "cell_type": "code",
   "execution_count": 20,
   "metadata": {},
   "outputs": [
    {
     "data": {
      "image/png": "[encoded data removed]",
      "text/plain": [
       "<Figure size 1008x576 with 2 Axes>"
      ]
     },
     "metadata": {
      "needs_background": "light"
     },
     "output_type": "display_data"
    },
    {
     "name": "stdout",
     "output_type": "stream",
     "text": [
      "Fine tuning from epoch:  18\n"
     ]
    }
   ],
   "source": [
    "# Subplot 1\n",
    "plt.figure(figsize=(14, 8))\n",
    "plt.subplot(2, 1, 1)\n",
    "plt.plot(acc, label='Training Accuracy')\n",
    "plt.plot(val_acc, label='Validation Accuracy')\n",
    "plt.plot([history.epoch[-1]-1,history.epoch[-1]-1],\n",
    "          plt.ylim(), label='Start Fine Tuning')\n",
    "plt.legend(loc='lower right')\n",
    "plt.title('Training and Validation Accuracy')\n",
    "\n",
    "# Subplot 2\n",
    "plt.subplot(2, 1, 2)\n",
    "plt.plot(loss, label='Training Loss')\n",
    "plt.plot(val_loss, label='Validation Loss')\n",
    "plt.ylim([0, 3.0])\n",
    "plt.plot([history.epoch[-1]-1,history.epoch[-1]-1],\n",
    "         plt.ylim(), label='Start Fine Tuning')\n",
    "plt.legend(loc='upper right')\n",
    "plt.title('Training and Validation Loss')\n",
    "plt.xlabel('epoch')\n",
    "plt.show()\n",
    "\n",
    "print (\"Fine tuning from epoch: \", history.epoch[-1])"
   ]
  },
  {
   "cell_type": "markdown",
   "metadata": {},
   "source": [
    "`Tensorboard`"
   ]
  },
  {
   "cell_type": "code",
   "execution_count": null,
   "metadata": {},
   "outputs": [],
   "source": [
    "from tensorboard import notebook\n",
    "# Load the TensorBoard notebook extension\n",
    "%load_ext tensorboard\n",
    "\n",
    "# Start tensorboard\n",
    "%tensorboard --logdir logs\n",
    "\n",
    "notebook.list()"
   ]
  },
  {
   "cell_type": "markdown",
   "metadata": {},
   "source": [
    "## Predict new samples"
   ]
  },
  {
   "cell_type": "code",
   "execution_count": 21,
   "metadata": {},
   "outputs": [],
   "source": [
    "# Fetch one batch\n",
    "images, labels = next(iter(val_ds))\n",
    "\n",
    "# Convert from tensor to numpy array\n",
    "images = images.numpy()\n",
    "labels = labels.numpy()"
   ]
  },
  {
   "cell_type": "code",
   "execution_count": 23,
   "metadata": {},
   "outputs": [
    {
     "name": "stdout",
     "output_type": "stream",
     "text": [
      "0.0002 Anatomic landmarks\n",
      "0.0000 Unknown\n",
      "0.0000 Protruding lesions\n",
      "0.0000 Flat lesions\n",
      "0.0003 Lumen\n",
      "0.0000 Mucosa\n",
      "0.9995 Normal\n",
      "0.0000 Excavated lesions\n",
      "\n",
      "Label: Normal\n",
      "Predicton: Normal\n"
     ]
    },
    {
     "data": {
      "image/png": "[encoded data removed]",
      "text/plain": [
       "<Figure size 432x288 with 1 Axes>"
      ]
     },
     "metadata": {},
     "output_type": "display_data"
    }
   ],
   "source": [
    "# Get a random image and label\n",
    "rand = np.random.randint(0, config[\"batch_size\"])\n",
    "image = images[rand]\n",
    "label = labels[rand]\n",
    "\n",
    "# Predict one image\n",
    "predictions = resnet50_model.predict(np.expand_dims(image, axis=0))[0]\n",
    "\n",
    "for i, pred in enumerate(predictions):\n",
    "    print(\"{:0.4f} {}\".format(pred,params[\"class_names\"][i]))\n",
    "\n",
    "print (\"\\nLabel:\", params[\"class_names\"][label])\n",
    "print (\"Predicton:\", params[\"class_names\"][np.argmax(predictions)])\n",
    "\n",
    "plt.figure(frameon=False, facecolor='white')\n",
    "plt.imshow(image)\n",
    "plt.axis('off');"
   ]
  },
  {
   "cell_type": "code",
   "execution_count": 24,
   "metadata": {},
   "outputs": [
    {
     "name": "stdout",
     "output_type": "stream",
     "text": [
      "idx  label                     pred                     \n",
      "---  ------------------------- -------------------------\n",
      "  0  Normal                    Normal                   \n",
      "  1  Anatomic landmarks        Anatomic landmarks       \n",
      "  2  Normal                    Normal                   \n",
      "  3  Anatomic landmarks        Anatomic landmarks       \n",
      "  4  Anatomic landmarks        Anatomic landmarks       \n",
      "  5  Anatomic landmarks        Anatomic landmarks       \n",
      "  6  Anatomic landmarks        Anatomic landmarks       \n",
      "  7  Excavated lesions         Excavated lesions        \n",
      "  8  Normal                    Normal                   \n",
      "  9  Normal                    Normal                   \n",
      " 10  Normal                    Normal                   \n",
      " 11  Normal                    Normal                   \n",
      " 12  Lumen                     Lumen                    \n",
      " 13  Normal                    Normal                   \n",
      " 14  Anatomic landmarks        Anatomic landmarks       \n",
      " 15  Normal                    Normal                   \n",
      " 16  Protruding lesions        Protruding lesions       \n",
      " 17  Flat lesions              Flat lesions             \n",
      " 18  Normal                    Normal                   \n",
      " 19  Normal                    Normal                   \n",
      " 20  Excavated lesions         Excavated lesions        \n",
      " 21  Normal                    Normal                   \n",
      " 22  Anatomic landmarks        Anatomic landmarks       \n",
      " 23  Normal                    Normal                   \n",
      " 24  Lumen                     Lumen                    \n",
      " 25  Normal                    Normal                   \n",
      " 26  Normal                    Normal                   \n",
      " 27  Normal                    Normal                   \n",
      " 28  Anatomic landmarks        Anatomic landmarks       \n",
      " 29  Normal                    Normal                   \n",
      " 30  Normal                    Normal                   \n",
      " 31  Normal                    Normal                   \n",
      " 32  Normal                    Normal                   \n",
      " 33  Normal                    Normal                   \n",
      " 34  Anatomic landmarks        Anatomic landmarks       \n",
      " 35  Normal                    Normal                   \n",
      " 36  Normal                    Normal                   \n",
      " 37  Anatomic landmarks        Anatomic landmarks       \n",
      " 38  Normal                    Normal                   \n",
      " 39  Anatomic landmarks        Anatomic landmarks       \n",
      " 40  Normal                    Normal                   \n",
      " 41  Normal                    Normal                   \n",
      " 42  Normal                    Normal                   \n",
      " 43  Normal                    Normal                   \n",
      " 44  Lumen                     Lumen                    \n",
      " 45  Normal                    Normal                   \n",
      " 46  Normal                    Normal                   \n",
      " 47  Normal                    Normal                   \n",
      " 48  Lumen                     Lumen                    \n",
      " 49  Normal                    Normal                   \n",
      " 50  Excavated lesions         Excavated lesions        \n",
      " 51  Normal                    Normal                   \n",
      " 52  Normal                    Normal                   \n",
      " 53  Normal                    Normal                   \n",
      " 54  Normal                    Normal                   \n",
      " 55  Normal                    Normal                   \n",
      " 56  Normal                    Normal                   \n",
      " 57  Anatomic landmarks        Anatomic landmarks       \n",
      " 58  Normal                    Normal                   \n",
      " 59  Normal                    Normal                   \n",
      " 60  Normal                    Normal                   \n",
      " 61  Anatomic landmarks        Normal                     Wrong\n",
      " 62  Normal                    Normal                   \n",
      " 63  Normal                    Normal                   \n",
      " 64  Anatomic landmarks        Anatomic landmarks       \n",
      " 65  Normal                    Normal                   \n",
      " 66  Normal                    Normal                   \n",
      " 67  Anatomic landmarks        Anatomic landmarks       \n",
      " 68  Normal                    Normal                   \n",
      " 69  Normal                    Normal                   \n",
      " 70  Normal                    Normal                   \n",
      " 71  Anatomic landmarks        Anatomic landmarks       \n",
      " 72  Normal                    Normal                   \n",
      " 73  Normal                    Normal                   \n",
      " 74  Normal                    Normal                   \n",
      " 75  Normal                    Normal                   \n",
      " 76  Normal                    Normal                   \n",
      " 77  Normal                    Normal                   \n",
      " 78  Normal                    Normal                   \n",
      " 79  Normal                    Normal                   \n",
      " 80  Flat lesions              Flat lesions             \n",
      " 81  Normal                    Normal                   \n",
      " 82  Anatomic landmarks        Anatomic landmarks       \n",
      " 83  Normal                    Normal                   \n",
      " 84  Normal                    Normal                   \n",
      " 85  Normal                    Normal                   \n",
      " 86  Anatomic landmarks        Anatomic landmarks       \n",
      " 87  Normal                    Normal                   \n",
      " 88  Normal                    Normal                   \n",
      " 89  Normal                    Normal                   \n",
      " 90  Normal                    Normal                   \n",
      " 91  Protruding lesions        Protruding lesions       \n",
      " 92  Normal                    Normal                   \n",
      " 93  Normal                    Normal                   \n",
      " 94  Flat lesions              Flat lesions             \n",
      " 95  Normal                    Normal                   \n",
      " 96  Normal                    Normal                   \n",
      " 97  Anatomic landmarks        Anatomic landmarks       \n",
      " 98  Normal                    Normal                   \n",
      " 99  Normal                    Normal                   \n",
      "100  Normal                    Normal                   \n",
      "101  Normal                    Normal                   \n",
      "102  Flat lesions              Flat lesions             \n",
      "103  Excavated lesions         Excavated lesions        \n",
      "104  Normal                    Normal                   \n",
      "105  Normal                    Normal                   \n",
      "106  Normal                    Normal                   \n",
      "107  Normal                    Normal                   \n",
      "108  Normal                    Normal                   \n",
      "109  Normal                    Normal                   \n",
      "110  Normal                    Normal                   \n",
      "111  Normal                    Normal                   \n",
      "112  Normal                    Normal                   \n",
      "113  Normal                    Normal                   \n",
      "114  Anatomic landmarks        Anatomic landmarks       \n",
      "115  Normal                    Normal                   \n",
      "116  Anatomic landmarks        Anatomic landmarks       \n",
      "117  Anatomic landmarks        Anatomic landmarks       \n",
      "118  Normal                    Normal                   \n",
      "119  Normal                    Normal                   \n",
      "120  Normal                    Normal                   \n",
      "121  Normal                    Normal                   \n",
      "122  Anatomic landmarks        Normal                     Wrong\n",
      "123  Normal                    Normal                   \n",
      "124  Normal                    Normal                   \n",
      "125  Normal                    Normal                   \n",
      "126  Anatomic landmarks        Anatomic landmarks       \n",
      "127  Normal                    Normal                   "
     ]
    }
   ],
   "source": [
    "# Predict one batch\n",
    "predictions = resnet50_model.predict(images)\n",
    "\n",
    "print ('{:3}  {:<25} {:25}'.format('idx', 'label', 'pred'))\n",
    "print ('---  {} {}'.format(25*'-', 25*'-'), end='')\n",
    "\n",
    "# make a list to store the wrong predictions\n",
    "wrong_predictions = []\n",
    "\n",
    "for i, pred in enumerate(predictions):\n",
    "    label = params[\"class_names\"][labels[i]]\n",
    "    prediction = params[\"class_names\"][np.argmax(pred)]\n",
    "    print ('\\n{:3}  {:25} {:25}'.format(i, label, prediction), end='')\n",
    "    if (label != prediction): \n",
    "        print (\"  Wrong\", end='')\n",
    "        wrong_predictions.append(i)"
   ]
  },
  {
   "cell_type": "code",
   "execution_count": 25,
   "metadata": {},
   "outputs": [
    {
     "name": "stdout",
     "output_type": "stream",
     "text": [
      "List of wrong predictions from batch: [61, 122]\n",
      "\n",
      "\n",
      "Label: Anatomic landmarks\n",
      "Predicton: Normal\n",
      "-------------------------------------\n",
      "0.0573 Anatomic landmarks\n",
      "0.0000 Unknown\n",
      "0.0000 Protruding lesions\n",
      "0.0001 Flat lesions\n",
      "0.0007 Lumen\n",
      "0.0013 Mucosa\n",
      "\u001b[31m0.9405 Normal\u001b[0m\n",
      "0.0000 Excavated lesions\n",
      "\n",
      "\n",
      "Label: Anatomic landmarks\n",
      "Predicton: Normal\n",
      "-------------------------------------\n",
      "0.3338 Anatomic landmarks\n",
      "0.0000 Unknown\n",
      "0.0000 Protruding lesions\n",
      "0.0000 Flat lesions\n",
      "0.0003 Lumen\n",
      "0.0000 Mucosa\n",
      "\u001b[31m0.6648 Normal\u001b[0m\n",
      "0.0010 Excavated lesions\n"
     ]
    }
   ],
   "source": [
    "# Print info about wrong predictions\n",
    "print(\"List of wrong predictions from batch:\" ,wrong_predictions)\n",
    "color_string = \"\\x1b[31m{:0.4f} {}\\x1b[0m\"\n",
    "\n",
    "for i, wrong_pred in enumerate(wrong_predictions):\n",
    "    # Get a random image and label\n",
    "    rand = wrong_pred\n",
    "    image = images[rand]\n",
    "    label = labels[rand]\n",
    "    \n",
    "    # Predict one image\n",
    "    predictions = resnet50_model.predict(np.expand_dims(image, axis=0))[0]\n",
    "    pred_label = np.argmax(predictions)\n",
    "    \n",
    "    print (\"\\n\\nLabel:\", params[\"class_names\"][label])\n",
    "    print (\"Predicton:\", params[\"class_names\"][pred_label])\n",
    "    print (\"-------------------------------------\")\n",
    "    for i, pred in enumerate(predictions):\n",
    "        # print in colors\n",
    "        if i == pred_label:\n",
    "            print(color_string.format(pred, params[\"class_names\"][i]))\n",
    "        else:\n",
    "            print(\"{:0.4f} {}\".format(pred,params[\"class_names\"][i]))\n",
    "\n",
    "#     plt.figure(frameon=False, facecolor='white')\n",
    "#     plt.imshow(image)\n",
    "#     plt.axis('off');"
   ]
  }
 ],
 "metadata": {
  "kernelspec": {
   "display_name": "Python 3",
   "language": "python",
   "name": "python3"
  },
  "language_info": {
   "codemirror_mode": {
    "name": "ipython",
    "version": 3
   },
   "file_extension": ".py",
   "mimetype": "text/x-python",
   "name": "python",
   "nbconvert_exporter": "python",
   "pygments_lexer": "ipython3",
   "version": "3.7.6"
  }
 },
 "nbformat": 4,
 "nbformat_minor": 4
}
