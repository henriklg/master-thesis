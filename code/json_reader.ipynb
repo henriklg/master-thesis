{
 "cells": [
  {
   "cell_type": "code",
   "execution_count": 94,
   "metadata": {},
   "outputs": [],
   "source": [
    "import json\n",
    "import cv2\n",
    "import os\n",
    "import argparse\n",
    "\n",
    "import numpy as np\n",
    "import matplotlib.pyplot as plt"
   ]
  },
  {
   "cell_type": "code",
   "execution_count": 81,
   "metadata": {},
   "outputs": [],
   "source": [
    "def get_findings_segments(path, file):\n",
    "    \"\"\"gets a filename and return\"\"\"\n",
    "    \n",
    "    json_filename = path+file+'.json'\n",
    "    with open(json_filename, 'r') as f:\n",
    "        tag_dict = json.load(f)\n",
    "    \n",
    "    findings = tag_dict['videoFindings']\n",
    "    segments = tag_dict['videoSegments']\n",
    "    \n",
    "    return findings, segments"
   ]
  },
  {
   "cell_type": "markdown",
   "metadata": {},
   "source": [
    "## Function to extract frames\n",
    "TODO:\n",
    "- add parser\n",
    "- problem for flere findings i samme frame\n",
    "- cv2 resize"
   ]
  },
  {
   "cell_type": "code",
   "execution_count": 132,
   "metadata": {},
   "outputs": [],
   "source": [
    "def FrameCapture(path, file): \n",
    "    \n",
    "    video_name = file+'.mp4'\n",
    "    findings, segments = get_findings_segments(path, file)\n",
    "    \n",
    "    # Make directory to store images\n",
    "    try:\n",
    "        os.mkdir(path+file)\n",
    "    except OSError:\n",
    "        print (\"Creation of the directory %s failed\" % file)\n",
    "    else:\n",
    "        print (\"Successfully created the directory %s \" % file)\n",
    "    \n",
    "    # Path to video file \n",
    "    vidObj = cv2.VideoCapture(path+video_name) \n",
    "    count = 0\n",
    "    success = 1\n",
    "  \n",
    "    while success:\n",
    "        # vidObj object calls read and extract frames \n",
    "        success, image = vidObj.read()\n",
    "        \n",
    "        # Obs - problem for samme frame i flere id\n",
    "        for id in findings:\n",
    "            lesion_name = id['name'].replace(\" \",\"\")\n",
    "            frames = id['shapes']\n",
    "            \n",
    "            if str(count) in frames.keys():\n",
    "                # Saves the frames with frame-count\n",
    "                for frame, shapes in frames.items():\n",
    "                    #print ('frame =',frame)\n",
    "                    for xy in shapes:\n",
    "                        print ('x =',xy['x'],' and y =',xy['y'])\n",
    "                        #cropped_image = image[x1:x2, y1:y2]\n",
    "                        cv2.imwrite(path+file+\"/%s_%d.jpg\" % (lesion_name, count), image) \n",
    "                return 1 # break\n",
    "        count += 1"
   ]
  },
  {
   "cell_type": "code",
   "execution_count": 133,
   "metadata": {},
   "outputs": [
    {
     "name": "stdout",
     "output_type": "stream",
     "text": [
      "Creation of the directory 3ada4222967f421d failed\n",
      "frame = 2425\n",
      "x = 0.43459302325581395  and y = 183.62790697674419\n",
      "x = 168.62209302325581  and y = 183.62790697674419\n",
      "x = 168.62209302325581  and y = 333.3953488372093\n",
      "x = 0.43459302325581395  and y = 333.3953488372093\n",
      "x = 0.43459302325581395  and y = 183.62790697674419\n",
      "frame = 2426\n",
      "x = 0.43459302325581395  and y = 183.62790697674419\n",
      "x = 178.61773255813952  and y = 183.62790697674419\n",
      "x = 178.61773255813952  and y = 333.3953488372093\n",
      "x = 0.43459302325581395  and y = 333.3953488372093\n",
      "x = 0.43459302325581395  and y = 183.62790697674419\n",
      "frame = 2427\n",
      "x = 0.43459302325581395  and y = 133.70542635658916\n",
      "x = 235.54941860465115  and y = 133.70542635658916\n",
      "x = 235.54941860465115  and y = 333.3953488372093\n",
      "x = 0.43459302325581395  and y = 333.3953488372093\n",
      "x = 0.43459302325581395  and y = 133.70542635658916\n",
      "frame = 2428\n",
      "x = 0.43459302325581395  and y = 136.74418604651163\n",
      "x = 235.54941860465115  and y = 136.74418604651163\n",
      "x = 235.54941860465115  and y = 336\n",
      "x = 0.43459302325581395  and y = 336\n",
      "x = 0.43459302325581395  and y = 136.74418604651163\n",
      "frame = 2429\n",
      "x = 0.43459302325581395  and y = 151.50387596899225\n",
      "x = 259.45203488372096  and y = 151.50387596899225\n",
      "x = 259.45203488372096  and y = 336\n",
      "x = 0.43459302325581395  and y = 336\n",
      "x = 0.43459302325581395  and y = 151.50387596899225\n",
      "frame = 2430\n",
      "x = 0.8801884015307646  and y = 79.48032577764693\n",
      "x = 163.21993670886076  and y = 79.48032577764693\n",
      "x = 163.21993670886076  and y = 297.402806397802\n",
      "x = 0.8801884015307646  and y = 297.402806397802\n",
      "x = 0.8801884015307646  and y = 79.48032577764693\n",
      "frame = 2431\n",
      "x = 2.365506329113924  and y = 8.033755274261603\n",
      "x = 64.81487341772153  and y = 8.033755274261603\n",
      "x = 64.81487341772153  and y = 199.42616033755274\n",
      "x = 2.365506329113924  and y = 199.42616033755274\n",
      "x = 2.365506329113924  and y = 8.033755274261603\n",
      "frame = 2432\n",
      "x = 2.838607594936709  and y = 15.594936708860759\n",
      "x = 45.41772151898734  and y = 15.594936708860759\n",
      "x = 45.41772151898734  and y = 175.32489451476792\n",
      "x = 2.838607594936709  and y = 175.32489451476792\n",
      "x = 2.838607594936709  and y = 15.594936708860759\n"
     ]
    },
    {
     "data": {
      "text/plain": [
       "1"
      ]
     },
     "execution_count": 133,
     "metadata": {},
     "output_type": "execute_result"
    }
   ],
   "source": [
    "file = \"3ada4222967f421d\"\n",
    "path = \"../data/\"\n",
    "\n",
    "pillcam_size = 336\n",
    "\n",
    "FrameCapture(path, filename)"
   ]
  }
 ],
 "metadata": {
  "kernelspec": {
   "display_name": "Python 3",
   "language": "python",
   "name": "python3"
  },
  "language_info": {
   "codemirror_mode": {
    "name": "ipython",
    "version": 3
   },
   "file_extension": ".py",
   "mimetype": "text/x-python",
   "name": "python",
   "nbconvert_exporter": "python",
   "pygments_lexer": "ipython3",
   "version": "3.7.3"
  }
 },
 "nbformat": 4,
 "nbformat_minor": 4
}
