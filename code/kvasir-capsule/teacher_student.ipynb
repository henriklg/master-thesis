{
 "cells": [
  {
   "cell_type": "markdown",
   "metadata": {},
   "source": [
    "The goal of this notebook is to create a student-teacher model where we first train a teacher on labeled data, and then use this teacher model to label more data, then we swap out the teacher with a student and train again over all the samples. "
   ]
  },
  {
   "cell_type": "markdown",
   "metadata": {},
   "source": [
    "# Loading data"
   ]
  },
  {
   "cell_type": "code",
   "execution_count": null,
   "metadata": {},
   "outputs": [],
   "source": [
    "from __future__ import absolute_import, division, print_function, unicode_literals\n",
    "\n",
    "import tensorflow as tf\n",
    "import numpy as np\n",
    "import datetime\n",
    "import pickle\n",
    "import time\n",
    "import os\n",
    "import pathlib\n",
    "import matplotlib.pyplot as plt\n",
    "import sys\n",
    " \n",
    "# Some stuff to make utils-function work\n",
    "sys.path.append('../utils')\n",
    "from pipeline import *\n",
    "from create_model import *\n",
    "from utils import *\n",
    "from unlabeled_utils import *\n",
    "from evaluate_model import *\n",
    "%load_ext autoreload\n",
    "%autoreload 2\n",
    "\n",
    "# Jupyter-specific\n",
    "%matplotlib inline\n",
    "\n",
    "project_time = datetime.datetime.now().strftime(\"%Y%m%d-%H%M%S\")"
   ]
  },
  {
   "cell_type": "markdown",
   "metadata": {},
   "source": [
    "Some parameters"
   ]
  },
  {
   "cell_type": "code",
   "execution_count": null,
   "metadata": {},
   "outputs": [],
   "source": [
    "data_dir = pathlib.Path('/home/henriklg/master-thesis/data/kvasir-capsule/labeled_new_splits/')\n",
    "unlab_dir = pathlib.Path('/home/henriklg/master-thesis/data/kvasir-capsule/unlabeled_ttv/')\n",
    "\n",
    "iteration = 0\n",
    "dir_name = str(iteration)+\"_teacher\"\n",
    "log_dir = \"./logs/{}/{}\".format(project_time, dir_name)\n",
    "\n",
    "conf = {\n",
    "    # Dataset\n",
    "    \"data_dir\": data_dir,\n",
    "    \"unlab_dir\": unlab_dir,\n",
    "    \"ds_info\": 'kvacap',\n",
    "    \"augment\": [\"crop\",\"flip\",\"brightness\",\"saturation\",\"contrast\",\"rotate\"],\n",
    "    \"aug_mult\": 0.8,\n",
    "    \"resample\": True,\n",
    "    \"class_weight\": False,\n",
    "    \"shuffle_buffer_size\": 2000,       # no shuffling: 0\n",
    "    \"seed\": 2511,\n",
    "    \"neg_class\": None,                 # select neg class for binary ds (normal class)\n",
    "    \"outcast\": None,                   # list of folders to drop - currently only supports 1 item\n",
    "    # Model\n",
    "    \"model\": 'EfficientNetB4',\n",
    "    \"weights\": \"imagenet\",             # which weights to initialize the model with\n",
    "    \"dropout\": 0.3,\n",
    "    \"num_epochs\": 15,\n",
    "    \"batch_size\": 8,\n",
    "    \"img_shape\": (128, 128, 3),\n",
    "    \"learning_rate\": 0.001,\n",
    "    \"optimizer\": 'Adam',\n",
    "    \"final_activation\": 'softmax',     # sigmoid for binary ds\n",
    "    # Callbacks\n",
    "    \"tensorboard\": False,\n",
    "    \"decay_rate\": 0,                   # 128:0.25   64:1.0   32:4.0   16:16   8:64\n",
    "    \"checkpoint\": False,\n",
    "    \"early_stopp_patience\": 0,         # disable: 0\n",
    "    # Misc\n",
    "    \"verbosity\": 1,\n",
    "    \"keep_thresh\": 0.95,\n",
    "    \"pseudo_thresh\": 20000,\n",
    "    \"class_limit\": 1000,\n",
    "    \"dir_name\": dir_name,\n",
    "    \"log_dir\": log_dir,\n",
    "    \"cache_dir\": \"./cache\",\n",
    "    }"
   ]
  },
  {
   "cell_type": "markdown",
   "metadata": {},
   "source": [
    "Create training, testing and validation dataset from utils/data_prep.py.  \n",
    "Returns tf.dataset for shuffled, cached and batched data"
   ]
  },
  {
   "cell_type": "code",
   "execution_count": null,
   "metadata": {},
   "outputs": [],
   "source": [
    "ds = create_dataset(conf)"
   ]
  },
  {
   "cell_type": "code",
   "execution_count": null,
   "metadata": {},
   "outputs": [],
   "source": [
    "# First iteration only\n",
    "sanity = []\n",
    "ds[\"unlab\"] = create_unlab_ds(conf)\n",
    "datasets_bin = [tf_bincount(ds[\"clean_train\"], conf[\"num_classes\"])]\n",
    "ds[\"combined_train\"] = ds[\"clean_train\"]"
   ]
  },
  {
   "cell_type": "markdown",
   "metadata": {},
   "source": [
    "## Recover from previous checkpoint"
   ]
  },
  {
   "cell_type": "raw",
   "metadata": {},
   "source": [
    "project_time = \"20200623-140511\"\n",
    "log_folder = \"./logs/20200623-140511/0_teacher/\"\n",
    "\n",
    "iteration = 0\n",
    "dir_name = str(iteration)+\"_teacher\"\n",
    "log_dir = \"./logs/{}/{}\".format(project_time, dir_name)\n",
    "conf[\"log_dir\"] = log_dir"
   ]
  },
  {
   "cell_type": "raw",
   "metadata": {},
   "source": [
    "model = tf.keras.models.load_model(log_folder+\"model\")\n",
    "history = pickle.load (open (log_folder+\"history.pkl\", \"rb\"))"
   ]
  },
  {
   "cell_type": "raw",
   "metadata": {},
   "source": [
    "# Load a pickle\n",
    "pseudo = pickle.load (open (log_folder+\"pseudo_labels.pkl\", \"rb\"))"
   ]
  },
  {
   "cell_type": "markdown",
   "metadata": {},
   "source": [
    "# Step 1: Train a teacher model on labeled images"
   ]
  },
  {
   "cell_type": "code",
   "execution_count": null,
   "metadata": {},
   "outputs": [],
   "source": [
    "model = create_model(conf)"
   ]
  },
  {
   "cell_type": "code",
   "execution_count": null,
   "metadata": {},
   "outputs": [],
   "source": [
    "callbacks = create_callbacks(conf)"
   ]
  },
  {
   "cell_type": "code",
   "execution_count": null,
   "metadata": {},
   "outputs": [],
   "source": [
    "class_weights = get_class_weights(ds[\"train\"], conf)"
   ]
  },
  {
   "cell_type": "markdown",
   "metadata": {},
   "source": [
    "### Train the teacher model"
   ]
  },
  {
   "cell_type": "code",
   "execution_count": null,
   "metadata": {},
   "outputs": [],
   "source": [
    "start_time = time.time()\n",
    "\n",
    "history = model.fit(\n",
    "        ds[\"train\"],\n",
    "        steps_per_epoch = conf[\"steps\"][\"train\"],\n",
    "        epochs = conf[\"num_epochs\"],\n",
    "        validation_data = ds[\"val\"],\n",
    "        validation_steps = conf[\"steps\"][\"val\"],\n",
    "        validation_freq = 1,\n",
    "        class_weight = class_weights,\n",
    "        callbacks = callbacks,\n",
    "        verbose = 1\n",
    ")\n",
    "print (\"Time spent on training: {:.2f} minutes.\".format(np.round(time.time() - start_time)/60))"
   ]
  },
  {
   "cell_type": "markdown",
   "metadata": {},
   "source": [
    "### Evaluate the model"
   ]
  },
  {
   "cell_type": "code",
   "execution_count": null,
   "metadata": {},
   "outputs": [],
   "source": [
    "evaluate_model(model, history, ds, conf)"
   ]
  },
  {
   "cell_type": "markdown",
   "metadata": {},
   "source": [
    "# Step 2: use the teacher to generate pseudo labels on unlabeled images"
   ]
  },
  {
   "cell_type": "markdown",
   "metadata": {},
   "source": [
    "### Run predictions on all unlabeled images"
   ]
  },
  {
   "cell_type": "code",
   "execution_count": null,
   "metadata": {},
   "outputs": [],
   "source": [
    "count = {\"findings\": 0, \"total\": 0}\n",
    "pseudo = {\"pred_list\": [], \"lab_list\": [], \"name_list\": []}"
   ]
  },
  {
   "cell_type": "code",
   "execution_count": null,
   "metadata": {},
   "outputs": [],
   "source": [
    "pseudo, count = generate_labels(pseudo, count, ds[\"unlab\"], model, conf)"
   ]
  },
  {
   "cell_type": "markdown",
   "metadata": {},
   "source": [
    "## Inspect the classified images"
   ]
  },
  {
   "cell_type": "code",
   "execution_count": null,
   "metadata": {
    "scrolled": true
   },
   "outputs": [],
   "source": [
    "# Sort in order of highest confidence to lowest\n",
    "pseudo_sorted = custom_sort(pseudo)\n",
    "\n",
    "checkout_findings(pseudo_sorted, conf, show=False)"
   ]
  },
  {
   "cell_type": "markdown",
   "metadata": {},
   "source": [
    "### Resample new findings, convert to tf.tensors and concatenate with original training data, and update unlab_ds"
   ]
  },
  {
   "cell_type": "code",
   "execution_count": null,
   "metadata": {},
   "outputs": [],
   "source": [
    "datasets_bin, added_samples = resample_and_combine(ds, conf, pseudo, pseudo_sorted, datasets_bin, limit=conf[\"class_limit\"])\n",
    "\n",
    "# Update unlab_ds\n",
    "ds[\"unlab\"] = reduce_dataset(ds[\"unlab\"], remove=added_samples)\n",
    "\n",
    "sanity, conf = update_sanity(sanity, len(added_samples), datasets_bin, conf)\n",
    "sanity[-1]"
   ]
  },
  {
   "cell_type": "markdown",
   "metadata": {},
   "source": [
    "# Step 3: Train a student model on the combination of labeled images and pseudo labeled images\n",
    "\n",
    "Now we have trained a teacher model, and used that model to predict on unlabeled dataset to create more samples with psudo-labels.  \n",
    "It's time for swapping the teacher with the student!"
   ]
  },
  {
   "cell_type": "code",
   "execution_count": null,
   "metadata": {},
   "outputs": [],
   "source": [
    "# Make changes\n",
    "dir_name = str(iteration)+\"_student\"\n",
    "log_dir = \"./logs/{}/{}\".format(project_time, dir_name)\n",
    "\n",
    "# Dataset\n",
    "conf[\"log_dir\"] = log_dir\n",
    "conf[\"ds_sizes\"][\"train\"] = sanity[-1][\"curr_train_size\"]\n",
    "conf[\"steps\"][\"train\"] = sanity[-1][\"curr_train_size\"]//conf[\"batch_size\"] \n",
    "conf[\"aug_mult\"] = 0.8\n",
    "# Model\n",
    "conf[\"model\"] = 'EfficientNetB4'\n",
    "conf[\"dropout\"] = 0.2"
   ]
  },
  {
   "cell_type": "code",
   "execution_count": null,
   "metadata": {},
   "outputs": [],
   "source": [
    "ds[\"train\"] = prepare_for_training(\n",
    "        ds=ds[\"combined_train\"], \n",
    "        ds_name='train_'+dir_name,\n",
    "        conf=conf,\n",
    "        cache=True\n",
    "    )"
   ]
  },
  {
   "cell_type": "code",
   "execution_count": null,
   "metadata": {},
   "outputs": [],
   "source": [
    "# create model, callbacks and weights\n",
    "student_model = create_model(conf)\n",
    "callbacks = create_callbacks(conf) \n",
    "class_weights = get_class_weights(ds[\"train\"], conf)"
   ]
  },
  {
   "cell_type": "code",
   "execution_count": null,
   "metadata": {},
   "outputs": [],
   "source": [
    "start_time = time.time()\n",
    "\n",
    "history = model.fit(\n",
    "    ds[\"train\"],\n",
    "    steps_per_epoch = conf[\"steps\"][\"train\"], \n",
    "    epochs = conf[\"num_epochs\"],\n",
    "    validation_data = ds[\"val\"],\n",
    "    validation_steps = conf[\"steps\"][\"val\"],\n",
    "    validation_freq = 1,\n",
    "    class_weight = class_weights,\n",
    "    callbacks = callbacks\n",
    ")\n",
    "print (\"Time spent on training: {:.2f} minutes.\".format(np.round(time.time() - start_time)/60))"
   ]
  },
  {
   "cell_type": "markdown",
   "metadata": {},
   "source": [
    "### Evaluate the model"
   ]
  },
  {
   "cell_type": "code",
   "execution_count": null,
   "metadata": {},
   "outputs": [],
   "source": [
    "evaluate_model(model, history, ds, conf)"
   ]
  },
  {
   "cell_type": "code",
   "execution_count": null,
   "metadata": {},
   "outputs": [],
   "source": [
    "count = {\"findings\": 0, \"total\": 0}\n",
    "pseudo = {\"pred_list\": [], \"lab_list\": [], \"name_list\": []}"
   ]
  },
  {
   "cell_type": "code",
   "execution_count": null,
   "metadata": {},
   "outputs": [],
   "source": [
    "pseudo, count = generate_labels(pseudo, count, ds[\"unlab\"], model, conf)"
   ]
  },
  {
   "cell_type": "markdown",
   "metadata": {},
   "source": [
    "### Inspect the classified images"
   ]
  },
  {
   "cell_type": "code",
   "execution_count": null,
   "metadata": {},
   "outputs": [],
   "source": [
    "# Sort in order of highest confidence to lowest\n",
    "pseudo_sorted = custom_sort(pseudo)\n",
    "\n",
    "checkout_findings(pseudo_sorted, conf, show=False)"
   ]
  },
  {
   "cell_type": "markdown",
   "metadata": {},
   "source": [
    "### Resample new findings, convert to tf.tensors and concatenate with original training data, and update unlab_ds"
   ]
  },
  {
   "cell_type": "code",
   "execution_count": null,
   "metadata": {},
   "outputs": [],
   "source": [
    "datasets_bin, added_samples = resample_and_combine(ds, conf, pseudo, pseudo_sorted, datasets_bin, limit=conf[\"class_limit\"])\n",
    "\n",
    "# Update unlab_ds\n",
    "ds[\"unlab\"] = reduce_dataset(ds[\"unlab\"], remove=added_samples)\n",
    "\n",
    "sanity, conf = update_sanity(sanity, len(added_samples), datasets_bin, conf)\n",
    "sanity[-1]"
   ]
  },
  {
   "cell_type": "markdown",
   "metadata": {},
   "source": [
    "# Step 4: Iterate this algorithm a few times by treating the student as a teacher to relabel the unlabeled data and training a new student"
   ]
  },
  {
   "cell_type": "markdown",
   "metadata": {},
   "source": [
    "# Second iteration - Part 1\n",
    "# --- Teacher 2 ---"
   ]
  },
  {
   "cell_type": "code",
   "execution_count": null,
   "metadata": {},
   "outputs": [],
   "source": [
    "# Make changes\n",
    "iteration += 1\n",
    "dir_name = str(iteration)+\"_teacher\"\n",
    "log_dir = \"./logs/{}/{}\".format(project_time, dir_name)\n",
    "\n",
    "# Dataset\n",
    "conf[\"log_dir\"] = log_dir\n",
    "conf[\"ds_sizes\"][\"train\"] = sanity[1][\"curr_train_size\"]\n",
    "conf[\"aug_mult\"] = 0.2\n",
    "# Model\n",
    "conf[\"model\"] = 'EfficientNetB0'\n",
    "conf[\"dropout\"] = 0.1"
   ]
  },
  {
   "cell_type": "code",
   "execution_count": null,
   "metadata": {},
   "outputs": [],
   "source": [
    "ds[\"train\"] = prepare_for_training(\n",
    "        ds=ds[\"combined_train\"], \n",
    "        ds_name='train_'+dir_name,\n",
    "        conf=conf,\n",
    "        cache=True\n",
    "    )"
   ]
  },
  {
   "cell_type": "code",
   "execution_count": null,
   "metadata": {},
   "outputs": [],
   "source": [
    "# create model, callbacks and weights\n",
    "model = create_model(conf)\n",
    "callbacks = create_callbacks(conf) \n",
    "class_weights = get_class_weights(ds[\"train\"], conf)"
   ]
  },
  {
   "cell_type": "code",
   "execution_count": null,
   "metadata": {},
   "outputs": [],
   "source": [
    "start_time = time.time()\n",
    "\n",
    "history = model.fit(\n",
    "    ds[\"train\"],\n",
    "    steps_per_epoch = conf[\"steps\"][\"train\"], \n",
    "    epochs = conf[\"num_epochs\"],\n",
    "    validation_data = ds[\"val\"],\n",
    "    validation_steps = conf[\"steps\"][\"val\"],\n",
    "    validation_freq = 1,\n",
    "    class_weight = class_weights,\n",
    "    callbacks = callbacks\n",
    ")\n",
    "print (\"Time spent on training: {:.2f} minutes.\".format(np.round(time.time() - start_time)/60))"
   ]
  },
  {
   "cell_type": "markdown",
   "metadata": {},
   "source": [
    "## Evaluate the model"
   ]
  },
  {
   "cell_type": "code",
   "execution_count": null,
   "metadata": {},
   "outputs": [],
   "source": [
    "evaluate_model(model, history, ds, conf)"
   ]
  },
  {
   "cell_type": "code",
   "execution_count": null,
   "metadata": {},
   "outputs": [],
   "source": [
    "count = {\"findings\": 0, \"total\": 0}\n",
    "pseudo = {\"pred_list\": [], \"lab_list\": [], \"name_list\": []}"
   ]
  },
  {
   "cell_type": "code",
   "execution_count": null,
   "metadata": {},
   "outputs": [],
   "source": [
    "pseudo, count = generate_labels(pseudo, count, ds[\"unlab\"], model, conf)"
   ]
  },
  {
   "cell_type": "markdown",
   "metadata": {},
   "source": [
    "### Inspect the classified images"
   ]
  },
  {
   "cell_type": "code",
   "execution_count": null,
   "metadata": {},
   "outputs": [],
   "source": [
    "# Sort in order of highest confidence to lowest\n",
    "pseudo_sorted = custom_sort(pseudo)\n",
    "\n",
    "checkout_findings(pseudo_sorted, conf, show=False)"
   ]
  },
  {
   "cell_type": "markdown",
   "metadata": {},
   "source": [
    "### Resample new findings, convert to tf.tensors and concatenate with original training data, and update unlab_ds"
   ]
  },
  {
   "cell_type": "code",
   "execution_count": null,
   "metadata": {},
   "outputs": [],
   "source": [
    "datasets_bin, added_samples = resample_and_combine(ds, conf, pseudo, pseudo_sorted, datasets_bin, limit=conf[\"class_limit\"])\n",
    "\n",
    "# Update unlab_ds\n",
    "ds[\"unlab\"] = reduce_dataset(ds[\"unlab\"], remove=added_samples)\n",
    "\n",
    "sanity, conf = update_sanity(sanity, len(added_samples), datasets_bin, conf)\n",
    "sanity[-1]"
   ]
  },
  {
   "cell_type": "markdown",
   "metadata": {},
   "source": [
    "# Second Iteration - part 2\n",
    "# -- Student 2 ---"
   ]
  },
  {
   "cell_type": "code",
   "execution_count": null,
   "metadata": {},
   "outputs": [],
   "source": [
    "# Make changes\n",
    "dir_name = str(iteration)+\"_student\"\n",
    "log_dir = \"./logs/{}/{}\".format(project_time, dir_name)\n",
    "\n",
    "# Dataset\n",
    "conf[\"log_dir\"] = log_dir\n",
    "conf[\"ds_sizes\"][\"train\"] = sanity[-1][\"curr_train_size\"]\n",
    "conf[\"steps\"][\"train\"] = sanity[-1][\"curr_train_size\"]//conf[\"batch_size\"] \n",
    "conf[\"aug_mult\"] = 0.6\n",
    "# Model\n",
    "conf[\"model\"] = 'EfficientNetB4'\n",
    "conf[\"dropout\"] = 0.2"
   ]
  },
  {
   "cell_type": "code",
   "execution_count": null,
   "metadata": {},
   "outputs": [],
   "source": [
    "ds[\"train\"] = prepare_for_training(\n",
    "        ds=ds[\"combined_train\"], \n",
    "        ds_name='train_'+dir_name,\n",
    "        conf=conf,\n",
    "        cache=True\n",
    "    )"
   ]
  },
  {
   "cell_type": "code",
   "execution_count": null,
   "metadata": {},
   "outputs": [],
   "source": [
    "# create model, callbacks and weights\n",
    "model = create_model(conf)\n",
    "callbacks = create_callbacks(conf) \n",
    "class_weights = get_class_weights(ds[\"train\"], conf)"
   ]
  },
  {
   "cell_type": "code",
   "execution_count": null,
   "metadata": {},
   "outputs": [],
   "source": [
    "start_time = time.time()\n",
    "\n",
    "history = model.fit(\n",
    "    ds[\"train\"],\n",
    "    steps_per_epoch = conf[\"steps\"][\"train\"], \n",
    "    epochs = conf[\"num_epochs\"],\n",
    "    validation_data = ds[\"val\"],\n",
    "    validation_steps = conf[\"steps\"][\"val\"],\n",
    "    validation_freq = 1,\n",
    "    class_weight = class_weights,\n",
    "    callbacks = callbacks\n",
    ")\n",
    "print (\"Time spent on training: {:.2f} minutes.\".format(np.round(time.time() - start_time)/60))"
   ]
  },
  {
   "cell_type": "markdown",
   "metadata": {},
   "source": [
    "## Evaluate the model"
   ]
  },
  {
   "cell_type": "code",
   "execution_count": null,
   "metadata": {},
   "outputs": [],
   "source": [
    "evaluate_model(model, history, ds, conf)"
   ]
  },
  {
   "cell_type": "code",
   "execution_count": null,
   "metadata": {},
   "outputs": [],
   "source": [
    "count = {\"findings\": 0, \"total\": 0}\n",
    "pseudo = {\"pred_list\": [], \"lab_list\": [], \"name_list\": []}"
   ]
  },
  {
   "cell_type": "code",
   "execution_count": null,
   "metadata": {},
   "outputs": [],
   "source": [
    "pseudo, count = generate_labels(pseudo, count, ds[\"unlab\"], model, conf)"
   ]
  },
  {
   "cell_type": "markdown",
   "metadata": {},
   "source": [
    "### Inspect the classified images"
   ]
  },
  {
   "cell_type": "code",
   "execution_count": null,
   "metadata": {},
   "outputs": [],
   "source": [
    "# Sort in order of highest confidence to lowest\n",
    "pseudo_sorted = custom_sort(pseudo)\n",
    "\n",
    "checkout_findings(pseudo_sorted, conf, show=False)"
   ]
  },
  {
   "cell_type": "markdown",
   "metadata": {},
   "source": [
    "### Resample new findings, convert to tf.tensors and concatenate with original training data, and update unlab_ds"
   ]
  },
  {
   "cell_type": "code",
   "execution_count": null,
   "metadata": {},
   "outputs": [],
   "source": [
    "datasets_bin, added_samples = resample_and_combine(ds, conf, pseudo, pseudo_sorted, datasets_bin, limit=conf[\"class_limit\"])\n",
    "\n",
    "# Update unlab_ds\n",
    "ds[\"unlab\"] = reduce_dataset(ds[\"unlab\"], remove=added_samples)\n",
    "\n",
    "sanity, conf = update_sanity(sanity, len(added_samples), datasets_bin, conf)\n",
    "sanity[-1]"
   ]
  },
  {
   "cell_type": "markdown",
   "metadata": {},
   "source": [
    "# Third iteration - Part 1\n",
    "# --- Teacher 3 ---"
   ]
  },
  {
   "cell_type": "code",
   "execution_count": null,
   "metadata": {},
   "outputs": [],
   "source": [
    "# Make changes\n",
    "iteration += 1\n",
    "dir_name = str(iteration)+\"_teacher\"\n",
    "log_dir = \"./logs/{}/{}\".format(project_time, dir_name)\n",
    "\n",
    "# Dataset\n",
    "conf[\"log_dir\"] = log_dir\n",
    "conf[\"ds_sizes\"][\"train\"] = sanity[-1][\"curr_train_size\"]\n",
    "conf[\"steps\"][\"train\"] = sanity[-1][\"curr_train_size\"]//conf[\"batch_size\"] \n",
    "conf[\"aug_mult\"] = 0.2\n",
    "# Model\n",
    "conf[\"model\"] = 'EfficientNetB0'\n",
    "conf[\"dropout\"] = 0.1"
   ]
  },
  {
   "cell_type": "code",
   "execution_count": null,
   "metadata": {},
   "outputs": [],
   "source": [
    "ds[\"train\"] = prepare_for_training(\n",
    "        ds=ds[\"combined_train\"], \n",
    "        ds_name='train_'+dir_name,\n",
    "        conf=conf,\n",
    "        cache=True\n",
    "    )"
   ]
  },
  {
   "cell_type": "code",
   "execution_count": null,
   "metadata": {},
   "outputs": [],
   "source": [
    "# create model, callbacks and weights\n",
    "model = create_model(conf)\n",
    "callbacks = create_callbacks(conf) \n",
    "class_weights = get_class_weights(ds[\"train\"], conf)"
   ]
  },
  {
   "cell_type": "code",
   "execution_count": null,
   "metadata": {},
   "outputs": [],
   "source": [
    "start_time = time.time()\n",
    "\n",
    "history = model.fit(\n",
    "    ds[\"train\"],\n",
    "    steps_per_epoch = conf[\"steps\"][\"train\"], \n",
    "    epochs = conf[\"num_epochs\"],\n",
    "    validation_data = ds[\"val\"],\n",
    "    validation_steps = conf[\"steps\"][\"val\"],\n",
    "    validation_freq = 1,\n",
    "    class_weight = class_weights,\n",
    "    callbacks = callbacks\n",
    ")\n",
    "print (\"Time spent on training: {:.2f} minutes.\".format(np.round(time.time() - start_time)/60))"
   ]
  },
  {
   "cell_type": "markdown",
   "metadata": {},
   "source": [
    "## Evaluate the model"
   ]
  },
  {
   "cell_type": "code",
   "execution_count": null,
   "metadata": {},
   "outputs": [],
   "source": [
    "evaluate_model(model, history, ds, conf)"
   ]
  },
  {
   "cell_type": "code",
   "execution_count": null,
   "metadata": {},
   "outputs": [],
   "source": [
    "count = {\"findings\": 0, \"total\": 0}\n",
    "pseudo = {\"pred_list\": [], \"lab_list\": [], \"name_list\": []}"
   ]
  },
  {
   "cell_type": "code",
   "execution_count": null,
   "metadata": {},
   "outputs": [],
   "source": [
    "pseudo, count = generate_labels(pseudo, count, ds[\"unlab\"], model, conf)"
   ]
  },
  {
   "cell_type": "markdown",
   "metadata": {},
   "source": [
    "### Inspect the classified images"
   ]
  },
  {
   "cell_type": "code",
   "execution_count": null,
   "metadata": {},
   "outputs": [],
   "source": [
    "# Sort in order of highest confidence to lowest\n",
    "pseudo_sorted = custom_sort(pseudo)\n",
    "\n",
    "checkout_findings(pseudo_sorted, conf, show=False)"
   ]
  },
  {
   "cell_type": "markdown",
   "metadata": {},
   "source": [
    "### Resample new findings, convert to tf.tensors and concatenate with original training data, and update unlab_ds"
   ]
  },
  {
   "cell_type": "code",
   "execution_count": null,
   "metadata": {},
   "outputs": [],
   "source": [
    "datasets_bin, added_samples = resample_and_combine(ds, conf, pseudo, pseudo_sorted, datasets_bin, limit=conf[\"class_limit\"])\n",
    "\n",
    "# Update unlab_ds\n",
    "ds[\"unlab\"] = reduce_dataset(ds[\"unlab\"], remove=added_samples)\n",
    "\n",
    "sanity, conf = update_sanity(sanity, len(added_samples), datasets_bin, conf)\n",
    "sanity[-1]"
   ]
  },
  {
   "cell_type": "markdown",
   "metadata": {},
   "source": [
    "# Third Iteration - part 2\n",
    "# -- Student 3 ---"
   ]
  },
  {
   "cell_type": "code",
   "execution_count": null,
   "metadata": {},
   "outputs": [],
   "source": [
    "# Make changes\n",
    "dir_name = str(iteration)+\"_student\"\n",
    "log_dir = \"./logs/{}/{}\".format(project_time, dir_name)\n",
    "\n",
    "# Dataset\n",
    "conf[\"log_dir\"] = log_dir\n",
    "conf[\"ds_sizes\"][\"train\"] = sanity[-1][\"curr_train_size\"]\n",
    "conf[\"steps\"][\"train\"] = sanity[-1][\"curr_train_size\"]//conf[\"batch_size\"] \n",
    "conf[\"aug_mult\"] = 0.6\n",
    "# Model\n",
    "conf[\"model\"] = 'EfficientNetB4'\n",
    "conf[\"dropout\"] = 0.2"
   ]
  },
  {
   "cell_type": "code",
   "execution_count": null,
   "metadata": {},
   "outputs": [],
   "source": [
    "ds[\"train\"] = prepare_for_training(\n",
    "        ds=ds[\"combined_train\"], \n",
    "        ds_name='train_'+dir_name,\n",
    "        conf=conf,\n",
    "        cache=True\n",
    "    )"
   ]
  },
  {
   "cell_type": "code",
   "execution_count": null,
   "metadata": {},
   "outputs": [],
   "source": [
    "# create model, callbacks and weights\n",
    "model = create_model(conf)\n",
    "callbacks = create_callbacks(conf) \n",
    "class_weights = get_class_weights(ds[\"train\"], conf)"
   ]
  },
  {
   "cell_type": "code",
   "execution_count": null,
   "metadata": {},
   "outputs": [],
   "source": [
    "start_time = time.time()\n",
    "\n",
    "history = model.fit(\n",
    "    ds[\"train\"],\n",
    "    steps_per_epoch = conf[\"steps\"][\"train\"], \n",
    "    epochs = conf[\"num_epochs\"],\n",
    "    validation_data = ds[\"val\"],\n",
    "    validation_steps = conf[\"steps\"][\"val\"],\n",
    "    validation_freq = 1,\n",
    "    class_weight = class_weights,\n",
    "    callbacks = callbacks\n",
    ")\n",
    "print (\"Time spent on training: {:.2f} minutes.\".format(np.round(time.time() - start_time)/60))"
   ]
  },
  {
   "cell_type": "markdown",
   "metadata": {},
   "source": [
    "## Evaluate the model"
   ]
  },
  {
   "cell_type": "code",
   "execution_count": null,
   "metadata": {},
   "outputs": [],
   "source": [
    "evaluate_model(model, history, ds, conf)"
   ]
  },
  {
   "cell_type": "code",
   "execution_count": null,
   "metadata": {},
   "outputs": [],
   "source": [
    "count = {\"findings\": 0, \"total\": 0}\n",
    "pseudo = {\"pred_list\": [], \"lab_list\": [], \"name_list\": []}"
   ]
  },
  {
   "cell_type": "code",
   "execution_count": null,
   "metadata": {},
   "outputs": [],
   "source": [
    "pseudo, count = generate_labels(pseudo, count, ds[\"unlab\"], model, conf)"
   ]
  },
  {
   "cell_type": "markdown",
   "metadata": {},
   "source": [
    "### Inspect the classified images"
   ]
  },
  {
   "cell_type": "code",
   "execution_count": null,
   "metadata": {},
   "outputs": [],
   "source": [
    "# Sort in order of highest confidence to lowest\n",
    "pseudo_sorted = custom_sort(pseudo)\n",
    "\n",
    "checkout_findings(pseudo_sorted, conf, show=False)"
   ]
  },
  {
   "cell_type": "markdown",
   "metadata": {},
   "source": [
    "### Resample new findings, convert to tf.tensors and concatenate with original training data, and update unlab_ds"
   ]
  },
  {
   "cell_type": "code",
   "execution_count": null,
   "metadata": {},
   "outputs": [],
   "source": [
    "datasets_bin, added_samples = resample_and_combine(ds, conf, pseudo, pseudo_sorted, datasets_bin, limit=conf[\"class_limit\"])\n",
    "\n",
    "# Update unlab_ds\n",
    "ds[\"unlab\"] = reduce_dataset(ds[\"unlab\"], remove=added_samples)\n",
    "\n",
    "sanity, conf = update_sanity(sanity, len(added_samples), datasets_bin, conf)\n",
    "sanity[-1]"
   ]
  },
  {
   "cell_type": "code",
   "execution_count": null,
   "metadata": {},
   "outputs": [],
   "source": []
  },
  {
   "cell_type": "markdown",
   "metadata": {},
   "source": [
    "# 4th iteration - Part 1\n",
    "# --- Teacher 4 ---"
   ]
  },
  {
   "cell_type": "code",
   "execution_count": null,
   "metadata": {},
   "outputs": [],
   "source": [
    "# Make changes\n",
    "iteration += 1\n",
    "dir_name = str(iteration)+\"_teacher\"\n",
    "log_dir = \"./logs/{}/{}\".format(project_time, dir_name)\n",
    "\n",
    "# Dataset\n",
    "conf[\"log_dir\"] = log_dir\n",
    "conf[\"ds_sizes\"][\"train\"] = sanity[-1][\"curr_train_size\"]\n",
    "conf[\"steps\"][\"train\"] = sanity[-1][\"curr_train_size\"]//conf[\"batch_size\"] \n",
    "conf[\"aug_mult\"] = 0.2\n",
    "# Model\n",
    "conf[\"model\"] = 'EfficientNetB0'\n",
    "conf[\"dropout\"] = 0.1\n",
    "\n",
    "conf[\"class_limit\"] = 2500"
   ]
  },
  {
   "cell_type": "code",
   "execution_count": null,
   "metadata": {},
   "outputs": [],
   "source": [
    "ds[\"train\"] = prepare_for_training(\n",
    "        ds=ds[\"combined_train\"], \n",
    "        ds_name='train_'+dir_name,\n",
    "        conf=conf,\n",
    "        cache=True\n",
    "    )"
   ]
  },
  {
   "cell_type": "code",
   "execution_count": null,
   "metadata": {},
   "outputs": [],
   "source": [
    "# create model, callbacks and weights\n",
    "model = create_model(conf)\n",
    "callbacks = create_callbacks(conf) \n",
    "class_weights = get_class_weights(ds[\"train\"], conf)"
   ]
  },
  {
   "cell_type": "code",
   "execution_count": null,
   "metadata": {},
   "outputs": [],
   "source": [
    "start_time = time.time()\n",
    "\n",
    "history = model.fit(\n",
    "    ds[\"train\"],\n",
    "    steps_per_epoch = conf[\"steps\"][\"train\"], \n",
    "    epochs = conf[\"num_epochs\"],\n",
    "    validation_data = ds[\"val\"],\n",
    "    validation_steps = conf[\"steps\"][\"val\"],\n",
    "    validation_freq = 1,\n",
    "    class_weight = class_weights,\n",
    "    callbacks = callbacks\n",
    ")\n",
    "print (\"Time spent on training: {:.2f} minutes.\".format(np.round(time.time() - start_time)/60))"
   ]
  },
  {
   "cell_type": "markdown",
   "metadata": {},
   "source": [
    "## Evaluate the model"
   ]
  },
  {
   "cell_type": "code",
   "execution_count": null,
   "metadata": {},
   "outputs": [],
   "source": [
    "evaluate_model(model, history, ds, conf)"
   ]
  },
  {
   "cell_type": "code",
   "execution_count": null,
   "metadata": {},
   "outputs": [],
   "source": [
    "count = {\"findings\": 0, \"total\": 0}\n",
    "pseudo = {\"pred_list\": [], \"lab_list\": [], \"name_list\": []}"
   ]
  },
  {
   "cell_type": "code",
   "execution_count": null,
   "metadata": {},
   "outputs": [],
   "source": [
    "pseudo, count = generate_labels(pseudo, count, ds[\"unlab\"], model, conf)"
   ]
  },
  {
   "cell_type": "markdown",
   "metadata": {},
   "source": [
    "### Inspect the classified images"
   ]
  },
  {
   "cell_type": "code",
   "execution_count": null,
   "metadata": {},
   "outputs": [],
   "source": [
    "# Sort in order of highest confidence to lowest\n",
    "pseudo_sorted = custom_sort(pseudo)\n",
    "\n",
    "checkout_findings(pseudo_sorted, conf, show=False)"
   ]
  },
  {
   "cell_type": "markdown",
   "metadata": {},
   "source": [
    "### Resample new findings, convert to tf.tensors and concatenate with original training data, and update unlab_ds"
   ]
  },
  {
   "cell_type": "code",
   "execution_count": null,
   "metadata": {},
   "outputs": [],
   "source": [
    "datasets_bin, added_samples = resample_and_combine(ds, conf, pseudo, pseudo_sorted, datasets_bin, limit=conf[\"class_limit\"])\n",
    "\n",
    "# Update unlab_ds\n",
    "ds[\"unlab\"] = reduce_dataset(ds[\"unlab\"], remove=added_samples)\n",
    "\n",
    "sanity, conf = update_sanity(sanity, len(added_samples), datasets_bin, conf)\n",
    "sanity[-1]"
   ]
  },
  {
   "cell_type": "markdown",
   "metadata": {},
   "source": [
    "# 4th Iteration - part 2\n",
    "# -- Student 4 ---"
   ]
  },
  {
   "cell_type": "code",
   "execution_count": null,
   "metadata": {},
   "outputs": [],
   "source": [
    "# Make changes\n",
    "dir_name = str(iteration)+\"_student\"\n",
    "log_dir = \"./logs/{}/{}\".format(project_time, dir_name)\n",
    "\n",
    "# Dataset\n",
    "conf[\"log_dir\"] = log_dir\n",
    "conf[\"ds_sizes\"][\"train\"] = sanity[-1][\"curr_train_size\"]\n",
    "conf[\"steps\"][\"train\"] = sanity[-1][\"curr_train_size\"]//conf[\"batch_size\"] \n",
    "conf[\"aug_mult\"] = 0.6\n",
    "# Model\n",
    "conf[\"model\"] = 'EfficientNetB4'\n",
    "conf[\"dropout\"] = 0.2"
   ]
  },
  {
   "cell_type": "code",
   "execution_count": null,
   "metadata": {},
   "outputs": [],
   "source": [
    "ds[\"train\"] = prepare_for_training(\n",
    "        ds=ds[\"combined_train\"], \n",
    "        ds_name='train_'+dir_name,\n",
    "        conf=conf,\n",
    "        cache=True\n",
    "    )"
   ]
  },
  {
   "cell_type": "code",
   "execution_count": null,
   "metadata": {},
   "outputs": [],
   "source": [
    "# create model, callbacks and weights\n",
    "model = create_model(conf)\n",
    "callbacks = create_callbacks(conf) \n",
    "class_weights = get_class_weights(ds[\"train\"], conf)"
   ]
  },
  {
   "cell_type": "code",
   "execution_count": null,
   "metadata": {},
   "outputs": [],
   "source": [
    "start_time = time.time()\n",
    "\n",
    "history = model.fit(\n",
    "    ds[\"train\"],\n",
    "    steps_per_epoch = conf[\"steps\"][\"train\"], \n",
    "    epochs = conf[\"num_epochs\"],\n",
    "    validation_data = ds[\"val\"],\n",
    "    validation_steps = conf[\"steps\"][\"val\"],\n",
    "    validation_freq = 1,\n",
    "    class_weight = class_weights,\n",
    "    callbacks = callbacks\n",
    ")\n",
    "print (\"Time spent on training: {:.2f} minutes.\".format(np.round(time.time() - start_time)/60))"
   ]
  },
  {
   "cell_type": "markdown",
   "metadata": {},
   "source": [
    "## Evaluate the model"
   ]
  },
  {
   "cell_type": "code",
   "execution_count": null,
   "metadata": {},
   "outputs": [],
   "source": [
    "evaluate_model(model, history, ds, conf)"
   ]
  },
  {
   "cell_type": "code",
   "execution_count": null,
   "metadata": {},
   "outputs": [],
   "source": [
    "count = {\"findings\": 0, \"total\": 0}\n",
    "pseudo = {\"pred_list\": [], \"lab_list\": [], \"name_list\": []}"
   ]
  },
  {
   "cell_type": "code",
   "execution_count": null,
   "metadata": {},
   "outputs": [],
   "source": [
    "pseudo, count = generate_labels(pseudo, count, ds[\"unlab\"], model, conf)"
   ]
  },
  {
   "cell_type": "markdown",
   "metadata": {},
   "source": [
    "### Inspect the classified images"
   ]
  },
  {
   "cell_type": "code",
   "execution_count": null,
   "metadata": {},
   "outputs": [],
   "source": [
    "# Sort in order of highest confidence to lowest\n",
    "pseudo_sorted = custom_sort(pseudo)\n",
    "\n",
    "checkout_findings(pseudo_sorted, conf, show=False)"
   ]
  },
  {
   "cell_type": "markdown",
   "metadata": {},
   "source": [
    "### Resample new findings, convert to tf.tensors and concatenate with original training data, and update unlab_ds"
   ]
  },
  {
   "cell_type": "code",
   "execution_count": null,
   "metadata": {},
   "outputs": [],
   "source": [
    "datasets_bin, added_samples = resample_and_combine(ds, conf, pseudo, pseudo_sorted, datasets_bin, limit=conf[\"class_limit\"])\n",
    "\n",
    "# Update unlab_ds\n",
    "ds[\"unlab\"] = reduce_dataset(ds[\"unlab\"], remove=added_samples)\n",
    "\n",
    "sanity, conf = update_sanity(sanity, len(added_samples), datasets_bin, conf)\n",
    "sanity[-1]"
   ]
  }
 ],
 "metadata": {
  "kernelspec": {
   "display_name": "Python 3",
   "language": "python",
   "name": "python3"
  },
  "language_info": {
   "codemirror_mode": {
    "name": "ipython",
    "version": 3
   },
   "file_extension": ".py",
   "mimetype": "text/x-python",
   "name": "python",
   "nbconvert_exporter": "python",
   "pygments_lexer": "ipython3",
   "version": "3.7.6"
  }
 },
 "nbformat": 4,
 "nbformat_minor": 4
}
