{
 "cells": [
  {
   "cell_type": "markdown",
   "metadata": {},
   "source": [
    "CIFAR10 dataset split into neg/pos and trained using normal CNN without augmentation. With ds resampling (see https://www.tensorflow.org/guide/data#resampling). Learning well with normal CNN."
   ]
  },
  {
   "cell_type": "markdown",
   "metadata": {},
   "source": [
    "### Loading images\n",
    "https://www.tensorflow.org/tutorials/load_data/images"
   ]
  },
  {
   "cell_type": "code",
   "execution_count": 1,
   "metadata": {
    "scrolled": true
   },
   "outputs": [],
   "source": [
    "from __future__ import absolute_import, division, print_function, unicode_literals\n",
    "\n",
    "import tensorflow as tf\n",
    "\n",
    "import numpy as np\n",
    "import os\n",
    "import pathlib\n",
    "import matplotlib.pyplot as plt\n",
    "\n",
    "# Jupyter-specific\n",
    "%matplotlib inline"
   ]
  },
  {
   "cell_type": "code",
   "execution_count": 2,
   "metadata": {
    "scrolled": true
   },
   "outputs": [],
   "source": [
    "AUTOTUNE = tf.data.experimental.AUTOTUNE\n",
    "\n",
    "MODEL = 'cnn' \n",
    "DS_INFO = 'binary'\n",
    "NUM_EPOCHS = 10\n",
    "BATCH_SIZE = 64\n",
    "IMG_HEIGHT = 32\n",
    "IMG_WIDTH = 32\n",
    "\n",
    "NUM_CHANNELS = 3\n",
    "IMG_SIZE = (IMG_HEIGHT, IMG_WIDTH, NUM_CHANNELS)\n",
    "\n",
    "# epoch*batch_size*img_size\n",
    "model_name = '{}x{}x{}_{}_{}'.format(NUM_EPOCHS, BATCH_SIZE, IMG_WIDTH, DS_INFO, MODEL)"
   ]
  },
  {
   "cell_type": "code",
   "execution_count": 3,
   "metadata": {},
   "outputs": [],
   "source": [
    "def print_class_info(directories_ex_outcast, class_names, neg, pos):\n",
    "    # Extract and print info about the class split \n",
    "    \n",
    "    for i, class_ in enumerate([neg,pos]):\n",
    "        print (\"{} class names:\".format(class_names[i]))\n",
    "        for cl in class_:\n",
    "            print (\"{}- {}\".format(\" \"*8, cl))\n",
    "    \n",
    "    neg_count = pos_count = 0\n",
    "    for dir_name in directories_ex_outcast:\n",
    "        # Number of samples in 'class_name' folder\n",
    "        class_samples = len(list(data_dir.glob(dir_name+'/*.*g')))\n",
    "\n",
    "        if (dir_name == neg_class_name[0]):\n",
    "            neg_count += class_samples\n",
    "        else:\n",
    "            pos_count += class_samples\n",
    "\n",
    "    print ('\\nNegative samples: {0:5} | {1:5.2f}%'.format(neg_count, neg_count/DATASET_SIZE*100))\n",
    "    print ('Positive samples: {0:5} | {1:5.2f}%'.format(pos_count, pos_count/DATASET_SIZE*100))\n",
    "    # Print number of images in dataset (excluded samples in outcast)\n",
    "    print ('\\nTotal number of images:', DATASET_SIZE)"
   ]
  },
  {
   "cell_type": "code",
   "execution_count": 4,
   "metadata": {},
   "outputs": [
    {
     "name": "stdout",
     "output_type": "stream",
     "text": [
      "Directories:  ['cat' 'airplane' 'deer' 'automobile' 'ship' 'horse' 'truck' 'dog' 'bird'\n",
      " 'frog']\n",
      "\n",
      "Removed outcast:  None \n",
      "\n",
      "Negative class names:\n",
      "        - ship\n",
      "Positive class names:\n",
      "        - cat\n",
      "        - airplane\n",
      "        - deer\n",
      "        - automobile\n",
      "        - horse\n",
      "        - truck\n",
      "        - dog\n",
      "        - bird\n",
      "        - frog\n",
      "\n",
      "Negative samples:  5000 | 10.00%\n",
      "Positive samples: 45000 | 90.00%\n",
      "\n",
      "Total number of images: 50000\n"
     ]
    }
   ],
   "source": [
    "data_dir = pathlib.Path('/mnt/sdb/cifar10/train/')\n",
    "outcast = 'None'\n",
    "\n",
    "DATASET_SIZE = len(list(data_dir.glob('[!'+str(outcast)+']*/*.*g')))\n",
    "directories = np.array([item.name for item in data_dir.glob('*') if item.name != 'metadata.json'])\n",
    "print (\"Directories: \", directories)\n",
    "\n",
    "# Remove outcasts\n",
    "directories_ex_outcast = np.delete(directories, np.where(outcast == directories))\n",
    "print (\"\\nRemoved outcast: \", outcast, \"\\n\")\n",
    "\n",
    "class_names = np.array(['Negative','Positive'])\n",
    "NUM_CLASSES = len(class_names)\n",
    "neg_class_name = ['ship'] # 'normal'-class\n",
    "pos_class_names = np.delete(directories_ex_outcast, np.where(neg_class_name == directories_ex_outcast))\n",
    "\n",
    "print_class_info(directories_ex_outcast, class_names, neg_class_name, pos_class_names)"
   ]
  },
  {
   "cell_type": "markdown",
   "metadata": {},
   "source": [
    "Set up pipeline for loading images from given list of paths, using `tf.data.Dataset`"
   ]
  },
  {
   "cell_type": "code",
   "execution_count": 5,
   "metadata": {},
   "outputs": [],
   "source": [
    "# Create a dataset of the file paths | data_dir/*/* but subract class\n",
    "list_ds = tf.data.Dataset.list_files(str(data_dir/'[!')+str(outcast+']*/*'))"
   ]
  },
  {
   "cell_type": "code",
   "execution_count": 6,
   "metadata": {},
   "outputs": [],
   "source": [
    "# convert a file path to an `image_data, label` pair\n",
    "\n",
    "def get_label(file_path):\n",
    "    parts = tf.strings.split(file_path, os.path.sep)\n",
    "    bc = parts[-2] == pos_class_names\n",
    "    nz_cnt = tf.math.count_nonzero(bc)\n",
    "    if (nz_cnt > 0):\n",
    "        return tf.constant(1, tf.int32)\n",
    "    return tf.constant(0, tf.int32)\n",
    "\n",
    "def decode_img(img):\n",
    "    # convert the compressed string to a 3D uint8 tensor\n",
    "    img = tf.image.decode_jpeg(img, channels=3)\n",
    "    # Use `convert_image_dtype` to convert to floats in the [0,1] range.\n",
    "    img = tf.image.convert_image_dtype(img, tf.float32)\n",
    "    # resize the image to the desired size.\n",
    "    return tf.image.resize(img, [IMG_WIDTH, IMG_HEIGHT])\n",
    "\n",
    "def process_path(file_path):\n",
    "    label = get_label(file_path)\n",
    "    # load the raw data from the file as a string\n",
    "    img = tf.io.read_file(file_path)\n",
    "    img = decode_img(img)\n",
    "    return img, label\n",
    "\n",
    "labeled_ds = list_ds.map(process_path, num_parallel_calls=AUTOTUNE)"
   ]
  },
  {
   "cell_type": "markdown",
   "metadata": {},
   "source": [
    "Showing an example image/label pair"
   ]
  },
  {
   "cell_type": "code",
   "execution_count": 99,
   "metadata": {},
   "outputs": [],
   "source": [
    "def show_image(img):\n",
    "    if (isinstance(img, tf.data.Dataset)):\n",
    "        for image, label in img:\n",
    "            plt.figure(frameon=False, facecolor='white')\n",
    "            title = class_names[label.numpy()]+\" [\"+str(label.numpy())+\"]\"\n",
    "            plt.title(title, fontdict={'color':'white','size':20})\n",
    "            plt.imshow(image.numpy())\n",
    "            plt.axis('off')\n",
    "    else:\n",
    "        plt.figure(frameon=False, facecolor='white')\n",
    "        plt.title(\"None\", fontdict={'color':'white','size':20})\n",
    "        plt.imshow(img)\n",
    "        plt.axis('off')\n",
    "\n",
    "# Take one image\n",
    "show_image(labeled_ds.take(1))"
   ]
  },
  {
   "cell_type": "markdown",
   "metadata": {},
   "source": [
    "### Resampling the dataset to a 50/50 distribution\n",
    "https://www.tensorflow.org/guide/data#resampling"
   ]
  },
  {
   "cell_type": "code",
   "execution_count": 8,
   "metadata": {},
   "outputs": [],
   "source": [
    "# Make large batches to be certain a good amount of minority class makes it in\n",
    "labeled_ds = labeled_ds.batch(1024)"
   ]
  },
  {
   "cell_type": "code",
   "execution_count": 9,
   "metadata": {},
   "outputs": [],
   "source": [
    "def count(counts, batch):\n",
    "        images, labels = batch\n",
    "        \n",
    "        class_1 = labels == 1\n",
    "        class_1 = tf.cast(class_1, tf.int32)\n",
    "\n",
    "        class_0 = labels == 0\n",
    "        class_0 = tf.cast(class_0, tf.int32)\n",
    "\n",
    "        counts['class_0'] += tf.reduce_sum(class_0)\n",
    "        counts['class_1'] += tf.reduce_sum(class_1)\n",
    "\n",
    "        return counts"
   ]
  },
  {
   "cell_type": "code",
   "execution_count": 10,
   "metadata": {},
   "outputs": [
    {
     "name": "stdout",
     "output_type": "stream",
     "text": [
      "Fractions:  [0.0975586 0.9024414]\n",
      "Counts:  [ 999. 9241.]\n"
     ]
    }
   ],
   "source": [
    "counts = labeled_ds.take(10).reduce(\n",
    "        initial_state={'class_0': 0, 'class_1': 0},\n",
    "        reduce_func = count)\n",
    "\n",
    "counts = np.array([counts['class_0'].numpy(),\n",
    "                   counts['class_1'].numpy()]).astype(np.float32)\n",
    "\n",
    "counts_sum = counts.sum()\n",
    "assert counts_sum != 0, \"Can't divide by zero\"\n",
    "\n",
    "fractions = counts/counts_sum\n",
    "print(\"Fractions: \", fractions)\n",
    "print(\"Counts: \", counts)"
   ]
  },
  {
   "cell_type": "code",
   "execution_count": 11,
   "metadata": {},
   "outputs": [],
   "source": [
    "negative_ds = labeled_ds.unbatch().filter(lambda image, label: label==0).repeat()\n",
    "positive_ds = labeled_ds.unbatch().filter(lambda image, label: label==1).repeat()"
   ]
  },
  {
   "cell_type": "code",
   "execution_count": 14,
   "metadata": {},
   "outputs": [],
   "source": [
    "balanced_ds = tf.data.experimental.sample_from_datasets(\n",
    "    [negative_ds, positive_ds], [0.5, 0.5]).batch(10)"
   ]
  },
  {
   "cell_type": "code",
   "execution_count": 15,
   "metadata": {},
   "outputs": [
    {
     "name": "stdout",
     "output_type": "stream",
     "text": [
      "[1 1 1 0 0 1 0 1 0 1]\n",
      "[0 1 1 1 1 0 1 0 1 1]\n",
      "[1 1 1 1 1 0 0 1 0 1]\n",
      "[1 1 0 0 0 0 1 1 1 0]\n",
      "[0 1 1 0 1 1 1 1 1 0]\n",
      "[0 0 0 1 1 1 0 0 0 0]\n",
      "[0 0 0 0 1 0 1 0 1 1]\n",
      "[0 0 0 0 1 1 1 0 1 0]\n",
      "[1 1 0 1 1 1 1 1 1 0]\n",
      "[1 0 0 0 0 0 1 0 0 0]\n"
     ]
    }
   ],
   "source": [
    "for features, labels in balanced_ds.take(10):\n",
    "  print(labels.numpy())"
   ]
  },
  {
   "cell_type": "code",
   "execution_count": null,
   "metadata": {},
   "outputs": [],
   "source": [
    "# Verify that it has been resampled\n",
    "counts = balanced_ds.take(30).reduce(\n",
    "        initial_state={'class_0': 0, 'class_1': 0},\n",
    "        reduce_func = count)\n",
    "\n",
    "counts = np.array([counts['class_0'].numpy(),\n",
    "                   counts['class_1'].numpy()]).astype(np.float32)\n",
    "\n",
    "print(counts/counts.sum())"
   ]
  },
  {
   "cell_type": "markdown",
   "metadata": {},
   "source": [
    "### Splitting into training, test and validation data"
   ]
  },
  {
   "cell_type": "code",
   "execution_count": 16,
   "metadata": {},
   "outputs": [],
   "source": [
    "train_size = int(0.7 * DATASET_SIZE)\n",
    "val_size = int(0.15 * DATASET_SIZE)\n",
    "test_size = int(0.15 * DATASET_SIZE)\n",
    "\n",
    "shuffled_ds = balanced_ds.unbatch()#.shuffle(buffer_size=10000)\n",
    "\n",
    "train_ds = shuffled_ds.take(train_size)\n",
    "test_ds = shuffled_ds.skip(train_size)\n",
    "val_ds = test_ds.skip(val_size)\n",
    "test_ds = test_ds.take(test_size)"
   ]
  },
  {
   "cell_type": "code",
   "execution_count": 17,
   "metadata": {},
   "outputs": [],
   "source": [
    "def prepare_for_training(ds, cache=True, shuffle_buffer_size=3000):\n",
    "    # This is a small dataset, only load it once, and keep it in memory.\n",
    "    # use `.cache(filename)` to cache preprocessing work for datasets that don't\n",
    "    # fit in memory.\n",
    "    if cache:\n",
    "      if isinstance(cache, str):\n",
    "        ds = ds.cache(cache)\n",
    "      else:\n",
    "        ds = ds.cache()\n",
    "\n",
    "    ds = ds.shuffle(buffer_size=shuffle_buffer_size)\n",
    "\n",
    "    # Repeat forever\n",
    "    ds = ds.repeat()\n",
    "\n",
    "    ds = ds.batch(BATCH_SIZE)\n",
    "\n",
    "    # `prefetch` lets the dataset fetch batches in the background while the model\n",
    "    # is training.\n",
    "    ds = ds.prefetch(buffer_size=AUTOTUNE)\n",
    "    return ds\n",
    "\n",
    "# Create training, test and validation dataset\n",
    "train_ds = prepare_for_training(train_ds, cache=\"./cache/{}_train.tfcache\".format(IMG_WIDTH))\n",
    "test_ds = prepare_for_training(test_ds, cache=\"./cache/{}_test.tfcache\".format(IMG_WIDTH))\n",
    "val_ds = prepare_for_training(val_ds, cache=\"./cache/{}_val.tfcache\".format(IMG_WIDTH))"
   ]
  },
  {
   "cell_type": "markdown",
   "metadata": {},
   "source": [
    "# Training"
   ]
  },
  {
   "cell_type": "markdown",
   "metadata": {},
   "source": [
    "### Normal CNN\n",
    "See https://www.tensorflow.org/tutorials/images/cnn"
   ]
  },
  {
   "cell_type": "code",
   "execution_count": 88,
   "metadata": {},
   "outputs": [],
   "source": [
    "from tensorflow.keras import datasets, layers, models\n",
    "\n",
    "from tensorflow.keras.models import Sequential\n",
    "from tensorflow.keras.layers import Dense, Conv2D, Flatten, Dropout, MaxPooling2D\n",
    "from tensorflow.keras.layers import BatchNormalization"
   ]
  },
  {
   "cell_type": "code",
   "execution_count": 89,
   "metadata": {},
   "outputs": [],
   "source": [
    "cnn_model = models.Sequential()\n",
    "\n",
    "cnn_model.add(layers.Conv2D(32, (3, 3), activation='relu', input_shape=(IMG_HEIGHT, IMG_WIDTH, NUM_CHANNELS)))\n",
    "cnn_model.add(BatchNormalization())\n",
    "cnn_model.add(layers.MaxPooling2D((2, 2)))\n",
    "\n",
    "cnn_model.add(layers.Conv2D(64, (3, 3), activation='relu'))\n",
    "cnn_model.add(BatchNormalization())\n",
    "cnn_model.add(layers.MaxPooling2D((2, 2)))\n",
    "\n",
    "cnn_model.add(layers.Conv2D(64, (3, 3), activation='relu'))\n",
    "cnn_model.add(BatchNormalization())\n",
    "\n",
    "cnn_model.add(layers.Flatten())\n",
    "cnn_model.add(layers.Dense(64, activation='relu'))\n",
    "cnn_model.add(layers.Dropout(0.2))\n",
    "cnn_model.add(layers.Dense(NUM_CLASSES, activation='softmax'))"
   ]
  },
  {
   "cell_type": "code",
   "execution_count": 90,
   "metadata": {},
   "outputs": [
    {
     "name": "stdout",
     "output_type": "stream",
     "text": [
      "Model: \"sequential\"\n",
      "_________________________________________________________________\n",
      "Layer (type)                 Output Shape              Param #   \n",
      "=================================================================\n",
      "conv2d (Conv2D)              (None, 30, 30, 32)        896       \n",
      "_________________________________________________________________\n",
      "batch_normalization (BatchNo (None, 30, 30, 32)        128       \n",
      "_________________________________________________________________\n",
      "max_pooling2d (MaxPooling2D) (None, 15, 15, 32)        0         \n",
      "_________________________________________________________________\n",
      "conv2d_1 (Conv2D)            (None, 13, 13, 64)        18496     \n",
      "_________________________________________________________________\n",
      "batch_normalization_1 (Batch (None, 13, 13, 64)        256       \n",
      "_________________________________________________________________\n",
      "max_pooling2d_1 (MaxPooling2 (None, 6, 6, 64)          0         \n",
      "_________________________________________________________________\n",
      "conv2d_2 (Conv2D)            (None, 4, 4, 64)          36928     \n",
      "_________________________________________________________________\n",
      "batch_normalization_2 (Batch (None, 4, 4, 64)          256       \n",
      "_________________________________________________________________\n",
      "flatten (Flatten)            (None, 1024)              0         \n",
      "_________________________________________________________________\n",
      "dense (Dense)                (None, 64)                65600     \n",
      "_________________________________________________________________\n",
      "dropout (Dropout)            (None, 64)                0         \n",
      "_________________________________________________________________\n",
      "dense_1 (Dense)              (None, 2)                 130       \n",
      "=================================================================\n",
      "Total params: 122,690\n",
      "Trainable params: 122,370\n",
      "Non-trainable params: 320\n",
      "_________________________________________________________________\n"
     ]
    }
   ],
   "source": [
    "cnn_model.summary()"
   ]
  },
  {
   "cell_type": "raw",
   "metadata": {},
   "source": [
    "# Save image of layers\n",
    "tf.keras.utils.plot_model(cnn_model, 'models/{}.png'.format(model_name), show_shapes=True)"
   ]
  },
  {
   "cell_type": "code",
   "execution_count": 91,
   "metadata": {},
   "outputs": [],
   "source": [
    "cnn_model.compile(optimizer='adam',\n",
    "              loss='sparse_categorical_crossentropy',\n",
    "              metrics=['accuracy'])\n",
    "\n",
    "callbacks = [tf.keras.callbacks.TensorBoard(log_dir='./logs/{}'.format(MODEL), update_freq='batch')]"
   ]
  },
  {
   "cell_type": "code",
   "execution_count": 92,
   "metadata": {},
   "outputs": [
    {
     "name": "stdout",
     "output_type": "stream",
     "text": [
      "Train for 546 steps, validate for 117 steps\n",
      "Epoch 1/10\n",
      "546/546 [==============================] - 35s 65ms/step - loss: 0.3022 - accuracy: 0.8768 - val_loss: 0.2696 - val_accuracy: 0.8865\n",
      "Epoch 2/10\n",
      "546/546 [==============================] - 3s 6ms/step - loss: 0.1709 - accuracy: 0.9337 - val_loss: 0.2140 - val_accuracy: 0.9072\n",
      "Epoch 3/10\n",
      "546/546 [==============================] - 3s 6ms/step - loss: 0.1244 - accuracy: 0.9526 - val_loss: 0.3594 - val_accuracy: 0.8775\n",
      "Epoch 4/10\n",
      "546/546 [==============================] - 3s 6ms/step - loss: 0.0885 - accuracy: 0.9660 - val_loss: 0.1414 - val_accuracy: 0.9439\n",
      "Epoch 5/10\n",
      "546/546 [==============================] - 3s 6ms/step - loss: 0.0676 - accuracy: 0.9754 - val_loss: 0.1060 - val_accuracy: 0.9654\n",
      "Epoch 6/10\n",
      "546/546 [==============================] - 3s 6ms/step - loss: 0.0543 - accuracy: 0.9801 - val_loss: 0.2898 - val_accuracy: 0.9145\n",
      "Epoch 7/10\n",
      "546/546 [==============================] - 3s 6ms/step - loss: 0.0435 - accuracy: 0.9835 - val_loss: 0.1039 - val_accuracy: 0.9626\n",
      "Epoch 8/10\n",
      "546/546 [==============================] - 3s 6ms/step - loss: 0.0377 - accuracy: 0.9865 - val_loss: 0.2641 - val_accuracy: 0.9284\n",
      "Epoch 9/10\n",
      "546/546 [==============================] - 3s 6ms/step - loss: 0.0349 - accuracy: 0.9877 - val_loss: 0.0919 - val_accuracy: 0.9667\n",
      "Epoch 10/10\n",
      "546/546 [==============================] - 3s 6ms/step - loss: 0.0305 - accuracy: 0.9893 - val_loss: 0.0604 - val_accuracy: 0.9817\n"
     ]
    }
   ],
   "source": [
    "history = cnn_model.fit(\n",
    "        train_ds,\n",
    "        steps_per_epoch = train_size // BATCH_SIZE,\n",
    "        epochs = NUM_EPOCHS,\n",
    "        validation_data = test_ds,\n",
    "        validation_steps = test_size // BATCH_SIZE,\n",
    "        validation_freq = 1,\n",
    "        callbacks = callbacks)"
   ]
  },
  {
   "cell_type": "markdown",
   "metadata": {},
   "source": [
    "`Keras`\n",
    "Save/load the model"
   ]
  },
  {
   "cell_type": "code",
   "execution_count": null,
   "metadata": {},
   "outputs": [],
   "source": [
    "# cnn_model.save('models/{}.h5'.format(model_name))\n",
    "# cnn_model = tf.keras.models.load_model('models/{}.h5'.format(model_name))"
   ]
  },
  {
   "cell_type": "markdown",
   "metadata": {},
   "source": [
    "## Validate the results"
   ]
  },
  {
   "cell_type": "code",
   "execution_count": 93,
   "metadata": {},
   "outputs": [
    {
     "name": "stdout",
     "output_type": "stream",
     "text": [
      "117/117 - 21s - loss: 0.0585 - accuracy: 0.9824\n"
     ]
    }
   ],
   "source": [
    "cnn_evaluate = cnn_model.evaluate(val_ds, verbose=2, steps=val_size//BATCH_SIZE)"
   ]
  },
  {
   "cell_type": "code",
   "execution_count": 94,
   "metadata": {},
   "outputs": [
    {
     "data": {
      "image/png": "[encoded data removed]",
      "text/plain": [
       "<Figure size 1008x432 with 2 Axes>"
      ]
     },
     "metadata": {
      "needs_background": "light"
     },
     "output_type": "display_data"
    }
   ],
   "source": [
    "acc = history.history['accuracy']\n",
    "val_acc = history.history['val_accuracy']\n",
    "loss = history.history['loss']\n",
    "val_loss = history.history['val_loss']\n",
    "\n",
    "epochs_range = range(NUM_EPOCHS)\n",
    "\n",
    "plt.figure(figsize=(14, 6))\n",
    "\n",
    "# Subplot 1\n",
    "plt.subplot(1, 2, 1)\n",
    "plt.plot(epochs_range, acc, label='Training Accuracy')\n",
    "plt.plot(epochs_range, val_acc, label='Validation Accuracy')\n",
    "plt.legend(loc='lower right')\n",
    "# plt.ylim([0.5, 1])\n",
    "plt.xlabel('Epoch')\n",
    "plt.ylabel('Accuracy')\n",
    "plt.title('Training and Validation Accuracy')\n",
    "\n",
    "# Subplot 2\n",
    "plt.subplot(1, 2, 2)\n",
    "plt.plot(epochs_range, loss, label='Training Loss')\n",
    "plt.plot(epochs_range, val_loss, label='Validation Loss')\n",
    "plt.legend(loc='upper right')\n",
    "# plt.ylim([0.5, 1])\n",
    "plt.xlabel('Epoch')\n",
    "plt.ylabel('Accuracy')\n",
    "plt.title('Training and Validation Loss')\n",
    "plt.show()"
   ]
  },
  {
   "cell_type": "markdown",
   "metadata": {},
   "source": [
    "`Tensorboard`"
   ]
  },
  {
   "cell_type": "raw",
   "metadata": {},
   "source": [
    "from tensorboard import notebook\n",
    "# Load the TensorBoard notebook extension\n",
    "# %load_ext tensorboard\n",
    "\n",
    "# Start tensorboard\n",
    "# %tensorboard --logdir logs"
   ]
  },
  {
   "cell_type": "raw",
   "metadata": {},
   "source": [
    "# Clear any logs from previous runs (move to .old instead?)\n",
    "!rm -rf ./logs/\n",
    "\n",
    "# Stop tensorboard\n",
    "notebook.list()\n",
    "!kill 20058"
   ]
  },
  {
   "cell_type": "markdown",
   "metadata": {},
   "source": [
    "## Predict new samples"
   ]
  },
  {
   "cell_type": "code",
   "execution_count": 95,
   "metadata": {},
   "outputs": [],
   "source": [
    "# Fetch one batch\n",
    "images, labels = next(iter(val_ds))\n",
    "\n",
    "# Convert from tensor to numpy array\n",
    "images = images.numpy()\n",
    "labels = labels.numpy()"
   ]
  },
  {
   "cell_type": "code",
   "execution_count": 108,
   "metadata": {},
   "outputs": [
    {
     "data": {
      "text/plain": [
       "'Positive'"
      ]
     },
     "execution_count": 108,
     "metadata": {},
     "output_type": "execute_result"
    }
   ],
   "source": [
    "class_names[1]"
   ]
  },
  {
   "cell_type": "code",
   "execution_count": 114,
   "metadata": {},
   "outputs": [
    {
     "name": "stdout",
     "output_type": "stream",
     "text": [
      "0.9993 | Negative\n",
      "0.0007 | Positive\n",
      "Image 5 of 64\n"
     ]
    },
    {
     "data": {
      "image/png": "[encoded data removed]",
      "text/plain": [
       "<Figure size 432x288 with 1 Axes>"
      ]
     },
     "metadata": {},
     "output_type": "display_data"
    }
   ],
   "source": [
    "# Get a random image and label\n",
    "rand = np.random.randint(0, BATCH_SIZE)\n",
    "image = images[rand]\n",
    "label = labels[rand]\n",
    "\n",
    "# Predict one image\n",
    "predictions = cnn_model.predict(np.expand_dims(image, axis=0))[0]\n",
    "\n",
    "for i, pred in enumerate(predictions,):\n",
    "    print(\"{:0.4f} | {}\".format(pred, class_names[i]))\n",
    "\n",
    "prediction = ('Boat') if np.argmax(predictions)==0 else ('Not boat')\n",
    "\n",
    "print (\"Image {} of {}\".format(rand, BATCH_SIZE))\n",
    "\n",
    "plt.figure(frameon=False, facecolor='white');\n",
    "plt.title(prediction, fontdict={'color':'white','size':20})\n",
    "plt.imshow(image)\n",
    "plt.axis('off');"
   ]
  },
  {
   "cell_type": "code",
   "execution_count": 115,
   "metadata": {},
   "outputs": [
    {
     "name": "stdout",
     "output_type": "stream",
     "text": [
      "[2.6689336e-04 9.9973315e-01]\n",
      "idx  label  pred\n",
      "---  -----  ----\n",
      "\n",
      "  0  Pos    Pos  \n",
      "  1  Pos    Pos  \n",
      "  2  Neg    Neg  \n",
      "  3  Neg    Neg  \n",
      "  4  Pos    Pos  \n",
      "  5  Neg    Neg  \n",
      "  6  Neg    Neg  \n",
      "  7  Pos    Pos  \n",
      "  8  Pos    Pos  \n",
      "  9  Neg    Neg  \n",
      " 10  Neg    Neg  \n",
      " 11  Pos    Pos  \n",
      " 12  Neg    Neg  \n",
      " 13  Pos    Pos  \n",
      " 14  Pos    Pos  \n",
      " 15  Neg    Neg  \n",
      " 16  Pos    Pos  \n",
      " 17  Neg    Neg  \n",
      " 18  Pos    Pos  \n",
      " 19  Neg    Neg  \n",
      " 20  Pos    Pos  \n",
      " 21  Neg    Neg  \n",
      " 22  Pos    Pos  \n",
      " 23  Pos    Pos  \n",
      " 24  Neg    Neg  \n",
      " 25  Pos    Pos  \n",
      " 26  Neg    Neg  \n",
      " 27  Pos    Pos  \n",
      " 28  Pos    Pos  \n",
      " 29  Neg    Neg  \n",
      " 30  Neg    Neg  \n",
      " 31  Pos    Pos  \n",
      " 32  Pos    Pos  \n",
      " 33  Neg    Neg  \n",
      " 34  Neg    Neg  \n",
      " 35  Pos    Pos  \n",
      " 36  Pos    Pos  \n",
      " 37  Pos    Pos  \n",
      " 38  Neg    Neg  \n",
      " 39  Pos    Pos  \n",
      " 40  Neg    Neg  \n",
      " 41  Pos    Pos  \n",
      " 42  Neg    Neg  \n",
      " 43  Neg    Neg  \n",
      " 44  Neg    Neg  \n",
      " 45  Pos    Pos  \n",
      " 46  Pos    Pos  \n",
      " 47  Neg    Neg  \n",
      " 48  Pos    Pos  \n",
      " 49  Pos    Pos  \n",
      " 50  Pos    Pos  \n",
      " 51  Neg    Neg  \n",
      " 52  Neg    Neg  \n",
      " 53  Neg    Neg  \n",
      " 54  Pos    Pos  \n",
      " 55  Pos    Pos  \n",
      " 56  Neg    Pos  Wrong\n",
      " 57  Neg    Neg  \n",
      " 58  Neg    Neg  \n",
      " 59  Pos    Pos  \n",
      " 60  Pos    Pos  \n",
      " 61  Pos    Pos  \n",
      " 62  Pos    Pos  \n",
      " 63  Pos    Pos  "
     ]
    }
   ],
   "source": [
    "# Predict one batch\n",
    "predictions = cnn_model.predict(images)\n",
    "\n",
    "print ('{:3}  {:5}  {:3}'.format('idx', 'label', 'pred'))\n",
    "print ('---  -----  ----')\n",
    "\n",
    "for i, pred in enumerate(predictions):\n",
    "    label = class_names[labels[i]][0:3]\n",
    "    prediction = class_names[np.argmax(pred)][0:3]\n",
    "    print ('\\n{:3}  {:5}  {:5}'.format(i, label, prediction), end='')\n",
    "    if (label != prediction): print (\"Wrong\", end='')"
   ]
  },
  {
   "cell_type": "code",
   "execution_count": null,
   "metadata": {},
   "outputs": [],
   "source": []
  }
 ],
 "metadata": {
  "kernelspec": {
   "display_name": "TF2",
   "language": "python",
   "name": "tf2"
  },
  "language_info": {
   "codemirror_mode": {
    "name": "ipython",
    "version": 3
   },
   "file_extension": ".py",
   "mimetype": "text/x-python",
   "name": "python",
   "nbconvert_exporter": "python",
   "pygments_lexer": "ipython3",
   "version": "3.7.6"
  }
 },
 "nbformat": 4,
 "nbformat_minor": 4
}
