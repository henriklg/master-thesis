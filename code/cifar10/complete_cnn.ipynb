{
 "cells": [
  {
   "cell_type": "markdown",
   "metadata": {},
   "source": [
    "CIFAR10 dataset trained on all classes with 'normal' CNN without augmentation."
   ]
  },
  {
   "cell_type": "markdown",
   "metadata": {},
   "source": [
    "### Loading images\n",
    "https://www.tensorflow.org/tutorials/load_data/images"
   ]
  },
  {
   "cell_type": "code",
   "execution_count": 1,
   "metadata": {},
   "outputs": [],
   "source": [
    "from __future__ import absolute_import, division, print_function, unicode_literals\n",
    "\n",
    "import tensorflow as tf\n",
    "\n",
    "import numpy as np\n",
    "import os\n",
    "import pathlib\n",
    "import matplotlib.pyplot as plt\n",
    "\n",
    "# Jupyter-specific\n",
    "%matplotlib inline"
   ]
  },
  {
   "cell_type": "code",
   "execution_count": 43,
   "metadata": {},
   "outputs": [],
   "source": [
    "AUTOTUNE = tf.data.experimental.AUTOTUNE\n",
    "\n",
    "MODEL = 'cnn' \n",
    "DS_INFO = 'complete'\n",
    "NUM_EPOCHS = 50\n",
    "BATCH_SIZE = 64\n",
    "\n",
    "IMG_HEIGHT = 32\n",
    "IMG_WIDTH = 32\n",
    "NUM_CHANNELS = 3\n",
    "IMG_SIZE = (IMG_HEIGHT, IMG_WIDTH, NUM_CHANNELS)\n",
    "\n",
    "# epoch*batch_size*img_size\n",
    "model_name = '{}x{}x{}_{}_{}'.format(NUM_EPOCHS, BATCH_SIZE, IMG_WIDTH, DS_INFO, MODEL)"
   ]
  },
  {
   "cell_type": "markdown",
   "metadata": {},
   "source": [
    "Some parameters"
   ]
  },
  {
   "cell_type": "code",
   "execution_count": 3,
   "metadata": {},
   "outputs": [
    {
     "name": "stdout",
     "output_type": "stream",
     "text": [
      "Class names:  ['cat' 'airplane' 'deer' 'automobile' 'ship' 'horse' 'truck' 'dog' 'bird'\n",
      " 'frog']\n"
     ]
    }
   ],
   "source": [
    "data_dir = pathlib.Path('/mnt/sdb/cifar10/')\n",
    "outcast = 'None'\n",
    "\n",
    "DATASET_SIZE = len(list(data_dir.glob('*/*/*.*g')))\n",
    "STEPS_PER_EPOCH = np.ceil(DATASET_SIZE/BATCH_SIZE)\n",
    "\n",
    "directories = np.array([item.name for item in data_dir.glob('train/*') if item.name != 'metadata.json'])\n",
    "\n",
    "class_names = directories\n",
    "NUM_CLASSES = len(directories)\n",
    "print (\"Class names: \", class_names)"
   ]
  },
  {
   "cell_type": "code",
   "execution_count": 4,
   "metadata": {},
   "outputs": [],
   "source": [
    "# Create a dataset of the file paths\n",
    "list_ds = tf.data.Dataset.list_files(str(data_dir/'*/*'))"
   ]
  },
  {
   "cell_type": "code",
   "execution_count": 5,
   "metadata": {},
   "outputs": [
    {
     "name": "stdout",
     "output_type": "stream",
     "text": [
      "cat               : 6000\n",
      "airplane          : 6000\n",
      "deer              : 6000\n",
      "automobile        : 6000\n",
      "ship              : 6000\n",
      "horse             : 6000\n",
      "truck             : 6000\n",
      "dog               : 6000\n",
      "bird              : 6000\n",
      "frog              : 6000\n",
      "\n",
      "Total number of images: 60000, in 10 classes\n"
     ]
    }
   ],
   "source": [
    "samples_per_class = []\n",
    "for class_name in class_names:\n",
    "    class_samples = len(list(data_dir.glob('*/'+class_name+'/*.*g')))\n",
    "    samples_per_class.append(class_samples)\n",
    "    print('{0:18}: {1:3d}'.format(class_name, class_samples))\n",
    "\n",
    "print ('\\nTotal number of images: {}, in {} classes'.format(DATASET_SIZE, NUM_CLASSES))\n",
    "\n",
    "# If one class contains more than half of the entire sample size\n",
    "if np.max(samples_per_class) > DATASET_SIZE//2:\n",
    "    print (\"But the dataset is mainly shit\")"
   ]
  },
  {
   "cell_type": "markdown",
   "metadata": {},
   "source": [
    "### Loading images with `tf.data.Dataset`."
   ]
  },
  {
   "cell_type": "code",
   "execution_count": 6,
   "metadata": {},
   "outputs": [],
   "source": [
    "# Create a dataset of the file paths\n",
    "list_ds = tf.data.Dataset.list_files(str(data_dir/'*/*/*.png'))"
   ]
  },
  {
   "cell_type": "markdown",
   "metadata": {},
   "source": [
    "A short pure-tensorflow function that converts a file path to an `image_data, label` pair:"
   ]
  },
  {
   "cell_type": "code",
   "execution_count": 7,
   "metadata": {},
   "outputs": [],
   "source": [
    "def get_label(file_path):\n",
    "    # convert the path to a list of path components\n",
    "    parts = tf.strings.split(file_path, os.path.sep)\n",
    "    # get class integer from class-list\n",
    "    label_int = tf.reduce_min(tf.where(tf.equal(parts[-2], class_names)))\n",
    "    # cast to tensor array with dtype=uint8\n",
    "    return tf.dtypes.cast(label_int, tf.int32)\n",
    "\n",
    "def decode_img(img):\n",
    "    # convert the compressed string to a 3D uint8 tensor\n",
    "    img = tf.image.decode_jpeg(img, channels=3)\n",
    "    # Use `convert_image_dtype` to convert to floats in the [0,1] range.\n",
    "    img = tf.image.convert_image_dtype(img, tf.float32)\n",
    "    # resize the image to the desired size.\n",
    "    return tf.image.resize(img, [IMG_WIDTH, IMG_HEIGHT])\n",
    "\n",
    "def process_path(file_path):\n",
    "    label = get_label(file_path)\n",
    "    # load the raw data from the file as a string\n",
    "    img = tf.io.read_file(file_path)\n",
    "    img = decode_img(img)\n",
    "    return img, label\n",
    "\n",
    "# Set 'num_parallel_calls' so multiple images are loaded and processed in parallel\n",
    "labeled_ds = list_ds.map(process_path, num_parallel_calls=AUTOTUNE)"
   ]
  },
  {
   "cell_type": "markdown",
   "metadata": {},
   "source": [
    "Showing an example image/label pair"
   ]
  },
  {
   "cell_type": "code",
   "execution_count": 8,
   "metadata": {},
   "outputs": [
    {
     "data": {
      "image/png": "[encoded data removed]",
      "text/plain": [
       "<Figure size 432x288 with 1 Axes>"
      ]
     },
     "metadata": {},
     "output_type": "display_data"
    }
   ],
   "source": [
    "def show_image(img):\n",
    "    if (isinstance(img, tf.data.Dataset)):\n",
    "        for image, label in img:\n",
    "            plt.figure(frameon=False, facecolor='white')\n",
    "            title = class_names[label.numpy()]#+\" [\"+str(label.numpy())+\"]\"\n",
    "            plt.title(title, fontdict={'color':'white','size':20})\n",
    "            plt.imshow(image.numpy())\n",
    "            plt.axis('off')\n",
    "    else:\n",
    "        plt.figure(frameon=False, facecolor='white')\n",
    "        plt.title(\"None\", fontdict={'color':'white','size':20})\n",
    "        plt.imshow(img.numpy())\n",
    "        plt.axis('off')\n",
    "\n",
    "# Take one image\n",
    "show_image(labeled_ds.take(1))"
   ]
  },
  {
   "cell_type": "markdown",
   "metadata": {},
   "source": [
    "### Prepare dataset for training\n",
    "Want the data to be shuffled and batched. Here we use the `tf.data` api."
   ]
  },
  {
   "cell_type": "markdown",
   "metadata": {},
   "source": [
    "Split into training, test and validation dataset"
   ]
  },
  {
   "cell_type": "code",
   "execution_count": 9,
   "metadata": {},
   "outputs": [],
   "source": [
    "train_size = int(0.7 * DATASET_SIZE)\n",
    "val_size = int(0.15 * DATASET_SIZE)\n",
    "test_size = int(0.15 * DATASET_SIZE)\n",
    "\n",
    "train_ds = labeled_ds.take(train_size)\n",
    "test_ds = labeled_ds.skip(train_size)\n",
    "val_ds = test_ds.skip(val_size)\n",
    "test_ds = test_ds.take(test_size)"
   ]
  },
  {
   "cell_type": "raw",
   "metadata": {},
   "source": [
    "def augment(img, label):\n",
    "    # Augment the image using tf.image\n",
    "    # Standardize\n",
    "    img = tf.image.per_image_standardization(img)\n",
    "    # Pad with 8 pixels\n",
    "    img = tf.image.resize_with_crop_or_pad(img, IMG_HEIGHT + 8, IMG_WIDTH + 8)\n",
    "    # Randomly crop the image back to original size\n",
    "    img = tf.image.random_crop(img, [IMG_HEIGHT, IMG_WIDTH, NUM_CHANNELS])\n",
    "    # Randomly flip image\n",
    "    img = tf.image.random_flip_left_right(img)\n",
    "    return img, label\n",
    "\n",
    "# Augment the training data\n",
    "train_ds = train_ds.map(augment, num_parallel_calls=AUTOTUNE)"
   ]
  },
  {
   "cell_type": "code",
   "execution_count": 10,
   "metadata": {},
   "outputs": [
    {
     "name": "stdout",
     "output_type": "stream",
     "text": [
      "Full dataset sample size:        60000\n",
      "Train dataset sample size:       42000\n",
      "Test dataset sample size:         9000\n",
      "Validation dataset sample size:   9000\n"
     ]
    }
   ],
   "source": [
    "def get_size(ds):\n",
    "    return tf.data.experimental.cardinality(ds).numpy()\n",
    "\n",
    "print (\"{:32} {:>5}\".format(\"Full dataset sample size:\", get_size(labeled_ds)))\n",
    "print (\"{:32} {:>5}\".format(\"Train dataset sample size:\", get_size(train_ds)))\n",
    "print (\"{:32} {:>5}\".format(\"Test dataset sample size:\", get_size(test_ds)))\n",
    "print (\"{:32} {:>5}\".format(\"Validation dataset sample size:\", get_size(val_ds)))"
   ]
  },
  {
   "cell_type": "code",
   "execution_count": 11,
   "metadata": {},
   "outputs": [],
   "source": [
    "def prepare_for_training(ds, cache=True, shuffle_buffer_size=3000):\n",
    "    # This is a small dataset, only load it once, and keep it in memory.\n",
    "    # use `.cache(filename)` to cache preprocessing work for datasets that don't\n",
    "    # fit in memory.\n",
    "    if cache:\n",
    "      if isinstance(cache, str):\n",
    "        ds = ds.cache(cache)\n",
    "      else:\n",
    "        ds = ds.cache()\n",
    "\n",
    "    ds = ds.shuffle(buffer_size=shuffle_buffer_size)\n",
    "\n",
    "    # Repeat forever\n",
    "    ds = ds.repeat()\n",
    "\n",
    "    ds = ds.batch(BATCH_SIZE)\n",
    "\n",
    "    # `prefetch` lets the dataset fetch batches in the background while the model\n",
    "    # is training.\n",
    "    ds = ds.prefetch(buffer_size=AUTOTUNE)\n",
    "    return ds\n",
    "\n",
    "# Create training, test and validation dataset\n",
    "train_ds = prepare_for_training(train_ds, cache=\"./cache/{}_train.tfcache\".format(IMG_WIDTH))\n",
    "test_ds = prepare_for_training(test_ds, cache=\"./cache/{}_test.tfcache\".format(IMG_WIDTH))\n",
    "val_ds = prepare_for_training(val_ds, cache=\"./cache/{}_val.tfcache\".format(IMG_WIDTH))"
   ]
  },
  {
   "cell_type": "markdown",
   "metadata": {},
   "source": [
    "## Training\n",
    "### Normal CNN\n",
    "See https://www.tensorflow.org/tutorials/images/cnn"
   ]
  },
  {
   "cell_type": "code",
   "execution_count": 12,
   "metadata": {},
   "outputs": [],
   "source": [
    "from tensorflow.keras import datasets, layers, models\n",
    "from tensorflow.keras.models import Sequential\n",
    "from tensorflow.keras.layers import Dense, Conv2D, Flatten, Dropout, MaxPooling2D\n",
    "from tensorflow.keras.layers import BatchNormalization"
   ]
  },
  {
   "cell_type": "markdown",
   "metadata": {},
   "source": [
    "Create the model"
   ]
  },
  {
   "cell_type": "code",
   "execution_count": 42,
   "metadata": {},
   "outputs": [],
   "source": [
    "cnn_model = models.Sequential()\n",
    "\n",
    "cnn_model.add(layers.Conv2D(32, (3, 3), activation='relu', input_shape=IMG_SIZE))\n",
    "cnn_model.add(BatchNormalization())\n",
    "cnn_model.add(layers.MaxPooling2D((2, 2)))\n",
    "\n",
    "cnn_model.add(layers.Conv2D(64, (3, 3), activation='relu'))\n",
    "cnn_model.add(BatchNormalization())\n",
    "cnn_model.add(layers.MaxPooling2D((2, 2)))\n",
    "\n",
    "cnn_model.add(layers.Conv2D(64, (3, 3), activation='relu'))\n",
    "cnn_model.add(BatchNormalization())\n",
    "\n",
    "cnn_model.add(layers.Flatten())\n",
    "cnn_model.add(layers.Dense(64, activation='relu'))\n",
    "cnn_model.add(layers.Dropout(0.2))\n",
    "cnn_model.add(layers.Dense(NUM_CLASSES, activation='softmax'))"
   ]
  },
  {
   "cell_type": "code",
   "execution_count": 14,
   "metadata": {},
   "outputs": [
    {
     "name": "stdout",
     "output_type": "stream",
     "text": [
      "Model: \"sequential\"\n",
      "_________________________________________________________________\n",
      "Layer (type)                 Output Shape              Param #   \n",
      "=================================================================\n",
      "conv2d (Conv2D)              (None, 30, 30, 32)        896       \n",
      "_________________________________________________________________\n",
      "batch_normalization (BatchNo (None, 30, 30, 32)        128       \n",
      "_________________________________________________________________\n",
      "max_pooling2d (MaxPooling2D) (None, 15, 15, 32)        0         \n",
      "_________________________________________________________________\n",
      "conv2d_1 (Conv2D)            (None, 13, 13, 64)        18496     \n",
      "_________________________________________________________________\n",
      "batch_normalization_1 (Batch (None, 13, 13, 64)        256       \n",
      "_________________________________________________________________\n",
      "max_pooling2d_1 (MaxPooling2 (None, 6, 6, 64)          0         \n",
      "_________________________________________________________________\n",
      "conv2d_2 (Conv2D)            (None, 4, 4, 64)          36928     \n",
      "_________________________________________________________________\n",
      "batch_normalization_2 (Batch (None, 4, 4, 64)          256       \n",
      "_________________________________________________________________\n",
      "flatten (Flatten)            (None, 1024)              0         \n",
      "_________________________________________________________________\n",
      "dense (Dense)                (None, 64)                65600     \n",
      "_________________________________________________________________\n",
      "dropout (Dropout)            (None, 64)                0         \n",
      "_________________________________________________________________\n",
      "dense_1 (Dense)              (None, 10)                650       \n",
      "=================================================================\n",
      "Total params: 123,210\n",
      "Trainable params: 122,890\n",
      "Non-trainable params: 320\n",
      "_________________________________________________________________\n"
     ]
    }
   ],
   "source": [
    "cnn_model.summary()"
   ]
  },
  {
   "cell_type": "raw",
   "metadata": {},
   "source": [
    "# Save image of layers\n",
    "tf.keras.utils.plot_model(cnn_model, 'models/{}.png'.format(model_name), show_shapes=True)"
   ]
  },
  {
   "cell_type": "markdown",
   "metadata": {},
   "source": [
    "Compile and train the model"
   ]
  },
  {
   "cell_type": "code",
   "execution_count": 45,
   "metadata": {},
   "outputs": [],
   "source": [
    "opt = tf.keras.optimizers.SGD(learning_rate=0.01, momentum=0.9)\n",
    "\n",
    "cnn_model.compile(\n",
    "                optimizer=opt,\n",
    "                loss='sparse_categorical_crossentropy',\n",
    "                metrics=['accuracy'])\n",
    "\n",
    "callbacks = [tf.keras.callbacks.TensorBoard(log_dir='./logs/{}'.format(MODEL), update_freq='batch')]"
   ]
  },
  {
   "cell_type": "code",
   "execution_count": 46,
   "metadata": {},
   "outputs": [
    {
     "name": "stdout",
     "output_type": "stream",
     "text": [
      "Train for 656 steps, validate for 140 steps\n",
      "Epoch 1/50\n",
      "656/656 [==============================] - 4s 6ms/step - loss: 1.4860 - accuracy: 0.4723 - val_loss: 1.5344 - val_accuracy: 0.4531\n",
      "Epoch 2/50\n",
      "656/656 [==============================] - 4s 5ms/step - loss: 1.1500 - accuracy: 0.5940 - val_loss: 1.0711 - val_accuracy: 0.6202\n",
      "Epoch 3/50\n",
      "656/656 [==============================] - 3s 5ms/step - loss: 1.0027 - accuracy: 0.6482 - val_loss: 1.1623 - val_accuracy: 0.5929\n",
      "Epoch 4/50\n",
      "656/656 [==============================] - 3s 5ms/step - loss: 0.9030 - accuracy: 0.6829 - val_loss: 0.8920 - val_accuracy: 0.6818\n",
      "Epoch 5/50\n",
      "656/656 [==============================] - 3s 5ms/step - loss: 0.8237 - accuracy: 0.7091 - val_loss: 0.8275 - val_accuracy: 0.7042\n",
      "Epoch 6/50\n",
      "656/656 [==============================] - 3s 5ms/step - loss: 0.7532 - accuracy: 0.7368 - val_loss: 0.7863 - val_accuracy: 0.7270\n",
      "Epoch 7/50\n",
      "656/656 [==============================] - 4s 5ms/step - loss: 0.7024 - accuracy: 0.7520 - val_loss: 0.8167 - val_accuracy: 0.7210\n",
      "Epoch 8/50\n",
      "656/656 [==============================] - 4s 5ms/step - loss: 0.6610 - accuracy: 0.7675 - val_loss: 0.6736 - val_accuracy: 0.7691\n",
      "Epoch 9/50\n",
      "656/656 [==============================] - 4s 5ms/step - loss: 0.6140 - accuracy: 0.7835 - val_loss: 0.7318 - val_accuracy: 0.7440\n",
      "Epoch 10/50\n",
      "656/656 [==============================] - 4s 5ms/step - loss: 0.5711 - accuracy: 0.7979 - val_loss: 0.5896 - val_accuracy: 0.7984\n",
      "Epoch 11/50\n",
      "656/656 [==============================] - 4s 5ms/step - loss: 0.5451 - accuracy: 0.8030 - val_loss: 0.5662 - val_accuracy: 0.8085\n",
      "Epoch 12/50\n",
      "656/656 [==============================] - 3s 5ms/step - loss: 0.5131 - accuracy: 0.8166 - val_loss: 0.7430 - val_accuracy: 0.7556\n",
      "Epoch 13/50\n",
      "656/656 [==============================] - 4s 5ms/step - loss: 0.4857 - accuracy: 0.8278 - val_loss: 0.7095 - val_accuracy: 0.7693\n",
      "Epoch 14/50\n",
      "656/656 [==============================] - 4s 5ms/step - loss: 0.4531 - accuracy: 0.8377 - val_loss: 0.5627 - val_accuracy: 0.8188\n",
      "Epoch 15/50\n",
      "656/656 [==============================] - 4s 5ms/step - loss: 0.4382 - accuracy: 0.8417 - val_loss: 0.6287 - val_accuracy: 0.8037\n",
      "Epoch 16/50\n",
      "656/656 [==============================] - 4s 5ms/step - loss: 0.4073 - accuracy: 0.8538 - val_loss: 0.5202 - val_accuracy: 0.8334\n",
      "Epoch 17/50\n",
      "656/656 [==============================] - 4s 5ms/step - loss: 0.3971 - accuracy: 0.8554 - val_loss: 0.5258 - val_accuracy: 0.8375\n",
      "Epoch 18/50\n",
      "656/656 [==============================] - 4s 5ms/step - loss: 0.3772 - accuracy: 0.8630 - val_loss: 0.4957 - val_accuracy: 0.8470\n",
      "Epoch 19/50\n",
      "656/656 [==============================] - 3s 5ms/step - loss: 0.3561 - accuracy: 0.8717 - val_loss: 0.5751 - val_accuracy: 0.8249\n",
      "Epoch 20/50\n",
      "656/656 [==============================] - 4s 6ms/step - loss: 0.3408 - accuracy: 0.8752 - val_loss: 0.5161 - val_accuracy: 0.8523\n",
      "Epoch 21/50\n",
      "656/656 [==============================] - 4s 6ms/step - loss: 0.3328 - accuracy: 0.8785 - val_loss: 0.4670 - val_accuracy: 0.8652\n",
      "Epoch 22/50\n",
      "656/656 [==============================] - 3s 5ms/step - loss: 0.3179 - accuracy: 0.8829 - val_loss: 0.6290 - val_accuracy: 0.8173\n",
      "Epoch 23/50\n",
      "656/656 [==============================] - 4s 5ms/step - loss: 0.3056 - accuracy: 0.8880 - val_loss: 0.6873 - val_accuracy: 0.8046\n",
      "Epoch 24/50\n",
      "656/656 [==============================] - 4s 5ms/step - loss: 0.2919 - accuracy: 0.8924 - val_loss: 0.5039 - val_accuracy: 0.8606\n",
      "Epoch 25/50\n",
      "656/656 [==============================] - 4s 5ms/step - loss: 0.2835 - accuracy: 0.8981 - val_loss: 0.5709 - val_accuracy: 0.8475\n",
      "Epoch 26/50\n",
      "656/656 [==============================] - 3s 5ms/step - loss: 0.2786 - accuracy: 0.8981 - val_loss: 0.4682 - val_accuracy: 0.8740\n",
      "Epoch 27/50\n",
      "656/656 [==============================] - 3s 5ms/step - loss: 0.2668 - accuracy: 0.9029 - val_loss: 0.5336 - val_accuracy: 0.8556\n",
      "Epoch 28/50\n",
      "656/656 [==============================] - 4s 5ms/step - loss: 0.2566 - accuracy: 0.9058 - val_loss: 0.4971 - val_accuracy: 0.8779\n",
      "Epoch 29/50\n",
      "656/656 [==============================] - 3s 5ms/step - loss: 0.2510 - accuracy: 0.9088 - val_loss: 0.5044 - val_accuracy: 0.8738\n",
      "Epoch 30/50\n",
      "656/656 [==============================] - 3s 5ms/step - loss: 0.2464 - accuracy: 0.9103 - val_loss: 0.6250 - val_accuracy: 0.8417\n",
      "Epoch 31/50\n",
      "656/656 [==============================] - 3s 5ms/step - loss: 0.2380 - accuracy: 0.9128 - val_loss: 0.5886 - val_accuracy: 0.8615\n",
      "Epoch 32/50\n",
      "656/656 [==============================] - 3s 5ms/step - loss: 0.2211 - accuracy: 0.9187 - val_loss: 0.4995 - val_accuracy: 0.8835\n",
      "Epoch 33/50\n",
      "656/656 [==============================] - 3s 5ms/step - loss: 0.2215 - accuracy: 0.9197 - val_loss: 0.4660 - val_accuracy: 0.8888\n",
      "Epoch 34/50\n",
      "656/656 [==============================] - 3s 5ms/step - loss: 0.2141 - accuracy: 0.9216 - val_loss: 0.5303 - val_accuracy: 0.8725\n",
      "Epoch 35/50\n",
      "656/656 [==============================] - 4s 5ms/step - loss: 0.2092 - accuracy: 0.9229 - val_loss: 0.5646 - val_accuracy: 0.8660\n",
      "Epoch 36/50\n",
      "656/656 [==============================] - 4s 5ms/step - loss: 0.2040 - accuracy: 0.9269 - val_loss: 0.7184 - val_accuracy: 0.8256\n",
      "Epoch 37/50\n",
      "656/656 [==============================] - 4s 5ms/step - loss: 0.1953 - accuracy: 0.9286 - val_loss: 0.5407 - val_accuracy: 0.8800\n",
      "Epoch 38/50\n",
      "656/656 [==============================] - 4s 5ms/step - loss: 0.1976 - accuracy: 0.9295 - val_loss: 0.5412 - val_accuracy: 0.8792\n",
      "Epoch 39/50\n",
      "656/656 [==============================] - 4s 6ms/step - loss: 0.1916 - accuracy: 0.9287 - val_loss: 0.5532 - val_accuracy: 0.8654\n",
      "Epoch 40/50\n",
      "656/656 [==============================] - 4s 5ms/step - loss: 0.1814 - accuracy: 0.9350 - val_loss: 0.5091 - val_accuracy: 0.8972\n",
      "Epoch 41/50\n",
      "656/656 [==============================] - 4s 5ms/step - loss: 0.1857 - accuracy: 0.9326 - val_loss: 0.5669 - val_accuracy: 0.8821\n",
      "Epoch 42/50\n",
      "656/656 [==============================] - 4s 5ms/step - loss: 0.1812 - accuracy: 0.9354 - val_loss: 0.5869 - val_accuracy: 0.8801\n",
      "Epoch 43/50\n",
      "656/656 [==============================] - 4s 5ms/step - loss: 0.1832 - accuracy: 0.9335 - val_loss: 0.5426 - val_accuracy: 0.8859\n",
      "Epoch 44/50\n",
      "656/656 [==============================] - 4s 6ms/step - loss: 0.1724 - accuracy: 0.9377 - val_loss: 0.5013 - val_accuracy: 0.9026\n",
      "Epoch 45/50\n",
      "656/656 [==============================] - 4s 6ms/step - loss: 0.1668 - accuracy: 0.9399 - val_loss: 0.5307 - val_accuracy: 0.8932\n",
      "Epoch 46/50\n",
      "656/656 [==============================] - 3s 5ms/step - loss: 0.1683 - accuracy: 0.9383 - val_loss: 0.5642 - val_accuracy: 0.8883\n",
      "Epoch 47/50\n",
      "656/656 [==============================] - 4s 5ms/step - loss: 0.1626 - accuracy: 0.9424 - val_loss: 0.5410 - val_accuracy: 0.8912\n",
      "Epoch 48/50\n",
      "656/656 [==============================] - 4s 6ms/step - loss: 0.1529 - accuracy: 0.9465 - val_loss: 0.5922 - val_accuracy: 0.8838\n",
      "Epoch 49/50\n",
      "656/656 [==============================] - 4s 5ms/step - loss: 0.1534 - accuracy: 0.9437 - val_loss: 0.6194 - val_accuracy: 0.8753\n",
      "Epoch 50/50\n",
      "656/656 [==============================] - 4s 5ms/step - loss: 0.1515 - accuracy: 0.9459 - val_loss: 0.5120 - val_accuracy: 0.9047\n"
     ]
    }
   ],
   "source": [
    "history = cnn_model.fit(\n",
    "        train_ds,\n",
    "        steps_per_epoch = train_size // BATCH_SIZE,\n",
    "        epochs = NUM_EPOCHS,\n",
    "        validation_data = test_ds,\n",
    "        validation_steps = test_size // BATCH_SIZE,\n",
    "        validation_freq = 1,\n",
    "        callbacks = callbacks)"
   ]
  },
  {
   "cell_type": "code",
   "execution_count": 17,
   "metadata": {},
   "outputs": [],
   "source": [
    "# cnn_model.save('models/{}.h5'.format(model_name))\n",
    "# cnn_model = tf.keras.models.load_model('models/{}.h5'.format(model_name))"
   ]
  },
  {
   "cell_type": "markdown",
   "metadata": {},
   "source": [
    "## Evaluate the model"
   ]
  },
  {
   "cell_type": "code",
   "execution_count": 47,
   "metadata": {},
   "outputs": [
    {
     "name": "stdout",
     "output_type": "stream",
     "text": [
      "140/140 - 0s - loss: 0.5690 - accuracy: 0.9041\n"
     ]
    }
   ],
   "source": [
    "cnn_evaluate = cnn_model.evaluate(val_ds, verbose=2, steps=val_size//BATCH_SIZE)"
   ]
  },
  {
   "cell_type": "code",
   "execution_count": 48,
   "metadata": {},
   "outputs": [
    {
     "data": {
      "image/png": "[encoded data removed]",
      "text/plain": [
       "<Figure size 1008x432 with 2 Axes>"
      ]
     },
     "metadata": {
      "needs_background": "light"
     },
     "output_type": "display_data"
    }
   ],
   "source": [
    "acc = history.history['accuracy']\n",
    "val_acc = history.history['val_accuracy']\n",
    "loss = history.history['loss']\n",
    "val_loss = history.history['val_loss']\n",
    "\n",
    "epochs_range = range(NUM_EPOCHS)\n",
    "\n",
    "plt.figure(figsize=(14, 6))\n",
    "\n",
    "# Subplot 1\n",
    "plt.subplot(1, 2, 1)\n",
    "plt.plot(epochs_range, acc, label='Training Accuracy')\n",
    "plt.plot(epochs_range, val_acc, label='Validation Accuracy')\n",
    "plt.legend(loc='lower right')\n",
    "# plt.ylim([0.5, 1])\n",
    "plt.xlabel('Epoch')\n",
    "plt.ylabel('Accuracy')\n",
    "plt.title('Training and Validation Accuracy')\n",
    "\n",
    "# Subplot 2\n",
    "plt.subplot(1, 2, 2)\n",
    "plt.plot(epochs_range, loss, label='Training Loss')\n",
    "plt.plot(epochs_range, val_loss, label='Validation Loss')\n",
    "plt.legend(loc='upper right')\n",
    "# plt.ylim([0.5, 1])\n",
    "plt.xlabel('Epoch')\n",
    "plt.ylabel('Accuracy')\n",
    "plt.title('Training and Validation Loss')\n",
    "plt.show()"
   ]
  },
  {
   "cell_type": "markdown",
   "metadata": {},
   "source": [
    "`Tensorboard`"
   ]
  },
  {
   "cell_type": "raw",
   "metadata": {},
   "source": [
    "from tensorboard import notebook\n",
    "# Load the TensorBoard notebook extension\n",
    "# %load_ext tensorboard\n",
    "\n",
    "# Start tensorboard\n",
    "# %tensorboard --logdir logs"
   ]
  },
  {
   "cell_type": "raw",
   "metadata": {},
   "source": [
    "# Clear any logs from previous runs (move to .old instead?)\n",
    "!rm -rf ./logs/\n",
    "\n",
    "# Stop tensorboard\n",
    "notebook.list()\n",
    "!kill 20058"
   ]
  },
  {
   "cell_type": "markdown",
   "metadata": {},
   "source": [
    "## Predict new samples"
   ]
  },
  {
   "cell_type": "code",
   "execution_count": 49,
   "metadata": {},
   "outputs": [],
   "source": [
    "# Fetch one batch\n",
    "images, labels = next(iter(val_ds))\n",
    "\n",
    "# Convert from tensor to numpy array\n",
    "images = images.numpy()\n",
    "labels = labels.numpy()"
   ]
  },
  {
   "cell_type": "code",
   "execution_count": 65,
   "metadata": {},
   "outputs": [
    {
     "name": "stdout",
     "output_type": "stream",
     "text": [
      "0.0000 cat\n",
      "0.0000 airplane\n",
      "0.1025 deer\n",
      "0.0000 automobile\n",
      "0.0000 ship\n",
      "0.0000 horse\n",
      "0.0000 truck\n",
      "0.0000 dog\n",
      "0.0153 bird\n",
      "0.8822 frog\n",
      "\n",
      "Label: frog\n",
      "Predicton: frog\n"
     ]
    },
    {
     "data": {
      "image/png": "[encoded data removed]",
      "text/plain": [
       "<Figure size 432x288 with 1 Axes>"
      ]
     },
     "metadata": {},
     "output_type": "display_data"
    }
   ],
   "source": [
    "# Get a random image and label\n",
    "rand = np.random.randint(0, BATCH_SIZE)\n",
    "image = images[rand]\n",
    "label = labels[rand]\n",
    "\n",
    "# Predict one image\n",
    "predictions = cnn_model.predict(np.expand_dims(image, axis=0))[0]\n",
    "\n",
    "for i, pred in enumerate(predictions):\n",
    "    print(\"{:0.4f} {}\".format(pred,class_names[i]))\n",
    "\n",
    "print (\"\\nLabel:\", class_names[label])\n",
    "print (\"Predicton:\", class_names[np.argmax(predictions)])\n",
    "\n",
    "plt.figure(frameon=False, facecolor='white')\n",
    "plt.imshow(image)\n",
    "plt.axis('off');"
   ]
  },
  {
   "cell_type": "code",
   "execution_count": 66,
   "metadata": {},
   "outputs": [
    {
     "name": "stdout",
     "output_type": "stream",
     "text": [
      "idx  label       pred\n",
      "---  -------     --------\n",
      "\n",
      "  0  bird        bird      \n",
      "  1  horse       horse     \n",
      "  2  bird        bird      \n",
      "  3  truck       truck     \n",
      "  4  bird        bird      \n",
      "  5  truck       truck     \n",
      "  6  bird        bird      \n",
      "  7  dog         dog       \n",
      "  8  deer        deer      \n",
      "  9  airplane    airplane  \n",
      " 10  automobile  automobile\n",
      " 11  dog         dog       \n",
      " 12  cat         cat       \n",
      " 13  frog        cat         Wrong\n",
      " 14  ship        ship      \n",
      " 15  bird        bird      \n",
      " 16  frog        cat         Wrong\n",
      " 17  cat         cat       \n",
      " 18  deer        deer      \n",
      " 19  truck       truck     \n",
      " 20  automobile  automobile\n",
      " 21  frog        frog      \n",
      " 22  horse       horse     \n",
      " 23  dog         dog       \n",
      " 24  airplane    airplane  \n",
      " 25  cat         cat       \n",
      " 26  airplane    airplane  \n",
      " 27  frog        frog      \n",
      " 28  frog        frog      \n",
      " 29  dog         dog       \n",
      " 30  truck       truck     \n",
      " 31  deer        deer      \n",
      " 32  ship        ship      \n",
      " 33  airplane    airplane  \n",
      " 34  airplane    dog         Wrong\n",
      " 35  frog        frog      \n",
      " 36  frog        frog      \n",
      " 37  horse       horse     \n",
      " 38  dog         dog       \n",
      " 39  ship        ship      \n",
      " 40  airplane    airplane  \n",
      " 41  ship        ship      \n",
      " 42  cat         cat       \n",
      " 43  ship        ship      \n",
      " 44  horse       horse     \n",
      " 45  horse       horse     \n",
      " 46  truck       truck     \n",
      " 47  airplane    airplane  \n",
      " 48  dog         dog       \n",
      " 49  automobile  automobile\n",
      " 50  automobile  automobile\n",
      " 51  deer        deer      \n",
      " 52  frog        frog      \n",
      " 53  cat         cat       \n",
      " 54  ship        ship      \n",
      " 55  horse       horse     \n",
      " 56  frog        frog      \n",
      " 57  dog         dog       \n",
      " 58  deer        deer      \n",
      " 59  bird        bird      \n",
      " 60  airplane    airplane  \n",
      " 61  frog        frog      \n",
      " 62  automobile  automobile\n",
      " 63  automobile  automobile"
     ]
    }
   ],
   "source": [
    "# Predict one batch\n",
    "predictions = cnn_model.predict(images)\n",
    "\n",
    "print ('{:3}  {:10}  {:3}'.format('idx', 'label', 'pred'))\n",
    "print ('---  -------     --------')\n",
    "\n",
    "for i, pred in enumerate(predictions):\n",
    "    label = class_names[labels[i]]\n",
    "    prediction = class_names[np.argmax(pred)]\n",
    "    print ('\\n{:3}  {:10}  {:10}'.format(i, label, prediction), end='')\n",
    "    if (label != prediction): print (\"  Wrong\", end='')"
   ]
  }
 ],
 "metadata": {
  "kernelspec": {
   "display_name": "TF2",
   "language": "python",
   "name": "tf2"
  },
  "language_info": {
   "codemirror_mode": {
    "name": "ipython",
    "version": 3
   },
   "file_extension": ".py",
   "mimetype": "text/x-python",
   "name": "python",
   "nbconvert_exporter": "python",
   "pygments_lexer": "ipython3",
   "version": "3.7.6"
  }
 },
 "nbformat": 4,
 "nbformat_minor": 4
}
