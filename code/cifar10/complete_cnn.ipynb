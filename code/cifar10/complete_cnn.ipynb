{
 "cells": [
  {
   "cell_type": "markdown",
   "metadata": {},
   "source": [
    "CIFAR10 dataset trained on all classes with 'normal' CNN without augmentation. Highest accuracy 80 %"
   ]
  },
  {
   "cell_type": "markdown",
   "metadata": {},
   "source": [
    "### Loading images\n",
    "https://www.tensorflow.org/tutorials/load_data/images"
   ]
  },
  {
   "cell_type": "code",
   "execution_count": 1,
   "metadata": {},
   "outputs": [],
   "source": [
    "from __future__ import absolute_import, division, print_function, unicode_literals\n",
    "\n",
    "import tensorflow as tf\n",
    "\n",
    "import numpy as np\n",
    "import os\n",
    "import pathlib\n",
    "import matplotlib.pyplot as plt\n",
    "\n",
    "# Some stuff to make utils-function work\n",
    "import sys\n",
    "sys.path.append('/home/henrik/master_thesis/code/utils')\n",
    "from data_prep import create_dataset, print_class_info, show_image\n",
    "%load_ext autoreload\n",
    "%autoreload 2\n",
    "\n",
    "# Jupyter-specific\n",
    "%matplotlib inline"
   ]
  },
  {
   "cell_type": "markdown",
   "metadata": {},
   "source": [
    "Some parameters"
   ]
  },
  {
   "cell_type": "code",
   "execution_count": 2,
   "metadata": {},
   "outputs": [],
   "source": [
    "data_dir = pathlib.Path('/mnt/sdb/cifar10/train/')\n",
    "\n",
    "config = {\n",
    "    \"data_dir\": data_dir,\n",
    "    \"cache_dir\": \"./cache\",\n",
    "    \"MODEL\": 'cnn',\n",
    "    \"DS_INFO\": 'complete',\n",
    "    \"resample\": False,\n",
    "    \"neg_class\": ['ship'],\n",
    "    \"NUM_EPOCHS\": 100,\n",
    "    \"BATCH_SIZE\": 64,\n",
    "    \"IMG_SIZE\": (32, 32, 3),\n",
    "    \"outcast\": None,\n",
    "    \"verbosity\": 1\n",
    "    }\n",
    "\n",
    "model_name = '{}x{}x{}_{}_{}'.format(config[\"NUM_EPOCHS\"], config[\"BATCH_SIZE\"], \n",
    "                                     config[\"IMG_SIZE\"][1], config[\"DS_INFO\"], config[\"MODEL\"])"
   ]
  },
  {
   "cell_type": "markdown",
   "metadata": {},
   "source": [
    "Create training, testing and validation dataset from utils/data_prep.py"
   ]
  },
  {
   "cell_type": "code",
   "execution_count": 3,
   "metadata": {},
   "outputs": [
    {
     "name": "stdout",
     "output_type": "stream",
     "text": [
      "Directories:  ['cat' 'airplane' 'deer' 'automobile' 'ship' 'horse' 'truck' 'dog' 'bird'\n",
      " 'frog']\n",
      "\n",
      "cat               : 5000\n",
      "airplane          : 5000\n",
      "deer              : 5000\n",
      "automobile        : 5000\n",
      "ship              : 5000\n",
      "horse             : 5000\n",
      "truck             : 5000\n",
      "dog               : 5000\n",
      "bird              : 5000\n",
      "frog              : 5000\n",
      "\n",
      "Total number of images: 50000, in 10 classes\n",
      "Dataset.list_files:  /mnt/sdb/cifar10/train/*/*.*g \n",
      "\n",
      "WARNING:tensorflow:Entity <function create_dataset.<locals>.get_label at 0x7faa0f2e29e0> could not be transformed and will be executed as-is. Please report this to the AutoGraph team. When filing the bug, set the verbosity to 10 (on Linux, `export AUTOGRAPH_VERBOSITY=10`) and attach the full output. Cause: Cell is empty\n",
      "WARNING: Entity <function create_dataset.<locals>.get_label at 0x7faa0f2e29e0> could not be transformed and will be executed as-is. Please report this to the AutoGraph team. When filing the bug, set the verbosity to 10 (on Linux, `export AUTOGRAPH_VERBOSITY=10`) and attach the full output. Cause: Cell is empty\n",
      "[3 8 2 4 2 3 3 3 1 7]\n",
      "[7 9 3 1 9 6 9 4 5 2]\n",
      "[5 0 7 8 8 6 5 7 2 2]\n",
      "[4 1 0 2 4 7 1 3 3 0]\n",
      "[9 0 3 9 6 3 5 6 2 3]\n",
      "[4 7 1 9 3 1 7 0 6 9]\n",
      "[4 4 3 8 2 6 7 1 2 1]\n",
      "[9 5 2 9 6 0 3 7 0 2]\n",
      "[5 3 2 2 5 0 8 1 9 5]\n",
      "[1 2 6 0 9 2 1 2 8 2]\n"
     ]
    }
   ],
   "source": [
    "train_ds, test_ds, val_ds, params = create_dataset(config)"
   ]
  },
  {
   "cell_type": "markdown",
   "metadata": {},
   "source": [
    "## Training\n",
    "### Normal CNN\n",
    "See: https://www.tensorflow.org/tutorials/images/cnn  \n",
    "learningRateScheduler: https://github.com/lambdal/TensorFlow2-tutorial/tree/master/01-basic-image-classification  \n",
    "model from: https://machinelearningmastery.com/how-to-develop-a-cnn-from-scratch-for-cifar-10-photo-classification/  "
   ]
  },
  {
   "cell_type": "code",
   "execution_count": 4,
   "metadata": {},
   "outputs": [
    {
     "name": "stderr",
     "output_type": "stream",
     "text": [
      "Using TensorFlow backend.\n"
     ]
    }
   ],
   "source": [
    "from tensorflow.keras import datasets, layers, models\n",
    "from tensorflow.keras.models import Sequential\n",
    "from tensorflow.keras.layers import Dense, Conv2D, Flatten, Dropout, MaxPooling2D, BatchNormalization\n",
    "from tensorflow.keras.callbacks import TensorBoard, LearningRateScheduler"
   ]
  },
  {
   "cell_type": "markdown",
   "metadata": {},
   "source": [
    "Create the model"
   ]
  },
  {
   "cell_type": "code",
   "execution_count": 5,
   "metadata": {},
   "outputs": [],
   "source": [
    "cnn_model = models.Sequential()\n",
    "\n",
    "cnn_model.add(Conv2D(32, (3, 3), activation='relu', input_shape=config[\"IMG_SIZE\"]))\n",
    "cnn_model.add(BatchNormalization())\n",
    "cnn_model.add(Conv2D(32, (3, 3), activation='relu'))\n",
    "cnn_model.add(BatchNormalization())\n",
    "cnn_model.add(MaxPooling2D((2, 2)))\n",
    "cnn_model.add(Dropout(0.2))\n",
    "\n",
    "cnn_model.add(Conv2D(64, (3, 3), activation='relu'))\n",
    "cnn_model.add(BatchNormalization())\n",
    "cnn_model.add(Conv2D(64, (3, 3), activation='relu'))\n",
    "cnn_model.add(BatchNormalization())\n",
    "cnn_model.add(MaxPooling2D((2, 2)))\n",
    "cnn_model.add(Dropout(0.3))\n",
    "\n",
    "cnn_model.add(Conv2D(128, (3, 3), activation='relu'))\n",
    "cnn_model.add(BatchNormalization())\n",
    "cnn_model.add(Conv2D(128, (3, 3), activation='relu'))\n",
    "cnn_model.add(BatchNormalization())\n",
    "cnn_model.add(Dropout(0.4))\n",
    "\n",
    "cnn_model.add(Flatten())\n",
    "cnn_model.add(Dense(128, activation='relu'))\n",
    "cnn_model.add(Dropout(0.5))\n",
    "cnn_model.add(Dense(params[\"NUM_CLASSES\"], activation='softmax'))"
   ]
  },
  {
   "cell_type": "code",
   "execution_count": 6,
   "metadata": {},
   "outputs": [
    {
     "name": "stdout",
     "output_type": "stream",
     "text": [
      "Model: \"sequential\"\n",
      "_________________________________________________________________\n",
      "Layer (type)                 Output Shape              Param #   \n",
      "=================================================================\n",
      "conv2d (Conv2D)              (None, 30, 30, 32)        896       \n",
      "_________________________________________________________________\n",
      "batch_normalization (BatchNo (None, 30, 30, 32)        128       \n",
      "_________________________________________________________________\n",
      "conv2d_1 (Conv2D)            (None, 28, 28, 32)        9248      \n",
      "_________________________________________________________________\n",
      "batch_normalization_1 (Batch (None, 28, 28, 32)        128       \n",
      "_________________________________________________________________\n",
      "max_pooling2d (MaxPooling2D) (None, 14, 14, 32)        0         \n",
      "_________________________________________________________________\n",
      "dropout (Dropout)            (None, 14, 14, 32)        0         \n",
      "_________________________________________________________________\n",
      "conv2d_2 (Conv2D)            (None, 12, 12, 64)        18496     \n",
      "_________________________________________________________________\n",
      "batch_normalization_2 (Batch (None, 12, 12, 64)        256       \n",
      "_________________________________________________________________\n",
      "conv2d_3 (Conv2D)            (None, 10, 10, 64)        36928     \n",
      "_________________________________________________________________\n",
      "batch_normalization_3 (Batch (None, 10, 10, 64)        256       \n",
      "_________________________________________________________________\n",
      "max_pooling2d_1 (MaxPooling2 (None, 5, 5, 64)          0         \n",
      "_________________________________________________________________\n",
      "dropout_1 (Dropout)          (None, 5, 5, 64)          0         \n",
      "_________________________________________________________________\n",
      "conv2d_4 (Conv2D)            (None, 3, 3, 128)         73856     \n",
      "_________________________________________________________________\n",
      "batch_normalization_4 (Batch (None, 3, 3, 128)         512       \n",
      "_________________________________________________________________\n",
      "conv2d_5 (Conv2D)            (None, 1, 1, 128)         147584    \n",
      "_________________________________________________________________\n",
      "batch_normalization_5 (Batch (None, 1, 1, 128)         512       \n",
      "_________________________________________________________________\n",
      "dropout_2 (Dropout)          (None, 1, 1, 128)         0         \n",
      "_________________________________________________________________\n",
      "flatten (Flatten)            (None, 128)               0         \n",
      "_________________________________________________________________\n",
      "dense (Dense)                (None, 128)               16512     \n",
      "_________________________________________________________________\n",
      "dropout_3 (Dropout)          (None, 128)               0         \n",
      "_________________________________________________________________\n",
      "dense_1 (Dense)              (None, 10)                1290      \n",
      "=================================================================\n",
      "Total params: 306,602\n",
      "Trainable params: 305,706\n",
      "Non-trainable params: 896\n",
      "_________________________________________________________________\n"
     ]
    }
   ],
   "source": [
    "if config[\"verbosity\"] > 0:\n",
    "    cnn_model.summary()"
   ]
  },
  {
   "cell_type": "raw",
   "metadata": {},
   "source": [
    "# Save image of layers\n",
    "tf.keras.utils.plot_model(cnn_model, 'models/{}.png'.format(model_name), show_shapes=True)"
   ]
  },
  {
   "cell_type": "code",
   "execution_count": 7,
   "metadata": {},
   "outputs": [],
   "source": [
    "BASE_LEARNING_RATE = 0.1\n",
    "LR_SCHEDULE = [(0.1, 15), (0.01, 90)]\n",
    "\n",
    "def schedule(epoch):\n",
    "    initial_learning_rate = BASE_LEARNING_RATE\n",
    "    learning_rate = initial_learning_rate\n",
    "    for mult, start_epoch in LR_SCHEDULE:\n",
    "        if epoch >= start_epoch:\n",
    "            learning_rate = initial_learning_rate * mult\n",
    "        else:\n",
    "            break\n",
    "    tf.summary.scalar('learning rate', data=learning_rate, step=epoch)\n",
    "    return learning_rate"
   ]
  },
  {
   "cell_type": "markdown",
   "metadata": {},
   "source": [
    "Compile and train the model"
   ]
  },
  {
   "cell_type": "code",
   "execution_count": 8,
   "metadata": {},
   "outputs": [],
   "source": [
    "opt = tf.keras.optimizers.SGD(learning_rate=0.1, momentum=0.9)\n",
    "\n",
    "cnn_model.compile(\n",
    "                optimizer=opt,\n",
    "                loss='sparse_categorical_crossentropy',\n",
    "                metrics=['accuracy'])\n",
    "\n",
    "tensorboard_cb = tf.keras.callbacks.TensorBoard(log_dir='./logs/tensorboard/{}'.format(model_name), update_freq='batch')\n",
    "callbacks = [tensorboard_cb, LearningRateScheduler(schedule)]"
   ]
  },
  {
   "cell_type": "code",
   "execution_count": 9,
   "metadata": {},
   "outputs": [
    {
     "name": "stdout",
     "output_type": "stream",
     "text": [
      "Train for 546 steps, validate for 117 steps\n",
      "Epoch 1/100\n",
      "546/546 [==============================] - 6s 11ms/step - loss: 2.0154 - accuracy: 0.2670 - val_loss: 1.7068 - val_accuracy: 0.3614\n",
      "Epoch 2/100\n",
      "546/546 [==============================] - 4s 7ms/step - loss: 1.6772 - accuracy: 0.3821 - val_loss: 1.7889 - val_accuracy: 0.3339\n",
      "Epoch 3/100\n",
      "546/546 [==============================] - 4s 8ms/step - loss: 1.5049 - accuracy: 0.4560 - val_loss: 1.5318 - val_accuracy: 0.4901\n",
      "Epoch 4/100\n",
      "546/546 [==============================] - 4s 8ms/step - loss: 1.3841 - accuracy: 0.5182 - val_loss: 1.1748 - val_accuracy: 0.5865\n",
      "Epoch 5/100\n",
      "546/546 [==============================] - 4s 8ms/step - loss: 1.2824 - accuracy: 0.5584 - val_loss: 1.1531 - val_accuracy: 0.5991\n",
      "Epoch 6/100\n",
      "546/546 [==============================] - 4s 7ms/step - loss: 1.2273 - accuracy: 0.5789 - val_loss: 1.3088 - val_accuracy: 0.5593\n",
      "Epoch 7/100\n",
      "546/546 [==============================] - 4s 8ms/step - loss: 1.1597 - accuracy: 0.6065 - val_loss: 0.9262 - val_accuracy: 0.6708\n",
      "Epoch 8/100\n",
      "546/546 [==============================] - 4s 7ms/step - loss: 1.1178 - accuracy: 0.6221 - val_loss: 0.8597 - val_accuracy: 0.7010\n",
      "Epoch 9/100\n",
      "546/546 [==============================] - 4s 7ms/step - loss: 1.0705 - accuracy: 0.6399 - val_loss: 0.8706 - val_accuracy: 0.7073\n",
      "Epoch 10/100\n",
      "546/546 [==============================] - 4s 7ms/step - loss: 1.0364 - accuracy: 0.6542 - val_loss: 0.8909 - val_accuracy: 0.6864\n",
      "Epoch 11/100\n",
      "546/546 [==============================] - 4s 8ms/step - loss: 0.9976 - accuracy: 0.6689 - val_loss: 0.7428 - val_accuracy: 0.7451\n",
      "Epoch 12/100\n",
      "546/546 [==============================] - 4s 8ms/step - loss: 0.9768 - accuracy: 0.6781 - val_loss: 0.8211 - val_accuracy: 0.7233\n",
      "Epoch 13/100\n",
      "546/546 [==============================] - 4s 7ms/step - loss: 0.9466 - accuracy: 0.6876 - val_loss: 0.8045 - val_accuracy: 0.7205\n",
      "Epoch 14/100\n",
      "546/546 [==============================] - 4s 8ms/step - loss: 0.9393 - accuracy: 0.6914 - val_loss: 0.7213 - val_accuracy: 0.7568\n",
      "Epoch 15/100\n",
      "546/546 [==============================] - 4s 7ms/step - loss: 0.9013 - accuracy: 0.7058 - val_loss: 0.6856 - val_accuracy: 0.7658\n",
      "Epoch 16/100\n",
      "546/546 [==============================] - 4s 8ms/step - loss: 0.7688 - accuracy: 0.7426 - val_loss: 0.5370 - val_accuracy: 0.8184\n",
      "Epoch 17/100\n",
      "546/546 [==============================] - 4s 7ms/step - loss: 0.6929 - accuracy: 0.7664 - val_loss: 0.5094 - val_accuracy: 0.8226\n",
      "Epoch 18/100\n",
      "546/546 [==============================] - 4s 7ms/step - loss: 0.6727 - accuracy: 0.7783 - val_loss: 0.4982 - val_accuracy: 0.8275\n",
      "Epoch 19/100\n",
      "546/546 [==============================] - 4s 7ms/step - loss: 0.6543 - accuracy: 0.7798 - val_loss: 0.4959 - val_accuracy: 0.8295\n",
      "Epoch 20/100\n",
      "546/546 [==============================] - 4s 7ms/step - loss: 0.6528 - accuracy: 0.7806 - val_loss: 0.4826 - val_accuracy: 0.8345\n",
      "Epoch 21/100\n",
      "546/546 [==============================] - 4s 8ms/step - loss: 0.6329 - accuracy: 0.7872 - val_loss: 0.4759 - val_accuracy: 0.8369\n",
      "Epoch 22/100\n",
      "546/546 [==============================] - 4s 7ms/step - loss: 0.6232 - accuracy: 0.7890 - val_loss: 0.4679 - val_accuracy: 0.8376\n",
      "Epoch 23/100\n",
      "546/546 [==============================] - 4s 8ms/step - loss: 0.6251 - accuracy: 0.7905 - val_loss: 0.4583 - val_accuracy: 0.8416\n",
      "Epoch 24/100\n",
      "546/546 [==============================] - 4s 7ms/step - loss: 0.6140 - accuracy: 0.7936 - val_loss: 0.4603 - val_accuracy: 0.8395\n",
      "Epoch 25/100\n",
      "546/546 [==============================] - 4s 7ms/step - loss: 0.6105 - accuracy: 0.7954 - val_loss: 0.4475 - val_accuracy: 0.8443\n",
      "Epoch 26/100\n",
      "546/546 [==============================] - 4s 8ms/step - loss: 0.5994 - accuracy: 0.7995 - val_loss: 0.4520 - val_accuracy: 0.8420\n",
      "Epoch 27/100\n",
      "546/546 [==============================] - 4s 8ms/step - loss: 0.5959 - accuracy: 0.7993 - val_loss: 0.4321 - val_accuracy: 0.8478\n",
      "Epoch 28/100\n",
      "546/546 [==============================] - 4s 8ms/step - loss: 0.5918 - accuracy: 0.7996 - val_loss: 0.4399 - val_accuracy: 0.8447\n",
      "Epoch 29/100\n",
      "546/546 [==============================] - 4s 7ms/step - loss: 0.5844 - accuracy: 0.8043 - val_loss: 0.4268 - val_accuracy: 0.8508\n",
      "Epoch 30/100\n",
      "546/546 [==============================] - 4s 7ms/step - loss: 0.5800 - accuracy: 0.8060 - val_loss: 0.4333 - val_accuracy: 0.8451\n",
      "Epoch 31/100\n",
      "546/546 [==============================] - 4s 8ms/step - loss: 0.5770 - accuracy: 0.8047 - val_loss: 0.4190 - val_accuracy: 0.8576\n",
      "Epoch 32/100\n",
      "546/546 [==============================] - 4s 7ms/step - loss: 0.5677 - accuracy: 0.8075 - val_loss: 0.4164 - val_accuracy: 0.8551\n",
      "Epoch 33/100\n",
      "546/546 [==============================] - 4s 8ms/step - loss: 0.5724 - accuracy: 0.8066 - val_loss: 0.4109 - val_accuracy: 0.8588\n",
      "Epoch 34/100\n",
      "546/546 [==============================] - 4s 8ms/step - loss: 0.5614 - accuracy: 0.8110 - val_loss: 0.4110 - val_accuracy: 0.8575\n",
      "Epoch 35/100\n",
      "546/546 [==============================] - 4s 7ms/step - loss: 0.5528 - accuracy: 0.8140 - val_loss: 0.4053 - val_accuracy: 0.8588\n",
      "Epoch 36/100\n",
      "546/546 [==============================] - 4s 8ms/step - loss: 0.5482 - accuracy: 0.8152 - val_loss: 0.4017 - val_accuracy: 0.8568\n",
      "Epoch 37/100\n",
      "546/546 [==============================] - 4s 8ms/step - loss: 0.5439 - accuracy: 0.8151 - val_loss: 0.3952 - val_accuracy: 0.8610\n",
      "Epoch 38/100\n",
      "546/546 [==============================] - 4s 8ms/step - loss: 0.5451 - accuracy: 0.8151 - val_loss: 0.3903 - val_accuracy: 0.8644\n",
      "Epoch 39/100\n",
      "546/546 [==============================] - 4s 8ms/step - loss: 0.5437 - accuracy: 0.8164 - val_loss: 0.3944 - val_accuracy: 0.8634\n",
      "Epoch 40/100\n",
      "546/546 [==============================] - 4s 7ms/step - loss: 0.5357 - accuracy: 0.8184 - val_loss: 0.3936 - val_accuracy: 0.8657\n",
      "Epoch 41/100\n",
      "546/546 [==============================] - 4s 7ms/step - loss: 0.5303 - accuracy: 0.8211 - val_loss: 0.3838 - val_accuracy: 0.8702\n",
      "Epoch 42/100\n",
      "546/546 [==============================] - 4s 8ms/step - loss: 0.5273 - accuracy: 0.8222 - val_loss: 0.3852 - val_accuracy: 0.8650\n",
      "Epoch 43/100\n",
      "546/546 [==============================] - 4s 7ms/step - loss: 0.5269 - accuracy: 0.8219 - val_loss: 0.3805 - val_accuracy: 0.8681\n",
      "Epoch 44/100\n",
      "546/546 [==============================] - 4s 7ms/step - loss: 0.5197 - accuracy: 0.8242 - val_loss: 0.3674 - val_accuracy: 0.8766\n",
      "Epoch 45/100\n",
      "546/546 [==============================] - 4s 7ms/step - loss: 0.5165 - accuracy: 0.8271 - val_loss: 0.3694 - val_accuracy: 0.8753\n",
      "Epoch 46/100\n",
      "546/546 [==============================] - 4s 7ms/step - loss: 0.5168 - accuracy: 0.8273 - val_loss: 0.3683 - val_accuracy: 0.8729\n",
      "Epoch 47/100\n",
      "546/546 [==============================] - 4s 7ms/step - loss: 0.5078 - accuracy: 0.8274 - val_loss: 0.3661 - val_accuracy: 0.8749\n",
      "Epoch 48/100\n",
      "546/546 [==============================] - 4s 7ms/step - loss: 0.5128 - accuracy: 0.8289 - val_loss: 0.3602 - val_accuracy: 0.8761\n",
      "Epoch 49/100\n",
      "546/546 [==============================] - 4s 8ms/step - loss: 0.5053 - accuracy: 0.8289 - val_loss: 0.3670 - val_accuracy: 0.8786\n",
      "Epoch 50/100\n",
      "546/546 [==============================] - 4s 8ms/step - loss: 0.5001 - accuracy: 0.8302 - val_loss: 0.3528 - val_accuracy: 0.8799\n",
      "Epoch 51/100\n",
      "546/546 [==============================] - 4s 8ms/step - loss: 0.4960 - accuracy: 0.8328 - val_loss: 0.3605 - val_accuracy: 0.8755\n",
      "Epoch 52/100\n",
      "546/546 [==============================] - 4s 8ms/step - loss: 0.4863 - accuracy: 0.8353 - val_loss: 0.3495 - val_accuracy: 0.8811\n",
      "Epoch 53/100\n",
      "546/546 [==============================] - 4s 8ms/step - loss: 0.4903 - accuracy: 0.8334 - val_loss: 0.3504 - val_accuracy: 0.8797\n",
      "Epoch 54/100\n",
      "546/546 [==============================] - 4s 8ms/step - loss: 0.4773 - accuracy: 0.8386 - val_loss: 0.3491 - val_accuracy: 0.8829\n",
      "Epoch 55/100\n",
      "546/546 [==============================] - 4s 8ms/step - loss: 0.4765 - accuracy: 0.8402 - val_loss: 0.3460 - val_accuracy: 0.8821\n",
      "Epoch 56/100\n",
      "546/546 [==============================] - 4s 8ms/step - loss: 0.4736 - accuracy: 0.8388 - val_loss: 0.3388 - val_accuracy: 0.8874\n",
      "Epoch 57/100\n",
      "546/546 [==============================] - 4s 7ms/step - loss: 0.4757 - accuracy: 0.8405 - val_loss: 0.3397 - val_accuracy: 0.8873\n",
      "Epoch 58/100\n",
      "546/546 [==============================] - 4s 7ms/step - loss: 0.4677 - accuracy: 0.8420 - val_loss: 0.3373 - val_accuracy: 0.8850\n",
      "Epoch 59/100\n",
      "546/546 [==============================] - 4s 7ms/step - loss: 0.4667 - accuracy: 0.8427 - val_loss: 0.3375 - val_accuracy: 0.8880\n",
      "Epoch 60/100\n",
      "546/546 [==============================] - 4s 7ms/step - loss: 0.4662 - accuracy: 0.8417 - val_loss: 0.3313 - val_accuracy: 0.8888\n",
      "Epoch 61/100\n",
      "546/546 [==============================] - 4s 7ms/step - loss: 0.4687 - accuracy: 0.8424 - val_loss: 0.3269 - val_accuracy: 0.8930\n",
      "Epoch 62/100\n",
      "546/546 [==============================] - 4s 7ms/step - loss: 0.4556 - accuracy: 0.8462 - val_loss: 0.3289 - val_accuracy: 0.8906\n",
      "Epoch 63/100\n",
      "546/546 [==============================] - 4s 7ms/step - loss: 0.4515 - accuracy: 0.8494 - val_loss: 0.3293 - val_accuracy: 0.8890\n",
      "Epoch 64/100\n",
      "546/546 [==============================] - 4s 7ms/step - loss: 0.4520 - accuracy: 0.8467 - val_loss: 0.3179 - val_accuracy: 0.8954\n",
      "Epoch 65/100\n",
      "546/546 [==============================] - 4s 7ms/step - loss: 0.4450 - accuracy: 0.8472 - val_loss: 0.3290 - val_accuracy: 0.8925\n",
      "Epoch 66/100\n",
      "546/546 [==============================] - 4s 7ms/step - loss: 0.4501 - accuracy: 0.8500 - val_loss: 0.3136 - val_accuracy: 0.9005\n",
      "Epoch 67/100\n",
      "546/546 [==============================] - 4s 7ms/step - loss: 0.4424 - accuracy: 0.8501 - val_loss: 0.3199 - val_accuracy: 0.8945\n",
      "Epoch 68/100\n",
      "546/546 [==============================] - 4s 8ms/step - loss: 0.4372 - accuracy: 0.8525 - val_loss: 0.3225 - val_accuracy: 0.8912\n",
      "Epoch 69/100\n",
      "546/546 [==============================] - 4s 8ms/step - loss: 0.4377 - accuracy: 0.8517 - val_loss: 0.3099 - val_accuracy: 0.9004\n",
      "Epoch 70/100\n",
      "546/546 [==============================] - 4s 7ms/step - loss: 0.4286 - accuracy: 0.8548 - val_loss: 0.3120 - val_accuracy: 0.8972\n",
      "Epoch 71/100\n",
      "546/546 [==============================] - 4s 7ms/step - loss: 0.4224 - accuracy: 0.8575 - val_loss: 0.3047 - val_accuracy: 0.9013\n",
      "Epoch 72/100\n",
      "546/546 [==============================] - 4s 7ms/step - loss: 0.4315 - accuracy: 0.8529 - val_loss: 0.3125 - val_accuracy: 0.8976\n",
      "Epoch 73/100\n",
      "546/546 [==============================] - 4s 7ms/step - loss: 0.4284 - accuracy: 0.8561 - val_loss: 0.3014 - val_accuracy: 0.9028\n",
      "Epoch 74/100\n",
      "546/546 [==============================] - 4s 7ms/step - loss: 0.4187 - accuracy: 0.8582 - val_loss: 0.2933 - val_accuracy: 0.9061\n",
      "Epoch 75/100\n",
      "546/546 [==============================] - 4s 7ms/step - loss: 0.4143 - accuracy: 0.8605 - val_loss: 0.2946 - val_accuracy: 0.9054\n",
      "Epoch 76/100\n",
      "546/546 [==============================] - 4s 7ms/step - loss: 0.4194 - accuracy: 0.8594 - val_loss: 0.2944 - val_accuracy: 0.9049\n",
      "Epoch 77/100\n",
      "546/546 [==============================] - 4s 7ms/step - loss: 0.4129 - accuracy: 0.8613 - val_loss: 0.3077 - val_accuracy: 0.8992\n",
      "Epoch 78/100\n",
      "546/546 [==============================] - 4s 7ms/step - loss: 0.4082 - accuracy: 0.8621 - val_loss: 0.2890 - val_accuracy: 0.9075\n",
      "Epoch 79/100\n",
      "546/546 [==============================] - 4s 7ms/step - loss: 0.4107 - accuracy: 0.8624 - val_loss: 0.2848 - val_accuracy: 0.9079\n",
      "Epoch 80/100\n",
      "546/546 [==============================] - 4s 8ms/step - loss: 0.4093 - accuracy: 0.8610 - val_loss: 0.2855 - val_accuracy: 0.9071\n",
      "Epoch 81/100\n",
      "546/546 [==============================] - 4s 7ms/step - loss: 0.4022 - accuracy: 0.8638 - val_loss: 0.2864 - val_accuracy: 0.9092\n",
      "Epoch 82/100\n",
      "546/546 [==============================] - 4s 7ms/step - loss: 0.4034 - accuracy: 0.8648 - val_loss: 0.2810 - val_accuracy: 0.9108\n",
      "Epoch 83/100\n",
      "546/546 [==============================] - 4s 8ms/step - loss: 0.3990 - accuracy: 0.8665 - val_loss: 0.2838 - val_accuracy: 0.9112\n",
      "Epoch 84/100\n",
      "546/546 [==============================] - 4s 8ms/step - loss: 0.3970 - accuracy: 0.8657 - val_loss: 0.2783 - val_accuracy: 0.9105\n",
      "Epoch 85/100\n",
      "546/546 [==============================] - 4s 8ms/step - loss: 0.3940 - accuracy: 0.8661 - val_loss: 0.2879 - val_accuracy: 0.9077\n",
      "Epoch 86/100\n",
      "546/546 [==============================] - 4s 8ms/step - loss: 0.3857 - accuracy: 0.8699 - val_loss: 0.2831 - val_accuracy: 0.9123\n",
      "Epoch 87/100\n",
      "546/546 [==============================] - 4s 8ms/step - loss: 0.3901 - accuracy: 0.8688 - val_loss: 0.2892 - val_accuracy: 0.9089\n",
      "Epoch 88/100\n",
      "546/546 [==============================] - 4s 8ms/step - loss: 0.3776 - accuracy: 0.8724 - val_loss: 0.2735 - val_accuracy: 0.9145\n",
      "Epoch 89/100\n",
      "546/546 [==============================] - 4s 7ms/step - loss: 0.3768 - accuracy: 0.8724 - val_loss: 0.2748 - val_accuracy: 0.9149\n",
      "Epoch 90/100\n",
      "546/546 [==============================] - 4s 8ms/step - loss: 0.3829 - accuracy: 0.8690 - val_loss: 0.2734 - val_accuracy: 0.9179\n",
      "Epoch 91/100\n",
      "546/546 [==============================] - 4s 8ms/step - loss: 0.3680 - accuracy: 0.8752 - val_loss: 0.2666 - val_accuracy: 0.9184\n",
      "Epoch 92/100\n",
      "546/546 [==============================] - 4s 7ms/step - loss: 0.3505 - accuracy: 0.8828 - val_loss: 0.2658 - val_accuracy: 0.9193\n",
      "Epoch 93/100\n",
      "546/546 [==============================] - 4s 7ms/step - loss: 0.3559 - accuracy: 0.8796 - val_loss: 0.2629 - val_accuracy: 0.9201\n",
      "Epoch 94/100\n",
      "546/546 [==============================] - 4s 7ms/step - loss: 0.3574 - accuracy: 0.8795 - val_loss: 0.2639 - val_accuracy: 0.9204\n",
      "Epoch 95/100\n",
      "546/546 [==============================] - 4s 8ms/step - loss: 0.3516 - accuracy: 0.8806 - val_loss: 0.2628 - val_accuracy: 0.9207\n",
      "Epoch 96/100\n",
      "546/546 [==============================] - 4s 8ms/step - loss: 0.3531 - accuracy: 0.8813 - val_loss: 0.2615 - val_accuracy: 0.9203\n",
      "Epoch 97/100\n",
      "546/546 [==============================] - 4s 8ms/step - loss: 0.3448 - accuracy: 0.8830 - val_loss: 0.2610 - val_accuracy: 0.9209\n",
      "Epoch 98/100\n",
      "546/546 [==============================] - 4s 8ms/step - loss: 0.3475 - accuracy: 0.8838 - val_loss: 0.2622 - val_accuracy: 0.9209\n",
      "Epoch 99/100\n",
      "546/546 [==============================] - 4s 8ms/step - loss: 0.3434 - accuracy: 0.8827 - val_loss: 0.2607 - val_accuracy: 0.9199\n",
      "Epoch 100/100\n",
      "546/546 [==============================] - 4s 8ms/step - loss: 0.3483 - accuracy: 0.8824 - val_loss: 0.2613 - val_accuracy: 0.9197\n"
     ]
    }
   ],
   "source": [
    "history = cnn_model.fit(\n",
    "        train_ds,\n",
    "        steps_per_epoch = params[\"train_size\"] // config[\"BATCH_SIZE\"],\n",
    "        epochs = config[\"NUM_EPOCHS\"],\n",
    "        validation_data = test_ds,\n",
    "        validation_steps = params[\"test_size\"] // config[\"BATCH_SIZE\"],\n",
    "        validation_freq = 1,\n",
    "        callbacks = callbacks)"
   ]
  },
  {
   "cell_type": "code",
   "execution_count": 10,
   "metadata": {},
   "outputs": [],
   "source": [
    "# cnn_model.save('models/{}.h5'.format(model_name))\n",
    "# cnn_model = tf.keras.models.load_model('models/{}.h5'.format(model_name))"
   ]
  },
  {
   "cell_type": "markdown",
   "metadata": {},
   "source": [
    "## Evaluate the model"
   ]
  },
  {
   "cell_type": "code",
   "execution_count": 11,
   "metadata": {},
   "outputs": [
    {
     "name": "stdout",
     "output_type": "stream",
     "text": [
      "117/117 - 0s - loss: 0.2868 - accuracy: 0.9127\n"
     ]
    }
   ],
   "source": [
    "cnn_evaluate = cnn_model.evaluate(val_ds, verbose=2, steps=params[\"val_size\"] // config[\"BATCH_SIZE\"])"
   ]
  },
  {
   "cell_type": "code",
   "execution_count": 12,
   "metadata": {},
   "outputs": [
    {
     "data": {
      "image/png": "[encoded data removed]",
      "text/plain": [
       "<Figure size 1008x432 with 2 Axes>"
      ]
     },
     "metadata": {
      "needs_background": "light"
     },
     "output_type": "display_data"
    }
   ],
   "source": [
    "acc = history.history['accuracy']\n",
    "val_acc = history.history['val_accuracy']\n",
    "loss = history.history['loss']\n",
    "val_loss = history.history['val_loss']\n",
    "\n",
    "epochs_range = range(config[\"NUM_EPOCHS\"])\n",
    "\n",
    "plt.figure(figsize=(14, 6))\n",
    "\n",
    "# Subplot 1\n",
    "plt.subplot(1, 2, 1)\n",
    "plt.plot(epochs_range, acc, label='Training Accuracy')\n",
    "plt.plot(epochs_range, val_acc, label='Validation Accuracy')\n",
    "plt.legend(loc='lower right')\n",
    "# plt.ylim([0.5, 1])\n",
    "plt.xlabel('Epoch')\n",
    "plt.ylabel('Accuracy')\n",
    "plt.title('Training and Validation Accuracy')\n",
    "\n",
    "# Subplot 2\n",
    "plt.subplot(1, 2, 2)\n",
    "plt.plot(epochs_range, loss, label='Training Loss')\n",
    "plt.plot(epochs_range, val_loss, label='Validation Loss')\n",
    "plt.legend(loc='upper right')\n",
    "# plt.ylim([0.5, 1])\n",
    "plt.xlabel('Epoch')\n",
    "plt.ylabel('Accuracy')\n",
    "plt.title('Training and Validation Loss')\n",
    "plt.show()"
   ]
  },
  {
   "cell_type": "markdown",
   "metadata": {},
   "source": [
    "`Tensorboard`"
   ]
  },
  {
   "cell_type": "raw",
   "metadata": {},
   "source": [
    "from tensorboard import notebook\n",
    "# Load the TensorBoard notebook extension\n",
    "# %load_ext tensorboard\n",
    "\n",
    "# Start tensorboard\n",
    "# %tensorboard --logdir logs"
   ]
  },
  {
   "cell_type": "raw",
   "metadata": {},
   "source": [
    "# Clear any logs from previous runs (move to .old instead?)\n",
    "!rm -rf ./logs/\n",
    "\n",
    "# Stop tensorboard\n",
    "notebook.list()\n",
    "!kill 20058"
   ]
  },
  {
   "cell_type": "markdown",
   "metadata": {},
   "source": [
    "## Predict new samples"
   ]
  },
  {
   "cell_type": "code",
   "execution_count": 13,
   "metadata": {},
   "outputs": [],
   "source": [
    "# Fetch one batch\n",
    "images, labels = next(iter(val_ds))\n",
    "\n",
    "# Convert from tensor to numpy array\n",
    "images = images.numpy()\n",
    "labels = labels.numpy()"
   ]
  },
  {
   "cell_type": "code",
   "execution_count": 25,
   "metadata": {},
   "outputs": [
    {
     "name": "stdout",
     "output_type": "stream",
     "text": [
      "0.0000 cat\n",
      "0.0000 airplane\n",
      "0.0000 deer\n",
      "0.0002 automobile\n",
      "0.0000 ship\n",
      "0.0000 horse\n",
      "0.9997 truck\n",
      "0.0000 dog\n",
      "0.0000 bird\n",
      "0.0000 frog\n",
      "\n",
      "Label: truck\n",
      "Predicton: truck\n"
     ]
    },
    {
     "data": {
      "image/png": "[encoded data removed]",
      "text/plain": [
       "<Figure size 432x288 with 1 Axes>"
      ]
     },
     "metadata": {},
     "output_type": "display_data"
    }
   ],
   "source": [
    "# Get a random image and label\n",
    "rand = np.random.randint(0, config[\"BATCH_SIZE\"])\n",
    "image = images[rand]\n",
    "label = labels[rand]\n",
    "\n",
    "# Predict one image\n",
    "predictions = cnn_model.predict(np.expand_dims(image, axis=0))[0]\n",
    "\n",
    "for i, pred in enumerate(predictions):\n",
    "    print(\"{:0.4f} {}\".format(pred,params[\"class_names\"][i]))\n",
    "\n",
    "print (\"\\nLabel:\", params[\"class_names\"][label])\n",
    "print (\"Predicton:\", params[\"class_names\"][np.argmax(predictions)])\n",
    "\n",
    "plt.figure(frameon=False, facecolor='white')\n",
    "plt.imshow(image)\n",
    "plt.axis('off');"
   ]
  },
  {
   "cell_type": "code",
   "execution_count": 15,
   "metadata": {},
   "outputs": [
    {
     "name": "stdout",
     "output_type": "stream",
     "text": [
      "idx  label       pred\n",
      "---  -------     --------\n",
      "\n",
      "  0  horse       horse     \n",
      "  1  airplane    airplane  \n",
      "  2  airplane    airplane  \n",
      "  3  airplane    airplane  \n",
      "  4  dog         dog       \n",
      "  5  deer        deer      \n",
      "  6  horse       horse     \n",
      "  7  horse       horse     \n",
      "  8  truck       truck     \n",
      "  9  ship        ship      \n",
      " 10  airplane    airplane  \n",
      " 11  automobile  automobile\n",
      " 12  automobile  automobile\n",
      " 13  cat         cat       \n",
      " 14  cat         cat       \n",
      " 15  bird        bird      \n",
      " 16  ship        ship      \n",
      " 17  cat         cat       \n",
      " 18  dog         dog       \n",
      " 19  ship        ship      \n",
      " 20  dog         dog       \n",
      " 21  automobile  automobile\n",
      " 22  frog        frog      \n",
      " 23  bird        deer        Wrong\n",
      " 24  frog        frog      \n",
      " 25  airplane    airplane  \n",
      " 26  dog         dog       \n",
      " 27  ship        ship      \n",
      " 28  horse       horse     \n",
      " 29  bird        bird      \n",
      " 30  dog         cat         Wrong\n",
      " 31  frog        frog      \n",
      " 32  ship        ship      \n",
      " 33  ship        ship      \n",
      " 34  deer        deer      \n",
      " 35  bird        bird      \n",
      " 36  deer        deer      \n",
      " 37  cat         cat       \n",
      " 38  dog         cat         Wrong\n",
      " 39  airplane    bird        Wrong\n",
      " 40  ship        ship      \n",
      " 41  frog        frog      \n",
      " 42  truck       truck     \n",
      " 43  horse       horse     \n",
      " 44  truck       truck     \n",
      " 45  ship        ship      \n",
      " 46  truck       truck     \n",
      " 47  cat         cat       \n",
      " 48  airplane    airplane  \n",
      " 49  truck       truck     \n",
      " 50  deer        deer      \n",
      " 51  cat         frog        Wrong\n",
      " 52  cat         cat       \n",
      " 53  bird        cat         Wrong\n",
      " 54  automobile  automobile\n",
      " 55  automobile  automobile\n",
      " 56  bird        bird      \n",
      " 57  frog        frog      \n",
      " 58  deer        deer      \n",
      " 59  automobile  automobile\n",
      " 60  deer        deer      \n",
      " 61  deer        deer      \n",
      " 62  deer        deer      \n",
      " 63  horse       horse     "
     ]
    }
   ],
   "source": [
    "# Predict one batch\n",
    "predictions = cnn_model.predict(images)\n",
    "\n",
    "print ('{:3}  {:10}  {:3}'.format('idx', 'label', 'pred'))\n",
    "print ('---  -------     --------')\n",
    "\n",
    "for i, pred in enumerate(predictions):\n",
    "    label = params[\"class_names\"][labels[i]]\n",
    "    prediction = params[\"class_names\"][np.argmax(pred)]\n",
    "    print ('\\n{:3}  {:10}  {:10}'.format(i, label, prediction), end='')\n",
    "    if (label != prediction): print (\"  Wrong\", end='')"
   ]
  }
 ],
 "metadata": {
  "kernelspec": {
   "display_name": "TF2",
   "language": "python",
   "name": "tf2"
  },
  "language_info": {
   "codemirror_mode": {
    "name": "ipython",
    "version": 3
   },
   "file_extension": ".py",
   "mimetype": "text/x-python",
   "name": "python",
   "nbconvert_exporter": "python",
   "pygments_lexer": "ipython3",
   "version": "3.7.6"
  }
 },
 "nbformat": 4,
 "nbformat_minor": 4
}
