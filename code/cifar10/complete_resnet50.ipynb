{
 "cells": [
  {
   "cell_type": "markdown",
   "metadata": {},
   "source": [
    "CIFAR10 dataset trained on all classes with resnet56 without augmentation."
   ]
  },
  {
   "cell_type": "markdown",
   "metadata": {},
   "source": [
    "### Loading images\n",
    "https://www.tensorflow.org/tutorials/load_data/images"
   ]
  },
  {
   "cell_type": "markdown",
   "metadata": {},
   "source": [
    "## Training"
   ]
  },
  {
   "cell_type": "code",
   "execution_count": 1,
   "metadata": {},
   "outputs": [],
   "source": [
    "from __future__ import absolute_import, division, print_function, unicode_literals\n",
    "\n",
    "import tensorflow as tf\n",
    "\n",
    "import numpy as np\n",
    "import os\n",
    "import pathlib\n",
    "import matplotlib.pyplot as plt\n",
    "\n",
    "# Some stuff to make utils-function work\n",
    "import sys\n",
    "sys.path.append('/home/henrik/master_thesis/code/utils')\n",
    "from data_prep import create_dataset, print_class_info, show_image\n",
    "%load_ext autoreload\n",
    "%autoreload 2\n",
    "\n",
    "# Jupyter-specific\n",
    "%matplotlib inline"
   ]
  },
  {
   "cell_type": "markdown",
   "metadata": {},
   "source": [
    "Some parameters"
   ]
  },
  {
   "cell_type": "code",
   "execution_count": 2,
   "metadata": {},
   "outputs": [],
   "source": [
    "data_dir = pathlib.Path('/mnt/sdb/cifar10/train/')\n",
    "\n",
    "config = {\n",
    "    \"data_dir\": data_dir,\n",
    "    \"cache_dir\": \"./cache\",\n",
    "    \"MODEL\": 'resnet50',\n",
    "    \"DS_INFO\": 'complete',\n",
    "    \"resample\": True,\n",
    "    \"neg_class\": ['ship'],\n",
    "    \"NUM_EPOCHS\": 5,\n",
    "    \"BATCH_SIZE\": 64,\n",
    "    \"IMG_SIZE\": (32, 32, 3),\n",
    "    \"outcast\": None,\n",
    "    \"verbosity\": 1\n",
    "    }\n",
    "\n",
    "model_name = '{}x{}x{}_{}_{}'.format(config[\"NUM_EPOCHS\"], config[\"BATCH_SIZE\"], \n",
    "                                     config[\"IMG_SIZE\"][1], config[\"DS_INFO\"], config[\"MODEL\"])"
   ]
  },
  {
   "cell_type": "markdown",
   "metadata": {},
   "source": [
    "Create training, testing and validation dataset from utils/data_prep.py"
   ]
  },
  {
   "cell_type": "code",
   "execution_count": 3,
   "metadata": {},
   "outputs": [
    {
     "name": "stdout",
     "output_type": "stream",
     "text": [
      "Directories:  ['cat' 'airplane' 'deer' 'automobile' 'ship' 'horse' 'truck' 'dog' 'bird'\n",
      " 'frog']\n",
      "\n",
      "cat               : 5000\n",
      "airplane          : 5000\n",
      "deer              : 5000\n",
      "automobile        : 5000\n",
      "ship              : 5000\n",
      "horse             : 5000\n",
      "truck             : 5000\n",
      "dog               : 5000\n",
      "bird              : 5000\n",
      "frog              : 5000\n",
      "\n",
      "Total number of images: 50000, in 10 classes\n",
      "Dataset.list_files:  /mnt/sdb/cifar10/train/*/*.*g \n",
      "\n",
      "WARNING:tensorflow:Entity <function create_dataset.<locals>.get_label at 0x7f2aa33e39e0> could not be transformed and will be executed as-is. Please report this to the AutoGraph team. When filing the bug, set the verbosity to 10 (on Linux, `export AUTOGRAPH_VERBOSITY=10`) and attach the full output. Cause: Cell is empty\n",
      "WARNING: Entity <function create_dataset.<locals>.get_label at 0x7f2aa33e39e0> could not be transformed and will be executed as-is. Please report this to the AutoGraph team. When filing the bug, set the verbosity to 10 (on Linux, `export AUTOGRAPH_VERBOSITY=10`) and attach the full output. Cause: Cell is empty\n",
      "[1 5 2 3 6 0 3 9 5 3]\n",
      "[9 4 2 6 1 2 1 8 9 7]\n",
      "[9 7 8 1 4 6 9 5 5 3]\n",
      "[5 8 8 8 7 4 3 3 1 9]\n",
      "[5 1 3 1 5 0 0 3 1 8]\n",
      "[4 7 3 6 3 1 3 9 8 4]\n",
      "[1 8 7 3 5 6 3 9 4 3]\n",
      "[8 5 9 2 7 3 6 0 2 3]\n",
      "[5 2 2 9 8 7 4 9 2 0]\n",
      "[3 3 8 4 3 8 4 4 6 9]\n",
      "\n",
      "Full dataset sample size:        50000\n",
      "Train dataset sample size:       35000\n",
      "Test dataset sample size:         7500\n",
      "Validation dataset sample size:   7500\n"
     ]
    }
   ],
   "source": [
    "train_ds, test_ds, val_ds, params = create_dataset(config)"
   ]
  },
  {
   "cell_type": "markdown",
   "metadata": {},
   "source": [
    "### Resnet50 transfer learning\n",
    "https://adventuresinmachinelearning.com/transfer-learning-tensorflow-2/"
   ]
  },
  {
   "cell_type": "code",
   "execution_count": 4,
   "metadata": {},
   "outputs": [],
   "source": [
    "from tensorflow.python.keras.applications import ResNet50\n",
    "from tensorflow.python.keras.models import Sequential\n",
    "from tensorflow.python.keras.layers import Dense\n",
    "from tensorflow.keras import layers"
   ]
  },
  {
   "cell_type": "markdown",
   "metadata": {},
   "source": [
    "Create and compile the model"
   ]
  },
  {
   "cell_type": "code",
   "execution_count": 5,
   "metadata": {},
   "outputs": [],
   "source": [
    "res_net = tf.keras.applications.ResNet50(\n",
    "                weights='imagenet', \n",
    "                include_top=False, \n",
    "                input_shape=config[\"IMG_SIZE\"])"
   ]
  },
  {
   "cell_type": "code",
   "execution_count": 6,
   "metadata": {},
   "outputs": [],
   "source": [
    "res_net.trainable = False\n",
    "\n",
    "global_average_layer = layers.GlobalAveragePooling2D()\n",
    "output_layer = layers.Dense(params[\"NUM_CLASSES\"], activation='softmax')\n",
    "\n",
    "resnet50_model = tf.keras.Sequential([\n",
    "        res_net,\n",
    "        global_average_layer,\n",
    "        output_layer])"
   ]
  },
  {
   "cell_type": "code",
   "execution_count": 7,
   "metadata": {},
   "outputs": [
    {
     "name": "stdout",
     "output_type": "stream",
     "text": [
      "Model: \"sequential\"\n",
      "_________________________________________________________________\n",
      "Layer (type)                 Output Shape              Param #   \n",
      "=================================================================\n",
      "resnet50 (Model)             (None, 1, 1, 2048)        23587712  \n",
      "_________________________________________________________________\n",
      "global_average_pooling2d (Gl (None, 2048)              0         \n",
      "_________________________________________________________________\n",
      "dense (Dense)                (None, 10)                20490     \n",
      "=================================================================\n",
      "Total params: 23,608,202\n",
      "Trainable params: 20,490\n",
      "Non-trainable params: 23,587,712\n",
      "_________________________________________________________________\n"
     ]
    }
   ],
   "source": [
    "if config[\"verbosity\"] > 0:\n",
    "    resnet50_model.summary()"
   ]
  },
  {
   "cell_type": "raw",
   "metadata": {},
   "source": [
    "# Save image of layers\n",
    "tf.keras.utils.plot_model(resnet50_model, 'models/{}.png'.format(model_name), show_shapes=True)"
   ]
  },
  {
   "cell_type": "code",
   "execution_count": 8,
   "metadata": {},
   "outputs": [],
   "source": [
    "opt = tf.keras.optimizers.Adam(learning_rate=0.001)\n",
    "\n",
    "resnet50_model.compile(\n",
    "        optimizer=opt,\n",
    "        loss='binary_crossentropy',\n",
    "        metrics=['accuracy'])\n",
    "\n",
    "callbacks = [tf.keras.callbacks.TensorBoard(\n",
    "                log_dir='./logs/resnet50_model', \n",
    "                update_freq='batch')]"
   ]
  },
  {
   "cell_type": "markdown",
   "metadata": {},
   "source": [
    "Train the model"
   ]
  },
  {
   "cell_type": "code",
   "execution_count": 9,
   "metadata": {},
   "outputs": [
    {
     "name": "stdout",
     "output_type": "stream",
     "text": [
      "Train for 546 steps, validate for 117 steps\n",
      "Epoch 1/5\n",
      "546/546 [==============================] - 14s 26ms/step - loss: 11.4071 - accuracy: 0.1010 - val_loss: 10.2066 - val_accuracy: 0.1008\n",
      "Epoch 2/5\n",
      "546/546 [==============================] - 10s 18ms/step - loss: 10.0640 - accuracy: 0.1011 - val_loss: 9.9432 - val_accuracy: 0.1010\n",
      "Epoch 3/5\n",
      "546/546 [==============================] - 10s 18ms/step - loss: 9.9998 - accuracy: 0.1010 - val_loss: 9.9434 - val_accuracy: 0.1008\n",
      "Epoch 4/5\n",
      "546/546 [==============================] - 10s 18ms/step - loss: 9.9885 - accuracy: 0.1012 - val_loss: 9.9380 - val_accuracy: 0.1008\n",
      "Epoch 5/5\n",
      "546/546 [==============================] - 10s 18ms/step - loss: 10.0169 - accuracy: 0.1012 - val_loss: 10.0918 - val_accuracy: 0.1007\n"
     ]
    }
   ],
   "source": [
    "history = resnet50_model.fit(\n",
    "        train_ds,\n",
    "        steps_per_epoch = params[\"train_size\"] // config[\"BATCH_SIZE\"],\n",
    "        epochs = config[\"NUM_EPOCHS\"],\n",
    "        validation_data = test_ds,\n",
    "        validation_steps = params[\"test_size\"] // config[\"BATCH_SIZE\"],\n",
    "        validation_freq = 1,\n",
    "        callbacks = callbacks)"
   ]
  },
  {
   "cell_type": "markdown",
   "metadata": {},
   "source": [
    "`Keras`\n",
    "Save/load the model"
   ]
  },
  {
   "cell_type": "code",
   "execution_count": 10,
   "metadata": {},
   "outputs": [],
   "source": [
    "# resnet50_model.save('models/{}.h5'.format(model_name))\n",
    "# resnet50_model = tf.keras.models.load_model('models/{}.h5'.format(model_name))"
   ]
  },
  {
   "cell_type": "markdown",
   "metadata": {},
   "source": [
    "## Evaluate the model"
   ]
  },
  {
   "cell_type": "code",
   "execution_count": 11,
   "metadata": {},
   "outputs": [
    {
     "name": "stdout",
     "output_type": "stream",
     "text": [
      "117/117 - 2s - loss: 10.1123 - accuracy: 0.1022\n"
     ]
    }
   ],
   "source": [
    "resnet50_evaluate = resnet50_model.evaluate(val_ds, verbose=2, steps=params[\"val_size\"] // config[\"BATCH_SIZE\"])"
   ]
  },
  {
   "cell_type": "code",
   "execution_count": 12,
   "metadata": {},
   "outputs": [
    {
     "data": {
      "image/png": "[encoded data removed]",
      "text/plain": [
       "<Figure size 1008x432 with 2 Axes>"
      ]
     },
     "metadata": {
      "needs_background": "light"
     },
     "output_type": "display_data"
    }
   ],
   "source": [
    "acc = history.history['accuracy']\n",
    "val_acc = history.history['val_accuracy']\n",
    "loss = history.history['loss']\n",
    "val_loss = history.history['val_loss']\n",
    "\n",
    "epochs_range = range(config[\"NUM_EPOCHS\"])\n",
    "\n",
    "plt.figure(figsize=(14, 6))\n",
    "\n",
    "# Subplot 1\n",
    "plt.subplot(1, 2, 1)\n",
    "plt.plot(epochs_range, acc, label='Training Accuracy')\n",
    "plt.plot(epochs_range, val_acc, label='Validation Accuracy')\n",
    "plt.legend(loc='lower right')\n",
    "# plt.ylim([0.5, 1])\n",
    "plt.xlabel('Epoch')\n",
    "plt.ylabel('Accuracy')\n",
    "plt.title('Training and Validation Accuracy')\n",
    "\n",
    "# Subplot 2\n",
    "plt.subplot(1, 2, 2)\n",
    "plt.plot(epochs_range, loss, label='Training Loss')\n",
    "plt.plot(epochs_range, val_loss, label='Validation Loss')\n",
    "plt.legend(loc='upper right')\n",
    "# plt.ylim([0.5, 1])\n",
    "plt.xlabel('Epoch')\n",
    "plt.ylabel('Accuracy')\n",
    "plt.title('Training and Validation Loss')\n",
    "plt.show()"
   ]
  },
  {
   "cell_type": "markdown",
   "metadata": {},
   "source": [
    "`Tensorboard`"
   ]
  },
  {
   "cell_type": "raw",
   "metadata": {},
   "source": [
    "from tensorboard import notebook\n",
    "# Load the TensorBoard notebook extension\n",
    "# %load_ext tensorboard\n",
    "\n",
    "# Start tensorboard\n",
    "# %tensorboard --logdir logs"
   ]
  },
  {
   "cell_type": "raw",
   "metadata": {},
   "source": [
    "# Clear any logs from previous runs (move to .old instead?)\n",
    "!rm -rf ./logs/\n",
    "\n",
    "# Stop tensorboard\n",
    "notebook.list()\n",
    "!kill 20058"
   ]
  },
  {
   "cell_type": "markdown",
   "metadata": {},
   "source": [
    "## Predict new samples"
   ]
  },
  {
   "cell_type": "code",
   "execution_count": 13,
   "metadata": {},
   "outputs": [],
   "source": [
    "# Fetch one batch\n",
    "images, labels = next(iter(val_ds))\n",
    "\n",
    "# Convert from tensor to numpy array\n",
    "images = images.numpy()\n",
    "labels = labels.numpy()"
   ]
  },
  {
   "cell_type": "code",
   "execution_count": 14,
   "metadata": {},
   "outputs": [
    {
     "name": "stdout",
     "output_type": "stream",
     "text": [
      "0.1262 cat\n",
      "0.1296 airplane\n",
      "0.0476 deer\n",
      "0.0940 automobile\n",
      "0.0958 ship\n",
      "0.0721 horse\n",
      "0.1026 truck\n",
      "0.1200 dog\n",
      "0.1025 bird\n",
      "0.1096 frog\n",
      "\n",
      "Label: truck\n",
      "Predicton: airplane\n"
     ]
    },
    {
     "data": {
      "image/png": "[encoded data removed]",
      "text/plain": [
       "<Figure size 432x288 with 1 Axes>"
      ]
     },
     "metadata": {},
     "output_type": "display_data"
    }
   ],
   "source": [
    "# Get a random image and label\n",
    "rand = np.random.randint(0, config[\"BATCH_SIZE\"])\n",
    "image = images[rand]\n",
    "label = labels[rand]\n",
    "\n",
    "# Predict one image\n",
    "predictions = resnet50_model.predict(np.expand_dims(image, axis=0))[0]\n",
    "\n",
    "for i, pred in enumerate(predictions):\n",
    "    print(\"{:0.4f} {}\".format(pred,params[\"class_names\"][i]))\n",
    "\n",
    "print (\"\\nLabel:\", params[\"class_names\"][label])\n",
    "print (\"Predicton:\", params[\"class_names\"][np.argmax(predictions)])\n",
    "\n",
    "plt.figure(frameon=False, facecolor='white')\n",
    "plt.imshow(image)\n",
    "plt.axis('off');"
   ]
  },
  {
   "cell_type": "code",
   "execution_count": 15,
   "metadata": {},
   "outputs": [
    {
     "name": "stdout",
     "output_type": "stream",
     "text": [
      "idx  label       pred\n",
      "---  -------     --------\n",
      "\n",
      "  0  ship        airplane    Wrong\n",
      "  1  ship        airplane    Wrong\n",
      "  2  dog         airplane    Wrong\n",
      "  3  automobile  airplane    Wrong\n",
      "  4  dog         airplane    Wrong\n",
      "  5  airplane    airplane  \n",
      "  6  automobile  airplane    Wrong\n",
      "  7  dog         airplane    Wrong\n",
      "  8  cat         airplane    Wrong\n",
      "  9  horse       airplane    Wrong\n",
      " 10  deer        airplane    Wrong\n",
      " 11  horse       airplane    Wrong\n",
      " 12  deer        airplane    Wrong\n",
      " 13  truck       airplane    Wrong\n",
      " 14  truck       airplane    Wrong\n",
      " 15  automobile  airplane    Wrong\n",
      " 16  ship        airplane    Wrong\n",
      " 17  truck       airplane    Wrong\n",
      " 18  airplane    airplane  \n",
      " 19  horse       airplane    Wrong\n",
      " 20  deer        airplane    Wrong\n",
      " 21  automobile  airplane    Wrong\n",
      " 22  truck       airplane    Wrong\n",
      " 23  truck       airplane    Wrong\n",
      " 24  ship        airplane    Wrong\n",
      " 25  truck       airplane    Wrong\n",
      " 26  ship        airplane    Wrong\n",
      " 27  bird        airplane    Wrong\n",
      " 28  horse       airplane    Wrong\n",
      " 29  dog         airplane    Wrong\n",
      " 30  frog        airplane    Wrong\n",
      " 31  airplane    cat         Wrong\n",
      " 32  bird        airplane    Wrong\n",
      " 33  ship        airplane    Wrong\n",
      " 34  deer        airplane    Wrong\n",
      " 35  dog         airplane    Wrong\n",
      " 36  airplane    airplane  \n",
      " 37  truck       airplane    Wrong\n",
      " 38  cat         airplane    Wrong\n",
      " 39  airplane    airplane  \n",
      " 40  bird        airplane    Wrong\n",
      " 41  airplane    airplane  \n",
      " 42  automobile  airplane    Wrong\n",
      " 43  cat         airplane    Wrong\n",
      " 44  cat         airplane    Wrong\n",
      " 45  automobile  airplane    Wrong\n",
      " 46  truck       airplane    Wrong\n",
      " 47  airplane    airplane  \n",
      " 48  automobile  airplane    Wrong\n",
      " 49  airplane    airplane  \n",
      " 50  truck       airplane    Wrong\n",
      " 51  bird        airplane    Wrong\n",
      " 52  horse       airplane    Wrong\n",
      " 53  cat         airplane    Wrong\n",
      " 54  deer        airplane    Wrong\n",
      " 55  truck       airplane    Wrong\n",
      " 56  frog        airplane    Wrong\n",
      " 57  horse       airplane    Wrong\n",
      " 58  dog         airplane    Wrong\n",
      " 59  frog        airplane    Wrong\n",
      " 60  dog         airplane    Wrong\n",
      " 61  airplane    airplane  \n",
      " 62  dog         cat         Wrong\n",
      " 63  deer        airplane    Wrong"
     ]
    }
   ],
   "source": [
    "# Predict one batch\n",
    "predictions = resnet50_model.predict(images)\n",
    "\n",
    "print ('{:3}  {:10}  {:3}'.format('idx', 'label', 'pred'))\n",
    "print ('---  -------     --------')\n",
    "\n",
    "for i, pred in enumerate(predictions):\n",
    "    label = params[\"class_names\"][labels[i]]\n",
    "    prediction = params[\"class_names\"][np.argmax(pred)]\n",
    "    print ('\\n{:3}  {:10}  {:10}'.format(i, label, prediction), end='')\n",
    "    if (label != prediction): print (\"  Wrong\", end='')"
   ]
  }
 ],
 "metadata": {
  "kernelspec": {
   "display_name": "TF2",
   "language": "python",
   "name": "tf2"
  },
  "language_info": {
   "codemirror_mode": {
    "name": "ipython",
    "version": 3
   },
   "file_extension": ".py",
   "mimetype": "text/x-python",
   "name": "python",
   "nbconvert_exporter": "python",
   "pygments_lexer": "ipython3",
   "version": "3.7.6"
  }
 },
 "nbformat": 4,
 "nbformat_minor": 4
}
