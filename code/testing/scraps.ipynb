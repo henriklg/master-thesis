{
 "cells": [
  {
   "cell_type": "markdown",
   "metadata": {},
   "source": [
    "### InverseTimeDecay Learning Rate"
   ]
  },
  {
   "cell_type": "code",
   "execution_count": 49,
   "metadata": {},
   "outputs": [],
   "source": [
    "import numpy as np\n",
    "import tensorflow as tf\n",
    "import matplotlib.pyplot as plt\n",
    "\n",
    "train_size = 10000\n",
    "batch_size = 64\n",
    "epochs = 150\n",
    "initial_learning_rate = 0.01\n",
    "decay_rate = 2.0"
   ]
  },
  {
   "cell_type": "code",
   "execution_count": 50,
   "metadata": {},
   "outputs": [
    {
     "data": {
      "image/png": "[encoded data removed]",
      "text/plain": [
       "<Figure size 576x432 with 1 Axes>"
      ]
     },
     "metadata": {
      "needs_background": "light"
     },
     "output_type": "display_data"
    }
   ],
   "source": [
    "# By using InverseTimeDecay\n",
    "lr_schedule = tf.keras.optimizers.schedules.InverseTimeDecay(\n",
    "    initial_learning_rate = initial_learning_rate,\n",
    "    decay_steps = train_size // batch_size,\n",
    "    decay_rate = decay_rate,\n",
    "    staircase = False\n",
    ")\n",
    "\n",
    "# Plot the function\n",
    "step_per_epoch = train_size // batch_size\n",
    "step = np.linspace(0,step_per_epoch*epochs)\n",
    "\n",
    "lr = lr_schedule(step)\n",
    "\n",
    "plt.figure(figsize = (8,6))\n",
    "plt.plot(step/step_per_epoch, lr)\n",
    "plt.ylim([0,max(plt.ylim())])\n",
    "plt.title('Learning rate')\n",
    "plt.xlabel('Epoch')\n",
    "plt.ylabel('Learning Rate');\n",
    "\n",
    "# opt = tf.keras.optimizers.SGD(lr_schedule)"
   ]
  },
  {
   "cell_type": "code",
   "execution_count": 51,
   "metadata": {},
   "outputs": [
    {
     "name": "stdout",
     "output_type": "stream",
     "text": [
      "[9.9999998e-03 1.4040114e-03 7.5500767e-04 5.1633298e-04 3.9231384e-04\n",
      " 3.1633311e-04 2.6500810e-04 2.2801303e-04 2.0008166e-04 1.7824664e-04\n",
      " 1.6070843e-04 1.4631233e-04 1.3428336e-04 1.2408204e-04 1.1532125e-04\n",
      " 1.0771598e-04 1.0105176e-04 9.5164112e-05 8.9924761e-05 8.5232205e-05\n",
      " 8.1005121e-05 7.7177509e-05 7.3695293e-05 7.0513743e-05 6.7595523e-05\n",
      " 6.4909262e-05 6.2428335e-05 6.0130074e-05 5.7995028e-05 5.6006396e-05\n",
      " 5.4149630e-05 5.2412019e-05 5.0782462e-05 4.9251179e-05 4.7809543e-05\n",
      " 4.6449903e-05 4.5165452e-05 4.3950127e-05 4.2798492e-05 4.1705676e-05\n",
      " 4.0667273e-05 3.9679326e-05 3.8738239e-05 3.7840760e-05 3.6983922e-05\n",
      " 3.6165027e-05 3.5381614e-05 3.4631423e-05 3.3912380e-05 3.3222590e-05]\n"
     ]
    }
   ],
   "source": [
    "print (lr.numpy())"
   ]
  },
  {
   "cell_type": "markdown",
   "metadata": {},
   "source": [
    "### Data Augmentation"
   ]
  },
  {
   "cell_type": "code",
   "execution_count": null,
   "metadata": {},
   "outputs": [],
   "source": [
    "def train_preprocess(image, label):\n",
    "    image = tf.image.random_flip_left_right(image)\n",
    "\n",
    "    image = tf.image.random_brightness(image, max_delta=32.0 / 255.0)\n",
    "    image = tf.image.random_saturation(image, lower=0.5, upper=1.5)\n",
    "\n",
    "    #Make sure the image is still in [0, 1]\n",
    "    image = tf.clip_by_value(image, 0.0, 1.0)\n",
    "\n",
    "    return image, label"
   ]
  }
 ],
 "metadata": {
  "kernelspec": {
   "display_name": "TF2",
   "language": "python",
   "name": "tf2"
  },
  "language_info": {
   "codemirror_mode": {
    "name": "ipython",
    "version": 3
   },
   "file_extension": ".py",
   "mimetype": "text/x-python",
   "name": "python",
   "nbconvert_exporter": "python",
   "pygments_lexer": "ipython3",
   "version": "3.7.6"
  }
 },
 "nbformat": 4,
 "nbformat_minor": 4
}
