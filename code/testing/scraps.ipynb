{
 "cells": [
  {
   "cell_type": "markdown",
   "metadata": {},
   "source": [
    "### InverseTimeDecay Learning Rate"
   ]
  },
  {
   "cell_type": "code",
   "execution_count": null,
   "metadata": {},
   "outputs": [],
   "source": [
    "# By using InverseTimeDecay\n",
    "lr_schedule = tf.keras.optimizers.schedules.InverseTimeDecay(\n",
    "    initial_learning_rate=learning_rate,\n",
    "    decay_steps=params[\"train_size\"] // config[\"BATCH_SIZE\"],\n",
    "    decay_rate=0.6,\n",
    "    staircase=False\n",
    ")\n",
    "\n",
    "# Plot the function\n",
    "step_per_epoch = params[\"train_size\"] // config[\"BATCH_SIZE\"]\n",
    "step = np.linspace(0,step_per_epoch*100)\n",
    "\n",
    "lr = lr_schedule(step)\n",
    "\n",
    "plt.figure(figsize = (8,6))\n",
    "plt.plot(step/step_per_epoch, lr)\n",
    "plt.ylim([0,max(plt.ylim())])\n",
    "plt.title('Learning rate')\n",
    "plt.xlabel('Epoch')\n",
    "plt.ylabel('Learning Rate');\n",
    "\n",
    "opt = tf.keras.optimizers.SGD(lr_schedule)"
   ]
  }
 ],
 "metadata": {
  "kernelspec": {
   "display_name": "TF2",
   "language": "python",
   "name": "tf2"
  },
  "language_info": {
   "codemirror_mode": {
    "name": "ipython",
    "version": 3
   },
   "file_extension": ".py",
   "mimetype": "text/x-python",
   "name": "python",
   "nbconvert_exporter": "python",
   "pygments_lexer": "ipython3",
   "version": "3.7.6"
  }
 },
 "nbformat": 4,
 "nbformat_minor": 4
}
