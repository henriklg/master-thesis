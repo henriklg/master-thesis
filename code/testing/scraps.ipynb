{
 "cells": [
  {
   "cell_type": "markdown",
   "metadata": {},
   "source": [
    "### InverseTimeDecay Learning Rate"
   ]
  },
  {
   "cell_type": "code",
   "execution_count": 1,
   "metadata": {},
   "outputs": [],
   "source": [
    "import numpy as np\n",
    "import tensorflow as tf\n",
    "import matplotlib.pyplot as plt\n",
    "\n",
    "train_size = 7400\n",
    "batch_size = 128\n",
    "epochs = 40\n",
    "initial_learning_rate = 0.001\n",
    "decay_rate = 0.1"
   ]
  },
  {
   "cell_type": "code",
   "execution_count": 2,
   "metadata": {},
   "outputs": [
    {
     "data": {
      "image/png": "[encoded data removed]",
      "text/plain": [
       "<Figure size 576x432 with 1 Axes>"
      ]
     },
     "metadata": {
      "needs_background": "light"
     },
     "output_type": "display_data"
    }
   ],
   "source": [
    "# By using InverseTimeDecay\n",
    "lr_schedule = tf.keras.optimizers.schedules.InverseTimeDecay(\n",
    "    initial_learning_rate = initial_learning_rate,\n",
    "    decay_steps = train_size // batch_size,\n",
    "    decay_rate = decay_rate,\n",
    "    staircase = False\n",
    ")\n",
    "\n",
    "# Plot the function\n",
    "step_per_epoch = train_size // batch_size\n",
    "step = np.linspace(0,step_per_epoch*epochs)\n",
    "\n",
    "lr = lr_schedule(step)\n",
    "\n",
    "plt.figure(figsize = (8,6))\n",
    "plt.plot(step/step_per_epoch, lr)\n",
    "plt.ylim([0,max(plt.ylim())])\n",
    "plt.title('Learning rate')\n",
    "plt.xlabel('Epoch')\n",
    "plt.ylabel('Learning Rate');\n",
    "\n",
    "# opt = tf.keras.optimizers.SGD(lr_schedule)"
   ]
  },
  {
   "cell_type": "code",
   "execution_count": 3,
   "metadata": {},
   "outputs": [
    {
     "name": "stdout",
     "output_type": "stream",
     "text": [
      "[0.001      0.00092453 0.00085965 0.00080328 0.00075385 0.00071014\n",
      " 0.00067123 0.00063636 0.00060494 0.00057647 0.00055056 0.00052688\n",
      " 0.00050515 0.00048515 0.00046667 0.00044954 0.00043363 0.0004188\n",
      " 0.00040496 0.000392   0.00037984 0.00036842 0.00035766 0.00034752\n",
      " 0.00033793 0.00032886 0.00032026 0.0003121  0.00030435 0.00029697\n",
      " 0.00028994 0.00028324 0.00027684 0.00027072 0.00026486 0.00025926\n",
      " 0.00025389 0.00024873 0.00024378 0.00023902 0.00023445 0.00023005\n",
      " 0.00022581 0.00022172 0.00021778 0.00021397 0.0002103  0.00020675\n",
      " 0.00020332 0.0002    ]\n"
     ]
    }
   ],
   "source": [
    "print (lr.numpy())"
   ]
  },
  {
   "cell_type": "markdown",
   "metadata": {},
   "source": [
    "### Data Augmentation"
   ]
  },
  {
   "cell_type": "code",
   "execution_count": null,
   "metadata": {},
   "outputs": [],
   "source": [
    "def train_preprocess(image, label):\n",
    "    image = tf.image.random_flip_left_right(image)\n",
    "\n",
    "    image = tf.image.random_brightness(image, max_delta=32.0 / 255.0)\n",
    "    image = tf.image.random_saturation(image, lower=0.5, upper=1.5)\n",
    "\n",
    "    #Make sure the image is still in [0, 1]\n",
    "    image = tf.clip_by_value(image, 0.0, 1.0)\n",
    "\n",
    "    return image, label"
   ]
  },
  {
   "cell_type": "markdown",
   "metadata": {},
   "source": [
    "### Keras Functional API"
   ]
  },
  {
   "cell_type": "code",
   "execution_count": null,
   "metadata": {},
   "outputs": [],
   "source": [
    "def build_model(output_size, input_shape=(224, 224, 3), final_activation=\"softmax\"):\n",
    "\n",
    "    base_model = ResNet50(\n",
    "        input_shape=input_shape,\n",
    "        weights=\"imagenet\",\n",
    "        include_top=False\n",
    "    )\n",
    "\n",
    "    x = base_model.output\n",
    "    x = GlobalAveragePooling2D()(x)\n",
    "    \n",
    "    output = Dense(output_size, activation=final_activation)(x)\n",
    "    \n",
    "    return Model(outputs=output, inputs=base_model.input)\n",
    "\n",
    "\n",
    "model = build_model(output_size = 23)"
   ]
  }
 ],
 "metadata": {
  "kernelspec": {
   "display_name": "TF2",
   "language": "python",
   "name": "tf2"
  },
  "language_info": {
   "codemirror_mode": {
    "name": "ipython",
    "version": 3
   },
   "file_extension": ".py",
   "mimetype": "text/x-python",
   "name": "python",
   "nbconvert_exporter": "python",
   "pygments_lexer": "ipython3",
   "version": "3.7.6"
  }
 },
 "nbformat": 4,
 "nbformat_minor": 4
}
