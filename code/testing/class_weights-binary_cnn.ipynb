{
 "cells": [
  {
   "cell_type": "markdown",
   "metadata": {},
   "source": [
    "CIFAR10 dataset split into neg/pos and trained using normal CNN without augmentation.  \n",
    "- Class weighting  "
   ]
  },
  {
   "cell_type": "markdown",
   "metadata": {},
   "source": [
    "### Loading images\n",
    "https://www.tensorflow.org/tutorials/load_data/images"
   ]
  },
  {
   "cell_type": "code",
   "execution_count": 1,
   "metadata": {},
   "outputs": [],
   "source": [
    "from __future__ import absolute_import, division, print_function, unicode_literals\n",
    "\n",
    "import tensorflow as tf\n",
    "\n",
    "import numpy as np\n",
    "import os\n",
    "import pathlib\n",
    "import matplotlib.pyplot as plt\n",
    "\n",
    "# Some stuff to make utils-function work\n",
    "import sys\n",
    "sys.path.append('/home/henrik/master_thesis/code/utils')\n",
    "from data_prep import create_dataset, print_class_info, show_image\n",
    "%load_ext autoreload\n",
    "%autoreload 2\n",
    "\n",
    "# Jupyter-specific\n",
    "%matplotlib inline"
   ]
  },
  {
   "cell_type": "markdown",
   "metadata": {},
   "source": [
    "Some parameters"
   ]
  },
  {
   "cell_type": "code",
   "execution_count": 2,
   "metadata": {},
   "outputs": [],
   "source": [
    "data_dir = pathlib.Path('/mnt/sdb/cifar10/train/')\n",
    "\n",
    "config = {\n",
    "    \"data_dir\": data_dir,\n",
    "    \"cache_dir\": \"./cache\",\n",
    "    \"model\": 'cnn',\n",
    "    \"ds_info\": 'binary',\n",
    "    \"resample\": False,\n",
    "    \"neg_class\": ['ship'],\n",
    "    \"num_epochs\": 15,\n",
    "    \"batch_size\": 64,\n",
    "    \"img_shape\": (32, 32, 3),\n",
    "    \"outcast\": None,\n",
    "    \"optimizer\": 'Adam',\n",
    "    \"learning_rate\": 0.01,\n",
    "    \"early_stopping_patience\": 10,\n",
    "    \"decay_rate\": 0.4,              # higher number gives steeper dropoff\n",
    "    \"verbosity\": 1\n",
    "    }\n",
    "\n",
    "model_name = '{}x{}x{}_{}_{}'.format(config[\"num_epochs\"], config[\"batch_size\"], \n",
    "                                     config[\"img_shape\"][1], config[\"ds_info\"], config[\"model\"])\n",
    "\n",
    "learning_rate = config[\"learning_rate\"]\n",
    "fine_tune_at = 130\n",
    "fine_tune_epochs = 150\n",
    "early_stopping_patience = config[\"early_stopping_patience\"]"
   ]
  },
  {
   "cell_type": "markdown",
   "metadata": {},
   "source": [
    "Create training, testing and validation dataset from utils/data_prep.py"
   ]
  },
  {
   "cell_type": "code",
   "execution_count": 3,
   "metadata": {},
   "outputs": [
    {
     "name": "stdout",
     "output_type": "stream",
     "text": [
      "Negative class names:\n",
      "        - ship\n",
      "Positive class names:\n",
      "        - cat\n",
      "        - airplane\n",
      "        - deer\n",
      "        - automobile\n",
      "        - horse\n",
      "        - truck\n",
      "        - dog\n",
      "        - bird\n",
      "        - frog\n",
      "\n",
      "Negative samples:  5000 | 10.00%\n",
      "Positive samples: 45000 | 90.00%\n",
      "\n",
      "Total number of images: 50000\n",
      "Dataset.list_files:  /mnt/sdb/cifar10/train/*/*.*g \n",
      "\n",
      "[1 1 1 1 1 1 1 1 1 1]\n",
      "[1 1 1 1 1 1 1 1 1 1]\n",
      "[1 1 1 0 0 1 1 1 1 1]\n",
      "[1 1 1 1 1 1 1 1 1 1]\n",
      "[1 1 1 1 1 1 1 1 1 1]\n",
      "[1 0 1 1 1 0 1 1 1 1]\n",
      "[1 0 0 1 1 1 1 1 1 1]\n",
      "[1 1 0 1 1 0 1 1 1 1]\n",
      "[1 1 0 1 0 0 0 1 0 1]\n",
      "[1 1 1 1 1 1 1 1 1 1]\n",
      "\n",
      "Full dataset sample size:        50000\n",
      "Train dataset sample size:       35000\n",
      "Test dataset sample size:         7500\n",
      "Validation dataset sample size:   7500\n"
     ]
    }
   ],
   "source": [
    "train_ds, test_ds, val_ds, params = create_dataset(config)"
   ]
  },
  {
   "cell_type": "markdown",
   "metadata": {},
   "source": [
    "### Calculate class weights\n",
    "See https://www.tensorflow.org/tutorials/structured_data/imbalanced_data#class_weights"
   ]
  },
  {
   "cell_type": "code",
   "execution_count": 4,
   "metadata": {},
   "outputs": [
    {
     "name": "stdout",
     "output_type": "stream",
     "text": [
      "Weight for class 0: 5.00\n",
      "Weight for class 1: 0.56\n"
     ]
    }
   ],
   "source": [
    "neg = params[\"neg_count\"]\n",
    "pos = params[\"pos_count\"]\n",
    "total = params[\"ds_size\"]\n",
    "\n",
    "weight_for_0 = (1/neg)*(total)/2.0\n",
    "weight_for_1 = (1/pos)*(total)/2.0\n",
    "\n",
    "class_weight = {0: weight_for_0,\n",
    "                1: weight_for_1}\n",
    "\n",
    "print('Weight for class 0: {:.2f}'.format(weight_for_0))\n",
    "print('Weight for class 1: {:.2f}'.format(weight_for_1))"
   ]
  },
  {
   "cell_type": "markdown",
   "metadata": {},
   "source": [
    "# Training"
   ]
  },
  {
   "cell_type": "markdown",
   "metadata": {},
   "source": [
    "### Normal CNN\n",
    "See https://www.tensorflow.org/tutorials/images/cnn  \n",
    "imbalanced-data: https://www.tensorflow.org/tutorials/structured_data/imbalanced_data"
   ]
  },
  {
   "cell_type": "code",
   "execution_count": 5,
   "metadata": {},
   "outputs": [],
   "source": [
    "from tensorflow.keras import datasets, layers, models\n",
    "from tensorflow.keras.models import Sequential\n",
    "from tensorflow.keras.layers import Dense, Conv2D, Flatten, Dropout, MaxPooling2D\n",
    "from tensorflow.keras.layers import BatchNormalization\n",
    "\n",
    "from tensorflow.python.keras.callbacks import EarlyStopping, ModelCheckpoint, TensorBoard, LearningRateScheduler\n",
    "\n",
    "import datetime"
   ]
  },
  {
   "cell_type": "code",
   "execution_count": 6,
   "metadata": {},
   "outputs": [],
   "source": [
    "cnn_model = models.Sequential()\n",
    "\n",
    "cnn_model.add(layers.Conv2D(32, (3, 3), activation='relu', input_shape=config['img_shape']))\n",
    "cnn_model.add(BatchNormalization())\n",
    "cnn_model.add(layers.MaxPooling2D((2, 2)))\n",
    "\n",
    "cnn_model.add(layers.Conv2D(64, (3, 3), activation='relu'))\n",
    "cnn_model.add(BatchNormalization())\n",
    "cnn_model.add(layers.MaxPooling2D((2, 2)))\n",
    "\n",
    "cnn_model.add(layers.Conv2D(64, (3, 3), activation='relu'))\n",
    "cnn_model.add(BatchNormalization())\n",
    "\n",
    "cnn_model.add(layers.Flatten())\n",
    "cnn_model.add(layers.Dense(64, activation='relu'))\n",
    "cnn_model.add(layers.Dropout(0.2))\n",
    "cnn_model.add(layers.Dense(1, activation='sigmoid'))\n",
    "# cnn_model.add(layers.Dense(params['num_classes'], activation='softmax'))"
   ]
  },
  {
   "cell_type": "code",
   "execution_count": 7,
   "metadata": {},
   "outputs": [
    {
     "name": "stdout",
     "output_type": "stream",
     "text": [
      "Model: \"sequential\"\n",
      "_________________________________________________________________\n",
      "Layer (type)                 Output Shape              Param #   \n",
      "=================================================================\n",
      "conv2d (Conv2D)              (None, 30, 30, 32)        896       \n",
      "_________________________________________________________________\n",
      "batch_normalization (BatchNo (None, 30, 30, 32)        128       \n",
      "_________________________________________________________________\n",
      "max_pooling2d (MaxPooling2D) (None, 15, 15, 32)        0         \n",
      "_________________________________________________________________\n",
      "conv2d_1 (Conv2D)            (None, 13, 13, 64)        18496     \n",
      "_________________________________________________________________\n",
      "batch_normalization_1 (Batch (None, 13, 13, 64)        256       \n",
      "_________________________________________________________________\n",
      "max_pooling2d_1 (MaxPooling2 (None, 6, 6, 64)          0         \n",
      "_________________________________________________________________\n",
      "conv2d_2 (Conv2D)            (None, 4, 4, 64)          36928     \n",
      "_________________________________________________________________\n",
      "batch_normalization_2 (Batch (None, 4, 4, 64)          256       \n",
      "_________________________________________________________________\n",
      "flatten (Flatten)            (None, 1024)              0         \n",
      "_________________________________________________________________\n",
      "dense (Dense)                (None, 64)                65600     \n",
      "_________________________________________________________________\n",
      "dropout (Dropout)            (None, 64)                0         \n",
      "_________________________________________________________________\n",
      "dense_1 (Dense)              (None, 1)                 65        \n",
      "=================================================================\n",
      "Total params: 122,625\n",
      "Trainable params: 122,305\n",
      "Non-trainable params: 320\n",
      "_________________________________________________________________\n"
     ]
    }
   ],
   "source": [
    "if config['verbosity'] > 0:\n",
    "    cnn_model.summary()"
   ]
  },
  {
   "cell_type": "raw",
   "metadata": {},
   "source": [
    "# Save image of layers\n",
    "tf.keras.utils.plot_model(cnn_model, 'models/{}.png'.format(model_name), show_shapes=True)"
   ]
  },
  {
   "cell_type": "code",
   "execution_count": 9,
   "metadata": {},
   "outputs": [],
   "source": [
    "metrics = [\n",
    "        tf.keras.metrics.TruePositives(name='tp'),\n",
    "        tf.keras.metrics.FalsePositives(name='fp'),\n",
    "        tf.keras.metrics.TrueNegatives(name='tn'),\n",
    "        tf.keras.metrics.FalseNegatives(name='fn'), \n",
    "        tf.keras.metrics.BinaryAccuracy(name='accuracy'),\n",
    "        tf.keras.metrics.Precision(name='precision'),\n",
    "        tf.keras.metrics.Recall(name='recall'),\n",
    "        tf.keras.metrics.AUC(name='auc'),\n",
    "]\n",
    "\n",
    "if config['optimizer'] == 'Adam':\n",
    "    opt = tf.keras.optimizers.Adam(learning_rate=learning_rate)\n",
    "elif config['optimizer'] == 'SGD':\n",
    "    opt = tf.keras.optimizers.SGD(learning_rate=learning_rate)\n",
    "\n",
    "cnn_model.compile(\n",
    "        optimizer=opt,\n",
    "        loss=tf.keras.losses.BinaryCrossentropy(),\n",
    "        metrics=metrics)"
   ]
  },
  {
   "cell_type": "code",
   "execution_count": 10,
   "metadata": {},
   "outputs": [],
   "source": [
    "log_dir=\"./logs/{}/\".format(config[\"model\"]) + datetime.datetime.now().strftime(\"%Y%m%d-%H%M%S\")\n",
    "file_writer = tf.summary.create_file_writer(log_dir + \"/metrics\")\n",
    "file_writer.set_as_default()\n",
    "\n",
    "tensorboard_cb = TensorBoard(log_dir=log_dir, update_freq='batch')\n",
    "\n",
    "callbacks = [tensorboard_cb]"
   ]
  },
  {
   "cell_type": "code",
   "execution_count": 11,
   "metadata": {},
   "outputs": [
    {
     "name": "stdout",
     "output_type": "stream",
     "text": [
      "Train for 546 steps, validate for 117 steps\n",
      "Epoch 1/15\n",
      "546/546 [==============================] - 7s 12ms/step - loss: 0.2363 - true_positives: 30813.0000 - false_positives: 2508.0000 - true_negatives: 961.0000 - false_negatives: 662.0000 - binary_accuracy: 0.9093 - precision: 0.9247 - recall: 0.9790 - auc: 0.8880 - val_loss: 0.3142 - val_true_positives: 6624.0000 - val_false_positives: 579.0000 - val_true_negatives: 217.0000 - val_false_negatives: 68.0000 - val_binary_accuracy: 0.9136 - val_precision: 0.9196 - val_recall: 0.9898 - val_auc: 0.8602\n",
      "Epoch 2/15\n",
      "546/546 [==============================] - 4s 7ms/step - loss: 0.1700 - true_positives: 30871.0000 - false_positives: 1743.0000 - true_negatives: 1724.0000 - false_negatives: 606.0000 - binary_accuracy: 0.9328 - precision: 0.9466 - recall: 0.9807 - auc: 0.9377 - val_loss: 0.1716 - val_true_positives: 6508.0000 - val_false_positives: 283.0000 - val_true_negatives: 511.0000 - val_false_negatives: 186.0000 - val_binary_accuracy: 0.9374 - val_precision: 0.9583 - val_recall: 0.9722 - val_auc: 0.9455\n",
      "Epoch 3/15\n",
      "546/546 [==============================] - 4s 7ms/step - loss: 0.1518 - true_positives: 30916.0000 - false_positives: 1520.0000 - true_negatives: 1948.0000 - false_negatives: 560.0000 - binary_accuracy: 0.9405 - precision: 0.9531 - recall: 0.9822 - auc: 0.9491 - val_loss: 0.1905 - val_true_positives: 6537.0000 - val_false_positives: 355.0000 - val_true_negatives: 440.0000 - val_false_negatives: 156.0000 - val_binary_accuracy: 0.9318 - val_precision: 0.9485 - val_recall: 0.9767 - val_auc: 0.9375\n",
      "Epoch 4/15\n",
      "546/546 [==============================] - 4s 7ms/step - loss: 0.1331 - true_positives: 30985.0000 - false_positives: 1251.0000 - true_negatives: 2214.0000 - false_negatives: 494.0000 - binary_accuracy: 0.9501 - precision: 0.9612 - recall: 0.9843 - auc: 0.9604 - val_loss: 0.1600 - val_true_positives: 6644.0000 - val_false_positives: 400.0000 - val_true_negatives: 394.0000 - val_false_negatives: 50.0000 - val_binary_accuracy: 0.9399 - val_precision: 0.9432 - val_recall: 0.9925 - val_auc: 0.9570\n",
      "Epoch 5/15\n",
      "546/546 [==============================] - 4s 7ms/step - loss: 0.1237 - true_positives: 31004.0000 - false_positives: 1132.0000 - true_negatives: 2333.0000 - false_negatives: 475.0000 - binary_accuracy: 0.9540 - precision: 0.9648 - recall: 0.9849 - auc: 0.9653 - val_loss: 0.2421 - val_true_positives: 6671.0000 - val_false_positives: 527.0000 - val_true_negatives: 268.0000 - val_false_negatives: 22.0000 - val_binary_accuracy: 0.9267 - val_precision: 0.9268 - val_recall: 0.9967 - val_auc: 0.9261\n",
      "Epoch 6/15\n",
      "546/546 [==============================] - 4s 7ms/step - loss: 0.1161 - true_positives: 31019.0000 - false_positives: 1061.0000 - true_negatives: 2419.0000 - false_negatives: 445.0000 - binary_accuracy: 0.9569 - precision: 0.9669 - recall: 0.9859 - auc: 0.9698 - val_loss: 0.1773 - val_true_positives: 6613.0000 - val_false_positives: 421.0000 - val_true_negatives: 374.0000 - val_false_negatives: 80.0000 - val_binary_accuracy: 0.9331 - val_precision: 0.9401 - val_recall: 0.9880 - val_auc: 0.9476\n",
      "Epoch 7/15\n",
      "546/546 [==============================] - 4s 7ms/step - loss: 0.1104 - true_positives: 31044.0000 - false_positives: 1030.0000 - true_negatives: 2427.0000 - false_negatives: 443.0000 - binary_accuracy: 0.9578 - precision: 0.9679 - recall: 0.9859 - auc: 0.9730 - val_loss: 0.2315 - val_true_positives: 6676.0000 - val_false_positives: 444.0000 - val_true_negatives: 351.0000 - val_false_negatives: 17.0000 - val_binary_accuracy: 0.9384 - val_precision: 0.9376 - val_recall: 0.9975 - val_auc: 0.9174\n",
      "Epoch 8/15\n",
      "546/546 [==============================] - 4s 7ms/step - loss: 0.0965 - true_positives: 31101.0000 - false_positives: 880.0000 - true_negatives: 2587.0000 - false_negatives: 376.0000 - binary_accuracy: 0.9641 - precision: 0.9725 - recall: 0.9881 - auc: 0.9790 - val_loss: 0.1446 - val_true_positives: 6539.0000 - val_false_positives: 189.0000 - val_true_negatives: 605.0000 - val_false_negatives: 155.0000 - val_binary_accuracy: 0.9541 - val_precision: 0.9719 - val_recall: 0.9768 - val_auc: 0.9648\n",
      "Epoch 9/15\n",
      "546/546 [==============================] - 4s 7ms/step - loss: 0.0904 - true_positives: 31100.0000 - false_positives: 826.0000 - true_negatives: 2639.0000 - false_negatives: 379.0000 - binary_accuracy: 0.9655 - precision: 0.9741 - recall: 0.9880 - auc: 0.9820 - val_loss: 0.1411 - val_true_positives: 6423.0000 - val_false_positives: 119.0000 - val_true_negatives: 675.0000 - val_false_negatives: 271.0000 - val_binary_accuracy: 0.9479 - val_precision: 0.9818 - val_recall: 0.9595 - val_auc: 0.9748\n",
      "Epoch 10/15\n",
      "546/546 [==============================] - 4s 7ms/step - loss: 0.0827 - true_positives: 31110.0000 - false_positives: 765.0000 - true_negatives: 2711.0000 - false_negatives: 358.0000 - binary_accuracy: 0.9679 - precision: 0.9760 - recall: 0.9886 - auc: 0.9845 - val_loss: 0.1757 - val_true_positives: 6656.0000 - val_false_positives: 300.0000 - val_true_negatives: 494.0000 - val_false_negatives: 38.0000 - val_binary_accuracy: 0.9549 - val_precision: 0.9569 - val_recall: 0.9943 - val_auc: 0.9482\n",
      "Epoch 11/15\n",
      "546/546 [==============================] - 4s 7ms/step - loss: 0.0788 - true_positives: 31153.0000 - false_positives: 762.0000 - true_negatives: 2700.0000 - false_negatives: 329.0000 - binary_accuracy: 0.9688 - precision: 0.9761 - recall: 0.9895 - auc: 0.9857 - val_loss: 0.1220 - val_true_positives: 6604.0000 - val_false_positives: 200.0000 - val_true_negatives: 595.0000 - val_false_negatives: 89.0000 - val_binary_accuracy: 0.9614 - val_precision: 0.9706 - val_recall: 0.9867 - val_auc: 0.9682\n",
      "Epoch 12/15\n",
      "546/546 [==============================] - 4s 7ms/step - loss: 0.0763 - true_positives: 31126.0000 - false_positives: 706.0000 - true_negatives: 2773.0000 - false_negatives: 339.0000 - binary_accuracy: 0.9701 - precision: 0.9778 - recall: 0.9892 - auc: 0.9872 - val_loss: 0.1004 - val_true_positives: 6591.0000 - val_false_positives: 124.0000 - val_true_negatives: 672.0000 - val_false_negatives: 101.0000 - val_binary_accuracy: 0.9700 - val_precision: 0.9815 - val_recall: 0.9849 - val_auc: 0.9791\n",
      "Epoch 13/15\n",
      "546/546 [==============================] - 4s 7ms/step - loss: 0.0673 - true_positives: 31194.0000 - false_positives: 644.0000 - true_negatives: 2812.0000 - false_negatives: 294.0000 - binary_accuracy: 0.9732 - precision: 0.9798 - recall: 0.9907 - auc: 0.9894 - val_loss: 0.0970 - val_true_positives: 6580.0000 - val_false_positives: 135.0000 - val_true_negatives: 661.0000 - val_false_negatives: 112.0000 - val_binary_accuracy: 0.9670 - val_precision: 0.9799 - val_recall: 0.9833 - val_auc: 0.9793\n",
      "Epoch 14/15\n",
      "546/546 [==============================] - 4s 7ms/step - loss: 0.0615 - true_positives: 31198.0000 - false_positives: 558.0000 - true_negatives: 2894.0000 - false_negatives: 294.0000 - binary_accuracy: 0.9756 - precision: 0.9824 - recall: 0.9907 - auc: 0.9915 - val_loss: 0.1117 - val_true_positives: 6656.0000 - val_false_positives: 192.0000 - val_true_negatives: 604.0000 - val_false_negatives: 36.0000 - val_binary_accuracy: 0.9696 - val_precision: 0.9720 - val_recall: 0.9946 - val_auc: 0.9722\n",
      "Epoch 15/15\n",
      "546/546 [==============================] - 4s 7ms/step - loss: 0.0588 - true_positives: 31146.0000 - false_positives: 491.0000 - true_negatives: 2983.0000 - false_negatives: 324.0000 - binary_accuracy: 0.9767 - precision: 0.9845 - recall: 0.9897 - auc: 0.9917 - val_loss: 0.1203 - val_true_positives: 6447.0000 - val_false_positives: 70.0000 - val_true_negatives: 723.0000 - val_false_negatives: 248.0000 - val_binary_accuracy: 0.9575 - val_precision: 0.9893 - val_recall: 0.9630 - val_auc: 0.9818\n"
     ]
    }
   ],
   "source": [
    "history = cnn_model.fit(\n",
    "    train_ds,\n",
    "    steps_per_epoch = params[\"train_size\"] // config[\"batch_size\"],\n",
    "    epochs = config[\"num_epochs\"],\n",
    "    validation_data = test_ds,\n",
    "    validation_steps = params[\"test_size\"] // config[\"batch_size\"],\n",
    "    validation_freq = 1\n",
    "#     class_weight=class_weight\n",
    "#     callbacks = callbacks\n",
    ")"
   ]
  },
  {
   "cell_type": "markdown",
   "metadata": {},
   "source": [
    "`Keras`\n",
    "Save/load the model"
   ]
  },
  {
   "cell_type": "code",
   "execution_count": null,
   "metadata": {},
   "outputs": [],
   "source": [
    "# cnn_model.save('models/{}.h5'.format(model_name))\n",
    "# cnn_model = tf.keras.models.load_model('models/{}.h5'.format(model_name))"
   ]
  },
  {
   "cell_type": "markdown",
   "metadata": {},
   "source": [
    "## Validate the results"
   ]
  },
  {
   "cell_type": "code",
   "execution_count": 113,
   "metadata": {},
   "outputs": [],
   "source": [
    "from sklearn.metrics import confusion_matrix"
   ]
  },
  {
   "cell_type": "markdown",
   "metadata": {},
   "source": [
    "Some functions"
   ]
  },
  {
   "cell_type": "code",
   "execution_count": 23,
   "metadata": {},
   "outputs": [],
   "source": [
    "colors = plt.rcParams['axes.prop_cycle'].by_key()['color']\n",
    "\n",
    "def plot_metrics(history):\n",
    "    metrics =  ['loss', 'auc', 'precision', 'recall']\n",
    "    plt.figure(figsize=(12, 10))\n",
    "    for n, metric in enumerate(metrics):\n",
    "        name = metric.replace(\"_\",\" \").capitalize()\n",
    "        plt.subplot(2,2,n+1)\n",
    "        plt.plot(history.epoch,  history.history[metric], color=colors[0], label='Train')\n",
    "        plt.plot(history.epoch, history.history['val_'+metric],\n",
    "                 color=colors[0], linestyle=\"--\", label='Val')\n",
    "        plt.xlabel('Epoch')\n",
    "        plt.ylabel(name)\n",
    "        if metric == 'loss':\n",
    "            plt.ylim([0, plt.ylim()[1]])\n",
    "        elif metric == 'auc':\n",
    "            plt.ylim([0.8,1])\n",
    "        else:\n",
    "            plt.ylim([0,1])\n",
    "\n",
    "        plt.legend()"
   ]
  },
  {
   "cell_type": "code",
   "execution_count": 117,
   "metadata": {},
   "outputs": [],
   "source": [
    "def plot_cm(labels, predictions, p=0.5):\n",
    "    cm = confusion_matrix(labels, predictions > p)\n",
    "    plt.figure(figsize=(5,5))\n",
    "    sns.heatmap(cm, annot=True, fmt=\"d\")\n",
    "    plt.title('Confusion matrix @{:.2f}'.format(p))\n",
    "    plt.ylabel('Actual label')\n",
    "    plt.xlabel('Predicted label')\n",
    "\n",
    "    print('Legitimate Transactions Detected (True Negatives): ', cm[0][0])\n",
    "    print('Legitimate Transactions Incorrectly Detected (False Positives): ', cm[0][1])\n",
    "    print('Fraudulent Transactions Missed (False Negatives): ', cm[1][0])\n",
    "    print('Fraudulent Transactions Detected (True Positives): ', cm[1][1])\n",
    "    print('Total Fraudulent Transactions: ', np.sum(cm[1]))"
   ]
  },
  {
   "cell_type": "code",
   "execution_count": 24,
   "metadata": {},
   "outputs": [
    {
     "data": {
      "image/png": "[encoded data removed]",
      "text/plain": [
       "<Figure size 864x720 with 4 Axes>"
      ]
     },
     "metadata": {
      "needs_background": "light"
     },
     "output_type": "display_data"
    }
   ],
   "source": [
    "plot_metrics(history)"
   ]
  },
  {
   "cell_type": "code",
   "execution_count": 121,
   "metadata": {},
   "outputs": [
    {
     "name": "stdout",
     "output_type": "stream",
     "text": [
      "117/117 - 0s - loss: 0.1077 - true_positives: 6525.0000 - false_positives: 62.0000 - true_negatives: 673.0000 - false_negatives: 228.0000 - binary_accuracy: 0.9613 - precision: 0.9906 - recall: 0.9662 - auc: 0.9821\n",
      "\n",
      "loss : 0.10769334843016079\n",
      "true_positives : 6525.0\n",
      "false_positives : 62.0\n",
      "true_negatives : 673.0\n",
      "false_negatives : 228.0\n",
      "binary_accuracy : 0.961271345615387\n",
      "precision : 0.9905875325202942\n",
      "recall : 0.9662372469902039\n",
      "auc : 0.9821393489837646\n"
     ]
    }
   ],
   "source": [
    "cnn_results = cnn_model.evaluate(val_ds, verbose=2, steps=params[\"val_size\"] // config[\"batch_size\"])\n",
    "print()\n",
    "\n",
    "f = open(log_dir+\"/evaluate.txt\",\"w\")\n",
    "for name, value in zip(cnn_model.metrics_names, cnn_results):\n",
    "    line = \"{} : {}\\n\".format(name, value)\n",
    "    print(line, end='')\n",
    "    f.write(line)\n",
    "f.close()"
   ]
  },
  {
   "cell_type": "code",
   "execution_count": 119,
   "metadata": {},
   "outputs": [
    {
     "ename": "NameError",
     "evalue": "name 'test_labels' is not defined",
     "output_type": "error",
     "traceback": [
      "\u001b[0;31m---------------------------------------------------------------------------\u001b[0m",
      "\u001b[0;31mNameError\u001b[0m                                 Traceback (most recent call last)",
      "\u001b[0;32m<ipython-input-119-6b4686c7e5d0>\u001b[0m in \u001b[0;36m<module>\u001b[0;34m\u001b[0m\n\u001b[0;32m----> 1\u001b[0;31m \u001b[0mplot_cm\u001b[0m\u001b[0;34m(\u001b[0m\u001b[0mtest_labels\u001b[0m\u001b[0;34m,\u001b[0m \u001b[0mtest_predictions_baseline\u001b[0m\u001b[0;34m)\u001b[0m\u001b[0;34m\u001b[0m\u001b[0;34m\u001b[0m\u001b[0m\n\u001b[0m\u001b[1;32m      2\u001b[0m \u001b[0;34m\u001b[0m\u001b[0m\n\u001b[1;32m      3\u001b[0m \u001b[0mf\u001b[0m \u001b[0;34m=\u001b[0m \u001b[0mopen\u001b[0m\u001b[0;34m(\u001b[0m\u001b[0mlog_dir\u001b[0m\u001b[0;34m+\u001b[0m\u001b[0;34m\"/evaluate.txt\"\u001b[0m\u001b[0;34m,\u001b[0m\u001b[0;34m\"w\"\u001b[0m\u001b[0;34m)\u001b[0m\u001b[0;34m\u001b[0m\u001b[0;34m\u001b[0m\u001b[0m\n\u001b[1;32m      4\u001b[0m \u001b[0mf\u001b[0m\u001b[0;34m.\u001b[0m\u001b[0mwrite\u001b[0m\u001b[0;34m(\u001b[0m \u001b[0mstr\u001b[0m\u001b[0;34m(\u001b[0m\u001b[0mcnn_evaluate\u001b[0m\u001b[0;34m)\u001b[0m \u001b[0;34m)\u001b[0m\u001b[0;34m\u001b[0m\u001b[0;34m\u001b[0m\u001b[0m\n\u001b[1;32m      5\u001b[0m \u001b[0mf\u001b[0m\u001b[0;34m.\u001b[0m\u001b[0mwrite\u001b[0m\u001b[0;34m(\u001b[0m\u001b[0;34m'test'\u001b[0m\u001b[0;34m)\u001b[0m\u001b[0;34m\u001b[0m\u001b[0;34m\u001b[0m\u001b[0m\n",
      "\u001b[0;31mNameError\u001b[0m: name 'test_labels' is not defined"
     ]
    }
   ],
   "source": [
    "plot_cm(test_labels, test_predictions_baseline)"
   ]
  },
  {
   "cell_type": "markdown",
   "metadata": {},
   "source": [
    "`Tensorboard`"
   ]
  },
  {
   "cell_type": "raw",
   "metadata": {},
   "source": [
    "from tensorboard import notebook\n",
    "# Load the TensorBoard notebook extension\n",
    "# %load_ext tensorboard\n",
    "\n",
    "# Start tensorboard\n",
    "# %tensorboard --logdir logs"
   ]
  },
  {
   "cell_type": "raw",
   "metadata": {},
   "source": [
    "# Clear any logs from previous runs (move to .old instead?)\n",
    "!rm -rf ./logs/\n",
    "\n",
    "# Stop tensorboard\n",
    "notebook.list()\n",
    "!kill 20058"
   ]
  },
  {
   "cell_type": "markdown",
   "metadata": {},
   "source": [
    "## Predict new samples"
   ]
  },
  {
   "cell_type": "code",
   "execution_count": 27,
   "metadata": {},
   "outputs": [],
   "source": [
    "# Fetch one batch\n",
    "images, labels = next(iter(val_ds))\n",
    "\n",
    "# Convert from tensor to numpy array\n",
    "images = images.numpy()\n",
    "labels = labels.numpy()"
   ]
  },
  {
   "cell_type": "code",
   "execution_count": 71,
   "metadata": {},
   "outputs": [
    {
     "name": "stdout",
     "output_type": "stream",
     "text": [
      "0.9979 | 1.0\n",
      "Image 54 of 64\n"
     ]
    },
    {
     "data": {
      "image/png": "[encoded data removed]",
      "text/plain": [
       "<Figure size 864x720 with 1 Axes>"
      ]
     },
     "metadata": {},
     "output_type": "display_data"
    }
   ],
   "source": [
    "# Get a random image and label\n",
    "rand = np.random.randint(0, config[\"batch_size\"])\n",
    "image = images[rand]\n",
    "label = labels[rand]\n",
    "\n",
    "# Predict one image\n",
    "predictions = cnn_model.predict(np.expand_dims(image, axis=0))[0]\n",
    "\n",
    "print(\"{:0.4f} | {}\".format(pred, np.round(pred)))\n",
    "\n",
    "prediction = ('Boat') if np.round(pred)==0 else ('Not boat')\n",
    "\n",
    "print (\"Image {} of {}\".format(rand, config[\"batch_size\"]))\n",
    "\n",
    "plt.figure(frameon=False, facecolor='white');\n",
    "plt.title(prediction, fontdict={'color':'white','size':20})\n",
    "plt.imshow(image)\n",
    "plt.axis('off');"
   ]
  },
  {
   "cell_type": "code",
   "execution_count": 110,
   "metadata": {},
   "outputs": [
    {
     "name": "stdout",
     "output_type": "stream",
     "text": [
      "idx  label  pred\n",
      "---  -----  ----\n",
      "\n",
      "  0  1.000  1.000\n",
      "  1  1.000  0.995\n",
      "  2  1.000  0.931\n",
      "  3  1.000  0.949\n",
      "  4  1.000  0.997\n",
      "  5  1.000  1.000\n",
      "  6  1.000  1.000\n",
      "  7  1.000  1.000\n",
      "  8  1.000  1.000\n",
      "  9  1.000  1.000\n",
      " 10  1.000  1.000\n",
      " 11  1.000  0.188 -Wrong\n",
      " 12  1.000  1.000\n",
      " 13  1.000  1.000\n",
      " 14  1.000  0.998\n",
      " 15  1.000  1.000\n",
      " 16  1.000  0.369 -Wrong\n",
      " 17  1.000  0.999\n",
      " 18  1.000  1.000\n",
      " 19  1.000  1.000\n",
      " 20  1.000  0.764\n",
      " 21  1.000  1.000\n",
      " 22  1.000  1.000\n",
      " 23  1.000  0.998\n",
      " 24  1.000  1.000\n",
      " 25  1.000  1.000\n",
      " 26  1.000  0.443 -Wrong\n",
      " 27  1.000  1.000\n",
      " 28  1.000  1.000\n",
      " 29  1.000  1.000\n",
      " 30  0.000  0.393\n",
      " 31  1.000  1.000\n",
      " 32  1.000  1.000\n",
      " 33  0.000  0.942 -Wrong\n",
      " 34  1.000  0.957\n",
      " 35  1.000  1.000\n",
      " 36  1.000  1.000\n",
      " 37  1.000  0.998\n",
      " 38  1.000  1.000\n",
      " 39  1.000  1.000\n",
      " 40  1.000  1.000\n",
      " 41  1.000  0.998\n",
      " 42  1.000  1.000\n",
      " 43  1.000  1.000\n",
      " 44  0.000  0.093\n",
      " 45  1.000  1.000\n",
      " 46  1.000  1.000\n",
      " 47  1.000  1.000\n",
      " 48  1.000  1.000\n",
      " 49  1.000  1.000\n",
      " 50  1.000  1.000\n",
      " 51  1.000  1.000\n",
      " 52  1.000  0.618\n",
      " 53  1.000  0.981\n",
      " 54  0.000  0.000\n",
      " 55  1.000  1.000\n",
      " 56  1.000  1.000\n",
      " 57  1.000  1.000\n",
      " 58  1.000  0.998\n",
      " 59  1.000  1.000\n",
      " 60  1.000  1.000\n",
      " 61  1.000  0.975\n",
      " 62  1.000  1.000\n",
      " 63  1.000  1.000"
     ]
    }
   ],
   "source": [
    "# Predict one batch\n",
    "predictions = cnn_model.predict(images)\n",
    "\n",
    "print ('{:3}  {:5}  {:3}'.format('idx', 'label', 'pred'))\n",
    "print ('---  -----  ----')\n",
    "\n",
    "for i, prediction in enumerate(predictions.flat):\n",
    "    print ('\\n{:3}  {:.3f}  {:.3f}'.format(i, labels[i], prediction), end='')\n",
    "    if (int(labels[i]) != int(np.round(prediction))): print (\" -Wrong\", end='')"
   ]
  }
 ],
 "metadata": {
  "kernelspec": {
   "display_name": "TF2",
   "language": "python",
   "name": "tf2"
  },
  "language_info": {
   "codemirror_mode": {
    "name": "ipython",
    "version": 3
   },
   "file_extension": ".py",
   "mimetype": "text/x-python",
   "name": "python",
   "nbconvert_exporter": "python",
   "pygments_lexer": "ipython3",
   "version": "3.7.6"
  }
 },
 "nbformat": 4,
 "nbformat_minor": 4
}
