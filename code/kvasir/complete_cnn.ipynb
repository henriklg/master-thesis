{
 "cells": [
  {
   "cell_type": "markdown",
   "metadata": {},
   "source": [
    "CIFAR10 dataset trained on all classes with 'normal' CNN without augmentation."
   ]
  },
  {
   "cell_type": "markdown",
   "metadata": {},
   "source": [
    "### Loading images\n",
    "https://www.tensorflow.org/tutorials/load_data/images"
   ]
  },
  {
   "cell_type": "code",
   "execution_count": 1,
   "metadata": {},
   "outputs": [],
   "source": [
    "from __future__ import absolute_import, division, print_function, unicode_literals\n",
    "\n",
    "import tensorflow as tf\n",
    "\n",
    "import numpy as np\n",
    "import os\n",
    "import pathlib\n",
    "import matplotlib.pyplot as plt\n",
    "\n",
    "# Some stuff to make utils-function work\n",
    "import sys\n",
    "sys.path.append('/home/henrik/master_thesis/code/utils')\n",
    "from data_prep import create_dataset, print_class_info, show_image\n",
    "%load_ext autoreload\n",
    "%autoreload 2\n",
    "\n",
    "# Jupyter-specific\n",
    "%matplotlib inline"
   ]
  },
  {
   "cell_type": "markdown",
   "metadata": {},
   "source": [
    "Some parameters"
   ]
  },
  {
   "cell_type": "code",
   "execution_count": 2,
   "metadata": {},
   "outputs": [],
   "source": [
    "data_dir = pathlib.Path('/mnt/sdb/kvasir-dataset-v2/')\n",
    "\n",
    "config = {\n",
    "    \"data_dir\": data_dir,\n",
    "    \"cache_dir\": \"./cache\",\n",
    "    \"MODEL\": 'cnn',\n",
    "    \"DS_INFO\": 'complete',\n",
    "    \"resample\": False,\n",
    "    \"neg_class\": ['polyp'],\n",
    "    \"NUM_EPOCHS\": 100,\n",
    "    \"BATCH_SIZE\": 64,\n",
    "    \"IMG_SIZE\": (32, 32, 3),\n",
    "    \"outcast\": None,\n",
    "    \"verbosity\": 1\n",
    "    }\n",
    "\n",
    "model_name = '{}x{}x{}_{}_{}'.format(config[\"NUM_EPOCHS\"], config[\"BATCH_SIZE\"], \n",
    "                                     config[\"IMG_SIZE\"][1], config[\"DS_INFO\"], config[\"MODEL\"])"
   ]
  },
  {
   "cell_type": "markdown",
   "metadata": {},
   "source": [
    "Create training, testing and validation dataset from utils/data_prep.py"
   ]
  },
  {
   "cell_type": "code",
   "execution_count": 3,
   "metadata": {},
   "outputs": [
    {
     "name": "stdout",
     "output_type": "stream",
     "text": [
      "Directories:  ['esophagitis' 'normal-pylorus' 'ulcerative-colitis' 'normal-cecum'\n",
      " 'normal-z-line' 'polyps' 'dyed-resection-margins' 'dyed-lifted-polyps']\n",
      "\n",
      "esophagitis       : 1000\n",
      "normal-pylorus    : 1000\n",
      "ulcerative-colitis: 1000\n",
      "normal-cecum      : 1000\n",
      "normal-z-line     : 1000\n",
      "polyps            : 1000\n",
      "dyed-resection-margins: 1000\n",
      "dyed-lifted-polyps: 1000\n",
      "\n",
      "Total number of images: 8000, in 8 classes\n",
      "Dataset.list_files:  /mnt/sdb/kvasir-dataset-v2/*/*.*g \n",
      "\n",
      "WARNING:tensorflow:Entity <function create_dataset.<locals>.get_label at 0x7f1a8c220710> could not be transformed and will be executed as-is. Please report this to the AutoGraph team. When filing the bug, set the verbosity to 10 (on Linux, `export AUTOGRAPH_VERBOSITY=10`) and attach the full output. Cause: Cell is empty\n",
      "WARNING: Entity <function create_dataset.<locals>.get_label at 0x7f1a8c220710> could not be transformed and will be executed as-is. Please report this to the AutoGraph team. When filing the bug, set the verbosity to 10 (on Linux, `export AUTOGRAPH_VERBOSITY=10`) and attach the full output. Cause: Cell is empty\n",
      "[4 3 2 7 4 3 1 6 0 0]\n",
      "[0 5 6 5 2 1 4 7 7 5]\n",
      "[1 0 6 4 4 0 2 5 1 2]\n",
      "[1 7 0 6 6 0 2 4 5 5]\n",
      "[3 3 6 0 4 7 0 6 6 2]\n",
      "[7 1 4 0 6 2 7 2 7 2]\n",
      "[0 4 5 3 1 3 0 0 3 0]\n",
      "[1 1 6 2 1 1 5 4 5 3]\n",
      "[4 5 2 1 1 0 6 1 1 0]\n",
      "[5 3 0 6 2 7 2 3 6 3]\n",
      "\n",
      "Full dataset sample size:         8000\n",
      "Train dataset sample size:        5600\n",
      "Test dataset sample size:         1200\n",
      "Validation dataset sample size:   1200\n"
     ]
    }
   ],
   "source": [
    "train_ds, test_ds, val_ds, params = create_dataset(config)"
   ]
  },
  {
   "cell_type": "markdown",
   "metadata": {},
   "source": [
    "## Training\n",
    "### Normal CNN\n",
    "See: https://www.tensorflow.org/tutorials/images/cnn  \n",
    "learningRateScheduler: https://github.com/lambdal/TensorFlow2-tutorial/tree/master/01-basic-image-classification  \n",
    "model from: https://machinelearningmastery.com/how-to-develop-a-cnn-from-scratch-for-cifar-10-photo-classification/  "
   ]
  },
  {
   "cell_type": "code",
   "execution_count": 4,
   "metadata": {},
   "outputs": [],
   "source": [
    "from tensorflow.keras import datasets, layers, models\n",
    "from tensorflow.keras.models import Sequential\n",
    "from tensorflow.keras.layers import Dense, Conv2D, Flatten, Dropout, MaxPooling2D, BatchNormalization\n",
    "from tensorflow.keras.callbacks import TensorBoard, LearningRateScheduler"
   ]
  },
  {
   "cell_type": "markdown",
   "metadata": {},
   "source": [
    "Create the model"
   ]
  },
  {
   "cell_type": "code",
   "execution_count": 5,
   "metadata": {},
   "outputs": [],
   "source": [
    "cnn_model = models.Sequential()\n",
    "\n",
    "cnn_model.add(Conv2D(32, (3, 3), activation='relu', input_shape=config[\"IMG_SIZE\"]))\n",
    "cnn_model.add(BatchNormalization())\n",
    "cnn_model.add(Conv2D(32, (3, 3), activation='relu'))\n",
    "cnn_model.add(BatchNormalization())\n",
    "cnn_model.add(MaxPooling2D((2, 2)))\n",
    "cnn_model.add(Dropout(0.2))\n",
    "\n",
    "cnn_model.add(Conv2D(64, (3, 3), activation='relu'))\n",
    "cnn_model.add(BatchNormalization())\n",
    "cnn_model.add(Conv2D(64, (3, 3), activation='relu'))\n",
    "cnn_model.add(BatchNormalization())\n",
    "cnn_model.add(MaxPooling2D((2, 2)))\n",
    "cnn_model.add(Dropout(0.3))\n",
    "\n",
    "cnn_model.add(Conv2D(128, (3, 3), activation='relu'))\n",
    "cnn_model.add(BatchNormalization())\n",
    "cnn_model.add(Conv2D(128, (3, 3), activation='relu'))\n",
    "cnn_model.add(BatchNormalization())\n",
    "cnn_model.add(Dropout(0.4))\n",
    "\n",
    "cnn_model.add(Flatten())\n",
    "cnn_model.add(Dense(128, activation='relu'))\n",
    "cnn_model.add(Dropout(0.5))\n",
    "cnn_model.add(Dense(params[\"NUM_CLASSES\"], activation='softmax'))"
   ]
  },
  {
   "cell_type": "code",
   "execution_count": 6,
   "metadata": {},
   "outputs": [
    {
     "name": "stdout",
     "output_type": "stream",
     "text": [
      "Model: \"sequential\"\n",
      "_________________________________________________________________\n",
      "Layer (type)                 Output Shape              Param #   \n",
      "=================================================================\n",
      "conv2d (Conv2D)              (None, 30, 30, 32)        896       \n",
      "_________________________________________________________________\n",
      "batch_normalization (BatchNo (None, 30, 30, 32)        128       \n",
      "_________________________________________________________________\n",
      "conv2d_1 (Conv2D)            (None, 28, 28, 32)        9248      \n",
      "_________________________________________________________________\n",
      "batch_normalization_1 (Batch (None, 28, 28, 32)        128       \n",
      "_________________________________________________________________\n",
      "max_pooling2d (MaxPooling2D) (None, 14, 14, 32)        0         \n",
      "_________________________________________________________________\n",
      "dropout (Dropout)            (None, 14, 14, 32)        0         \n",
      "_________________________________________________________________\n",
      "conv2d_2 (Conv2D)            (None, 12, 12, 64)        18496     \n",
      "_________________________________________________________________\n",
      "batch_normalization_2 (Batch (None, 12, 12, 64)        256       \n",
      "_________________________________________________________________\n",
      "conv2d_3 (Conv2D)            (None, 10, 10, 64)        36928     \n",
      "_________________________________________________________________\n",
      "batch_normalization_3 (Batch (None, 10, 10, 64)        256       \n",
      "_________________________________________________________________\n",
      "max_pooling2d_1 (MaxPooling2 (None, 5, 5, 64)          0         \n",
      "_________________________________________________________________\n",
      "dropout_1 (Dropout)          (None, 5, 5, 64)          0         \n",
      "_________________________________________________________________\n",
      "conv2d_4 (Conv2D)            (None, 3, 3, 128)         73856     \n",
      "_________________________________________________________________\n",
      "batch_normalization_4 (Batch (None, 3, 3, 128)         512       \n",
      "_________________________________________________________________\n",
      "conv2d_5 (Conv2D)            (None, 1, 1, 128)         147584    \n",
      "_________________________________________________________________\n",
      "batch_normalization_5 (Batch (None, 1, 1, 128)         512       \n",
      "_________________________________________________________________\n",
      "dropout_2 (Dropout)          (None, 1, 1, 128)         0         \n",
      "_________________________________________________________________\n",
      "flatten (Flatten)            (None, 128)               0         \n",
      "_________________________________________________________________\n",
      "dense (Dense)                (None, 128)               16512     \n",
      "_________________________________________________________________\n",
      "dropout_3 (Dropout)          (None, 128)               0         \n",
      "_________________________________________________________________\n",
      "dense_1 (Dense)              (None, 8)                 1032      \n",
      "=================================================================\n",
      "Total params: 306,344\n",
      "Trainable params: 305,448\n",
      "Non-trainable params: 896\n",
      "_________________________________________________________________\n"
     ]
    }
   ],
   "source": [
    "if config[\"verbosity\"] > 0:\n",
    "    cnn_model.summary()"
   ]
  },
  {
   "cell_type": "raw",
   "metadata": {},
   "source": [
    "# Save image of layers\n",
    "tf.keras.utils.plot_model(cnn_model, 'models/{}.png'.format(model_name), show_shapes=True)"
   ]
  },
  {
   "cell_type": "code",
   "execution_count": 7,
   "metadata": {},
   "outputs": [],
   "source": [
    "BASE_LEARNING_RATE = 0.1\n",
    "LR_SCHEDULE = [(0.1, 15), (0.01, 90)]\n",
    "\n",
    "def schedule(epoch):\n",
    "    initial_learning_rate = BASE_LEARNING_RATE\n",
    "    learning_rate = initial_learning_rate\n",
    "    for mult, start_epoch in LR_SCHEDULE:\n",
    "        if epoch >= start_epoch:\n",
    "            learning_rate = initial_learning_rate * mult\n",
    "        else:\n",
    "            break\n",
    "    tf.summary.scalar('learning rate', data=learning_rate, step=epoch)\n",
    "    return learning_rate"
   ]
  },
  {
   "cell_type": "markdown",
   "metadata": {},
   "source": [
    "Compile and train the model"
   ]
  },
  {
   "cell_type": "code",
   "execution_count": 8,
   "metadata": {},
   "outputs": [],
   "source": [
    "opt = tf.keras.optimizers.SGD(learning_rate=0.01, momentum=0.9)\n",
    "\n",
    "cnn_model.compile(\n",
    "                optimizer=opt,\n",
    "                loss='sparse_categorical_crossentropy',\n",
    "                metrics=['accuracy'])\n",
    "\n",
    "tensorboard_cb = tf.keras.callbacks.TensorBoard(log_dir='./logs/tensorboard/{}'.format(model_name), update_freq='batch')\n",
    "callbacks = [tensorboard_cb, LearningRateScheduler(schedule)]"
   ]
  },
  {
   "cell_type": "code",
   "execution_count": 9,
   "metadata": {},
   "outputs": [
    {
     "name": "stdout",
     "output_type": "stream",
     "text": [
      "Train for 87 steps, validate for 18 steps\n",
      "Epoch 1/100\n",
      "87/87 [==============================] - 47s 543ms/step - loss: 1.5808 - accuracy: 0.4758 - val_loss: 25.4145 - val_accuracy: 0.1450\n",
      "Epoch 2/100\n",
      "87/87 [==============================] - 1s 8ms/step - loss: 0.9918 - accuracy: 0.5711 - val_loss: 1.4329 - val_accuracy: 0.4748\n",
      "Epoch 3/100\n",
      "87/87 [==============================] - 1s 7ms/step - loss: 0.8677 - accuracy: 0.6142 - val_loss: 0.7685 - val_accuracy: 0.6163\n",
      "Epoch 4/100\n",
      "87/87 [==============================] - 1s 7ms/step - loss: 0.8258 - accuracy: 0.6325 - val_loss: 0.8333 - val_accuracy: 0.6259\n",
      "Epoch 5/100\n",
      "87/87 [==============================] - 1s 8ms/step - loss: 0.7875 - accuracy: 0.6422 - val_loss: 1.0828 - val_accuracy: 0.5790\n",
      "Epoch 6/100\n",
      "87/87 [==============================] - 1s 8ms/step - loss: 0.7494 - accuracy: 0.6545 - val_loss: 0.8528 - val_accuracy: 0.6042\n",
      "Epoch 7/100\n",
      "87/87 [==============================] - 1s 8ms/step - loss: 0.7579 - accuracy: 0.6670 - val_loss: 0.7688 - val_accuracy: 0.5938\n",
      "Epoch 8/100\n",
      "87/87 [==============================] - 1s 8ms/step - loss: 0.7187 - accuracy: 0.6760 - val_loss: 0.8217 - val_accuracy: 0.6528\n",
      "Epoch 9/100\n",
      "87/87 [==============================] - 1s 7ms/step - loss: 0.7138 - accuracy: 0.6744 - val_loss: 0.6207 - val_accuracy: 0.7014\n",
      "Epoch 10/100\n",
      "87/87 [==============================] - 1s 7ms/step - loss: 0.6965 - accuracy: 0.6830 - val_loss: 0.7958 - val_accuracy: 0.6172\n",
      "Epoch 11/100\n",
      "87/87 [==============================] - 1s 7ms/step - loss: 0.6828 - accuracy: 0.6936 - val_loss: 0.6950 - val_accuracy: 0.6762\n",
      "Epoch 12/100\n",
      "87/87 [==============================] - 1s 8ms/step - loss: 0.7010 - accuracy: 0.6889 - val_loss: 0.5893 - val_accuracy: 0.7318\n",
      "Epoch 13/100\n",
      "87/87 [==============================] - 1s 8ms/step - loss: 0.6665 - accuracy: 0.7026 - val_loss: 0.6494 - val_accuracy: 0.7049\n",
      "Epoch 14/100\n",
      "87/87 [==============================] - 1s 7ms/step - loss: 0.6443 - accuracy: 0.7098 - val_loss: 0.7168 - val_accuracy: 0.6910\n",
      "Epoch 15/100\n",
      "87/87 [==============================] - 1s 7ms/step - loss: 0.6511 - accuracy: 0.6974 - val_loss: 0.5971 - val_accuracy: 0.7396\n",
      "Epoch 16/100\n",
      "87/87 [==============================] - 1s 8ms/step - loss: 0.6449 - accuracy: 0.7141 - val_loss: 0.5319 - val_accuracy: 0.7396\n",
      "Epoch 17/100\n",
      "87/87 [==============================] - 1s 8ms/step - loss: 0.5614 - accuracy: 0.7457 - val_loss: 0.5210 - val_accuracy: 0.7378\n",
      "Epoch 18/100\n",
      "87/87 [==============================] - 1s 8ms/step - loss: 0.5347 - accuracy: 0.7540 - val_loss: 0.5110 - val_accuracy: 0.7561\n",
      "Epoch 19/100\n",
      "87/87 [==============================] - 1s 7ms/step - loss: 0.5439 - accuracy: 0.7482 - val_loss: 0.5008 - val_accuracy: 0.7656\n",
      "Epoch 20/100\n",
      "87/87 [==============================] - 1s 8ms/step - loss: 0.5269 - accuracy: 0.7561 - val_loss: 0.5006 - val_accuracy: 0.7682\n",
      "Epoch 21/100\n",
      "87/87 [==============================] - 1s 7ms/step - loss: 0.5378 - accuracy: 0.7593 - val_loss: 0.5010 - val_accuracy: 0.7604\n",
      "Epoch 22/100\n",
      "87/87 [==============================] - 1s 8ms/step - loss: 0.5135 - accuracy: 0.7635 - val_loss: 0.5215 - val_accuracy: 0.7613\n",
      "Epoch 23/100\n",
      "87/87 [==============================] - 1s 8ms/step - loss: 0.5252 - accuracy: 0.7602 - val_loss: 0.4985 - val_accuracy: 0.7595\n",
      "Epoch 24/100\n",
      "87/87 [==============================] - 1s 8ms/step - loss: 0.5190 - accuracy: 0.7636 - val_loss: 0.5042 - val_accuracy: 0.7569\n",
      "Epoch 25/100\n",
      "87/87 [==============================] - 1s 7ms/step - loss: 0.5185 - accuracy: 0.7669 - val_loss: 0.4957 - val_accuracy: 0.7682\n",
      "Epoch 26/100\n",
      "87/87 [==============================] - 1s 7ms/step - loss: 0.5008 - accuracy: 0.7698 - val_loss: 0.5008 - val_accuracy: 0.7613\n",
      "Epoch 27/100\n",
      "87/87 [==============================] - 1s 7ms/step - loss: 0.5069 - accuracy: 0.7656 - val_loss: 0.4904 - val_accuracy: 0.7674\n",
      "Epoch 28/100\n",
      "87/87 [==============================] - 1s 8ms/step - loss: 0.5044 - accuracy: 0.7606 - val_loss: 0.4859 - val_accuracy: 0.7691\n",
      "Epoch 29/100\n",
      "87/87 [==============================] - 1s 7ms/step - loss: 0.5124 - accuracy: 0.7667 - val_loss: 0.4861 - val_accuracy: 0.7700\n",
      "Epoch 30/100\n",
      "87/87 [==============================] - 1s 8ms/step - loss: 0.4989 - accuracy: 0.7707 - val_loss: 0.4914 - val_accuracy: 0.7691\n",
      "Epoch 31/100\n",
      "87/87 [==============================] - 1s 8ms/step - loss: 0.4872 - accuracy: 0.7728 - val_loss: 0.4740 - val_accuracy: 0.7587\n",
      "Epoch 32/100\n",
      "87/87 [==============================] - 1s 8ms/step - loss: 0.4981 - accuracy: 0.7703 - val_loss: 0.4961 - val_accuracy: 0.7639\n",
      "Epoch 33/100\n",
      "87/87 [==============================] - 1s 8ms/step - loss: 0.4976 - accuracy: 0.7805 - val_loss: 0.4774 - val_accuracy: 0.7769\n",
      "Epoch 34/100\n",
      "87/87 [==============================] - 1s 7ms/step - loss: 0.4757 - accuracy: 0.7721 - val_loss: 0.4742 - val_accuracy: 0.7682\n",
      "Epoch 35/100\n",
      "87/87 [==============================] - 1s 8ms/step - loss: 0.4918 - accuracy: 0.7737 - val_loss: 0.4789 - val_accuracy: 0.7778\n",
      "Epoch 36/100\n",
      "87/87 [==============================] - 1s 7ms/step - loss: 0.5035 - accuracy: 0.7780 - val_loss: 0.4791 - val_accuracy: 0.7700\n",
      "Epoch 37/100\n",
      "87/87 [==============================] - 1s 8ms/step - loss: 0.4862 - accuracy: 0.7791 - val_loss: 0.4835 - val_accuracy: 0.7847\n",
      "Epoch 38/100\n",
      "87/87 [==============================] - 1s 8ms/step - loss: 0.4878 - accuracy: 0.7744 - val_loss: 0.4738 - val_accuracy: 0.7769\n",
      "Epoch 39/100\n",
      "87/87 [==============================] - 1s 8ms/step - loss: 0.4821 - accuracy: 0.7786 - val_loss: 0.4735 - val_accuracy: 0.7691\n",
      "Epoch 40/100\n",
      "87/87 [==============================] - 1s 7ms/step - loss: 0.4814 - accuracy: 0.7798 - val_loss: 0.4742 - val_accuracy: 0.7856\n",
      "Epoch 41/100\n",
      "87/87 [==============================] - 1s 7ms/step - loss: 0.4927 - accuracy: 0.7698 - val_loss: 0.4654 - val_accuracy: 0.7830\n",
      "Epoch 42/100\n",
      "87/87 [==============================] - 1s 8ms/step - loss: 0.4673 - accuracy: 0.7829 - val_loss: 0.4610 - val_accuracy: 0.7839\n",
      "Epoch 43/100\n",
      "87/87 [==============================] - 1s 7ms/step - loss: 0.4775 - accuracy: 0.7778 - val_loss: 0.4835 - val_accuracy: 0.7821\n",
      "Epoch 44/100\n",
      "87/87 [==============================] - 1s 8ms/step - loss: 0.4630 - accuracy: 0.7809 - val_loss: 0.4604 - val_accuracy: 0.7865\n",
      "Epoch 45/100\n",
      "87/87 [==============================] - 1s 8ms/step - loss: 0.4640 - accuracy: 0.7841 - val_loss: 0.4607 - val_accuracy: 0.7839\n",
      "Epoch 46/100\n",
      "87/87 [==============================] - 1s 8ms/step - loss: 0.4711 - accuracy: 0.7870 - val_loss: 0.4663 - val_accuracy: 0.7839\n",
      "Epoch 47/100\n",
      "87/87 [==============================] - 1s 8ms/step - loss: 0.4611 - accuracy: 0.7841 - val_loss: 0.4609 - val_accuracy: 0.7804\n",
      "Epoch 48/100\n",
      "87/87 [==============================] - 1s 8ms/step - loss: 0.4751 - accuracy: 0.7888 - val_loss: 0.4562 - val_accuracy: 0.7925\n",
      "Epoch 49/100\n",
      "87/87 [==============================] - 1s 8ms/step - loss: 0.4647 - accuracy: 0.7899 - val_loss: 0.4573 - val_accuracy: 0.7891\n",
      "Epoch 50/100\n",
      "87/87 [==============================] - 1s 7ms/step - loss: 0.4656 - accuracy: 0.7868 - val_loss: 0.4602 - val_accuracy: 0.7865\n",
      "Epoch 51/100\n",
      "87/87 [==============================] - 1s 8ms/step - loss: 0.4703 - accuracy: 0.7811 - val_loss: 0.4682 - val_accuracy: 0.7734\n",
      "Epoch 52/100\n",
      "87/87 [==============================] - 1s 8ms/step - loss: 0.4631 - accuracy: 0.7883 - val_loss: 0.4456 - val_accuracy: 0.7934\n",
      "Epoch 53/100\n",
      "87/87 [==============================] - 1s 8ms/step - loss: 0.4655 - accuracy: 0.7890 - val_loss: 0.4508 - val_accuracy: 0.7882\n",
      "Epoch 54/100\n",
      "87/87 [==============================] - 1s 8ms/step - loss: 0.4665 - accuracy: 0.7874 - val_loss: 0.4422 - val_accuracy: 0.7925\n",
      "Epoch 55/100\n",
      "87/87 [==============================] - 1s 7ms/step - loss: 0.4601 - accuracy: 0.7893 - val_loss: 0.4349 - val_accuracy: 0.8047\n",
      "Epoch 56/100\n",
      "87/87 [==============================] - 1s 8ms/step - loss: 0.4496 - accuracy: 0.7915 - val_loss: 0.4540 - val_accuracy: 0.7865\n",
      "Epoch 57/100\n",
      "87/87 [==============================] - 1s 7ms/step - loss: 0.4599 - accuracy: 0.7945 - val_loss: 0.4526 - val_accuracy: 0.7856\n",
      "Epoch 58/100\n",
      "87/87 [==============================] - 1s 7ms/step - loss: 0.4564 - accuracy: 0.7902 - val_loss: 0.4296 - val_accuracy: 0.7977\n",
      "Epoch 59/100\n",
      "87/87 [==============================] - 1s 7ms/step - loss: 0.4383 - accuracy: 0.7999 - val_loss: 0.4333 - val_accuracy: 0.7934\n",
      "Epoch 60/100\n",
      "87/87 [==============================] - 1s 7ms/step - loss: 0.4503 - accuracy: 0.7958 - val_loss: 0.4462 - val_accuracy: 0.7960\n",
      "Epoch 61/100\n",
      "87/87 [==============================] - 1s 8ms/step - loss: 0.4511 - accuracy: 0.7942 - val_loss: 0.4285 - val_accuracy: 0.8073\n",
      "Epoch 62/100\n",
      "87/87 [==============================] - 1s 7ms/step - loss: 0.4287 - accuracy: 0.8035 - val_loss: 0.4320 - val_accuracy: 0.8056\n",
      "Epoch 63/100\n",
      "87/87 [==============================] - 1s 7ms/step - loss: 0.4433 - accuracy: 0.8030 - val_loss: 0.4305 - val_accuracy: 0.7899\n",
      "Epoch 64/100\n",
      "87/87 [==============================] - 1s 8ms/step - loss: 0.4464 - accuracy: 0.7949 - val_loss: 0.4342 - val_accuracy: 0.8030\n",
      "Epoch 65/100\n",
      "87/87 [==============================] - 1s 8ms/step - loss: 0.4397 - accuracy: 0.8039 - val_loss: 0.4240 - val_accuracy: 0.8047\n",
      "Epoch 66/100\n",
      "87/87 [==============================] - 1s 8ms/step - loss: 0.4514 - accuracy: 0.7981 - val_loss: 0.4380 - val_accuracy: 0.8038\n",
      "Epoch 67/100\n",
      "87/87 [==============================] - 1s 8ms/step - loss: 0.4401 - accuracy: 0.8044 - val_loss: 0.4382 - val_accuracy: 0.8082\n",
      "Epoch 68/100\n",
      "87/87 [==============================] - 1s 8ms/step - loss: 0.4361 - accuracy: 0.8082 - val_loss: 0.4307 - val_accuracy: 0.8073\n",
      "Epoch 69/100\n",
      "87/87 [==============================] - 1s 7ms/step - loss: 0.4330 - accuracy: 0.8050 - val_loss: 0.4190 - val_accuracy: 0.8108\n",
      "Epoch 70/100\n",
      "87/87 [==============================] - 1s 8ms/step - loss: 0.4342 - accuracy: 0.8053 - val_loss: 0.4374 - val_accuracy: 0.7969\n",
      "Epoch 71/100\n",
      "87/87 [==============================] - 1s 8ms/step - loss: 0.4367 - accuracy: 0.8089 - val_loss: 0.4135 - val_accuracy: 0.8203\n",
      "Epoch 72/100\n",
      "87/87 [==============================] - 1s 8ms/step - loss: 0.4155 - accuracy: 0.8173 - val_loss: 0.4608 - val_accuracy: 0.7969\n",
      "Epoch 73/100\n",
      "87/87 [==============================] - 1s 8ms/step - loss: 0.4290 - accuracy: 0.8145 - val_loss: 0.4464 - val_accuracy: 0.7891\n",
      "Epoch 74/100\n",
      "87/87 [==============================] - 1s 7ms/step - loss: 0.4395 - accuracy: 0.8114 - val_loss: 0.4147 - val_accuracy: 0.8142\n",
      "Epoch 75/100\n",
      "87/87 [==============================] - 1s 8ms/step - loss: 0.4046 - accuracy: 0.8209 - val_loss: 0.4138 - val_accuracy: 0.8125\n",
      "Epoch 76/100\n",
      "87/87 [==============================] - 1s 7ms/step - loss: 0.4183 - accuracy: 0.8116 - val_loss: 0.4233 - val_accuracy: 0.8160\n",
      "Epoch 77/100\n",
      "87/87 [==============================] - 1s 8ms/step - loss: 0.4259 - accuracy: 0.8134 - val_loss: 0.4436 - val_accuracy: 0.8056\n",
      "Epoch 78/100\n",
      "87/87 [==============================] - 1s 8ms/step - loss: 0.4270 - accuracy: 0.8121 - val_loss: 0.4122 - val_accuracy: 0.8273\n",
      "Epoch 79/100\n",
      "87/87 [==============================] - 1s 8ms/step - loss: 0.4350 - accuracy: 0.8064 - val_loss: 0.4449 - val_accuracy: 0.8108\n",
      "Epoch 80/100\n",
      "87/87 [==============================] - 1s 8ms/step - loss: 0.4011 - accuracy: 0.8227 - val_loss: 0.4473 - val_accuracy: 0.8030\n",
      "Epoch 81/100\n",
      "87/87 [==============================] - 1s 8ms/step - loss: 0.4088 - accuracy: 0.8218 - val_loss: 0.4060 - val_accuracy: 0.8108\n",
      "Epoch 82/100\n",
      "87/87 [==============================] - 1s 8ms/step - loss: 0.4113 - accuracy: 0.8204 - val_loss: 0.4069 - val_accuracy: 0.8177\n",
      "Epoch 83/100\n",
      "87/87 [==============================] - 1s 8ms/step - loss: 0.4118 - accuracy: 0.8116 - val_loss: 0.4003 - val_accuracy: 0.8229\n",
      "Epoch 84/100\n",
      "87/87 [==============================] - 1s 8ms/step - loss: 0.4014 - accuracy: 0.8233 - val_loss: 0.3995 - val_accuracy: 0.8255\n",
      "Epoch 85/100\n",
      "87/87 [==============================] - 1s 7ms/step - loss: 0.4022 - accuracy: 0.8244 - val_loss: 0.3992 - val_accuracy: 0.8264\n",
      "Epoch 86/100\n",
      "87/87 [==============================] - 1s 8ms/step - loss: 0.4060 - accuracy: 0.8163 - val_loss: 0.4048 - val_accuracy: 0.8316\n",
      "Epoch 87/100\n",
      "87/87 [==============================] - 1s 8ms/step - loss: 0.4077 - accuracy: 0.8218 - val_loss: 0.3936 - val_accuracy: 0.8307\n",
      "Epoch 88/100\n",
      "87/87 [==============================] - 1s 8ms/step - loss: 0.3967 - accuracy: 0.8229 - val_loss: 0.4070 - val_accuracy: 0.8264\n",
      "Epoch 89/100\n",
      "87/87 [==============================] - 1s 8ms/step - loss: 0.3938 - accuracy: 0.8236 - val_loss: 0.3981 - val_accuracy: 0.8325\n",
      "Epoch 90/100\n",
      "87/87 [==============================] - 1s 7ms/step - loss: 0.3990 - accuracy: 0.8218 - val_loss: 0.3975 - val_accuracy: 0.8299\n",
      "Epoch 91/100\n",
      "87/87 [==============================] - 1s 8ms/step - loss: 0.3875 - accuracy: 0.8279 - val_loss: 0.3889 - val_accuracy: 0.8342\n",
      "Epoch 92/100\n",
      "87/87 [==============================] - 1s 8ms/step - loss: 0.3779 - accuracy: 0.8355 - val_loss: 0.3859 - val_accuracy: 0.8411\n",
      "Epoch 93/100\n",
      "87/87 [==============================] - 1s 8ms/step - loss: 0.3859 - accuracy: 0.8319 - val_loss: 0.3866 - val_accuracy: 0.8359\n",
      "Epoch 94/100\n",
      "87/87 [==============================] - 1s 8ms/step - loss: 0.3829 - accuracy: 0.8328 - val_loss: 0.3813 - val_accuracy: 0.8472\n",
      "Epoch 95/100\n",
      "87/87 [==============================] - 1s 8ms/step - loss: 0.3769 - accuracy: 0.8380 - val_loss: 0.3825 - val_accuracy: 0.8411\n",
      "Epoch 96/100\n",
      "87/87 [==============================] - 1s 8ms/step - loss: 0.3693 - accuracy: 0.8375 - val_loss: 0.3716 - val_accuracy: 0.8446\n",
      "Epoch 97/100\n",
      "87/87 [==============================] - 1s 7ms/step - loss: 0.3919 - accuracy: 0.8274 - val_loss: 0.3782 - val_accuracy: 0.8455\n",
      "Epoch 98/100\n",
      "87/87 [==============================] - 1s 8ms/step - loss: 0.3800 - accuracy: 0.8371 - val_loss: 0.3789 - val_accuracy: 0.8420\n",
      "Epoch 99/100\n",
      "87/87 [==============================] - 1s 8ms/step - loss: 0.3816 - accuracy: 0.8353 - val_loss: 0.3762 - val_accuracy: 0.8403\n",
      "Epoch 100/100\n",
      "87/87 [==============================] - 1s 7ms/step - loss: 0.3657 - accuracy: 0.8407 - val_loss: 0.3812 - val_accuracy: 0.8446\n"
     ]
    }
   ],
   "source": [
    "history = cnn_model.fit(\n",
    "        train_ds,\n",
    "        steps_per_epoch = params[\"train_size\"] // config[\"BATCH_SIZE\"],\n",
    "        epochs = config[\"NUM_EPOCHS\"],\n",
    "        validation_data = test_ds,\n",
    "        validation_steps = params[\"test_size\"] // config[\"BATCH_SIZE\"],\n",
    "        validation_freq = 1,\n",
    "        callbacks = callbacks)"
   ]
  },
  {
   "cell_type": "code",
   "execution_count": 10,
   "metadata": {},
   "outputs": [],
   "source": [
    "# cnn_model.save('models/{}.h5'.format(model_name))\n",
    "# cnn_model = tf.keras.models.load_model('models/{}.h5'.format(model_name))"
   ]
  },
  {
   "cell_type": "markdown",
   "metadata": {},
   "source": [
    "## Evaluate the model"
   ]
  },
  {
   "cell_type": "code",
   "execution_count": 11,
   "metadata": {},
   "outputs": [
    {
     "name": "stdout",
     "output_type": "stream",
     "text": [
      "18/18 - 29s - loss: 0.3451 - accuracy: 0.8594\n"
     ]
    }
   ],
   "source": [
    "cnn_evaluate = cnn_model.evaluate(val_ds, verbose=2, steps=params[\"val_size\"] // config[\"BATCH_SIZE\"])"
   ]
  },
  {
   "cell_type": "code",
   "execution_count": 12,
   "metadata": {},
   "outputs": [
    {
     "data": {
      "image/png": "[encoded data removed]",
      "text/plain": [
       "<Figure size 1008x432 with 2 Axes>"
      ]
     },
     "metadata": {
      "needs_background": "light"
     },
     "output_type": "display_data"
    }
   ],
   "source": [
    "acc = history.history['accuracy']\n",
    "val_acc = history.history['val_accuracy']\n",
    "loss = history.history['loss']\n",
    "val_loss = history.history['val_loss']\n",
    "\n",
    "epochs_range = range(config[\"NUM_EPOCHS\"])\n",
    "\n",
    "plt.figure(figsize=(14, 6))\n",
    "\n",
    "# Subplot 1\n",
    "plt.subplot(1, 2, 1)\n",
    "plt.plot(epochs_range, acc, label='Training Accuracy')\n",
    "plt.plot(epochs_range, val_acc, label='Validation Accuracy')\n",
    "plt.legend(loc='lower right')\n",
    "# plt.ylim([0.5, 1])\n",
    "plt.xlabel('Epoch')\n",
    "plt.ylabel('Accuracy')\n",
    "plt.title('Training and Validation Accuracy')\n",
    "\n",
    "# Subplot 2\n",
    "plt.subplot(1, 2, 2)\n",
    "plt.plot(epochs_range, loss, label='Training Loss')\n",
    "plt.plot(epochs_range, val_loss, label='Validation Loss')\n",
    "plt.legend(loc='upper right')\n",
    "# plt.ylim([0.5, 1])\n",
    "plt.xlabel('Epoch')\n",
    "plt.ylabel('Accuracy')\n",
    "plt.title('Training and Validation Loss')\n",
    "plt.show()"
   ]
  },
  {
   "cell_type": "markdown",
   "metadata": {},
   "source": [
    "`Tensorboard`"
   ]
  },
  {
   "cell_type": "raw",
   "metadata": {},
   "source": [
    "from tensorboard import notebook\n",
    "# Load the TensorBoard notebook extension\n",
    "# %load_ext tensorboard\n",
    "\n",
    "# Start tensorboard\n",
    "# %tensorboard --logdir logs"
   ]
  },
  {
   "cell_type": "raw",
   "metadata": {},
   "source": [
    "# Clear any logs from previous runs (move to .old instead?)\n",
    "!rm -rf ./logs/\n",
    "\n",
    "# Stop tensorboard\n",
    "notebook.list()\n",
    "!kill 20058"
   ]
  },
  {
   "cell_type": "markdown",
   "metadata": {},
   "source": [
    "## Predict new samples"
   ]
  },
  {
   "cell_type": "code",
   "execution_count": 13,
   "metadata": {},
   "outputs": [],
   "source": [
    "# Fetch one batch\n",
    "images, labels = next(iter(val_ds))\n",
    "\n",
    "# Convert from tensor to numpy array\n",
    "images = images.numpy()\n",
    "labels = labels.numpy()"
   ]
  },
  {
   "cell_type": "code",
   "execution_count": 14,
   "metadata": {},
   "outputs": [
    {
     "name": "stdout",
     "output_type": "stream",
     "text": [
      "0.0000 esophagitis\n",
      "0.0000 normal-pylorus\n",
      "0.0000 ulcerative-colitis\n",
      "0.0000 normal-cecum\n",
      "0.0000 normal-z-line\n",
      "0.0000 polyps\n",
      "0.1779 dyed-resection-margins\n",
      "0.8220 dyed-lifted-polyps\n",
      "\n",
      "Label: dyed-lifted-polyps\n",
      "Predicton: dyed-lifted-polyps\n"
     ]
    },
    {
     "data": {
      "image/png": "[encoded data removed]",
      "text/plain": [
       "<Figure size 432x288 with 1 Axes>"
      ]
     },
     "metadata": {},
     "output_type": "display_data"
    }
   ],
   "source": [
    "# Get a random image and label\n",
    "rand = np.random.randint(0, config[\"BATCH_SIZE\"])\n",
    "image = images[rand]\n",
    "label = labels[rand]\n",
    "\n",
    "# Predict one image\n",
    "predictions = cnn_model.predict(np.expand_dims(image, axis=0))[0]\n",
    "\n",
    "for i, pred in enumerate(predictions):\n",
    "    print(\"{:0.4f} {}\".format(pred,params[\"class_names\"][i]))\n",
    "\n",
    "print (\"\\nLabel:\", params[\"class_names\"][label])\n",
    "print (\"Predicton:\", params[\"class_names\"][np.argmax(predictions)])\n",
    "\n",
    "plt.figure(frameon=False, facecolor='white')\n",
    "plt.imshow(image)\n",
    "plt.axis('off');"
   ]
  },
  {
   "cell_type": "code",
   "execution_count": 15,
   "metadata": {},
   "outputs": [
    {
     "name": "stdout",
     "output_type": "stream",
     "text": [
      "idx  label                     pred                     \n",
      "---  ------------------------- -------------------------\n",
      "  0  normal-z-line             esophagitis                Wrong\n",
      "  1  dyed-lifted-polyps        dyed-resection-margins     Wrong\n",
      "  2  esophagitis               esophagitis              \n",
      "  3  normal-z-line             normal-z-line            \n",
      "  4  ulcerative-colitis        ulcerative-colitis       \n",
      "  5  normal-pylorus            normal-pylorus           \n",
      "  6  esophagitis               esophagitis              \n",
      "  7  normal-cecum              normal-cecum             \n",
      "  8  dyed-lifted-polyps        dyed-lifted-polyps       \n",
      "  9  normal-pylorus            normal-pylorus           \n",
      " 10  dyed-resection-margins    dyed-resection-margins   \n",
      " 11  polyps                    polyps                   \n",
      " 12  normal-pylorus            normal-pylorus           \n",
      " 13  polyps                    polyps                   \n",
      " 14  dyed-lifted-polyps        dyed-lifted-polyps       \n",
      " 15  normal-z-line             normal-z-line            \n",
      " 16  esophagitis               esophagitis              \n",
      " 17  normal-pylorus            normal-pylorus           \n",
      " 18  ulcerative-colitis        ulcerative-colitis       \n",
      " 19  dyed-resection-margins    dyed-resection-margins   \n",
      " 20  polyps                    polyps                   \n",
      " 21  esophagitis               normal-z-line              Wrong\n",
      " 22  normal-pylorus            normal-pylorus           \n",
      " 23  ulcerative-colitis        polyps                     Wrong\n",
      " 24  ulcerative-colitis        ulcerative-colitis       \n",
      " 25  normal-cecum              polyps                     Wrong\n",
      " 26  ulcerative-colitis        ulcerative-colitis       \n",
      " 27  dyed-resection-margins    dyed-resection-margins   \n",
      " 28  ulcerative-colitis        ulcerative-colitis       \n",
      " 29  dyed-lifted-polyps        dyed-resection-margins     Wrong\n",
      " 30  polyps                    polyps                   \n",
      " 31  dyed-resection-margins    dyed-resection-margins   \n",
      " 32  polyps                    polyps                   \n",
      " 33  dyed-lifted-polyps        dyed-lifted-polyps       \n",
      " 34  normal-z-line             normal-z-line            \n",
      " 35  dyed-lifted-polyps        dyed-lifted-polyps       \n",
      " 36  normal-pylorus            normal-pylorus           \n",
      " 37  ulcerative-colitis        ulcerative-colitis       \n",
      " 38  polyps                    ulcerative-colitis         Wrong\n",
      " 39  esophagitis               esophagitis              \n",
      " 40  dyed-resection-margins    dyed-resection-margins   \n",
      " 41  esophagitis               esophagitis              \n",
      " 42  dyed-resection-margins    dyed-resection-margins   \n",
      " 43  dyed-lifted-polyps        dyed-lifted-polyps       \n",
      " 44  normal-cecum              normal-cecum             \n",
      " 45  dyed-resection-margins    dyed-resection-margins   \n",
      " 46  normal-z-line             normal-z-line            \n",
      " 47  dyed-lifted-polyps        dyed-lifted-polyps       \n",
      " 48  normal-cecum              normal-cecum             \n",
      " 49  normal-z-line             normal-z-line            \n",
      " 50  normal-pylorus            normal-pylorus           \n",
      " 51  normal-cecum              normal-cecum             \n",
      " 52  polyps                    normal-cecum               Wrong\n",
      " 53  normal-cecum              normal-cecum             \n",
      " 54  esophagitis               esophagitis              \n",
      " 55  normal-cecum              normal-cecum             \n",
      " 56  normal-z-line             normal-z-line            \n",
      " 57  dyed-resection-margins    dyed-lifted-polyps         Wrong\n",
      " 58  normal-pylorus            normal-pylorus           \n",
      " 59  normal-cecum              normal-cecum             \n",
      " 60  dyed-lifted-polyps        dyed-lifted-polyps       \n",
      " 61  ulcerative-colitis        ulcerative-colitis       \n",
      " 62  esophagitis               esophagitis              \n",
      " 63  normal-pylorus            normal-pylorus           "
     ]
    }
   ],
   "source": [
    "# Predict one batch\n",
    "predictions = cnn_model.predict(images)\n",
    "\n",
    "print ('{:3}  {:<25} {:25}'.format('idx', 'label', 'pred'))\n",
    "print ('---  {} {}'.format(25*'-', 25*'-'), end='')\n",
    "\n",
    "for i, pred in enumerate(predictions):\n",
    "    label = params[\"class_names\"][labels[i]]\n",
    "    prediction = params[\"class_names\"][np.argmax(pred)]\n",
    "    print ('\\n{:3}  {:25} {:25}'.format(i, label, prediction), end='')\n",
    "    if (label != prediction): print (\"  Wrong\", end='')"
   ]
  }
 ],
 "metadata": {
  "kernelspec": {
   "display_name": "TF2",
   "language": "python",
   "name": "tf2"
  },
  "language_info": {
   "codemirror_mode": {
    "name": "ipython",
    "version": 3
   },
   "file_extension": ".py",
   "mimetype": "text/x-python",
   "name": "python",
   "nbconvert_exporter": "python",
   "pygments_lexer": "ipython3",
   "version": "3.7.6"
  }
 },
 "nbformat": 4,
 "nbformat_minor": 4
}
