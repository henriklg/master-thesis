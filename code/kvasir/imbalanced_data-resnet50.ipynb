{
 "cells": [
  {
   "cell_type": "markdown",
   "metadata": {},
   "source": [
    "Kvasir dataset split into neg/pos and trained using Resnet50 without augmentation.  \n",
    "- Class weighting  \n",
    "- Resampling  \n",
    "- Initial Bias-estimation\n",
    "- Decreasing learning rate"
   ]
  },
  {
   "cell_type": "markdown",
   "metadata": {},
   "source": [
    "### Loading images\n",
    "https://www.tensorflow.org/tutorials/load_data/images"
   ]
  },
  {
   "cell_type": "code",
   "execution_count": 2,
   "metadata": {},
   "outputs": [
    {
     "name": "stdout",
     "output_type": "stream",
     "text": [
      "The autoreload extension is already loaded. To reload it, use:\n",
      "  %reload_ext autoreload\n"
     ]
    }
   ],
   "source": [
    "from __future__ import absolute_import, division, print_function, unicode_literals\n",
    "\n",
    "import tensorflow as tf\n",
    "\n",
    "import numpy as np\n",
    "import os\n",
    "import pathlib\n",
    "import matplotlib.pyplot as plt\n",
    "\n",
    "# Some stuff to make utils-function work\n",
    "import sys\n",
    "sys.path.append('/home/henrik/master_thesis/code/utils')\n",
    "from data_prep import create_dataset, print_class_info, show_image\n",
    "%load_ext autoreload\n",
    "%autoreload 2\n",
    "\n",
    "# Jupyter-specific\n",
    "%matplotlib inline"
   ]
  },
  {
   "cell_type": "markdown",
   "metadata": {},
   "source": [
    "Some parameters"
   ]
  },
  {
   "cell_type": "code",
   "execution_count": 3,
   "metadata": {},
   "outputs": [],
   "source": [
    "data_dir = pathlib.Path('/mnt/sdb/kvasir-dataset-v2/')\n",
    "\n",
    "config = {\n",
    "    \"data_dir\": data_dir,\n",
    "    \"cache_dir\": \"./cache\",\n",
    "    \"model\": 'resnet50',\n",
    "    \"ds_info\": 'binary',\n",
    "    \"resample\": False,\n",
    "    \"neg_class\": ['normal-cecum'],\n",
    "    \"num_epochs\": 100,\n",
    "    \"batch_size\": 128,\n",
    "    \"img_shape\": (32, 32, 3),\n",
    "    \"outcast\": None,\n",
    "    \"optimizer\": 'Adam',\n",
    "    \"final_activation\": 'sigmoid',\n",
    "    \"learning_rate\": 0.001,\n",
    "    \"early_stopping_patience\": 10,\n",
    "    \"decay_rate\": 0.4,              # higher number gives steeper dropoff\n",
    "    \"verbosity\": 1\n",
    "    }\n",
    "\n",
    "model_name = '{}x{}x{}_{}_{}'.format(config[\"num_epochs\"], config[\"batch_size\"], \n",
    "                                     config[\"img_shape\"][1], config[\"ds_info\"], config[\"model\"])\n",
    "\n",
    "learning_rate = config[\"learning_rate\"]\n",
    "fine_tune_at = 130\n",
    "fine_tune_epochs = 150\n",
    "early_stopping_patience = config[\"early_stopping_patience\"]"
   ]
  },
  {
   "cell_type": "markdown",
   "metadata": {},
   "source": [
    "Create training, testing and validation dataset from utils/data_prep.py"
   ]
  },
  {
   "cell_type": "code",
   "execution_count": 4,
   "metadata": {},
   "outputs": [
    {
     "name": "stdout",
     "output_type": "stream",
     "text": [
      "Negative class names:\n",
      "        - normal-cecum\n",
      "Positive class names:\n",
      "        - esophagitis\n",
      "        - normal-pylorus\n",
      "        - ulcerative-colitis\n",
      "        - normal-z-line\n",
      "        - polyps\n",
      "        - dyed-resection-margins\n",
      "        - dyed-lifted-polyps\n",
      "\n",
      "Negative samples:  1000 | 12.50%\n",
      "Positive samples:  7000 | 87.50%\n",
      "\n",
      "Total number of images: 8000\n",
      "Dataset.list_files:  /mnt/sdb/kvasir-dataset-v2/*/*.*g \n",
      "\n",
      "[1 1 1 1 1 1 1 1 1 1]\n",
      "[1 1 0 0 1 1 1 1 1 1]\n",
      "[1 1 1 1 1 1 1 1 1 1]\n",
      "[1 1 1 0 1 1 0 0 1 1]\n",
      "[0 1 1 1 1 1 1 1 1 1]\n",
      "[1 1 1 1 1 1 1 1 1 1]\n",
      "[0 1 1 1 0 1 0 1 0 1]\n",
      "[1 1 1 1 1 0 1 1 1 1]\n",
      "[1 1 1 1 1 1 0 1 0 1]\n",
      "[1 1 1 0 1 1 0 1 1 1]\n",
      "\n",
      "Full dataset sample size:         8000\n",
      "Train dataset sample size:        5600\n",
      "Test dataset sample size:         1200\n",
      "Validation dataset sample size:   1200\n"
     ]
    }
   ],
   "source": [
    "train_ds, test_ds, val_ds, params = create_dataset(config)\n",
    "\n",
    "train_steps = params[\"train_size\"] // config[\"batch_size\"]\n",
    "test_steps = params[\"test_size\"] // config[\"batch_size\"]\n",
    "val_steps = params[\"val_size\"] // config[\"batch_size\"]\n",
    "\n",
    "neg = params[\"neg_count\"]\n",
    "pos = params[\"pos_count\"]\n",
    "total = params[\"ds_size\"]"
   ]
  },
  {
   "cell_type": "markdown",
   "metadata": {},
   "source": [
    "# Training"
   ]
  },
  {
   "cell_type": "markdown",
   "metadata": {},
   "source": [
    "### Resnet50 transfer learning\n",
    "see https://adventuresinmachinelearning.com/transfer-learning-tensorflow-2/  \n",
    "imbalanced-data: https://www.tensorflow.org/tutorials/structured_data/imbalanced_data"
   ]
  },
  {
   "cell_type": "code",
   "execution_count": 5,
   "metadata": {},
   "outputs": [],
   "source": [
    "from tensorflow.python.keras.applications import ResNet50\n",
    "from tensorflow.python.keras.models import Sequential, Model\n",
    "from tensorflow.keras.layers import Dense, Dropout, Flatten, GlobalAveragePooling2D\n",
    "\n",
    "from tensorflow.python.keras.callbacks import EarlyStopping, ModelCheckpoint, TensorBoard, LearningRateScheduler\n",
    "\n",
    "import datetime"
   ]
  },
  {
   "cell_type": "code",
   "execution_count": 6,
   "metadata": {},
   "outputs": [],
   "source": [
    "metrics = [\n",
    "        tf.keras.metrics.TruePositives(name='tp'),\n",
    "        tf.keras.metrics.FalsePositives(name='fp'),\n",
    "        tf.keras.metrics.TrueNegatives(name='tn'),\n",
    "        tf.keras.metrics.FalseNegatives(name='fn'), \n",
    "        tf.keras.metrics.BinaryAccuracy(name='accuracy'),\n",
    "        tf.keras.metrics.Precision(name='precision'),\n",
    "        tf.keras.metrics.Recall(name='recall'),\n",
    "        tf.keras.metrics.AUC(name='auc'),\n",
    "]"
   ]
  },
  {
   "cell_type": "code",
   "execution_count": 7,
   "metadata": {},
   "outputs": [],
   "source": [
    "res_net = tf.keras.applications.ResNet50(\n",
    "                weights='imagenet', \n",
    "                include_top=False, \n",
    "                input_shape=config[\"img_shape\"])\n",
    "\n",
    "res_net.trainable = True"
   ]
  },
  {
   "cell_type": "code",
   "execution_count": 8,
   "metadata": {},
   "outputs": [],
   "source": [
    "def make_model(output_bias=None):\n",
    "    if output_bias is not None:\n",
    "        output_bias = tf.keras.initializers.Constant(output_bias)\n",
    "    \n",
    "    global_average_layer = GlobalAveragePooling2D()\n",
    "    output_layer = Dense(1, activation='sigmoid',\n",
    "                         bias_initializer=output_bias)\n",
    "\n",
    "    resnet50_model = tf.keras.Sequential([\n",
    "            res_net,\n",
    "            global_average_layer,\n",
    "            output_layer])\n",
    "    \n",
    "    if config['optimizer'] == 'Adam':\n",
    "        opt = tf.keras.optimizers.Adam(learning_rate=learning_rate)\n",
    "    elif config['optimizer'] == 'SGD':\n",
    "        opt = tf.keras.optimizers.SGD(learning_rate=learning_rate)\n",
    "\n",
    "    resnet50_model.compile(\n",
    "            optimizer=opt,\n",
    "            loss=tf.keras.losses.BinaryCrossentropy(),\n",
    "            metrics=metrics)\n",
    "    \n",
    "    return resnet50_model"
   ]
  },
  {
   "cell_type": "raw",
   "metadata": {},
   "source": [
    "if config['verbosity'] > 0:\n",
    "    cnn_model.summary()"
   ]
  },
  {
   "cell_type": "raw",
   "metadata": {},
   "source": [
    "# Save image of layers\n",
    "tf.keras.utils.plot_model(cnn_model, 'models/{}.png'.format(model_name), show_shapes=True)"
   ]
  },
  {
   "cell_type": "markdown",
   "metadata": {},
   "source": [
    "### Callbacks"
   ]
  },
  {
   "cell_type": "code",
   "execution_count": 9,
   "metadata": {},
   "outputs": [],
   "source": [
    "initial_learning_rate = learning_rate\n",
    "decay_steps = train_steps\n",
    "batch_size = config['batch_size']\n",
    "decay_rate = config['decay_rate']\n",
    "\n",
    "def schedule(epoch):\n",
    "    # calculate new learning rate\n",
    "    learning_rate = initial_learning_rate / (1 + decay_rate * (epoch*batch_size) / decay_steps)\n",
    "    \n",
    "    # update tensorboard\n",
    "    tf.summary.scalar(name='learning_rate', data=learning_rate, step=epoch)\n",
    "    return learning_rate\n",
    "\n",
    "log_dir=\"./logs/{}/\".format(config[\"model\"]) + datetime.datetime.now().strftime(\"%Y%m%d-%H%M%S\")\n",
    "file_writer = tf.summary.create_file_writer(log_dir + \"/metrics\")\n",
    "file_writer.set_as_default()\n",
    "\n",
    "lr_schedule_cb = LearningRateScheduler(schedule, verbose=1)\n",
    "earlystopp_cb = EarlyStopping(monitor='val_loss',verbose=1, patience=early_stopping_patience, restore_best_weights=True)\n",
    "checkpoint_cb = ModelCheckpoint(filepath='./models/best_cp-{epoch:03d}.hdf', monitor='val_loss', save_best_only=True, mode='auto')\n",
    "tensorboard_cb = TensorBoard(log_dir=log_dir, update_freq='batch')\n",
    "\n",
    "callbacks = [tensorboard_cb, earlystopp_cb, lr_schedule_cb]\n",
    "\n",
    "# Write config dictionary to text file\n",
    "f = open(log_dir+\"/config.txt\",\"w\")\n",
    "f.write( str(config) )\n",
    "f.close()"
   ]
  },
  {
   "cell_type": "markdown",
   "metadata": {},
   "source": [
    "## Set correct initial bias\n"
   ]
  },
  {
   "cell_type": "code",
   "execution_count": 10,
   "metadata": {},
   "outputs": [
    {
     "data": {
      "text/plain": [
       "array([[0.01651019],\n",
       "       [0.02074003],\n",
       "       [0.01782346],\n",
       "       [0.01698971],\n",
       "       [0.01889473],\n",
       "       [0.01868799],\n",
       "       [0.01675355],\n",
       "       [0.01239654],\n",
       "       [0.01565892],\n",
       "       [0.01421055]], dtype=float32)"
      ]
     },
     "execution_count": 10,
     "metadata": {},
     "output_type": "execute_result"
    }
   ],
   "source": [
    "bias_model = make_model()\n",
    "\n",
    "# Test run the model and show 10 first predictions of one epoch\n",
    "bias_model.predict(train_ds.take(1))[:10]"
   ]
  },
  {
   "cell_type": "code",
   "execution_count": 11,
   "metadata": {},
   "outputs": [
    {
     "name": "stdout",
     "output_type": "stream",
     "text": [
      "Loss: 3.6329\n"
     ]
    }
   ],
   "source": [
    "results = bias_model.evaluate(train_ds, verbose=0, steps=train_steps)\n",
    "print(\"Loss: {:0.4f}\".format(results[0]))"
   ]
  },
  {
   "cell_type": "code",
   "execution_count": 12,
   "metadata": {},
   "outputs": [
    {
     "name": "stdout",
     "output_type": "stream",
     "text": [
      "The initial bias should then be: 1.9459\n"
     ]
    }
   ],
   "source": [
    "initial_bias = np.log([pos/neg])\n",
    "print (\"The initial bias should then be: {:.4f}\".format(initial_bias[0]))"
   ]
  },
  {
   "cell_type": "code",
   "execution_count": 13,
   "metadata": {},
   "outputs": [
    {
     "name": "stdout",
     "output_type": "stream",
     "text": [
      "Initial guess should be around: 0.875\n"
     ]
    },
    {
     "data": {
      "text/plain": [
       "array([[0.43302327],\n",
       "       [0.40926737],\n",
       "       [0.45541528],\n",
       "       [0.45709002],\n",
       "       [0.40368748],\n",
       "       [0.4123215 ],\n",
       "       [0.4513257 ],\n",
       "       [0.4194557 ],\n",
       "       [0.5030199 ],\n",
       "       [0.3955887 ]], dtype=float32)"
      ]
     },
     "execution_count": 13,
     "metadata": {},
     "output_type": "execute_result"
    }
   ],
   "source": [
    "new_bias_model = make_model(output_bias = initial_bias)\n",
    "new_bias_model.predict(train_ds, verbose=0, steps=train_steps)\n",
    "\n",
    "print (\"Initial guess should be around:\", pos/total)\n",
    "new_bias_model.predict(train_ds.take(1))[:10]"
   ]
  },
  {
   "cell_type": "code",
   "execution_count": 14,
   "metadata": {},
   "outputs": [
    {
     "name": "stdout",
     "output_type": "stream",
     "text": [
      "Loss: 0.7990\n"
     ]
    }
   ],
   "source": [
    "results = new_bias_model.evaluate(train_ds, verbose=0, steps=train_steps)\n",
    "print(\"Loss: {:0.4f}\".format(results[0]))"
   ]
  },
  {
   "cell_type": "code",
   "execution_count": 15,
   "metadata": {},
   "outputs": [],
   "source": [
    "initial_weights = os.path.join(log_dir,'initial_weights')\n",
    "new_bias_model.save_weights(initial_weights)"
   ]
  },
  {
   "cell_type": "markdown",
   "metadata": {},
   "source": [
    "#### Confirm that the bias fix helps"
   ]
  },
  {
   "cell_type": "raw",
   "metadata": {},
   "source": [
    "model = make_model()\n",
    "model.load_weights(initial_weights)\n",
    "model.layers[-1].bias.assign([0.0])\n",
    "zero_bias_history = model.fit(\n",
    "    train_ds,\n",
    "    steps_per_epoch = train_steps,\n",
    "    epochs = 20,\n",
    "    validation_data = test_ds,\n",
    "    validation_steps = test_steps,\n",
    "    validation_freq = 1,\n",
    "    verbose=0)"
   ]
  },
  {
   "cell_type": "raw",
   "metadata": {},
   "source": [
    "model = make_model()\n",
    "model.load_weights(initial_weights)\n",
    "careful_bias_history = model.fit(\n",
    "    train_ds,\n",
    "    steps_per_epoch = train_steps,\n",
    "    epochs = 20,\n",
    "    validation_data = test_ds,\n",
    "    validation_steps = test_steps,\n",
    "    validation_freq = 1,\n",
    "    verbose=0)"
   ]
  },
  {
   "cell_type": "code",
   "execution_count": 16,
   "metadata": {},
   "outputs": [],
   "source": [
    "colors = plt.rcParams['axes.prop_cycle'].by_key()['color']\n",
    "\n",
    "def plot_loss(history, label, n):\n",
    "    # Use a log scale to show the wide range of values.\n",
    "    plt.semilogy(history.epoch,  history.history['loss'],\n",
    "               color=colors[n], label='Train '+label)\n",
    "    plt.semilogy(history.epoch,  history.history['val_loss'],\n",
    "          color=colors[n], label='Val '+label,\n",
    "          linestyle=\"--\")\n",
    "    plt.xlabel('Epoch')\n",
    "    plt.ylabel('Loss')\n",
    "\n",
    "    plt.legend()"
   ]
  },
  {
   "cell_type": "raw",
   "metadata": {},
   "source": [
    "plt.figure(figsize=(10,8))\n",
    "plot_loss(zero_bias_history, \"Zero Bias\", 0)\n",
    "plot_loss(careful_bias_history, \"Careful Bias\", 1)"
   ]
  },
  {
   "cell_type": "markdown",
   "metadata": {},
   "source": [
    "## Baseline"
   ]
  },
  {
   "cell_type": "code",
   "execution_count": 17,
   "metadata": {},
   "outputs": [
    {
     "name": "stdout",
     "output_type": "stream",
     "text": [
      "Train for 43 steps, validate for 9 steps\n",
      "\n",
      "Epoch 00001: LearningRateScheduler reducing learning rate to 0.001.\n",
      "Epoch 1/100\n",
      "43/43 [==============================] - 42s 982ms/step - loss: 0.1488 - tp: 4709.0000 - fp: 174.0000 - tn: 508.0000 - fn: 113.0000 - accuracy: 0.9479 - precision: 0.9644 - recall: 0.9766 - auc: 0.9691 - val_loss: 18.9973 - val_tp: 1006.0000 - val_fp: 146.0000 - val_tn: 0.0000e+00 - val_fn: 0.0000e+00 - val_accuracy: 0.8733 - val_precision: 0.8733 - val_recall: 1.0000 - val_auc: 0.5000\n",
      "\n",
      "Epoch 00002: LearningRateScheduler reducing learning rate to 0.0004564755838641189.\n",
      "Epoch 2/100\n",
      "43/43 [==============================] - 3s 61ms/step - loss: 0.0652 - tp: 4765.0000 - fp: 81.0000 - tn: 595.0000 - fn: 63.0000 - accuracy: 0.9738 - precision: 0.9833 - recall: 0.9870 - auc: 0.9943 - val_loss: 0.9933 - val_tp: 1004.0000 - val_fp: 148.0000 - val_tn: 0.0000e+00 - val_fn: 0.0000e+00 - val_accuracy: 0.8715 - val_precision: 0.8715 - val_recall: 1.0000 - val_auc: 0.5000\n",
      "\n",
      "Epoch 00003: LearningRateScheduler reducing learning rate to 0.0002957359009628611.\n",
      "Epoch 3/100\n",
      "43/43 [==============================] - 3s 61ms/step - loss: 0.0427 - tp: 4762.0000 - fp: 45.0000 - tn: 648.0000 - fn: 49.0000 - accuracy: 0.9829 - precision: 0.9906 - recall: 0.9898 - auc: 0.9967 - val_loss: 0.8793 - val_tp: 1012.0000 - val_fp: 140.0000 - val_tn: 0.0000e+00 - val_fn: 0.0000e+00 - val_accuracy: 0.8785 - val_precision: 0.8785 - val_recall: 1.0000 - val_auc: 0.5000\n",
      "\n",
      "Epoch 00004: LearningRateScheduler reducing learning rate to 0.00021871820956256358.\n",
      "Epoch 4/100\n",
      "43/43 [==============================] - 3s 59ms/step - loss: 0.0300 - tp: 4814.0000 - fp: 34.0000 - tn: 639.0000 - fn: 17.0000 - accuracy: 0.9907 - precision: 0.9930 - recall: 0.9965 - auc: 0.9975 - val_loss: 1.0541 - val_tp: 1006.0000 - val_fp: 146.0000 - val_tn: 0.0000e+00 - val_fn: 0.0000e+00 - val_accuracy: 0.8733 - val_precision: 0.8733 - val_recall: 1.0000 - val_auc: 0.5000\n",
      "\n",
      "Epoch 00005: LearningRateScheduler reducing learning rate to 0.0001735270379338176.\n",
      "Epoch 5/100\n",
      "43/43 [==============================] - 3s 61ms/step - loss: 0.0224 - tp: 4790.0000 - fp: 23.0000 - tn: 669.0000 - fn: 22.0000 - accuracy: 0.9918 - precision: 0.9952 - recall: 0.9954 - auc: 0.9994 - val_loss: 0.8084 - val_tp: 1007.0000 - val_fp: 145.0000 - val_tn: 0.0000e+00 - val_fn: 0.0000e+00 - val_accuracy: 0.8741 - val_precision: 0.8741 - val_recall: 1.0000 - val_auc: 0.5000\n",
      "\n",
      "Epoch 00006: LearningRateScheduler reducing learning rate to 0.00014381270903010034.\n",
      "Epoch 6/100\n",
      "43/43 [==============================] - 3s 59ms/step - loss: 0.0138 - tp: 4826.0000 - fp: 19.0000 - tn: 650.0000 - fn: 9.0000 - accuracy: 0.9949 - precision: 0.9961 - recall: 0.9981 - auc: 0.9997 - val_loss: 0.8125 - val_tp: 1004.0000 - val_fp: 148.0000 - val_tn: 0.0000e+00 - val_fn: 0.0000e+00 - val_accuracy: 0.8715 - val_precision: 0.8715 - val_recall: 1.0000 - val_auc: 0.5000\n",
      "\n",
      "Epoch 00007: LearningRateScheduler reducing learning rate to 0.0001227869788692176.\n",
      "Epoch 7/100\n",
      "43/43 [==============================] - 3s 59ms/step - loss: 0.0158 - tp: 4812.0000 - fp: 10.0000 - tn: 667.0000 - fn: 15.0000 - accuracy: 0.9955 - precision: 0.9979 - recall: 0.9969 - auc: 0.9995 - val_loss: 0.9308 - val_tp: 1003.0000 - val_fp: 149.0000 - val_tn: 0.0000e+00 - val_fn: 0.0000e+00 - val_accuracy: 0.8707 - val_precision: 0.8707 - val_recall: 1.0000 - val_auc: 0.5000\n",
      "\n",
      "Epoch 00008: LearningRateScheduler reducing learning rate to 0.00010712506228201294.\n",
      "Epoch 8/100\n",
      "43/43 [==============================] - 3s 61ms/step - loss: 0.0058 - tp: 4820.0000 - fp: 11.0000 - tn: 671.0000 - fn: 2.0000 - accuracy: 0.9976 - precision: 0.9977 - recall: 0.9996 - auc: 1.0000 - val_loss: 0.7950 - val_tp: 1003.0000 - val_fp: 149.0000 - val_tn: 0.0000e+00 - val_fn: 0.0000e+00 - val_accuracy: 0.8707 - val_precision: 0.8707 - val_recall: 1.0000 - val_auc: 0.5000\n",
      "\n",
      "Epoch 00009: LearningRateScheduler reducing learning rate to 9.500662836942113e-05.\n",
      "Epoch 9/100\n",
      "43/43 [==============================] - 3s 59ms/step - loss: 0.0023 - tp: 4806.0000 - fp: 2.0000 - tn: 694.0000 - fn: 2.0000 - accuracy: 0.9993 - precision: 0.9996 - recall: 0.9996 - auc: 1.0000 - val_loss: 0.8699 - val_tp: 1002.0000 - val_fp: 150.0000 - val_tn: 0.0000e+00 - val_fn: 0.0000e+00 - val_accuracy: 0.8698 - val_precision: 0.8698 - val_recall: 1.0000 - val_auc: 0.5000\n",
      "\n",
      "Epoch 00010: LearningRateScheduler reducing learning rate to 8.535132989281461e-05.\n",
      "Epoch 10/100\n",
      "43/43 [==============================] - 3s 60ms/step - loss: 0.0037 - tp: 4824.0000 - fp: 4.0000 - tn: 672.0000 - fn: 4.0000 - accuracy: 0.9985 - precision: 0.9992 - recall: 0.9992 - auc: 1.0000 - val_loss: 1.0214 - val_tp: 1004.0000 - val_fp: 148.0000 - val_tn: 0.0000e+00 - val_fn: 0.0000e+00 - val_accuracy: 0.8715 - val_precision: 0.8715 - val_recall: 1.0000 - val_auc: 0.5000\n",
      "\n",
      "Epoch 00011: LearningRateScheduler reducing learning rate to 7.747747747747748e-05.\n",
      "Epoch 11/100\n",
      "43/43 [==============================] - 3s 61ms/step - loss: 0.0053 - tp: 4830.0000 - fp: 4.0000 - tn: 665.0000 - fn: 5.0000 - accuracy: 0.9984 - precision: 0.9992 - recall: 0.9990 - auc: 1.0000 - val_loss: 1.0149 - val_tp: 1005.0000 - val_fp: 147.0000 - val_tn: 0.0000e+00 - val_fn: 0.0000e+00 - val_accuracy: 0.8724 - val_precision: 0.8724 - val_recall: 1.0000 - val_auc: 0.5000\n",
      "\n",
      "Epoch 00012: LearningRateScheduler reducing learning rate to 7.093368525239195e-05.\n",
      "Epoch 12/100\n",
      "43/43 [==============================] - 3s 61ms/step - loss: 0.0024 - tp: 4806.0000 - fp: 4.0000 - tn: 693.0000 - fn: 1.0000 - accuracy: 0.9991 - precision: 0.9992 - recall: 0.9998 - auc: 1.0000 - val_loss: 1.0080 - val_tp: 1007.0000 - val_fp: 145.0000 - val_tn: 0.0000e+00 - val_fn: 0.0000e+00 - val_accuracy: 0.8741 - val_precision: 0.8741 - val_recall: 1.0000 - val_auc: 0.5000\n",
      "\n",
      "Epoch 00013: LearningRateScheduler reducing learning rate to 6.540918770915728e-05.\n",
      "Epoch 13/100\n",
      "43/43 [==============================] - 3s 60ms/step - loss: 0.0020 - tp: 4836.0000 - fp: 2.0000 - tn: 665.0000 - fn: 1.0000 - accuracy: 0.9995 - precision: 0.9996 - recall: 0.9998 - auc: 0.9992 - val_loss: 1.1157 - val_tp: 1003.0000 - val_fp: 149.0000 - val_tn: 0.0000e+00 - val_fn: 0.0000e+00 - val_accuracy: 0.8707 - val_precision: 0.8707 - val_recall: 1.0000 - val_auc: 0.5000\n",
      "\n",
      "Epoch 00014: LearningRateScheduler reducing learning rate to 6.068303697431555e-05.\n",
      "Epoch 14/100\n",
      "43/43 [==============================] - 3s 60ms/step - loss: 0.0046 - tp: 4829.0000 - fp: 4.0000 - tn: 668.0000 - fn: 3.0000 - accuracy: 0.9987 - precision: 0.9992 - recall: 0.9994 - auc: 0.9992 - val_loss: 1.1575 - val_tp: 1003.0000 - val_fp: 149.0000 - val_tn: 0.0000e+00 - val_fn: 0.0000e+00 - val_accuracy: 0.8707 - val_precision: 0.8707 - val_recall: 1.0000 - val_auc: 0.5000\n",
      "\n",
      "Epoch 00015: LearningRateScheduler reducing learning rate to 5.6593840484337976e-05.\n",
      "Epoch 15/100\n",
      "43/43 [==============================] - 3s 61ms/step - loss: 0.0021 - tp: 4801.0000 - fp: 2.0000 - tn: 700.0000 - fn: 1.0000 - accuracy: 0.9995 - precision: 0.9996 - recall: 0.9998 - auc: 1.0000 - val_loss: 1.2395 - val_tp: 1002.0000 - val_fp: 150.0000 - val_tn: 0.0000e+00 - val_fn: 0.0000e+00 - val_accuracy: 0.8698 - val_precision: 0.8698 - val_recall: 1.0000 - val_auc: 0.5000\n",
      "\n",
      "Epoch 00016: LearningRateScheduler reducing learning rate to 5.30209617755857e-05.\n",
      "Epoch 16/100\n",
      "43/43 [==============================] - 3s 60ms/step - loss: 6.4189e-04 - tp: 4830.0000 - fp: 0.0000e+00 - tn: 674.0000 - fn: 0.0000e+00 - accuracy: 1.0000 - precision: 1.0000 - recall: 1.0000 - auc: 1.0000 - val_loss: 1.2582 - val_tp: 1002.0000 - val_fp: 150.0000 - val_tn: 0.0000e+00 - val_fn: 0.0000e+00 - val_accuracy: 0.8698 - val_precision: 0.8698 - val_recall: 1.0000 - val_auc: 0.5000\n",
      "\n",
      "Epoch 00017: LearningRateScheduler reducing learning rate to 4.987241939225238e-05.\n",
      "Epoch 17/100\n",
      "43/43 [==============================] - 3s 60ms/step - loss: 2.7510e-04 - tp: 4828.0000 - fp: 0.0000e+00 - tn: 676.0000 - fn: 0.0000e+00 - accuracy: 1.0000 - precision: 1.0000 - recall: 1.0000 - auc: 1.0000 - val_loss: 1.1797 - val_tp: 1005.0000 - val_fp: 147.0000 - val_tn: 0.0000e+00 - val_fn: 0.0000e+00 - val_accuracy: 0.8724 - val_precision: 0.8724 - val_recall: 1.0000 - val_auc: 0.5034\n",
      "\n",
      "Epoch 00018: LearningRateScheduler reducing learning rate to 4.707685570396321e-05.\n",
      "Epoch 18/100\n",
      "42/43 [============================>.] - ETA: 0s - loss: 1.7701e-04 - tp: 4704.0000 - fp: 0.0000e+00 - tn: 672.0000 - fn: 0.0000e+00 - accuracy: 1.0000 - precision: 1.0000 - recall: 1.0000 - auc: 1.0000Restoring model weights from the end of the best epoch.\n",
      "43/43 [==============================] - 3s 61ms/step - loss: 1.7432e-04 - tp: 4812.0000 - fp: 0.0000e+00 - tn: 692.0000 - fn: 0.0000e+00 - accuracy: 1.0000 - precision: 1.0000 - recall: 1.0000 - auc: 1.0000 - val_loss: 0.9944 - val_tp: 1006.0000 - val_fp: 145.0000 - val_tn: 1.0000 - val_fn: 0.0000e+00 - val_accuracy: 0.8741 - val_precision: 0.8740 - val_recall: 1.0000 - val_auc: 0.5538\n",
      "Epoch 00018: early stopping\n"
     ]
    }
   ],
   "source": [
    "baseline_model = make_model()\n",
    "baseline_model.load_weights(initial_weights)\n",
    "\n",
    "baseline_history = baseline_model.fit(\n",
    "    train_ds,\n",
    "    steps_per_epoch = train_steps,\n",
    "    epochs = config[\"num_epochs\"],\n",
    "    validation_data = test_ds,\n",
    "    validation_steps = test_steps,\n",
    "    validation_freq = 1,\n",
    "    callbacks = callbacks\n",
    ")"
   ]
  },
  {
   "cell_type": "markdown",
   "metadata": {},
   "source": [
    "`Keras`\n",
    "Save/load the model"
   ]
  },
  {
   "cell_type": "code",
   "execution_count": 17,
   "metadata": {},
   "outputs": [],
   "source": [
    "# cnn_model.save('models/{}.h5'.format(model_name))\n",
    "# cnn_model = tf.keras.models.load_model('models/{}.h5'.format(model_name))"
   ]
  },
  {
   "cell_type": "markdown",
   "metadata": {},
   "source": [
    "#### Validate the results"
   ]
  },
  {
   "cell_type": "code",
   "execution_count": 18,
   "metadata": {},
   "outputs": [],
   "source": [
    "from sklearn.metrics import confusion_matrix, roc_curve\n",
    "import seaborn as sns"
   ]
  },
  {
   "cell_type": "markdown",
   "metadata": {},
   "source": [
    "Some functions"
   ]
  },
  {
   "cell_type": "code",
   "execution_count": 19,
   "metadata": {},
   "outputs": [],
   "source": [
    "def plot_metrics(history):\n",
    "    metrics =  ['loss', 'auc', 'precision', 'recall']\n",
    "    plt.figure(figsize=(12, 10))\n",
    "    for n, metric in enumerate(metrics):\n",
    "        name = metric.replace(\"_\",\" \").capitalize()\n",
    "        plt.subplot(2,2,n+1)\n",
    "        plt.plot(history.epoch, history.history[metric], color=colors[0], label='Train')\n",
    "        plt.plot(history.epoch, history.history['val_'+metric],\n",
    "                 color=colors[0], linestyle=\"--\", label='Val')\n",
    "        plt.xlabel('Epoch')\n",
    "        plt.ylabel(name)\n",
    "        if metric == 'loss':\n",
    "            plt.ylim([0, plt.ylim()[1]])\n",
    "        elif metric == 'auc':\n",
    "            plt.ylim([0.8,1])\n",
    "        else:\n",
    "            plt.ylim([0,1])\n",
    "\n",
    "        plt.legend()"
   ]
  },
  {
   "cell_type": "code",
   "execution_count": 20,
   "metadata": {},
   "outputs": [],
   "source": [
    "def plot_cm(labels, predictions, p=0.5):\n",
    "    cm = confusion_matrix(labels, predictions > p)\n",
    "    \n",
    "    metrics_list = np.asarray([['tn', 'fp'], ['fn', 'tp']])\n",
    "    labels = (np.asarray([\"{0}\\n{1:.0f}\".format(metrics_list,cm) for metrics_list, cm in zip(metrics_list.flatten(), cm.flatten())])).reshape(2,2)\n",
    "    \n",
    "    plt.figure(figsize=(5,5))\n",
    "    sns.heatmap(cm, annot=labels, fmt=\"\", robust=True, annot_kws={'size':16})\n",
    "    plt.title('Confusion matrix @{:.2f}'.format(p))\n",
    "    plt.ylabel('Actual label')\n",
    "    plt.xlabel('Predicted label')\n",
    "    \n",
    "    plt.ylim(2,0)\n",
    "\n",
    "    print('Legitimate Lesions Detected (True Negatives): ', cm[0][0])\n",
    "    print('Legitimate Lesions Incorrectly Detected (False Positives): ', cm[0][1])\n",
    "    print('Fraudulent Lesions Missed (False Negatives): ', cm[1][0])\n",
    "    print('Fraudulent Lesions Detected (True Positives): ', cm[1][1])\n",
    "    print('Total Fraudulent Lesions: ', np.sum(cm[1]))\n",
    "    print()"
   ]
  },
  {
   "cell_type": "code",
   "execution_count": 21,
   "metadata": {},
   "outputs": [],
   "source": [
    "def plot_roc(name, labels, predictions, **kwargs):\n",
    "    fp, tp, _ = roc_curve(labels, predictions)\n",
    "\n",
    "    plt.plot(100*fp, 100*tp, label=name, linewidth=2, **kwargs)\n",
    "    plt.xlabel('False positives [%]')\n",
    "    plt.ylabel('True positives [%]')\n",
    "    plt.xlim([-0.5,20])\n",
    "    plt.ylim([80,100.5])\n",
    "    plt.grid(True)\n",
    "    ax = plt.gca()\n",
    "    ax.set_aspect('equal')"
   ]
  },
  {
   "cell_type": "code",
   "execution_count": 22,
   "metadata": {},
   "outputs": [],
   "source": [
    "def numpify(dataset, model, samples=4000):\n",
    "    ds_eval = dataset.unbatch().take(samples)\n",
    "    labels = []\n",
    "    images = []\n",
    "    for img, lab in ds_eval:\n",
    "        labels.append(lab.numpy())\n",
    "        images.append(img.numpy())\n",
    "\n",
    "    pred = model.predict(np.expand_dims(images, axis=0)[-1])\n",
    "    \n",
    "    return (labels, pred)"
   ]
  },
  {
   "cell_type": "code",
   "execution_count": 23,
   "metadata": {},
   "outputs": [
    {
     "data": {
      "image/png": "[encoded data removed]",
      "text/plain": [
       "<Figure size 864x720 with 4 Axes>"
      ]
     },
     "metadata": {
      "needs_background": "light"
     },
     "output_type": "display_data"
    }
   ],
   "source": [
    "plot_metrics(baseline_history)\n",
    "plt.savefig(log_dir+\"/baseline_metrics_plot\")"
   ]
  },
  {
   "cell_type": "code",
   "execution_count": 24,
   "metadata": {},
   "outputs": [
    {
     "name": "stdout",
     "output_type": "stream",
     "text": [
      "9/9 - 30s - loss: 0.7204 - tp: 1017.0000 - fp: 135.0000 - tn: 0.0000e+00 - fn: 0.0000e+00 - accuracy: 0.8828 - precision: 0.8828 - recall: 1.0000 - auc: 0.5000\n",
      "\n",
      "loss : 0.7203929490513272\n",
      "tp : 1017.0\n",
      "fp : 135.0\n",
      "tn : 0.0\n",
      "fn : 0.0\n",
      "accuracy : 0.8828125\n",
      "precision : 0.8828125\n",
      "recall : 1.0\n",
      "auc : 0.5\n",
      "\n"
     ]
    }
   ],
   "source": [
    "baseline_results = baseline_model.evaluate(val_ds, verbose=2, steps=val_steps)\n",
    "print()\n",
    "\n",
    "f = open(log_dir+\"/baseline_val_results.txt\",\"w\")\n",
    "for name, value in zip(baseline_model.metrics_names, baseline_results):\n",
    "    line = \"{} : {}\\n\".format(name, value)\n",
    "    print(line, end='')\n",
    "    f.write(line)\n",
    "f.close()\n",
    "print()"
   ]
  },
  {
   "cell_type": "code",
   "execution_count": 25,
   "metadata": {},
   "outputs": [],
   "source": [
    "train_labels_baseline, train_predictions_baseline = numpify(train_ds, baseline_model, samples=5000)\n",
    "val_labels_baseline, val_predictions_baseline = numpify(val_ds, baseline_model, samples=5000)"
   ]
  },
  {
   "cell_type": "code",
   "execution_count": 26,
   "metadata": {},
   "outputs": [
    {
     "name": "stdout",
     "output_type": "stream",
     "text": [
      "Legitimate Lesions Detected (True Negatives):  0\n",
      "Legitimate Lesions Incorrectly Detected (False Positives):  618\n",
      "Fraudulent Lesions Missed (False Negatives):  0\n",
      "Fraudulent Lesions Detected (True Positives):  4382\n",
      "Total Fraudulent Lesions:  4382\n",
      "\n"
     ]
    },
    {
     "data": {
      "image/png": "[encoded data removed]",
      "text/plain": [
       "<Figure size 360x360 with 2 Axes>"
      ]
     },
     "metadata": {
      "needs_background": "light"
     },
     "output_type": "display_data"
    }
   ],
   "source": [
    "plot_cm(train_labels_baseline, train_predictions_baseline)\n",
    "plt.savefig(log_dir+\"/baseline_cm_plot\")"
   ]
  },
  {
   "cell_type": "code",
   "execution_count": 27,
   "metadata": {},
   "outputs": [
    {
     "data": {
      "image/png": "[encoded data removed]",
      "text/plain": [
       "<Figure size 720x720 with 1 Axes>"
      ]
     },
     "metadata": {
      "needs_background": "light"
     },
     "output_type": "display_data"
    }
   ],
   "source": [
    "plt.figure(figsize=(10,10))\n",
    "\n",
    "plot_roc(\"Train Baseline\", train_labels_baseline, train_predictions_baseline, color=colors[0])\n",
    "plot_roc(\"Test Baseline\", val_labels_baseline, val_predictions_baseline, color=colors[0], linestyle='--')\n",
    "\n",
    "plt.legend(loc='lower right');\n",
    "plt.savefig(log_dir+\"/baseline_roc_plot\")"
   ]
  },
  {
   "cell_type": "markdown",
   "metadata": {},
   "source": [
    "### Calculate class weights\n",
    "See https://www.tensorflow.org/tutorials/structured_data/imbalanced_data#class_weights"
   ]
  },
  {
   "cell_type": "code",
   "execution_count": 28,
   "metadata": {},
   "outputs": [
    {
     "name": "stdout",
     "output_type": "stream",
     "text": [
      "Weight for class 0: 4.00\n",
      "Weight for class 1: 0.57\n"
     ]
    }
   ],
   "source": [
    "weight_for_0 = (1/neg)*(total)/2.0\n",
    "weight_for_1 = (1/pos)*(total)/2.0\n",
    "\n",
    "class_weight = {0: weight_for_0,\n",
    "                1: weight_for_1}\n",
    "\n",
    "print('Weight for class 0: {:.2f}'.format(weight_for_0))\n",
    "print('Weight for class 1: {:.2f}'.format(weight_for_1))"
   ]
  },
  {
   "cell_type": "code",
   "execution_count": 29,
   "metadata": {},
   "outputs": [
    {
     "name": "stdout",
     "output_type": "stream",
     "text": [
      "Train for 43 steps, validate for 9 steps\n",
      "\n",
      "Epoch 00001: LearningRateScheduler reducing learning rate to 0.001.\n",
      "Epoch 1/100\n",
      "43/43 [==============================] - 12s 284ms/step - loss: 0.1535 - tp: 4710.0000 - fp: 196.0000 - tn: 488.0000 - fn: 110.0000 - accuracy: 0.9444 - precision: 0.9600 - recall: 0.9772 - auc: 0.9692 - val_loss: 574.4984 - val_tp: 1007.0000 - val_fp: 145.0000 - val_tn: 0.0000e+00 - val_fn: 0.0000e+00 - val_accuracy: 0.8741 - val_precision: 0.8741 - val_recall: 1.0000 - val_auc: 0.5000\n",
      "\n",
      "Epoch 00002: LearningRateScheduler reducing learning rate to 0.0004564755838641189.\n",
      "Epoch 2/100\n",
      "43/43 [==============================] - 3s 61ms/step - loss: 0.0766 - tp: 4757.0000 - fp: 84.0000 - tn: 591.0000 - fn: 72.0000 - accuracy: 0.9717 - precision: 0.9826 - recall: 0.9851 - auc: 0.9917 - val_loss: 424.5178 - val_tp: 1003.0000 - val_fp: 149.0000 - val_tn: 0.0000e+00 - val_fn: 0.0000e+00 - val_accuracy: 0.8707 - val_precision: 0.8707 - val_recall: 1.0000 - val_auc: 0.5000\n",
      "\n",
      "Epoch 00003: LearningRateScheduler reducing learning rate to 0.0002957359009628611.\n",
      "Epoch 3/100\n",
      "43/43 [==============================] - 3s 60ms/step - loss: 0.0634 - tp: 4763.0000 - fp: 76.0000 - tn: 607.0000 - fn: 58.0000 - accuracy: 0.9757 - precision: 0.9843 - recall: 0.9880 - auc: 0.9938 - val_loss: 0.5535 - val_tp: 1002.0000 - val_fp: 150.0000 - val_tn: 0.0000e+00 - val_fn: 0.0000e+00 - val_accuracy: 0.8698 - val_precision: 0.8698 - val_recall: 1.0000 - val_auc: 0.7417\n",
      "\n",
      "Epoch 00004: LearningRateScheduler reducing learning rate to 0.00021871820956256358.\n",
      "Epoch 4/100\n",
      "43/43 [==============================] - 3s 60ms/step - loss: 0.0414 - tp: 4782.0000 - fp: 55.0000 - tn: 628.0000 - fn: 39.0000 - accuracy: 0.9829 - precision: 0.9886 - recall: 0.9919 - auc: 0.9977 - val_loss: 0.4598 - val_tp: 1003.0000 - val_fp: 149.0000 - val_tn: 0.0000e+00 - val_fn: 0.0000e+00 - val_accuracy: 0.8707 - val_precision: 0.8707 - val_recall: 1.0000 - val_auc: 0.6358\n",
      "\n",
      "Epoch 00005: LearningRateScheduler reducing learning rate to 0.0001735270379338176.\n",
      "Epoch 5/100\n",
      "43/43 [==============================] - 3s 58ms/step - loss: 0.0291 - tp: 4795.0000 - fp: 28.0000 - tn: 649.0000 - fn: 32.0000 - accuracy: 0.9891 - precision: 0.9942 - recall: 0.9934 - auc: 0.9988 - val_loss: 0.4828 - val_tp: 1003.0000 - val_fp: 149.0000 - val_tn: 0.0000e+00 - val_fn: 0.0000e+00 - val_accuracy: 0.8707 - val_precision: 0.8707 - val_recall: 1.0000 - val_auc: 0.4491\n",
      "\n",
      "Epoch 00006: LearningRateScheduler reducing learning rate to 0.00014381270903010034.\n",
      "Epoch 6/100\n",
      "43/43 [==============================] - 3s 58ms/step - loss: 0.0159 - tp: 4803.0000 - fp: 20.0000 - tn: 668.0000 - fn: 13.0000 - accuracy: 0.9940 - precision: 0.9959 - recall: 0.9973 - auc: 0.9997 - val_loss: 0.5303 - val_tp: 1005.0000 - val_fp: 147.0000 - val_tn: 0.0000e+00 - val_fn: 0.0000e+00 - val_accuracy: 0.8724 - val_precision: 0.8724 - val_recall: 1.0000 - val_auc: 0.4892\n",
      "\n",
      "Epoch 00007: LearningRateScheduler reducing learning rate to 0.0001227869788692176.\n",
      "Epoch 7/100\n",
      "43/43 [==============================] - 3s 61ms/step - loss: 0.0081 - tp: 4802.0000 - fp: 11.0000 - tn: 682.0000 - fn: 9.0000 - accuracy: 0.9964 - precision: 0.9977 - recall: 0.9981 - auc: 0.9999 - val_loss: 0.5441 - val_tp: 1008.0000 - val_fp: 144.0000 - val_tn: 0.0000e+00 - val_fn: 0.0000e+00 - val_accuracy: 0.8750 - val_precision: 0.8750 - val_recall: 1.0000 - val_auc: 0.4583\n",
      "\n",
      "Epoch 00008: LearningRateScheduler reducing learning rate to 0.00010712506228201294.\n",
      "Epoch 8/100\n",
      "43/43 [==============================] - 3s 60ms/step - loss: 0.0064 - tp: 4839.0000 - fp: 3.0000 - tn: 657.0000 - fn: 5.0000 - accuracy: 0.9985 - precision: 0.9994 - recall: 0.9990 - auc: 0.9998 - val_loss: 0.6151 - val_tp: 1005.0000 - val_fp: 147.0000 - val_tn: 0.0000e+00 - val_fn: 0.0000e+00 - val_accuracy: 0.8724 - val_precision: 0.8724 - val_recall: 1.0000 - val_auc: 0.4920\n",
      "\n",
      "Epoch 00009: LearningRateScheduler reducing learning rate to 9.500662836942113e-05.\n",
      "Epoch 9/100\n",
      "43/43 [==============================] - 3s 61ms/step - loss: 0.0039 - tp: 4819.0000 - fp: 5.0000 - tn: 679.0000 - fn: 1.0000 - accuracy: 0.9989 - precision: 0.9990 - recall: 0.9998 - auc: 1.0000 - val_loss: 0.6356 - val_tp: 1008.0000 - val_fp: 144.0000 - val_tn: 0.0000e+00 - val_fn: 0.0000e+00 - val_accuracy: 0.8750 - val_precision: 0.8750 - val_recall: 1.0000 - val_auc: 0.5084\n",
      "\n",
      "Epoch 00010: LearningRateScheduler reducing learning rate to 8.535132989281461e-05.\n",
      "Epoch 10/100\n",
      "43/43 [==============================] - 3s 61ms/step - loss: 0.0066 - tp: 4826.0000 - fp: 2.0000 - tn: 666.0000 - fn: 10.0000 - accuracy: 0.9978 - precision: 0.9996 - recall: 0.9979 - auc: 0.9999 - val_loss: 0.7053 - val_tp: 1004.0000 - val_fp: 148.0000 - val_tn: 0.0000e+00 - val_fn: 0.0000e+00 - val_accuracy: 0.8715 - val_precision: 0.8715 - val_recall: 1.0000 - val_auc: 0.5163\n",
      "\n",
      "Epoch 00011: LearningRateScheduler reducing learning rate to 7.747747747747748e-05.\n",
      "Epoch 11/100\n",
      "43/43 [==============================] - 3s 60ms/step - loss: 0.0100 - tp: 4799.0000 - fp: 13.0000 - tn: 687.0000 - fn: 5.0000 - accuracy: 0.9967 - precision: 0.9973 - recall: 0.9990 - auc: 0.9992 - val_loss: 0.7094 - val_tp: 1007.0000 - val_fp: 145.0000 - val_tn: 0.0000e+00 - val_fn: 0.0000e+00 - val_accuracy: 0.8741 - val_precision: 0.8741 - val_recall: 1.0000 - val_auc: 0.4995\n",
      "\n",
      "Epoch 00012: LearningRateScheduler reducing learning rate to 7.093368525239195e-05.\n",
      "Epoch 12/100\n",
      "43/43 [==============================] - 3s 60ms/step - loss: 0.0030 - tp: 4810.0000 - fp: 2.0000 - tn: 689.0000 - fn: 3.0000 - accuracy: 0.9991 - precision: 0.9996 - recall: 0.9994 - auc: 1.0000 - val_loss: 0.7012 - val_tp: 1007.0000 - val_fp: 145.0000 - val_tn: 0.0000e+00 - val_fn: 0.0000e+00 - val_accuracy: 0.8741 - val_precision: 0.8741 - val_recall: 1.0000 - val_auc: 0.5547\n",
      "\n",
      "Epoch 00013: LearningRateScheduler reducing learning rate to 6.540918770915728e-05.\n",
      "Epoch 13/100\n",
      "43/43 [==============================] - 3s 60ms/step - loss: 0.0019 - tp: 4826.0000 - fp: 1.0000 - tn: 674.0000 - fn: 3.0000 - accuracy: 0.9993 - precision: 0.9998 - recall: 0.9994 - auc: 1.0000 - val_loss: 0.7317 - val_tp: 1004.0000 - val_fp: 148.0000 - val_tn: 0.0000e+00 - val_fn: 0.0000e+00 - val_accuracy: 0.8715 - val_precision: 0.8715 - val_recall: 1.0000 - val_auc: 0.5400\n",
      "\n",
      "Epoch 00014: LearningRateScheduler reducing learning rate to 6.068303697431555e-05.\n",
      "Epoch 14/100\n",
      "42/43 [============================>.] - ETA: 0s - loss: 4.7298e-04 - tp: 4732.0000 - fp: 0.0000e+00 - tn: 644.0000 - fn: 0.0000e+00 - accuracy: 1.0000 - precision: 1.0000 - recall: 1.0000 - auc: 1.0000Restoring model weights from the end of the best epoch.\n",
      "43/43 [==============================] - 3s 63ms/step - loss: 4.7404e-04 - tp: 4840.0000 - fp: 0.0000e+00 - tn: 664.0000 - fn: 0.0000e+00 - accuracy: 1.0000 - precision: 1.0000 - recall: 1.0000 - auc: 1.0000 - val_loss: 0.6483 - val_tp: 1005.0000 - val_fp: 147.0000 - val_tn: 0.0000e+00 - val_fn: 0.0000e+00 - val_accuracy: 0.8724 - val_precision: 0.8724 - val_recall: 1.0000 - val_auc: 0.8226\n",
      "Epoch 00014: early stopping\n"
     ]
    }
   ],
   "source": [
    "weighted_model = make_model()\n",
    "weighted_model.load_weights(initial_weights)\n",
    "\n",
    "weighted_history = weighted_model.fit(\n",
    "    train_ds,\n",
    "    steps_per_epoch = train_steps,\n",
    "    epochs = config[\"num_epochs\"],\n",
    "    validation_data = test_ds,\n",
    "    validation_steps = test_steps,\n",
    "    validation_freq = 1,\n",
    "    class_weight = class_weight,\n",
    "    callbacks = callbacks\n",
    ")"
   ]
  },
  {
   "cell_type": "code",
   "execution_count": 30,
   "metadata": {},
   "outputs": [
    {
     "data": {
      "image/png": "[encoded data removed]",
      "text/plain": [
       "<Figure size 864x720 with 4 Axes>"
      ]
     },
     "metadata": {
      "needs_background": "light"
     },
     "output_type": "display_data"
    }
   ],
   "source": [
    "plot_metrics(weighted_history)\n",
    "plt.savefig(log_dir+\"/weighted_metrics_plot\")"
   ]
  },
  {
   "cell_type": "code",
   "execution_count": 31,
   "metadata": {},
   "outputs": [
    {
     "name": "stdout",
     "output_type": "stream",
     "text": [
      "9/9 - 0s - loss: 0.4255 - tp: 1015.0000 - fp: 137.0000 - tn: 0.0000e+00 - fn: 0.0000e+00 - accuracy: 0.8811 - precision: 0.8811 - recall: 1.0000 - auc: 0.6456\n",
      "\n",
      "loss : 0.42547763387362164\n",
      "tp : 1015.0\n",
      "fp : 137.0\n",
      "tn : 0.0\n",
      "fn : 0.0\n",
      "accuracy : 0.8810763955116272\n",
      "precision : 0.8810763955116272\n",
      "recall : 1.0\n",
      "auc : 0.6456006169319153\n",
      "\n"
     ]
    }
   ],
   "source": [
    "weighted_results = weighted_model.evaluate(val_ds, verbose=2, steps=val_steps)\n",
    "print()\n",
    "\n",
    "f = open(log_dir+\"/weighted_val_results.txt\",\"w\")\n",
    "for name, value in zip(baseline_model.metrics_names, weighted_results):\n",
    "    line = \"{} : {}\\n\".format(name, value)\n",
    "    print(line, end='')\n",
    "    f.write(line)\n",
    "f.close()\n",
    "print()"
   ]
  },
  {
   "cell_type": "code",
   "execution_count": 32,
   "metadata": {},
   "outputs": [],
   "source": [
    "train_labels_weighted, train_predictions_weighted = numpify(train_ds, weighted_model, samples=5000)\n",
    "val_labels_weighted, val_predictions_weighted = numpify(val_ds, weighted_model, samples=5000)"
   ]
  },
  {
   "cell_type": "code",
   "execution_count": 33,
   "metadata": {},
   "outputs": [
    {
     "name": "stdout",
     "output_type": "stream",
     "text": [
      "Legitimate Lesions Detected (True Negatives):  0\n",
      "Legitimate Lesions Incorrectly Detected (False Positives):  624\n",
      "Fraudulent Lesions Missed (False Negatives):  0\n",
      "Fraudulent Lesions Detected (True Positives):  4376\n",
      "Total Fraudulent Lesions:  4376\n",
      "\n"
     ]
    },
    {
     "data": {
      "image/png": "[encoded data removed]",
      "text/plain": [
       "<Figure size 360x360 with 2 Axes>"
      ]
     },
     "metadata": {
      "needs_background": "light"
     },
     "output_type": "display_data"
    }
   ],
   "source": [
    "plot_cm(train_labels_weighted, train_predictions_weighted)\n",
    "plt.savefig(log_dir+\"/weighted_cm_plot\")"
   ]
  },
  {
   "cell_type": "code",
   "execution_count": 34,
   "metadata": {},
   "outputs": [
    {
     "data": {
      "image/png": "[encoded data removed]",
      "text/plain": [
       "<Figure size 720x720 with 1 Axes>"
      ]
     },
     "metadata": {
      "needs_background": "light"
     },
     "output_type": "display_data"
    }
   ],
   "source": [
    "plt.figure(figsize=(10,10))\n",
    "\n",
    "plot_roc(\"Train Baseline\", train_labels_baseline, train_predictions_baseline, color=colors[0])\n",
    "plot_roc(\"Val Baseline\", val_labels_baseline, val_predictions_baseline, color=colors[0], linestyle='--')\n",
    "\n",
    "plot_roc(\"Train Weighted\", train_labels_weighted, train_predictions_weighted, color=colors[1])\n",
    "plot_roc(\"Val Weighted\", val_labels_weighted, val_predictions_weighted, color=colors[1], linestyle='--')\n",
    "\n",
    "plt.legend(loc='lower right');\n",
    "plt.savefig(log_dir+\"/weighted_roc_plot\")"
   ]
  },
  {
   "cell_type": "markdown",
   "metadata": {},
   "source": [
    "## Oversampling the minority class"
   ]
  },
  {
   "cell_type": "code",
   "execution_count": 35,
   "metadata": {},
   "outputs": [],
   "source": [
    "# Remove the cache\n",
    "!rm -rf ./cache/*\n",
    "\n",
    "# Set dataset resample to true to make 5050 distribution of samples\n",
    "config[\"resample\"] = True"
   ]
  },
  {
   "cell_type": "markdown",
   "metadata": {},
   "source": [
    "Create training, testing and validation dataset from utils/data_prep.py"
   ]
  },
  {
   "cell_type": "code",
   "execution_count": 36,
   "metadata": {},
   "outputs": [
    {
     "name": "stdout",
     "output_type": "stream",
     "text": [
      "Negative class names:\n",
      "        - normal-cecum\n",
      "Positive class names:\n",
      "        - esophagitis\n",
      "        - normal-pylorus\n",
      "        - ulcerative-colitis\n",
      "        - normal-z-line\n",
      "        - polyps\n",
      "        - dyed-resection-margins\n",
      "        - dyed-lifted-polyps\n",
      "\n",
      "Negative samples:  1000 | 12.50%\n",
      "Positive samples:  7000 | 87.50%\n",
      "\n",
      "Total number of images: 8000\n",
      "Dataset.list_files:  /mnt/sdb/kvasir-dataset-v2/*/*.*g \n",
      "\n",
      "[1 1 1 0 1 1 1 1 1 1]\n",
      "[1 1 1 1 1 1 1 1 1 1]\n",
      "[1 1 1 1 0 1 1 1 1 1]\n",
      "[1 1 1 1 1 1 1 1 1 1]\n",
      "[1 1 1 1 1 1 1 0 1 1]\n",
      "[1 0 1 1 1 1 1 1 1 1]\n",
      "[1 0 1 1 0 1 1 1 1 0]\n",
      "[1 1 1 1 1 1 1 1 1 1]\n",
      "[1 1 1 1 1 1 1 1 1 0]\n",
      "[1 0 1 1 1 1 1 1 1 1]\n",
      "\n",
      "Resamplng the dataset..\n",
      "\n",
      "Fractions:  [0.125 0.875]\n",
      "Counts:  [1000. 7000.]\n",
      "\n",
      "[1 0 0 1 1 1 0 0 0 1]\n",
      "[0 1 1 0 0 0 1 0 1 1]\n",
      "[0 1 0 1 1 0 0 1 0 0]\n",
      "[0 1 0 0 0 1 1 0 0 1]\n",
      "[0 0 0 1 1 0 0 0 1 1]\n",
      "[1 1 0 1 1 0 1 0 1 0]\n",
      "[1 0 0 0 1 1 1 0 0 1]\n",
      "[0 1 0 0 0 1 0 1 1 1]\n",
      "[0 1 1 1 1 1 1 1 0 0]\n",
      "[1 1 1 1 0 1 0 0 0 0]\n"
     ]
    }
   ],
   "source": [
    "train_ds_resampled, test_ds_resampled, val_ds_resampled, params = create_dataset(config)"
   ]
  },
  {
   "cell_type": "code",
   "execution_count": 37,
   "metadata": {},
   "outputs": [
    {
     "name": "stdout",
     "output_type": "stream",
     "text": [
      "0.5625\n",
      "0.6015625\n",
      "0.5\n"
     ]
    }
   ],
   "source": [
    "# Check the mean value is close to 0.5\n",
    "for img, label in train_ds_resampled.take(3):\n",
    "    print(label.numpy().mean())"
   ]
  },
  {
   "cell_type": "code",
   "execution_count": 38,
   "metadata": {},
   "outputs": [
    {
     "name": "stdout",
     "output_type": "stream",
     "text": [
      "16.0\n"
     ]
    }
   ],
   "source": [
    "resampled_steps_per_epoch = np.ceil(2.0*neg/config[\"batch_size\"])\n",
    "print (resampled_steps_per_epoch)"
   ]
  },
  {
   "cell_type": "code",
   "execution_count": 51,
   "metadata": {},
   "outputs": [],
   "source": [
    "resampled_steps_per_epoch = 200"
   ]
  },
  {
   "cell_type": "code",
   "execution_count": 52,
   "metadata": {},
   "outputs": [
    {
     "name": "stdout",
     "output_type": "stream",
     "text": [
      "Train for 200 steps, validate for 200 steps\n",
      "\n",
      "Epoch 00001: LearningRateScheduler reducing learning rate to 0.001.\n",
      "Epoch 1/100\n",
      "200/200 [==============================] - 24s 119ms/step - loss: 0.1055 - tp: 12461.0000 - fp: 554.0000 - tn: 12193.0000 - fn: 392.0000 - accuracy: 0.9630 - precision: 0.9574 - recall: 0.9695 - auc: 0.9925 - val_loss: 1.0353 - val_tp: 12589.0000 - val_fp: 13011.0000 - val_tn: 0.0000e+00 - val_fn: 0.0000e+00 - val_accuracy: 0.4918 - val_precision: 0.4918 - val_recall: 1.0000 - val_auc: 0.7215\n",
      "\n",
      "Epoch 00002: LearningRateScheduler reducing learning rate to 0.0004564755838641189.\n",
      "Epoch 2/100\n",
      "200/200 [==============================] - 14s 72ms/step - loss: 0.0074 - tp: 12866.0000 - fp: 22.0000 - tn: 12669.0000 - fn: 43.0000 - accuracy: 0.9975 - precision: 0.9983 - recall: 0.9967 - auc: 0.9998 - val_loss: 1.5120 - val_tp: 12572.0000 - val_fp: 13028.0000 - val_tn: 0.0000e+00 - val_fn: 0.0000e+00 - val_accuracy: 0.4911 - val_precision: 0.4911 - val_recall: 1.0000 - val_auc: 0.7267\n",
      "\n",
      "Epoch 00003: LearningRateScheduler reducing learning rate to 0.0002957359009628611.\n",
      "Epoch 3/100\n",
      "200/200 [==============================] - 14s 71ms/step - loss: 9.7809e-04 - tp: 12883.0000 - fp: 3.0000 - tn: 12711.0000 - fn: 3.0000 - accuracy: 0.9998 - precision: 0.9998 - recall: 0.9998 - auc: 1.0000 - val_loss: 1.3288 - val_tp: 12576.0000 - val_fp: 13024.0000 - val_tn: 0.0000e+00 - val_fn: 0.0000e+00 - val_accuracy: 0.4913 - val_precision: 0.4913 - val_recall: 1.0000 - val_auc: 0.8302\n",
      "\n",
      "Epoch 00004: LearningRateScheduler reducing learning rate to 0.00021871820956256358.\n",
      "Epoch 4/100\n",
      "200/200 [==============================] - 14s 72ms/step - loss: 0.0020 - tp: 12854.0000 - fp: 5.0000 - tn: 12734.0000 - fn: 7.0000 - accuracy: 0.9995 - precision: 0.9996 - recall: 0.9995 - auc: 0.9999 - val_loss: 0.1514 - val_tp: 11714.0000 - val_fp: 600.0000 - val_tn: 12417.0000 - val_fn: 869.0000 - val_accuracy: 0.9426 - val_precision: 0.9513 - val_recall: 0.9309 - val_auc: 0.9842\n",
      "\n",
      "Epoch 00005: LearningRateScheduler reducing learning rate to 0.0001735270379338176.\n",
      "Epoch 5/100\n",
      "200/200 [==============================] - 15s 73ms/step - loss: 7.5904e-04 - tp: 12873.0000 - fp: 0.0000e+00 - tn: 12722.0000 - fn: 5.0000 - accuracy: 0.9998 - precision: 1.0000 - recall: 0.9996 - auc: 1.0000 - val_loss: 0.1200 - val_tp: 12063.0000 - val_fp: 0.0000e+00 - val_tn: 13027.0000 - val_fn: 510.0000 - val_accuracy: 0.9801 - val_precision: 1.0000 - val_recall: 0.9594 - val_auc: 0.9882\n",
      "\n",
      "Epoch 00006: LearningRateScheduler reducing learning rate to 0.00014381270903010034.\n",
      "Epoch 6/100\n",
      "200/200 [==============================] - 15s 73ms/step - loss: 3.6926e-05 - tp: 12873.0000 - fp: 0.0000e+00 - tn: 12727.0000 - fn: 0.0000e+00 - accuracy: 1.0000 - precision: 1.0000 - recall: 1.0000 - auc: 1.0000 - val_loss: 0.0608 - val_tp: 12404.0000 - val_fp: 0.0000e+00 - val_tn: 13023.0000 - val_fn: 173.0000 - val_accuracy: 0.9932 - val_precision: 1.0000 - val_recall: 0.9862 - val_auc: 0.9940\n",
      "\n",
      "Epoch 00007: LearningRateScheduler reducing learning rate to 0.0001227869788692176.\n",
      "Epoch 7/100\n",
      "200/200 [==============================] - 15s 73ms/step - loss: 2.2568e-05 - tp: 12884.0000 - fp: 0.0000e+00 - tn: 12716.0000 - fn: 0.0000e+00 - accuracy: 1.0000 - precision: 1.0000 - recall: 1.0000 - auc: 1.0000 - val_loss: 0.0524 - val_tp: 12432.0000 - val_fp: 0.0000e+00 - val_tn: 13018.0000 - val_fn: 150.0000 - val_accuracy: 0.9941 - val_precision: 1.0000 - val_recall: 0.9881 - val_auc: 0.9940\n",
      "\n",
      "Epoch 00008: LearningRateScheduler reducing learning rate to 0.00010712506228201294.\n",
      "Epoch 8/100\n",
      "200/200 [==============================] - 14s 72ms/step - loss: 1.6616e-05 - tp: 12848.0000 - fp: 0.0000e+00 - tn: 12752.0000 - fn: 0.0000e+00 - accuracy: 1.0000 - precision: 1.0000 - recall: 1.0000 - auc: 1.0000 - val_loss: 0.0501 - val_tp: 12440.0000 - val_fp: 0.0000e+00 - val_tn: 13012.0000 - val_fn: 148.0000 - val_accuracy: 0.9942 - val_precision: 1.0000 - val_recall: 0.9882 - val_auc: 0.9958\n",
      "\n",
      "Epoch 00009: LearningRateScheduler reducing learning rate to 9.500662836942113e-05.\n",
      "Epoch 9/100\n",
      "200/200 [==============================] - 14s 72ms/step - loss: 1.2832e-05 - tp: 12897.0000 - fp: 0.0000e+00 - tn: 12703.0000 - fn: 0.0000e+00 - accuracy: 1.0000 - precision: 1.0000 - recall: 1.0000 - auc: 1.0000 - val_loss: 0.0520 - val_tp: 12441.0000 - val_fp: 0.0000e+00 - val_tn: 13007.0000 - val_fn: 152.0000 - val_accuracy: 0.9941 - val_precision: 1.0000 - val_recall: 0.9879 - val_auc: 0.9957\n",
      "\n",
      "Epoch 00010: LearningRateScheduler reducing learning rate to 8.535132989281461e-05.\n",
      "Epoch 10/100\n",
      "200/200 [==============================] - 15s 73ms/step - loss: 1.1346e-05 - tp: 12868.0000 - fp: 0.0000e+00 - tn: 12732.0000 - fn: 0.0000e+00 - accuracy: 1.0000 - precision: 1.0000 - recall: 1.0000 - auc: 1.0000 - val_loss: 0.0522 - val_tp: 12449.0000 - val_fp: 0.0000e+00 - val_tn: 13001.0000 - val_fn: 150.0000 - val_accuracy: 0.9941 - val_precision: 1.0000 - val_recall: 0.9881 - val_auc: 0.9958\n",
      "\n",
      "Epoch 00011: LearningRateScheduler reducing learning rate to 7.747747747747748e-05.\n",
      "Epoch 11/100\n",
      "200/200 [==============================] - 14s 72ms/step - loss: 9.8161e-06 - tp: 12926.0000 - fp: 0.0000e+00 - tn: 12674.0000 - fn: 0.0000e+00 - accuracy: 1.0000 - precision: 1.0000 - recall: 1.0000 - auc: 1.0000 - val_loss: 0.0540 - val_tp: 12427.0000 - val_fp: 0.0000e+00 - val_tn: 13024.0000 - val_fn: 149.0000 - val_accuracy: 0.9942 - val_precision: 1.0000 - val_recall: 0.9882 - val_auc: 0.9950\n",
      "\n",
      "Epoch 00012: LearningRateScheduler reducing learning rate to 7.093368525239195e-05.\n",
      "Epoch 12/100\n",
      "200/200 [==============================] - 14s 72ms/step - loss: 7.4631e-06 - tp: 12846.0000 - fp: 0.0000e+00 - tn: 12754.0000 - fn: 0.0000e+00 - accuracy: 1.0000 - precision: 1.0000 - recall: 1.0000 - auc: 1.0000 - val_loss: 0.0554 - val_tp: 12443.0000 - val_fp: 0.0000e+00 - val_tn: 13007.0000 - val_fn: 150.0000 - val_accuracy: 0.9941 - val_precision: 1.0000 - val_recall: 0.9881 - val_auc: 0.9949\n",
      "\n",
      "Epoch 00013: LearningRateScheduler reducing learning rate to 6.540918770915728e-05.\n",
      "Epoch 13/100\n",
      "200/200 [==============================] - 14s 72ms/step - loss: 7.4523e-06 - tp: 12873.0000 - fp: 0.0000e+00 - tn: 12727.0000 - fn: 0.0000e+00 - accuracy: 1.0000 - precision: 1.0000 - recall: 1.0000 - auc: 1.0000 - val_loss: 0.0562 - val_tp: 12437.0000 - val_fp: 0.0000e+00 - val_tn: 13013.0000 - val_fn: 150.0000 - val_accuracy: 0.9941 - val_precision: 1.0000 - val_recall: 0.9881 - val_auc: 0.9949\n",
      "\n",
      "Epoch 00014: LearningRateScheduler reducing learning rate to 6.068303697431555e-05.\n",
      "Epoch 14/100\n",
      "200/200 [==============================] - 14s 72ms/step - loss: 7.2932e-06 - tp: 12886.0000 - fp: 0.0000e+00 - tn: 12714.0000 - fn: 0.0000e+00 - accuracy: 1.0000 - precision: 1.0000 - recall: 1.0000 - auc: 1.0000 - val_loss: 0.0570 - val_tp: 12435.0000 - val_fp: 0.0000e+00 - val_tn: 13016.0000 - val_fn: 149.0000 - val_accuracy: 0.9942 - val_precision: 1.0000 - val_recall: 0.9882 - val_auc: 0.9949\n",
      "\n",
      "Epoch 00015: LearningRateScheduler reducing learning rate to 5.6593840484337976e-05.\n",
      "Epoch 15/100\n",
      "200/200 [==============================] - 14s 72ms/step - loss: 8.9798e-06 - tp: 12888.0000 - fp: 0.0000e+00 - tn: 12712.0000 - fn: 0.0000e+00 - accuracy: 1.0000 - precision: 1.0000 - recall: 1.0000 - auc: 1.0000 - val_loss: 0.0556 - val_tp: 12438.0000 - val_fp: 0.0000e+00 - val_tn: 13011.0000 - val_fn: 151.0000 - val_accuracy: 0.9941 - val_precision: 1.0000 - val_recall: 0.9880 - val_auc: 0.9949\n",
      "\n",
      "Epoch 00016: LearningRateScheduler reducing learning rate to 5.30209617755857e-05.\n",
      "Epoch 16/100\n",
      "200/200 [==============================] - 14s 72ms/step - loss: 5.0415e-06 - tp: 12869.0000 - fp: 0.0000e+00 - tn: 12731.0000 - fn: 0.0000e+00 - accuracy: 1.0000 - precision: 1.0000 - recall: 1.0000 - auc: 1.0000 - val_loss: 0.0546 - val_tp: 12443.0000 - val_fp: 0.0000e+00 - val_tn: 13009.0000 - val_fn: 148.0000 - val_accuracy: 0.9942 - val_precision: 1.0000 - val_recall: 0.9882 - val_auc: 0.9950\n",
      "\n",
      "Epoch 00017: LearningRateScheduler reducing learning rate to 4.987241939225238e-05.\n",
      "Epoch 17/100\n",
      "200/200 [==============================] - 14s 72ms/step - loss: 6.8278e-06 - tp: 12874.0000 - fp: 0.0000e+00 - tn: 12726.0000 - fn: 0.0000e+00 - accuracy: 1.0000 - precision: 1.0000 - recall: 1.0000 - auc: 1.0000 - val_loss: 0.0564 - val_tp: 12435.0000 - val_fp: 0.0000e+00 - val_tn: 13015.0000 - val_fn: 150.0000 - val_accuracy: 0.9941 - val_precision: 1.0000 - val_recall: 0.9881 - val_auc: 0.9949\n",
      "\n",
      "Epoch 00018: LearningRateScheduler reducing learning rate to 4.707685570396321e-05.\n",
      "Epoch 18/100\n",
      "199/200 [============================>.] - ETA: 0s - loss: 4.3174e-06 - tp: 12800.0000 - fp: 0.0000e+00 - tn: 12672.0000 - fn: 0.0000e+00 - accuracy: 1.0000 - precision: 1.0000 - recall: 1.0000 - auc: 1.0000Restoring model weights from the end of the best epoch.\n",
      "200/200 [==============================] - 15s 73ms/step - loss: 4.3475e-06 - tp: 12862.0000 - fp: 0.0000e+00 - tn: 12738.0000 - fn: 0.0000e+00 - accuracy: 1.0000 - precision: 1.0000 - recall: 1.0000 - auc: 1.0000 - val_loss: 0.0557 - val_tp: 12439.0000 - val_fp: 0.0000e+00 - val_tn: 13012.0000 - val_fn: 149.0000 - val_accuracy: 0.9942 - val_precision: 1.0000 - val_recall: 0.9882 - val_auc: 0.9949\n",
      "Epoch 00018: early stopping\n"
     ]
    }
   ],
   "source": [
    "resampled_model = make_model()\n",
    "resampled_model.load_weights(initial_weights)\n",
    "\n",
    "resampled_history = resampled_model.fit(\n",
    "    train_ds_resampled,\n",
    "    steps_per_epoch = resampled_steps_per_epoch,\n",
    "    epochs = config[\"num_epochs\"],\n",
    "    validation_data = test_ds_resampled,\n",
    "    validation_steps = resampled_steps_per_epoch,\n",
    "    validation_freq = 1,\n",
    "    callbacks = callbacks\n",
    ")"
   ]
  },
  {
   "cell_type": "code",
   "execution_count": 53,
   "metadata": {},
   "outputs": [
    {
     "data": {
      "image/png": "[encoded data removed]",
      "text/plain": [
       "<Figure size 864x720 with 4 Axes>"
      ]
     },
     "metadata": {
      "needs_background": "light"
     },
     "output_type": "display_data"
    }
   ],
   "source": [
    "plot_metrics(resampled_history)\n",
    "plt.savefig(log_dir+\"/resampled_metrics_plot\")"
   ]
  },
  {
   "cell_type": "code",
   "execution_count": 54,
   "metadata": {},
   "outputs": [
    {
     "name": "stdout",
     "output_type": "stream",
     "text": [
      "9/9 - 0s - loss: 0.0813 - tp: 992.0000 - fp: 0.0000e+00 - tn: 148.0000 - fn: 12.0000 - accuracy: 0.9896 - precision: 1.0000 - recall: 0.9880 - auc: 0.9960\n",
      "\n",
      "loss : 0.08132847123488318\n",
      "tp : 992.0\n",
      "fp : 0.0\n",
      "tn : 148.0\n",
      "fn : 12.0\n",
      "accuracy : 0.9895833134651184\n",
      "precision : 1.0\n",
      "recall : 0.9880478382110596\n",
      "auc : 0.9960159063339233\n",
      "\n"
     ]
    }
   ],
   "source": [
    "resampled_results = resampled_model.evaluate(val_ds_resampled, verbose=2, steps=val_steps)\n",
    "print()\n",
    "\n",
    "f = open(log_dir+\"/resampled_val_results.txt\",\"w\")\n",
    "for name, value in zip(resampled_model.metrics_names, resampled_results):\n",
    "    line = \"{} : {}\\n\".format(name, value)\n",
    "    print(line, end='')\n",
    "    f.write(line)\n",
    "f.close()\n",
    "print()"
   ]
  },
  {
   "cell_type": "code",
   "execution_count": 61,
   "metadata": {},
   "outputs": [],
   "source": [
    "train_labels_resampled, train_predictions_resampled = numpify(train_ds_resampled, resampled_model, samples=5000)\n",
    "val_labels_resampled, val_predictions_resampled = numpify(val_ds_resampled, resampled_model, samples=5000)"
   ]
  },
  {
   "cell_type": "code",
   "execution_count": 62,
   "metadata": {},
   "outputs": [
    {
     "name": "stdout",
     "output_type": "stream",
     "text": [
      "Legitimate Lesions Detected (True Negatives):  655\n",
      "Legitimate Lesions Incorrectly Detected (False Positives):  0\n",
      "Fraudulent Lesions Missed (False Negatives):  54\n",
      "Fraudulent Lesions Detected (True Positives):  4291\n",
      "Total Fraudulent Lesions:  4345\n",
      "\n"
     ]
    },
    {
     "data": {
      "image/png": "[encoded data removed]",
      "text/plain": [
       "<Figure size 360x360 with 2 Axes>"
      ]
     },
     "metadata": {
      "needs_background": "light"
     },
     "output_type": "display_data"
    }
   ],
   "source": [
    "plot_cm(val_labels_resampled, val_predictions_resampled)\n",
    "plt.savefig(log_dir+\"/resampled_cm_plot\")"
   ]
  },
  {
   "cell_type": "code",
   "execution_count": 63,
   "metadata": {},
   "outputs": [
    {
     "data": {
      "image/png": "[encoded data removed]",
      "text/plain": [
       "<Figure size 720x720 with 1 Axes>"
      ]
     },
     "metadata": {
      "needs_background": "light"
     },
     "output_type": "display_data"
    }
   ],
   "source": [
    "plt.figure(figsize=(10,10))\n",
    "\n",
    "plot_roc(\"Train Baseline\", train_labels_baseline, train_predictions_baseline, color=colors[0])\n",
    "plot_roc(\"Val Baseline\", val_labels_baseline, val_predictions_baseline, color=colors[0], linestyle='--')\n",
    "\n",
    "plot_roc(\"Train Weighted\", train_labels_weighted, train_predictions_weighted, color=colors[1])\n",
    "plot_roc(\"Val Weighted\", val_labels_weighted, val_predictions_weighted, color=colors[1], linestyle='--')\n",
    "\n",
    "plot_roc(\"Train Resampled\", train_labels_resampled, train_predictions_resampled, color=colors[2])\n",
    "plot_roc(\"Val Resampled\", val_labels_resampled, val_predictions_resampled, color=colors[2], linestyle='--')\n",
    "\n",
    "plt.legend(loc='lower right');\n",
    "plt.savefig(log_dir+\"/resampled_roc_plot\")"
   ]
  },
  {
   "cell_type": "markdown",
   "metadata": {},
   "source": [
    "`Tensorboard`"
   ]
  },
  {
   "cell_type": "raw",
   "metadata": {},
   "source": [
    "from tensorboard import notebook\n",
    "# Load the TensorBoard notebook extension\n",
    "# %load_ext tensorboard\n",
    "\n",
    "# Start tensorboard\n",
    "# %tensorboard --logdir logs"
   ]
  },
  {
   "cell_type": "raw",
   "metadata": {},
   "source": [
    "# Clear any logs from previous runs (move to .old instead?)\n",
    "!rm -rf ./logs/\n",
    "\n",
    "# Stop tensorboard\n",
    "notebook.list()\n",
    "!kill 20058"
   ]
  },
  {
   "cell_type": "markdown",
   "metadata": {},
   "source": [
    "## Predict new samples"
   ]
  },
  {
   "cell_type": "code",
   "execution_count": 58,
   "metadata": {},
   "outputs": [],
   "source": [
    "# Fetch one batch\n",
    "images, labels = next(iter(val_ds_resampled))\n",
    "\n",
    "# Convert from tensor to numpy array\n",
    "images = images.numpy()\n",
    "labels = labels.numpy()"
   ]
  },
  {
   "cell_type": "code",
   "execution_count": 59,
   "metadata": {},
   "outputs": [
    {
     "name": "stdout",
     "output_type": "stream",
     "text": [
      "1.0000 | 1.0\n",
      "Image 32 of 128\n"
     ]
    },
    {
     "data": {
      "image/png": "[encoded data removed]",
      "text/plain": [
       "<Figure size 432x288 with 1 Axes>"
      ]
     },
     "metadata": {},
     "output_type": "display_data"
    }
   ],
   "source": [
    "# Get a random image and label\n",
    "rand = np.random.randint(0, config[\"batch_size\"])\n",
    "image = images[rand]\n",
    "label = labels[rand]\n",
    "\n",
    "# Predict one image\n",
    "predictions = resampled_model.predict(np.expand_dims(image, axis=0))[0]\n",
    "pred = predictions[0]\n",
    "print(\"{:0.4f} | {}\".format(pred, np.round(pred)))\n",
    "\n",
    "prediction = ('Boat') if np.round(pred)==0 else ('Not boat')\n",
    "\n",
    "print (\"Image {} of {}\".format(rand, config[\"batch_size\"]))\n",
    "\n",
    "plt.figure(frameon=False, facecolor='white');\n",
    "plt.title(prediction, fontdict={'color':'white','size':20})\n",
    "plt.imshow(image)\n",
    "plt.axis('off');"
   ]
  },
  {
   "cell_type": "code",
   "execution_count": 60,
   "metadata": {},
   "outputs": [
    {
     "name": "stdout",
     "output_type": "stream",
     "text": [
      "idx  label  pred\n",
      "---  -----  ----\n",
      "\n",
      "  0  1.000  1.000\n",
      "  1  0.000  0.000\n",
      "  2  0.000  0.000\n",
      "  3  1.000  1.000\n",
      "  4  0.000  0.000\n",
      "  5  0.000  0.000\n",
      "  6  1.000  1.000\n",
      "  7  1.000  1.000\n",
      "  8  1.000  1.000\n",
      "  9  1.000  1.000\n",
      " 10  1.000  1.000\n",
      " 11  1.000  1.000\n",
      " 12  1.000  1.000\n",
      " 13  0.000  0.000\n",
      " 14  1.000  1.000\n",
      " 15  1.000  1.000\n",
      " 16  1.000  1.000\n",
      " 17  1.000  1.000\n",
      " 18  1.000  1.000\n",
      " 19  0.000  0.000\n",
      " 20  1.000  1.000\n",
      " 21  1.000  1.000\n",
      " 22  1.000  1.000\n",
      " 23  0.000  0.000\n",
      " 24  1.000  1.000\n",
      " 25  1.000  1.000\n",
      " 26  1.000  1.000\n",
      " 27  1.000  1.000\n",
      " 28  1.000  1.000\n",
      " 29  1.000  1.000\n",
      " 30  1.000  1.000\n",
      " 31  1.000  1.000\n",
      " 32  1.000  1.000\n",
      " 33  1.000  1.000\n",
      " 34  1.000  1.000\n",
      " 35  1.000  0.994\n",
      " 36  1.000  1.000\n",
      " 37  1.000  1.000\n",
      " 38  1.000  1.000\n",
      " 39  1.000  1.000\n",
      " 40  1.000  1.000\n",
      " 41  1.000  1.000\n",
      " 42  0.000  0.000\n",
      " 43  1.000  1.000\n",
      " 44  1.000  1.000\n",
      " 45  1.000  1.000\n",
      " 46  1.000  1.000\n",
      " 47  1.000  1.000\n",
      " 48  1.000  1.000\n",
      " 49  0.000  0.000\n",
      " 50  0.000  0.000\n",
      " 51  1.000  1.000\n",
      " 52  0.000  0.000\n",
      " 53  1.000  1.000\n",
      " 54  1.000  1.000\n",
      " 55  1.000  1.000\n",
      " 56  1.000  1.000\n",
      " 57  1.000  1.000\n",
      " 58  0.000  0.000\n",
      " 59  1.000  1.000\n",
      " 60  0.000  0.000\n",
      " 61  1.000  1.000\n",
      " 62  0.000  0.000\n",
      " 63  1.000  1.000\n",
      " 64  1.000  1.000\n",
      " 65  1.000  1.000\n",
      " 66  1.000  1.000\n",
      " 67  1.000  1.000\n",
      " 68  1.000  1.000\n",
      " 69  1.000  1.000\n",
      " 70  1.000  1.000\n",
      " 71  1.000  1.000\n",
      " 72  1.000  1.000\n",
      " 73  1.000  1.000\n",
      " 74  1.000  1.000\n",
      " 75  1.000  1.000\n",
      " 76  1.000  1.000\n",
      " 77  1.000  1.000\n",
      " 78  1.000  0.997\n",
      " 79  1.000  1.000\n",
      " 80  0.000  0.000\n",
      " 81  1.000  1.000\n",
      " 82  1.000  1.000\n",
      " 83  0.000  0.000\n",
      " 84  1.000  1.000\n",
      " 85  1.000  1.000\n",
      " 86  1.000  1.000\n",
      " 87  1.000  1.000\n",
      " 88  1.000  1.000\n",
      " 89  1.000  1.000\n",
      " 90  1.000  1.000\n",
      " 91  1.000  1.000\n",
      " 92  0.000  0.000\n",
      " 93  1.000  1.000\n",
      " 94  1.000  1.000\n",
      " 95  1.000  1.000\n",
      " 96  1.000  1.000\n",
      " 97  1.000  1.000\n",
      " 98  1.000  1.000\n",
      " 99  1.000  1.000\n",
      "100  0.000  0.000\n",
      "101  1.000  1.000\n",
      "102  1.000  1.000\n",
      "103  1.000  1.000\n",
      "104  1.000  1.000\n",
      "105  1.000  1.000\n",
      "106  1.000  1.000\n",
      "107  1.000  1.000\n",
      "108  1.000  1.000\n",
      "109  1.000  1.000\n",
      "110  1.000  1.000\n",
      "111  1.000  1.000\n",
      "112  1.000  1.000\n",
      "113  1.000  1.000\n",
      "114  1.000  1.000\n",
      "115  0.000  0.000\n",
      "116  1.000  1.000\n",
      "117  1.000  1.000\n",
      "118  1.000  1.000\n",
      "119  1.000  1.000\n",
      "120  0.000  0.000\n",
      "121  1.000  1.000\n",
      "122  1.000  1.000\n",
      "123  1.000  1.000\n",
      "124  1.000  1.000\n",
      "125  1.000  1.000\n",
      "126  1.000  1.000\n",
      "127  1.000  1.000"
     ]
    }
   ],
   "source": [
    "# Predict one batch\n",
    "predictions = resampled_model.predict(images)\n",
    "\n",
    "print ('{:3}  {:5}  {:3}'.format('idx', 'label', 'pred'))\n",
    "print ('---  -----  ----')\n",
    "\n",
    "for i, prediction in enumerate(predictions.flat):\n",
    "    print ('\\n{:3}  {:.3f}  {:.3f}'.format(i, labels[i], prediction), end='')\n",
    "    if (int(labels[i]) != int(np.round(prediction))): print (\" -Wrong\", end='')"
   ]
  },
  {
   "cell_type": "code",
   "execution_count": null,
   "metadata": {},
   "outputs": [],
   "source": []
  }
 ],
 "metadata": {
  "kernelspec": {
   "display_name": "TF2",
   "language": "python",
   "name": "tf2"
  },
  "language_info": {
   "codemirror_mode": {
    "name": "ipython",
    "version": 3
   },
   "file_extension": ".py",
   "mimetype": "text/x-python",
   "name": "python",
   "nbconvert_exporter": "python",
   "pygments_lexer": "ipython3",
   "version": "3.7.6"
  }
 },
 "nbformat": 4,
 "nbformat_minor": 4
}
