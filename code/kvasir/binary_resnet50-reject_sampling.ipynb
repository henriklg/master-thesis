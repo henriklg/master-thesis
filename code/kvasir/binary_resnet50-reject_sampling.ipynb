{
 "cells": [
  {
   "cell_type": "markdown",
   "metadata": {},
   "source": [
    "kvasir dataset split into neg/pos and trained using resnet50 witouth augmentation. With rejection resampling (see https://www.tensorflow.org/guide/data#resampling)"
   ]
  },
  {
   "cell_type": "markdown",
   "metadata": {},
   "source": [
    "### Loading images\n",
    "https://www.tensorflow.org/tutorials/load_data/images"
   ]
  },
  {
   "cell_type": "code",
   "execution_count": 1,
   "metadata": {
    "scrolled": true
   },
   "outputs": [],
   "source": [
    "from __future__ import absolute_import, division, print_function, unicode_literals\n",
    "\n",
    "import tensorflow as tf\n",
    "import IPython.display as display\n",
    "import numpy as np\n",
    "import os\n",
    "import pathlib\n",
    "import matplotlib.pyplot as plt\n",
    "\n",
    "AUTOTUNE = tf.data.experimental.AUTOTUNE\n",
    "\n",
    "from PIL import Image\n",
    "\n",
    "%matplotlib inline"
   ]
  },
  {
   "cell_type": "code",
   "execution_count": 2,
   "metadata": {
    "scrolled": true
   },
   "outputs": [],
   "source": [
    "MODEL = 'resnet50'\n",
    "DS_INFO = 'binary'\n",
    "NUM_EPOCHS = 2\n",
    "BATCH_SIZE = 128\n",
    "IMG_HEIGHT = 64  #224\n",
    "IMG_WIDTH = 64\n",
    "\n",
    "NUM_CHANNELS = 3\n",
    "NUM_CLASSES = 2\n",
    "IMG_SIZE = (IMG_HEIGHT, IMG_WIDTH, NUM_CHANNELS)\n",
    "\n",
    "# epoch*batch_size*img_size\n",
    "model_name = '{}x{}x{}_{}_{}'.format(NUM_EPOCHS, BATCH_SIZE, IMG_WIDTH, DS_INFO, MODEL)"
   ]
  },
  {
   "cell_type": "code",
   "execution_count": 3,
   "metadata": {},
   "outputs": [],
   "source": [
    "def print_class_info(names, pos, neg):\n",
    "    # Extract and print info about the class split \n",
    "    \n",
    "    list_class = [pos, neg]\n",
    "    idx = 0\n",
    "    for class_ in list_class:\n",
    "        print (\"{} class names:\".format(names[idx]))\n",
    "        for cl in class_:\n",
    "            print (\"{}- {}\".format(\" \"*8, cl))\n",
    "        idx += 1\n",
    "    \n",
    "    neg_count = 0\n",
    "    pos_count = 0\n",
    "    for class_name in original_class_names:\n",
    "        # Number of samples in 'class_name' folder\n",
    "        class_samples = len(list(data_dir.glob(class_name+'/*.jpg')))\n",
    "\n",
    "        if (class_name == neg_class_name[0]):\n",
    "            neg_count += class_samples\n",
    "        else:\n",
    "            pos_count += class_samples\n",
    "\n",
    "    print ('\\nNegative samples: {0:5} | {1:5.2f}%'.format(neg_count, neg_count/DATASET_SIZE*100))\n",
    "    print ('Positive samples: {0:5} | {1:5.2f}%'.format(pos_count, pos_count/DATASET_SIZE*100))\n",
    "    # Print number of images in dataset (excluded samples in outcast)\n",
    "    print ('\\nTotal number of images:', DATASET_SIZE)"
   ]
  },
  {
   "cell_type": "code",
   "execution_count": 4,
   "metadata": {},
   "outputs": [
    {
     "name": "stdout",
     "output_type": "stream",
     "text": [
      "Classes in data_dir:  ['normal-cecum' 'polyps' 'normal-pylorus' 'esophagitis' 'normal-z-line'\n",
      " 'ulcerative-colitis' 'dyed-resection-margins' 'dyed-lifted-polyps']\n",
      "\n",
      "Removed outcast:  polyps \n",
      "\n",
      "Negative class names:\n",
      "        - normal-cecum\n",
      "        - esophagitis\n",
      "        - normal-z-line\n",
      "        - ulcerative-colitis\n",
      "        - dyed-resection-margins\n",
      "        - dyed-lifted-polyps\n",
      "Positive class names:\n",
      "        - normal-pylorus\n",
      "\n",
      "Negative samples:  1000 | 14.29%\n",
      "Positive samples:  6000 | 85.71%\n",
      "\n",
      "Total number of images: 7000\n"
     ]
    }
   ],
   "source": [
    "# data_dir = pathlib.Path('/mnt/sdb/kvasir-dataset-v2/')\n",
    "data_dir = pathlib.Path('/home/henriklg/master-thesis/data/kvasir-dataset-v2/')\n",
    "outcast = 'polyps'\n",
    "\n",
    "DATASET_SIZE = len(list(data_dir.glob('[!'+str(outcast)+']*/*.jpg')))\n",
    "class_names = np.array([item.name for item in data_dir.glob('*') if item.name != 'metadata.json'])\n",
    "print (\"Classes in data_dir: \", class_names)\n",
    "\n",
    "# Remove outcasts\n",
    "original_class_names = np.delete(class_names, np.where(outcast == class_names))\n",
    "print (\"\\nRemoved outcast: \", outcast, \"\\n\")\n",
    "\n",
    "class_names = np.array(['Negative', 'Positive'])\n",
    "neg_class_name = ['normal-pylorus']\n",
    "pos_class_names = np.delete(original_class_names, np.where(neg_class_name == original_class_names))\n",
    "\n",
    "print_class_info(class_names, pos_class_names, neg_class_name)"
   ]
  },
  {
   "cell_type": "code",
   "execution_count": 5,
   "metadata": {},
   "outputs": [],
   "source": [
    "# Create a dataset of the file paths | data_dir/*/* but subract class\n",
    "list_ds = tf.data.Dataset.list_files(str(data_dir/'[!')+str(outcast+']*/*'))"
   ]
  },
  {
   "cell_type": "markdown",
   "metadata": {},
   "source": [
    "Set up pipeline for loading images from given list of paths"
   ]
  },
  {
   "cell_type": "code",
   "execution_count": 6,
   "metadata": {},
   "outputs": [],
   "source": [
    "def get_label_int(file_path):\n",
    "    parts = tf.strings.split(file_path, os.path.sep)\n",
    "    bc = parts[-2] == pos_class_names\n",
    "    nz_cnt = tf.math.count_nonzero(bc)\n",
    "    if (nz_cnt > 0):\n",
    "        return tf.reshape(tf.dtypes.cast(tf.fill([1, 1], value=1), tf.int32),[-1])\n",
    "    return tf.reshape(tf.dtypes.cast(tf.fill([1, 1], value=0), tf.int32),[-1])\n",
    "\n",
    "def decode_img(img):\n",
    "    # convert the compressed string to a 3D uint8 tensor\n",
    "    img = tf.image.decode_jpeg(img, channels=3)\n",
    "    # Use `convert_image_dtype` to convert to floats in the [0,1] range.\n",
    "    img = tf.image.convert_image_dtype(img, tf.float32)\n",
    "    # resize the image to the desired size.\n",
    "    return tf.image.resize(img, [IMG_WIDTH, IMG_HEIGHT])\n",
    "\n",
    "def process_path(file_path):\n",
    "    label = get_label_int(file_path)\n",
    "    # load the raw data from the file as a string\n",
    "    img = tf.io.read_file(file_path)\n",
    "    img = decode_img(img)\n",
    "    return img, label\n",
    "\n",
    "labeled_ds = list_ds.map(process_path, num_parallel_calls=AUTOTUNE)"
   ]
  },
  {
   "cell_type": "markdown",
   "metadata": {},
   "source": [
    "Showing an example image/label pair"
   ]
  },
  {
   "cell_type": "code",
   "execution_count": 7,
   "metadata": {},
   "outputs": [
    {
     "data": {
      "text/plain": [
       "<Figure size 432x288 with 0 Axes>"
      ]
     },
     "metadata": {},
     "output_type": "display_data"
    },
    {
     "data": {
      "image/png": "[encoded data removed]",
      "text/plain": [
       "<Figure size 432x288 with 1 Axes>"
      ]
     },
     "metadata": {},
     "output_type": "display_data"
    }
   ],
   "source": [
    "def show_image(img):\n",
    "    for image, label in img:\n",
    "        plt.figure();\n",
    "        plt.figure(frameon=False, facecolor='white')\n",
    "        plt.title(class_names[label.numpy()][0], fontdict={'color':'white','size':20})\n",
    "        plt.imshow(image.numpy())\n",
    "        plt.axis('off')\n",
    "\n",
    "show_image(labeled_ds.take(1))"
   ]
  },
  {
   "cell_type": "markdown",
   "metadata": {},
   "source": [
    "### Resampling the dataset to a 50/50 distribution"
   ]
  },
  {
   "cell_type": "code",
   "execution_count": 8,
   "metadata": {},
   "outputs": [],
   "source": [
    "labeled_ds = labeled_ds.batch(BATCH_SIZE)"
   ]
  },
  {
   "cell_type": "code",
   "execution_count": 15,
   "metadata": {},
   "outputs": [],
   "source": [
    "def count(counts, batch):\n",
    "        features, labels = batch\n",
    "        class_1 = labels[0] == 1\n",
    "#         class_1 = tf.cast(class_1, tf.uint8)\n",
    "        class_1 = tf.cast(class_1, tf.int32)\n",
    "\n",
    "        class_0 = labels[0] == 0\n",
    "#         class_0 = tf.cast(class_0, tf.uint8)\n",
    "        class_0 = tf.cast(class_0, tf.int32)\n",
    "\n",
    "        counts['class_0'] += tf.reduce_sum(class_0)\n",
    "        counts['class_1'] += tf.reduce_sum(class_1)\n",
    "\n",
    "        return counts"
   ]
  },
  {
   "cell_type": "code",
   "execution_count": 17,
   "metadata": {},
   "outputs": [
    {
     "name": "stdout",
     "output_type": "stream",
     "text": [
      "[0.1 0.9]\n"
     ]
    }
   ],
   "source": [
    "counts = labeled_ds.take(20).reduce(\n",
    "        initial_state={'class_0': 0, 'class_1': 0},\n",
    "        reduce_func = count)\n",
    "\n",
    "counts = np.array([counts['class_0'].numpy(),\n",
    "                   counts['class_1'].numpy()]).astype(np.float32)\n",
    "\n",
    "fractions = counts/counts.sum()\n",
    "print(fractions)"
   ]
  },
  {
   "cell_type": "code",
   "execution_count": 18,
   "metadata": {},
   "outputs": [],
   "source": [
    "# data.experimental.rejection_resample takes a class_func argument. This class_func is applied to each dataset element, \n",
    "# and is used to determine which class an example belongs to for the purposes of balancing.\n",
    "\n",
    "def class_func(features, label):\n",
    "    return label[0]"
   ]
  },
  {
   "cell_type": "code",
   "execution_count": 19,
   "metadata": {},
   "outputs": [],
   "source": [
    "# The resampler also needs a target distribution, and optionally an initial distribution estimate:\n",
    "\n",
    "resampler = tf.data.experimental.rejection_resample(\n",
    "        class_func, target_dist=[0.5, 0.5], initial_dist=fractions)"
   ]
  },
  {
   "cell_type": "code",
   "execution_count": 20,
   "metadata": {},
   "outputs": [
    {
     "name": "stdout",
     "output_type": "stream",
     "text": [
      "WARNING:tensorflow:From /home/henriklg/anaconda3/envs/TF2/lib/python3.7/site-packages/tensorflow_core/python/data/experimental/ops/resampling.py:151: Print (from tensorflow.python.ops.logging_ops) is deprecated and will be removed after 2018-08-20.\n",
      "Instructions for updating:\n",
      "Use tf.print instead of tf.Print. Note that tf.print returns a no-output operator that directly prints the output. Outside of defuns or eager mode, this operator will not be executed unless it is directly specified in session.run or used as a control dependency for other operators. This is only a concern in graph mode. Below is an example of how to ensure tf.print executes in graph mode:\n",
      "\n"
     ]
    }
   ],
   "source": [
    "resample_ds = labeled_ds.unbatch().apply(resampler).batch(BATCH_SIZE)"
   ]
  },
  {
   "cell_type": "code",
   "execution_count": 21,
   "metadata": {},
   "outputs": [],
   "source": [
    "balanced_ds = resample_ds.map(lambda extra_label, features_and_label: features_and_label)"
   ]
  },
  {
   "cell_type": "code",
   "execution_count": 32,
   "metadata": {},
   "outputs": [
    {
     "name": "stdout",
     "output_type": "stream",
     "text": [
      "[1 1 0 1 1 1 1 1 1 0 1 1 1 1 1 1 1 1 1 1 0 1 1 1 1 0 1 1 1 1 1 1 1 1 1 1 1\n",
      " 1 1 1 1 1 1 1 1 0 1 1 1 1 1 0 1 1 0 1 1 1 1 1 1 1 1 0 1 1 1 0 1 0 1 1 1 1\n",
      " 0 1 0 1 0 0 1 0 1 1 1 1 1 1 1 1 1 1 1 1 1 1 1 1 1 1 1 1 1 1 1 1 1 1 1 1 1\n",
      " 1 1 1 1 1 1 1 1 0 1 1 1 1 0 1 1 1]\n",
      "ones:  111\n",
      "zeros:  17\n",
      "total:  128\n",
      "[1 1 1 1 1 0 1 0 1 1 1 1 1 1 1 1 1 1 1 1 1 1 0 1 0 1 1 1 1 1 1 1 1 1 1 1 1\n",
      " 1 1 1 0 1 1 1 1 1 1 1 0 0 0 1 0 1 1 1 1 1 1 1 1 1 1 1 1 1 1 1 1 1 0 1 0 0\n",
      " 1 1 1 1 1 1 1 1 1 0 1 1 1 0 1 1 1 1 1 0 1 1 1 1 1 1 0 1 1 1 1 0 1 1 1 1 0\n",
      " 1 1 1 1 1 1 1 1 1 1 1 1 1 1 1 0 0]\n",
      "ones:  108\n",
      "zeros:  20\n",
      "total:  128\n",
      "[0 1 1 1 0 1 1 1 1 1 1 1 1 1 1 1 1 1 1 0 1 1 0 1 1 0 1 1 0 1 1 1 0 1 1 1 0\n",
      " 1 1 1 1 1 1 1 1 1 1 0 1 1 1 0 1 1 1 1 1 1 1 0 1 0 1 1 1 1 1 1 1 1 1 1 0 1\n",
      " 1 1 0 1 1 1 1 1 1 1 1 1 1 1 0 1 1 0 0 0 1 1 1 1 1 1 1 0 1 1 1 1 1 1 1 0 1\n",
      " 1 1 1 1 1 1 0 1 0 0 1 1 1 1 1 1 1]\n",
      "ones:  105\n",
      "zeros:  23\n",
      "total:  128\n"
     ]
    }
   ],
   "source": [
    "for images, labels in balanced_ds.take(3):\n",
    "    labels = labels.numpy()\n",
    "    total = len(labels)\n",
    "    labels = np.resize(labels,(1,total))[-1]\n",
    "    \n",
    "    ones = np.count_nonzero(labels)\n",
    "    zeros = total - ones\n",
    "    \n",
    "    print (labels)\n",
    "    print (\"ones: \", ones)\n",
    "    print (\"zeros: \", zeros)\n",
    "    print (\"total: \", total)"
   ]
  },
  {
   "cell_type": "code",
   "execution_count": null,
   "metadata": {},
   "outputs": [],
   "source": [
    "# Verify that it has been resampled\n",
    "\n",
    "counts = resample_ds.take(10).reduce(\n",
    "        initial_state={'class_0': 0, 'class_1': 0},\n",
    "        reduce_func = count)\n",
    "\n",
    "counts = np.array([counts['class_0'].numpy(),\n",
    "                   counts['class_1'].numpy()]).astype(np.float32)\n",
    "\n",
    "fractions = counts/counts.sum()\n",
    "print(fractions)"
   ]
  },
  {
   "cell_type": "markdown",
   "metadata": {},
   "source": [
    "### Splitting into training, test and validation data"
   ]
  },
  {
   "cell_type": "code",
   "execution_count": null,
   "metadata": {},
   "outputs": [],
   "source": [
    "train_size = int(0.7 * DATASET_SIZE)\n",
    "val_size = int(0.15 * DATASET_SIZE)\n",
    "test_size = int(0.15 * DATASET_SIZE)\n",
    "\n",
    "shuffled_ds = labeled_ds#.shuffle(buffer_size=10000)\n",
    "\n",
    "train_ds = shuffled_ds.take(train_size)\n",
    "test_ds = shuffled_ds.skip(train_size)\n",
    "val_ds = test_ds.skip(val_size)\n",
    "test_ds = test_ds.take(test_size)"
   ]
  },
  {
   "cell_type": "code",
   "execution_count": null,
   "metadata": {},
   "outputs": [],
   "source": [
    "# Print info about the dataset split\n",
    "def get_size(ds):\n",
    "    return tf.data.experimental.cardinality(ds).numpy()\n",
    "\n",
    "print (\"{:32} {:>5}\".format(\"Full dataset sample size:\", get_size(shuffled_ds)))\n",
    "print (\"{:32} {:>5}\".format(\"Train dataset sample size:\", get_size(train_ds)))\n",
    "print (\"{:32} {:>5}\".format(\"Test dataset sample size:\", get_size(test_ds)))\n",
    "print (\"{:32} {:>5}\".format(\"Validation dataset sample size:\", get_size(val_ds)))"
   ]
  },
  {
   "cell_type": "code",
   "execution_count": null,
   "metadata": {},
   "outputs": [],
   "source": [
    "def prepare_for_training(ds, cache=True, shuffle_buffer_size=3000):\n",
    "    # This is a small dataset, only load it once, and keep it in memory.\n",
    "    # use `.cache(filename)` to cache preprocessing work for datasets that don't\n",
    "    # fit in memory.\n",
    "    if cache:\n",
    "      if isinstance(cache, str):\n",
    "        ds = ds.cache(cache)\n",
    "      else:\n",
    "        ds = ds.cache()\n",
    "\n",
    "    ds = ds.shuffle(buffer_size=shuffle_buffer_size)\n",
    "\n",
    "    # Repeat forever\n",
    "    ds = ds.repeat()\n",
    "\n",
    "    ds = ds.batch(BATCH_SIZE)\n",
    "\n",
    "    # `prefetch` lets the dataset fetch batches in the background while the model\n",
    "    # is training.\n",
    "    ds = ds.prefetch(buffer_size=AUTOTUNE)\n",
    "    return ds\n",
    "\n",
    "# Create training, test and validation dataset\n",
    "train_ds = prepare_for_training(train_ds, cache=\"./cache/train_{}.tfcache\".format(IMG_WIDTH))\n",
    "test_ds = prepare_for_training(test_ds, cache=\"./cache/test_{}.tfcache\".format(IMG_WIDTH))\n",
    "val_ds = prepare_for_training(val_ds, cache=\"./cache/val_{}.tfcache\".format(IMG_WIDTH))"
   ]
  },
  {
   "cell_type": "markdown",
   "metadata": {},
   "source": [
    "## Training\n",
    "https://adventuresinmachinelearning.com/transfer-learning-tensorflow-2/"
   ]
  },
  {
   "cell_type": "code",
   "execution_count": null,
   "metadata": {},
   "outputs": [],
   "source": [
    "from tensorflow.python.keras.applications import ResNet50\n",
    "from tensorflow.python.keras.models import Sequential\n",
    "from tensorflow.python.keras.layers import Dense\n",
    "from tensorflow.keras import layers"
   ]
  },
  {
   "cell_type": "code",
   "execution_count": null,
   "metadata": {},
   "outputs": [],
   "source": [
    "res_net = tf.keras.applications.ResNet50(weights='imagenet', include_top=False, input_shape=IMG_SIZE)"
   ]
  },
  {
   "cell_type": "code",
   "execution_count": null,
   "metadata": {},
   "outputs": [],
   "source": [
    "res_net.trainable = False\n",
    "\n",
    "global_average_layer = layers.GlobalAveragePooling2D()\n",
    "output_layer = layers.Dense(1, activation='sigmoid')\n",
    "\n",
    "tl_model = tf.keras.Sequential([\n",
    "        res_net,\n",
    "        global_average_layer,\n",
    "        output_layer])"
   ]
  },
  {
   "cell_type": "code",
   "execution_count": null,
   "metadata": {},
   "outputs": [],
   "source": [
    "tl_model.summary()"
   ]
  },
  {
   "cell_type": "code",
   "execution_count": null,
   "metadata": {},
   "outputs": [],
   "source": [
    "tl_model.compile(\n",
    "        optimizer=tf.keras.optimizers.Adam(learning_rate=0.001),\n",
    "        loss='binary_crossentropy',\n",
    "        metrics=['accuracy'])\n",
    "\n",
    "callbacks = [tf.keras.callbacks.TensorBoard(log_dir='./logs/transfer_learning_model', update_freq='batch')]"
   ]
  },
  {
   "cell_type": "code",
   "execution_count": null,
   "metadata": {},
   "outputs": [],
   "source": [
    "history = tl_model.fit(\n",
    "        train_ds,\n",
    "        steps_per_epoch = train_size // BATCH_SIZE,\n",
    "        epochs = NUM_EPOCHS,\n",
    "        validation_data = test_ds,\n",
    "        validation_steps = test_size // BATCH_SIZE,\n",
    "        validation_freq = 1,\n",
    "        callbacks = callbacks)"
   ]
  },
  {
   "cell_type": "markdown",
   "metadata": {},
   "source": [
    "`Keras`\n",
    "Save/load the model"
   ]
  },
  {
   "cell_type": "code",
   "execution_count": null,
   "metadata": {},
   "outputs": [],
   "source": [
    "tl_model.save('models/{}.h5'.format(model_name))\n",
    "# tl_model = tf.keras.models.load_model('models/{}.h5'.format(model_name))"
   ]
  },
  {
   "cell_type": "markdown",
   "metadata": {},
   "source": [
    "## Validate the results\n",
    "\n",
    "`Tensorboard`"
   ]
  },
  {
   "cell_type": "code",
   "execution_count": null,
   "metadata": {},
   "outputs": [],
   "source": [
    "# Clear any logs from previous runs (move to .old instead?)\n",
    "# !rm -rf ./logs/"
   ]
  },
  {
   "cell_type": "raw",
   "metadata": {},
   "source": [
    "from tensorboard import notebook\n",
    "\n",
    "# Load the TensorBoard notebook extension\n",
    "%load_ext tensorboard\n",
    "\n",
    "notebook.list()"
   ]
  },
  {
   "cell_type": "code",
   "execution_count": null,
   "metadata": {},
   "outputs": [],
   "source": [
    "# Start tensorboard\n",
    "%tensorboard --logdir logs"
   ]
  },
  {
   "cell_type": "code",
   "execution_count": null,
   "metadata": {},
   "outputs": [],
   "source": [
    "# !kill 20058"
   ]
  },
  {
   "cell_type": "code",
   "execution_count": null,
   "metadata": {},
   "outputs": [],
   "source": [
    "result = tl_model.evaluate(\n",
    "            val_ds,\n",
    "            steps = val_size//BATCH_SIZE)"
   ]
  },
  {
   "cell_type": "markdown",
   "metadata": {},
   "source": [
    "## Predict new samples"
   ]
  },
  {
   "cell_type": "code",
   "execution_count": null,
   "metadata": {},
   "outputs": [],
   "source": [
    "# Fetch one batch\n",
    "images, labels = next(iter(val_ds))\n",
    "\n",
    "# Convert from tensor to numpy array\n",
    "images = images.numpy()\n",
    "labels = labels.numpy()"
   ]
  },
  {
   "cell_type": "code",
   "execution_count": null,
   "metadata": {},
   "outputs": [],
   "source": [
    "# Get a random image and label\n",
    "idx = np.random.randint(0, BATCH_SIZE)\n",
    "idx = 4\n",
    "image = images[idx]\n",
    "label = labels[idx]\n",
    "\n",
    "# Predict one image\n",
    "result = tl_model.predict(np.expand_dims(image, axis=0))[0][0]\n",
    "\n",
    "print (\"True label:\", class_names[label[0]])\n",
    "print ('Probabibity of Positive: {:.5f}%'.format((result)*100))\n",
    "\n",
    "plt.figure()\n",
    "plt.imshow(image)\n",
    "plt.axis('off');"
   ]
  },
  {
   "cell_type": "code",
   "execution_count": null,
   "metadata": {},
   "outputs": [],
   "source": [
    "# Predict one batch\n",
    "results = tl_model.predict(images)\n",
    "\n",
    "print ('{:3}  {:7}  {:3}%'.format('idx', 'true_label', 'pred_prob'))\n",
    "print ('---  ---------   ----------')\n",
    "idx = 0\n",
    "for result in results:\n",
    "    true_label = class_names[labels[idx]][0]\n",
    "    pred_prob = result[0]\n",
    "    print ('{:3}  {:10}  {:05f}%'.format(idx, true_label, pred_prob))\n",
    "    idx += 1"
   ]
  }
 ],
 "metadata": {
  "kernelspec": {
   "display_name": "TF2",
   "language": "python",
   "name": "tf2"
  },
  "language_info": {
   "codemirror_mode": {
    "name": "ipython",
    "version": 3
   },
   "file_extension": ".py",
   "mimetype": "text/x-python",
   "name": "python",
   "nbconvert_exporter": "python",
   "pygments_lexer": "ipython3",
   "version": "3.7.6"
  }
 },
 "nbformat": 4,
 "nbformat_minor": 4
}
