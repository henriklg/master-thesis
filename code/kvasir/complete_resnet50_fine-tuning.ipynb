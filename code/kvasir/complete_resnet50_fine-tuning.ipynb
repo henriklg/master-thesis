{
 "cells": [
  {
   "cell_type": "markdown",
   "metadata": {},
   "source": [
    "Kvasir V2 dataset trained on all classes with resnet50 without augmentation.  \n",
    "- Fine tuning by unfreezing some layers (get aprox 90% accuracy)\n",
    "- Early stopping\n",
    "- Adaptive learning rate  \n",
    "`TODO:`  \n",
    "- DS resample  \n",
    "- Class weighting  "
   ]
  },
  {
   "cell_type": "markdown",
   "metadata": {},
   "source": [
    "### Loading images\n",
    "https://www.tensorflow.org/tutorials/load_data/images"
   ]
  },
  {
   "cell_type": "code",
   "execution_count": 1,
   "metadata": {},
   "outputs": [],
   "source": [
    "from __future__ import absolute_import, division, print_function, unicode_literals\n",
    "\n",
    "import tensorflow as tf\n",
    "\n",
    "import numpy as np\n",
    "import os\n",
    "import pathlib\n",
    "import matplotlib.pyplot as plt\n",
    "\n",
    "# Some stuff to make utils-function work\n",
    "import sys\n",
    "sys.path.append('/home/henrik/master_thesis/code/utils')\n",
    "from data_prep import create_dataset, print_class_info, show_image\n",
    "%load_ext autoreload\n",
    "%autoreload 2\n",
    "\n",
    "# Jupyter-specific\n",
    "%matplotlib inline"
   ]
  },
  {
   "cell_type": "markdown",
   "metadata": {},
   "source": [
    "Some parameters"
   ]
  },
  {
   "cell_type": "code",
   "execution_count": 2,
   "metadata": {},
   "outputs": [],
   "source": [
    "data_dir = pathlib.Path('/mnt/sdb/kvasir-dataset-v2/')\n",
    "\n",
    "config = {\n",
    "    \"data_dir\": data_dir,\n",
    "    \"cache_dir\": \"./cache\",\n",
    "    \"MODEL\": 'resnet50',\n",
    "    \"DS_INFO\": 'complete',\n",
    "    \"resample\": False,\n",
    "    \"neg_class\": ['polyp'],\n",
    "    \"NUM_EPOCHS\": 150,\n",
    "    \"BATCH_SIZE\": 64,\n",
    "    \"IMG_SIZE\": (32, 32, 3),\n",
    "    \"outcast\": None,\n",
    "    \"verbosity\": 1\n",
    "    }\n",
    "\n",
    "model_name = '{}x{}x{}_{}_{}'.format(config[\"NUM_EPOCHS\"], config[\"BATCH_SIZE\"], \n",
    "                                     config[\"IMG_SIZE\"][1], config[\"DS_INFO\"], config[\"MODEL\"])\n",
    "\n",
    "learning_rate = 0.01\n",
    "fine_tune_at = 130\n",
    "fine_tune_epochs = 150\n",
    "early_stopping_patience = 10"
   ]
  },
  {
   "cell_type": "markdown",
   "metadata": {},
   "source": [
    "Create training, testing and validation dataset from utils/data_prep.py"
   ]
  },
  {
   "cell_type": "code",
   "execution_count": 3,
   "metadata": {},
   "outputs": [
    {
     "name": "stdout",
     "output_type": "stream",
     "text": [
      "Directories:  ['esophagitis' 'normal-pylorus' 'ulcerative-colitis' 'normal-cecum'\n",
      " 'normal-z-line' 'polyps' 'dyed-resection-margins' 'dyed-lifted-polyps']\n",
      "\n",
      "esophagitis       : 1000\n",
      "normal-pylorus    : 1000\n",
      "ulcerative-colitis: 1000\n",
      "normal-cecum      : 1000\n",
      "normal-z-line     : 1000\n",
      "polyps            : 1000\n",
      "dyed-resection-margins: 1000\n",
      "dyed-lifted-polyps: 1000\n",
      "\n",
      "Total number of images: 8000, in 8 classes\n",
      "Dataset.list_files:  /mnt/sdb/kvasir-dataset-v2/*/*.*g \n",
      "\n",
      "WARNING:tensorflow:Entity <function create_dataset.<locals>.get_label at 0x7f4f2e3fdb00> could not be transformed and will be executed as-is. Please report this to the AutoGraph team. When filing the bug, set the verbosity to 10 (on Linux, `export AUTOGRAPH_VERBOSITY=10`) and attach the full output. Cause: Cell is empty\n",
      "WARNING: Entity <function create_dataset.<locals>.get_label at 0x7f4f2e3fdb00> could not be transformed and will be executed as-is. Please report this to the AutoGraph team. When filing the bug, set the verbosity to 10 (on Linux, `export AUTOGRAPH_VERBOSITY=10`) and attach the full output. Cause: Cell is empty\n",
      "[1 2 7 5 7 5 2 0 6 4]\n",
      "[4 6 2 0 6 0 5 1 1 7]\n",
      "[2 2 2 3 3 5 0 6 2 2]\n",
      "[7 4 6 2 4 3 7 2 6 4]\n",
      "[7 1 5 0 7 2 4 2 4 4]\n",
      "[5 0 1 5 6 5 5 5 7 7]\n",
      "[2 0 4 1 0 5 0 7 3 6]\n",
      "[1 6 5 4 4 2 5 0 7 4]\n",
      "[7 2 0 6 7 5 6 4 2 7]\n",
      "[6 4 3 0 4 4 7 3 2 4]\n",
      "\n",
      "Full dataset sample size:         8000\n",
      "Train dataset sample size:        5600\n",
      "Test dataset sample size:         1200\n",
      "Validation dataset sample size:   1200\n"
     ]
    }
   ],
   "source": [
    "train_ds, test_ds, val_ds, params = create_dataset(config)"
   ]
  },
  {
   "cell_type": "markdown",
   "metadata": {},
   "source": [
    "## Training"
   ]
  },
  {
   "cell_type": "markdown",
   "metadata": {},
   "source": [
    "### Resnet50 transfer learning\n",
    "resnet50: https://adventuresinmachinelearning.com/transfer-learning-tensorflow-2/  \n",
    "fine-tuning: https://www.tensorflow.org/tutorials/images/transfer_learning  \n",
    "callbacks: https://www.kaggle.com/suniliitb96/tutorial-keras-transfer-learning-with-resnet50  "
   ]
  },
  {
   "cell_type": "code",
   "execution_count": 4,
   "metadata": {},
   "outputs": [],
   "source": [
    "from tensorflow.python.keras.applications import ResNet50\n",
    "from tensorflow.python.keras.models import Sequential\n",
    "from tensorflow.python.keras.callbacks import EarlyStopping, ModelCheckpoint, TensorBoard, LearningRateScheduler\n",
    "from tensorflow.keras import layers\n",
    "import datetime"
   ]
  },
  {
   "cell_type": "markdown",
   "metadata": {},
   "source": [
    "Create and compile the model"
   ]
  },
  {
   "cell_type": "code",
   "execution_count": 5,
   "metadata": {},
   "outputs": [],
   "source": [
    "res_net = tf.keras.applications.ResNet50(\n",
    "    weights='imagenet', \n",
    "    include_top=False, \n",
    "    input_shape=config[\"IMG_SIZE\"]\n",
    ")"
   ]
  },
  {
   "cell_type": "code",
   "execution_count": 6,
   "metadata": {},
   "outputs": [],
   "source": [
    "res_net.trainable = True\n",
    "\n",
    "global_average_layer = layers.GlobalAveragePooling2D()\n",
    "output_layer = layers.Dense(params[\"NUM_CLASSES\"], activation='softmax')\n",
    "\n",
    "resnet50_model = tf.keras.Sequential([\n",
    "        res_net,\n",
    "        global_average_layer,\n",
    "        output_layer])"
   ]
  },
  {
   "cell_type": "code",
   "execution_count": 7,
   "metadata": {},
   "outputs": [
    {
     "name": "stdout",
     "output_type": "stream",
     "text": [
      "Model: \"sequential\"\n",
      "_________________________________________________________________\n",
      "Layer (type)                 Output Shape              Param #   \n",
      "=================================================================\n",
      "resnet50 (Model)             (None, 1, 1, 2048)        23587712  \n",
      "_________________________________________________________________\n",
      "global_average_pooling2d (Gl (None, 2048)              0         \n",
      "_________________________________________________________________\n",
      "dense (Dense)                (None, 8)                 16392     \n",
      "=================================================================\n",
      "Total params: 23,604,104\n",
      "Trainable params: 23,550,984\n",
      "Non-trainable params: 53,120\n",
      "_________________________________________________________________\n"
     ]
    }
   ],
   "source": [
    "if config[\"verbosity\"] > 0:\n",
    "    resnet50_model.summary()"
   ]
  },
  {
   "cell_type": "raw",
   "metadata": {},
   "source": [
    "# Save image of layers\n",
    "tf.keras.utils.plot_model(resnet50_model, 'models/{}.png'.format(model_name), show_shapes=True)"
   ]
  },
  {
   "cell_type": "markdown",
   "metadata": {},
   "source": [
    "`Reduce learning rate during training`"
   ]
  },
  {
   "cell_type": "code",
   "execution_count": 8,
   "metadata": {},
   "outputs": [],
   "source": [
    "# By using LearnignRateScheduler\n",
    "initial_learning_rate = learning_rate\n",
    "decay_steps = params[\"train_size\"] // config[\"BATCH_SIZE\"]\n",
    "batch_size = config['BATCH_SIZE']\n",
    "decay_rate = 0.6\n",
    "\n",
    "def schedule(epoch):\n",
    "    # calculate new learning rate\n",
    "    learning_rate = initial_learning_rate / (1 + decay_rate * (epoch*batch_size) / decay_steps)\n",
    "    \n",
    "    # update tensorboard\n",
    "    tf.summary.scalar(name='learning_rate', data=learning_rate, step=epoch)\n",
    "    return learning_rate\n",
    "\n",
    "lr_schedule_cb = LearningRateScheduler(schedule, verbose=1)"
   ]
  },
  {
   "cell_type": "markdown",
   "metadata": {},
   "source": [
    "Compile the model"
   ]
  },
  {
   "cell_type": "code",
   "execution_count": 10,
   "metadata": {},
   "outputs": [],
   "source": [
    "opt = tf.keras.optimizers.Adam(learning_rate=learning_rate)\n",
    "\n",
    "resnet50_model.compile(\n",
    "    optimizer=opt,\n",
    "    loss='sparse_categorical_crossentropy',\n",
    "    metrics=['accuracy'] #['sparse_categorical_accuracy']?\n",
    ")\n",
    "\n",
    "log_dir=\"./logs/{}/\".format(config[\"MODEL\"]) + datetime.datetime.now().strftime(\"%Y%m%d-%H%M%S\")\n",
    "file_writer = tf.summary.create_file_writer(log_dir + \"/metrics\")\n",
    "file_writer.set_as_default()\n",
    "\n",
    "earlystopp_cb = EarlyStopping(monitor='val_loss',verbose=1, patience=early_stopping_patience, restore_best_weights=True)\n",
    "checkpoint_cb = ModelCheckpoint(filepath='./models/best_cp-{epoch:03d}.hdf', monitor='val_loss', save_best_only=True, mode='auto')\n",
    "tensorboard_cb = TensorBoard(log_dir=log_dir, update_freq='batch')\n",
    "\n",
    "callbacks = [tensorboard_cb, earlystopp_cb, lr_schedule_cb]"
   ]
  },
  {
   "cell_type": "markdown",
   "metadata": {},
   "source": [
    "Train the model"
   ]
  },
  {
   "cell_type": "code",
   "execution_count": 11,
   "metadata": {},
   "outputs": [
    {
     "name": "stdout",
     "output_type": "stream",
     "text": [
      "Train for 87 steps, validate for 18 steps\n",
      "\n",
      "Epoch 00001: LearningRateScheduler reducing learning rate to 0.01.\n",
      "Epoch 1/150\n",
      "87/87 [==============================] - 11s 121ms/step - loss: 1.2131 - accuracy: 0.5821 - val_loss: 2.3781 - val_accuracy: 0.1476\n",
      "\n",
      "Epoch 00002: LearningRateScheduler reducing learning rate to 0.006937799043062201.\n",
      "Epoch 2/150\n",
      "87/87 [==============================] - 3s 39ms/step - loss: 0.5687 - accuracy: 0.7773 - val_loss: 2.5032 - val_accuracy: 0.1311\n",
      "\n",
      "Epoch 00003: LearningRateScheduler reducing learning rate to 0.005311355311355312.\n",
      "Epoch 3/150\n",
      "87/87 [==============================] - 3s 39ms/step - loss: 0.3734 - accuracy: 0.8554 - val_loss: 5.8826 - val_accuracy: 0.1111\n",
      "\n",
      "Epoch 00004: LearningRateScheduler reducing learning rate to 0.0043026706231454005.\n",
      "Epoch 4/150\n",
      "87/87 [==============================] - 3s 40ms/step - loss: 0.2587 - accuracy: 0.9080 - val_loss: 6.7502 - val_accuracy: 0.1415\n",
      "\n",
      "Epoch 00005: LearningRateScheduler reducing learning rate to 0.0036159600997506237.\n",
      "Epoch 5/150\n",
      "87/87 [==============================] - 3s 40ms/step - loss: 0.2017 - accuracy: 0.9310 - val_loss: 4.6079 - val_accuracy: 0.1476\n",
      "\n",
      "Epoch 00006: LearningRateScheduler reducing learning rate to 0.0031182795698924733.\n",
      "Epoch 6/150\n",
      "87/87 [==============================] - 3s 40ms/step - loss: 0.1629 - accuracy: 0.9432 - val_loss: 3.1781 - val_accuracy: 0.1337\n",
      "\n",
      "Epoch 00007: LearningRateScheduler reducing learning rate to 0.002741020793950851.\n",
      "Epoch 7/150\n",
      "87/87 [==============================] - 4s 40ms/step - loss: 0.1364 - accuracy: 0.9585 - val_loss: 2.8046 - val_accuracy: 0.1875\n",
      "\n",
      "Epoch 00008: LearningRateScheduler reducing learning rate to 0.0024451939291736933.\n",
      "Epoch 8/150\n",
      "87/87 [==============================] - 3s 39ms/step - loss: 0.1149 - accuracy: 0.9657 - val_loss: 3.1077 - val_accuracy: 0.2405\n",
      "\n",
      "Epoch 00009: LearningRateScheduler reducing learning rate to 0.0022070015220700154.\n",
      "Epoch 9/150\n",
      "87/87 [==============================] - 3s 39ms/step - loss: 0.0936 - accuracy: 0.9745 - val_loss: 3.1597 - val_accuracy: 0.2839\n",
      "\n",
      "Epoch 00010: LearningRateScheduler reducing learning rate to 0.0020110957004160893.\n",
      "Epoch 10/150\n",
      "87/87 [==============================] - 3s 39ms/step - loss: 0.0849 - accuracy: 0.9752 - val_loss: 2.5720 - val_accuracy: 0.3915\n",
      "\n",
      "Epoch 00011: LearningRateScheduler reducing learning rate to 0.0018471337579617835.\n",
      "Epoch 11/150\n",
      "87/87 [==============================] - 4s 41ms/step - loss: 0.0714 - accuracy: 0.9833 - val_loss: 1.5214 - val_accuracy: 0.5668\n",
      "\n",
      "Epoch 00012: LearningRateScheduler reducing learning rate to 0.0017078916372202592.\n",
      "Epoch 12/150\n",
      "87/87 [==============================] - 4s 40ms/step - loss: 0.0565 - accuracy: 0.9878 - val_loss: 0.7647 - val_accuracy: 0.7448\n",
      "\n",
      "Epoch 00013: LearningRateScheduler reducing learning rate to 0.0015881708652792992.\n",
      "Epoch 13/150\n",
      "87/87 [==============================] - 4s 41ms/step - loss: 0.0584 - accuracy: 0.9847 - val_loss: 0.3587 - val_accuracy: 0.8759\n",
      "\n",
      "Epoch 00014: LearningRateScheduler reducing learning rate to 0.0014841351074718527.\n",
      "Epoch 14/150\n",
      "87/87 [==============================] - 3s 40ms/step - loss: 0.0540 - accuracy: 0.9881 - val_loss: 0.2496 - val_accuracy: 0.9236\n",
      "\n",
      "Epoch 00015: LearningRateScheduler reducing learning rate to 0.0013928914505283382.\n",
      "Epoch 15/150\n",
      "87/87 [==============================] - 4s 41ms/step - loss: 0.0536 - accuracy: 0.9878 - val_loss: 0.2145 - val_accuracy: 0.9288\n",
      "\n",
      "Epoch 00016: LearningRateScheduler reducing learning rate to 0.0013122171945701357.\n",
      "Epoch 16/150\n",
      "87/87 [==============================] - 3s 40ms/step - loss: 0.0509 - accuracy: 0.9881 - val_loss: 0.2181 - val_accuracy: 0.9306\n",
      "\n",
      "Epoch 00017: LearningRateScheduler reducing learning rate to 0.001240376390076989.\n",
      "Epoch 17/150\n",
      "87/87 [==============================] - 3s 40ms/step - loss: 0.0482 - accuracy: 0.9885 - val_loss: 0.2205 - val_accuracy: 0.9280\n",
      "\n",
      "Epoch 00018: LearningRateScheduler reducing learning rate to 0.001175993511759935.\n",
      "Epoch 18/150\n",
      "87/87 [==============================] - 3s 39ms/step - loss: 0.0415 - accuracy: 0.9901 - val_loss: 0.2161 - val_accuracy: 0.9314\n",
      "\n",
      "Epoch 00019: LearningRateScheduler reducing learning rate to 0.0011179645335389363.\n",
      "Epoch 19/150\n",
      "87/87 [==============================] - 3s 40ms/step - loss: 0.0381 - accuracy: 0.9937 - val_loss: 0.2207 - val_accuracy: 0.9323\n",
      "\n",
      "Epoch 00020: LearningRateScheduler reducing learning rate to 0.0010653930933137397.\n",
      "Epoch 20/150\n",
      "87/87 [==============================] - 3s 40ms/step - loss: 0.0376 - accuracy: 0.9923 - val_loss: 0.2200 - val_accuracy: 0.9314\n",
      "\n",
      "Epoch 00021: LearningRateScheduler reducing learning rate to 0.0010175438596491228.\n",
      "Epoch 21/150\n",
      "87/87 [==============================] - 3s 39ms/step - loss: 0.0367 - accuracy: 0.9921 - val_loss: 0.2306 - val_accuracy: 0.9245\n",
      "\n",
      "Epoch 00022: LearningRateScheduler reducing learning rate to 0.0009738079247817328.\n",
      "Epoch 22/150\n",
      "87/87 [==============================] - 3s 39ms/step - loss: 0.0368 - accuracy: 0.9928 - val_loss: 0.2233 - val_accuracy: 0.9280\n",
      "\n",
      "Epoch 00023: LearningRateScheduler reducing learning rate to 0.0009336767546683838.\n",
      "Epoch 23/150\n",
      "87/87 [==============================] - 3s 39ms/step - loss: 0.0361 - accuracy: 0.9916 - val_loss: 0.2169 - val_accuracy: 0.9306\n",
      "\n",
      "Epoch 00024: LearningRateScheduler reducing learning rate to 0.0008967223252937539.\n",
      "Epoch 24/150\n",
      "87/87 [==============================] - 3s 40ms/step - loss: 0.0315 - accuracy: 0.9932 - val_loss: 0.2243 - val_accuracy: 0.9288\n",
      "\n",
      "Epoch 00025: LearningRateScheduler reducing learning rate to 0.000862581796549673.\n",
      "Epoch 25/150\n",
      "85/87 [============================>.] - ETA: 0s - loss: 0.0304 - accuracy: 0.9941Restoring model weights from the end of the best epoch.\n",
      "87/87 [==============================] - 4s 42ms/step - loss: 0.0301 - accuracy: 0.9943 - val_loss: 0.2279 - val_accuracy: 0.9280\n",
      "Epoch 00025: early stopping\n"
     ]
    }
   ],
   "source": [
    "history = resnet50_model.fit(\n",
    "    train_ds,\n",
    "    steps_per_epoch = params[\"train_size\"] // config[\"BATCH_SIZE\"],\n",
    "    epochs = config[\"NUM_EPOCHS\"],\n",
    "    validation_data = test_ds,\n",
    "    validation_steps = params[\"test_size\"] // config[\"BATCH_SIZE\"],\n",
    "    validation_freq = 1,\n",
    "    callbacks = callbacks\n",
    ")"
   ]
  },
  {
   "cell_type": "markdown",
   "metadata": {},
   "source": [
    "`Keras`\n",
    "Save/load the model"
   ]
  },
  {
   "cell_type": "code",
   "execution_count": 12,
   "metadata": {},
   "outputs": [],
   "source": [
    "# resnet50_model.save('models/{}.h5'.format(model_name))\n",
    "# resnet50_model = tf.keras.models.load_model('models/{}.h5'.format(model_name))"
   ]
  },
  {
   "cell_type": "markdown",
   "metadata": {},
   "source": [
    "## Evaluate the model"
   ]
  },
  {
   "cell_type": "code",
   "execution_count": 13,
   "metadata": {},
   "outputs": [
    {
     "name": "stdout",
     "output_type": "stream",
     "text": [
      "18/18 - 0s - loss: 0.2093 - accuracy: 0.9253\n"
     ]
    }
   ],
   "source": [
    "resnet50_evaluate = resnet50_model.evaluate(val_ds, verbose=2, steps=params[\"val_size\"] // config[\"BATCH_SIZE\"])"
   ]
  },
  {
   "cell_type": "code",
   "execution_count": 14,
   "metadata": {},
   "outputs": [],
   "source": [
    "acc = history.history['accuracy']\n",
    "val_acc = history.history['val_accuracy']\n",
    "loss = history.history['loss']\n",
    "val_loss = history.history['val_loss']\n",
    "\n",
    "epochs_range = range(history.epoch[-1]+1)"
   ]
  },
  {
   "cell_type": "code",
   "execution_count": 15,
   "metadata": {},
   "outputs": [
    {
     "data": {
      "image/png": "[encoded data removed]",
      "text/plain": [
       "<Figure size 576x432 with 1 Axes>"
      ]
     },
     "metadata": {
      "needs_background": "light"
     },
     "output_type": "display_data"
    }
   ],
   "source": [
    "# Plot the learning rate\n",
    "plt.figure(figsize=(8, 6))\n",
    "plt.plot(epochs_range, history.history['lr'], label='Learning Rate')\n",
    "plt.xlabel('Epoch')\n",
    "plt.ylabel('Learnign rate')\n",
    "plt.title('Adaptive Learning Rate');"
   ]
  },
  {
   "cell_type": "code",
   "execution_count": 16,
   "metadata": {},
   "outputs": [
    {
     "data": {
      "image/png": "[encoded data removed]",
      "text/plain": [
       "<Figure size 1008x432 with 2 Axes>"
      ]
     },
     "metadata": {
      "needs_background": "light"
     },
     "output_type": "display_data"
    }
   ],
   "source": [
    "# Plot train-val accuracy and loss\n",
    "plt.figure(figsize=(14, 6))\n",
    "\n",
    "# Subplot 1\n",
    "plt.subplot(1, 2, 1)\n",
    "plt.plot(epochs_range, acc, label='Training Accuracy')\n",
    "plt.plot(epochs_range, val_acc, label='Validation Accuracy')\n",
    "plt.legend(loc='lower right')\n",
    "# plt.ylim([0.5, 1])\n",
    "plt.xlabel('Epoch')\n",
    "plt.ylabel('Accuracy')\n",
    "plt.title('Training and Validation Accuracy')\n",
    "\n",
    "# Subplot 2\n",
    "plt.subplot(1, 2, 2)\n",
    "plt.plot(epochs_range, loss, label='Training Loss')\n",
    "plt.plot(epochs_range, val_loss, label='Validation Loss')\n",
    "plt.legend(loc='upper right')\n",
    "plt.ylim([0.0, 3])\n",
    "plt.xlabel('Epoch')\n",
    "plt.ylabel('Accuracy')\n",
    "plt.title('Training and Validation Loss')\n",
    "plt.show()"
   ]
  },
  {
   "cell_type": "markdown",
   "metadata": {},
   "source": [
    "### Fine tune the model"
   ]
  },
  {
   "cell_type": "code",
   "execution_count": null,
   "metadata": {},
   "outputs": [],
   "source": [
    "res_net.trainable = True\n",
    "\n",
    "# Let's take a look to see how many layers are in the base model\n",
    "print(\"Number of layers in the base model: \", len(res_net.layers))\n",
    "\n",
    "# Fine-tune from this layer onwards\n",
    "fine_tune_at = fine_tune_at\n",
    "\n",
    "# Freeze all the layers before the `fine_tune_at` layer\n",
    "for layer in res_net.layers[:fine_tune_at]:\n",
    "    layer.trainable = False\n",
    "\n",
    "print(\"Number of layers unfreezed: \", len(resnet50_model.trainable_variables))"
   ]
  },
  {
   "cell_type": "code",
   "execution_count": null,
   "metadata": {},
   "outputs": [],
   "source": [
    "# opt = tf.keras.optimizers.Adam(learning_rate=learning_rate/10)\n",
    "opt = tf.keras.optimizers.SGD(learning_rate=learning_rate/10, momentum=0.9)\n",
    "\n",
    "resnet50_model.compile(\n",
    "    optimizer=opt,\n",
    "    loss='sparse_categorical_crossentropy',\n",
    "    metrics=['accuracy']\n",
    ")"
   ]
  },
  {
   "cell_type": "code",
   "execution_count": null,
   "metadata": {},
   "outputs": [],
   "source": [
    "fine_tune_epochs = fine_tune_epochs\n",
    "total_epochs = history.epoch[-1] + fine_tune_epochs\n",
    "\n",
    "history_fine = resnet50_model.fit(\n",
    "    train_ds,\n",
    "    steps_per_epoch = params[\"train_size\"] // config[\"BATCH_SIZE\"],\n",
    "    epochs = total_epochs,\n",
    "    initial_epoch = history.epoch[-1],\n",
    "    validation_data = test_ds,\n",
    "    validation_steps = params[\"test_size\"] // config[\"BATCH_SIZE\"],\n",
    "    validation_freq = 1,\n",
    "    callbacks = callbacks\n",
    ")"
   ]
  },
  {
   "cell_type": "code",
   "execution_count": null,
   "metadata": {},
   "outputs": [],
   "source": [
    "# For fine-tuning\n",
    "acc += history_fine.history['accuracy']\n",
    "val_acc += history_fine.history['val_accuracy']\n",
    "\n",
    "loss += history_fine.history['loss']\n",
    "val_loss += history_fine.history['val_loss']"
   ]
  },
  {
   "cell_type": "code",
   "execution_count": null,
   "metadata": {},
   "outputs": [],
   "source": [
    "# Subplot 1\n",
    "plt.figure(figsize=(14, 8))\n",
    "plt.subplot(2, 1, 1)\n",
    "plt.plot(acc, label='Training Accuracy')\n",
    "plt.plot(val_acc, label='Validation Accuracy')\n",
    "plt.plot([history.epoch[-1]-1,history.epoch[-1]-1],\n",
    "          plt.ylim(), label='Start Fine Tuning')\n",
    "plt.legend(loc='lower right')\n",
    "plt.title('Training and Validation Accuracy')\n",
    "\n",
    "# Subplot 2\n",
    "plt.subplot(2, 1, 2)\n",
    "plt.plot(loss, label='Training Loss')\n",
    "plt.plot(val_loss, label='Validation Loss')\n",
    "plt.ylim([0, 3.0])\n",
    "plt.plot([history.epoch[-1]-1,history.epoch[-1]-1],\n",
    "         plt.ylim(), label='Start Fine Tuning')\n",
    "plt.legend(loc='upper right')\n",
    "plt.title('Training and Validation Loss')\n",
    "plt.xlabel('epoch')\n",
    "plt.show()\n",
    "\n",
    "print (\"Fine tuning from epoch: \", history.epoch[-1])"
   ]
  },
  {
   "cell_type": "markdown",
   "metadata": {},
   "source": [
    "`Tensorboard`"
   ]
  },
  {
   "cell_type": "code",
   "execution_count": 17,
   "metadata": {},
   "outputs": [
    {
     "data": {
      "text/plain": [
       "Reusing TensorBoard on port 6007 (pid 22109), started 0:14:26 ago. (Use '!kill 22109' to kill it.)"
      ]
     },
     "metadata": {},
     "output_type": "display_data"
    },
    {
     "data": {
      "text/html": [
       "\n",
       "      <iframe id=\"tensorboard-frame-879ce736ae790cca\" width=\"100%\" height=\"800\" frameborder=\"0\">\n",
       "      </iframe>\n",
       "      <script>\n",
       "        (function() {\n",
       "          const frame = document.getElementById(\"tensorboard-frame-879ce736ae790cca\");\n",
       "          const url = new URL(\"/\", window.location);\n",
       "          url.port = 6007;\n",
       "          frame.src = url;\n",
       "        })();\n",
       "      </script>\n",
       "  "
      ],
      "text/plain": [
       "<IPython.core.display.HTML object>"
      ]
     },
     "metadata": {},
     "output_type": "display_data"
    },
    {
     "name": "stdout",
     "output_type": "stream",
     "text": [
      "Known TensorBoard instances:\n",
      "  - port 6006: logdir logs (started 17:59:20 ago; pid 12596)\n",
      "  - port 6007: logdir logs (started 0:14:26 ago; pid 22109)\n"
     ]
    }
   ],
   "source": [
    "from tensorboard import notebook\n",
    "# Load the TensorBoard notebook extension\n",
    "%load_ext tensorboard\n",
    "\n",
    "# Start tensorboard\n",
    "%tensorboard --logdir logs\n",
    "\n",
    "notebook.list()"
   ]
  },
  {
   "cell_type": "markdown",
   "metadata": {},
   "source": [
    "## Predict new samples"
   ]
  },
  {
   "cell_type": "code",
   "execution_count": null,
   "metadata": {},
   "outputs": [],
   "source": [
    "# Fetch one batch\n",
    "images, labels = next(iter(val_ds))\n",
    "\n",
    "# Convert from tensor to numpy array\n",
    "images = images.numpy()\n",
    "labels = labels.numpy()"
   ]
  },
  {
   "cell_type": "code",
   "execution_count": null,
   "metadata": {},
   "outputs": [],
   "source": [
    "# Get a random image and label\n",
    "rand = np.random.randint(0, config[\"BATCH_SIZE\"])\n",
    "image = images[rand]\n",
    "label = labels[rand]\n",
    "\n",
    "# Predict one image\n",
    "predictions = resnet50_model.predict(np.expand_dims(image, axis=0))[0]\n",
    "\n",
    "for i, pred in enumerate(predictions):\n",
    "    print(\"{:0.4f} {}\".format(pred,params[\"class_names\"][i]))\n",
    "\n",
    "print (\"\\nLabel:\", params[\"class_names\"][label])\n",
    "print (\"Predicton:\", params[\"class_names\"][np.argmax(predictions)])\n",
    "\n",
    "plt.figure(frameon=False, facecolor='white')\n",
    "plt.imshow(image)\n",
    "plt.axis('off');"
   ]
  },
  {
   "cell_type": "code",
   "execution_count": null,
   "metadata": {},
   "outputs": [],
   "source": [
    "# Predict one batch\n",
    "predictions = resnet50_model.predict(images)\n",
    "\n",
    "print ('{:3}  {:<25} {:25}'.format('idx', 'label', 'pred'))\n",
    "print ('---  {} {}'.format(25*'-', 25*'-'), end='')\n",
    "\n",
    "# make a list to store the wrong predictions\n",
    "wrong_predictions = []\n",
    "\n",
    "for i, pred in enumerate(predictions):\n",
    "    label = params[\"class_names\"][labels[i]]\n",
    "    prediction = params[\"class_names\"][np.argmax(pred)]\n",
    "    print ('\\n{:3}  {:25} {:25}'.format(i, label, prediction), end='')\n",
    "    if (label != prediction): \n",
    "        print (\"  Wrong\", end='')\n",
    "        wrong_predictions.append(i)"
   ]
  },
  {
   "cell_type": "code",
   "execution_count": null,
   "metadata": {},
   "outputs": [],
   "source": [
    "# Print info about wrong predictions\n",
    "print(\"List of wrong predictions from batch:\" ,wrong_predictions)\n",
    "color_string = \"\\x1b[31m{:0.4f} {}\\x1b[0m\"\n",
    "\n",
    "for i, wrong_pred in enumerate(wrong_predictions):\n",
    "    # Get a random image and label\n",
    "    rand = wrong_pred\n",
    "    image = images[rand]\n",
    "    label = labels[rand]\n",
    "    \n",
    "    # Predict one image\n",
    "    predictions = resnet50_model.predict(np.expand_dims(image, axis=0))[0]\n",
    "    pred_label = np.argmax(predictions)\n",
    "    \n",
    "    print (\"\\n\\nLabel:\", params[\"class_names\"][label])\n",
    "    print (\"Predicton:\", params[\"class_names\"][pred_label])\n",
    "    print (\"-------------------------------------\")\n",
    "    for i, pred in enumerate(predictions):\n",
    "        # print in colors\n",
    "        if i == pred_label:\n",
    "            print(color_string.format(pred, params[\"class_names\"][i]))\n",
    "        else:\n",
    "            print(\"{:0.4f} {}\".format(pred,params[\"class_names\"][i]))\n",
    "\n",
    "#     plt.figure(frameon=False, facecolor='white')\n",
    "#     plt.imshow(image)\n",
    "#     plt.axis('off');"
   ]
  }
 ],
 "metadata": {
  "kernelspec": {
   "display_name": "TF2",
   "language": "python",
   "name": "tf2"
  },
  "language_info": {
   "codemirror_mode": {
    "name": "ipython",
    "version": 3
   },
   "file_extension": ".py",
   "mimetype": "text/x-python",
   "name": "python",
   "nbconvert_exporter": "python",
   "pygments_lexer": "ipython3",
   "version": "3.7.6"
  }
 },
 "nbformat": 4,
 "nbformat_minor": 4
}
