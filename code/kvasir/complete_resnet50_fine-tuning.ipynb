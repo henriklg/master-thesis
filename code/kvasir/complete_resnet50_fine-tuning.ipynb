{
 "cells": [
  {
   "cell_type": "markdown",
   "metadata": {},
   "source": [
    "Kvasir V2 dataset trained on all classes with resnet50 without augmentation.  \n",
    "- Fine tuning by unfreezing some layers (get aprox 80% accuracy)"
   ]
  },
  {
   "cell_type": "markdown",
   "metadata": {},
   "source": [
    "### Loading images\n",
    "https://www.tensorflow.org/tutorials/load_data/images"
   ]
  },
  {
   "cell_type": "markdown",
   "metadata": {},
   "source": [
    "## Training"
   ]
  },
  {
   "cell_type": "code",
   "execution_count": 1,
   "metadata": {},
   "outputs": [],
   "source": [
    "from __future__ import absolute_import, division, print_function, unicode_literals\n",
    "\n",
    "import tensorflow as tf\n",
    "\n",
    "import numpy as np\n",
    "import os\n",
    "import pathlib\n",
    "import matplotlib.pyplot as plt\n",
    "\n",
    "# Some stuff to make utils-function work\n",
    "import sys\n",
    "sys.path.append('/home/henrik/master_thesis/code/utils')\n",
    "from data_prep import create_dataset, print_class_info, show_image\n",
    "%load_ext autoreload\n",
    "%autoreload 2\n",
    "\n",
    "# Jupyter-specific\n",
    "%matplotlib inline"
   ]
  },
  {
   "cell_type": "markdown",
   "metadata": {},
   "source": [
    "Some parameters"
   ]
  },
  {
   "cell_type": "code",
   "execution_count": 2,
   "metadata": {},
   "outputs": [],
   "source": [
    "data_dir = pathlib.Path('/mnt/sdb/kvasir-dataset-v2/')\n",
    "\n",
    "config = {\n",
    "    \"data_dir\": data_dir,\n",
    "    \"cache_dir\": \"./cache\",\n",
    "    \"MODEL\": 'resnet50',\n",
    "    \"DS_INFO\": 'complete',\n",
    "    \"resample\": False,\n",
    "    \"neg_class\": ['polyp'],\n",
    "    \"NUM_EPOCHS\": 30,\n",
    "    \"BATCH_SIZE\": 64,\n",
    "    \"IMG_SIZE\": (32, 32, 3),\n",
    "    \"outcast\": None,\n",
    "    \"verbosity\": 1\n",
    "    }\n",
    "\n",
    "model_name = '{}x{}x{}_{}_{}'.format(config[\"NUM_EPOCHS\"], config[\"BATCH_SIZE\"], \n",
    "                                     config[\"IMG_SIZE\"][1], config[\"DS_INFO\"], config[\"MODEL\"])\n",
    "\n",
    "learning_rate = 0.01\n",
    "fine_tune_at = 130\n",
    "fine_tune_epochs = 15"
   ]
  },
  {
   "cell_type": "markdown",
   "metadata": {},
   "source": [
    "Create training, testing and validation dataset from utils/data_prep.py"
   ]
  },
  {
   "cell_type": "code",
   "execution_count": 3,
   "metadata": {},
   "outputs": [
    {
     "name": "stdout",
     "output_type": "stream",
     "text": [
      "Directories:  ['esophagitis' 'normal-pylorus' 'ulcerative-colitis' 'normal-cecum'\n",
      " 'normal-z-line' 'polyps' 'dyed-resection-margins' 'dyed-lifted-polyps']\n",
      "\n",
      "esophagitis       : 1000\n",
      "normal-pylorus    : 1000\n",
      "ulcerative-colitis: 1000\n",
      "normal-cecum      : 1000\n",
      "normal-z-line     : 1000\n",
      "polyps            : 1000\n",
      "dyed-resection-margins: 1000\n",
      "dyed-lifted-polyps: 1000\n",
      "\n",
      "Total number of images: 8000, in 8 classes\n",
      "Dataset.list_files:  /mnt/sdb/kvasir-dataset-v2/*/*.*g \n",
      "\n",
      "WARNING:tensorflow:Entity <function create_dataset.<locals>.get_label at 0x7f3501ad6680> could not be transformed and will be executed as-is. Please report this to the AutoGraph team. When filing the bug, set the verbosity to 10 (on Linux, `export AUTOGRAPH_VERBOSITY=10`) and attach the full output. Cause: Cell is empty\n",
      "WARNING: Entity <function create_dataset.<locals>.get_label at 0x7f3501ad6680> could not be transformed and will be executed as-is. Please report this to the AutoGraph team. When filing the bug, set the verbosity to 10 (on Linux, `export AUTOGRAPH_VERBOSITY=10`) and attach the full output. Cause: Cell is empty\n",
      "[0 4 0 7 3 5 4 2 0 6]\n",
      "[3 3 6 1 5 0 0 1 7 5]\n",
      "[6 2 7 3 7 0 5 6 5 2]\n",
      "[5 4 7 0 1 1 4 5 4 2]\n",
      "[2 0 5 3 1 5 5 7 5 5]\n",
      "[2 3 2 0 1 4 5 7 4 0]\n",
      "[7 1 0 4 6 5 2 2 7 0]\n",
      "[2 2 1 1 6 3 5 5 2 2]\n",
      "[6 7 5 1 6 1 7 1 3 1]\n",
      "[6 0 2 4 5 1 0 5 5 2]\n",
      "\n",
      "Full dataset sample size:         8000\n",
      "Train dataset sample size:        5600\n",
      "Test dataset sample size:         1200\n",
      "Validation dataset sample size:   1200\n"
     ]
    }
   ],
   "source": [
    "train_ds, test_ds, val_ds, params = create_dataset(config)"
   ]
  },
  {
   "cell_type": "markdown",
   "metadata": {},
   "source": [
    "### Resnet50 transfer learning\n",
    "see: https://adventuresinmachinelearning.com/transfer-learning-tensorflow-2/  \n",
    "fine-tuning: https://www.tensorflow.org/tutorials/images/transfer_learning"
   ]
  },
  {
   "cell_type": "code",
   "execution_count": 4,
   "metadata": {},
   "outputs": [],
   "source": [
    "from tensorflow.python.keras.applications import ResNet50\n",
    "from tensorflow.python.keras.models import Sequential\n",
    "from tensorflow.keras import layers"
   ]
  },
  {
   "cell_type": "markdown",
   "metadata": {},
   "source": [
    "Create and compile the model"
   ]
  },
  {
   "cell_type": "code",
   "execution_count": 5,
   "metadata": {},
   "outputs": [],
   "source": [
    "res_net = tf.keras.applications.ResNet50(\n",
    "    weights='imagenet', \n",
    "    include_top=False, \n",
    "    input_shape=config[\"IMG_SIZE\"]\n",
    ")"
   ]
  },
  {
   "cell_type": "code",
   "execution_count": 6,
   "metadata": {},
   "outputs": [],
   "source": [
    "res_net.trainable = True\n",
    "\n",
    "global_average_layer = layers.GlobalAveragePooling2D()\n",
    "output_layer = layers.Dense(params[\"NUM_CLASSES\"], activation='softmax')\n",
    "\n",
    "resnet50_model = tf.keras.Sequential([\n",
    "        res_net,\n",
    "        global_average_layer,\n",
    "        output_layer])"
   ]
  },
  {
   "cell_type": "code",
   "execution_count": 7,
   "metadata": {},
   "outputs": [
    {
     "name": "stdout",
     "output_type": "stream",
     "text": [
      "Model: \"sequential\"\n",
      "_________________________________________________________________\n",
      "Layer (type)                 Output Shape              Param #   \n",
      "=================================================================\n",
      "resnet50 (Model)             (None, 1, 1, 2048)        23587712  \n",
      "_________________________________________________________________\n",
      "global_average_pooling2d (Gl (None, 2048)              0         \n",
      "_________________________________________________________________\n",
      "dense (Dense)                (None, 8)                 16392     \n",
      "=================================================================\n",
      "Total params: 23,604,104\n",
      "Trainable params: 23,550,984\n",
      "Non-trainable params: 53,120\n",
      "_________________________________________________________________\n"
     ]
    }
   ],
   "source": [
    "if config[\"verbosity\"] > 0:\n",
    "    resnet50_model.summary()"
   ]
  },
  {
   "cell_type": "raw",
   "metadata": {},
   "source": [
    "# Save image of layers\n",
    "tf.keras.utils.plot_model(resnet50_model, 'models/{}.png'.format(model_name), show_shapes=True)"
   ]
  },
  {
   "cell_type": "code",
   "execution_count": 8,
   "metadata": {},
   "outputs": [],
   "source": [
    "# opt = tf.keras.optimizers.Adam(learning_rate=learning_rate)\n",
    "opt = tf.keras.optimizers.SGD(learning_rate=learning_rate, momentum=0.9)\n",
    "\n",
    "resnet50_model.compile(\n",
    "    optimizer=opt,\n",
    "    loss='sparse_categorical_crossentropy',\n",
    "    metrics=['accuracy']\n",
    ")\n",
    "\n",
    "tensorboard_cb = tf.keras.callbacks.TensorBoard(log_dir='./logs/resnet50_model', update_freq='batch')\n",
    "callbacks = [tensorboard_cb]"
   ]
  },
  {
   "cell_type": "markdown",
   "metadata": {},
   "source": [
    "Train the model"
   ]
  },
  {
   "cell_type": "code",
   "execution_count": 9,
   "metadata": {},
   "outputs": [
    {
     "name": "stdout",
     "output_type": "stream",
     "text": [
      "Train for 87 steps, validate for 18 steps\n",
      "Epoch 1/30\n",
      "87/87 [==============================] - 11s 127ms/step - loss: 1.4743 - accuracy: 0.5724 - val_loss: 4.4144 - val_accuracy: 0.1189\n",
      "Epoch 2/30\n",
      "87/87 [==============================] - 3s 40ms/step - loss: 0.9248 - accuracy: 0.6746 - val_loss: 3.7082 - val_accuracy: 0.1224\n",
      "Epoch 3/30\n",
      "87/87 [==============================] - 4s 40ms/step - loss: 0.9638 - accuracy: 0.6611 - val_loss: 3.0450 - val_accuracy: 0.1285\n",
      "Epoch 4/30\n",
      "87/87 [==============================] - 4s 41ms/step - loss: 0.7313 - accuracy: 0.7024 - val_loss: 3.2337 - val_accuracy: 0.1293\n",
      "Epoch 5/30\n",
      "87/87 [==============================] - 4s 41ms/step - loss: 0.7045 - accuracy: 0.7195 - val_loss: 3.6986 - val_accuracy: 0.1285\n",
      "Epoch 6/30\n",
      "87/87 [==============================] - 4s 41ms/step - loss: 0.6895 - accuracy: 0.7073 - val_loss: 6.2836 - val_accuracy: 0.1259\n",
      "Epoch 7/30\n",
      "87/87 [==============================] - 4s 41ms/step - loss: 0.7584 - accuracy: 0.7281 - val_loss: 3.4684 - val_accuracy: 0.1432\n",
      "Epoch 8/30\n",
      "87/87 [==============================] - 4s 40ms/step - loss: 1.2517 - accuracy: 0.6149 - val_loss: 2.6914 - val_accuracy: 0.4332\n",
      "Epoch 9/30\n",
      "87/87 [==============================] - 4s 41ms/step - loss: 1.2759 - accuracy: 0.6087 - val_loss: 12.5802 - val_accuracy: 0.3359\n",
      "Epoch 10/30\n",
      "87/87 [==============================] - 4s 41ms/step - loss: 1.1285 - accuracy: 0.6782 - val_loss: 603.5316 - val_accuracy: 0.4028\n",
      "Epoch 11/30\n",
      "87/87 [==============================] - 4s 41ms/step - loss: 1.1428 - accuracy: 0.6453 - val_loss: 2.9854 - val_accuracy: 0.5312\n",
      "Epoch 12/30\n",
      "87/87 [==============================] - 4s 41ms/step - loss: 0.7250 - accuracy: 0.6868 - val_loss: 0.7338 - val_accuracy: 0.6554\n",
      "Epoch 13/30\n",
      "87/87 [==============================] - 4s 41ms/step - loss: 0.6134 - accuracy: 0.7241 - val_loss: 0.6483 - val_accuracy: 0.6918\n",
      "Epoch 14/30\n",
      "87/87 [==============================] - 4s 40ms/step - loss: 0.5838 - accuracy: 0.7372 - val_loss: 0.6949 - val_accuracy: 0.6753\n",
      "Epoch 15/30\n",
      "87/87 [==============================] - 4s 41ms/step - loss: 0.5627 - accuracy: 0.7444 - val_loss: 0.6019 - val_accuracy: 0.7326\n",
      "Epoch 16/30\n",
      "87/87 [==============================] - 3s 40ms/step - loss: 0.5301 - accuracy: 0.7624 - val_loss: 0.6238 - val_accuracy: 0.7031\n",
      "Epoch 17/30\n",
      "87/87 [==============================] - 4s 40ms/step - loss: 0.5009 - accuracy: 0.7663 - val_loss: 0.5899 - val_accuracy: 0.7075\n",
      "Epoch 18/30\n",
      "87/87 [==============================] - 4s 41ms/step - loss: 0.5198 - accuracy: 0.7579 - val_loss: 0.5811 - val_accuracy: 0.7196\n",
      "Epoch 19/30\n",
      "87/87 [==============================] - 4s 41ms/step - loss: 0.4984 - accuracy: 0.7850 - val_loss: 0.4659 - val_accuracy: 0.7873\n",
      "Epoch 20/30\n",
      "87/87 [==============================] - 4s 41ms/step - loss: 0.4600 - accuracy: 0.7953 - val_loss: 0.4841 - val_accuracy: 0.7821\n",
      "Epoch 21/30\n",
      "87/87 [==============================] - 4s 40ms/step - loss: 0.4292 - accuracy: 0.8116 - val_loss: 0.4974 - val_accuracy: 0.7769\n",
      "Epoch 22/30\n",
      "87/87 [==============================] - 3s 40ms/step - loss: 0.4318 - accuracy: 0.8168 - val_loss: 0.5081 - val_accuracy: 0.7778\n",
      "Epoch 23/30\n",
      "87/87 [==============================] - 4s 41ms/step - loss: 0.4118 - accuracy: 0.8184 - val_loss: 0.4102 - val_accuracy: 0.8177\n",
      "Epoch 24/30\n",
      "87/87 [==============================] - 4s 41ms/step - loss: 0.3869 - accuracy: 0.8312 - val_loss: 0.4508 - val_accuracy: 0.8056\n",
      "Epoch 25/30\n",
      "87/87 [==============================] - 4s 40ms/step - loss: 0.3590 - accuracy: 0.8436 - val_loss: 0.6653 - val_accuracy: 0.7804\n",
      "Epoch 26/30\n",
      "87/87 [==============================] - 4s 40ms/step - loss: 0.3339 - accuracy: 0.8551 - val_loss: 0.3654 - val_accuracy: 0.8464\n",
      "Epoch 27/30\n",
      "87/87 [==============================] - 3s 40ms/step - loss: 0.3347 - accuracy: 0.8590 - val_loss: 0.5558 - val_accuracy: 0.7821\n",
      "Epoch 28/30\n",
      "87/87 [==============================] - 4s 40ms/step - loss: 0.3081 - accuracy: 0.8705 - val_loss: 0.4580 - val_accuracy: 0.8203\n",
      "Epoch 29/30\n",
      "87/87 [==============================] - 4s 40ms/step - loss: 0.2862 - accuracy: 0.8806 - val_loss: 0.6675 - val_accuracy: 0.7708\n",
      "Epoch 30/30\n",
      "87/87 [==============================] - 4s 40ms/step - loss: 0.2702 - accuracy: 0.8858 - val_loss: 0.6629 - val_accuracy: 0.7908\n"
     ]
    }
   ],
   "source": [
    "history = resnet50_model.fit(\n",
    "    train_ds,\n",
    "    steps_per_epoch = params[\"train_size\"] // config[\"BATCH_SIZE\"],\n",
    "    epochs = config[\"NUM_EPOCHS\"],\n",
    "    validation_data = test_ds,\n",
    "    validation_steps = params[\"test_size\"] // config[\"BATCH_SIZE\"],\n",
    "    validation_freq = 1,\n",
    "    callbacks = callbacks\n",
    ")"
   ]
  },
  {
   "cell_type": "markdown",
   "metadata": {},
   "source": [
    "`Keras`\n",
    "Save/load the model"
   ]
  },
  {
   "cell_type": "code",
   "execution_count": 10,
   "metadata": {},
   "outputs": [],
   "source": [
    "# resnet50_model.save('models/{}.h5'.format(model_name))\n",
    "# resnet50_model = tf.keras.models.load_model('models/{}.h5'.format(model_name))"
   ]
  },
  {
   "cell_type": "markdown",
   "metadata": {},
   "source": [
    "## Evaluate the model"
   ]
  },
  {
   "cell_type": "code",
   "execution_count": 11,
   "metadata": {},
   "outputs": [
    {
     "name": "stdout",
     "output_type": "stream",
     "text": [
      "18/18 - 0s - loss: 0.6838 - accuracy: 0.7986\n"
     ]
    }
   ],
   "source": [
    "resnet50_evaluate = resnet50_model.evaluate(val_ds, verbose=2, steps=params[\"val_size\"] // config[\"BATCH_SIZE\"])"
   ]
  },
  {
   "cell_type": "code",
   "execution_count": 12,
   "metadata": {},
   "outputs": [],
   "source": [
    "acc = history.history['accuracy']\n",
    "val_acc = history.history['val_accuracy']\n",
    "loss = history.history['loss']\n",
    "val_loss = history.history['val_loss']\n",
    "\n",
    "epochs_range = range(config[\"NUM_EPOCHS\"])"
   ]
  },
  {
   "cell_type": "code",
   "execution_count": 13,
   "metadata": {},
   "outputs": [
    {
     "data": {
      "image/png": "[encoded data removed]",
      "text/plain": [
       "<Figure size 1008x432 with 2 Axes>"
      ]
     },
     "metadata": {
      "needs_background": "light"
     },
     "output_type": "display_data"
    }
   ],
   "source": [
    "plt.figure(figsize=(14, 6))\n",
    "\n",
    "# Subplot 1\n",
    "plt.subplot(1, 2, 1)\n",
    "plt.plot(epochs_range, acc, label='Training Accuracy')\n",
    "plt.plot(epochs_range, val_acc, label='Validation Accuracy')\n",
    "plt.legend(loc='lower right')\n",
    "plt.xlabel('Epoch')\n",
    "plt.ylabel('Accuracy')\n",
    "plt.title('Training and Validation Accuracy')\n",
    "\n",
    "# Subplot 2\n",
    "plt.subplot(1, 2, 2)\n",
    "plt.plot(epochs_range, loss, label='Training Loss')\n",
    "plt.plot(epochs_range, val_loss, label='Validation Loss')\n",
    "plt.legend(loc='upper right')\n",
    "plt.ylim([0.5, 3])\n",
    "plt.xlabel('Epoch')\n",
    "plt.ylabel('Accuracy')\n",
    "plt.title('Training and Validation Loss')\n",
    "plt.show()"
   ]
  },
  {
   "cell_type": "markdown",
   "metadata": {},
   "source": [
    "### Fine tune the model"
   ]
  },
  {
   "cell_type": "code",
   "execution_count": 14,
   "metadata": {},
   "outputs": [
    {
     "name": "stdout",
     "output_type": "stream",
     "text": [
      "Number of layers in the base model:  175\n",
      "Number of layers unfreezed:  56\n"
     ]
    }
   ],
   "source": [
    "res_net.trainable = True\n",
    "\n",
    "# Let's take a look to see how many layers are in the base model\n",
    "print(\"Number of layers in the base model: \", len(res_net.layers))\n",
    "\n",
    "# Fine-tune from this layer onwards\n",
    "fine_tune_at = fine_tune_at\n",
    "\n",
    "# Freeze all the layers before the `fine_tune_at` layer\n",
    "for layer in res_net.layers[:fine_tune_at]:\n",
    "    layer.trainable = False\n",
    "\n",
    "print(\"Number of layers unfreezed: \", len(resnet50_model.trainable_variables))"
   ]
  },
  {
   "cell_type": "code",
   "execution_count": 15,
   "metadata": {},
   "outputs": [],
   "source": [
    "# opt = tf.keras.optimizers.Adam(learning_rate=learning_rate/10)\n",
    "opt = tf.keras.optimizers.SGD(learning_rate=learning_rate/10, momentum=0.9)\n",
    "\n",
    "resnet50_model.compile(\n",
    "    optimizer=opt,\n",
    "    loss='sparse_categorical_crossentropy',\n",
    "    metrics=['accuracy']\n",
    ")"
   ]
  },
  {
   "cell_type": "code",
   "execution_count": 16,
   "metadata": {},
   "outputs": [
    {
     "name": "stdout",
     "output_type": "stream",
     "text": [
      "Train for 87 steps, validate for 18 steps\n",
      "Epoch 30/45\n",
      "87/87 [==============================] - 7s 82ms/step - loss: 0.3049 - accuracy: 0.8852 - val_loss: 6.0655 - val_accuracy: 0.7057\n",
      "Epoch 31/45\n",
      "87/87 [==============================] - 3s 30ms/step - loss: 0.2475 - accuracy: 0.9061 - val_loss: 1.7257 - val_accuracy: 0.7665\n",
      "Epoch 32/45\n",
      "87/87 [==============================] - 3s 30ms/step - loss: 0.2525 - accuracy: 0.9089 - val_loss: 36.8679 - val_accuracy: 0.6189\n",
      "Epoch 33/45\n",
      "87/87 [==============================] - 3s 31ms/step - loss: 0.2450 - accuracy: 0.9045 - val_loss: 1.8315 - val_accuracy: 0.7847\n",
      "Epoch 34/45\n",
      "87/87 [==============================] - 3s 31ms/step - loss: 0.2207 - accuracy: 0.9210 - val_loss: 0.7974 - val_accuracy: 0.8203\n",
      "Epoch 35/45\n",
      "87/87 [==============================] - 3s 31ms/step - loss: 0.2142 - accuracy: 0.9192 - val_loss: 0.7181 - val_accuracy: 0.8411\n",
      "Epoch 36/45\n",
      "87/87 [==============================] - 3s 31ms/step - loss: 0.1962 - accuracy: 0.9208 - val_loss: 0.5925 - val_accuracy: 0.8516\n",
      "Epoch 37/45\n",
      "87/87 [==============================] - 3s 30ms/step - loss: 0.1958 - accuracy: 0.9262 - val_loss: 0.7274 - val_accuracy: 0.8316\n",
      "Epoch 38/45\n",
      "87/87 [==============================] - 3s 31ms/step - loss: 0.1923 - accuracy: 0.9256 - val_loss: 0.6608 - val_accuracy: 0.8438\n",
      "Epoch 39/45\n",
      "87/87 [==============================] - 3s 30ms/step - loss: 0.1906 - accuracy: 0.9282 - val_loss: 0.7710 - val_accuracy: 0.8325\n",
      "Epoch 40/45\n",
      "87/87 [==============================] - 3s 31ms/step - loss: 0.1777 - accuracy: 0.9292 - val_loss: 0.7178 - val_accuracy: 0.8186\n",
      "Epoch 41/45\n",
      "87/87 [==============================] - 3s 30ms/step - loss: 0.1588 - accuracy: 0.9400 - val_loss: 0.7381 - val_accuracy: 0.8403\n",
      "Epoch 42/45\n",
      "87/87 [==============================] - 3s 30ms/step - loss: 0.1611 - accuracy: 0.9346 - val_loss: 0.8441 - val_accuracy: 0.8194\n",
      "Epoch 43/45\n",
      "87/87 [==============================] - 3s 31ms/step - loss: 0.1686 - accuracy: 0.9379 - val_loss: 0.8719 - val_accuracy: 0.8325\n",
      "Epoch 44/45\n",
      "87/87 [==============================] - 3s 31ms/step - loss: 0.1693 - accuracy: 0.9334 - val_loss: 0.8006 - val_accuracy: 0.8316\n",
      "Epoch 45/45\n",
      "87/87 [==============================] - 3s 30ms/step - loss: 0.1651 - accuracy: 0.9330 - val_loss: 0.8956 - val_accuracy: 0.8151\n"
     ]
    }
   ],
   "source": [
    "fine_tune_epochs = fine_tune_epochs\n",
    "total_epochs = config[\"NUM_EPOCHS\"] + fine_tune_epochs\n",
    "\n",
    "history_fine = resnet50_model.fit(\n",
    "    train_ds,\n",
    "    steps_per_epoch = params[\"train_size\"] // config[\"BATCH_SIZE\"],\n",
    "    epochs = total_epochs,\n",
    "    initial_epoch = history.epoch[-1],\n",
    "    validation_data = test_ds,\n",
    "    validation_steps = params[\"test_size\"] // config[\"BATCH_SIZE\"],\n",
    "    validation_freq = 1,\n",
    "    callbacks = callbacks\n",
    ")"
   ]
  },
  {
   "cell_type": "code",
   "execution_count": 17,
   "metadata": {},
   "outputs": [],
   "source": [
    "# For fine-tuning\n",
    "acc += history_fine.history['accuracy']\n",
    "val_acc += history_fine.history['val_accuracy']\n",
    "\n",
    "loss += history_fine.history['loss']\n",
    "val_loss += history_fine.history['val_loss']"
   ]
  },
  {
   "cell_type": "code",
   "execution_count": 18,
   "metadata": {},
   "outputs": [
    {
     "data": {
      "image/png": "[encoded data removed]",
      "text/plain": [
       "<Figure size 1008x576 with 2 Axes>"
      ]
     },
     "metadata": {
      "needs_background": "light"
     },
     "output_type": "display_data"
    }
   ],
   "source": [
    "# Subplot 1\n",
    "plt.figure(figsize=(14, 8))\n",
    "plt.subplot(2, 1, 1)\n",
    "plt.plot(acc, label='Training Accuracy')\n",
    "plt.plot(val_acc, label='Validation Accuracy')\n",
    "plt.plot([config[\"NUM_EPOCHS\"]-1,config[\"NUM_EPOCHS\"]-1],\n",
    "          plt.ylim(), label='Start Fine Tuning')\n",
    "plt.legend(loc='lower right')\n",
    "plt.title('Training and Validation Accuracy')\n",
    "\n",
    "# Subplot 2\n",
    "plt.subplot(2, 1, 2)\n",
    "plt.plot(loss, label='Training Loss')\n",
    "plt.plot(val_loss, label='Validation Loss')\n",
    "plt.ylim([0, 3.0])\n",
    "plt.plot([config[\"NUM_EPOCHS\"]-1,config[\"NUM_EPOCHS\"]-1],\n",
    "         plt.ylim(), label='Start Fine Tuning')\n",
    "plt.legend(loc='upper right')\n",
    "plt.title('Training and Validation Loss')\n",
    "plt.xlabel('epoch')\n",
    "plt.show()"
   ]
  },
  {
   "cell_type": "markdown",
   "metadata": {},
   "source": [
    "`Tensorboard`"
   ]
  },
  {
   "cell_type": "raw",
   "metadata": {},
   "source": [
    "from tensorboard import notebook\n",
    "# Load the TensorBoard notebook extension\n",
    "# %load_ext tensorboard\n",
    "\n",
    "# Start tensorboard\n",
    "# %tensorboard --logdir logs"
   ]
  },
  {
   "cell_type": "raw",
   "metadata": {},
   "source": [
    "# Clear any logs from previous runs (move to .old instead?)\n",
    "!rm -rf ./logs/\n",
    "\n",
    "# Stop tensorboard\n",
    "notebook.list()\n",
    "!kill 20058"
   ]
  },
  {
   "cell_type": "markdown",
   "metadata": {},
   "source": [
    "## Predict new samples"
   ]
  },
  {
   "cell_type": "code",
   "execution_count": 19,
   "metadata": {},
   "outputs": [],
   "source": [
    "# Fetch one batch\n",
    "images, labels = next(iter(val_ds))\n",
    "\n",
    "# Convert from tensor to numpy array\n",
    "images = images.numpy()\n",
    "labels = labels.numpy()"
   ]
  },
  {
   "cell_type": "code",
   "execution_count": 20,
   "metadata": {},
   "outputs": [
    {
     "name": "stdout",
     "output_type": "stream",
     "text": [
      "0.0000 esophagitis\n",
      "0.0000 normal-pylorus\n",
      "0.0000 ulcerative-colitis\n",
      "1.0000 normal-cecum\n",
      "0.0000 normal-z-line\n",
      "0.0000 polyps\n",
      "0.0000 dyed-resection-margins\n",
      "0.0000 dyed-lifted-polyps\n",
      "\n",
      "Label: normal-cecum\n",
      "Predicton: normal-cecum\n"
     ]
    },
    {
     "data": {
      "image/png": "[encoded data removed]",
      "text/plain": [
       "<Figure size 432x288 with 1 Axes>"
      ]
     },
     "metadata": {},
     "output_type": "display_data"
    }
   ],
   "source": [
    "# Get a random image and label\n",
    "rand = np.random.randint(0, config[\"BATCH_SIZE\"])\n",
    "image = images[rand]\n",
    "label = labels[rand]\n",
    "\n",
    "# Predict one image\n",
    "predictions = resnet50_model.predict(np.expand_dims(image, axis=0))[0]\n",
    "\n",
    "for i, pred in enumerate(predictions):\n",
    "    print(\"{:0.4f} {}\".format(pred,params[\"class_names\"][i]))\n",
    "\n",
    "print (\"\\nLabel:\", params[\"class_names\"][label])\n",
    "print (\"Predicton:\", params[\"class_names\"][np.argmax(predictions)])\n",
    "\n",
    "plt.figure(frameon=False, facecolor='white')\n",
    "plt.imshow(image)\n",
    "plt.axis('off');"
   ]
  },
  {
   "cell_type": "code",
   "execution_count": 21,
   "metadata": {},
   "outputs": [
    {
     "name": "stdout",
     "output_type": "stream",
     "text": [
      "idx  label                     pred                     \n",
      "---  ------------------------- -------------------------\n",
      "  0  normal-cecum              normal-cecum             \n",
      "  1  dyed-lifted-polyps        dyed-lifted-polyps       \n",
      "  2  esophagitis               esophagitis              \n",
      "  3  dyed-lifted-polyps        dyed-lifted-polyps       \n",
      "  4  polyps                    polyps                   \n",
      "  5  dyed-lifted-polyps        dyed-lifted-polyps       \n",
      "  6  polyps                    polyps                   \n",
      "  7  dyed-lifted-polyps        dyed-lifted-polyps       \n",
      "  8  polyps                    polyps                   \n",
      "  9  dyed-lifted-polyps        dyed-lifted-polyps       \n",
      " 10  dyed-lifted-polyps        dyed-lifted-polyps       \n",
      " 11  polyps                    normal-cecum               Wrong\n",
      " 12  ulcerative-colitis        ulcerative-colitis       \n",
      " 13  dyed-lifted-polyps        dyed-lifted-polyps       \n",
      " 14  dyed-lifted-polyps        dyed-lifted-polyps       \n",
      " 15  ulcerative-colitis        ulcerative-colitis       \n",
      " 16  normal-pylorus            normal-pylorus           \n",
      " 17  normal-cecum              normal-cecum             \n",
      " 18  dyed-lifted-polyps        dyed-resection-margins     Wrong\n",
      " 19  ulcerative-colitis        ulcerative-colitis       \n",
      " 20  normal-pylorus            normal-pylorus           \n",
      " 21  normal-pylorus            normal-pylorus           \n",
      " 22  dyed-lifted-polyps        dyed-lifted-polyps       \n",
      " 23  esophagitis               esophagitis              \n",
      " 24  polyps                    ulcerative-colitis         Wrong\n",
      " 25  normal-pylorus            normal-pylorus           \n",
      " 26  polyps                    polyps                   \n",
      " 27  ulcerative-colitis        polyps                     Wrong\n",
      " 28  normal-z-line             normal-z-line            \n",
      " 29  dyed-resection-margins    dyed-lifted-polyps         Wrong\n",
      " 30  esophagitis               esophagitis              \n",
      " 31  normal-z-line             normal-z-line            \n",
      " 32  esophagitis               esophagitis              \n",
      " 33  ulcerative-colitis        ulcerative-colitis       \n",
      " 34  normal-pylorus            normal-pylorus           \n",
      " 35  dyed-resection-margins    dyed-resection-margins   \n",
      " 36  ulcerative-colitis        ulcerative-colitis       \n",
      " 37  esophagitis               normal-pylorus             Wrong\n",
      " 38  esophagitis               esophagitis              \n",
      " 39  normal-z-line             normal-pylorus             Wrong\n",
      " 40  dyed-lifted-polyps        dyed-lifted-polyps       \n",
      " 41  esophagitis               normal-z-line              Wrong\n",
      " 42  ulcerative-colitis        normal-cecum               Wrong\n",
      " 43  ulcerative-colitis        ulcerative-colitis       \n",
      " 44  ulcerative-colitis        ulcerative-colitis       \n",
      " 45  normal-pylorus            normal-pylorus           \n",
      " 46  normal-z-line             normal-z-line            \n",
      " 47  normal-pylorus            normal-pylorus           \n",
      " 48  normal-pylorus            normal-pylorus           \n",
      " 49  ulcerative-colitis        ulcerative-colitis       \n",
      " 50  normal-pylorus            normal-pylorus           \n",
      " 51  dyed-resection-margins    dyed-resection-margins   \n",
      " 52  dyed-resection-margins    dyed-resection-margins   \n",
      " 53  normal-z-line             normal-pylorus             Wrong\n",
      " 54  normal-cecum              normal-cecum             \n",
      " 55  normal-pylorus            normal-pylorus           \n",
      " 56  dyed-lifted-polyps        dyed-lifted-polyps       \n",
      " 57  polyps                    normal-cecum               Wrong\n",
      " 58  normal-cecum              normal-cecum             \n",
      " 59  dyed-lifted-polyps        dyed-lifted-polyps       \n",
      " 60  normal-cecum              normal-cecum             \n",
      " 61  dyed-resection-margins    dyed-resection-margins   \n",
      " 62  polyps                    polyps                   \n",
      " 63  dyed-resection-margins    dyed-lifted-polyps         Wrong"
     ]
    }
   ],
   "source": [
    "# Predict one batch\n",
    "predictions = resnet50_model.predict(images)\n",
    "\n",
    "print ('{:3}  {:<25} {:25}'.format('idx', 'label', 'pred'))\n",
    "print ('---  {} {}'.format(25*'-', 25*'-'), end='')\n",
    "\n",
    "for i, pred in enumerate(predictions):\n",
    "    label = params[\"class_names\"][labels[i]]\n",
    "    prediction = params[\"class_names\"][np.argmax(pred)]\n",
    "    print ('\\n{:3}  {:25} {:25}'.format(i, label, prediction), end='')\n",
    "    if (label != prediction): print (\"  Wrong\", end='')"
   ]
  }
 ],
 "metadata": {
  "kernelspec": {
   "display_name": "TF2",
   "language": "python",
   "name": "tf2"
  },
  "language_info": {
   "codemirror_mode": {
    "name": "ipython",
    "version": 3
   },
   "file_extension": ".py",
   "mimetype": "text/x-python",
   "name": "python",
   "nbconvert_exporter": "python",
   "pygments_lexer": "ipython3",
   "version": "3.7.6"
  }
 },
 "nbformat": 4,
 "nbformat_minor": 4
}
