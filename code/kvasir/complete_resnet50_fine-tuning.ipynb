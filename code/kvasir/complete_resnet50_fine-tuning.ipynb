{
 "cells": [
  {
   "cell_type": "markdown",
   "metadata": {},
   "source": [
    "Kvasir V2 dataset trained on all classes with resnet50 without augmentation.  \n",
    "- Fine tuning by unfreezing some layers (get aprox 80% accuracy)"
   ]
  },
  {
   "cell_type": "markdown",
   "metadata": {},
   "source": [
    "### Loading images\n",
    "https://www.tensorflow.org/tutorials/load_data/images"
   ]
  },
  {
   "cell_type": "markdown",
   "metadata": {},
   "source": [
    "## Training"
   ]
  },
  {
   "cell_type": "code",
   "execution_count": 1,
   "metadata": {},
   "outputs": [],
   "source": [
    "from __future__ import absolute_import, division, print_function, unicode_literals\n",
    "\n",
    "import tensorflow as tf\n",
    "\n",
    "import numpy as np\n",
    "import os\n",
    "import pathlib\n",
    "import matplotlib.pyplot as plt\n",
    "\n",
    "# Some stuff to make utils-function work\n",
    "import sys\n",
    "sys.path.append('/home/henrik/master_thesis/code/utils')\n",
    "from data_prep import create_dataset, print_class_info, show_image\n",
    "%load_ext autoreload\n",
    "%autoreload 2\n",
    "\n",
    "# Jupyter-specific\n",
    "%matplotlib inline"
   ]
  },
  {
   "cell_type": "markdown",
   "metadata": {},
   "source": [
    "Some parameters"
   ]
  },
  {
   "cell_type": "code",
   "execution_count": 2,
   "metadata": {},
   "outputs": [],
   "source": [
    "data_dir = pathlib.Path('/mnt/sdb/kvasir-dataset-v2/')\n",
    "\n",
    "config = {\n",
    "    \"data_dir\": data_dir,\n",
    "    \"cache_dir\": \"./cache\",\n",
    "    \"MODEL\": 'resnet50',\n",
    "    \"DS_INFO\": 'complete',\n",
    "    \"resample\": False,\n",
    "    \"neg_class\": ['polyp'],\n",
    "    \"NUM_EPOCHS\": 150,\n",
    "    \"BATCH_SIZE\": 64,\n",
    "    \"IMG_SIZE\": (32, 32, 3),\n",
    "    \"outcast\": None,\n",
    "    \"verbosity\": 1\n",
    "    }\n",
    "\n",
    "model_name = '{}x{}x{}_{}_{}'.format(config[\"NUM_EPOCHS\"], config[\"BATCH_SIZE\"], \n",
    "                                     config[\"IMG_SIZE\"][1], config[\"DS_INFO\"], config[\"MODEL\"])\n",
    "\n",
    "learning_rate = 0.01\n",
    "fine_tune_at = 130\n",
    "fine_tune_epochs = 150\n",
    "early_stopping_patience = 8"
   ]
  },
  {
   "cell_type": "markdown",
   "metadata": {},
   "source": [
    "Create training, testing and validation dataset from utils/data_prep.py"
   ]
  },
  {
   "cell_type": "code",
   "execution_count": 3,
   "metadata": {},
   "outputs": [
    {
     "name": "stdout",
     "output_type": "stream",
     "text": [
      "Directories:  ['esophagitis' 'normal-pylorus' 'ulcerative-colitis' 'normal-cecum'\n",
      " 'normal-z-line' 'polyps' 'dyed-resection-margins' 'dyed-lifted-polyps']\n",
      "\n",
      "esophagitis       : 1000\n",
      "normal-pylorus    : 1000\n",
      "ulcerative-colitis: 1000\n",
      "normal-cecum      : 1000\n",
      "normal-z-line     : 1000\n",
      "polyps            : 1000\n",
      "dyed-resection-margins: 1000\n",
      "dyed-lifted-polyps: 1000\n",
      "\n",
      "Total number of images: 8000, in 8 classes\n",
      "Dataset.list_files:  /mnt/sdb/kvasir-dataset-v2/*/*.*g \n",
      "\n",
      "WARNING:tensorflow:Entity <function create_dataset.<locals>.get_label at 0x7f4f99816680> could not be transformed and will be executed as-is. Please report this to the AutoGraph team. When filing the bug, set the verbosity to 10 (on Linux, `export AUTOGRAPH_VERBOSITY=10`) and attach the full output. Cause: Cell is empty\n",
      "WARNING: Entity <function create_dataset.<locals>.get_label at 0x7f4f99816680> could not be transformed and will be executed as-is. Please report this to the AutoGraph team. When filing the bug, set the verbosity to 10 (on Linux, `export AUTOGRAPH_VERBOSITY=10`) and attach the full output. Cause: Cell is empty\n",
      "[4 4 5 5 6 1 4 1 0 3]\n",
      "[3 3 0 0 7 5 7 6 7 6]\n",
      "[3 1 4 5 3 4 2 2 1 1]\n",
      "[5 7 3 6 1 6 4 1 2 6]\n",
      "[1 6 3 6 0 2 4 1 2 6]\n",
      "[1 3 5 6 7 3 3 0 4 3]\n",
      "[6 3 5 3 4 7 4 7 1 3]\n",
      "[5 7 0 7 1 6 0 6 2 0]\n",
      "[6 6 1 2 4 1 3 2 0 6]\n",
      "[3 5 7 2 7 7 2 6 4 7]\n",
      "\n",
      "Full dataset sample size:         8000\n",
      "Train dataset sample size:        5600\n",
      "Test dataset sample size:         1200\n",
      "Validation dataset sample size:   1200\n"
     ]
    }
   ],
   "source": [
    "train_ds, test_ds, val_ds, params = create_dataset(config)"
   ]
  },
  {
   "cell_type": "markdown",
   "metadata": {},
   "source": [
    "### Resnet50 transfer learning\n",
    "see: https://adventuresinmachinelearning.com/transfer-learning-tensorflow-2/  \n",
    "fine-tuning: https://www.tensorflow.org/tutorials/images/transfer_learning  \n",
    "callbacks: https://www.kaggle.com/suniliitb96/tutorial-keras-transfer-learning-with-resnet50  "
   ]
  },
  {
   "cell_type": "code",
   "execution_count": 4,
   "metadata": {},
   "outputs": [],
   "source": [
    "from tensorflow.python.keras.applications import ResNet50\n",
    "from tensorflow.python.keras.models import Sequential\n",
    "from tensorflow.python.keras.callbacks import EarlyStopping, ModelCheckpoint, TensorBoard, LearningRateScheduler\n",
    "from tensorflow.keras import layers"
   ]
  },
  {
   "cell_type": "markdown",
   "metadata": {},
   "source": [
    "Create and compile the model"
   ]
  },
  {
   "cell_type": "code",
   "execution_count": 5,
   "metadata": {},
   "outputs": [],
   "source": [
    "res_net = tf.keras.applications.ResNet50(\n",
    "    weights='imagenet', \n",
    "    include_top=False, \n",
    "    input_shape=config[\"IMG_SIZE\"]\n",
    ")"
   ]
  },
  {
   "cell_type": "code",
   "execution_count": 6,
   "metadata": {},
   "outputs": [],
   "source": [
    "res_net.trainable = True\n",
    "\n",
    "global_average_layer = layers.GlobalAveragePooling2D()\n",
    "output_layer = layers.Dense(params[\"NUM_CLASSES\"], activation='softmax')\n",
    "\n",
    "resnet50_model = tf.keras.Sequential([\n",
    "        res_net,\n",
    "        global_average_layer,\n",
    "        output_layer])"
   ]
  },
  {
   "cell_type": "code",
   "execution_count": 7,
   "metadata": {},
   "outputs": [
    {
     "name": "stdout",
     "output_type": "stream",
     "text": [
      "Model: \"sequential\"\n",
      "_________________________________________________________________\n",
      "Layer (type)                 Output Shape              Param #   \n",
      "=================================================================\n",
      "resnet50 (Model)             (None, 1, 1, 2048)        23587712  \n",
      "_________________________________________________________________\n",
      "global_average_pooling2d (Gl (None, 2048)              0         \n",
      "_________________________________________________________________\n",
      "dense (Dense)                (None, 8)                 16392     \n",
      "=================================================================\n",
      "Total params: 23,604,104\n",
      "Trainable params: 23,550,984\n",
      "Non-trainable params: 53,120\n",
      "_________________________________________________________________\n"
     ]
    }
   ],
   "source": [
    "if config[\"verbosity\"] > 0:\n",
    "    resnet50_model.summary()"
   ]
  },
  {
   "cell_type": "raw",
   "metadata": {},
   "source": [
    "# Save image of layers\n",
    "tf.keras.utils.plot_model(resnet50_model, 'models/{}.png'.format(model_name), show_shapes=True)"
   ]
  },
  {
   "cell_type": "code",
   "execution_count": 8,
   "metadata": {},
   "outputs": [],
   "source": [
    "# opt = tf.keras.optimizers.Adam(learning_rate=learning_rate)\n",
    "opt = tf.keras.optimizers.SGD(learning_rate=learning_rate, momentum=0.9)\n",
    "\n",
    "resnet50_model.compile(\n",
    "    optimizer=opt,\n",
    "    loss='sparse_categorical_crossentropy',\n",
    "    metrics=['accuracy']\n",
    ")\n",
    "\n",
    "earlystopp_cb = EarlyStopping(monitor='val_loss', patience=early_stopping_patience)\n",
    "checkpoint_cb = ModelCheckpoint(filepath='./models/best_cp-{epoch:03d}.hdf', monitor='val_loss', save_best_only=True, mode='auto')\n",
    "tensorboard_cb = TensorBoard(log_dir='./logs/resnet50_model', update_freq='batch')\n",
    "\n",
    "callbacks = [tensorboard_cb, earlystopp_cb]"
   ]
  },
  {
   "cell_type": "markdown",
   "metadata": {},
   "source": [
    "Train the model"
   ]
  },
  {
   "cell_type": "code",
   "execution_count": 9,
   "metadata": {},
   "outputs": [
    {
     "name": "stdout",
     "output_type": "stream",
     "text": [
      "Train for 87 steps, validate for 18 steps\n",
      "Epoch 1/150\n",
      "87/87 [==============================] - 11s 129ms/step - loss: 1.5882 - accuracy: 0.5620 - val_loss: 605.8076 - val_accuracy: 0.1068\n",
      "Epoch 2/150\n",
      "87/87 [==============================] - 4s 40ms/step - loss: 1.1293 - accuracy: 0.6115 - val_loss: 3.7042 - val_accuracy: 0.1398\n",
      "Epoch 3/150\n",
      "87/87 [==============================] - 3s 40ms/step - loss: 0.7399 - accuracy: 0.6882 - val_loss: 3.3390 - val_accuracy: 0.1267\n",
      "Epoch 4/150\n",
      "87/87 [==============================] - 3s 40ms/step - loss: 0.6601 - accuracy: 0.7074 - val_loss: 3.6628 - val_accuracy: 0.1276\n",
      "Epoch 5/150\n",
      "87/87 [==============================] - 3s 40ms/step - loss: 0.6697 - accuracy: 0.7267 - val_loss: 7.5250 - val_accuracy: 0.1389\n",
      "Epoch 6/150\n",
      "87/87 [==============================] - 3s 40ms/step - loss: 0.7397 - accuracy: 0.7069 - val_loss: 6.3994 - val_accuracy: 0.1233\n",
      "Epoch 7/150\n",
      "87/87 [==============================] - 3s 40ms/step - loss: 0.6180 - accuracy: 0.7374 - val_loss: 6.4170 - val_accuracy: 0.1276\n",
      "Epoch 8/150\n",
      "87/87 [==============================] - 4s 40ms/step - loss: 0.5473 - accuracy: 0.7583 - val_loss: 8.2819 - val_accuracy: 0.1589\n",
      "Epoch 9/150\n",
      "87/87 [==============================] - 4s 42ms/step - loss: 0.4890 - accuracy: 0.7830 - val_loss: 2.7382 - val_accuracy: 0.3472\n",
      "Epoch 10/150\n",
      "87/87 [==============================] - 3s 40ms/step - loss: 0.4575 - accuracy: 0.7958 - val_loss: 2.5596 - val_accuracy: 0.4566\n",
      "Epoch 11/150\n",
      "87/87 [==============================] - 4s 40ms/step - loss: 0.4191 - accuracy: 0.8222 - val_loss: 1.3305 - val_accuracy: 0.5747\n",
      "Epoch 12/150\n",
      "87/87 [==============================] - 4s 40ms/step - loss: 0.3993 - accuracy: 0.8326 - val_loss: 0.7419 - val_accuracy: 0.6858\n",
      "Epoch 13/150\n",
      "87/87 [==============================] - 4s 41ms/step - loss: 0.3565 - accuracy: 0.8475 - val_loss: 0.4783 - val_accuracy: 0.8003\n",
      "Epoch 14/150\n",
      "87/87 [==============================] - 3s 40ms/step - loss: 0.3405 - accuracy: 0.8594 - val_loss: 0.5174 - val_accuracy: 0.7908\n",
      "Epoch 15/150\n",
      "87/87 [==============================] - 4s 40ms/step - loss: 0.5789 - accuracy: 0.7823 - val_loss: 7.5521 - val_accuracy: 0.6554\n",
      "Epoch 16/150\n",
      "87/87 [==============================] - 3s 40ms/step - loss: 0.5478 - accuracy: 0.7766 - val_loss: 0.7453 - val_accuracy: 0.7318\n",
      "Epoch 17/150\n",
      "87/87 [==============================] - 3s 40ms/step - loss: 0.4543 - accuracy: 0.8166 - val_loss: 0.4424 - val_accuracy: 0.8142\n",
      "Epoch 18/150\n",
      "87/87 [==============================] - 4s 41ms/step - loss: 0.4008 - accuracy: 0.8393 - val_loss: 0.4735 - val_accuracy: 0.8056\n",
      "Epoch 19/150\n",
      "87/87 [==============================] - 3s 40ms/step - loss: 0.4767 - accuracy: 0.8136 - val_loss: 0.7916 - val_accuracy: 0.7526\n",
      "Epoch 20/150\n",
      "87/87 [==============================] - 3s 40ms/step - loss: 0.3769 - accuracy: 0.8463 - val_loss: 0.4598 - val_accuracy: 0.8134\n",
      "Epoch 21/150\n",
      "87/87 [==============================] - 4s 41ms/step - loss: 0.5503 - accuracy: 0.8005 - val_loss: 0.5015 - val_accuracy: 0.7995\n",
      "Epoch 22/150\n",
      "87/87 [==============================] - 3s 40ms/step - loss: 0.3628 - accuracy: 0.8560 - val_loss: 0.3881 - val_accuracy: 0.8359\n",
      "Epoch 23/150\n",
      "87/87 [==============================] - 3s 40ms/step - loss: 0.2967 - accuracy: 0.8755 - val_loss: 0.4348 - val_accuracy: 0.8316\n",
      "Epoch 24/150\n",
      "87/87 [==============================] - 4s 41ms/step - loss: 0.2588 - accuracy: 0.8940 - val_loss: 0.4021 - val_accuracy: 0.8403\n",
      "Epoch 25/150\n",
      "87/87 [==============================] - 3s 40ms/step - loss: 0.2426 - accuracy: 0.9037 - val_loss: 0.3855 - val_accuracy: 0.8550\n",
      "Epoch 26/150\n",
      "87/87 [==============================] - 4s 41ms/step - loss: 0.2209 - accuracy: 0.9142 - val_loss: 0.3396 - val_accuracy: 0.8637\n",
      "Epoch 27/150\n",
      "87/87 [==============================] - 4s 40ms/step - loss: 0.1882 - accuracy: 0.9258 - val_loss: 0.4064 - val_accuracy: 0.8637\n",
      "Epoch 28/150\n",
      "87/87 [==============================] - 4s 41ms/step - loss: 0.1717 - accuracy: 0.9305 - val_loss: 0.4209 - val_accuracy: 0.8689\n",
      "Epoch 29/150\n",
      "87/87 [==============================] - 4s 41ms/step - loss: 0.1819 - accuracy: 0.9253 - val_loss: 0.4201 - val_accuracy: 0.8420\n",
      "Epoch 30/150\n",
      "87/87 [==============================] - 4s 41ms/step - loss: 0.1424 - accuracy: 0.9431 - val_loss: 0.6540 - val_accuracy: 0.8151\n",
      "Epoch 31/150\n",
      "87/87 [==============================] - 4s 41ms/step - loss: 0.1516 - accuracy: 0.9418 - val_loss: 0.3665 - val_accuracy: 0.8819\n",
      "Epoch 32/150\n",
      "87/87 [==============================] - 4s 41ms/step - loss: 0.1272 - accuracy: 0.9495 - val_loss: 0.7109 - val_accuracy: 0.8238\n",
      "Epoch 33/150\n",
      "87/87 [==============================] - 4s 40ms/step - loss: 0.1241 - accuracy: 0.9533 - val_loss: 0.4461 - val_accuracy: 0.8663\n",
      "Epoch 34/150\n",
      "87/87 [==============================] - 4s 40ms/step - loss: 0.1022 - accuracy: 0.9580 - val_loss: 0.4731 - val_accuracy: 0.8689\n"
     ]
    }
   ],
   "source": [
    "history = resnet50_model.fit(\n",
    "    train_ds,\n",
    "    steps_per_epoch = params[\"train_size\"] // config[\"BATCH_SIZE\"],\n",
    "    epochs = config[\"NUM_EPOCHS\"],\n",
    "    validation_data = test_ds,\n",
    "    validation_steps = params[\"test_size\"] // config[\"BATCH_SIZE\"],\n",
    "    validation_freq = 1,\n",
    "    callbacks = callbacks\n",
    ")"
   ]
  },
  {
   "cell_type": "markdown",
   "metadata": {},
   "source": [
    "`Keras`\n",
    "Save/load the model"
   ]
  },
  {
   "cell_type": "code",
   "execution_count": 10,
   "metadata": {},
   "outputs": [],
   "source": [
    "# resnet50_model.save('models/{}.h5'.format(model_name))\n",
    "# resnet50_model = tf.keras.models.load_model('models/{}.h5'.format(model_name))"
   ]
  },
  {
   "cell_type": "markdown",
   "metadata": {},
   "source": [
    "## Evaluate the model"
   ]
  },
  {
   "cell_type": "code",
   "execution_count": 11,
   "metadata": {},
   "outputs": [
    {
     "name": "stdout",
     "output_type": "stream",
     "text": [
      "18/18 - 0s - loss: 0.4081 - accuracy: 0.8950\n"
     ]
    }
   ],
   "source": [
    "resnet50_evaluate = resnet50_model.evaluate(val_ds, verbose=2, steps=params[\"val_size\"] // config[\"BATCH_SIZE\"])"
   ]
  },
  {
   "cell_type": "code",
   "execution_count": 12,
   "metadata": {},
   "outputs": [],
   "source": [
    "acc = history.history['accuracy']\n",
    "val_acc = history.history['val_accuracy']\n",
    "loss = history.history['loss']\n",
    "val_loss = history.history['val_loss']\n",
    "\n",
    "epochs_range = range(history.epoch[-1]+1)"
   ]
  },
  {
   "cell_type": "code",
   "execution_count": 13,
   "metadata": {},
   "outputs": [
    {
     "data": {
      "image/png": "[encoded data removed]",
      "text/plain": [
       "<Figure size 1008x432 with 2 Axes>"
      ]
     },
     "metadata": {
      "needs_background": "light"
     },
     "output_type": "display_data"
    }
   ],
   "source": [
    "plt.figure(figsize=(14, 6))\n",
    "\n",
    "# Subplot 1\n",
    "plt.subplot(1, 2, 1)\n",
    "plt.plot(epochs_range, acc, label='Training Accuracy')\n",
    "plt.plot(epochs_range, val_acc, label='Validation Accuracy')\n",
    "plt.legend(loc='lower right')\n",
    "# plt.ylim([0.5, 1])\n",
    "plt.xlabel('Epoch')\n",
    "plt.ylabel('Accuracy')\n",
    "plt.title('Training and Validation Accuracy')\n",
    "\n",
    "# Subplot 2\n",
    "plt.subplot(1, 2, 2)\n",
    "plt.plot(epochs_range, loss, label='Training Loss')\n",
    "plt.plot(epochs_range, val_loss, label='Validation Loss')\n",
    "plt.legend(loc='upper right')\n",
    "plt.ylim([0.0, 3])\n",
    "plt.xlabel('Epoch')\n",
    "plt.ylabel('Accuracy')\n",
    "plt.title('Training and Validation Loss')\n",
    "plt.show()"
   ]
  },
  {
   "cell_type": "markdown",
   "metadata": {},
   "source": [
    "### Fine tune the model"
   ]
  },
  {
   "cell_type": "code",
   "execution_count": 14,
   "metadata": {},
   "outputs": [
    {
     "name": "stdout",
     "output_type": "stream",
     "text": [
      "Number of layers in the base model:  175\n",
      "Number of layers unfreezed:  56\n"
     ]
    }
   ],
   "source": [
    "res_net.trainable = True\n",
    "\n",
    "# Let's take a look to see how many layers are in the base model\n",
    "print(\"Number of layers in the base model: \", len(res_net.layers))\n",
    "\n",
    "# Fine-tune from this layer onwards\n",
    "fine_tune_at = fine_tune_at\n",
    "\n",
    "# Freeze all the layers before the `fine_tune_at` layer\n",
    "for layer in res_net.layers[:fine_tune_at]:\n",
    "    layer.trainable = False\n",
    "\n",
    "print(\"Number of layers unfreezed: \", len(resnet50_model.trainable_variables))"
   ]
  },
  {
   "cell_type": "code",
   "execution_count": 15,
   "metadata": {},
   "outputs": [],
   "source": [
    "# opt = tf.keras.optimizers.Adam(learning_rate=learning_rate/10)\n",
    "opt = tf.keras.optimizers.SGD(learning_rate=learning_rate/10, momentum=0.9)\n",
    "\n",
    "resnet50_model.compile(\n",
    "    optimizer=opt,\n",
    "    loss='sparse_categorical_crossentropy',\n",
    "    metrics=['accuracy']\n",
    ")"
   ]
  },
  {
   "cell_type": "code",
   "execution_count": 16,
   "metadata": {},
   "outputs": [
    {
     "name": "stdout",
     "output_type": "stream",
     "text": [
      "Train for 87 steps, validate for 18 steps\n",
      "Epoch 34/183\n",
      "87/87 [==============================] - 7s 80ms/step - loss: 0.0912 - accuracy: 0.9662 - val_loss: 0.4357 - val_accuracy: 0.8880\n",
      "Epoch 35/183\n",
      "87/87 [==============================] - 2s 28ms/step - loss: 0.0763 - accuracy: 0.9714 - val_loss: 0.4277 - val_accuracy: 0.8837\n",
      "Epoch 36/183\n",
      "87/87 [==============================] - 3s 29ms/step - loss: 0.0739 - accuracy: 0.9743 - val_loss: 0.4232 - val_accuracy: 0.8872\n",
      "Epoch 37/183\n",
      "87/87 [==============================] - 3s 29ms/step - loss: 0.0719 - accuracy: 0.9727 - val_loss: 0.4056 - val_accuracy: 0.8915\n",
      "Epoch 38/183\n",
      "87/87 [==============================] - 2s 29ms/step - loss: 0.0609 - accuracy: 0.9770 - val_loss: 0.4144 - val_accuracy: 0.8906\n",
      "Epoch 39/183\n",
      "87/87 [==============================] - 3s 30ms/step - loss: 0.0659 - accuracy: 0.9772 - val_loss: 0.4206 - val_accuracy: 0.8898\n",
      "Epoch 40/183\n",
      "87/87 [==============================] - 2s 29ms/step - loss: 0.0616 - accuracy: 0.9761 - val_loss: 0.4266 - val_accuracy: 0.8898\n",
      "Epoch 41/183\n",
      "87/87 [==============================] - 2s 28ms/step - loss: 0.0634 - accuracy: 0.9759 - val_loss: 0.4381 - val_accuracy: 0.8898\n",
      "Epoch 42/183\n",
      "87/87 [==============================] - 2s 28ms/step - loss: 0.0661 - accuracy: 0.9761 - val_loss: 0.4058 - val_accuracy: 0.8958\n",
      "Epoch 43/183\n",
      "87/87 [==============================] - 2s 29ms/step - loss: 0.0608 - accuracy: 0.9768 - val_loss: 0.4052 - val_accuracy: 0.8976\n",
      "Epoch 44/183\n",
      "87/87 [==============================] - 2s 29ms/step - loss: 0.0541 - accuracy: 0.9799 - val_loss: 0.4281 - val_accuracy: 0.8941\n",
      "Epoch 45/183\n",
      "87/87 [==============================] - 3s 29ms/step - loss: 0.0552 - accuracy: 0.9788 - val_loss: 0.4330 - val_accuracy: 0.8898\n",
      "Epoch 46/183\n",
      "87/87 [==============================] - 3s 29ms/step - loss: 0.0589 - accuracy: 0.9776 - val_loss: 0.4314 - val_accuracy: 0.8924\n",
      "Epoch 47/183\n",
      "87/87 [==============================] - 3s 29ms/step - loss: 0.0516 - accuracy: 0.9824 - val_loss: 0.4478 - val_accuracy: 0.8915\n",
      "Epoch 48/183\n",
      "87/87 [==============================] - 2s 29ms/step - loss: 0.0501 - accuracy: 0.9810 - val_loss: 0.4376 - val_accuracy: 0.8941\n",
      "Epoch 49/183\n",
      "87/87 [==============================] - 2s 29ms/step - loss: 0.0576 - accuracy: 0.9784 - val_loss: 0.4440 - val_accuracy: 0.8950\n",
      "Epoch 50/183\n",
      "87/87 [==============================] - 3s 29ms/step - loss: 0.0510 - accuracy: 0.9811 - val_loss: 0.4501 - val_accuracy: 0.8924\n",
      "Epoch 51/183\n",
      "87/87 [==============================] - 2s 28ms/step - loss: 0.0468 - accuracy: 0.9819 - val_loss: 0.4508 - val_accuracy: 0.8924\n"
     ]
    }
   ],
   "source": [
    "fine_tune_epochs = fine_tune_epochs\n",
    "total_epochs = history.epoch[-1] + fine_tune_epochs\n",
    "\n",
    "history_fine = resnet50_model.fit(\n",
    "    train_ds,\n",
    "    steps_per_epoch = params[\"train_size\"] // config[\"BATCH_SIZE\"],\n",
    "    epochs = total_epochs,\n",
    "    initial_epoch = history.epoch[-1],\n",
    "    validation_data = test_ds,\n",
    "    validation_steps = params[\"test_size\"] // config[\"BATCH_SIZE\"],\n",
    "    validation_freq = 1,\n",
    "    callbacks = callbacks\n",
    ")"
   ]
  },
  {
   "cell_type": "code",
   "execution_count": 17,
   "metadata": {},
   "outputs": [],
   "source": [
    "# For fine-tuning\n",
    "acc += history_fine.history['accuracy']\n",
    "val_acc += history_fine.history['val_accuracy']\n",
    "\n",
    "loss += history_fine.history['loss']\n",
    "val_loss += history_fine.history['val_loss']"
   ]
  },
  {
   "cell_type": "code",
   "execution_count": 18,
   "metadata": {},
   "outputs": [
    {
     "data": {
      "image/png": "[encoded data removed]",
      "text/plain": [
       "<Figure size 1008x576 with 2 Axes>"
      ]
     },
     "metadata": {
      "needs_background": "light"
     },
     "output_type": "display_data"
    },
    {
     "name": "stdout",
     "output_type": "stream",
     "text": [
      "Fine tuning from epoch:  33\n"
     ]
    }
   ],
   "source": [
    "# Subplot 1\n",
    "plt.figure(figsize=(14, 8))\n",
    "plt.subplot(2, 1, 1)\n",
    "plt.plot(acc, label='Training Accuracy')\n",
    "plt.plot(val_acc, label='Validation Accuracy')\n",
    "plt.plot([history.epoch[-1]-1,history.epoch[-1]-1],\n",
    "          plt.ylim(), label='Start Fine Tuning')\n",
    "plt.legend(loc='lower right')\n",
    "plt.title('Training and Validation Accuracy')\n",
    "\n",
    "# Subplot 2\n",
    "plt.subplot(2, 1, 2)\n",
    "plt.plot(loss, label='Training Loss')\n",
    "plt.plot(val_loss, label='Validation Loss')\n",
    "plt.ylim([0, 3.0])\n",
    "plt.plot([history.epoch[-1]-1,history.epoch[-1]-1],\n",
    "         plt.ylim(), label='Start Fine Tuning')\n",
    "plt.legend(loc='upper right')\n",
    "plt.title('Training and Validation Loss')\n",
    "plt.xlabel('epoch')\n",
    "plt.show()\n",
    "\n",
    "print (\"Fine tuning from epoch: \", history.epoch[-1])"
   ]
  },
  {
   "cell_type": "markdown",
   "metadata": {},
   "source": [
    "`Tensorboard`"
   ]
  },
  {
   "cell_type": "raw",
   "metadata": {},
   "source": [
    "from tensorboard import notebook\n",
    "# Load the TensorBoard notebook extension\n",
    "# %load_ext tensorboard\n",
    "\n",
    "# Start tensorboard\n",
    "# %tensorboard --logdir logs"
   ]
  },
  {
   "cell_type": "raw",
   "metadata": {},
   "source": [
    "# Clear any logs from previous runs (move to .old instead?)\n",
    "!rm -rf ./logs/\n",
    "\n",
    "# Stop tensorboard\n",
    "notebook.list()\n",
    "!kill 20058"
   ]
  },
  {
   "cell_type": "markdown",
   "metadata": {},
   "source": [
    "## Predict new samples"
   ]
  },
  {
   "cell_type": "code",
   "execution_count": 19,
   "metadata": {},
   "outputs": [],
   "source": [
    "# Fetch one batch\n",
    "images, labels = next(iter(val_ds))\n",
    "\n",
    "# Convert from tensor to numpy array\n",
    "images = images.numpy()\n",
    "labels = labels.numpy()"
   ]
  },
  {
   "cell_type": "code",
   "execution_count": 35,
   "metadata": {},
   "outputs": [
    {
     "name": "stdout",
     "output_type": "stream",
     "text": [
      "0.0000 esophagitis\n",
      "0.0000 normal-pylorus\n",
      "0.0053 ulcerative-colitis\n",
      "0.0140 normal-cecum\n",
      "0.0000 normal-z-line\n",
      "0.9807 polyps\n",
      "0.0000 dyed-resection-margins\n",
      "0.0000 dyed-lifted-polyps\n",
      "\n",
      "Label: ulcerative-colitis\n",
      "Predicton: polyps\n"
     ]
    },
    {
     "data": {
      "image/png": "[encoded data removed]",
      "text/plain": [
       "<Figure size 432x288 with 1 Axes>"
      ]
     },
     "metadata": {},
     "output_type": "display_data"
    }
   ],
   "source": [
    "# Get a random image and label\n",
    "rand = np.random.randint(0, config[\"BATCH_SIZE\"])\n",
    "image = images[rand]\n",
    "label = labels[rand]\n",
    "\n",
    "# Predict one image\n",
    "predictions = resnet50_model.predict(np.expand_dims(image, axis=0))[0]\n",
    "\n",
    "for i, pred in enumerate(predictions):\n",
    "    print(\"{:0.4f} {}\".format(pred,params[\"class_names\"][i]))\n",
    "\n",
    "print (\"\\nLabel:\", params[\"class_names\"][label])\n",
    "print (\"Predicton:\", params[\"class_names\"][np.argmax(predictions)])\n",
    "\n",
    "plt.figure(frameon=False, facecolor='white')\n",
    "plt.imshow(image)\n",
    "plt.axis('off');"
   ]
  },
  {
   "cell_type": "code",
   "execution_count": 39,
   "metadata": {},
   "outputs": [
    {
     "name": "stdout",
     "output_type": "stream",
     "text": [
      "idx  label                     pred                     \n",
      "---  ------------------------- -------------------------\n",
      "  0  polyps                    polyps                   \n",
      "  1  normal-cecum              normal-cecum             \n",
      "  2  ulcerative-colitis        ulcerative-colitis       \n",
      "  3  normal-cecum              normal-cecum             \n",
      "  4  esophagitis               normal-z-line              Wrong\n",
      "  5  dyed-resection-margins    dyed-resection-margins   \n",
      "  6  polyps                    polyps                   \n",
      "  7  normal-cecum              normal-cecum             \n",
      "  8  polyps                    polyps                   \n",
      "  9  polyps                    polyps                   \n",
      " 10  dyed-lifted-polyps        dyed-lifted-polyps       \n",
      " 11  dyed-resection-margins    dyed-resection-margins   \n",
      " 12  normal-cecum              normal-cecum             \n",
      " 13  ulcerative-colitis        polyps                     Wrong\n",
      " 14  polyps                    polyps                   \n",
      " 15  esophagitis               esophagitis              \n",
      " 16  esophagitis               esophagitis              \n",
      " 17  dyed-lifted-polyps        dyed-lifted-polyps       \n",
      " 18  esophagitis               esophagitis              \n",
      " 19  esophagitis               esophagitis              \n",
      " 20  normal-pylorus            normal-pylorus           \n",
      " 21  normal-cecum              normal-cecum             \n",
      " 22  ulcerative-colitis        ulcerative-colitis       \n",
      " 23  normal-z-line             normal-z-line            \n",
      " 24  normal-cecum              normal-cecum             \n",
      " 25  normal-cecum              normal-cecum             \n",
      " 26  dyed-lifted-polyps        dyed-lifted-polyps       \n",
      " 27  normal-pylorus            normal-pylorus           \n",
      " 28  polyps                    polyps                   \n",
      " 29  dyed-resection-margins    dyed-resection-margins   \n",
      " 30  dyed-resection-margins    dyed-resection-margins   \n",
      " 31  normal-pylorus            normal-pylorus           \n",
      " 32  dyed-lifted-polyps        dyed-lifted-polyps       \n",
      " 33  normal-pylorus            normal-pylorus           \n",
      " 34  normal-cecum              normal-cecum             \n",
      " 35  dyed-lifted-polyps        dyed-resection-margins     Wrong\n",
      " 36  dyed-lifted-polyps        dyed-lifted-polyps       \n",
      " 37  esophagitis               esophagitis              \n",
      " 38  esophagitis               esophagitis              \n",
      " 39  dyed-lifted-polyps        dyed-lifted-polyps       \n",
      " 40  normal-z-line             normal-z-line            \n",
      " 41  polyps                    polyps                   \n",
      " 42  normal-cecum              normal-cecum             \n",
      " 43  normal-z-line             normal-z-line            \n",
      " 44  dyed-resection-margins    dyed-resection-margins   \n",
      " 45  normal-pylorus            normal-pylorus           \n",
      " 46  esophagitis               normal-z-line              Wrong\n",
      " 47  polyps                    polyps                   \n",
      " 48  normal-pylorus            normal-pylorus           \n",
      " 49  normal-pylorus            normal-z-line              Wrong\n",
      " 50  polyps                    polyps                   \n",
      " 51  normal-pylorus            normal-pylorus           \n",
      " 52  polyps                    polyps                   \n",
      " 53  esophagitis               esophagitis              \n",
      " 54  normal-z-line             normal-z-line            \n",
      " 55  dyed-resection-margins    dyed-resection-margins   \n",
      " 56  normal-z-line             normal-z-line            \n",
      " 57  normal-pylorus            normal-pylorus           \n",
      " 58  esophagitis               esophagitis              \n",
      " 59  dyed-resection-margins    dyed-resection-margins   \n",
      " 60  dyed-lifted-polyps        dyed-lifted-polyps       \n",
      " 61  polyps                    polyps                   \n",
      " 62  dyed-resection-margins    dyed-resection-margins   \n",
      " 63  ulcerative-colitis        polyps                     Wrong"
     ]
    }
   ],
   "source": [
    "# Predict one batch\n",
    "predictions = resnet50_model.predict(images)\n",
    "\n",
    "print ('{:3}  {:<25} {:25}'.format('idx', 'label', 'pred'))\n",
    "print ('---  {} {}'.format(25*'-', 25*'-'), end='')\n",
    "\n",
    "# make a list to store the wrong predictions\n",
    "wrong_predictions = []\n",
    "\n",
    "for i, pred in enumerate(predictions):\n",
    "    label = params[\"class_names\"][labels[i]]\n",
    "    prediction = params[\"class_names\"][np.argmax(pred)]\n",
    "    print ('\\n{:3}  {:25} {:25}'.format(i, label, prediction), end='')\n",
    "    if (label != prediction): \n",
    "        print (\"  Wrong\", end='')\n",
    "        wrong_predictions.append(i)"
   ]
  },
  {
   "cell_type": "code",
   "execution_count": 56,
   "metadata": {},
   "outputs": [
    {
     "name": "stdout",
     "output_type": "stream",
     "text": [
      "List of wrong predictions from batch: [4, 13, 35, 46, 49, 63]\n",
      "\n",
      "0.0663 esophagitis\n",
      "0.0001 normal-pylorus\n",
      "0.0000 ulcerative-colitis\n",
      "0.0000 normal-cecum\n",
      "\u001b[31m0.9336 normal-z-line\u001b[0m\n",
      "0.0000 polyps\n",
      "0.0000 dyed-resection-margins\n",
      "0.0000 dyed-lifted-polyps\n",
      "\n",
      "Label: esophagitis\n",
      "Predicton: normal-z-line\n",
      "----------------------------------------------\n",
      "0.0000 esophagitis\n",
      "0.0000 normal-pylorus\n",
      "0.0053 ulcerative-colitis\n",
      "0.0140 normal-cecum\n",
      "0.0000 normal-z-line\n",
      "\u001b[31m0.9807 polyps\u001b[0m\n",
      "0.0000 dyed-resection-margins\n",
      "0.0000 dyed-lifted-polyps\n",
      "\n",
      "Label: ulcerative-colitis\n",
      "Predicton: polyps\n",
      "----------------------------------------------\n",
      "0.0001 esophagitis\n",
      "0.0000 normal-pylorus\n",
      "0.0001 ulcerative-colitis\n",
      "0.0000 normal-cecum\n",
      "0.0000 normal-z-line\n",
      "0.0000 polyps\n",
      "\u001b[31m0.5534 dyed-resection-margins\u001b[0m\n",
      "0.4463 dyed-lifted-polyps\n",
      "\n",
      "Label: dyed-lifted-polyps\n",
      "Predicton: dyed-resection-margins\n",
      "----------------------------------------------\n",
      "0.0077 esophagitis\n",
      "0.0000 normal-pylorus\n",
      "0.0000 ulcerative-colitis\n",
      "0.0000 normal-cecum\n",
      "\u001b[31m0.9923 normal-z-line\u001b[0m\n",
      "0.0000 polyps\n",
      "0.0000 dyed-resection-margins\n",
      "0.0000 dyed-lifted-polyps\n",
      "\n",
      "Label: esophagitis\n",
      "Predicton: normal-z-line\n",
      "----------------------------------------------\n",
      "0.2636 esophagitis\n",
      "0.3561 normal-pylorus\n",
      "0.0011 ulcerative-colitis\n",
      "0.0001 normal-cecum\n",
      "\u001b[31m0.3730 normal-z-line\u001b[0m\n",
      "0.0060 polyps\n",
      "0.0001 dyed-resection-margins\n",
      "0.0001 dyed-lifted-polyps\n",
      "\n",
      "Label: normal-pylorus\n",
      "Predicton: normal-z-line\n",
      "----------------------------------------------\n",
      "0.0000 esophagitis\n",
      "0.0000 normal-pylorus\n",
      "0.0004 ulcerative-colitis\n",
      "0.0000 normal-cecum\n",
      "0.0000 normal-z-line\n",
      "\u001b[31m0.9996 polyps\u001b[0m\n",
      "0.0000 dyed-resection-margins\n",
      "0.0000 dyed-lifted-polyps\n",
      "\n",
      "Label: ulcerative-colitis\n",
      "Predicton: polyps\n",
      "----------------------------------------------\n"
     ]
    }
   ],
   "source": [
    "# Print info about wrong predictions\n",
    "print(\"List of wrong predictions from batch:\" ,wrong_predictions, end=\"\\n\\n\")\n",
    "color_string = \"\\x1b[31m{:0.4f} {}\\x1b[0m\"\n",
    "\n",
    "for i, wrong_pred in enumerate(wrong_predictions):\n",
    "    # Get a random image and label\n",
    "    rand = wrong_pred\n",
    "    image = images[rand]\n",
    "    label = labels[rand]\n",
    "    \n",
    "    # Predict one image\n",
    "    predictions = resnet50_model.predict(np.expand_dims(image, axis=0))[0]\n",
    "    pred_label = np.argmax(predictions)\n",
    "    \n",
    "    for i, pred in enumerate(predictions):\n",
    "        # print in colors\n",
    "        if i == pred_label:\n",
    "            print(color_string.format(pred, params[\"class_names\"][i]))\n",
    "        else:\n",
    "            print(\"{:0.4f} {}\".format(pred,params[\"class_names\"][i]))\n",
    "\n",
    "    print (\"\\nLabel:\", params[\"class_names\"][label])\n",
    "    print (\"Predicton:\", params[\"class_names\"][pred_label])\n",
    "    print (\"----------------------------------------------\")\n",
    "#     plt.figure(frameon=False, facecolor='white')\n",
    "#     plt.imshow(image)\n",
    "#     plt.axis('off');"
   ]
  }
 ],
 "metadata": {
  "kernelspec": {
   "display_name": "TF2",
   "language": "python",
   "name": "tf2"
  },
  "language_info": {
   "codemirror_mode": {
    "name": "ipython",
    "version": 3
   },
   "file_extension": ".py",
   "mimetype": "text/x-python",
   "name": "python",
   "nbconvert_exporter": "python",
   "pygments_lexer": "ipython3",
   "version": "3.7.6"
  }
 },
 "nbformat": 4,
 "nbformat_minor": 4
}
