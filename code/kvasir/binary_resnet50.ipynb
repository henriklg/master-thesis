{
 "cells": [
  {
   "cell_type": "markdown",
   "metadata": {},
   "source": [
    "pillcam dataset split into neg/pos and trained using resnet.py witouth augmentation or ds normalization."
   ]
  },
  {
   "cell_type": "markdown",
   "metadata": {},
   "source": [
    "### Loading images\n",
    "https://www.tensorflow.org/tutorials/load_data/images"
   ]
  },
  {
   "cell_type": "code",
   "execution_count": 1,
   "metadata": {},
   "outputs": [],
   "source": [
    "from __future__ import absolute_import, division, print_function, unicode_literals\n",
    "\n",
    "import tensorflow as tf\n",
    "\n",
    "import numpy as np\n",
    "import os\n",
    "import pathlib\n",
    "import matplotlib.pyplot as plt\n",
    "\n",
    "# Some stuff to make utils-function work\n",
    "import sys\n",
    "sys.path.append('/home/henrik/master_thesis/code/utils')\n",
    "from data_prep import create_dataset, print_class_info, show_image\n",
    "%load_ext autoreload\n",
    "%autoreload 2\n",
    "\n",
    "# Jupyter-specific\n",
    "%matplotlib inline"
   ]
  },
  {
   "cell_type": "markdown",
   "metadata": {},
   "source": [
    "Some parameters"
   ]
  },
  {
   "cell_type": "code",
   "execution_count": 2,
   "metadata": {},
   "outputs": [],
   "source": [
    "data_dir = pathlib.Path('/mnt/sdb/kvasir-dataset-v2/')\n",
    "\n",
    "config = {\n",
    "    \"data_dir\": data_dir,\n",
    "    \"cache_dir\": \"./cache\",\n",
    "    \"MODEL\": 'resnet50',\n",
    "    \"DS_INFO\": 'binary',\n",
    "    \"resample\": True,\n",
    "    \"neg_class\": ['polyps'],\n",
    "    \"NUM_EPOCHS\": 5,\n",
    "    \"BATCH_SIZE\": 64,\n",
    "    \"IMG_SIZE\": (128, 128, 3),\n",
    "    \"outcast\": None,\n",
    "    \"verbosity\": 1\n",
    "    }\n",
    "\n",
    "model_name = '{}x{}x{}_{}_{}'.format(config[\"NUM_EPOCHS\"], config[\"BATCH_SIZE\"], \n",
    "                                     config[\"IMG_SIZE\"][1], config[\"DS_INFO\"], config[\"MODEL\"])"
   ]
  },
  {
   "cell_type": "markdown",
   "metadata": {},
   "source": [
    "Create training, testing and validation dataset from utils/data_prep.py"
   ]
  },
  {
   "cell_type": "code",
   "execution_count": 3,
   "metadata": {},
   "outputs": [
    {
     "name": "stdout",
     "output_type": "stream",
     "text": [
      "Negative class names:\n",
      "        - polyps\n",
      "Positive class names:\n",
      "        - esophagitis\n",
      "        - normal-pylorus\n",
      "        - ulcerative-colitis\n",
      "        - normal-cecum\n",
      "        - normal-z-line\n",
      "        - dyed-resection-margins\n",
      "        - dyed-lifted-polyps\n",
      "\n",
      "Negative samples:  1000 | 12.50%\n",
      "Positive samples:  7000 | 87.50%\n",
      "\n",
      "Total number of images: 8000\n",
      "Dataset.list_files:  /mnt/sdb/kvasir-dataset-v2/*/*.*g \n",
      "\n",
      "[1 1 0 1 1 1 1 1 1 1]\n",
      "[1 0 1 1 1 1 1 1 1 1]\n",
      "[1 1 1 1 1 1 0 1 1 1]\n",
      "[1 1 1 1 1 1 0 1 0 1]\n",
      "[1 1 1 1 1 1 1 1 1 0]\n",
      "[1 1 1 1 1 1 1 1 1 1]\n",
      "[1 1 1 1 0 1 0 1 1 1]\n",
      "[1 1 1 1 1 1 1 1 1 1]\n",
      "[1 1 1 1 0 0 1 1 1 1]\n",
      "[1 1 1 1 1 1 1 1 1 1]\n",
      "\n",
      "Resamplng the dataset..\n",
      "\n",
      "Fractions:  [0.125 0.875]\n",
      "Counts:  [1000. 7000.]\n",
      "\n",
      "[1 0 1 1 1 1 0 0 0 0]\n",
      "[0 1 0 1 1 0 1 1 1 0]\n",
      "[1 1 0 0 1 0 0 1 0 1]\n",
      "[0 0 0 1 0 0 0 0 0 0]\n",
      "[1 1 0 0 1 1 1 0 0 1]\n",
      "[0 1 0 1 1 0 1 1 0 1]\n",
      "[0 0 1 1 1 1 1 0 1 0]\n",
      "[0 0 1 0 1 0 1 1 1 1]\n",
      "[1 0 1 0 0 1 0 1 1 1]\n",
      "[0 0 1 1 0 1 0 1 1 0]\n",
      "\n",
      "Full dataset sample size:           -2\n",
      "Train dataset sample size:          -2\n",
      "Test dataset sample size:           -2\n",
      "Validation dataset sample size:     -2\n"
     ]
    }
   ],
   "source": [
    "train_ds, test_ds, val_ds, params = create_dataset(config)"
   ]
  },
  {
   "cell_type": "markdown",
   "metadata": {},
   "source": [
    "## Training\n",
    "https://adventuresinmachinelearning.com/transfer-learning-tensorflow-2/"
   ]
  },
  {
   "cell_type": "code",
   "execution_count": 4,
   "metadata": {},
   "outputs": [],
   "source": [
    "from tensorflow.python.keras.applications import ResNet50\n",
    "from tensorflow.python.keras.models import Sequential\n",
    "from tensorflow.python.keras.layers import Dense, GlobalAveragePooling2D"
   ]
  },
  {
   "cell_type": "code",
   "execution_count": 5,
   "metadata": {},
   "outputs": [],
   "source": [
    "res_net = tf.keras.applications.ResNet50(weights='imagenet', include_top=False, input_shape=config['IMG_SIZE'])"
   ]
  },
  {
   "cell_type": "code",
   "execution_count": 6,
   "metadata": {},
   "outputs": [],
   "source": [
    "res_net.trainable = False\n",
    "\n",
    "global_average_layer = GlobalAveragePooling2D()\n",
    "output_layer = Dense(config['NUM_CLASSES'], activation='softmax')\n",
    "\n",
    "resnet50_model = tf.keras.Sequential([\n",
    "        res_net,\n",
    "        global_average_layer,\n",
    "        output_layer])"
   ]
  },
  {
   "cell_type": "code",
   "execution_count": 7,
   "metadata": {},
   "outputs": [
    {
     "name": "stdout",
     "output_type": "stream",
     "text": [
      "Model: \"sequential\"\n",
      "_________________________________________________________________\n",
      "Layer (type)                 Output Shape              Param #   \n",
      "=================================================================\n",
      "resnet50 (Model)             (None, 4, 4, 2048)        23587712  \n",
      "_________________________________________________________________\n",
      "global_average_pooling2d (Gl (None, 2048)              0         \n",
      "_________________________________________________________________\n",
      "dense (Dense)                (None, 2)                 4098      \n",
      "=================================================================\n",
      "Total params: 23,591,810\n",
      "Trainable params: 4,098\n",
      "Non-trainable params: 23,587,712\n",
      "_________________________________________________________________\n"
     ]
    }
   ],
   "source": [
    "if config['verbosity'] > 0:\n",
    "    resnet50_model.summary()"
   ]
  },
  {
   "cell_type": "code",
   "execution_count": 8,
   "metadata": {},
   "outputs": [],
   "source": [
    "resnet50_model.compile(\n",
    "        optimizer=tf.keras.optimizers.Adam(learning_rate=0.001),\n",
    "        loss='binary_crossentropy',\n",
    "        metrics=['accuracy'])\n",
    "\n",
    "callbacks = [tf.keras.callbacks.TensorBoard(log_dir='./logs/resnet50', update_freq='batch')]"
   ]
  },
  {
   "cell_type": "code",
   "execution_count": 9,
   "metadata": {},
   "outputs": [
    {
     "name": "stdout",
     "output_type": "stream",
     "text": [
      "Train for 87 steps, validate for 18 steps\n",
      "Epoch 1/5\n",
      "87/87 [==============================] - 10s 114ms/step - loss: 0.7766 - accuracy: 0.5000 - val_loss: 0.6970 - val_accuracy: 0.5000\n",
      "Epoch 2/5\n",
      "87/87 [==============================] - 5s 62ms/step - loss: 0.7238 - accuracy: 0.5000 - val_loss: 0.6934 - val_accuracy: 0.5000\n",
      "Epoch 3/5\n",
      "87/87 [==============================] - 6s 65ms/step - loss: 0.7108 - accuracy: 0.5000 - val_loss: 0.6933 - val_accuracy: 0.5000\n",
      "Epoch 4/5\n",
      "87/87 [==============================] - 5s 61ms/step - loss: 0.7055 - accuracy: 0.5000 - val_loss: 0.6949 - val_accuracy: 0.5000\n",
      "Epoch 5/5\n",
      "87/87 [==============================] - 6s 64ms/step - loss: 0.7014 - accuracy: 0.5000 - val_loss: 0.6954 - val_accuracy: 0.5000\n"
     ]
    }
   ],
   "source": [
    "history = resnet50_model.fit(\n",
    "        train_ds,\n",
    "        steps_per_epoch = params[\"train_size\"] // config[\"BATCH_SIZE\"],\n",
    "        epochs = config[\"NUM_EPOCHS\"],\n",
    "        validation_data = test_ds,\n",
    "        validation_steps = params[\"test_size\"] // config[\"BATCH_SIZE\"],\n",
    "        validation_freq = 1,\n",
    "        callbacks = callbacks)"
   ]
  },
  {
   "cell_type": "markdown",
   "metadata": {},
   "source": [
    "`Keras`\n",
    "Save/load the model"
   ]
  },
  {
   "cell_type": "code",
   "execution_count": 10,
   "metadata": {},
   "outputs": [],
   "source": [
    "# resnet50_model.save('models/{}.h5'.format(model_name))\n",
    "# resnet50_model = tf.keras.models.load_model('models/{}.h5'.format(model_name))"
   ]
  },
  {
   "cell_type": "markdown",
   "metadata": {},
   "source": [
    "## Evaluate the model"
   ]
  },
  {
   "cell_type": "code",
   "execution_count": 11,
   "metadata": {},
   "outputs": [
    {
     "name": "stdout",
     "output_type": "stream",
     "text": [
      "18/18 - 193s - loss: 0.6954 - accuracy: 0.5000\n"
     ]
    }
   ],
   "source": [
    "resnet50_evaluate = resnet50_model.evaluate(val_ds, verbose=2, steps=params[\"val_size\"] // config[\"BATCH_SIZE\"])"
   ]
  },
  {
   "cell_type": "code",
   "execution_count": 12,
   "metadata": {},
   "outputs": [
    {
     "data": {
      "image/png": "[encoded data removed]",
      "text/plain": [
       "<Figure size 1008x432 with 2 Axes>"
      ]
     },
     "metadata": {
      "needs_background": "light"
     },
     "output_type": "display_data"
    }
   ],
   "source": [
    "acc = history.history['accuracy']\n",
    "val_acc = history.history['val_accuracy']\n",
    "loss = history.history['loss']\n",
    "val_loss = history.history['val_loss']\n",
    "\n",
    "epochs_range = range(config[\"NUM_EPOCHS\"])\n",
    "\n",
    "plt.figure(figsize=(14, 6))\n",
    "\n",
    "# Subplot 1\n",
    "plt.subplot(1, 2, 1)\n",
    "plt.plot(epochs_range, acc, label='Training Accuracy')\n",
    "plt.plot(epochs_range, val_acc, label='Validation Accuracy')\n",
    "plt.legend(loc='lower right')\n",
    "# plt.ylim([0.5, 1])\n",
    "plt.xlabel('Epoch')\n",
    "plt.ylabel('Accuracy')\n",
    "plt.title('Training and Validation Accuracy')\n",
    "\n",
    "# Subplot 2\n",
    "plt.subplot(1, 2, 2)\n",
    "plt.plot(epochs_range, loss, label='Training Loss')\n",
    "plt.plot(epochs_range, val_loss, label='Validation Loss')\n",
    "plt.legend(loc='upper right')\n",
    "# plt.ylim([0.5, 1])\n",
    "plt.xlabel('Epoch')\n",
    "plt.ylabel('Accuracy')\n",
    "plt.title('Training and Validation Loss')\n",
    "plt.show()"
   ]
  },
  {
   "cell_type": "markdown",
   "metadata": {},
   "source": [
    "`Tensorboard`"
   ]
  },
  {
   "cell_type": "raw",
   "metadata": {},
   "source": [
    "from tensorboard import notebook\n",
    "# Load the TensorBoard notebook extension\n",
    "# %load_ext tensorboard\n",
    "\n",
    "# Start tensorboard\n",
    "# %tensorboard --logdir logs"
   ]
  },
  {
   "cell_type": "raw",
   "metadata": {},
   "source": [
    "# Clear any logs from previous runs (move to .old instead?)\n",
    "!rm -rf ./logs/\n",
    "\n",
    "# Stop tensorboard\n",
    "notebook.list()\n",
    "!kill 20058"
   ]
  },
  {
   "cell_type": "markdown",
   "metadata": {},
   "source": [
    "## Predict new samples"
   ]
  },
  {
   "cell_type": "code",
   "execution_count": 16,
   "metadata": {},
   "outputs": [
    {
     "ename": "KeyboardInterrupt",
     "evalue": "",
     "output_type": "error",
     "traceback": [
      "\u001b[0;31m---------------------------------------------------------------------------\u001b[0m",
      "\u001b[0;31mKeyboardInterrupt\u001b[0m                         Traceback (most recent call last)",
      "\u001b[0;32m<ipython-input-16-495b90dec2d7>\u001b[0m in \u001b[0;36m<module>\u001b[0;34m\u001b[0m\n\u001b[1;32m      1\u001b[0m \u001b[0;31m# Fetch one batch\u001b[0m\u001b[0;34m\u001b[0m\u001b[0;34m\u001b[0m\u001b[0;34m\u001b[0m\u001b[0m\n\u001b[0;32m----> 2\u001b[0;31m \u001b[0mimages\u001b[0m\u001b[0;34m,\u001b[0m \u001b[0mlabels\u001b[0m \u001b[0;34m=\u001b[0m \u001b[0mnext\u001b[0m\u001b[0;34m(\u001b[0m\u001b[0miter\u001b[0m\u001b[0;34m(\u001b[0m\u001b[0mval_ds\u001b[0m\u001b[0;34m)\u001b[0m\u001b[0;34m)\u001b[0m\u001b[0;34m\u001b[0m\u001b[0;34m\u001b[0m\u001b[0m\n\u001b[0m\u001b[1;32m      3\u001b[0m \u001b[0;34m\u001b[0m\u001b[0m\n\u001b[1;32m      4\u001b[0m \u001b[0;31m# Convert from tensor to numpy array\u001b[0m\u001b[0;34m\u001b[0m\u001b[0;34m\u001b[0m\u001b[0;34m\u001b[0m\u001b[0m\n\u001b[1;32m      5\u001b[0m \u001b[0mimages\u001b[0m \u001b[0;34m=\u001b[0m \u001b[0mimages\u001b[0m\u001b[0;34m.\u001b[0m\u001b[0mnumpy\u001b[0m\u001b[0;34m(\u001b[0m\u001b[0;34m)\u001b[0m\u001b[0;34m\u001b[0m\u001b[0;34m\u001b[0m\u001b[0m\n",
      "\u001b[0;32m~/anaconda3/envs/TF2/lib/python3.7/site-packages/tensorflow_core/python/data/ops/iterator_ops.py\u001b[0m in \u001b[0;36m__next__\u001b[0;34m(self)\u001b[0m\n\u001b[1;32m    620\u001b[0m \u001b[0;34m\u001b[0m\u001b[0m\n\u001b[1;32m    621\u001b[0m   \u001b[0;32mdef\u001b[0m \u001b[0m__next__\u001b[0m\u001b[0;34m(\u001b[0m\u001b[0mself\u001b[0m\u001b[0;34m)\u001b[0m\u001b[0;34m:\u001b[0m  \u001b[0;31m# For Python 3 compatibility\u001b[0m\u001b[0;34m\u001b[0m\u001b[0;34m\u001b[0m\u001b[0m\n\u001b[0;32m--> 622\u001b[0;31m     \u001b[0;32mreturn\u001b[0m \u001b[0mself\u001b[0m\u001b[0;34m.\u001b[0m\u001b[0mnext\u001b[0m\u001b[0;34m(\u001b[0m\u001b[0;34m)\u001b[0m\u001b[0;34m\u001b[0m\u001b[0;34m\u001b[0m\u001b[0m\n\u001b[0m\u001b[1;32m    623\u001b[0m \u001b[0;34m\u001b[0m\u001b[0m\n\u001b[1;32m    624\u001b[0m   \u001b[0;32mdef\u001b[0m \u001b[0m_next_internal\u001b[0m\u001b[0;34m(\u001b[0m\u001b[0mself\u001b[0m\u001b[0;34m)\u001b[0m\u001b[0;34m:\u001b[0m\u001b[0;34m\u001b[0m\u001b[0;34m\u001b[0m\u001b[0m\n",
      "\u001b[0;32m~/anaconda3/envs/TF2/lib/python3.7/site-packages/tensorflow_core/python/data/ops/iterator_ops.py\u001b[0m in \u001b[0;36mnext\u001b[0;34m(self)\u001b[0m\n\u001b[1;32m    664\u001b[0m     \u001b[0;34m\"\"\"Returns a nested structure of `Tensor`s containing the next element.\"\"\"\u001b[0m\u001b[0;34m\u001b[0m\u001b[0;34m\u001b[0m\u001b[0m\n\u001b[1;32m    665\u001b[0m     \u001b[0;32mtry\u001b[0m\u001b[0;34m:\u001b[0m\u001b[0;34m\u001b[0m\u001b[0;34m\u001b[0m\u001b[0m\n\u001b[0;32m--> 666\u001b[0;31m       \u001b[0;32mreturn\u001b[0m \u001b[0mself\u001b[0m\u001b[0;34m.\u001b[0m\u001b[0m_next_internal\u001b[0m\u001b[0;34m(\u001b[0m\u001b[0;34m)\u001b[0m\u001b[0;34m\u001b[0m\u001b[0;34m\u001b[0m\u001b[0m\n\u001b[0m\u001b[1;32m    667\u001b[0m     \u001b[0;32mexcept\u001b[0m \u001b[0merrors\u001b[0m\u001b[0;34m.\u001b[0m\u001b[0mOutOfRangeError\u001b[0m\u001b[0;34m:\u001b[0m\u001b[0;34m\u001b[0m\u001b[0;34m\u001b[0m\u001b[0m\n\u001b[1;32m    668\u001b[0m       \u001b[0;32mraise\u001b[0m \u001b[0mStopIteration\u001b[0m\u001b[0;34m\u001b[0m\u001b[0;34m\u001b[0m\u001b[0m\n",
      "\u001b[0;32m~/anaconda3/envs/TF2/lib/python3.7/site-packages/tensorflow_core/python/data/ops/iterator_ops.py\u001b[0m in \u001b[0;36m_next_internal\u001b[0;34m(self)\u001b[0m\n\u001b[1;32m    649\u001b[0m             \u001b[0mself\u001b[0m\u001b[0;34m.\u001b[0m\u001b[0m_iterator_resource\u001b[0m\u001b[0;34m,\u001b[0m\u001b[0;34m\u001b[0m\u001b[0;34m\u001b[0m\u001b[0m\n\u001b[1;32m    650\u001b[0m             \u001b[0moutput_types\u001b[0m\u001b[0;34m=\u001b[0m\u001b[0mself\u001b[0m\u001b[0;34m.\u001b[0m\u001b[0m_flat_output_types\u001b[0m\u001b[0;34m,\u001b[0m\u001b[0;34m\u001b[0m\u001b[0;34m\u001b[0m\u001b[0m\n\u001b[0;32m--> 651\u001b[0;31m             output_shapes=self._flat_output_shapes)\n\u001b[0m\u001b[1;32m    652\u001b[0m \u001b[0;34m\u001b[0m\u001b[0m\n\u001b[1;32m    653\u001b[0m       \u001b[0;32mtry\u001b[0m\u001b[0;34m:\u001b[0m\u001b[0;34m\u001b[0m\u001b[0;34m\u001b[0m\u001b[0m\n",
      "\u001b[0;32m~/anaconda3/envs/TF2/lib/python3.7/site-packages/tensorflow_core/python/ops/gen_dataset_ops.py\u001b[0m in \u001b[0;36miterator_get_next_sync\u001b[0;34m(iterator, output_types, output_shapes, name)\u001b[0m\n\u001b[1;32m   2657\u001b[0m         \u001b[0m_ctx\u001b[0m\u001b[0;34m.\u001b[0m\u001b[0m_context_handle\u001b[0m\u001b[0;34m,\u001b[0m \u001b[0m_ctx\u001b[0m\u001b[0;34m.\u001b[0m\u001b[0m_thread_local_data\u001b[0m\u001b[0;34m.\u001b[0m\u001b[0mdevice_name\u001b[0m\u001b[0;34m,\u001b[0m\u001b[0;34m\u001b[0m\u001b[0;34m\u001b[0m\u001b[0m\n\u001b[1;32m   2658\u001b[0m         \u001b[0;34m\"IteratorGetNextSync\"\u001b[0m\u001b[0;34m,\u001b[0m \u001b[0mname\u001b[0m\u001b[0;34m,\u001b[0m \u001b[0m_ctx\u001b[0m\u001b[0;34m.\u001b[0m\u001b[0m_post_execution_callbacks\u001b[0m\u001b[0;34m,\u001b[0m \u001b[0miterator\u001b[0m\u001b[0;34m,\u001b[0m\u001b[0;34m\u001b[0m\u001b[0;34m\u001b[0m\u001b[0m\n\u001b[0;32m-> 2659\u001b[0;31m         \"output_types\", output_types, \"output_shapes\", output_shapes)\n\u001b[0m\u001b[1;32m   2660\u001b[0m       \u001b[0;32mreturn\u001b[0m \u001b[0m_result\u001b[0m\u001b[0;34m\u001b[0m\u001b[0;34m\u001b[0m\u001b[0m\n\u001b[1;32m   2661\u001b[0m     \u001b[0;32mexcept\u001b[0m \u001b[0m_core\u001b[0m\u001b[0;34m.\u001b[0m\u001b[0m_FallbackException\u001b[0m\u001b[0;34m:\u001b[0m\u001b[0;34m\u001b[0m\u001b[0;34m\u001b[0m\u001b[0m\n",
      "\u001b[0;31mKeyboardInterrupt\u001b[0m: "
     ]
    }
   ],
   "source": [
    "# Fetch one batch\n",
    "images, labels = next(iter(val_ds))\n",
    "\n",
    "# Convert from tensor to numpy array\n",
    "images = images.numpy()\n",
    "labels = labels.numpy()"
   ]
  },
  {
   "cell_type": "code",
   "execution_count": 14,
   "metadata": {},
   "outputs": [
    {
     "name": "stdout",
     "output_type": "stream",
     "text": [
      "0.4644 Negative\n",
      "0.5356 Positive\n",
      "\n",
      "Label: Positive\n",
      "Predicton: Positive\n"
     ]
    },
    {
     "data": {
      "image/png": "[encoded data removed]",
      "text/plain": [
       "<Figure size 432x288 with 1 Axes>"
      ]
     },
     "metadata": {},
     "output_type": "display_data"
    }
   ],
   "source": [
    "# Get a random image and label\n",
    "rand = np.random.randint(0, config[\"BATCH_SIZE\"])\n",
    "image = images[rand]\n",
    "label = labels[rand]\n",
    "\n",
    "# Predict one image\n",
    "predictions = resnet50_model.predict(np.expand_dims(image, axis=0))[0]\n",
    "\n",
    "for i, pred in enumerate(predictions):\n",
    "    print(\"{:0.4f} {}\".format(pred,params[\"class_names\"][i]))\n",
    "\n",
    "print (\"\\nLabel:\", params[\"class_names\"][label])\n",
    "print (\"Predicton:\", params[\"class_names\"][np.argmax(predictions)])\n",
    "\n",
    "plt.figure(frameon=False, facecolor='white')\n",
    "plt.imshow(image)\n",
    "plt.axis('off');"
   ]
  },
  {
   "cell_type": "code",
   "execution_count": 15,
   "metadata": {},
   "outputs": [
    {
     "name": "stdout",
     "output_type": "stream",
     "text": [
      "idx  label                     pred                     \n",
      "---  ------------------------- -------------------------\n",
      "  0  Negative                  Positive                   Wrong\n",
      "  1  Positive                  Positive                 \n",
      "  2  Negative                  Positive                   Wrong\n",
      "  3  Negative                  Positive                   Wrong\n",
      "  4  Positive                  Positive                 \n",
      "  5  Negative                  Positive                   Wrong\n",
      "  6  Positive                  Positive                 \n",
      "  7  Positive                  Positive                 \n",
      "  8  Negative                  Positive                   Wrong\n",
      "  9  Positive                  Positive                 \n",
      " 10  Negative                  Positive                   Wrong\n",
      " 11  Positive                  Positive                 \n",
      " 12  Positive                  Positive                 \n",
      " 13  Positive                  Positive                 \n",
      " 14  Positive                  Positive                 \n",
      " 15  Positive                  Positive                 \n",
      " 16  Negative                  Positive                   Wrong\n",
      " 17  Positive                  Positive                 \n",
      " 18  Positive                  Positive                 \n",
      " 19  Positive                  Positive                 \n",
      " 20  Negative                  Positive                   Wrong\n",
      " 21  Negative                  Positive                   Wrong\n",
      " 22  Negative                  Positive                   Wrong\n",
      " 23  Positive                  Positive                 \n",
      " 24  Positive                  Positive                 \n",
      " 25  Negative                  Positive                   Wrong\n",
      " 26  Positive                  Positive                 \n",
      " 27  Negative                  Positive                   Wrong\n",
      " 28  Positive                  Positive                 \n",
      " 29  Positive                  Positive                 \n",
      " 30  Positive                  Positive                 \n",
      " 31  Positive                  Positive                 \n",
      " 32  Negative                  Positive                   Wrong\n",
      " 33  Negative                  Positive                   Wrong\n",
      " 34  Negative                  Positive                   Wrong\n",
      " 35  Positive                  Positive                 \n",
      " 36  Negative                  Positive                   Wrong\n",
      " 37  Negative                  Positive                   Wrong\n",
      " 38  Positive                  Positive                 \n",
      " 39  Negative                  Positive                   Wrong\n",
      " 40  Positive                  Positive                 \n",
      " 41  Negative                  Positive                   Wrong\n",
      " 42  Negative                  Positive                   Wrong\n",
      " 43  Negative                  Positive                   Wrong\n",
      " 44  Positive                  Positive                 \n",
      " 45  Positive                  Positive                 \n",
      " 46  Negative                  Positive                   Wrong\n",
      " 47  Positive                  Positive                 \n",
      " 48  Positive                  Positive                 \n",
      " 49  Negative                  Positive                   Wrong\n",
      " 50  Positive                  Positive                 \n",
      " 51  Negative                  Positive                   Wrong\n",
      " 52  Positive                  Positive                 \n",
      " 53  Negative                  Positive                   Wrong\n",
      " 54  Negative                  Positive                   Wrong\n",
      " 55  Positive                  Positive                 \n",
      " 56  Negative                  Positive                   Wrong\n",
      " 57  Positive                  Positive                 \n",
      " 58  Negative                  Positive                   Wrong\n",
      " 59  Negative                  Positive                   Wrong\n",
      " 60  Negative                  Positive                   Wrong\n",
      " 61  Negative                  Positive                   Wrong\n",
      " 62  Negative                  Positive                   Wrong\n",
      " 63  Negative                  Positive                   Wrong"
     ]
    }
   ],
   "source": [
    "# Predict one batch\n",
    "predictions = resnet50_model.predict(images)\n",
    "\n",
    "print ('{:3}  {:<25} {:25}'.format('idx', 'label', 'pred'))\n",
    "print ('---  {} {}'.format(25*'-', 25*'-'), end='')\n",
    "\n",
    "for i, pred in enumerate(predictions):\n",
    "    label = params[\"class_names\"][labels[i]]\n",
    "    prediction = params[\"class_names\"][np.argmax(pred)]\n",
    "    print ('\\n{:3}  {:25} {:25}'.format(i, label, prediction), end='')\n",
    "    if (label != prediction): print (\"  Wrong\", end='')"
   ]
  }
 ],
 "metadata": {
  "kernelspec": {
   "display_name": "TF2",
   "language": "python",
   "name": "tf2"
  },
  "language_info": {
   "codemirror_mode": {
    "name": "ipython",
    "version": 3
   },
   "file_extension": ".py",
   "mimetype": "text/x-python",
   "name": "python",
   "nbconvert_exporter": "python",
   "pygments_lexer": "ipython3",
   "version": "3.7.6"
  }
 },
 "nbformat": 4,
 "nbformat_minor": 4
}
