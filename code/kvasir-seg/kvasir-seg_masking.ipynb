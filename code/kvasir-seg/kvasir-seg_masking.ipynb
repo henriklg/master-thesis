{
 "cells": [
  {
   "cell_type": "markdown",
   "metadata": {},
   "source": [
    "Code for reading kvasir-SEG (segmented) and overlaying masks on images and saving to `masked_images`"
   ]
  },
  {
   "cell_type": "code",
   "execution_count": 2,
   "metadata": {},
   "outputs": [],
   "source": [
    "from pathlib import Path\n",
    "from matplotlib import pyplot as plt\n",
    "import numpy as np\n",
    "import cv2\n",
    "import os, os.path, sys"
   ]
  },
  {
   "cell_type": "code",
   "execution_count": 3,
   "metadata": {},
   "outputs": [],
   "source": [
    "image_path = Path('/mnt/sdb/Kvasir-SEG/images/')\n",
    "mask_path  = Path('/mnt/sdb/Kvasir-SEG/masks/')\n",
    "masked_path = Path('/mnt/sdb/Kvasir-SEG/masked_images/')\n",
    "\n",
    "num_images = len([name for name in os.listdir(image_path) if os.path.isfile(os.path.join(image_path, name))])"
   ]
  },
  {
   "cell_type": "markdown",
   "metadata": {},
   "source": [
    "### Read all images and masks and store them in lists"
   ]
  },
  {
   "cell_type": "code",
   "execution_count": 4,
   "metadata": {},
   "outputs": [],
   "source": [
    "all_images = []\n",
    "name_list = []\n",
    "\n",
    "# iterate over all image paths\n",
    "for path in image_path.iterdir():\n",
    "    if str(path).endswith(\".jpg\"):\n",
    "        filename = path.name\n",
    "        name_list.append(filename)\n",
    "        path_in_str = str(path)\n",
    "        all_images.append(cv2.imread(path_in_str))"
   ]
  },
  {
   "cell_type": "code",
   "execution_count": 5,
   "metadata": {},
   "outputs": [],
   "source": [
    "all_masks = []\n",
    "\n",
    "# iterate over all image paths\n",
    "for path in mask_path.iterdir():\n",
    "    if str(path).endswith(\".jpg\"):\n",
    "        path_in_str = str(path)\n",
    "        all_masks.append(cv2.imread(path_in_str))\n",
    "\n",
    "assert num_images == len(all_masks), 'Not same number of masks as images'"
   ]
  },
  {
   "cell_type": "markdown",
   "metadata": {},
   "source": [
    "### Combine image and mask to create masked image\n",
    "Also normalizes the images to be in range [0, 1]"
   ]
  },
  {
   "cell_type": "code",
   "execution_count": null,
   "metadata": {},
   "outputs": [],
   "source": [
    "masked_images = []\n",
    "\n",
    "for i in range(num_images):\n",
    "    masked = cv2.bitwise_and(all_masks[i], all_images[i])\n",
    "    masked_images.append(masked/255.0)"
   ]
  },
  {
   "cell_type": "markdown",
   "metadata": {},
   "source": [
    "### Save the images"
   ]
  },
  {
   "cell_type": "code",
   "execution_count": null,
   "metadata": {},
   "outputs": [],
   "source": [
    "rgb_im = cv2.cvtColor(masked_image[0], cv2.COLOR_BGR2RGB)\n",
    "\n",
    "plt.imshow(rgb_im)\n",
    "plt.title('Example image')\n",
    "plt.show()"
   ]
  },
  {
   "cell_type": "code",
   "execution_count": null,
   "metadata": {},
   "outputs": [],
   "source": [
    "os.chdir(masked_path)\n",
    "\n",
    "for i in range(num_images):\n",
    "    cv2.imwrite(name_list[i], masked_images[i])"
   ]
  }
 ],
 "metadata": {
  "kernelspec": {
   "display_name": "TF2",
   "language": "python",
   "name": "tf2"
  },
  "language_info": {
   "codemirror_mode": {
    "name": "ipython",
    "version": 3
   },
   "file_extension": ".py",
   "mimetype": "text/x-python",
   "name": "python",
   "nbconvert_exporter": "python",
   "pygments_lexer": "ipython3",
   "version": "3.7.6"
  }
 },
 "nbformat": 4,
 "nbformat_minor": 4
}
