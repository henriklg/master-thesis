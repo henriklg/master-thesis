{
 "cells": [
  {
   "cell_type": "markdown",
   "metadata": {},
   "source": [
    "### Loading images\n",
    "https://www.tensorflow.org/tutorials/load_data/images"
   ]
  },
  {
   "cell_type": "code",
   "execution_count": 16,
   "metadata": {
    "scrolled": true
   },
   "outputs": [],
   "source": [
    "from __future__ import absolute_import, division, print_function, unicode_literals\n",
    "import datetime\n",
    "import tensorflow as tf\n",
    "from tensorflow import keras\n",
    "from tensorflow.keras.callbacks import TensorBoard, LearningRateScheduler\n",
    "import matplotlib.pyplot as plt\n",
    "import resnet\n",
    "\n",
    "AUTOTUNE = tf.data.experimental.AUTOTUNE\n",
    "\n",
    "import IPython.display as display\n",
    "from PIL import Image\n",
    "import numpy as np\n",
    "import os\n",
    "import pathlib"
   ]
  },
  {
   "cell_type": "code",
   "execution_count": 2,
   "metadata": {
    "scrolled": true
   },
   "outputs": [],
   "source": [
    "NUM_GPUS = 1\n",
    "BS_PER_GPU = 128\n",
    "BATCH_SIZE = 128\n",
    "NUM_EPOCHS = 10\n",
    "\n",
    "IMG_HEIGHT = 64\n",
    "IMG_WIDTH = 64\n",
    "NUM_CHANNELS = 3\n",
    "NUM_CLASSES = 8\n",
    "NUM_TRAIN_SAMPLES = 40000\n",
    "\n",
    "BASE_LEARNING_RATE = 0.1\n",
    "LR_SCHEDULE = [(0.1, 30), (0.01, 45)]"
   ]
  },
  {
   "cell_type": "code",
   "execution_count": 3,
   "metadata": {
    "scrolled": true
   },
   "outputs": [],
   "source": [
    "def preprocess(x, y):\n",
    "  x = tf.image.per_image_standardization(x)\n",
    "  return x, y\n",
    "\n",
    "\n",
    "def augmentation(x, y):\n",
    "    x = tf.image.resize_with_crop_or_pad(\n",
    "        x, IMG_HEIGHT + 8, IMG_WIDTH + 8)\n",
    "    x = tf.image.random_crop(x, [IMG_HEIGHT, IMG_WIDTH, NUM_CHANNELS])\n",
    "    x = tf.image.random_flip_left_right(x)\n",
    "    return x, y\t\n",
    "\n",
    "\n",
    "def schedule(epoch):\n",
    "  initial_learning_rate = BASE_LEARNING_RATE * BS_PER_GPU / 128\n",
    "  learning_rate = initial_learning_rate\n",
    "  for mult, start_epoch in LR_SCHEDULE:\n",
    "    if epoch >= start_epoch:\n",
    "      learning_rate = initial_learning_rate * mult\n",
    "    else:\n",
    "      break\n",
    "  tf.summary.scalar('learning rate', data=learning_rate, step=epoch)\n",
    "  return learning_rate"
   ]
  },
  {
   "cell_type": "code",
   "execution_count": 4,
   "metadata": {},
   "outputs": [
    {
     "name": "stdout",
     "output_type": "stream",
     "text": [
      "Class names:  ['Anatomic landmarks' 'Unknown' 'Protruding lesions' 'Flat lesions'\n",
      " 'Lumen' 'Mucosa' 'Normal' 'Excavated lesions']\n"
     ]
    }
   ],
   "source": [
    "data_dir = pathlib.Path('/mnt/sdb/augere_export_class/')\n",
    "\n",
    "DATASET_SIZE = len(list(data_dir.glob('*/*.png')))\n",
    "class_names = np.array([item.name for item in data_dir.glob('*') if item.name != 'metadata.json'])\n",
    "print (\"Class names: \",class_names)\n",
    "\n",
    "# Create a dataset of the file paths\n",
    "list_ds = tf.data.Dataset.list_files(str(data_dir/'*/*'))"
   ]
  },
  {
   "cell_type": "code",
   "execution_count": 5,
   "metadata": {},
   "outputs": [
    {
     "name": "stdout",
     "output_type": "stream",
     "text": [
      "Anatomic landmarks: 6868\n",
      "Unknown           : 274\n",
      "Protruding lesions: 583\n",
      "Flat lesions      : 908\n",
      "Lumen             : 1446\n",
      "Mucosa            : 251\n",
      "Normal            : 33129\n",
      "Excavated lesions : 1252\n",
      "\n",
      "Total number of images: 44711\n"
     ]
    }
   ],
   "source": [
    "for classes in class_names:\n",
    "    class_samples = len(list(data_dir.glob(classes+'/*.png')))\n",
    "    print('{0:18}: {1:3d}'.format(classes, class_samples))\n",
    "\n",
    "print ('\\nTotal number of images:', DATASET_SIZE)"
   ]
  },
  {
   "cell_type": "code",
   "execution_count": 6,
   "metadata": {},
   "outputs": [],
   "source": [
    "def get_label_test(file_path):\n",
    "    # Not used, mainly for log\n",
    "    label = [i for i, s in enumerate(class_names) if 'Normal' in s]\n",
    "    return np.uint8(label)\n",
    "    \n",
    "def get_label_int(file_path):\n",
    "    # convert the path to a list of path components\n",
    "    parts = tf.strings.split(file_path, os.path.sep)\n",
    "    # get class integer from class-list\n",
    "    label_int64 = tf.reduce_min(tf.where(tf.equal(parts[-2], class_names)))\n",
    "    # cast to tensor array with dtype=uint8\n",
    "    label_uint8 = tf.dtypes.cast(label_int64, tf.uint8)\n",
    "    return tf.reshape(label_uint8, [-1])\n",
    "\n",
    "def get_label_bool(file_path):\n",
    "    # convert the path to a list of path components\n",
    "    parts = tf.strings.split(file_path, os.path.sep)\n",
    "    # The second to last is the class-directory\n",
    "    return parts[-2] == class_names\n",
    "\n",
    "def decode_img(img):\n",
    "    # convert the compressed string to a 3D uint8 tensor\n",
    "    img = tf.image.decode_jpeg(img, channels=3)\n",
    "    # Use `convert_image_dtype` to convert to floats in the [0,1] range.\n",
    "    img = tf.image.convert_image_dtype(img, tf.float32)\n",
    "    # resize the image to the desired size.\n",
    "    return tf.image.resize(img, [IMG_WIDTH, IMG_HEIGHT])\n",
    "\n",
    "def process_path(file_path):\n",
    "    label = get_label_int(file_path)\n",
    "    # load the raw data from the file as a string\n",
    "    img = tf.io.read_file(file_path)\n",
    "    img = decode_img(img)\n",
    "    return img, label\n",
    "\n",
    "labeled_ds = list_ds.map(process_path, num_parallel_calls=AUTOTUNE)"
   ]
  },
  {
   "cell_type": "markdown",
   "metadata": {},
   "source": [
    "Showing an example image/label pair"
   ]
  },
  {
   "cell_type": "code",
   "execution_count": 7,
   "metadata": {},
   "outputs": [
    {
     "name": "stdout",
     "output_type": "stream",
     "text": [
      "Class: ['Normal']\n"
     ]
    },
    {
     "data": {
      "image/png": "[encoded data removed]",
      "text/plain": [
       "<Figure size 432x288 with 1 Axes>"
      ]
     },
     "metadata": {
      "needs_background": "light"
     },
     "output_type": "display_data"
    }
   ],
   "source": [
    "for image, label in labeled_ds.take(1):\n",
    "    plt.figure()\n",
    "    plt.imshow(image.numpy())\n",
    "    plt.axis('off')\n",
    "    print(\"Class:\",class_names[label.numpy()])\n",
    "    \n",
    "#print(next(iter(labeled_ds)))"
   ]
  },
  {
   "cell_type": "markdown",
   "metadata": {},
   "source": [
    "## Training\n",
    "See https://lambdalabs.com/blog/tensorflow-2-0-tutorial-01-image-classification-basics/\n",
    "\n",
    "https://github.com/lambdal/TensorFlow2-tutorial/tree/master/01-basic-image-classification"
   ]
  },
  {
   "cell_type": "markdown",
   "metadata": {},
   "source": [
    "Splitting into training, test and validation data"
   ]
  },
  {
   "cell_type": "code",
   "execution_count": 8,
   "metadata": {},
   "outputs": [],
   "source": [
    "train_size = int(0.7 * DATASET_SIZE)\n",
    "val_size = int(0.15 * DATASET_SIZE)\n",
    "test_size = int(0.15 * DATASET_SIZE)\n",
    "\n",
    "full_ds = labeled_ds\n",
    "train_ds = full_ds.take(train_size)\n",
    "test_ds = full_ds.skip(train_size)\n",
    "val_ds = test_ds.skip(val_size)\n",
    "test_ds = test_ds.take(test_size)"
   ]
  },
  {
   "cell_type": "code",
   "execution_count": 9,
   "metadata": {},
   "outputs": [
    {
     "name": "stdout",
     "output_type": "stream",
     "text": [
      "Full dataset sample size: 44711\n",
      "Train dataset sample size: 31297\n",
      "Test dataset sample size: 6706\n",
      "Validation dataset sample size: 6708\n"
     ]
    }
   ],
   "source": [
    "def get_size(ds):\n",
    "    return tf.data.experimental.cardinality(ds).numpy()\n",
    "\n",
    "print (\"Full dataset sample size:\", get_size(full_ds))\n",
    "print (\"Train dataset sample size:\", get_size(train_ds))\n",
    "print (\"Test dataset sample size:\", get_size(test_ds))\n",
    "print (\"Validation dataset sample size:\", get_size(val_ds))"
   ]
  },
  {
   "cell_type": "code",
   "execution_count": 10,
   "metadata": {},
   "outputs": [],
   "source": [
    "def prepare_for_training(ds, cache=True, shuffle_buffer_size=1000):\n",
    "    # This is a small dataset, only load it once, and keep it in memory.\n",
    "    # use `.cache(filename)` to cache preprocessing work for datasets that don't\n",
    "    # fit in memory.\n",
    "    if cache:\n",
    "      if isinstance(cache, str):\n",
    "        ds = ds.cache(cache)\n",
    "      else:\n",
    "        ds = ds.cache()\n",
    "\n",
    "    ds = ds.shuffle(buffer_size=shuffle_buffer_size)\n",
    "\n",
    "    # Repeat forever\n",
    "    #ds = ds.repeat()\n",
    "\n",
    "    ds = ds.batch(BATCH_SIZE)\n",
    "\n",
    "    # `prefetch` lets the dataset fetch batches in the background while the model\n",
    "    # is training.\n",
    "    ds = ds.prefetch(buffer_size=AUTOTUNE)\n",
    "    return ds\n",
    "\n",
    "# Create training dataset\n",
    "train_ds = prepare_for_training(train_ds, cache=\"./train_ds.tfcache\")\n",
    "# Create test dataset\n",
    "test_ds = prepare_for_training(test_ds, cache=\"./test_ds.tfcache\")\n",
    "# Create validation dataset\n",
    "val_ds = prepare_for_training(val_ds, cache=\"./val_ds.tfcache\")"
   ]
  },
  {
   "cell_type": "code",
   "execution_count": 15,
   "metadata": {},
   "outputs": [],
   "source": [
    "tf.random.set_seed(22)\n",
    "#train_dataset = train_dataset.map(augmentation).map(preprocess).shuffle(NUM_TRAIN_SAMPLES).batch(BS_PER_GPU * NUM_GPUS, drop_remainder=True)\n",
    "#test_dataset = test_dataset.map(preprocess).batch(BS_PER_GPU * NUM_GPUS, drop_remainder=True)\n",
    "\n",
    "input_shape = (IMG_HEIGHT, IMG_WIDTH, NUM_CHANNELS)\n",
    "img_input = tf.keras.layers.Input(shape=input_shape)\n",
    "opt = keras.optimizers.SGD(learning_rate=0.1, momentum=0.9)\n",
    "\n",
    "if NUM_GPUS == 1:\n",
    "    model = resnet.resnet56(img_input=img_input, classes=NUM_CLASSES)\n",
    "    model.compile(\n",
    "              optimizer=opt,\n",
    "              loss='sparse_categorical_crossentropy',\n",
    "              metrics=['sparse_categorical_accuracy'])\n",
    "else:\n",
    "    mirrored_strategy = tf.distribute.MirroredStrategy()\n",
    "    with mirrored_strategy.scope():\n",
    "      model = resnet.resnet56(img_input=img_input, classes=NUM_CLASSES)\n",
    "      model.compile(\n",
    "                optimizer=opt,\n",
    "                loss='sparse_categorical_crossentropy',\n",
    "                metrics=['sparse_categorical_accuracy'])  \n",
    "\n",
    "log_dir=\"logs/fit/\" + datetime.datetime.now().strftime(\"%Y%m%d-%H%M%S\")\n",
    "file_writer = tf.summary.create_file_writer(log_dir + \"/metrics\")\n",
    "file_writer.set_as_default()\n",
    "\n",
    "tensorboard_callback = TensorBoard(\n",
    "  log_dir=log_dir,\n",
    "  update_freq='batch',\n",
    "  histogram_freq=1)\n",
    "\n",
    "lr_schedule_callback = LearningRateScheduler(schedule)\n",
    "\n",
    "\n",
    "history = model.fit(\n",
    "    train_ds,\n",
    "    epochs=NUM_EPOCHS,\n",
    "    validation_data=test_ds,\n",
    "    validation_freq=1,\n",
    "    #steps_per_epoch=245, if ds.repeat() should be ceil(num_samples/batch_size)\n",
    "    #validation_steps=245, sould be ceil(num_val_samples/batch_size)\n",
    "    callbacks=[tensorboard_callback, lr_schedule_callback])"
   ]
  },
  {
   "cell_type": "code",
   "execution_count": 15,
   "metadata": {},
   "outputs": [
    {
     "name": "stdout",
     "output_type": "stream",
     "text": [
      "Epoch 1/10\n",
      "245/245 [==============================] - 25s 104ms/step - loss: 0.8398 - sparse_categorical_accuracy: 0.9960 - val_loss: 0.0000e+00 - val_sparse_categorical_accuracy: 0.0000e+00\n",
      "Epoch 2/10\n",
      "245/245 [==============================] - 14s 58ms/step - loss: 0.6878 - sparse_categorical_accuracy: 1.0000 - val_loss: 0.6219 - val_sparse_categorical_accuracy: 1.0000\n",
      "Epoch 3/10\n",
      "245/245 [==============================] - 14s 58ms/step - loss: 0.5650 - sparse_categorical_accuracy: 1.0000 - val_loss: 0.5108 - val_sparse_categorical_accuracy: 1.0000\n",
      "Epoch 4/10\n",
      "245/245 [==============================] - 14s 59ms/step - loss: 0.4640 - sparse_categorical_accuracy: 1.0000 - val_loss: 0.4196 - val_sparse_categorical_accuracy: 1.0000\n",
      "Epoch 5/10\n",
      "245/245 [==============================] - 14s 59ms/step - loss: 0.3812 - sparse_categorical_accuracy: 1.0000 - val_loss: 0.3446 - val_sparse_categorical_accuracy: 1.0000\n",
      "Epoch 6/10\n",
      "245/245 [==============================] - 14s 59ms/step - loss: 0.3131 - sparse_categorical_accuracy: 1.0000 - val_loss: 0.2831 - val_sparse_categorical_accuracy: 1.0000\n",
      "Epoch 7/10\n",
      "245/245 [==============================] - 14s 58ms/step - loss: 0.2572 - sparse_categorical_accuracy: 1.0000 - val_loss: 0.2325 - val_sparse_categorical_accuracy: 1.0000\n",
      "Epoch 8/10\n",
      "245/245 [==============================] - 14s 58ms/step - loss: 0.2112 - sparse_categorical_accuracy: 1.0000 - val_loss: 0.1910 - val_sparse_categorical_accuracy: 1.0000\n",
      "Epoch 9/10\n",
      "245/245 [==============================] - 14s 59ms/step - loss: 0.1735 - sparse_categorical_accuracy: 1.0000 - val_loss: 0.1569 - val_sparse_categorical_accuracy: 1.0000\n",
      "Epoch 10/10\n",
      "245/245 [==============================] - 14s 58ms/step - loss: 0.1425 - sparse_categorical_accuracy: 1.0000 - val_loss: 0.1289 - val_sparse_categorical_accuracy: 1.0000\n"
     ]
    },
    {
     "data": {
      "text/plain": [
       "<tensorflow.python.keras.callbacks.History at 0x7fafff105590>"
      ]
     },
     "execution_count": 15,
     "metadata": {},
     "output_type": "execute_result"
    }
   ],
   "source": [
    "# The returned \"history\" object holds a record\n",
    "# of the loss values and metric values during training\n",
    "print('\\nhistory dict:', history.history)"
   ]
  },
  {
   "cell_type": "markdown",
   "metadata": {},
   "source": [
    "Validate the results"
   ]
  },
  {
   "cell_type": "code",
   "execution_count": null,
   "metadata": {},
   "outputs": [],
   "source": [
    "model.evaluate(test_ds)\n",
    "\n",
    "model.save('model.h5')\n",
    "\n",
    "new_model = keras.models.load_model('model.h5')\n",
    " \n",
    "new_model.evaluate(test_ds)"
   ]
  },
  {
   "cell_type": "code",
   "execution_count": 17,
   "metadata": {},
   "outputs": [
    {
     "name": "stdout",
     "output_type": "stream",
     "text": [
      "53/53 [==============================] - 2s 47ms/step - loss: 10.6761 - sparse_categorical_accuracy: 0.7303\n"
     ]
    },
    {
     "data": {
      "text/plain": [
       "[10.676100433997387, 0.730322]"
      ]
     },
     "execution_count": 17,
     "metadata": {},
     "output_type": "execute_result"
    }
   ],
   "source": [
    "model.evaluate(val_ds)"
   ]
  },
  {
   "cell_type": "code",
   "execution_count": 72,
   "metadata": {},
   "outputs": [
    {
     "name": "stdout",
     "output_type": "stream",
     "text": [
      "True label: Normal\n",
      "Predicted label: Normal\n"
     ]
    },
    {
     "data": {
      "image/png": "[encoded data removed]",
      "text/plain": [
       "<Figure size 432x288 with 1 Axes>"
      ]
     },
     "metadata": {
      "needs_background": "light"
     },
     "output_type": "display_data"
    }
   ],
   "source": [
    "image, label = next(iter(val_ds))\n",
    "image = image.numpy()\n",
    "print (\"True label:\", class_names[label.numpy()[0][0]])\n",
    "\n",
    "plt.figure()\n",
    "plt.imshow(image[0])\n",
    "#print (image.numpy())\n",
    "res = model.predict(image)\n",
    "\n",
    "print (\"Predicted label:\", class_names[np.argmax(res[0])])"
   ]
  },
  {
   "cell_type": "code",
   "execution_count": 122,
   "metadata": {},
   "outputs": [
    {
     "name": "stdout",
     "output_type": "stream",
     "text": [
      "  0 True:Normal               Pred:Normal\n",
      "  1 True:Normal               Pred:Normal\n",
      "  2 True:Normal               Pred:Normal\n",
      "  3 True:Anatomic landmarks   Pred:Normal\n",
      "  4 True:Normal               Pred:Normal\n",
      "  5 True:Normal               Pred:Normal\n",
      "  6 True:Normal               Pred:Normal\n",
      "  7 True:Normal               Pred:Normal\n",
      "  8 True:Normal               Pred:Normal\n",
      "  9 True:Normal               Pred:Normal\n",
      " 10 True:Normal               Pred:Normal\n",
      " 11 True:Normal               Pred:Normal\n",
      " 12 True:Normal               Pred:Normal\n",
      " 13 True:Normal               Pred:Normal\n",
      " 14 True:Normal               Pred:Normal\n",
      " 15 True:Normal               Pred:Normal\n",
      " 16 True:Normal               Pred:Normal\n",
      " 17 True:Anatomic landmarks   Pred:Normal\n",
      " 18 True:Normal               Pred:Normal\n",
      " 19 True:Normal               Pred:Normal\n",
      " 20 True:Normal               Pred:Normal\n",
      " 21 True:Normal               Pred:Normal\n",
      " 22 True:Normal               Pred:Normal\n",
      " 23 True:Normal               Pred:Normal\n",
      " 24 True:Normal               Pred:Normal\n",
      " 25 True:Normal               Pred:Normal\n",
      " 26 True:Normal               Pred:Normal\n",
      " 27 True:Normal               Pred:Normal\n",
      " 28 True:Normal               Pred:Normal\n",
      " 29 True:Anatomic landmarks   Pred:Normal\n",
      " 30 True:Anatomic landmarks   Pred:Normal\n",
      " 31 True:Normal               Pred:Normal\n",
      " 32 True:Anatomic landmarks   Pred:Normal\n",
      " 33 True:Lumen                Pred:Normal\n",
      " 34 True:Normal               Pred:Normal\n",
      " 35 True:Normal               Pred:Normal\n",
      " 36 True:Normal               Pred:Normal\n",
      " 37 True:Anatomic landmarks   Pred:Normal\n",
      " 38 True:Normal               Pred:Normal\n",
      " 39 True:Anatomic landmarks   Pred:Normal\n",
      " 40 True:Anatomic landmarks   Pred:Normal\n",
      " 41 True:Normal               Pred:Normal\n",
      " 42 True:Anatomic landmarks   Pred:Normal\n",
      " 43 True:Normal               Pred:Normal\n",
      " 44 True:Normal               Pred:Normal\n",
      " 45 True:Normal               Pred:Normal\n",
      " 46 True:Normal               Pred:Normal\n",
      " 47 True:Normal               Pred:Normal\n",
      " 48 True:Anatomic landmarks   Pred:Normal\n",
      " 49 True:Normal               Pred:Normal\n",
      " 50 True:Normal               Pred:Normal\n",
      " 51 True:Anatomic landmarks   Pred:Normal\n",
      " 52 True:Normal               Pred:Normal\n",
      " 53 True:Normal               Pred:Normal\n",
      " 54 True:Normal               Pred:Normal\n",
      " 55 True:Normal               Pred:Normal\n",
      " 56 True:Flat lesions         Pred:Normal\n",
      " 57 True:Anatomic landmarks   Pred:Normal\n",
      " 58 True:Normal               Pred:Normal\n",
      " 59 True:Anatomic landmarks   Pred:Normal\n",
      " 60 True:Anatomic landmarks   Pred:Normal\n",
      " 61 True:Normal               Pred:Normal\n",
      " 62 True:Normal               Pred:Normal\n",
      " 63 True:Normal               Pred:Normal\n",
      " 64 True:Normal               Pred:Normal\n",
      " 65 True:Excavated lesions    Pred:Normal\n",
      " 66 True:Normal               Pred:Normal\n",
      " 67 True:Normal               Pred:Normal\n",
      " 68 True:Normal               Pred:Normal\n",
      " 69 True:Anatomic landmarks   Pred:Normal\n",
      " 70 True:Normal               Pred:Normal\n",
      " 71 True:Normal               Pred:Normal\n",
      " 72 True:Normal               Pred:Normal\n",
      " 73 True:Normal               Pred:Normal\n",
      " 74 True:Normal               Pred:Normal\n",
      " 75 True:Normal               Pred:Normal\n",
      " 76 True:Normal               Pred:Normal\n",
      " 77 True:Anatomic landmarks   Pred:Normal\n",
      " 78 True:Normal               Pred:Normal\n",
      " 79 True:Normal               Pred:Normal\n",
      " 80 True:Excavated lesions    Pred:Normal\n",
      " 81 True:Normal               Pred:Normal\n",
      " 82 True:Normal               Pred:Normal\n",
      " 83 True:Anatomic landmarks   Pred:Normal\n",
      " 84 True:Normal               Pred:Normal\n",
      " 85 True:Normal               Pred:Normal\n",
      " 86 True:Normal               Pred:Normal\n",
      " 87 True:Normal               Pred:Normal\n",
      " 88 True:Lumen                Pred:Normal\n",
      " 89 True:Anatomic landmarks   Pred:Normal\n",
      " 90 True:Normal               Pred:Normal\n",
      " 91 True:Normal               Pred:Normal\n",
      " 92 True:Anatomic landmarks   Pred:Normal\n",
      " 93 True:Normal               Pred:Normal\n",
      " 94 True:Normal               Pred:Normal\n",
      " 95 True:Normal               Pred:Normal\n",
      " 96 True:Normal               Pred:Normal\n",
      " 97 True:Normal               Pred:Normal\n",
      " 98 True:Normal               Pred:Normal\n",
      " 99 True:Normal               Pred:Normal\n",
      "100 True:Normal               Pred:Normal\n",
      "101 True:Excavated lesions    Pred:Normal\n",
      "102 True:Anatomic landmarks   Pred:Normal\n",
      "103 True:Normal               Pred:Normal\n",
      "104 True:Normal               Pred:Normal\n",
      "105 True:Normal               Pred:Normal\n",
      "106 True:Normal               Pred:Normal\n",
      "107 True:Normal               Pred:Normal\n",
      "108 True:Normal               Pred:Normal\n",
      "109 True:Normal               Pred:Normal\n",
      "110 True:Lumen                Pred:Normal\n",
      "111 True:Normal               Pred:Normal\n",
      "112 True:Normal               Pred:Normal\n",
      "113 True:Protruding lesions   Pred:Normal\n",
      "114 True:Normal               Pred:Normal\n",
      "115 True:Normal               Pred:Normal\n",
      "116 True:Normal               Pred:Normal\n",
      "117 True:Flat lesions         Pred:Normal\n",
      "118 True:Normal               Pred:Normal\n",
      "119 True:Normal               Pred:Normal\n",
      "120 True:Normal               Pred:Normal\n",
      "121 True:Normal               Pred:Normal\n",
      "122 True:Normal               Pred:Normal\n",
      "123 True:Normal               Pred:Normal\n",
      "124 True:Normal               Pred:Normal\n",
      "125 True:Normal               Pred:Normal\n",
      "126 True:Normal               Pred:Normal\n",
      "127 True:Normal               Pred:Normal\n"
     ]
    },
    {
     "name": "stderr",
     "output_type": "stream",
     "text": [
      "/home/henrik/anaconda3/envs/TF2/lib/python3.7/site-packages/ipykernel_launcher.py:3: FutureWarning: Using a non-tuple sequence for multidimensional indexing is deprecated; use `arr[tuple(seq)]` instead of `arr[seq]`. In the future this will be interpreted as an array index, `arr[np.array(seq)]`, which will result either in an error or a different result.\n",
      "  This is separate from the ipykernel package so we can avoid doing imports until\n"
     ]
    }
   ],
   "source": [
    "idx = 0\n",
    "for lab in res:\n",
    "    print ('{:3} True:{:20} Pred:{}'.format(idx, class_names[label[idx]], class_names[np.argmax(lab)]))\n",
    "    idx += 1"
   ]
  },
  {
   "cell_type": "code",
   "execution_count": 123,
   "metadata": {},
   "outputs": [
    {
     "ename": "AttributeError",
     "evalue": "'Model' object has no attribute 'predict_classes'",
     "output_type": "error",
     "traceback": [
      "\u001b[0;31m---------------------------------------------------------------------------\u001b[0m",
      "\u001b[0;31mAttributeError\u001b[0m                            Traceback (most recent call last)",
      "\u001b[0;32m<ipython-input-123-b25622899460>\u001b[0m in \u001b[0;36m<module>\u001b[0;34m\u001b[0m\n\u001b[0;32m----> 1\u001b[0;31m \u001b[0mmodel\u001b[0m\u001b[0;34m.\u001b[0m\u001b[0mpredict_classes\u001b[0m\u001b[0;34m(\u001b[0m\u001b[0mimage\u001b[0m\u001b[0;34m)\u001b[0m\u001b[0;34m\u001b[0m\u001b[0;34m\u001b[0m\u001b[0m\n\u001b[0m",
      "\u001b[0;31mAttributeError\u001b[0m: 'Model' object has no attribute 'predict_classes'"
     ]
    }
   ],
   "source": [
    "model.predict_classes(image)"
   ]
  }
 ],
 "metadata": {
  "kernelspec": {
   "display_name": "TF2",
   "language": "python",
   "name": "tf2"
  },
  "language_info": {
   "codemirror_mode": {
    "name": "ipython",
    "version": 3
   },
   "file_extension": ".py",
   "mimetype": "text/x-python",
   "name": "python",
   "nbconvert_exporter": "python",
   "pygments_lexer": "ipython3",
   "version": "3.7.5"
  }
 },
 "nbformat": 4,
 "nbformat_minor": 4
}
