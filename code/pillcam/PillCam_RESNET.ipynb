{
 "cells": [
  {
   "cell_type": "markdown",
   "metadata": {},
   "source": [
    "### Loading images\n",
    "https://www.tensorflow.org/tutorials/load_data/images"
   ]
  },
  {
   "cell_type": "code",
   "execution_count": 47,
   "metadata": {
    "scrolled": true
   },
   "outputs": [],
   "source": [
    "from __future__ import absolute_import, division, print_function, unicode_literals\n",
    "import datetime\n",
    "import tensorflow as tf\n",
    "from tensorflow import keras\n",
    "from tensorflow.keras.callbacks import TensorBoard, LearningRateScheduler\n",
    "import matplotlib.pyplot as plt\n",
    "import resnet\n",
    "\n",
    "AUTOTUNE = tf.data.experimental.AUTOTUNE\n",
    "\n",
    "import IPython.display as display\n",
    "from PIL import Image\n",
    "import numpy as np\n",
    "import os\n",
    "import pathlib\n",
    "\n",
    "%matplotlib inline"
   ]
  },
  {
   "cell_type": "code",
   "execution_count": 48,
   "metadata": {},
   "outputs": [
    {
     "name": "stdout",
     "output_type": "stream",
     "text": [
      "env: PATH=/home/henrik/anaconda3/envs/TF2/bin:/home/henrik/anaconda3/envs/TF2/bin:/home/henrik/anaconda3/bin:/home/henrik/anaconda3/condabin:/usr/local/sbin:/usr/local/bin:/usr/sbin:/usr/bin:/sbin:/bin:/usr/games:/usr/local/games:/snap/bin\n"
     ]
    }
   ],
   "source": [
    "# To make some of the conda packages work (Tensorboard and pydot)\n",
    "PATH = os.getenv('PATH')\n",
    "%env PATH=/home/henrik/anaconda3/envs/TF2/bin:$PATH"
   ]
  },
  {
   "cell_type": "code",
   "execution_count": 49,
   "metadata": {
    "scrolled": true
   },
   "outputs": [],
   "source": [
    "NUM_GPUS = 1\n",
    "BS_PER_GPU = 128\n",
    "BATCH_SIZE = 128\n",
    "NUM_EPOCHS = 10\n",
    "\n",
    "IMG_HEIGHT = 128\n",
    "IMG_WIDTH = 128\n",
    "NUM_CHANNELS = 3\n",
    "#NUM_TRAIN_SAMPLES = 40000\n",
    "\n",
    "BASE_LEARNING_RATE = 0.1\n",
    "LR_SCHEDULE = [(0.1, 30), (0.01, 45)]"
   ]
  },
  {
   "cell_type": "code",
   "execution_count": 50,
   "metadata": {
    "scrolled": true
   },
   "outputs": [],
   "source": [
    "def preprocess(x, y):\n",
    "  x = tf.image.per_image_standardization(x)\n",
    "  return x, y\n",
    "\n",
    "\n",
    "def augmentation(x, y):\n",
    "    x = tf.image.resize_with_crop_or_pad(\n",
    "        x, IMG_HEIGHT + 8, IMG_WIDTH + 8)\n",
    "    x = tf.image.random_crop(x, [IMG_HEIGHT, IMG_WIDTH, NUM_CHANNELS])\n",
    "    x = tf.image.random_flip_left_right(x)\n",
    "    return x, y\t\n",
    "\n",
    "\n",
    "def schedule(epoch):\n",
    "  initial_learning_rate = BASE_LEARNING_RATE * BS_PER_GPU / 128\n",
    "  learning_rate = initial_learning_rate\n",
    "  for mult, start_epoch in LR_SCHEDULE:\n",
    "    if epoch >= start_epoch:\n",
    "      learning_rate = initial_learning_rate * mult\n",
    "    else:\n",
    "      break\n",
    "  tf.summary.scalar('learning rate', data=learning_rate, step=epoch)\n",
    "  return learning_rate"
   ]
  },
  {
   "cell_type": "code",
   "execution_count": 51,
   "metadata": {},
   "outputs": [
    {
     "name": "stdout",
     "output_type": "stream",
     "text": [
      "Class names:  ['Unknown' 'Protruding lesions' 'Flat lesions' 'Lumen' 'Mucosa' 'Normal'\n",
      " 'Excavated lesions']\n"
     ]
    }
   ],
   "source": [
    "data_dir = pathlib.Path('/mnt/sdb/augere_export_class/')\n",
    "\n",
    "DATASET_SIZE = len(list(data_dir.glob('[!Anatomic]*/*.png')))\n",
    "class_names = np.array([item.name for item in data_dir.glob('*') if item.name != 'metadata.json'])\n",
    "# Remove 'anatomic landmarks'\n",
    "class_names = np.delete(class_names, 0)\n",
    "\n",
    "NUM_CLASSES = len(class_names)\n",
    "\n",
    "print (\"Class names: \",class_names)"
   ]
  },
  {
   "cell_type": "code",
   "execution_count": 52,
   "metadata": {},
   "outputs": [],
   "source": [
    "# Create a dataset of the file paths\n",
    "list_ds = tf.data.Dataset.list_files(str(data_dir/'[!Anatomic]*/*'))"
   ]
  },
  {
   "cell_type": "code",
   "execution_count": 53,
   "metadata": {},
   "outputs": [
    {
     "name": "stdout",
     "output_type": "stream",
     "text": [
      "Unknown           : 177\n",
      "Protruding lesions: 583\n",
      "Flat lesions      : 908\n",
      "Lumen             : 1446\n",
      "Mucosa            : 251\n",
      "Normal            : 33129\n",
      "Excavated lesions : 1252\n",
      "\n",
      "Total number of images: 37746\n",
      "But the dataset is mainly shit\n"
     ]
    }
   ],
   "source": [
    "samples_per_class = []\n",
    "\n",
    "for class_name in class_names:\n",
    "    class_samples = len(list(data_dir.glob(class_name+'/*.png')))\n",
    "    samples_per_class.append(class_samples)\n",
    "    print('{0:18}: {1:3d}'.format(class_name, class_samples))\n",
    "\n",
    "print ('\\nTotal number of images:', DATASET_SIZE)\n",
    "\n",
    "# If one class contains more than half of the entire sample size\n",
    "if np.max(samples_per_class) > DATASET_SIZE//2:\n",
    "    print (\"But the dataset is mainly shit\")"
   ]
  },
  {
   "cell_type": "code",
   "execution_count": 54,
   "metadata": {},
   "outputs": [],
   "source": [
    "def get_label_test(file_path):\n",
    "    # Not used, mainly for log\n",
    "    label = [i for i, s in enumerate(class_names) if 'Normal' in s]\n",
    "    return np.uint8(label)\n",
    "    \n",
    "def get_label_int(file_path):\n",
    "    # convert the path to a list of path components\n",
    "    parts = tf.strings.split(file_path, os.path.sep)\n",
    "    # get class integer from class-list\n",
    "    label_int64 = tf.reduce_min(tf.where(tf.equal(parts[-2], class_names)))\n",
    "    # cast to tensor array with dtype=uint8\n",
    "    label_uint8 = tf.dtypes.cast(label_int64, tf.uint8)\n",
    "    return tf.reshape(label_uint8, [-1])\n",
    "\n",
    "def get_label_bool(file_path):\n",
    "    # convert the path to a list of path components\n",
    "    parts = tf.strings.split(file_path, os.path.sep)\n",
    "    # The second to last is the class-directory\n",
    "    return parts[-2] == class_names\n",
    "\n",
    "def decode_img(img):\n",
    "    # convert the compressed string to a 3D uint8 tensor\n",
    "    img = tf.image.decode_jpeg(img, channels=3)\n",
    "    # Use `convert_image_dtype` to convert to floats in the [0,1] range.\n",
    "    img = tf.image.convert_image_dtype(img, tf.float32)\n",
    "    # resize the image to the desired size.\n",
    "    return tf.image.resize(img, [IMG_WIDTH, IMG_HEIGHT])\n",
    "\n",
    "def process_path(file_path):\n",
    "    label = get_label_int(file_path)\n",
    "    # load the raw data from the file as a string\n",
    "    img = tf.io.read_file(file_path)\n",
    "    img = decode_img(img)\n",
    "    return img, label\n",
    "\n",
    "labeled_ds = list_ds.map(process_path, num_parallel_calls=AUTOTUNE)"
   ]
  },
  {
   "cell_type": "markdown",
   "metadata": {},
   "source": [
    "Showing an example image/label pair"
   ]
  },
  {
   "cell_type": "code",
   "execution_count": 55,
   "metadata": {},
   "outputs": [
    {
     "data": {
      "text/plain": [
       "<Figure size 432x288 with 0 Axes>"
      ]
     },
     "metadata": {},
     "output_type": "display_data"
    },
    {
     "data": {
      "image/png": "[encoded data removed]",
      "text/plain": [
       "<Figure size 432x288 with 1 Axes>"
      ]
     },
     "metadata": {},
     "output_type": "display_data"
    }
   ],
   "source": [
    "def show_image(img):\n",
    "    for image, label in img:\n",
    "        plt.figure()\n",
    "        plt.figure(frameon=False, facecolor='white')\n",
    "        plt.title(class_names[label.numpy()][0], fontdict={'color':'white','size':20})\n",
    "        plt.imshow(image.numpy())\n",
    "        plt.axis('off')\n",
    "\n",
    "show_image(labeled_ds.take(1))"
   ]
  },
  {
   "cell_type": "markdown",
   "metadata": {},
   "source": [
    "## Training\n",
    "See https://lambdalabs.com/blog/tensorflow-2-0-tutorial-01-image-classification-basics/\n",
    "\n",
    "https://github.com/lambdal/TensorFlow2-tutorial/tree/master/01-basic-image-classification"
   ]
  },
  {
   "cell_type": "markdown",
   "metadata": {},
   "source": [
    "Splitting into training, test and validation data"
   ]
  },
  {
   "cell_type": "code",
   "execution_count": 56,
   "metadata": {},
   "outputs": [],
   "source": [
    "train_size = int(0.7 * DATASET_SIZE)\n",
    "val_size = int(0.15 * DATASET_SIZE)\n",
    "test_size = int(0.15 * DATASET_SIZE)\n",
    "\n",
    "shuffled_ds = labeled_ds.shuffle(buffer_size=10000)\n",
    "\n",
    "train_ds = shuffled_ds.take(train_size)\n",
    "test_ds = shuffled_ds.skip(train_size)\n",
    "val_ds = test_ds.skip(val_size)\n",
    "test_ds = test_ds.take(test_size)"
   ]
  },
  {
   "cell_type": "code",
   "execution_count": 57,
   "metadata": {},
   "outputs": [
    {
     "name": "stdout",
     "output_type": "stream",
     "text": [
      "Full dataset sample size:        37746\n",
      "Train dataset sample size:       26422\n",
      "Test dataset sample size:         5661\n",
      "Validation dataset sample size:   5663\n"
     ]
    }
   ],
   "source": [
    "def get_size(ds):\n",
    "    return tf.data.experimental.cardinality(ds).numpy()\n",
    "\n",
    "print (\"{:32} {:>5}\".format(\"Full dataset sample size:\", get_size(shuffled_ds)))\n",
    "print (\"{:32} {:>5}\".format(\"Train dataset sample size:\", get_size(train_ds)))\n",
    "print (\"{:32} {:>5}\".format(\"Test dataset sample size:\", get_size(test_ds)))\n",
    "print (\"{:32} {:>5}\".format(\"Validation dataset sample size:\", get_size(val_ds)))"
   ]
  },
  {
   "cell_type": "code",
   "execution_count": 58,
   "metadata": {},
   "outputs": [],
   "source": [
    "def prepare_for_training(ds, cache=True, shuffle_buffer_size=3000):\n",
    "    # This is a small dataset, only load it once, and keep it in memory.\n",
    "    # use `.cache(filename)` to cache preprocessing work for datasets that don't\n",
    "    # fit in memory.\n",
    "    if cache:\n",
    "      if isinstance(cache, str):\n",
    "        ds = ds.cache(cache)\n",
    "      else:\n",
    "        ds = ds.cache()\n",
    "\n",
    "    #ds = ds.shuffle(buffer_size=shuffle_buffer_size)\n",
    "\n",
    "    # Repeat forever\n",
    "    ds = ds.repeat()\n",
    "\n",
    "    ds = ds.batch(BATCH_SIZE)\n",
    "\n",
    "    # `prefetch` lets the dataset fetch batches in the background while the model\n",
    "    # is training.\n",
    "    ds = ds.prefetch(buffer_size=AUTOTUNE)\n",
    "    return ds\n",
    "\n",
    "# Create training dataset\n",
    "train_ds = prepare_for_training(train_ds, cache=\"./cache/resnet_train_ds.tfcache\")\n",
    "# Create test dataset\n",
    "test_ds = prepare_for_training(test_ds, cache=\"./cache/resnet_test_ds.tfcache\")\n",
    "# Create validation dataset\n",
    "val_ds = prepare_for_training(val_ds, cache=\"./cache/restnet_val_ds.tfcache\")"
   ]
  },
  {
   "cell_type": "code",
   "execution_count": 59,
   "metadata": {},
   "outputs": [
    {
     "name": "stdout",
     "output_type": "stream",
     "text": [
      "Train for 206 steps, validate for 44 steps\n",
      "Epoch 1/10\n",
      "206/206 [==============================] - 144s 698ms/step - loss: 2.8734 - sparse_categorical_accuracy: 0.8749 - val_loss: 12995.0608 - val_sparse_categorical_accuracy: 0.8746\n",
      "Epoch 2/10\n",
      "206/206 [==============================] - 133s 643ms/step - loss: 2.5198 - sparse_categorical_accuracy: 0.8789 - val_loss: 5.3310 - val_sparse_categorical_accuracy: 0.8746\n",
      "Epoch 3/10\n",
      "206/206 [==============================] - 132s 639ms/step - loss: 2.1766 - sparse_categorical_accuracy: 0.8811 - val_loss: 2.2714 - val_sparse_categorical_accuracy: 0.8746\n",
      "Epoch 4/10\n",
      "206/206 [==============================] - 132s 643ms/step - loss: 1.8869 - sparse_categorical_accuracy: 0.8883 - val_loss: 2.1957 - val_sparse_categorical_accuracy: 0.8746\n",
      "Epoch 5/10\n",
      "206/206 [==============================] - 132s 639ms/step - loss: 1.6458 - sparse_categorical_accuracy: 0.8912 - val_loss: 1.8540 - val_sparse_categorical_accuracy: 0.8746\n",
      "Epoch 6/10\n",
      "206/206 [==============================] - 128s 623ms/step - loss: 1.4438 - sparse_categorical_accuracy: 0.8948 - val_loss: 1.8015 - val_sparse_categorical_accuracy: 0.8746\n",
      "Epoch 7/10\n",
      "206/206 [==============================] - 128s 623ms/step - loss: 1.2706 - sparse_categorical_accuracy: 0.8968 - val_loss: 1.5851 - val_sparse_categorical_accuracy: 0.8748\n",
      "Epoch 8/10\n",
      "206/206 [==============================] - 128s 623ms/step - loss: 1.1247 - sparse_categorical_accuracy: 0.8985 - val_loss: 1.6316 - val_sparse_categorical_accuracy: 0.8746\n",
      "Epoch 9/10\n",
      "206/206 [==============================] - 128s 623ms/step - loss: 0.9989 - sparse_categorical_accuracy: 0.9023 - val_loss: 1.3568 - val_sparse_categorical_accuracy: 0.8718\n",
      "Epoch 10/10\n",
      "206/206 [==============================] - 128s 623ms/step - loss: 0.8928 - sparse_categorical_accuracy: 0.9069 - val_loss: 1.1854 - val_sparse_categorical_accuracy: 0.8828\n"
     ]
    }
   ],
   "source": [
    "tf.random.set_seed(22)\n",
    "#train_dataset = train_dataset.map(augmentation).map(preprocess).shuffle(NUM_TRAIN_SAMPLES).batch(BS_PER_GPU * NUM_GPUS, drop_remainder=True)\n",
    "#test_dataset = test_dataset.map(preprocess).batch(BS_PER_GPU * NUM_GPUS, drop_remainder=True)\n",
    "\n",
    "input_shape = (IMG_HEIGHT, IMG_WIDTH, NUM_CHANNELS)\n",
    "img_input = tf.keras.layers.Input(shape=input_shape)\n",
    "opt = keras.optimizers.SGD(learning_rate=0.1, momentum=0.9)\n",
    "\n",
    "if NUM_GPUS == 1:\n",
    "    model = resnet.resnet56(img_input=img_input, classes=NUM_CLASSES)\n",
    "    model.compile(\n",
    "              optimizer=opt,\n",
    "              loss='sparse_categorical_crossentropy',\n",
    "              metrics=['sparse_categorical_accuracy'])\n",
    "else:\n",
    "    mirrored_strategy = tf.distribute.MirroredStrategy()\n",
    "    with mirrored_strategy.scope():\n",
    "      model = resnet.resnet56(img_input=img_input, classes=NUM_CLASSES)\n",
    "      model.compile(\n",
    "                optimizer=opt,\n",
    "                loss='sparse_categorical_crossentropy',\n",
    "                metrics=['sparse_categorical_accuracy'])  \n",
    "\n",
    "log_dir=\"logs/fit/\" + datetime.datetime.now().strftime(\"%Y%m%d-%H%M%S\")\n",
    "file_writer = tf.summary.create_file_writer(log_dir + \"/metrics\")\n",
    "file_writer.set_as_default()\n",
    "\n",
    "tensorboard_callback = tf.keras.callbacks.TensorBoard(\n",
    "  log_dir=log_dir,\n",
    "  update_freq='batch',\n",
    "  histogram_freq=1)\n",
    "\n",
    "lr_schedule_callback = LearningRateScheduler(schedule)\n",
    "# add EarlyStopping?\n",
    "# add ModelCheckpoint?\n",
    "\n",
    "history = model.fit(\n",
    "    train_ds,\n",
    "    steps_per_epoch = train_size // BATCH_SIZE,\n",
    "    epochs = NUM_EPOCHS,\n",
    "    validation_data = test_ds,\n",
    "    validation_steps = test_size // BATCH_SIZE,\n",
    "    validation_freq = 1,\n",
    "    callbacks = [tensorboard_callback, lr_schedule_callback]\n",
    "    )\n",
    "\n",
    "# Print record of loss and metric values during training\n",
    "# print('\\nhistory dict:', history.history)"
   ]
  },
  {
   "cell_type": "markdown",
   "metadata": {},
   "source": [
    "## Validate the results\n",
    "\n",
    "`Tensorboard`"
   ]
  },
  {
   "cell_type": "code",
   "execution_count": 60,
   "metadata": {},
   "outputs": [],
   "source": [
    "# Clear any logs from previous runs (move to .old instead?)\n",
    "# !rm -rf ./logs/"
   ]
  },
  {
   "cell_type": "raw",
   "metadata": {},
   "source": [
    "from tensorboard import notebook\n",
    "\n",
    "# Load the TensorBoard notebook extension\n",
    "%load_ext tensorboard\n",
    "\n",
    "notebook.list()"
   ]
  },
  {
   "cell_type": "code",
   "execution_count": 65,
   "metadata": {},
   "outputs": [
    {
     "name": "stderr",
     "output_type": "stream",
     "text": [
      "UsageError: Line magic function `%tensorboard` not found.\n"
     ]
    }
   ],
   "source": [
    "# Start tensorboard\n",
    "%tensorboard --logdir logs"
   ]
  },
  {
   "cell_type": "code",
   "execution_count": 61,
   "metadata": {},
   "outputs": [],
   "source": [
    "# !kill 20058"
   ]
  },
  {
   "cell_type": "markdown",
   "metadata": {},
   "source": [
    "`Keras`\n",
    "Save/load the model"
   ]
  },
  {
   "cell_type": "code",
   "execution_count": 62,
   "metadata": {},
   "outputs": [],
   "source": [
    "# model.save('model_resnet.h5')\n",
    "# new_model = keras.models.load_model('model.h5')"
   ]
  },
  {
   "cell_type": "code",
   "execution_count": 63,
   "metadata": {},
   "outputs": [
    {
     "name": "stdout",
     "output_type": "stream",
     "text": [
      "44/44 [==============================] - 7s 157ms/step - loss: 1.1568 - sparse_categorical_accuracy: 0.8848\n",
      "[1.1567539206959985, 0.8847656]\n"
     ]
    }
   ],
   "source": [
    "result = model.evaluate(\n",
    "            val_ds,\n",
    "            steps = val_size // BATCH_SIZE\n",
    "            )\n",
    "\n",
    "print (result)\n",
    "# for key, value in result.items():\n",
    "#     print(key, \":\", value)"
   ]
  },
  {
   "cell_type": "markdown",
   "metadata": {},
   "source": [
    "## Predict new samples"
   ]
  },
  {
   "cell_type": "code",
   "execution_count": 64,
   "metadata": {},
   "outputs": [
    {
     "name": "stdout",
     "output_type": "stream",
     "text": [
      "0.0001054 Unknown\n",
      "0.0216957 Protruding lesions\n",
      "0.0001874 Flat lesions\n",
      "0.0083810 Lumen\n",
      "0.0033810 Mucosa\n",
      "0.9591379 Normal\n",
      "0.0071117 Excavated lesions\n",
      "\n",
      "True label: Normal\n",
      "Predicted label: Normal\n"
     ]
    },
    {
     "data": {
      "image/png": "[encoded data removed]",
      "text/plain": [
       "<Figure size 432x288 with 1 Axes>"
      ]
     },
     "metadata": {
      "needs_background": "light"
     },
     "output_type": "display_data"
    }
   ],
   "source": [
    "# Predict 1 image\n",
    "image, label = next(iter(train_ds))\n",
    "image = image.numpy()[0]\n",
    "label = label.numpy()[0]\n",
    "\n",
    "res = model.predict(np.expand_dims(image, axis=0))\n",
    "\n",
    "count = 0\n",
    "for number in res[0]:\n",
    "    print(\"{:0.7f} {}\".format(number,class_names[count]))\n",
    "    count += 1\n",
    "print()\n",
    "\n",
    "print (\"True label:\", class_names[label[0]])\n",
    "print (\"Predicted label:\", class_names[np.argmax(res[0])])\n",
    "\n",
    "plt.figure()\n",
    "plt.imshow(image)\n",
    "plt.axis('off');"
   ]
  },
  {
   "cell_type": "code",
   "execution_count": 46,
   "metadata": {},
   "outputs": [
    {
     "name": "stdout",
     "output_type": "stream",
     "text": [
      "  0  Label: Normal               Prediction: Normal\n",
      "  1  Label: Normal               Prediction: Normal\n",
      "  2  Label: Flat lesions         Prediction: Normal\n",
      "  3  Label: Normal               Prediction: Normal\n",
      "  4  Label: Normal               Prediction: Normal\n",
      "  5  Label: Normal               Prediction: Normal\n",
      "  6  Label: Normal               Prediction: Normal\n",
      "  7  Label: Normal               Prediction: Normal\n",
      "  8  Label: Normal               Prediction: Normal\n",
      "  9  Label: Normal               Prediction: Normal\n",
      " 10  Label: Normal               Prediction: Normal\n",
      " 11  Label: Normal               Prediction: Normal\n",
      " 12  Label: Normal               Prediction: Normal\n",
      " 13  Label: Protruding lesions   Prediction: Normal\n",
      " 14  Label: Normal               Prediction: Normal\n",
      " 15  Label: Normal               Prediction: Normal\n",
      " 16  Label: Normal               Prediction: Normal\n",
      " 17  Label: Normal               Prediction: Normal\n",
      " 18  Label: Normal               Prediction: Normal\n",
      " 19  Label: Normal               Prediction: Normal\n",
      " 20  Label: Normal               Prediction: Normal\n",
      " 21  Label: Normal               Prediction: Normal\n",
      " 22  Label: Normal               Prediction: Normal\n",
      " 23  Label: Normal               Prediction: Normal\n",
      " 24  Label: Normal               Prediction: Normal\n",
      " 25  Label: Normal               Prediction: Normal\n",
      " 26  Label: Normal               Prediction: Normal\n",
      " 27  Label: Normal               Prediction: Normal\n",
      " 28  Label: Normal               Prediction: Normal\n",
      " 29  Label: Normal               Prediction: Normal\n",
      " 30  Label: Normal               Prediction: Normal\n",
      " 31  Label: Normal               Prediction: Normal\n",
      " 32  Label: Normal               Prediction: Normal\n",
      " 33  Label: Normal               Prediction: Normal\n",
      " 34  Label: Excavated lesions    Prediction: Normal\n",
      " 35  Label: Normal               Prediction: Normal\n",
      " 36  Label: Normal               Prediction: Normal\n",
      " 37  Label: Normal               Prediction: Excavated lesions\n",
      " 38  Label: Excavated lesions    Prediction: Excavated lesions\n",
      " 39  Label: Normal               Prediction: Normal\n",
      " 40  Label: Normal               Prediction: Normal\n",
      " 41  Label: Normal               Prediction: Normal\n",
      " 42  Label: Normal               Prediction: Normal\n",
      " 43  Label: Normal               Prediction: Normal\n",
      " 44  Label: Normal               Prediction: Normal\n",
      " 45  Label: Flat lesions         Prediction: Normal\n",
      " 46  Label: Normal               Prediction: Normal\n",
      " 47  Label: Normal               Prediction: Normal\n",
      " 48  Label: Normal               Prediction: Normal\n",
      " 49  Label: Normal               Prediction: Normal\n",
      " 50  Label: Normal               Prediction: Normal\n",
      " 51  Label: Normal               Prediction: Excavated lesions\n",
      " 52  Label: Normal               Prediction: Normal\n",
      " 53  Label: Normal               Prediction: Normal\n",
      " 54  Label: Lumen                Prediction: Normal\n",
      " 55  Label: Normal               Prediction: Normal\n",
      " 56  Label: Normal               Prediction: Normal\n",
      " 57  Label: Normal               Prediction: Normal\n",
      " 58  Label: Normal               Prediction: Normal\n",
      " 59  Label: Normal               Prediction: Normal\n",
      " 60  Label: Excavated lesions    Prediction: Normal\n",
      " 61  Label: Normal               Prediction: Normal\n",
      " 62  Label: Normal               Prediction: Normal\n",
      " 63  Label: Normal               Prediction: Normal\n",
      " 64  Label: Normal               Prediction: Normal\n",
      " 65  Label: Normal               Prediction: Normal\n",
      " 66  Label: Normal               Prediction: Normal\n",
      " 67  Label: Unknown              Prediction: Normal\n",
      " 68  Label: Flat lesions         Prediction: Normal\n",
      " 69  Label: Normal               Prediction: Normal\n",
      " 70  Label: Normal               Prediction: Normal\n",
      " 71  Label: Normal               Prediction: Normal\n",
      " 72  Label: Normal               Prediction: Excavated lesions\n",
      " 73  Label: Normal               Prediction: Normal\n",
      " 74  Label: Normal               Prediction: Normal\n",
      " 75  Label: Normal               Prediction: Normal\n",
      " 76  Label: Normal               Prediction: Normal\n",
      " 77  Label: Normal               Prediction: Normal\n",
      " 78  Label: Normal               Prediction: Normal\n",
      " 79  Label: Normal               Prediction: Normal\n",
      " 80  Label: Normal               Prediction: Normal\n",
      " 81  Label: Normal               Prediction: Normal\n",
      " 82  Label: Normal               Prediction: Normal\n",
      " 83  Label: Normal               Prediction: Normal\n",
      " 84  Label: Normal               Prediction: Normal\n",
      " 85  Label: Normal               Prediction: Normal\n",
      " 86  Label: Normal               Prediction: Normal\n",
      " 87  Label: Normal               Prediction: Normal\n",
      " 88  Label: Normal               Prediction: Normal\n",
      " 89  Label: Normal               Prediction: Normal\n",
      " 90  Label: Normal               Prediction: Normal\n",
      " 91  Label: Normal               Prediction: Normal\n",
      " 92  Label: Normal               Prediction: Normal\n",
      " 93  Label: Normal               Prediction: Normal\n",
      " 94  Label: Normal               Prediction: Normal\n",
      " 95  Label: Normal               Prediction: Normal\n",
      " 96  Label: Normal               Prediction: Normal\n",
      " 97  Label: Normal               Prediction: Normal\n",
      " 98  Label: Normal               Prediction: Normal\n",
      " 99  Label: Normal               Prediction: Normal\n",
      "100  Label: Normal               Prediction: Normal\n",
      "101  Label: Excavated lesions    Prediction: Excavated lesions\n",
      "102  Label: Normal               Prediction: Normal\n",
      "103  Label: Normal               Prediction: Normal\n",
      "104  Label: Flat lesions         Prediction: Normal\n",
      "105  Label: Unknown              Prediction: Excavated lesions\n",
      "106  Label: Normal               Prediction: Normal\n",
      "107  Label: Excavated lesions    Prediction: Normal\n",
      "108  Label: Normal               Prediction: Normal\n",
      "109  Label: Lumen                Prediction: Normal\n",
      "110  Label: Normal               Prediction: Normal\n",
      "111  Label: Lumen                Prediction: Normal\n",
      "112  Label: Flat lesions         Prediction: Normal\n",
      "113  Label: Lumen                Prediction: Normal\n",
      "114  Label: Normal               Prediction: Normal\n",
      "115  Label: Normal               Prediction: Normal\n",
      "116  Label: Normal               Prediction: Normal\n",
      "117  Label: Normal               Prediction: Normal\n",
      "118  Label: Normal               Prediction: Excavated lesions\n",
      "119  Label: Normal               Prediction: Excavated lesions\n",
      "120  Label: Normal               Prediction: Normal\n",
      "121  Label: Normal               Prediction: Normal\n",
      "122  Label: Lumen                Prediction: Normal\n",
      "123  Label: Normal               Prediction: Normal\n",
      "124  Label: Normal               Prediction: Normal\n",
      "125  Label: Normal               Prediction: Normal\n",
      "126  Label: Normal               Prediction: Normal\n",
      "127  Label: Normal               Prediction: Normal\n"
     ]
    }
   ],
   "source": [
    "image, label = next(iter(train_ds))\n",
    "image = image.numpy()\n",
    "label = label.numpy()\n",
    "\n",
    "results = model.predict(image)\n",
    "\n",
    "idx = 0\n",
    "for res in results:\n",
    "    true_label = class_names[label[idx]][0]\n",
    "    pred_label = class_names[np.argmax(res)]\n",
    "    print ('{:3}  Label: {:20} Prediction: {}'.format(idx, true_label, pred_label))\n",
    "    idx += 1"
   ]
  }
 ],
 "metadata": {
  "kernelspec": {
   "display_name": "TF2",
   "language": "python",
   "name": "tf2"
  },
  "language_info": {
   "codemirror_mode": {
    "name": "ipython",
    "version": 3
   },
   "file_extension": ".py",
   "mimetype": "text/x-python",
   "name": "python",
   "nbconvert_exporter": "python",
   "pygments_lexer": "ipython3",
   "version": "3.7.6"
  }
 },
 "nbformat": 4,
 "nbformat_minor": 4
}
