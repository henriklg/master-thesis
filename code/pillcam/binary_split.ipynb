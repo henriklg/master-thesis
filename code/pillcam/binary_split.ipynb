{
 "cells": [
  {
   "cell_type": "markdown",
   "metadata": {},
   "source": [
    "pillcam dataset split into neg/pos and trained using resnet.py witouth augmentation or ds normalization."
   ]
  },
  {
   "cell_type": "markdown",
   "metadata": {},
   "source": [
    "### Loading images\n",
    "https://www.tensorflow.org/tutorials/load_data/images"
   ]
  },
  {
   "cell_type": "code",
   "execution_count": 1,
   "metadata": {
    "scrolled": true
   },
   "outputs": [],
   "source": [
    "from __future__ import absolute_import, division, print_function, unicode_literals\n",
    "import datetime\n",
    "import tensorflow as tf\n",
    "from tensorflow import keras\n",
    "from tensorflow.keras.callbacks import TensorBoard, LearningRateScheduler\n",
    "import matplotlib.pyplot as plt\n",
    "import resnet\n",
    "\n",
    "AUTOTUNE = tf.data.experimental.AUTOTUNE\n",
    "\n",
    "import IPython.display as display\n",
    "from PIL import Image\n",
    "import numpy as np\n",
    "import os\n",
    "import pathlib\n",
    "\n",
    "%matplotlib inline"
   ]
  },
  {
   "cell_type": "raw",
   "metadata": {},
   "source": [
    "# To make some of the conda packages work (Tensorboard and pydot)\n",
    "PATH = os.getenv('PATH')\n",
    "%env PATH=/home/henrik/anaconda3/envs/TF2/bin:$PATH"
   ]
  },
  {
   "cell_type": "code",
   "execution_count": 2,
   "metadata": {
    "scrolled": true
   },
   "outputs": [],
   "source": [
    "NUM_GPUS = 1\n",
    "BS_PER_GPU = 128\n",
    "BATCH_SIZE = 128\n",
    "NUM_EPOCHS = 10\n",
    "\n",
    "IMG_HEIGHT = 64\n",
    "IMG_WIDTH = 64\n",
    "NUM_CHANNELS = 3\n",
    "#NUM_TRAIN_SAMPLES = 40000\n",
    "\n",
    "BASE_LEARNING_RATE = 0.1\n",
    "LR_SCHEDULE = [(0.1, 30), (0.01, 45)]"
   ]
  },
  {
   "cell_type": "code",
   "execution_count": 16,
   "metadata": {},
   "outputs": [
    {
     "name": "stdout",
     "output_type": "stream",
     "text": [
      "Positive class names:  ['Unknown' 'Protruding lesions' 'Flat lesions' 'Lumen' 'Mucosa'\n",
      " 'Excavated lesions']\n",
      "Negative class names:  Normal\n"
     ]
    }
   ],
   "source": [
    "data_dir = pathlib.Path('/mnt/sdb/augere_export_class/')\n",
    "\n",
    "DATASET_SIZE = len(list(data_dir.glob('[!Anatomic]*/*.png')))\n",
    "class_names = np.array([item.name for item in data_dir.glob('*') if item.name != 'metadata.json'])\n",
    "# Remove 'anatomic landmarks'\n",
    "original_class_names = np.delete(class_names, 0)\n",
    "class_names = np.array(['Negative', 'Positive'])\n",
    "\n",
    "neg_class_name = 'Normal'\n",
    "pos_class_names = np.delete(original_class_names, np.where(neg_class_name == original_class_names))\n",
    "\n",
    "NUM_CLASSES = 2\n",
    "\n",
    "print (\"Positive class names: \", pos_class_names)\n",
    "print (\"Negative class names: \", neg_class_name)"
   ]
  },
  {
   "cell_type": "code",
   "execution_count": 4,
   "metadata": {},
   "outputs": [],
   "source": [
    "# Create a dataset of the file paths\n",
    "list_ds = tf.data.Dataset.list_files(str(data_dir/'[!Anatomic]*/*'))"
   ]
  },
  {
   "cell_type": "code",
   "execution_count": 35,
   "metadata": {},
   "outputs": [
    {
     "name": "stdout",
     "output_type": "stream",
     "text": [
      "Negative samples: 4617\n",
      "Positive samples: 33129\n",
      "\n",
      "Total number of images: 37746\n",
      "But the dataset is mainly shit\n"
     ]
    }
   ],
   "source": [
    "# Extract some info about each class\n",
    "\n",
    "negative_samples = 0\n",
    "positive_samples = 0\n",
    "\n",
    "for class_name in original_class_names:\n",
    "    # Number of samples in 'class_name' folder\n",
    "    class_samples = len(list(data_dir.glob(class_name+'/*.png')))\n",
    "    \n",
    "    if (class_name != 'Normal'):\n",
    "        negative_samples += class_samples\n",
    "    else:\n",
    "        positive_samples += class_samples\n",
    "\n",
    "print ('Negative samples: {}'.format(negative_samples))\n",
    "print ('Positive samples: {}'.format(positive_samples))\n",
    "print ('\\nTotal number of images:', DATASET_SIZE)\n",
    "\n",
    "# If one class contains more than half of the entire sample size\n",
    "if np.max(samples_per_class) > DATASET_SIZE//2:\n",
    "    print (\"But the dataset is mainly shit\")"
   ]
  },
  {
   "cell_type": "code",
   "execution_count": 36,
   "metadata": {},
   "outputs": [],
   "source": [
    "def get_label_int(file_path):\n",
    "    parts = tf.strings.split(file_path, os.path.sep)\n",
    "    bc = parts[-2] == pos_class_names\n",
    "    nz_cnt = tf.math.count_nonzero(bc)\n",
    "    if (nz_cnt > 0):\n",
    "        return tf.reshape(tf.dtypes.cast(tf.fill([1, 1], value=1), tf.uint8),[-1])\n",
    "    return tf.reshape(tf.dtypes.cast(tf.fill([1, 1], value=0), tf.uint8),[-1])\n",
    "\n",
    "\n",
    "def decode_img(img):\n",
    "    # convert the compressed string to a 3D uint8 tensor\n",
    "    img = tf.image.decode_jpeg(img, channels=3)\n",
    "    # Use `convert_image_dtype` to convert to floats in the [0,1] range.\n",
    "    img = tf.image.convert_image_dtype(img, tf.float32)\n",
    "    # resize the image to the desired size.\n",
    "    return tf.image.resize(img, [IMG_WIDTH, IMG_HEIGHT])\n",
    "\n",
    "def process_path(file_path):\n",
    "    label = get_label_int(file_path)\n",
    "    # load the raw data from the file as a string\n",
    "    img = tf.io.read_file(file_path)\n",
    "    img = decode_img(img)\n",
    "    return img, label\n",
    "\n",
    "labeled_ds = list_ds.map(process_path, num_parallel_calls=AUTOTUNE)"
   ]
  },
  {
   "cell_type": "code",
   "execution_count": 37,
   "metadata": {
    "scrolled": true
   },
   "outputs": [],
   "source": [
    "def preprocess(x, y):\n",
    "  x = tf.image.per_image_standardization(x)\n",
    "  return x, y\n",
    "\n",
    "\n",
    "def augmentation(x, y):\n",
    "    x = tf.image.resize_with_crop_or_pad(\n",
    "        x, IMG_HEIGHT + 8, IMG_WIDTH + 8)\n",
    "    x = tf.image.random_crop(x, [IMG_HEIGHT, IMG_WIDTH, NUM_CHANNELS])\n",
    "    x = tf.image.random_flip_left_right(x)\n",
    "    return x, y\t\n",
    "\n",
    "\n",
    "def schedule(epoch):\n",
    "  initial_learning_rate = BASE_LEARNING_RATE * BS_PER_GPU / 128\n",
    "  learning_rate = initial_learning_rate\n",
    "  for mult, start_epoch in LR_SCHEDULE:\n",
    "    if epoch >= start_epoch:\n",
    "      learning_rate = initial_learning_rate * mult\n",
    "    else:\n",
    "      break\n",
    "  tf.summary.scalar('learning rate', data=learning_rate, step=epoch)\n",
    "  return learning_rate"
   ]
  },
  {
   "cell_type": "markdown",
   "metadata": {},
   "source": [
    "Showing an example image/label pair"
   ]
  },
  {
   "cell_type": "code",
   "execution_count": 39,
   "metadata": {},
   "outputs": [
    {
     "data": {
      "text/plain": [
       "<Figure size 432x288 with 0 Axes>"
      ]
     },
     "metadata": {},
     "output_type": "display_data"
    },
    {
     "data": {
      "image/png": "[encoded data removed]",
      "text/plain": [
       "<Figure size 432x288 with 1 Axes>"
      ]
     },
     "metadata": {},
     "output_type": "display_data"
    }
   ],
   "source": [
    "def show_image(img):\n",
    "    for image, label in img:\n",
    "        plt.figure()\n",
    "        plt.figure(frameon=False, facecolor='white')\n",
    "        plt.title(class_names[label.numpy()][0], fontdict={'color':'white','size':20})\n",
    "        plt.imshow(image.numpy())\n",
    "        plt.axis('off')\n",
    "\n",
    "show_image(labeled_ds.take(1))"
   ]
  },
  {
   "cell_type": "markdown",
   "metadata": {},
   "source": [
    "## Training\n",
    "See https://lambdalabs.com/blog/tensorflow-2-0-tutorial-01-image-classification-basics/\n",
    "\n",
    "https://github.com/lambdal/TensorFlow2-tutorial/tree/master/01-basic-image-classification"
   ]
  },
  {
   "cell_type": "markdown",
   "metadata": {},
   "source": [
    "Splitting into training, test and validation data"
   ]
  },
  {
   "cell_type": "code",
   "execution_count": 40,
   "metadata": {},
   "outputs": [],
   "source": [
    "train_size = int(0.7 * DATASET_SIZE)\n",
    "val_size = int(0.15 * DATASET_SIZE)\n",
    "test_size = int(0.15 * DATASET_SIZE)\n",
    "\n",
    "shuffled_ds = labeled_ds.shuffle(buffer_size=10000)\n",
    "\n",
    "train_ds = shuffled_ds.take(train_size)\n",
    "test_ds = shuffled_ds.skip(train_size)\n",
    "val_ds = test_ds.skip(val_size)\n",
    "test_ds = test_ds.take(test_size)"
   ]
  },
  {
   "cell_type": "code",
   "execution_count": 41,
   "metadata": {},
   "outputs": [
    {
     "name": "stdout",
     "output_type": "stream",
     "text": [
      "Full dataset sample size:        37746\n",
      "Train dataset sample size:       26422\n",
      "Test dataset sample size:         5661\n",
      "Validation dataset sample size:   5663\n"
     ]
    }
   ],
   "source": [
    "def get_size(ds):\n",
    "    return tf.data.experimental.cardinality(ds).numpy()\n",
    "\n",
    "print (\"{:32} {:>5}\".format(\"Full dataset sample size:\", get_size(shuffled_ds)))\n",
    "print (\"{:32} {:>5}\".format(\"Train dataset sample size:\", get_size(train_ds)))\n",
    "print (\"{:32} {:>5}\".format(\"Test dataset sample size:\", get_size(test_ds)))\n",
    "print (\"{:32} {:>5}\".format(\"Validation dataset sample size:\", get_size(val_ds)))"
   ]
  },
  {
   "cell_type": "code",
   "execution_count": 42,
   "metadata": {},
   "outputs": [],
   "source": [
    "def prepare_for_training(ds, cache=True, shuffle_buffer_size=3000):\n",
    "    # This is a small dataset, only load it once, and keep it in memory.\n",
    "    # use `.cache(filename)` to cache preprocessing work for datasets that don't\n",
    "    # fit in memory.\n",
    "    if cache:\n",
    "      if isinstance(cache, str):\n",
    "        ds = ds.cache(cache)\n",
    "      else:\n",
    "        ds = ds.cache()\n",
    "\n",
    "    #ds = ds.shuffle(buffer_size=shuffle_buffer_size)\n",
    "\n",
    "    # Repeat forever\n",
    "    ds = ds.repeat()\n",
    "\n",
    "    ds = ds.batch(BATCH_SIZE)\n",
    "\n",
    "    # `prefetch` lets the dataset fetch batches in the background while the model\n",
    "    # is training.\n",
    "    ds = ds.prefetch(buffer_size=AUTOTUNE)\n",
    "    return ds\n",
    "\n",
    "# Create training, test and validation dataset\n",
    "train_ds = prepare_for_training(train_ds, cache=\"./cache/binary_train_ds.tfcache\")\n",
    "test_ds = prepare_for_training(test_ds, cache=\"./cache/binary_test_ds.tfcache\")\n",
    "val_ds = prepare_for_training(val_ds, cache=\"./cache/binary_val_ds.tfcache\")"
   ]
  },
  {
   "cell_type": "code",
   "execution_count": 43,
   "metadata": {},
   "outputs": [
    {
     "name": "stdout",
     "output_type": "stream",
     "text": [
      "Train for 206 steps, validate for 44 steps\n",
      "Epoch 1/10\n",
      "206/206 [==============================] - 178s 864ms/step - loss: 1.2082 - sparse_categorical_accuracy: 0.8820 - val_loss: 112.9856 - val_sparse_categorical_accuracy: 0.8782\n",
      "Epoch 2/10\n",
      "206/206 [==============================] - 33s 161ms/step - loss: 1.0009 - sparse_categorical_accuracy: 0.8994 - val_loss: 1.2526 - val_sparse_categorical_accuracy: 0.7869\n",
      "Epoch 3/10\n",
      "206/206 [==============================] - 33s 161ms/step - loss: 0.8621 - sparse_categorical_accuracy: 0.9153 - val_loss: 1.8014 - val_sparse_categorical_accuracy: 0.4986\n",
      "Epoch 4/10\n",
      "206/206 [==============================] - 33s 161ms/step - loss: 0.7489 - sparse_categorical_accuracy: 0.9276 - val_loss: 0.9794 - val_sparse_categorical_accuracy: 0.8123\n",
      "Epoch 5/10\n",
      "206/206 [==============================] - 33s 162ms/step - loss: 0.6607 - sparse_categorical_accuracy: 0.9326 - val_loss: 0.8019 - val_sparse_categorical_accuracy: 0.8635\n",
      "Epoch 6/10\n",
      "206/206 [==============================] - 33s 161ms/step - loss: 0.5811 - sparse_categorical_accuracy: 0.9392 - val_loss: 0.7624 - val_sparse_categorical_accuracy: 0.8960\n",
      "Epoch 7/10\n",
      "206/206 [==============================] - 33s 161ms/step - loss: 0.5123 - sparse_categorical_accuracy: 0.9456 - val_loss: 0.6186 - val_sparse_categorical_accuracy: 0.9007\n",
      "Epoch 8/10\n",
      "206/206 [==============================] - 33s 161ms/step - loss: 0.4607 - sparse_categorical_accuracy: 0.9470 - val_loss: 0.5702 - val_sparse_categorical_accuracy: 0.9068\n",
      "Epoch 9/10\n",
      "206/206 [==============================] - 33s 161ms/step - loss: 0.4192 - sparse_categorical_accuracy: 0.9501 - val_loss: 0.8211 - val_sparse_categorical_accuracy: 0.8983\n",
      "Epoch 10/10\n",
      "206/206 [==============================] - 33s 161ms/step - loss: 0.3730 - sparse_categorical_accuracy: 0.9545 - val_loss: 0.6552 - val_sparse_categorical_accuracy: 0.8933\n"
     ]
    }
   ],
   "source": [
    "tf.random.set_seed(22)\n",
    "#train_dataset = train_dataset.map(augmentation).map(preprocess).shuffle(NUM_TRAIN_SAMPLES).batch(BS_PER_GPU * NUM_GPUS, drop_remainder=True)\n",
    "#test_dataset = test_dataset.map(preprocess).batch(BS_PER_GPU * NUM_GPUS, drop_remainder=True)\n",
    "\n",
    "input_shape = (IMG_HEIGHT, IMG_WIDTH, NUM_CHANNELS)\n",
    "img_input = tf.keras.layers.Input(shape=input_shape)\n",
    "opt = keras.optimizers.SGD(learning_rate=0.1, momentum=0.9)\n",
    "\n",
    "if NUM_GPUS == 1:\n",
    "    model = resnet.resnet56(img_input=img_input, classes=NUM_CLASSES)\n",
    "    model.compile(\n",
    "              optimizer=opt,\n",
    "              loss='sparse_categorical_crossentropy',\n",
    "              metrics=['sparse_categorical_accuracy'])\n",
    "else:\n",
    "    mirrored_strategy = tf.distribute.MirroredStrategy()\n",
    "    with mirrored_strategy.scope():\n",
    "      model = resnet.resnet56(img_input=img_input, classes=NUM_CLASSES)\n",
    "      model.compile(\n",
    "                optimizer=opt,\n",
    "                loss='sparse_categorical_crossentropy',\n",
    "                metrics=['sparse_categorical_accuracy'])  \n",
    "\n",
    "log_dir=\"logs/fit/\" + datetime.datetime.now().strftime(\"%Y%m%d-%H%M%S\")\n",
    "file_writer = tf.summary.create_file_writer(log_dir + \"/metrics\")\n",
    "file_writer.set_as_default()\n",
    "\n",
    "tensorboard_callback = tf.keras.callbacks.TensorBoard(\n",
    "  log_dir=log_dir,\n",
    "  update_freq='batch',\n",
    "  histogram_freq=1)\n",
    "\n",
    "lr_schedule_callback = LearningRateScheduler(schedule)\n",
    "# add EarlyStopping?\n",
    "# add ModelCheckpoint?\n",
    "\n",
    "history = model.fit(\n",
    "    train_ds,\n",
    "    steps_per_epoch = train_size // BATCH_SIZE,\n",
    "    epochs = NUM_EPOCHS,\n",
    "    validation_data = test_ds,\n",
    "    validation_steps = test_size // BATCH_SIZE,\n",
    "    validation_freq = 1,\n",
    "    callbacks = [tensorboard_callback, lr_schedule_callback]\n",
    "    )\n",
    "\n",
    "# Print record of loss and metric values during training\n",
    "# print('\\nhistory dict:', history.history)"
   ]
  },
  {
   "cell_type": "markdown",
   "metadata": {},
   "source": [
    "## Validate the results\n",
    "\n",
    "`Tensorboard`"
   ]
  },
  {
   "cell_type": "code",
   "execution_count": 60,
   "metadata": {},
   "outputs": [],
   "source": [
    "# Clear any logs from previous runs (move to .old instead?)\n",
    "# !rm -rf ./logs/"
   ]
  },
  {
   "cell_type": "raw",
   "metadata": {},
   "source": [
    "from tensorboard import notebook\n",
    "\n",
    "# Load the TensorBoard notebook extension\n",
    "%load_ext tensorboard\n",
    "\n",
    "notebook.list()"
   ]
  },
  {
   "cell_type": "code",
   "execution_count": 65,
   "metadata": {},
   "outputs": [
    {
     "name": "stderr",
     "output_type": "stream",
     "text": [
      "UsageError: Line magic function `%tensorboard` not found.\n"
     ]
    }
   ],
   "source": [
    "# Start tensorboard\n",
    "%tensorboard --logdir logs"
   ]
  },
  {
   "cell_type": "code",
   "execution_count": 61,
   "metadata": {},
   "outputs": [],
   "source": [
    "# !kill 20058"
   ]
  },
  {
   "cell_type": "markdown",
   "metadata": {},
   "source": [
    "`Keras`\n",
    "Save/load the model"
   ]
  },
  {
   "cell_type": "code",
   "execution_count": 44,
   "metadata": {},
   "outputs": [],
   "source": [
    "model.save('models/binary_split_resnet_10epoch.h5')\n",
    "# new_model = keras.models.load_model('model.h5')"
   ]
  },
  {
   "cell_type": "code",
   "execution_count": 45,
   "metadata": {},
   "outputs": [
    {
     "name": "stdout",
     "output_type": "stream",
     "text": [
      "44/44 [==============================] - 45s 1s/step - loss: 0.6558 - sparse_categorical_accuracy: 0.8944\n",
      "[0.6558219993656332, 0.8943537]\n"
     ]
    }
   ],
   "source": [
    "result = model.evaluate(\n",
    "            val_ds,\n",
    "            steps = val_size // BATCH_SIZE\n",
    "            )\n",
    "\n",
    "print (result)\n",
    "# for key, value in result.items():\n",
    "#     print(key, \":\", value)"
   ]
  },
  {
   "cell_type": "markdown",
   "metadata": {},
   "source": [
    "## Predict new samples"
   ]
  },
  {
   "cell_type": "code",
   "execution_count": 47,
   "metadata": {},
   "outputs": [
    {
     "name": "stdout",
     "output_type": "stream",
     "text": [
      "0.9932542 Negative\n",
      "0.0067457 Positive\n",
      "\n",
      "True label: Negative\n",
      "Predicted label: Negative\n"
     ]
    },
    {
     "data": {
      "image/png": "[encoded data removed]",
      "text/plain": [
       "<Figure size 432x288 with 1 Axes>"
      ]
     },
     "metadata": {
      "needs_background": "light"
     },
     "output_type": "display_data"
    }
   ],
   "source": [
    "# Predict 1 image\n",
    "image, label = next(iter(train_ds))\n",
    "image = image.numpy()[0]\n",
    "label = label.numpy()[0]\n",
    "\n",
    "res = model.predict(np.expand_dims(image, axis=0))\n",
    "\n",
    "count = 0\n",
    "for number in res[0]:\n",
    "    print(\"{:0.7f} {}\".format(number,class_names[count]))\n",
    "    count += 1\n",
    "print()\n",
    "\n",
    "print (\"True label:\", class_names[label[0]])\n",
    "print (\"Predicted label:\", class_names[np.argmax(res[0])])\n",
    "\n",
    "plt.figure()\n",
    "plt.imshow(image)\n",
    "plt.axis('off');"
   ]
  },
  {
   "cell_type": "code",
   "execution_count": 48,
   "metadata": {},
   "outputs": [
    {
     "name": "stdout",
     "output_type": "stream",
     "text": [
      "  0  Label: Negative             Prediction: Negative\n",
      "  1  Label: Negative             Prediction: Negative\n",
      "  2  Label: Negative             Prediction: Negative\n",
      "  3  Label: Negative             Prediction: Negative\n",
      "  4  Label: Negative             Prediction: Negative\n",
      "  5  Label: Negative             Prediction: Negative\n",
      "  6  Label: Negative             Prediction: Negative\n",
      "  7  Label: Negative             Prediction: Negative\n",
      "  8  Label: Negative             Prediction: Negative\n",
      "  9  Label: Negative             Prediction: Negative\n",
      " 10  Label: Negative             Prediction: Negative\n",
      " 11  Label: Negative             Prediction: Negative\n",
      " 12  Label: Negative             Prediction: Negative\n",
      " 13  Label: Negative             Prediction: Negative\n",
      " 14  Label: Negative             Prediction: Negative\n",
      " 15  Label: Negative             Prediction: Negative\n",
      " 16  Label: Negative             Prediction: Negative\n",
      " 17  Label: Negative             Prediction: Negative\n",
      " 18  Label: Positive             Prediction: Negative\n",
      " 19  Label: Negative             Prediction: Negative\n",
      " 20  Label: Negative             Prediction: Negative\n",
      " 21  Label: Positive             Prediction: Negative\n",
      " 22  Label: Negative             Prediction: Negative\n",
      " 23  Label: Negative             Prediction: Negative\n",
      " 24  Label: Negative             Prediction: Negative\n",
      " 25  Label: Negative             Prediction: Negative\n",
      " 26  Label: Negative             Prediction: Negative\n",
      " 27  Label: Negative             Prediction: Negative\n",
      " 28  Label: Negative             Prediction: Negative\n",
      " 29  Label: Negative             Prediction: Negative\n",
      " 30  Label: Negative             Prediction: Negative\n",
      " 31  Label: Negative             Prediction: Negative\n",
      " 32  Label: Negative             Prediction: Negative\n",
      " 33  Label: Negative             Prediction: Negative\n",
      " 34  Label: Negative             Prediction: Negative\n",
      " 35  Label: Negative             Prediction: Negative\n",
      " 36  Label: Negative             Prediction: Negative\n",
      " 37  Label: Negative             Prediction: Negative\n",
      " 38  Label: Negative             Prediction: Negative\n",
      " 39  Label: Negative             Prediction: Negative\n",
      " 40  Label: Negative             Prediction: Negative\n",
      " 41  Label: Positive             Prediction: Negative\n",
      " 42  Label: Negative             Prediction: Negative\n",
      " 43  Label: Negative             Prediction: Negative\n",
      " 44  Label: Negative             Prediction: Negative\n",
      " 45  Label: Negative             Prediction: Negative\n",
      " 46  Label: Positive             Prediction: Negative\n",
      " 47  Label: Negative             Prediction: Negative\n",
      " 48  Label: Negative             Prediction: Negative\n",
      " 49  Label: Negative             Prediction: Negative\n",
      " 50  Label: Negative             Prediction: Negative\n",
      " 51  Label: Negative             Prediction: Negative\n",
      " 52  Label: Negative             Prediction: Negative\n",
      " 53  Label: Positive             Prediction: Negative\n",
      " 54  Label: Negative             Prediction: Negative\n",
      " 55  Label: Positive             Prediction: Negative\n",
      " 56  Label: Negative             Prediction: Negative\n",
      " 57  Label: Negative             Prediction: Negative\n",
      " 58  Label: Positive             Prediction: Negative\n",
      " 59  Label: Positive             Prediction: Positive\n",
      " 60  Label: Negative             Prediction: Negative\n",
      " 61  Label: Positive             Prediction: Negative\n",
      " 62  Label: Negative             Prediction: Negative\n",
      " 63  Label: Negative             Prediction: Negative\n",
      " 64  Label: Negative             Prediction: Negative\n",
      " 65  Label: Negative             Prediction: Negative\n",
      " 66  Label: Negative             Prediction: Negative\n",
      " 67  Label: Negative             Prediction: Negative\n",
      " 68  Label: Negative             Prediction: Positive\n",
      " 69  Label: Negative             Prediction: Negative\n",
      " 70  Label: Negative             Prediction: Negative\n",
      " 71  Label: Negative             Prediction: Negative\n",
      " 72  Label: Negative             Prediction: Negative\n",
      " 73  Label: Negative             Prediction: Negative\n",
      " 74  Label: Negative             Prediction: Negative\n",
      " 75  Label: Negative             Prediction: Negative\n",
      " 76  Label: Negative             Prediction: Negative\n",
      " 77  Label: Negative             Prediction: Negative\n",
      " 78  Label: Negative             Prediction: Negative\n",
      " 79  Label: Negative             Prediction: Negative\n",
      " 80  Label: Negative             Prediction: Negative\n",
      " 81  Label: Negative             Prediction: Negative\n",
      " 82  Label: Negative             Prediction: Negative\n",
      " 83  Label: Negative             Prediction: Negative\n",
      " 84  Label: Negative             Prediction: Negative\n",
      " 85  Label: Negative             Prediction: Negative\n",
      " 86  Label: Negative             Prediction: Negative\n",
      " 87  Label: Negative             Prediction: Negative\n",
      " 88  Label: Negative             Prediction: Negative\n",
      " 89  Label: Negative             Prediction: Negative\n",
      " 90  Label: Negative             Prediction: Negative\n",
      " 91  Label: Negative             Prediction: Negative\n",
      " 92  Label: Negative             Prediction: Negative\n",
      " 93  Label: Negative             Prediction: Negative\n",
      " 94  Label: Negative             Prediction: Negative\n",
      " 95  Label: Negative             Prediction: Negative\n",
      " 96  Label: Negative             Prediction: Negative\n",
      " 97  Label: Negative             Prediction: Negative\n",
      " 98  Label: Positive             Prediction: Negative\n",
      " 99  Label: Negative             Prediction: Negative\n",
      "100  Label: Negative             Prediction: Negative\n",
      "101  Label: Negative             Prediction: Negative\n",
      "102  Label: Negative             Prediction: Negative\n",
      "103  Label: Negative             Prediction: Negative\n",
      "104  Label: Negative             Prediction: Negative\n",
      "105  Label: Positive             Prediction: Positive\n",
      "106  Label: Negative             Prediction: Negative\n",
      "107  Label: Negative             Prediction: Negative\n",
      "108  Label: Negative             Prediction: Negative\n",
      "109  Label: Positive             Prediction: Negative\n",
      "110  Label: Negative             Prediction: Negative\n",
      "111  Label: Negative             Prediction: Negative\n",
      "112  Label: Negative             Prediction: Negative\n",
      "113  Label: Negative             Prediction: Negative\n",
      "114  Label: Negative             Prediction: Negative\n",
      "115  Label: Negative             Prediction: Negative\n",
      "116  Label: Negative             Prediction: Negative\n",
      "117  Label: Negative             Prediction: Negative\n",
      "118  Label: Negative             Prediction: Negative\n",
      "119  Label: Negative             Prediction: Negative\n",
      "120  Label: Negative             Prediction: Negative\n",
      "121  Label: Negative             Prediction: Negative\n",
      "122  Label: Negative             Prediction: Negative\n",
      "123  Label: Positive             Prediction: Negative\n",
      "124  Label: Negative             Prediction: Negative\n",
      "125  Label: Negative             Prediction: Negative\n",
      "126  Label: Negative             Prediction: Negative\n",
      "127  Label: Negative             Prediction: Negative\n"
     ]
    }
   ],
   "source": [
    "image, label = next(iter(train_ds))\n",
    "image = image.numpy()\n",
    "label = label.numpy()\n",
    "\n",
    "results = model.predict(image)\n",
    "\n",
    "idx = 0\n",
    "for res in results:\n",
    "    true_label = class_names[label[idx]][0]\n",
    "    pred_label = class_names[np.argmax(res)]\n",
    "    print ('{:3}  Label: {:20} Prediction: {}'.format(idx, true_label, pred_label))\n",
    "    idx += 1"
   ]
  }
 ],
 "metadata": {
  "kernelspec": {
   "display_name": "TF2",
   "language": "python",
   "name": "tf2"
  },
  "language_info": {
   "codemirror_mode": {
    "name": "ipython",
    "version": 3
   },
   "file_extension": ".py",
   "mimetype": "text/x-python",
   "name": "python",
   "nbconvert_exporter": "python",
   "pygments_lexer": "ipython3",
   "version": "3.7.6"
  }
 },
 "nbformat": 4,
 "nbformat_minor": 4
}
