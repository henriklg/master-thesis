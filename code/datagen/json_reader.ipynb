{
 "cells": [
  {
   "cell_type": "code",
   "execution_count": 4,
   "metadata": {},
   "outputs": [],
   "source": [
    "import json\n",
    "import cv2\n",
    "import os\n",
    "import argparse\n",
    "\n",
    "import numpy as np\n",
    "import matplotlib.pyplot as plt"
   ]
  },
  {
   "cell_type": "code",
   "execution_count": 5,
   "metadata": {},
   "outputs": [],
   "source": [
    "def get_findings_segments(path, file):\n",
    "    \"\"\"gets a filename and return\"\"\"\n",
    "    \n",
    "    json_filename = path+file+'.json'\n",
    "    with open(json_filename, 'r') as f:\n",
    "        tag_dict = json.load(f)\n",
    "    \n",
    "    findings = tag_dict['videoFindings']\n",
    "    segments = tag_dict['videoSegments']\n",
    "    \n",
    "    return findings, segments"
   ]
  },
  {
   "cell_type": "markdown",
   "metadata": {},
   "source": [
    "## Function to extract frames\n",
    "TODO:\n",
    "- add parser\n",
    "- problem for flere findings i samme frame\n",
    "- cv2 resize"
   ]
  },
  {
   "cell_type": "code",
   "execution_count": 106,
   "metadata": {},
   "outputs": [],
   "source": [
    "def save_findings(video, findings, path, file, verbose):\n",
    "    count = 0\n",
    "    next_frame = 1\n",
    "    \n",
    "    while next_frame:\n",
    "            # video object calls read and extract next frame\n",
    "            next_frame, image = video.read()\n",
    "\n",
    "            # Obs - problem for samme frame i flere id\n",
    "            for id in findings:\n",
    "                lesion_name = id['name'].replace(\" \",\"\")\n",
    "                frames = id['shapes']\n",
    "\n",
    "                if str(count) in frames.keys():\n",
    "                    # Saves the frames with frame-count\n",
    "                    for frame, shapes in frames.items():\n",
    "                        x,y = [], []\n",
    "                        for xy in shapes:\n",
    "                            x.append(round(xy['x']))\n",
    "                            y.append(round(xy['y']))\n",
    "                        save_image = None\n",
    "                        #image_crop = image[x[0]:x[1], y[1]:y[2]]\n",
    "                        test = image\n",
    "                        cv2.rectangle(img = test, pt1 = (x[0], y[0]), pt2 = (x[2], y[2]),color = (0,255,0),thickness = 2)\n",
    "                        cv2.imwrite(path+file+\"/%s_%d.jpg\" % (lesion_name, count), test)\n",
    "                        if verbose: print (\"saved finding frame %s - pt1=(%d, %d), pt2=(%d, %d)\" % (frame, x[0], y[0], x[2], y[2]) )\n",
    "            count += 1"
   ]
  },
  {
   "cell_type": "code",
   "execution_count": 101,
   "metadata": {},
   "outputs": [],
   "source": [
    "def save_segments(video, segments, path, file, verbose):\n",
    "    count = 0\n",
    "    next_frame = 1\n",
    "    \n",
    "    while next_frame:\n",
    "            # video object calls read and extract next frame\n",
    "            next_frame, image = video.read()\n",
    "\n",
    "            # Obs - problem for samme frame i flere id\n",
    "            for id in segments:\n",
    "                lesion_name = id['name'].replace(\" \",\"\")\n",
    "                frames = id['seen']\n",
    "                \n",
    "                for value in frames:\n",
    "                        start_frame = value[0]\n",
    "                        end_frame = value[1]\n",
    "                        \n",
    "                        if start_frame <= int(count) <= end_frame:\n",
    "                            # Saves the frames with frame-count\n",
    "                            cv2.imwrite(path+file+\"/%s_%d.jpg\" % (lesion_name, count), image)\n",
    "                            if verbose: print (\"saved segment frame %d\" % (count) )\n",
    "            count += 1"
   ]
  },
  {
   "cell_type": "code",
   "execution_count": 107,
   "metadata": {},
   "outputs": [],
   "source": [
    "def FrameCapture(path, file, type='findings', verbose=True): \n",
    "    \n",
    "    video_name = file+'.mp4'\n",
    "    findings, segments = get_findings_segments(path, file)\n",
    "    \n",
    "    # Make directory to store images\n",
    "    try:\n",
    "        os.mkdir(path+file)\n",
    "    except OSError:\n",
    "        if verbose: print (\"Creation of the directory %s failed\" % file)\n",
    "    else:\n",
    "        print (\"Successfully created the directory %s \" % file)\n",
    "    \n",
    "    # Path to video file \n",
    "    video = cv2.VideoCapture(path+video_name) \n",
    "    \n",
    "    if type=='findings':\n",
    "        save_findings(video, findings, path, file, verbose)\n",
    "    else:\n",
    "        save_segments(video, segments, path, file, verbose)"
   ]
  },
  {
   "cell_type": "code",
   "execution_count": null,
   "metadata": {},
   "outputs": [],
   "source": [
    "filename = \"3ada4222967f421d\"\n",
    "path = \"../data/\"\n",
    "\n",
    "FrameCapture(path, filename, 'findings', True)"
   ]
  }
 ],
 "metadata": {
  "kernelspec": {
   "display_name": "Python 3",
   "language": "python",
   "name": "python3"
  },
  "language_info": {
   "codemirror_mode": {
    "name": "ipython",
    "version": 3
   },
   "file_extension": ".py",
   "mimetype": "text/x-python",
   "name": "python",
   "nbconvert_exporter": "python",
   "pygments_lexer": "ipython3",
   "version": "3.7.4"
  }
 },
 "nbformat": 4,
 "nbformat_minor": 4
}
