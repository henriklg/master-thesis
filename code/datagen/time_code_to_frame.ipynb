{
 "cells": [
  {
   "cell_type": "markdown",
   "metadata": {},
   "source": [
    "## This code takes a .excel sheet as input and converts all cells to frame-numbers"
   ]
  },
  {
   "cell_type": "code",
   "execution_count": 20,
   "metadata": {},
   "outputs": [],
   "source": [
    "import pandas as pd\n",
    "from kapseltid import calc_time\n",
    "import sys\n",
    "\n",
    "# system path to folder with .xlsx file\n",
    "path = '../data/'\n",
    "filename = 'time_codes.xlsx'\n",
    "\n",
    "# make pandas dataframe without two frist colomns\n",
    "try:\n",
    "    df = pd.read_excel(path + filename, index_col=0, header=0, skipfooter=2)\n",
    "except FileNotFoundError:\n",
    "    print ('Error: cannot find file')\n",
    "    sys.exit()\n",
    "timecodes = df.iloc[:, 2:-1]\n",
    "n_rows, n_cols = timecodes.shape\n",
    "\n",
    "# loop over every row in excel sheet\n",
    "for row in range(n_rows):\n",
    "    vid_name = timecodes.index[row]\n",
    "    first_tag = timecodes.iat[row,0]\n",
    "    if type(first_tag) is str:\n",
    "        #print ('\\nvideo_%d (%s.mp4)    first_tag: %s' % (row+1, vid_name, first_tag))\n",
    "        pass\n",
    "    \n",
    "    # loop over every non-NaN cell of excel sheet\n",
    "    for col in range(n_cols-1):\n",
    "        cell = timecodes.iat[row,col+1]\n",
    "        if type(cell) is str:\n",
    "            frame = calc_time(\"00:\"+first_tag, \"00:\"+cell)\n",
    "            #print ('tag%d %s = %d ' % (col+2, cell, frame))\n",
    "            timecodes.iat[row,col+1] = frame\n",
    "\n",
    "timecodes.to_excel(\"../data/output.xlsx\")"
   ]
  }
 ],
 "metadata": {
  "kernelspec": {
   "display_name": "Python 3",
   "language": "python",
   "name": "python3"
  },
  "language_info": {
   "codemirror_mode": {
    "name": "ipython",
    "version": 3
   },
   "file_extension": ".py",
   "mimetype": "text/x-python",
   "name": "python",
   "nbconvert_exporter": "python",
   "pygments_lexer": "ipython3",
   "version": "3.7.4"
  }
 },
 "nbformat": 4,
 "nbformat_minor": 4
}
