{
 "cells": [
  {
   "cell_type": "markdown",
   "metadata": {},
   "source": [
    "Kvasir dataset trained on all classes with 'normal' CNN without augmentation.\n",
    "- Learning rate scheduler\n",
    "- Dropout and batchnormalization"
   ]
  },
  {
   "cell_type": "markdown",
   "metadata": {},
   "source": [
    "### Loading images\n",
    "https://www.tensorflow.org/tutorials/load_data/images"
   ]
  },
  {
   "cell_type": "code",
   "execution_count": 1,
   "metadata": {},
   "outputs": [],
   "source": [
    "from __future__ import absolute_import, division, print_function, unicode_literals\n",
    "\n",
    "import tensorflow as tf\n",
    "\n",
    "import numpy as np\n",
    "import os\n",
    "import pathlib\n",
    "import matplotlib.pyplot as plt\n",
    "\n",
    "# Some stuff to make utils-function work\n",
    "import sys\n",
    "sys.path.append('/home/henrik/master_thesis/code/utils')\n",
    "from data_prep import create_dataset, print_class_info, show_image\n",
    "%load_ext autoreload\n",
    "%autoreload 2\n",
    "\n",
    "# Jupyter-specific\n",
    "%matplotlib inline"
   ]
  },
  {
   "cell_type": "markdown",
   "metadata": {},
   "source": [
    "Some parameters"
   ]
  },
  {
   "cell_type": "code",
   "execution_count": 2,
   "metadata": {},
   "outputs": [],
   "source": [
    "data_dir = pathlib.Path('/mnt/sdb/kvasir-dataset-v2/')\n",
    "\n",
    "config = {\n",
    "    \"data_dir\": data_dir,\n",
    "    \"cache_dir\": \"./cache\",\n",
    "    \"MODEL\": 'cnn',\n",
    "    \"DS_INFO\": 'complete',\n",
    "    \"resample\": False,\n",
    "    \"neg_class\": ['polyp'],\n",
    "    \"NUM_EPOCHS\": 100,\n",
    "    \"BATCH_SIZE\": 64,\n",
    "    \"IMG_SIZE\": (32, 32, 3),\n",
    "    \"outcast\": None,\n",
    "    \"verbosity\": 1\n",
    "    }\n",
    "\n",
    "model_name = '{}x{}x{}_{}_{}'.format(config[\"NUM_EPOCHS\"], config[\"BATCH_SIZE\"], \n",
    "                                     config[\"IMG_SIZE\"][1], config[\"DS_INFO\"], config[\"MODEL\"])"
   ]
  },
  {
   "cell_type": "markdown",
   "metadata": {},
   "source": [
    "Create training, testing and validation dataset from utils/data_prep.py"
   ]
  },
  {
   "cell_type": "code",
   "execution_count": 3,
   "metadata": {},
   "outputs": [
    {
     "name": "stdout",
     "output_type": "stream",
     "text": [
      "Directories:  ['esophagitis' 'normal-pylorus' 'ulcerative-colitis' 'normal-cecum'\n",
      " 'normal-z-line' 'polyps' 'dyed-resection-margins' 'dyed-lifted-polyps']\n",
      "\n",
      "esophagitis       : 1000\n",
      "normal-pylorus    : 1000\n",
      "ulcerative-colitis: 1000\n",
      "normal-cecum      : 1000\n",
      "normal-z-line     : 1000\n",
      "polyps            : 1000\n",
      "dyed-resection-margins: 1000\n",
      "dyed-lifted-polyps: 1000\n",
      "\n",
      "Total number of images: 8000, in 8 classes\n",
      "Dataset.list_files:  /mnt/sdb/kvasir-dataset-v2/*/*.*g \n",
      "\n",
      "WARNING:tensorflow:Entity <function create_dataset.<locals>.get_label at 0x7f9298f81680> could not be transformed and will be executed as-is. Please report this to the AutoGraph team. When filing the bug, set the verbosity to 10 (on Linux, `export AUTOGRAPH_VERBOSITY=10`) and attach the full output. Cause: Cell is empty\n",
      "WARNING: Entity <function create_dataset.<locals>.get_label at 0x7f9298f81680> could not be transformed and will be executed as-is. Please report this to the AutoGraph team. When filing the bug, set the verbosity to 10 (on Linux, `export AUTOGRAPH_VERBOSITY=10`) and attach the full output. Cause: Cell is empty\n",
      "[1 6 1 2 7 5 1 1 3 5]\n",
      "[3 5 2 0 0 1 2 1 6 6]\n",
      "[4 3 0 1 4 1 7 4 3 0]\n",
      "[6 2 6 3 5 6 4 6 7 4]\n",
      "[6 1 6 4 3 0 3 5 2 1]\n",
      "[3 6 5 2 6 3 3 5 7 7]\n",
      "[1 0 2 5 7 1 7 3 4 6]\n",
      "[3 6 3 2 1 5 3 1 6 1]\n",
      "[6 3 5 3 5 6 6 1 0 7]\n",
      "[0 2 0 5 5 3 1 0 1 4]\n",
      "\n",
      "Full dataset sample size:         8000\n",
      "Train dataset sample size:        5600\n",
      "Test dataset sample size:         1200\n",
      "Validation dataset sample size:   1200\n"
     ]
    }
   ],
   "source": [
    "train_ds, test_ds, val_ds, params = create_dataset(config)"
   ]
  },
  {
   "cell_type": "markdown",
   "metadata": {},
   "source": [
    "## Training\n",
    "### Normal CNN\n",
    "See: https://www.tensorflow.org/tutorials/images/cnn  \n",
    "learningRateScheduler: https://github.com/lambdal/TensorFlow2-tutorial/tree/master/01-basic-image-classification  \n",
    "model from: https://machinelearningmastery.com/how-to-develop-a-cnn-from-scratch-for-cifar-10-photo-classification/  "
   ]
  },
  {
   "cell_type": "code",
   "execution_count": 4,
   "metadata": {},
   "outputs": [],
   "source": [
    "from tensorflow.keras import datasets, layers, models\n",
    "from tensorflow.keras.models import Sequential\n",
    "from tensorflow.keras.layers import Dense, Conv2D, Flatten, Dropout, MaxPooling2D, BatchNormalization\n",
    "from tensorflow.keras.callbacks import TensorBoard, LearningRateScheduler"
   ]
  },
  {
   "cell_type": "markdown",
   "metadata": {},
   "source": [
    "Create the model"
   ]
  },
  {
   "cell_type": "code",
   "execution_count": 5,
   "metadata": {},
   "outputs": [],
   "source": [
    "cnn_model = models.Sequential()\n",
    "\n",
    "cnn_model.add(Conv2D(32, (3, 3), activation='relu', input_shape=config[\"IMG_SIZE\"]))\n",
    "cnn_model.add(BatchNormalization())\n",
    "cnn_model.add(Conv2D(32, (3, 3), activation='relu'))\n",
    "cnn_model.add(BatchNormalization())\n",
    "cnn_model.add(MaxPooling2D((2, 2)))\n",
    "cnn_model.add(Dropout(0.2))\n",
    "\n",
    "cnn_model.add(Conv2D(64, (3, 3), activation='relu'))\n",
    "cnn_model.add(BatchNormalization())\n",
    "cnn_model.add(Conv2D(64, (3, 3), activation='relu'))\n",
    "cnn_model.add(BatchNormalization())\n",
    "cnn_model.add(MaxPooling2D((2, 2)))\n",
    "cnn_model.add(Dropout(0.3))\n",
    "\n",
    "cnn_model.add(Conv2D(128, (3, 3), activation='relu'))\n",
    "cnn_model.add(BatchNormalization())\n",
    "cnn_model.add(Conv2D(128, (3, 3), activation='relu'))\n",
    "cnn_model.add(BatchNormalization())\n",
    "cnn_model.add(Dropout(0.4))\n",
    "\n",
    "cnn_model.add(Flatten())\n",
    "cnn_model.add(Dense(128, activation='relu'))\n",
    "cnn_model.add(Dropout(0.5))\n",
    "cnn_model.add(Dense(params[\"NUM_CLASSES\"], activation='softmax'))"
   ]
  },
  {
   "cell_type": "code",
   "execution_count": 6,
   "metadata": {},
   "outputs": [
    {
     "name": "stdout",
     "output_type": "stream",
     "text": [
      "Model: \"sequential\"\n",
      "_________________________________________________________________\n",
      "Layer (type)                 Output Shape              Param #   \n",
      "=================================================================\n",
      "conv2d (Conv2D)              (None, 30, 30, 32)        896       \n",
      "_________________________________________________________________\n",
      "batch_normalization (BatchNo (None, 30, 30, 32)        128       \n",
      "_________________________________________________________________\n",
      "conv2d_1 (Conv2D)            (None, 28, 28, 32)        9248      \n",
      "_________________________________________________________________\n",
      "batch_normalization_1 (Batch (None, 28, 28, 32)        128       \n",
      "_________________________________________________________________\n",
      "max_pooling2d (MaxPooling2D) (None, 14, 14, 32)        0         \n",
      "_________________________________________________________________\n",
      "dropout (Dropout)            (None, 14, 14, 32)        0         \n",
      "_________________________________________________________________\n",
      "conv2d_2 (Conv2D)            (None, 12, 12, 64)        18496     \n",
      "_________________________________________________________________\n",
      "batch_normalization_2 (Batch (None, 12, 12, 64)        256       \n",
      "_________________________________________________________________\n",
      "conv2d_3 (Conv2D)            (None, 10, 10, 64)        36928     \n",
      "_________________________________________________________________\n",
      "batch_normalization_3 (Batch (None, 10, 10, 64)        256       \n",
      "_________________________________________________________________\n",
      "max_pooling2d_1 (MaxPooling2 (None, 5, 5, 64)          0         \n",
      "_________________________________________________________________\n",
      "dropout_1 (Dropout)          (None, 5, 5, 64)          0         \n",
      "_________________________________________________________________\n",
      "conv2d_4 (Conv2D)            (None, 3, 3, 128)         73856     \n",
      "_________________________________________________________________\n",
      "batch_normalization_4 (Batch (None, 3, 3, 128)         512       \n",
      "_________________________________________________________________\n",
      "conv2d_5 (Conv2D)            (None, 1, 1, 128)         147584    \n",
      "_________________________________________________________________\n",
      "batch_normalization_5 (Batch (None, 1, 1, 128)         512       \n",
      "_________________________________________________________________\n",
      "dropout_2 (Dropout)          (None, 1, 1, 128)         0         \n",
      "_________________________________________________________________\n",
      "flatten (Flatten)            (None, 128)               0         \n",
      "_________________________________________________________________\n",
      "dense (Dense)                (None, 128)               16512     \n",
      "_________________________________________________________________\n",
      "dropout_3 (Dropout)          (None, 128)               0         \n",
      "_________________________________________________________________\n",
      "dense_1 (Dense)              (None, 8)                 1032      \n",
      "=================================================================\n",
      "Total params: 306,344\n",
      "Trainable params: 305,448\n",
      "Non-trainable params: 896\n",
      "_________________________________________________________________\n"
     ]
    }
   ],
   "source": [
    "if config[\"verbosity\"] > 0:\n",
    "    cnn_model.summary()"
   ]
  },
  {
   "cell_type": "raw",
   "metadata": {},
   "source": [
    "# Save image of layers\n",
    "tf.keras.utils.plot_model(cnn_model, 'models/{}.png'.format(model_name), show_shapes=True)"
   ]
  },
  {
   "cell_type": "code",
   "execution_count": 7,
   "metadata": {},
   "outputs": [],
   "source": [
    "BASE_LEARNING_RATE = 0.1\n",
    "LR_SCHEDULE = [(0.1, 15), (0.01, 90)]\n",
    "\n",
    "def schedule(epoch):\n",
    "    initial_learning_rate = BASE_LEARNING_RATE\n",
    "    learning_rate = initial_learning_rate\n",
    "    for mult, start_epoch in LR_SCHEDULE:\n",
    "        if epoch >= start_epoch:\n",
    "            learning_rate = initial_learning_rate * mult\n",
    "        else:\n",
    "            break\n",
    "    tf.summary.scalar('learning rate', data=learning_rate, step=epoch)\n",
    "    return learning_rate"
   ]
  },
  {
   "cell_type": "markdown",
   "metadata": {},
   "source": [
    "Compile and train the model"
   ]
  },
  {
   "cell_type": "code",
   "execution_count": 8,
   "metadata": {},
   "outputs": [],
   "source": [
    "opt = tf.keras.optimizers.SGD(learning_rate=0.01, momentum=0.9)\n",
    "\n",
    "cnn_model.compile(\n",
    "                optimizer=opt,\n",
    "                loss='sparse_categorical_crossentropy',\n",
    "                metrics=['accuracy'])\n",
    "\n",
    "tensorboard_cb = tf.keras.callbacks.TensorBoard(log_dir='./logs/tensorboard/{}'.format(model_name), update_freq='batch')\n",
    "callbacks = [tensorboard_cb, LearningRateScheduler(schedule)]"
   ]
  },
  {
   "cell_type": "code",
   "execution_count": 9,
   "metadata": {},
   "outputs": [
    {
     "name": "stdout",
     "output_type": "stream",
     "text": [
      "Train for 87 steps, validate for 18 steps\n",
      "Epoch 1/100\n",
      "87/87 [==============================] - 46s 529ms/step - loss: 1.6585 - accuracy: 0.4488 - val_loss: 32.6531 - val_accuracy: 0.1606\n",
      "Epoch 2/100\n",
      "87/87 [==============================] - 1s 8ms/step - loss: 1.0266 - accuracy: 0.5594 - val_loss: 2.3576 - val_accuracy: 0.3776\n",
      "Epoch 3/100\n",
      "87/87 [==============================] - 1s 8ms/step - loss: 0.9176 - accuracy: 0.5918 - val_loss: 0.9856 - val_accuracy: 0.5469\n",
      "Epoch 4/100\n",
      "87/87 [==============================] - 1s 8ms/step - loss: 0.7988 - accuracy: 0.6410 - val_loss: 0.6854 - val_accuracy: 0.6658\n",
      "Epoch 5/100\n",
      "87/87 [==============================] - 1s 8ms/step - loss: 0.7787 - accuracy: 0.6523 - val_loss: 0.8156 - val_accuracy: 0.6111\n",
      "Epoch 6/100\n",
      "87/87 [==============================] - 1s 8ms/step - loss: 0.7725 - accuracy: 0.6433 - val_loss: 1.0852 - val_accuracy: 0.5443\n",
      "Epoch 7/100\n",
      "87/87 [==============================] - 1s 8ms/step - loss: 0.7232 - accuracy: 0.6715 - val_loss: 0.6654 - val_accuracy: 0.6632\n",
      "Epoch 8/100\n",
      "87/87 [==============================] - 1s 8ms/step - loss: 0.7388 - accuracy: 0.6642 - val_loss: 0.6599 - val_accuracy: 0.6710\n",
      "Epoch 9/100\n",
      "87/87 [==============================] - 1s 8ms/step - loss: 0.6970 - accuracy: 0.6785 - val_loss: 0.6606 - val_accuracy: 0.6684\n",
      "Epoch 10/100\n",
      "87/87 [==============================] - 1s 8ms/step - loss: 0.7205 - accuracy: 0.6733 - val_loss: 0.7462 - val_accuracy: 0.6554\n",
      "Epoch 11/100\n",
      "87/87 [==============================] - 1s 8ms/step - loss: 0.6846 - accuracy: 0.6902 - val_loss: 1.1541 - val_accuracy: 0.5755\n",
      "Epoch 12/100\n",
      "87/87 [==============================] - 1s 8ms/step - loss: 0.6957 - accuracy: 0.6864 - val_loss: 0.6453 - val_accuracy: 0.6875\n",
      "Epoch 13/100\n",
      "87/87 [==============================] - 1s 8ms/step - loss: 0.6777 - accuracy: 0.6949 - val_loss: 1.2649 - val_accuracy: 0.5634\n",
      "Epoch 14/100\n",
      "87/87 [==============================] - 1s 9ms/step - loss: 0.6698 - accuracy: 0.6965 - val_loss: 0.6111 - val_accuracy: 0.7092\n",
      "Epoch 15/100\n",
      "87/87 [==============================] - 1s 8ms/step - loss: 0.6724 - accuracy: 0.6992 - val_loss: 0.6139 - val_accuracy: 0.7049\n",
      "Epoch 16/100\n",
      "87/87 [==============================] - 1s 8ms/step - loss: 0.6431 - accuracy: 0.7152 - val_loss: 0.5164 - val_accuracy: 0.7569\n",
      "Epoch 17/100\n",
      "87/87 [==============================] - 1s 8ms/step - loss: 0.5842 - accuracy: 0.7355 - val_loss: 0.4977 - val_accuracy: 0.7595\n",
      "Epoch 18/100\n",
      "87/87 [==============================] - 1s 8ms/step - loss: 0.5669 - accuracy: 0.7401 - val_loss: 0.5052 - val_accuracy: 0.7517\n",
      "Epoch 19/100\n",
      "87/87 [==============================] - 1s 8ms/step - loss: 0.5524 - accuracy: 0.7579 - val_loss: 0.5051 - val_accuracy: 0.7543\n",
      "Epoch 20/100\n",
      "87/87 [==============================] - 1s 8ms/step - loss: 0.5542 - accuracy: 0.7520 - val_loss: 0.4910 - val_accuracy: 0.7604\n",
      "Epoch 21/100\n",
      "87/87 [==============================] - 1s 8ms/step - loss: 0.5322 - accuracy: 0.7595 - val_loss: 0.4964 - val_accuracy: 0.7595\n",
      "Epoch 22/100\n",
      "87/87 [==============================] - 1s 8ms/step - loss: 0.5427 - accuracy: 0.7473 - val_loss: 0.4937 - val_accuracy: 0.7569\n",
      "Epoch 23/100\n",
      "87/87 [==============================] - 1s 8ms/step - loss: 0.5498 - accuracy: 0.7513 - val_loss: 0.4872 - val_accuracy: 0.7656\n",
      "Epoch 24/100\n",
      "87/87 [==============================] - 1s 8ms/step - loss: 0.5312 - accuracy: 0.7556 - val_loss: 0.4840 - val_accuracy: 0.7674\n",
      "Epoch 25/100\n",
      "87/87 [==============================] - 1s 8ms/step - loss: 0.5292 - accuracy: 0.7653 - val_loss: 0.4770 - val_accuracy: 0.7726\n",
      "Epoch 26/100\n",
      "87/87 [==============================] - 1s 8ms/step - loss: 0.5264 - accuracy: 0.7640 - val_loss: 0.4806 - val_accuracy: 0.7682\n",
      "Epoch 27/100\n",
      "87/87 [==============================] - 1s 8ms/step - loss: 0.5117 - accuracy: 0.7649 - val_loss: 0.4869 - val_accuracy: 0.7734\n",
      "Epoch 28/100\n",
      "87/87 [==============================] - 1s 8ms/step - loss: 0.5157 - accuracy: 0.7658 - val_loss: 0.4851 - val_accuracy: 0.7726\n",
      "Epoch 29/100\n",
      "87/87 [==============================] - 1s 8ms/step - loss: 0.5247 - accuracy: 0.7577 - val_loss: 0.5028 - val_accuracy: 0.7656\n",
      "Epoch 30/100\n",
      "87/87 [==============================] - 1s 8ms/step - loss: 0.5153 - accuracy: 0.7613 - val_loss: 0.4758 - val_accuracy: 0.7778\n",
      "Epoch 31/100\n",
      "87/87 [==============================] - 1s 8ms/step - loss: 0.5129 - accuracy: 0.7626 - val_loss: 0.4670 - val_accuracy: 0.7821\n",
      "Epoch 32/100\n",
      "87/87 [==============================] - 1s 8ms/step - loss: 0.5186 - accuracy: 0.7680 - val_loss: 0.4726 - val_accuracy: 0.7769\n",
      "Epoch 33/100\n",
      "87/87 [==============================] - 1s 8ms/step - loss: 0.5003 - accuracy: 0.7723 - val_loss: 0.4700 - val_accuracy: 0.7830\n",
      "Epoch 34/100\n",
      "87/87 [==============================] - 1s 8ms/step - loss: 0.5069 - accuracy: 0.7671 - val_loss: 0.4721 - val_accuracy: 0.7821\n",
      "Epoch 35/100\n",
      "87/87 [==============================] - 1s 8ms/step - loss: 0.5057 - accuracy: 0.7730 - val_loss: 0.4731 - val_accuracy: 0.7752\n",
      "Epoch 36/100\n",
      "87/87 [==============================] - 1s 8ms/step - loss: 0.5152 - accuracy: 0.7660 - val_loss: 0.4786 - val_accuracy: 0.7778\n",
      "Epoch 37/100\n",
      "87/87 [==============================] - 1s 8ms/step - loss: 0.5081 - accuracy: 0.7663 - val_loss: 0.4733 - val_accuracy: 0.7726\n",
      "Epoch 38/100\n",
      "87/87 [==============================] - 1s 8ms/step - loss: 0.4999 - accuracy: 0.7658 - val_loss: 0.4664 - val_accuracy: 0.7743\n",
      "Epoch 39/100\n",
      "87/87 [==============================] - 1s 8ms/step - loss: 0.4979 - accuracy: 0.7712 - val_loss: 0.4608 - val_accuracy: 0.7908\n",
      "Epoch 40/100\n",
      "87/87 [==============================] - 1s 8ms/step - loss: 0.4964 - accuracy: 0.7714 - val_loss: 0.4567 - val_accuracy: 0.7752\n",
      "Epoch 41/100\n",
      "87/87 [==============================] - 1s 8ms/step - loss: 0.5017 - accuracy: 0.7671 - val_loss: 0.4735 - val_accuracy: 0.7804\n",
      "Epoch 42/100\n",
      "87/87 [==============================] - 1s 8ms/step - loss: 0.5063 - accuracy: 0.7681 - val_loss: 0.4586 - val_accuracy: 0.7839\n",
      "Epoch 43/100\n",
      "87/87 [==============================] - 1s 8ms/step - loss: 0.4909 - accuracy: 0.7759 - val_loss: 0.4465 - val_accuracy: 0.7943\n",
      "Epoch 44/100\n",
      "87/87 [==============================] - 1s 8ms/step - loss: 0.5027 - accuracy: 0.7698 - val_loss: 0.4557 - val_accuracy: 0.7908\n",
      "Epoch 45/100\n",
      "87/87 [==============================] - 1s 8ms/step - loss: 0.4828 - accuracy: 0.7775 - val_loss: 0.4812 - val_accuracy: 0.7769\n",
      "Epoch 46/100\n",
      "87/87 [==============================] - 1s 8ms/step - loss: 0.4846 - accuracy: 0.7796 - val_loss: 0.4590 - val_accuracy: 0.7830\n",
      "Epoch 47/100\n",
      "87/87 [==============================] - 1s 8ms/step - loss: 0.4930 - accuracy: 0.7744 - val_loss: 0.4590 - val_accuracy: 0.7899\n",
      "Epoch 48/100\n",
      "87/87 [==============================] - 1s 8ms/step - loss: 0.4947 - accuracy: 0.7653 - val_loss: 0.4549 - val_accuracy: 0.7925\n",
      "Epoch 49/100\n",
      "87/87 [==============================] - 1s 8ms/step - loss: 0.4866 - accuracy: 0.7825 - val_loss: 0.4481 - val_accuracy: 0.7908\n",
      "Epoch 50/100\n",
      "87/87 [==============================] - 1s 8ms/step - loss: 0.4781 - accuracy: 0.7782 - val_loss: 0.4546 - val_accuracy: 0.7804\n",
      "Epoch 51/100\n",
      "87/87 [==============================] - 1s 8ms/step - loss: 0.4639 - accuracy: 0.7856 - val_loss: 0.4671 - val_accuracy: 0.7934\n",
      "Epoch 52/100\n",
      "87/87 [==============================] - 1s 8ms/step - loss: 0.4624 - accuracy: 0.7886 - val_loss: 0.4426 - val_accuracy: 0.7969\n",
      "Epoch 53/100\n",
      "87/87 [==============================] - 1s 8ms/step - loss: 0.4764 - accuracy: 0.7760 - val_loss: 0.4484 - val_accuracy: 0.7847\n",
      "Epoch 54/100\n",
      "87/87 [==============================] - 1s 8ms/step - loss: 0.4883 - accuracy: 0.7784 - val_loss: 0.4461 - val_accuracy: 0.7943\n",
      "Epoch 55/100\n",
      "87/87 [==============================] - 1s 8ms/step - loss: 0.4584 - accuracy: 0.7883 - val_loss: 0.4417 - val_accuracy: 0.7891\n",
      "Epoch 56/100\n",
      "87/87 [==============================] - 1s 8ms/step - loss: 0.4741 - accuracy: 0.7814 - val_loss: 0.4539 - val_accuracy: 0.7726\n",
      "Epoch 57/100\n",
      "87/87 [==============================] - 1s 8ms/step - loss: 0.4805 - accuracy: 0.7838 - val_loss: 0.4573 - val_accuracy: 0.7925\n",
      "Epoch 58/100\n",
      "87/87 [==============================] - 1s 8ms/step - loss: 0.4681 - accuracy: 0.7823 - val_loss: 0.4397 - val_accuracy: 0.7986\n",
      "Epoch 59/100\n",
      "87/87 [==============================] - 1s 8ms/step - loss: 0.4705 - accuracy: 0.7769 - val_loss: 0.4319 - val_accuracy: 0.7951\n",
      "Epoch 60/100\n",
      "87/87 [==============================] - 1s 8ms/step - loss: 0.4666 - accuracy: 0.7834 - val_loss: 0.4423 - val_accuracy: 0.8003\n",
      "Epoch 61/100\n",
      "87/87 [==============================] - 1s 8ms/step - loss: 0.4707 - accuracy: 0.7812 - val_loss: 0.4326 - val_accuracy: 0.8012\n",
      "Epoch 62/100\n",
      "87/87 [==============================] - 1s 8ms/step - loss: 0.4600 - accuracy: 0.7913 - val_loss: 0.4413 - val_accuracy: 0.7934\n",
      "Epoch 63/100\n",
      "87/87 [==============================] - 1s 8ms/step - loss: 0.4718 - accuracy: 0.7832 - val_loss: 0.4375 - val_accuracy: 0.7951\n",
      "Epoch 64/100\n",
      "87/87 [==============================] - 1s 8ms/step - loss: 0.4656 - accuracy: 0.7883 - val_loss: 0.4401 - val_accuracy: 0.7969\n",
      "Epoch 65/100\n",
      "87/87 [==============================] - 1s 8ms/step - loss: 0.4463 - accuracy: 0.7958 - val_loss: 0.4361 - val_accuracy: 0.7977\n",
      "Epoch 66/100\n",
      "87/87 [==============================] - 1s 8ms/step - loss: 0.4668 - accuracy: 0.7920 - val_loss: 0.4463 - val_accuracy: 0.7960\n",
      "Epoch 67/100\n",
      "87/87 [==============================] - 1s 9ms/step - loss: 0.4491 - accuracy: 0.7926 - val_loss: 0.4223 - val_accuracy: 0.8082\n",
      "Epoch 68/100\n",
      "87/87 [==============================] - 1s 8ms/step - loss: 0.4613 - accuracy: 0.7854 - val_loss: 0.4390 - val_accuracy: 0.7995\n",
      "Epoch 69/100\n",
      "87/87 [==============================] - 1s 8ms/step - loss: 0.4469 - accuracy: 0.7931 - val_loss: 0.4261 - val_accuracy: 0.8082\n",
      "Epoch 70/100\n",
      "87/87 [==============================] - 1s 8ms/step - loss: 0.4523 - accuracy: 0.7892 - val_loss: 0.4255 - val_accuracy: 0.7986\n",
      "Epoch 71/100\n",
      "87/87 [==============================] - 1s 8ms/step - loss: 0.4481 - accuracy: 0.7936 - val_loss: 0.4300 - val_accuracy: 0.8038\n",
      "Epoch 72/100\n",
      "87/87 [==============================] - 1s 8ms/step - loss: 0.4432 - accuracy: 0.7997 - val_loss: 0.4329 - val_accuracy: 0.8030\n",
      "Epoch 73/100\n",
      "87/87 [==============================] - 1s 8ms/step - loss: 0.4437 - accuracy: 0.7987 - val_loss: 0.4282 - val_accuracy: 0.8073\n",
      "Epoch 74/100\n",
      "87/87 [==============================] - 1s 8ms/step - loss: 0.4568 - accuracy: 0.7866 - val_loss: 0.4258 - val_accuracy: 0.8056\n",
      "Epoch 75/100\n",
      "87/87 [==============================] - 1s 8ms/step - loss: 0.4467 - accuracy: 0.7963 - val_loss: 0.4330 - val_accuracy: 0.8064\n",
      "Epoch 76/100\n",
      "87/87 [==============================] - 1s 8ms/step - loss: 0.4492 - accuracy: 0.7918 - val_loss: 0.4161 - val_accuracy: 0.8151\n",
      "Epoch 77/100\n",
      "87/87 [==============================] - 1s 8ms/step - loss: 0.4428 - accuracy: 0.8046 - val_loss: 0.4174 - val_accuracy: 0.8073\n",
      "Epoch 78/100\n",
      "87/87 [==============================] - 1s 8ms/step - loss: 0.4398 - accuracy: 0.7983 - val_loss: 0.4208 - val_accuracy: 0.8168\n",
      "Epoch 79/100\n",
      "87/87 [==============================] - 1s 8ms/step - loss: 0.4439 - accuracy: 0.7945 - val_loss: 0.4260 - val_accuracy: 0.8090\n",
      "Epoch 80/100\n",
      "87/87 [==============================] - 1s 8ms/step - loss: 0.4351 - accuracy: 0.8057 - val_loss: 0.4497 - val_accuracy: 0.7977\n",
      "Epoch 81/100\n",
      "87/87 [==============================] - 1s 8ms/step - loss: 0.4387 - accuracy: 0.8008 - val_loss: 0.4200 - val_accuracy: 0.8125\n",
      "Epoch 82/100\n",
      "87/87 [==============================] - 1s 8ms/step - loss: 0.4371 - accuracy: 0.8005 - val_loss: 0.4277 - val_accuracy: 0.8134\n",
      "Epoch 83/100\n",
      "87/87 [==============================] - 1s 8ms/step - loss: 0.4350 - accuracy: 0.8028 - val_loss: 0.4451 - val_accuracy: 0.8082\n",
      "Epoch 84/100\n",
      "87/87 [==============================] - 1s 8ms/step - loss: 0.4221 - accuracy: 0.8069 - val_loss: 0.4137 - val_accuracy: 0.8186\n",
      "Epoch 85/100\n",
      "87/87 [==============================] - 1s 8ms/step - loss: 0.4402 - accuracy: 0.8017 - val_loss: 0.4157 - val_accuracy: 0.8116\n",
      "Epoch 86/100\n",
      "87/87 [==============================] - 1s 8ms/step - loss: 0.4183 - accuracy: 0.8114 - val_loss: 0.4116 - val_accuracy: 0.8177\n",
      "Epoch 87/100\n",
      "87/87 [==============================] - 1s 8ms/step - loss: 0.4229 - accuracy: 0.8120 - val_loss: 0.4211 - val_accuracy: 0.8108\n",
      "Epoch 88/100\n",
      "87/87 [==============================] - 1s 8ms/step - loss: 0.4207 - accuracy: 0.8100 - val_loss: 0.4016 - val_accuracy: 0.8255\n",
      "Epoch 89/100\n",
      "87/87 [==============================] - 1s 8ms/step - loss: 0.4272 - accuracy: 0.8060 - val_loss: 0.4169 - val_accuracy: 0.8090\n",
      "Epoch 90/100\n",
      "87/87 [==============================] - 1s 8ms/step - loss: 0.4243 - accuracy: 0.8109 - val_loss: 0.4101 - val_accuracy: 0.8186\n",
      "Epoch 91/100\n",
      "87/87 [==============================] - 1s 8ms/step - loss: 0.4135 - accuracy: 0.8148 - val_loss: 0.4035 - val_accuracy: 0.8273\n",
      "Epoch 92/100\n",
      "87/87 [==============================] - 1s 8ms/step - loss: 0.4167 - accuracy: 0.8161 - val_loss: 0.3912 - val_accuracy: 0.8316\n",
      "Epoch 93/100\n",
      "87/87 [==============================] - 1s 8ms/step - loss: 0.4126 - accuracy: 0.8129 - val_loss: 0.3976 - val_accuracy: 0.8255\n",
      "Epoch 94/100\n",
      "87/87 [==============================] - 1s 8ms/step - loss: 0.4086 - accuracy: 0.8199 - val_loss: 0.3999 - val_accuracy: 0.8264\n",
      "Epoch 95/100\n",
      "87/87 [==============================] - 1s 8ms/step - loss: 0.4116 - accuracy: 0.8173 - val_loss: 0.4039 - val_accuracy: 0.8247\n",
      "Epoch 96/100\n",
      "87/87 [==============================] - 1s 8ms/step - loss: 0.4098 - accuracy: 0.8159 - val_loss: 0.3836 - val_accuracy: 0.8290\n",
      "Epoch 97/100\n",
      "87/87 [==============================] - 1s 8ms/step - loss: 0.4161 - accuracy: 0.8139 - val_loss: 0.4045 - val_accuracy: 0.8264\n",
      "Epoch 98/100\n",
      "87/87 [==============================] - 1s 8ms/step - loss: 0.4099 - accuracy: 0.8116 - val_loss: 0.3963 - val_accuracy: 0.8290\n",
      "Epoch 99/100\n",
      "87/87 [==============================] - 1s 8ms/step - loss: 0.4036 - accuracy: 0.8173 - val_loss: 0.4003 - val_accuracy: 0.8316\n",
      "Epoch 100/100\n",
      "87/87 [==============================] - 1s 8ms/step - loss: 0.3992 - accuracy: 0.8172 - val_loss: 0.4026 - val_accuracy: 0.8264\n"
     ]
    }
   ],
   "source": [
    "history = cnn_model.fit(\n",
    "        train_ds,\n",
    "        steps_per_epoch = params[\"train_size\"] // config[\"BATCH_SIZE\"],\n",
    "        epochs = config[\"NUM_EPOCHS\"],\n",
    "        validation_data = test_ds,\n",
    "        validation_steps = params[\"test_size\"] // config[\"BATCH_SIZE\"],\n",
    "        validation_freq = 1,\n",
    "        callbacks = callbacks)"
   ]
  },
  {
   "cell_type": "code",
   "execution_count": 10,
   "metadata": {},
   "outputs": [],
   "source": [
    "# cnn_model.save('models/{}.h5'.format(model_name))\n",
    "# cnn_model = tf.keras.models.load_model('models/{}.h5'.format(model_name))"
   ]
  },
  {
   "cell_type": "markdown",
   "metadata": {},
   "source": [
    "## Evaluate the model"
   ]
  },
  {
   "cell_type": "code",
   "execution_count": 11,
   "metadata": {},
   "outputs": [
    {
     "name": "stdout",
     "output_type": "stream",
     "text": [
      "18/18 - 27s - loss: 0.3913 - accuracy: 0.8290\n"
     ]
    }
   ],
   "source": [
    "cnn_evaluate = cnn_model.evaluate(val_ds, verbose=2, steps=params[\"val_size\"] // config[\"BATCH_SIZE\"])"
   ]
  },
  {
   "cell_type": "code",
   "execution_count": 12,
   "metadata": {},
   "outputs": [
    {
     "data": {
      "image/png": "[encoded data removed]",
      "text/plain": [
       "<Figure size 1008x432 with 2 Axes>"
      ]
     },
     "metadata": {
      "needs_background": "light"
     },
     "output_type": "display_data"
    }
   ],
   "source": [
    "acc = history.history['accuracy']\n",
    "val_acc = history.history['val_accuracy']\n",
    "loss = history.history['loss']\n",
    "val_loss = history.history['val_loss']\n",
    "\n",
    "epochs_range = range(config[\"NUM_EPOCHS\"])\n",
    "\n",
    "plt.figure(figsize=(14, 6))\n",
    "\n",
    "# Subplot 1\n",
    "plt.subplot(1, 2, 1)\n",
    "plt.plot(epochs_range, acc, label='Training Accuracy')\n",
    "plt.plot(epochs_range, val_acc, label='Validation Accuracy')\n",
    "plt.legend(loc='lower right')\n",
    "# plt.ylim([0.5, 1])\n",
    "plt.xlabel('Epoch')\n",
    "plt.ylabel('Accuracy')\n",
    "plt.title('Training and Validation Accuracy')\n",
    "\n",
    "# Subplot 2\n",
    "plt.subplot(1, 2, 2)\n",
    "plt.plot(epochs_range, loss, label='Training Loss')\n",
    "plt.plot(epochs_range, val_loss, label='Validation Loss')\n",
    "plt.legend(loc='upper right')\n",
    "# plt.ylim([0.5, 1])\n",
    "plt.xlabel('Epoch')\n",
    "plt.ylabel('Accuracy')\n",
    "plt.title('Training and Validation Loss')\n",
    "plt.show()"
   ]
  },
  {
   "cell_type": "markdown",
   "metadata": {},
   "source": [
    "`Tensorboard`"
   ]
  },
  {
   "cell_type": "raw",
   "metadata": {},
   "source": [
    "from tensorboard import notebook\n",
    "# Load the TensorBoard notebook extension\n",
    "# %load_ext tensorboard\n",
    "\n",
    "# Start tensorboard\n",
    "# %tensorboard --logdir logs"
   ]
  },
  {
   "cell_type": "raw",
   "metadata": {},
   "source": [
    "# Clear any logs from previous runs (move to .old instead?)\n",
    "!rm -rf ./logs/\n",
    "\n",
    "# Stop tensorboard\n",
    "notebook.list()\n",
    "!kill 20058"
   ]
  },
  {
   "cell_type": "markdown",
   "metadata": {},
   "source": [
    "## Predict new samples"
   ]
  },
  {
   "cell_type": "code",
   "execution_count": 13,
   "metadata": {},
   "outputs": [],
   "source": [
    "# Fetch one batch\n",
    "images, labels = next(iter(val_ds))\n",
    "\n",
    "# Convert from tensor to numpy array\n",
    "images = images.numpy()\n",
    "labels = labels.numpy()"
   ]
  },
  {
   "cell_type": "code",
   "execution_count": 14,
   "metadata": {},
   "outputs": [
    {
     "name": "stdout",
     "output_type": "stream",
     "text": [
      "0.0000 esophagitis\n",
      "0.0001 normal-pylorus\n",
      "0.0541 ulcerative-colitis\n",
      "0.7419 normal-cecum\n",
      "0.0000 normal-z-line\n",
      "0.2038 polyps\n",
      "0.0000 dyed-resection-margins\n",
      "0.0001 dyed-lifted-polyps\n",
      "\n",
      "Label: polyps\n",
      "Predicton: normal-cecum\n"
     ]
    },
    {
     "data": {
      "image/png": "[encoded data removed]",
      "text/plain": [
       "<Figure size 432x288 with 1 Axes>"
      ]
     },
     "metadata": {},
     "output_type": "display_data"
    }
   ],
   "source": [
    "# Get a random image and label\n",
    "rand = np.random.randint(0, config[\"BATCH_SIZE\"])\n",
    "image = images[rand]\n",
    "label = labels[rand]\n",
    "\n",
    "# Predict one image\n",
    "predictions = cnn_model.predict(np.expand_dims(image, axis=0))[0]\n",
    "\n",
    "for i, pred in enumerate(predictions):\n",
    "    print(\"{:0.4f} {}\".format(pred,params[\"class_names\"][i]))\n",
    "\n",
    "print (\"\\nLabel:\", params[\"class_names\"][label])\n",
    "print (\"Predicton:\", params[\"class_names\"][np.argmax(predictions)])\n",
    "\n",
    "plt.figure(frameon=False, facecolor='white')\n",
    "plt.imshow(image)\n",
    "plt.axis('off');"
   ]
  },
  {
   "cell_type": "code",
   "execution_count": 15,
   "metadata": {},
   "outputs": [
    {
     "name": "stdout",
     "output_type": "stream",
     "text": [
      "idx  label                     pred                     \n",
      "---  ------------------------- -------------------------\n",
      "  0  dyed-resection-margins    dyed-resection-margins   \n",
      "  1  dyed-lifted-polyps        dyed-lifted-polyps       \n",
      "  2  normal-cecum              normal-cecum             \n",
      "  3  dyed-lifted-polyps        dyed-lifted-polyps       \n",
      "  4  polyps                    polyps                   \n",
      "  5  esophagitis               esophagitis              \n",
      "  6  dyed-resection-margins    dyed-resection-margins   \n",
      "  7  normal-cecum              normal-cecum             \n",
      "  8  normal-cecum              normal-cecum             \n",
      "  9  normal-z-line             normal-z-line            \n",
      " 10  esophagitis               esophagitis              \n",
      " 11  normal-cecum              normal-cecum             \n",
      " 12  normal-pylorus            normal-pylorus           \n",
      " 13  dyed-resection-margins    dyed-resection-margins   \n",
      " 14  dyed-lifted-polyps        dyed-resection-margins     Wrong\n",
      " 15  normal-pylorus            normal-pylorus           \n",
      " 16  dyed-resection-margins    dyed-lifted-polyps         Wrong\n",
      " 17  ulcerative-colitis        normal-pylorus             Wrong\n",
      " 18  normal-pylorus            normal-pylorus           \n",
      " 19  ulcerative-colitis        ulcerative-colitis       \n",
      " 20  dyed-resection-margins    dyed-lifted-polyps         Wrong\n",
      " 21  polyps                    normal-cecum               Wrong\n",
      " 22  polyps                    ulcerative-colitis         Wrong\n",
      " 23  dyed-lifted-polyps        dyed-lifted-polyps       \n",
      " 24  polyps                    ulcerative-colitis         Wrong\n",
      " 25  normal-pylorus            normal-pylorus           \n",
      " 26  ulcerative-colitis        ulcerative-colitis       \n",
      " 27  normal-z-line             normal-z-line            \n",
      " 28  ulcerative-colitis        ulcerative-colitis       \n",
      " 29  dyed-resection-margins    dyed-resection-margins   \n",
      " 30  polyps                    polyps                   \n",
      " 31  normal-pylorus            normal-pylorus           \n",
      " 32  normal-cecum              normal-cecum             \n",
      " 33  normal-pylorus            normal-pylorus           \n",
      " 34  dyed-resection-margins    dyed-resection-margins   \n",
      " 35  normal-pylorus            normal-pylorus           \n",
      " 36  normal-cecum              normal-cecum             \n",
      " 37  normal-z-line             normal-z-line            \n",
      " 38  dyed-lifted-polyps        dyed-lifted-polyps       \n",
      " 39  dyed-lifted-polyps        dyed-lifted-polyps       \n",
      " 40  normal-z-line             normal-z-line            \n",
      " 41  polyps                    polyps                   \n",
      " 42  normal-z-line             normal-z-line            \n",
      " 43  normal-z-line             normal-z-line            \n",
      " 44  normal-pylorus            normal-pylorus           \n",
      " 45  normal-cecum              normal-cecum             \n",
      " 46  normal-pylorus            normal-pylorus           \n",
      " 47  normal-cecum              normal-cecum             \n",
      " 48  esophagitis               normal-z-line              Wrong\n",
      " 49  esophagitis               esophagitis              \n",
      " 50  polyps                    polyps                   \n",
      " 51  dyed-lifted-polyps        dyed-lifted-polyps       \n",
      " 52  normal-cecum              normal-cecum             \n",
      " 53  ulcerative-colitis        normal-cecum               Wrong\n",
      " 54  dyed-resection-margins    dyed-resection-margins   \n",
      " 55  normal-cecum              normal-cecum             \n",
      " 56  dyed-resection-margins    dyed-resection-margins   \n",
      " 57  normal-pylorus            normal-pylorus           \n",
      " 58  normal-cecum              normal-cecum             \n",
      " 59  esophagitis               esophagitis              \n",
      " 60  dyed-resection-margins    dyed-resection-margins   \n",
      " 61  normal-cecum              normal-cecum             \n",
      " 62  normal-cecum              normal-cecum             \n",
      " 63  normal-pylorus            normal-pylorus           "
     ]
    }
   ],
   "source": [
    "# Predict one batch\n",
    "predictions = cnn_model.predict(images)\n",
    "\n",
    "print ('{:3}  {:<25} {:25}'.format('idx', 'label', 'pred'))\n",
    "print ('---  {} {}'.format(25*'-', 25*'-'), end='')\n",
    "\n",
    "for i, pred in enumerate(predictions):\n",
    "    label = params[\"class_names\"][labels[i]]\n",
    "    prediction = params[\"class_names\"][np.argmax(pred)]\n",
    "    print ('\\n{:3}  {:25} {:25}'.format(i, label, prediction), end='')\n",
    "    if (label != prediction): print (\"  Wrong\", end='')"
   ]
  }
 ],
 "metadata": {
  "kernelspec": {
   "display_name": "Python 3",
   "language": "python",
   "name": "python3"
  },
  "language_info": {
   "codemirror_mode": {
    "name": "ipython",
    "version": 3
   },
   "file_extension": ".py",
   "mimetype": "text/x-python",
   "name": "python",
   "nbconvert_exporter": "python",
   "pygments_lexer": "ipython3",
   "version": "3.8.3"
  }
 },
 "nbformat": 4,
 "nbformat_minor": 4
}
