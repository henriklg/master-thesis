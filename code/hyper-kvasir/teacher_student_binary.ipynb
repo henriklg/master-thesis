{
 "cells": [
  {
   "cell_type": "markdown",
   "metadata": {},
   "source": [
    "The goal of this notebook is to create a student-teacher model where we first train a teacher on labeled data, and then use this teacher model to label more data, then we swap out the teacher with a student and train again over all the samples. "
   ]
  },
  {
   "cell_type": "markdown",
   "metadata": {},
   "source": [
    "# Loading data"
   ]
  },
  {
   "cell_type": "code",
   "execution_count": null,
   "metadata": {},
   "outputs": [],
   "source": [
    "from __future__ import absolute_import, division, print_function, unicode_literals\n",
    "\n",
    "import tensorflow as tf\n",
    "import numpy as np\n",
    "import datetime\n",
    "import pickle\n",
    "import time\n",
    "import os\n",
    "import pathlib\n",
    "import matplotlib.pyplot as plt\n",
    "import sys\n",
    " \n",
    "# Some stuff to make utils-function work\n",
    "sys.path.append('../utils')\n",
    "from pipeline import *\n",
    "from create_model import *\n",
    "from utils import *\n",
    "from unlabeled_utils import *\n",
    "from evaluate_model import *\n",
    "%load_ext autoreload\n",
    "%autoreload 2\n",
    "\n",
    "# Jupyter-specific\n",
    "%matplotlib inline\n",
    "\n",
    "project_time = datetime.datetime.now().strftime(\"%Y%m%d-%H%M%S\")"
   ]
  },
  {
   "cell_type": "markdown",
   "metadata": {},
   "source": [
    "Some parameters"
   ]
  },
  {
   "cell_type": "code",
   "execution_count": null,
   "metadata": {},
   "outputs": [],
   "source": [
    "data_dir = pathlib.Path('/home/henriklg/master-thesis/data/hyper-kvasir/labeled_ttv/')\n",
    "unlab_dir = pathlib.Path('/home/henriklg/master-thesis/data/hyper-kvasir/unlabeled_ttv/')\n",
    "\n",
    "iteration = 0\n",
    "dir_name = str(iteration)+\"_teacher\"\n",
    "log_dir = \"./logs/{}/{}\".format(project_time, dir_name)\n",
    "\n",
    "conf = {\n",
    "    # Dataset\n",
    "    \"data_dir\": data_dir,\n",
    "    \"unlab_dir\": unlab_dir,\n",
    "    \"ds_info\": 'binary',\n",
    "    \"augment\": [\"crop\",\"flip\",\"brightness\",\"saturation\",\"contrast\",\"rotate\"],\n",
    "    \"aug_mult\": 0.7,\n",
    "    \"resample\": True,\n",
    "    \"class_weight\": False,\n",
    "    \"shuffle_buffer_size\": 2000,       # 0=no shuffling\n",
    "    \"seed\": 2511,\n",
    "    \"neg_class\": \"pylorus\",                 # select neg class for binary ds (normal class)\n",
    "    \"outcast\": None,                   # list of folders to drop - currently only works for 1 item\n",
    "    # Model\n",
    "    \"model\": 'EfficientNetB0',\n",
    "    \"weights\": \"imagenet\",             # which weights to initialize the model with\n",
    "    \"dropout\": 0.2,\n",
    "    \"num_epochs\": 3,\n",
    "    \"batch_size\": 16,\n",
    "    \"img_shape\": (128, 128, 3),\n",
    "    \"learning_rate\": 0.001,\n",
    "    \"optimizer\": 'Adam',\n",
    "    \"final_activation\": 'sigmoid',     # sigmoid for binary ds, else softmax\n",
    "    # Callbacks\n",
    "    \"tensorboard\": False,\n",
    "    \"decay_rate\": 0,                   # 128:0.25   64:1.0   32:4.0   16:16   8:64\n",
    "    \"checkpoint\": False,\n",
    "    \"early_stopp_patience\": 0,         # disable: 0\n",
    "    # Misc\n",
    "    \"verbosity\": 1,\n",
    "    \"keep_thresh\": 0.8,\n",
    "    \"pseudo_thresh\": 2000,                # how many samples to look at before stopping\n",
    "    \"dir_name\": dir_name,\n",
    "    \"log_dir\": log_dir,\n",
    "    \"cache_dir\": \"./cache\",\n",
    "    }"
   ]
  },
  {
   "cell_type": "markdown",
   "metadata": {},
   "source": [
    "Create training, testing and validation dataset from utils/data_prep.py.  \n",
    "Returns tf.dataset for shuffled, cached and batched data"
   ]
  },
  {
   "cell_type": "code",
   "execution_count": null,
   "metadata": {},
   "outputs": [],
   "source": [
    "ds = create_dataset(conf)"
   ]
  },
  {
   "cell_type": "code",
   "execution_count": null,
   "metadata": {},
   "outputs": [],
   "source": [
    "# Show some images from training dataset - mainly to verify augmentation and distribution\n",
    "# add params for title and log_dir for savefig\n",
    "checkout_dataset(ds[\"train\"], conf)"
   ]
  },
  {
   "cell_type": "markdown",
   "metadata": {},
   "source": [
    "# Step 1: Train a teacher model on labeled images"
   ]
  },
  {
   "cell_type": "code",
   "execution_count": null,
   "metadata": {},
   "outputs": [],
   "source": [
    "teacher_model = create_model(conf)"
   ]
  },
  {
   "cell_type": "markdown",
   "metadata": {},
   "source": [
    "### Callbacks"
   ]
  },
  {
   "cell_type": "code",
   "execution_count": null,
   "metadata": {},
   "outputs": [],
   "source": [
    "callbacks = create_callbacks(conf)"
   ]
  },
  {
   "cell_type": "markdown",
   "metadata": {},
   "source": [
    "#### Class weight"
   ]
  },
  {
   "cell_type": "code",
   "execution_count": null,
   "metadata": {},
   "outputs": [],
   "source": [
    "class_weights = get_class_weights(ds[\"train\"], conf)"
   ]
  },
  {
   "cell_type": "markdown",
   "metadata": {},
   "source": [
    "### Train the teacher model"
   ]
  },
  {
   "cell_type": "code",
   "execution_count": null,
   "metadata": {},
   "outputs": [],
   "source": [
    "start_time = time.time()\n",
    "\n",
    "teacher_history = teacher_model.fit(\n",
    "        ds[\"train\"],\n",
    "        steps_per_epoch = conf[\"steps\"][\"train\"],\n",
    "        epochs = conf[\"num_epochs\"],\n",
    "        validation_data = ds[\"test\"],\n",
    "        validation_steps = conf[\"steps\"][\"test\"],\n",
    "        validation_freq = 1,\n",
    "        class_weight = class_weights,\n",
    "        callbacks = callbacks,\n",
    "        verbose = 1\n",
    ")\n",
    "print (\"Time spent on training: {:.2f} minutes.\".format(np.round(time.time() - start_time)/60))\n",
    "\n",
    "if conf[\"num_epochs\"] > 9:\n",
    "#     from tensorflow.python.keras.models import Model, load_model\n",
    "    teacher_model.save(conf[\"log_dir\"]+'/model')\n",
    "    \n",
    "# teacher_model = tf.keras.models.load_model(\"./logs/20200526-121128/teacher1/model\")"
   ]
  },
  {
   "cell_type": "markdown",
   "metadata": {},
   "source": [
    "### Evaluate the model"
   ]
  },
  {
   "cell_type": "code",
   "execution_count": null,
   "metadata": {},
   "outputs": [],
   "source": [
    "evaluate_model(teacher_model, teacher_history, ds, conf)"
   ]
  },
  {
   "cell_type": "markdown",
   "metadata": {},
   "source": [
    "# Step 2: use the teacher to generate pseudo labels on unlabeled images"
   ]
  },
  {
   "cell_type": "markdown",
   "metadata": {},
   "source": [
    "### Read in the unlabeled dataset"
   ]
  },
  {
   "cell_type": "code",
   "execution_count": null,
   "metadata": {},
   "outputs": [],
   "source": [
    "ds[\"unlab\"] = create_unlab_ds(conf)"
   ]
  },
  {
   "cell_type": "markdown",
   "metadata": {},
   "source": [
    "### Run predictions on all unlabeled images"
   ]
  },
  {
   "cell_type": "code",
   "execution_count": null,
   "metadata": {},
   "outputs": [],
   "source": [
    "count = {\"findings\": 0, \"total\": 0}\n",
    "\n",
    "pseudo = {\n",
    "    \"pred_list\": [],\n",
    "    \"lab_list\": [],\n",
    "    \"name_list\": []\n",
    "}"
   ]
  },
  {
   "cell_type": "code",
   "execution_count": null,
   "metadata": {},
   "outputs": [],
   "source": [
    "pseudo, count = generate_labels(\n",
    "    pseudo, count, ds[\"unlab\"], teacher_model, conf)"
   ]
  },
  {
   "cell_type": "raw",
   "metadata": {},
   "source": [
    "# Load a pickle\n",
    "pickle_path = \"/home/henriklg/master-thesis/code/hyper-kvasir/logs/20200526-121128/teacher1/\"\n",
    "new_unlab = pickle.load (open (pickle_path+\"/unlab_findings.pkl\", \"rb\"))"
   ]
  },
  {
   "cell_type": "markdown",
   "metadata": {},
   "source": [
    "## Inspect the classified images"
   ]
  },
  {
   "cell_type": "code",
   "execution_count": null,
   "metadata": {
    "scrolled": true
   },
   "outputs": [],
   "source": [
    "# Sort in order of highest confidence to lowest\n",
    "pseudo_sorted = custom_sort(pseudo)\n",
    "\n",
    "checkout_findings(pseudo_sorted, conf)"
   ]
  },
  {
   "cell_type": "code",
   "execution_count": null,
   "metadata": {
    "scrolled": true
   },
   "outputs": [],
   "source": [
    "# Print grid of images from one of the classes\n",
    "checkout_class(\"Negative\", pseudo_sorted, conf)"
   ]
  },
  {
   "cell_type": "markdown",
   "metadata": {},
   "source": [
    "### Resample new findings, convert to tf.tensors and concatenate with original training data, and update unlab_ds"
   ]
  },
  {
   "cell_type": "code",
   "execution_count": null,
   "metadata": {},
   "outputs": [],
   "source": [
    "# First iteration only\n",
    "datasets_bin = [tf_bincount(ds[\"clean_train\"], conf[\"num_classes\"])]\n",
    "sanity = []\n",
    "ds[\"combined_train\"] = ds[\"clean_train\"]"
   ]
  },
  {
   "cell_type": "code",
   "execution_count": null,
   "metadata": {},
   "outputs": [],
   "source": [
    "datasets_bin, added_samples = resample_and_combine(ds, conf, pseudo, pseudo_sorted, datasets_bin)\n",
    "\n",
    "# Update unlab_ds\n",
    "ds[\"unlab\"] = reduce_dataset(ds[\"unlab\"], remove=added_samples)\n",
    "sanity, conf = update_sanity(sanity, len(added_samples), datasets_bin, conf)\n",
    "\n",
    "sanity"
   ]
  },
  {
   "cell_type": "markdown",
   "metadata": {},
   "source": [
    "# Step 3: Train a student model on the combination of labeled images and pseudo labeled images\n",
    "\n",
    "Now we have trained a teacher model, and used that model to predict on unlabeled dataset to create more samples with psudo-labels.  \n",
    "It's time for swapping the teacher with the student!"
   ]
  },
  {
   "cell_type": "code",
   "execution_count": null,
   "metadata": {},
   "outputs": [],
   "source": [
    "# save teacher conf\n",
    "teacher_conf = conf\n",
    "\n",
    "# Make changes\n",
    "dir_name = str(iteration)+\"_student\"\n",
    "log_dir = \"./logs/{}/{}\".format(project_time, dir_name)\n",
    "\n",
    "# Dataset\n",
    "conf[\"log_dir\"] = log_dir\n",
    "conf[\"ds_sizes\"][\"train\"] = sanity[-1][\"curr_train_size\"]\n",
    "conf[\"steps\"][\"train\"] = sanity[-1][\"curr_train_size\"]//conf[\"batch_size\"] \n",
    "conf[\"aug_mult\"] = 0.5\n",
    "# Model\n",
    "# conf[\"model\"] = 'EfficientNetB6'\n",
    "conf[\"dropout\"] = 0.2\n",
    "# conf[\"batch_size\"] = 64\n",
    "# conf[\"num_epochs\"] = 25\n",
    "# conf[\"verbosity\"] = 1"
   ]
  },
  {
   "cell_type": "code",
   "execution_count": null,
   "metadata": {},
   "outputs": [],
   "source": [
    "ds[\"train\"] = prepare_for_training(\n",
    "        ds=ds[\"combined_train\"], \n",
    "        ds_name='train_'+dir_name,\n",
    "        conf=conf,\n",
    "        cache=True\n",
    "    )"
   ]
  },
  {
   "cell_type": "raw",
   "metadata": {},
   "source": [
    "checkout_dataset(ds[\"train\"], conf)"
   ]
  },
  {
   "cell_type": "code",
   "execution_count": null,
   "metadata": {},
   "outputs": [],
   "source": [
    "# create model, callbacks and weights\n",
    "student_model = create_model(conf)\n",
    "callbacks = create_callbacks(conf) \n",
    "class_weights = get_class_weights(ds[\"train\"], conf)"
   ]
  },
  {
   "cell_type": "code",
   "execution_count": null,
   "metadata": {},
   "outputs": [],
   "source": [
    "write_to_file(conf, conf, \"conf\") \n",
    "start_time = time.time()\n",
    "\n",
    "student_history = student_model.fit(\n",
    "    ds[\"train\"],\n",
    "    steps_per_epoch = conf[\"steps\"][\"train\"], \n",
    "    epochs = conf[\"num_epochs\"],\n",
    "    validation_data = ds[\"test\"],\n",
    "    validation_steps = conf[\"steps\"][\"test\"],\n",
    "    validation_freq = 1,\n",
    "    class_weight = class_weights,\n",
    "    callbacks = callbacks\n",
    ")\n",
    "print (\"Time spent on training: {:.2f} minutes.\".format(np.round(time.time() - start_time)/60))\n",
    "\n",
    "# Save the metrics from training\n",
    "write_to_file(student_history.history, conf, \"student_history\")\n",
    "\n",
    "# Save the model\n",
    "student_model.save(conf[\"log_dir\"]+'/model')"
   ]
  },
  {
   "cell_type": "markdown",
   "metadata": {},
   "source": [
    "### Evaluate the model"
   ]
  },
  {
   "cell_type": "code",
   "execution_count": null,
   "metadata": {},
   "outputs": [],
   "source": [
    "# tf.Keras model evaluation\n",
    "student_evaluate = student_model.evaluate(ds[\"val\"], verbose=2, steps=conf[\"steps\"][\"val\"])\n",
    "write_to_file(student_evaluate, conf, \"evaluate_val\")\n",
    "\n",
    "# Plot leanring rate and loss\n",
    "plot_lr_and_accuracy(student_history, conf)\n",
    "\n",
    "# Create true_labels and pred_labels for later evaluations\n",
    "eval_ds = unpipe(ds[\"val\"], conf[\"ds_sizes\"][\"val\"]).as_numpy_iterator()\n",
    "eval_ds = np.array(list(eval_ds))\n",
    "eval_images = np.stack(eval_ds[:,0], axis=0)\n",
    "predictions = student_model.predict(eval_images, verbose=1)\n",
    "pred_confidence = [np.max(pred) for pred in predictions]\n",
    "true_labels = list(eval_ds[:,1])\n",
    "pred_labels = [np.argmax(pred) for pred in predictions]\n",
    "\n",
    "\n",
    "# Classification report\n",
    "report = get_classification_report(\n",
    "        true_labels, \n",
    "        pred_labels, \n",
    "        range(conf[\"num_classes\"]), \n",
    "        target_names=conf[\"class_names\"]\n",
    ")\n",
    "print (report)\n",
    "write_to_file(report, conf, \"classification_report\")\n",
    "\n",
    "# Confusion matrix\n",
    "cm = get_confusion_matrix(true_labels, pred_labels)\n",
    "plot_confusion_matrix(cm, log_dir, conf[\"class_names\"], figsize=(10,8))\n",
    "\n",
    "# some some sample predictions from evaluation data\n",
    "show_dataset_predictions(\n",
    "        true_labels,\n",
    "        pred_labels,\n",
    "        pred_confidence,\n",
    "        eval_images,\n",
    "        conf,\n",
    ")"
   ]
  },
  {
   "cell_type": "markdown",
   "metadata": {},
   "source": [
    "# Step 3.2: use the teacher to generate pseudo labels on unlabeled images"
   ]
  },
  {
   "cell_type": "code",
   "execution_count": null,
   "metadata": {},
   "outputs": [],
   "source": [
    "count = {\"findings\": 0, \"total\": 0}\n",
    "\n",
    "unlab_findings = {\n",
    "    \"pred_list\": [],\n",
    "    \"lab_list\": [],\n",
    "    \"name_list\": []\n",
    "}"
   ]
  },
  {
   "cell_type": "code",
   "execution_count": null,
   "metadata": {},
   "outputs": [],
   "source": [
    "unlab_findings, count = generate_labels(\n",
    "    count, unlab_findings, unlab_ds, unlab_size, student_model, conf)"
   ]
  },
  {
   "cell_type": "code",
   "execution_count": null,
   "metadata": {},
   "outputs": [],
   "source": [
    "import pickle\n",
    "\n",
    "# Dump it as a pickle\n",
    "with open(conf[\"log_dir\"]+\"/unlab_findings.pkl\", 'wb') as f:\n",
    "    pickle.dump(unlab_findings, f)\n",
    "\n",
    "# Load a pickle\n",
    "# pickle_path = \"/home/henriklg/master-thesis/code/hyper-kvasir/logs/20200526-121128/teacher1/\"\n",
    "# new_unlab = pickle.load (open (pickle_path+\"/unlab_findings.pkl\", \"rb\"))"
   ]
  },
  {
   "cell_type": "markdown",
   "metadata": {},
   "source": [
    "### Inspect the classified images"
   ]
  },
  {
   "cell_type": "code",
   "execution_count": null,
   "metadata": {},
   "outputs": [],
   "source": [
    "# Sort in order of highest confidence to lowest\n",
    "unlab_findings = custom_sort(unlab_findings)\n",
    "\n",
    "checkout_findings(unlab_findings, conf)"
   ]
  },
  {
   "cell_type": "code",
   "execution_count": null,
   "metadata": {},
   "outputs": [],
   "source": [
    "# Print grid of images from one of the classes\n",
    "checkout_class(\"polyps\", unlab_findings, conf)"
   ]
  },
  {
   "cell_type": "markdown",
   "metadata": {},
   "source": [
    "### Resample new findings, convert to tf.tensors and concatenate with original training data, and update unlab_ds"
   ]
  },
  {
   "cell_type": "code",
   "execution_count": null,
   "metadata": {},
   "outputs": [],
   "source": [
    "# Resample and convert to tf.tensors\n",
    "if conf[\"resample\"]:\n",
    "    new_findings, added_samples = resample_unlab(unlab_findings, datasets_bin[-1], conf)\n",
    "    findings_tensor = tf.data.Dataset.from_tensor_slices(new_findings)\n",
    "else:\n",
    "    added_samples = len(unlab[\"name_list\"])\n",
    "    img_list = [fn2img(name, conf[\"unlab_ds\"], conf[\"img_shape\"][0]) for name in unlab[\"name_list\"]]\n",
    "    findings_tensor = tf.data.Dataset.from_tensor_slices([img_list, unlab[\"lab_list\"]])\n",
    "\n",
    "# combine with previous training dataset\n",
    "if len(added_samples) != 0: # if no samples are added just reuse previous combined_train\n",
    "    ds[\"combined_train\"] = ds[\"combined_train\"].concatenate(findings_tensor)\n",
    "\n",
    "# count samples in the new/combined dataset\n",
    "datasets_bin.append(tf_bincount(ds[\"combined_train\"], conf[\"num_classes\"]))\n",
    "\n",
    "# Display history of class distribution\n",
    "print_bar_chart(\n",
    "    data=datasets_bin,\n",
    "    conf=conf,\n",
    "    title=None,\n",
    "    fname=\"bar_chart-distribution\"\n",
    ")\n",
    "\n",
    "# Refresh the unlabeled dataset\n",
    "unlab_ds = reduce_dataset(unlab_ds, remove=added_samples)\n",
    "prev_unlab_size = unlab_size\n",
    "unlab_size = unlab_size - len(added_samples)"
   ]
  },
  {
   "cell_type": "markdown",
   "metadata": {},
   "source": [
    "### Sanity check"
   ]
  },
  {
   "cell_type": "code",
   "execution_count": null,
   "metadata": {},
   "outputs": [],
   "source": [
    "sanity.append({\n",
    "    \"added_samples\": len(added_samples),\n",
    "    \"last_unlab_size\": prev_unlab_size,\n",
    "    \"curr_unlab_size\": unlab_size,\n",
    "    \"last_train_size\": int(np.sum(datasets_bin[-2])),\n",
    "    \"curr_train_size\": int(np.sum(datasets_bin[-1]))\n",
    "})\n",
    "write_to_file(sanity, conf, \"sanity\")\n",
    "\n",
    "sanity"
   ]
  },
  {
   "cell_type": "markdown",
   "metadata": {},
   "source": [
    "# Step 4: Iterate this algorithm a few times by treating the student as a teacher to relabel the unlabeled data and training a new student"
   ]
  },
  {
   "cell_type": "markdown",
   "metadata": {},
   "source": [
    "# Second iteration - Part 1\n",
    "# --- Teacher 2 ---"
   ]
  },
  {
   "cell_type": "code",
   "execution_count": null,
   "metadata": {},
   "outputs": [],
   "source": [
    "# save teacher conf\n",
    "teacher_conf = conf\n",
    "\n",
    "# Make changes\n",
    "iteration += 1\n",
    "dir_name = str(iteration)+\"_teacher\"\n",
    "log_dir = \"./logs/{}/{}\".format(project_time, dir_name)\n",
    "\n",
    "# Dataset\n",
    "conf[\"log_dir\"] = log_dir\n",
    "conf[\"ds_sizes\"][\"train\"] = sanity[1][\"curr_train_size\"]\n",
    "conf[\"aug_mult\"] = 0.5\n",
    "# Model\n",
    "# conf[\"model\"] = 'EfficientNetB0'\n",
    "conf[\"dropout\"] = 0.2\n",
    "# conf[\"batch_size\"] = 128\n",
    "# conf[\"num_epochs\"] = 25"
   ]
  },
  {
   "cell_type": "code",
   "execution_count": null,
   "metadata": {},
   "outputs": [],
   "source": [
    "ds[\"train\"] = prepare_for_training(\n",
    "        ds=ds[\"combined_train\"], \n",
    "        ds_name='train_'+dir_name,\n",
    "        conf=conf,\n",
    "        cache=True\n",
    "    )"
   ]
  },
  {
   "cell_type": "raw",
   "metadata": {},
   "source": [
    "checkout_dataset(ds[\"train\"], conf)"
   ]
  },
  {
   "cell_type": "code",
   "execution_count": null,
   "metadata": {},
   "outputs": [],
   "source": [
    "# create model, callbacks and weights\n",
    "teacher_model = create_model(conf)\n",
    "callbacks = create_callbacks(conf) \n",
    "class_weights = get_class_weights(ds[\"train\"], conf)"
   ]
  },
  {
   "cell_type": "code",
   "execution_count": null,
   "metadata": {},
   "outputs": [],
   "source": [
    "write_to_file(conf, conf, \"conf\") \n",
    "start_time = time.time()\n",
    "\n",
    "teacher_history = teacher_model.fit(\n",
    "    ds[\"train\"],\n",
    "    steps_per_epoch = conf[\"steps\"][\"train\"], \n",
    "    epochs = conf[\"num_epochs\"],\n",
    "    validation_data = ds[\"test\"],\n",
    "    validation_steps = conf[\"steps\"][\"test\"],\n",
    "    validation_freq = 1,\n",
    "    class_weight = class_weights,\n",
    "    callbacks = callbacks\n",
    ")\n",
    "print (\"Time spent on training: {:.2f} minutes.\".format(np.round(time.time() - start_time)/60))\n",
    "\n",
    "# Save the metrics from training\n",
    "write_to_file(teacher_history.history, conf, \"teacher_history\")\n",
    "\n",
    "# Save the model\n",
    "student_model.save(conf[\"log_dir\"]+'/model')"
   ]
  },
  {
   "cell_type": "markdown",
   "metadata": {},
   "source": [
    "## Evaluate the model"
   ]
  },
  {
   "cell_type": "code",
   "execution_count": null,
   "metadata": {
    "scrolled": true
   },
   "outputs": [],
   "source": [
    "# tf.Keras model evaluation\n",
    "teacher_evaluate = teacher_model.evaluate(ds[\"val\"], verbose=2, steps=conf[\"steps\"][\"val\"])\n",
    "write_to_file(teacher_evaluate, conf, \"evaluate_val\")\n",
    "\n",
    "# Plot leanring rate and loss\n",
    "plot_lr_and_accuracy(teacher_history, conf)\n",
    "\n",
    "# Create true_labels and pred_labels for later evaluations\n",
    "eval_ds = unpipe(ds[\"val\"], conf[\"ds_sizes\"][\"val\"]).as_numpy_iterator()\n",
    "eval_ds = np.array(list(eval_ds))\n",
    "eval_images = np.stack(eval_ds[:,0], axis=0)\n",
    "predictions = teacher_model.predict(eval_images, verbose=1)\n",
    "pred_confidence = [np.max(pred) for pred in predictions]\n",
    "true_labels = list(eval_ds[:,1])\n",
    "pred_labels = [np.argmax(pred) for pred in predictions]\n",
    "\n",
    "\n",
    "# Classification report\n",
    "report = get_classification_report(\n",
    "        true_labels, \n",
    "        pred_labels, \n",
    "        range(conf[\"num_classes\"]), \n",
    "        target_names=conf[\"class_names\"]\n",
    ")\n",
    "print (report)\n",
    "write_to_file(report, conf, \"classification_report\")\n",
    "\n",
    "# Confusion matrix\n",
    "cm = get_confusion_matrix(true_labels, pred_labels)\n",
    "plot_confusion_matrix(cm, log_dir, conf[\"class_names\"], figsize=(10,8))\n",
    "\n",
    "# some some sample predictions from evaluation data\n",
    "show_dataset_predictions(\n",
    "        true_labels,\n",
    "        pred_labels,\n",
    "        pred_confidence,\n",
    "        eval_images,\n",
    "        conf,\n",
    ")"
   ]
  },
  {
   "cell_type": "markdown",
   "metadata": {},
   "source": [
    "### Use the teacher to generate pseudo labels on unlabeled images"
   ]
  },
  {
   "cell_type": "code",
   "execution_count": null,
   "metadata": {},
   "outputs": [],
   "source": [
    "count = {\"findings\": 0, \"total\": 0}\n",
    "\n",
    "unlab_findings = {\n",
    "    \"pred_list\": [],\n",
    "    \"lab_list\": [],\n",
    "    \"name_list\": []\n",
    "}"
   ]
  },
  {
   "cell_type": "code",
   "execution_count": null,
   "metadata": {},
   "outputs": [],
   "source": [
    "unlab_findings, count = generate_labels(\n",
    "    count, unlab_findings, unlab_ds, unlab_size, teacher_model, conf)"
   ]
  },
  {
   "cell_type": "code",
   "execution_count": null,
   "metadata": {},
   "outputs": [],
   "source": [
    "import pickle\n",
    "\n",
    "# Dump it as a pickle\n",
    "with open(conf[\"log_dir\"]+\"/unlab_findings.pkl\", 'wb') as f:\n",
    "    pickle.dump(unlab_findings, f)\n",
    "\n",
    "# Load a pickle\n",
    "# pickle_path = \"/home/henriklg/master-thesis/code/hyper-kvasir/logs/20200526-121128/teacher1/\"\n",
    "# new_unlab = pickle.load (open (pickle_path+\"/unlab_findings.pkl\", \"rb\"))"
   ]
  },
  {
   "cell_type": "markdown",
   "metadata": {},
   "source": [
    "### Inspect the classified images"
   ]
  },
  {
   "cell_type": "code",
   "execution_count": null,
   "metadata": {},
   "outputs": [],
   "source": [
    "# Sort in order of highest confidence to lowest\n",
    "unlab_findings = custom_sort(unlab_findings)\n",
    "\n",
    "checkout_findings(unlab_findings, conf)"
   ]
  },
  {
   "cell_type": "code",
   "execution_count": null,
   "metadata": {},
   "outputs": [],
   "source": [
    "# Print grid of images from one of the classes\n",
    "checkout_class(\"bbps-0-1\", unlab_findings, conf)"
   ]
  },
  {
   "cell_type": "markdown",
   "metadata": {},
   "source": [
    "### Prepare new training and unlabeled datasets"
   ]
  },
  {
   "cell_type": "code",
   "execution_count": null,
   "metadata": {},
   "outputs": [],
   "source": [
    "# Resample and convert to tf.tensors\n",
    "if conf[\"resample\"]:\n",
    "    new_findings, added_samples = resample_unlab(unlab_findings, datasets_bin[-1], conf)\n",
    "    findings_tensor = tf.data.Dataset.from_tensor_slices(new_findings)\n",
    "else:\n",
    "    added_samples = len(unlab[\"name_list\"])\n",
    "    img_list = [fn2img(name, conf[\"unlab_ds\"], conf[\"img_shape\"][0]) for name in unlab[\"name_list\"]]\n",
    "    findings_tensor = tf.data.Dataset.from_tensor_slices([img_list, unlab[\"lab_list\"]])\n",
    "\n",
    "# combine with previous training dataset\n",
    "if len(added_samples) != 0: # if no samples are added just reuse previous combined_train\n",
    "    ds[\"combined_train\"] = ds[\"combined_train\"].concatenate(findings_tensor)\n",
    "\n",
    "# count samples in the original and new/combined dataset\n",
    "datasets_bin.append(tf_bincount(ds[\"combined_train\"], conf[\"num_classes\"]))\n",
    "\n",
    "# Display history of class distribution\n",
    "print_bar_chart(\n",
    "    data=datasets_bin,\n",
    "    conf=conf,\n",
    "    title=None,\n",
    "    fname=\"bar_chart-distribution\"\n",
    ")\n",
    "\n",
    "# Refresh the unlabeled dataset\n",
    "unlab_ds = reduce_dataset(unlab_ds, remove=added_samples)\n",
    "prev_unlab_size = unlab_size\n",
    "unlab_size = unlab_size - len(added_samples)"
   ]
  },
  {
   "cell_type": "markdown",
   "metadata": {},
   "source": [
    "### Sanity check"
   ]
  },
  {
   "cell_type": "code",
   "execution_count": null,
   "metadata": {},
   "outputs": [],
   "source": [
    "sanity.append({\n",
    "    \"added_samples\": len(added_samples),\n",
    "    \"last_unlab_size\": prev_unlab_size,\n",
    "    \"curr_unlab_size\": unlab_size,\n",
    "    \"last_train_size\": int(np.sum(datasets_bin[-2])),\n",
    "    \"curr_train_size\": int(np.sum(datasets_bin[-1]))\n",
    "})\n",
    "write_to_file(sanity, conf, \"sanity\")\n",
    "\n",
    "sanity"
   ]
  },
  {
   "cell_type": "markdown",
   "metadata": {},
   "source": [
    "# Second Iteration - part 2\n",
    "# -- Student 2 ---"
   ]
  },
  {
   "cell_type": "code",
   "execution_count": null,
   "metadata": {},
   "outputs": [],
   "source": [
    "# save teacher conf\n",
    "teacher_conf = conf\n",
    "\n",
    "# Make changes\n",
    "dir_name = str(iteration)+\"_student\"\n",
    "log_dir = \"./logs/{}/{}\".format(project_time, dir_name)\n",
    "\n",
    "# Dataset\n",
    "conf[\"log_dir\"] = log_dir\n",
    "conf[\"ds_sizes\"][\"train\"] = sanity[-1][\"curr_train_size\"]\n",
    "conf[\"steps\"][\"train\"] = sanity[-1][\"curr_train_size\"]//conf[\"batch_size\"] \n",
    "conf[\"aug_mult\"] = 0.5\n",
    "# Model\n",
    "# conf[\"model\"] = 'EfficientNetB6'\n",
    "conf[\"dropout\"] = 0.2\n",
    "# conf[\"batch_size\"] = 128\n",
    "# conf[\"num_epochs\"] = 25"
   ]
  },
  {
   "cell_type": "code",
   "execution_count": null,
   "metadata": {},
   "outputs": [],
   "source": [
    "ds[\"train\"] = prepare_for_training(\n",
    "        ds=ds[\"combined_train\"], \n",
    "        ds_name='train_'+dir_name,\n",
    "        conf=conf,\n",
    "        cache=True\n",
    "    )"
   ]
  },
  {
   "cell_type": "raw",
   "metadata": {},
   "source": [
    "checkout_dataset(ds[\"train\"], conf)"
   ]
  },
  {
   "cell_type": "code",
   "execution_count": null,
   "metadata": {},
   "outputs": [],
   "source": [
    "# create model, callbacks and weights\n",
    "student_model = create_model(conf)\n",
    "callbacks = create_callbacks(conf) \n",
    "class_weights = get_class_weights(ds[\"train\"], conf)"
   ]
  },
  {
   "cell_type": "code",
   "execution_count": null,
   "metadata": {},
   "outputs": [],
   "source": [
    "write_to_file(conf, conf, \"conf\") \n",
    "start_time = time.time()\n",
    "\n",
    "student_history = student_model.fit(\n",
    "    ds[\"train\"],\n",
    "    steps_per_epoch = conf[\"steps\"][\"train\"], \n",
    "    epochs = conf[\"num_epochs\"],\n",
    "    validation_data = ds[\"test\"],\n",
    "    validation_steps = conf[\"steps\"][\"test\"],\n",
    "    validation_freq = 1,\n",
    "    class_weight = class_weights,\n",
    "    callbacks = callbacks\n",
    ")\n",
    "print (\"Time spent on training: {:.2f} minutes.\".format(np.round(time.time() - start_time)/60))\n",
    "\n",
    "# Save the metrics from training\n",
    "write_to_file(student_history.history, conf, \"student_history\")\n",
    "\n",
    "# Save the model\n",
    "student_model.save(conf[\"log_dir\"]+'/model')"
   ]
  },
  {
   "cell_type": "markdown",
   "metadata": {},
   "source": [
    "### Evaluate the model"
   ]
  },
  {
   "cell_type": "code",
   "execution_count": null,
   "metadata": {
    "scrolled": true
   },
   "outputs": [],
   "source": [
    "# tf.Keras model evaluation\n",
    "student_evaluate = student_model.evaluate(ds[\"val\"], verbose=2, steps=conf[\"steps\"][\"val\"])\n",
    "write_to_file(student_evaluate, conf, \"evaluate_val\")\n",
    "\n",
    "# Plot leanring rate and loss\n",
    "plot_lr_and_accuracy(student_history, conf)\n",
    "\n",
    "# Create true_labels and pred_labels for later evaluations\n",
    "eval_ds = unpipe(ds[\"val\"], conf[\"ds_sizes\"][\"val\"]).as_numpy_iterator()\n",
    "eval_ds = np.array(list(eval_ds))\n",
    "eval_images = np.stack(eval_ds[:,0], axis=0)\n",
    "predictions = student_model.predict(eval_images, verbose=1)\n",
    "pred_confidence = [np.max(pred) for pred in predictions]\n",
    "true_labels = list(eval_ds[:,1])\n",
    "pred_labels = [np.argmax(pred) for pred in predictions]\n",
    "\n",
    "\n",
    "# Classification report\n",
    "report = get_classification_report(\n",
    "        true_labels, \n",
    "        pred_labels, \n",
    "        range(conf[\"num_classes\"]), \n",
    "        target_names=conf[\"class_names\"]\n",
    ")\n",
    "print (report)\n",
    "write_to_file(report, conf, \"classification_report\")\n",
    "\n",
    "# Confusion matrix\n",
    "cm = get_confusion_matrix(true_labels, pred_labels)\n",
    "plot_confusion_matrix(cm, log_dir, conf[\"class_names\"], figsize=(10,8))\n",
    "\n",
    "# some some sample predictions from evaluation data\n",
    "show_dataset_predictions(\n",
    "        true_labels,\n",
    "        pred_labels,\n",
    "        pred_confidence,\n",
    "        eval_images,\n",
    "        conf,\n",
    ")"
   ]
  },
  {
   "cell_type": "markdown",
   "metadata": {},
   "source": [
    "### Generate new pseudo labels"
   ]
  },
  {
   "cell_type": "code",
   "execution_count": null,
   "metadata": {},
   "outputs": [],
   "source": [
    "count = {\"findings\": 0, \"total\": 0}\n",
    "\n",
    "unlab_findings = {\n",
    "    \"pred_list\": [],\n",
    "    \"lab_list\": [],\n",
    "    \"name_list\": []\n",
    "}"
   ]
  },
  {
   "cell_type": "code",
   "execution_count": null,
   "metadata": {},
   "outputs": [],
   "source": [
    "unlab_findings, count = generate_labels(\n",
    "    count, unlab_findings, unlab_ds, unlab_size, student_model, conf)"
   ]
  },
  {
   "cell_type": "code",
   "execution_count": null,
   "metadata": {},
   "outputs": [],
   "source": [
    "import pickle\n",
    "\n",
    "# Dump it as a pickle\n",
    "with open(conf[\"log_dir\"]+\"/unlab_findings.pkl\", 'wb') as f:\n",
    "    pickle.dump(unlab_findings, f)\n",
    "\n",
    "# Load a pickle\n",
    "# pickle_path = \"/home/henriklg/master-thesis/code/hyper-kvasir/logs/20200526-121128/teacher1/\"\n",
    "# new_unlab = pickle.load (open (pickle_path+\"/unlab_findings.pkl\", \"rb\"))"
   ]
  },
  {
   "cell_type": "markdown",
   "metadata": {},
   "source": [
    "### Inspect the classified images"
   ]
  },
  {
   "cell_type": "code",
   "execution_count": null,
   "metadata": {},
   "outputs": [],
   "source": [
    "# Sort in order of highest confidence to lowest\n",
    "unlab_findings = custom_sort(unlab_findings)\n",
    "\n",
    "checkout_findings(unlab_findings, conf)"
   ]
  },
  {
   "cell_type": "code",
   "execution_count": null,
   "metadata": {
    "scrolled": true
   },
   "outputs": [],
   "source": [
    "# Print grid of images from one of the classes\n",
    "checkout_class(\"polyps\", unlab_findings, conf)"
   ]
  },
  {
   "cell_type": "markdown",
   "metadata": {},
   "source": [
    "### Resample new findings, convert to tf.tensors and concatenate with original training data, and update unlab_ds"
   ]
  },
  {
   "cell_type": "code",
   "execution_count": null,
   "metadata": {},
   "outputs": [],
   "source": [
    "# Resample and convert to tf.tensors\n",
    "if conf[\"resample\"]:\n",
    "    new_findings, added_samples = resample_unlab(unlab_findings, datasets_bin[-1], conf)\n",
    "    findings_tensor = tf.data.Dataset.from_tensor_slices(new_findings)\n",
    "else:\n",
    "    added_samples = len(unlab[\"name_list\"])\n",
    "    img_list = [fn2img(name, conf[\"unlab_ds\"], conf[\"img_shape\"][0]) for name in unlab[\"name_list\"]]\n",
    "    findings_tensor = tf.data.Dataset.from_tensor_slices([img_list, unlab[\"lab_list\"]])\n",
    "\n",
    "# combine with previous training dataset\n",
    "if len(added_samples) != 0: # if no samples are added just reuse previous combined_train\n",
    "    ds[\"combined_train\"] = ds[\"combined_train\"].concatenate(findings_tensor)\n",
    "\n",
    "# count samples in the new/combined dataset\n",
    "datasets_bin.append(tf_bincount(ds[\"combined_train\"], conf[\"num_classes\"]))\n",
    "\n",
    "# Display history of class distribution\n",
    "print_bar_chart(\n",
    "    data=datasets_bin,\n",
    "    conf=conf,\n",
    "    title=None,\n",
    "    fname=\"bar_chart-distribution3\"\n",
    ")\n",
    "\n",
    "# Refresh the unlabeled dataset\n",
    "unlab_ds = reduce_dataset(unlab_ds, remove=added_samples)\n",
    "prev_unlab_size = unlab_size\n",
    "unlab_size = unlab_size - len(added_samples)"
   ]
  },
  {
   "cell_type": "markdown",
   "metadata": {},
   "source": [
    "### Sanity check"
   ]
  },
  {
   "cell_type": "code",
   "execution_count": null,
   "metadata": {},
   "outputs": [],
   "source": [
    "sanity.append({\n",
    "    \"added_samples\": len(added_samples),\n",
    "    \"last_unlab_size\": prev_unlab_size,\n",
    "    \"curr_unlab_size\": unlab_size,\n",
    "    \"last_train_size\": int(np.sum(datasets_bin[-2])),\n",
    "    \"curr_train_size\": int(np.sum(datasets_bin[-1]))\n",
    "})\n",
    "write_to_file(sanity, conf, \"sanity\")\n",
    "\n",
    "sanity"
   ]
  },
  {
   "cell_type": "markdown",
   "metadata": {},
   "source": [
    "# Third iteration - Part 1\n",
    "# --- Teacher 3 ---"
   ]
  },
  {
   "cell_type": "code",
   "execution_count": null,
   "metadata": {},
   "outputs": [],
   "source": [
    "# save teacher conf\n",
    "teacher_conf = conf\n",
    "\n",
    "# Make changes\n",
    "iteration += 1\n",
    "dir_name = str(iteration)+\"_teacher\"\n",
    "log_dir = \"./logs/{}/{}\".format(project_time, dir_name)\n",
    "\n",
    "# Dataset\n",
    "conf[\"log_dir\"] = log_dir\n",
    "conf[\"ds_sizes\"][\"train\"] = sanity[-1][\"curr_train_size\"]\n",
    "conf[\"steps\"][\"train\"] = sanity[-1][\"curr_train_size\"]//conf[\"batch_size\"] \n",
    "conf[\"aug_mult\"] = 0.5\n",
    "# Model\n",
    "# conf[\"model\"] = 'EfficientNetB0'\n",
    "conf[\"dropout\"] = 0.2\n",
    "# conf[\"batch_size\"] = 128\n",
    "# conf[\"num_epochs\"] = 25"
   ]
  },
  {
   "cell_type": "code",
   "execution_count": null,
   "metadata": {},
   "outputs": [],
   "source": [
    "ds[\"train\"] = prepare_for_training(\n",
    "        ds=ds[\"combined_train\"], \n",
    "        ds_name='train_'+dir_name,\n",
    "        conf=conf,\n",
    "        cache=True\n",
    "    )"
   ]
  },
  {
   "cell_type": "raw",
   "metadata": {},
   "source": [
    "checkout_dataset(ds[\"train\"], conf)"
   ]
  },
  {
   "cell_type": "code",
   "execution_count": null,
   "metadata": {},
   "outputs": [],
   "source": [
    "# create model, callbacks and weights\n",
    "teacher_model = create_model(conf)\n",
    "callbacks = create_callbacks(conf) \n",
    "class_weights = get_class_weights(ds[\"train\"], conf)"
   ]
  },
  {
   "cell_type": "code",
   "execution_count": null,
   "metadata": {},
   "outputs": [],
   "source": [
    "write_to_file(conf, conf, \"conf\") \n",
    "start_time = time.time()\n",
    "\n",
    "teacher_history = teacher_model.fit(\n",
    "    ds[\"train\"],\n",
    "    steps_per_epoch = conf[\"steps\"][\"train\"], \n",
    "    epochs = conf[\"num_epochs\"],\n",
    "    validation_data = ds[\"test\"],\n",
    "    validation_steps = conf[\"steps\"][\"test\"],\n",
    "    validation_freq = 1,\n",
    "    class_weight = class_weights,\n",
    "    callbacks = callbacks\n",
    ")\n",
    "print (\"Time spent on training: {:.2f} minutes.\".format(np.round(time.time() - start_time)/60))\n",
    "\n",
    "# Save the metrics from training\n",
    "write_to_file(teacher_history.history, conf, \"teacher_history\")\n",
    "\n",
    "# Save the model\n",
    "student_model.save(conf[\"log_dir\"]+'/model')"
   ]
  },
  {
   "cell_type": "markdown",
   "metadata": {},
   "source": [
    "## Evaluate the model"
   ]
  },
  {
   "cell_type": "code",
   "execution_count": null,
   "metadata": {},
   "outputs": [],
   "source": [
    "# tf.Keras model evaluation\n",
    "teacher_evaluate = teacher_model.evaluate(ds[\"val\"], verbose=2, steps=conf[\"steps\"][\"val\"])\n",
    "write_to_file(teacher_evaluate, conf, \"evaluate_val\")\n",
    "\n",
    "# Plot leanring rate and loss\n",
    "plot_lr_and_accuracy(teacher_history, conf)\n",
    "\n",
    "# Create true_labels and pred_labels for later evaluations\n",
    "eval_ds = unpipe(ds[\"val\"], conf[\"ds_sizes\"][\"val\"]).as_numpy_iterator()\n",
    "eval_ds = np.array(list(eval_ds))\n",
    "eval_images = np.stack(eval_ds[:,0], axis=0)\n",
    "predictions = teacher_model.predict(eval_images, verbose=1)\n",
    "pred_confidence = [np.max(pred) for pred in predictions]\n",
    "true_labels = list(eval_ds[:,1])\n",
    "pred_labels = [np.argmax(pred) for pred in predictions]\n",
    "\n",
    "\n",
    "# Classification report\n",
    "report = get_classification_report(\n",
    "        true_labels, \n",
    "        pred_labels, \n",
    "        range(conf[\"num_classes\"]), \n",
    "        target_names=conf[\"class_names\"]\n",
    ")\n",
    "print (report)\n",
    "write_to_file(report, conf, \"classification_report\")\n",
    "\n",
    "# Confusion matrix\n",
    "cm = get_confusion_matrix(true_labels, pred_labels)\n",
    "plot_confusion_matrix(cm, log_dir, conf[\"class_names\"], figsize=(10,8))\n",
    "\n",
    "# some some sample predictions from evaluation data\n",
    "show_dataset_predictions(\n",
    "        true_labels,\n",
    "        pred_labels,\n",
    "        pred_confidence,\n",
    "        eval_images,\n",
    "        conf,\n",
    ")"
   ]
  },
  {
   "cell_type": "markdown",
   "metadata": {},
   "source": [
    "### Use the teacher to generate pseudo labels on unlabeled images"
   ]
  },
  {
   "cell_type": "code",
   "execution_count": null,
   "metadata": {},
   "outputs": [],
   "source": [
    "count = {\"findings\": 0, \"total\": 0}\n",
    "\n",
    "unlab_findings = {\n",
    "    \"pred_list\": [],\n",
    "    \"lab_list\": [],\n",
    "    \"name_list\": []\n",
    "}"
   ]
  },
  {
   "cell_type": "code",
   "execution_count": null,
   "metadata": {},
   "outputs": [],
   "source": [
    "unlab_findings, count = generate_labels(\n",
    "    count, unlab_findings, unlab_ds, unlab_size, teacher_model, conf)"
   ]
  },
  {
   "cell_type": "code",
   "execution_count": null,
   "metadata": {},
   "outputs": [],
   "source": [
    "import pickle\n",
    "\n",
    "# Dump it as a pickle\n",
    "with open(conf[\"log_dir\"]+\"/unlab_findings.pkl\", 'wb') as f:\n",
    "    pickle.dump(unlab_findings, f)\n",
    "\n",
    "# Load a pickle\n",
    "# pickle_path = \"/home/henriklg/master-thesis/code/hyper-kvasir/logs/20200526-121128/teacher1/\"\n",
    "# new_unlab = pickle.load (open (pickle_path+\"/unlab_findings.pkl\", \"rb\"))"
   ]
  },
  {
   "cell_type": "markdown",
   "metadata": {},
   "source": [
    "### Inspect the classified images"
   ]
  },
  {
   "cell_type": "code",
   "execution_count": null,
   "metadata": {},
   "outputs": [],
   "source": [
    "# Sort in order of highest confidence to lowest\n",
    "unlab_findings = custom_sort(unlab_findings)\n",
    "\n",
    "checkout_findings(unlab_findings, conf)"
   ]
  },
  {
   "cell_type": "code",
   "execution_count": null,
   "metadata": {},
   "outputs": [],
   "source": [
    "# Print grid of images from one of the classes\n",
    "checkout_class(\"retroflex-stomach\", unlab_findings, conf)"
   ]
  },
  {
   "cell_type": "markdown",
   "metadata": {},
   "source": [
    "### Prepare new training and unlabeled datasets"
   ]
  },
  {
   "cell_type": "code",
   "execution_count": null,
   "metadata": {},
   "outputs": [],
   "source": [
    "# Resample and convert to tf.tensors\n",
    "if conf[\"resample\"]:\n",
    "    new_findings, added_samples = resample_unlab(unlab_findings, datasets_bin[-1], conf)\n",
    "    findings_tensor = tf.data.Dataset.from_tensor_slices(new_findings)\n",
    "else:\n",
    "    added_samples = len(unlab[\"name_list\"])\n",
    "    img_list = [fn2img(name, conf[\"unlab_ds\"], conf[\"img_shape\"][0]) for name in unlab[\"name_list\"]]\n",
    "    findings_tensor = tf.data.Dataset.from_tensor_slices([img_list, unlab[\"lab_list\"]])\n",
    "\n",
    "# combine with previous training dataset\n",
    "if len(added_samples) != 0: # if no samples are added just reuse previous combined_train\n",
    "    ds[\"combined_train\"] = ds[\"combined_train\"].concatenate(findings_tensor)\n",
    "\n",
    "# count samples in the original and new/combined dataset\n",
    "datasets_bin.append(tf_bincount(ds[\"combined_train\"], conf[\"num_classes\"]))\n",
    "\n",
    "# Display history of class distribution\n",
    "print_bar_chart(\n",
    "    data=datasets_bin,\n",
    "    conf=conf,\n",
    "    title=None,\n",
    "    fname=\"bar_chart-distribution\"\n",
    ")\n",
    "\n",
    "# Refresh the unlabeled dataset\n",
    "unlab_ds = reduce_dataset(unlab_ds, remove=added_samples)\n",
    "prev_unlab_size = unlab_size\n",
    "unlab_size = unlab_size - len(added_samples)"
   ]
  },
  {
   "cell_type": "markdown",
   "metadata": {},
   "source": [
    "### Sanity check"
   ]
  },
  {
   "cell_type": "code",
   "execution_count": null,
   "metadata": {},
   "outputs": [],
   "source": [
    "sanity.append({\n",
    "    \"added_samples\": len(added_samples),\n",
    "    \"last_unlab_size\": prev_unlab_size,\n",
    "    \"curr_unlab_size\": unlab_size,\n",
    "    \"last_train_size\": int(np.sum(datasets_bin[-2])),\n",
    "    \"curr_train_size\": int(np.sum(datasets_bin[-1]))\n",
    "})\n",
    "write_to_file(sanity, conf, \"sanity\")\n",
    "\n",
    "sanity"
   ]
  },
  {
   "cell_type": "markdown",
   "metadata": {},
   "source": [
    "# Third Iteration - part 2\n",
    "# -- Student 3 ---"
   ]
  },
  {
   "cell_type": "code",
   "execution_count": null,
   "metadata": {},
   "outputs": [],
   "source": [
    "# save teacher conf\n",
    "teacher_conf = conf\n",
    "\n",
    "# Make changes\n",
    "dir_name = str(iteration)+\"_student\"\n",
    "log_dir = \"./logs/{}/{}\".format(project_time, dir_name)\n",
    "\n",
    "# Dataset\n",
    "conf[\"log_dir\"] = log_dir\n",
    "conf[\"ds_sizes\"][\"train\"] = sanity[-1][\"curr_train_size\"]\n",
    "conf[\"steps\"][\"train\"] = sanity[-1][\"curr_train_size\"]//conf[\"batch_size\"] \n",
    "conf[\"aug_mult\"] = 0.5\n",
    "# Model\n",
    "# conf[\"model\"] = 'EfficientNetB6'\n",
    "conf[\"dropout\"] = 0.2\n",
    "# conf[\"batch_size\"] = 16\n",
    "# conf[\"decay_rate\"] = 16\n",
    "# conf[\"num_epochs\"] = 25"
   ]
  },
  {
   "cell_type": "code",
   "execution_count": null,
   "metadata": {},
   "outputs": [],
   "source": [
    "ds[\"train\"] = prepare_for_training(\n",
    "        ds=ds[\"combined_train\"], \n",
    "        ds_name='train_'+dir_name,\n",
    "        conf=conf,\n",
    "        cache=True\n",
    "    )"
   ]
  },
  {
   "cell_type": "raw",
   "metadata": {},
   "source": [
    "checkout_dataset(ds[\"train\"], conf)"
   ]
  },
  {
   "cell_type": "code",
   "execution_count": null,
   "metadata": {},
   "outputs": [],
   "source": [
    "# create model, callbacks and weights\n",
    "student_model = create_model(conf)\n",
    "callbacks = create_callbacks(conf) \n",
    "class_weights = get_class_weights(ds[\"train\"], conf)"
   ]
  },
  {
   "cell_type": "code",
   "execution_count": null,
   "metadata": {},
   "outputs": [],
   "source": [
    "write_to_file(conf, conf, \"conf\") \n",
    "start_time = time.time()\n",
    "\n",
    "student_history = student_model.fit(\n",
    "    ds[\"train\"],\n",
    "    steps_per_epoch = conf[\"steps\"][\"train\"], \n",
    "    epochs = conf[\"num_epochs\"],\n",
    "    validation_data = ds[\"test\"],\n",
    "    validation_steps = conf[\"steps\"][\"test\"],\n",
    "    validation_freq = 1,\n",
    "    class_weight = class_weights,\n",
    "    callbacks = callbacks\n",
    ")\n",
    "print (\"Time spent on training: {:.2f} minutes.\".format(np.round(time.time() - start_time)/60))\n",
    "\n",
    "# Save the metrics from training\n",
    "write_to_file(student_history.history, conf, \"student_history\")\n",
    "\n",
    "# Save the model\n",
    "student_model.save(conf[\"log_dir\"]+'/model')"
   ]
  },
  {
   "cell_type": "markdown",
   "metadata": {},
   "source": [
    "### Evaluate the model"
   ]
  },
  {
   "cell_type": "code",
   "execution_count": null,
   "metadata": {},
   "outputs": [],
   "source": [
    "# tf.Keras model evaluation\n",
    "student_evaluate = student_model.evaluate(ds[\"val\"], verbose=2, steps=conf[\"steps\"][\"val\"])\n",
    "write_to_file(student_evaluate, conf, \"evaluate_val\")\n",
    "\n",
    "# Plot leanring rate and loss\n",
    "plot_lr_and_accuracy(student_history, conf)\n",
    "\n",
    "# Create true_labels and pred_labels for later evaluations\n",
    "eval_ds = unpipe(ds[\"val\"], conf[\"ds_sizes\"][\"val\"]).as_numpy_iterator()\n",
    "eval_ds = np.array(list(eval_ds))\n",
    "eval_images = np.stack(eval_ds[:,0], axis=0)\n",
    "predictions = student_model.predict(eval_images, verbose=1)\n",
    "pred_confidence = [np.max(pred) for pred in predictions]\n",
    "true_labels = list(eval_ds[:,1])\n",
    "pred_labels = [np.argmax(pred) for pred in predictions]\n",
    "\n",
    "\n",
    "# Classification report\n",
    "report = get_classification_report(\n",
    "        true_labels, \n",
    "        pred_labels, \n",
    "        range(conf[\"num_classes\"]), \n",
    "        target_names=conf[\"class_names\"]\n",
    ")\n",
    "print (report)\n",
    "write_to_file(report, conf, \"classification_report\")\n",
    "\n",
    "# Confusion matrix\n",
    "cm = get_confusion_matrix(true_labels, pred_labels)\n",
    "plot_confusion_matrix(cm, log_dir, conf[\"class_names\"], figsize=(10,8))\n",
    "\n",
    "# some some sample predictions from evaluation data\n",
    "show_dataset_predictions(\n",
    "        true_labels,\n",
    "        pred_labels,\n",
    "        pred_confidence,\n",
    "        eval_images,\n",
    "        conf,\n",
    ")"
   ]
  },
  {
   "cell_type": "markdown",
   "metadata": {},
   "source": [
    "### Generate new pseudo labels"
   ]
  },
  {
   "cell_type": "code",
   "execution_count": null,
   "metadata": {},
   "outputs": [],
   "source": [
    "count = {\"findings\": 0, \"total\": 0}\n",
    "\n",
    "unlab_findings = {\n",
    "    \"pred_list\": [],\n",
    "    \"lab_list\": [],\n",
    "    \"name_list\": []\n",
    "}"
   ]
  },
  {
   "cell_type": "code",
   "execution_count": null,
   "metadata": {},
   "outputs": [],
   "source": [
    "unlab_findings, count = generate_labels(\n",
    "    count, unlab_findings, unlab_ds, unlab_size, student_model, conf)"
   ]
  },
  {
   "cell_type": "code",
   "execution_count": null,
   "metadata": {},
   "outputs": [],
   "source": [
    "import pickle\n",
    "\n",
    "# Dump it as a pickle\n",
    "with open(conf[\"log_dir\"]+\"/unlab_findings.pkl\", 'wb') as f:\n",
    "    pickle.dump(unlab_findings, f)\n",
    "\n",
    "# Load a pickle\n",
    "# pickle_path = \"/home/henriklg/master-thesis/code/hyper-kvasir/logs/20200526-121128/teacher1/\"\n",
    "# new_unlab = pickle.load (open (pickle_path+\"/unlab_findings.pkl\", \"rb\"))"
   ]
  },
  {
   "cell_type": "markdown",
   "metadata": {},
   "source": [
    "### Inspect the classified images"
   ]
  },
  {
   "cell_type": "code",
   "execution_count": null,
   "metadata": {},
   "outputs": [],
   "source": [
    "# Sort in order of highest confidence to lowest\n",
    "unlab_findings = custom_sort(unlab_findings)\n",
    "\n",
    "checkout_findings(unlab_findings, conf)"
   ]
  },
  {
   "cell_type": "code",
   "execution_count": null,
   "metadata": {},
   "outputs": [],
   "source": [
    "# Print grid of images from one of the classes\n",
    "checkout_class(\"dyed-lifted-polyps\", unlab_findings, conf)"
   ]
  },
  {
   "cell_type": "markdown",
   "metadata": {},
   "source": [
    "### Resample new findings, convert to tf.tensors and concatenate with original training data, and update unlab_ds"
   ]
  },
  {
   "cell_type": "code",
   "execution_count": null,
   "metadata": {},
   "outputs": [],
   "source": [
    "# Resample and convert to tf.tensors\n",
    "if conf[\"resample\"]:\n",
    "    new_findings, added_samples = resample_unlab(unlab_findings, datasets_bin[-1], conf)\n",
    "    findings_tensor = tf.data.Dataset.from_tensor_slices(new_findings)\n",
    "else:\n",
    "    added_samples = len(unlab[\"name_list\"])\n",
    "    img_list = [fn2img(name, conf[\"unlab_ds\"], conf[\"img_shape\"][0]) for name in unlab[\"name_list\"]]\n",
    "    findings_tensor = tf.data.Dataset.from_tensor_slices([img_list, unlab[\"lab_list\"]])\n",
    "\n",
    "# combine with previous training dataset\n",
    "if len(added_samples) != 0: # if no samples are added just reuse previous combined_train\n",
    "    ds[\"combined_train\"] = ds[\"combined_train\"].concatenate(findings_tensor)\n",
    "\n",
    "# count samples in the new/combined dataset\n",
    "datasets_bin.append(tf_bincount(ds[\"combined_train\"], conf[\"num_classes\"]))\n",
    "\n",
    "# Display history of class distribution\n",
    "print_bar_chart(\n",
    "    data=datasets_bin,\n",
    "    conf=conf,\n",
    "    title=None,\n",
    "    fname=\"bar_chart-distribution\"\n",
    ")\n",
    "\n",
    "# Refresh the unlabeled dataset\n",
    "unlab_ds = reduce_dataset(unlab_ds, remove=added_samples)\n",
    "prev_unlab_size = unlab_size\n",
    "unlab_size = unlab_size - len(added_samples)"
   ]
  },
  {
   "cell_type": "markdown",
   "metadata": {},
   "source": [
    "### Sanity check"
   ]
  },
  {
   "cell_type": "code",
   "execution_count": null,
   "metadata": {},
   "outputs": [],
   "source": [
    "sanity.append({\n",
    "    \"added_samples\": len(added_samples),\n",
    "    \"last_unlab_size\": prev_unlab_size,\n",
    "    \"curr_unlab_size\": unlab_size,\n",
    "    \"last_train_size\": int(np.sum(datasets_bin[-2])),\n",
    "    \"curr_train_size\": int(np.sum(datasets_bin[-1]))\n",
    "})\n",
    "write_to_file(sanity, conf, \"sanity\")\n",
    "\n",
    "sanity"
   ]
  }
 ],
 "metadata": {
  "kernelspec": {
   "display_name": "Python 3",
   "language": "python",
   "name": "python3"
  },
  "language_info": {
   "codemirror_mode": {
    "name": "ipython",
    "version": 3
   },
   "file_extension": ".py",
   "mimetype": "text/x-python",
   "name": "python",
   "nbconvert_exporter": "python",
   "pygments_lexer": "ipython3",
   "version": "3.7.6"
  }
 },
 "nbformat": 4,
 "nbformat_minor": 4
}
