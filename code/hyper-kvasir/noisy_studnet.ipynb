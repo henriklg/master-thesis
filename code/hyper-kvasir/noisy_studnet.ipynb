{
 "cells": [
  {
   "cell_type": "markdown",
   "metadata": {},
   "source": [
    "Kvasir dataset split into neg/pos and trained using Resnet50 without augmentation. Getting some decent results after training on resampled data with large step-size.  \n",
    "- Class weighting  \n",
    "- Resampling  \n",
    "- Initial Bias-estimation\n",
    "- Decreasing learning rate"
   ]
  },
  {
   "cell_type": "markdown",
   "metadata": {},
   "source": [
    "### Loading data"
   ]
  },
  {
   "cell_type": "code",
   "execution_count": 1,
   "metadata": {},
   "outputs": [],
   "source": [
    "from __future__ import absolute_import, division, print_function, unicode_literals\n",
    "\n",
    "import tensorflow as tf\n",
    "\n",
    "import numpy as np\n",
    "import os\n",
    "import pathlib\n",
    "import matplotlib.pyplot as plt\n",
    "\n",
    "# Some stuff to make utils-function work\n",
    "import sys\n",
    "sys.path.append('../utils')\n",
    "from data_prep import create_dataset, print_class_info, show_image\n",
    "%load_ext autoreload\n",
    "%autoreload 2\n",
    "\n",
    "# Jupyter-specific\n",
    "%matplotlib inline"
   ]
  },
  {
   "cell_type": "markdown",
   "metadata": {},
   "source": [
    "Some parameters"
   ]
  },
  {
   "cell_type": "code",
   "execution_count": 2,
   "metadata": {},
   "outputs": [],
   "source": [
    "data_dir = pathlib.Path('/mnt/sdb/hyper-kvasir/labeled/')\n",
    "\n",
    "config = {\n",
    "    \"data_dir\": data_dir,\n",
    "    \"cache_dir\": \"./cache\",\n",
    "    \"model\": 'self-trained',\n",
    "    \"ds_info\": 'complete',\n",
    "    \"resample\": False,\n",
    "    \"neg_class\": ['normal-cecum'],\n",
    "    \"num_epochs\": 10,\n",
    "    \"batch_size\": 128,\n",
    "    \"img_shape\": (64, 64, 3),\n",
    "    \"outcast\": None,\n",
    "    \"optimizer\": 'Adam',\n",
    "    \"final_activation\": 'softmax',\n",
    "    \"learning_rate\": 0.01,\n",
    "    \"early_stopping_patience\": 10,\n",
    "    \"decay_rate\": 0.4,              # higher number gives steeper dropoff\n",
    "    \"verbosity\": 1\n",
    "    }\n",
    "\n",
    "model_name = '{}x{}x{}_{}_{}'.format(config[\"num_epochs\"], config[\"batch_size\"], \n",
    "                                     config[\"img_shape\"][1], config[\"ds_info\"], config[\"model\"])\n",
    "\n",
    "fine_tune_from = 130\n",
    "fine_tune_epochs = 10\n",
    "early_stopping_patience = config[\"early_stopping_patience\"]"
   ]
  },
  {
   "cell_type": "markdown",
   "metadata": {},
   "source": [
    "Create training, testing and validation dataset from utils/data_prep.py.  \n",
    "Returns tf.dataset for shuffled, cached and batched data"
   ]
  },
  {
   "cell_type": "code",
   "execution_count": 3,
   "metadata": {},
   "outputs": [
    {
     "name": "stdout",
     "output_type": "stream",
     "text": [
      "Directories:  ['hemorrhoids' 'barretts' 'esophagitis-a' 'esophagitis-b-d'\n",
      " 'ulcerative-colitis-0-1' 'barretts-short-segment' 'cecum' 'pylorus'\n",
      " 'retroflex-rectum' 'ulcerative-colitis-grade-2'\n",
      " 'ulcerative-colitis-grade-1' 'bbps-2-3' 'bbps-0-1' 'ileum'\n",
      " 'retroflex-stomach' 'normal-z-line' 'ulcerative-colitis-2-3'\n",
      " 'impacted-stool' 'polyps' 'dyed-resection-margins' 'dyed-lifted-polyps'\n",
      " 'ulcerative-colitis-grade-3' 'ulcerative-colitis-1-2']\n",
      "\n",
      "hemorrhoids                 :    6 | 0.06%\n",
      "barretts                    :   41 | 0.38%\n",
      "esophagitis-a               :  403 | 3.78%\n",
      "esophagitis-b-d             :  260 | 2.44%\n",
      "ulcerative-colitis-0-1      :   35 | 0.33%\n",
      "barretts-short-segment      :   53 | 0.50%\n",
      "cecum                       : 1009 | 9.46%\n",
      "pylorus                     :  999 | 9.37%\n",
      "retroflex-rectum            :  391 | 3.67%\n",
      "ulcerative-colitis-grade-2  :  443 | 4.15%\n",
      "ulcerative-colitis-grade-1  :  201 | 1.89%\n",
      "bbps-2-3                    : 1148 | 10.77%\n",
      "bbps-0-1                    :  646 | 6.06%\n",
      "ileum                       :    9 | 0.08%\n",
      "retroflex-stomach           :  764 | 7.17%\n",
      "normal-z-line               :  932 | 8.74%\n",
      "ulcerative-colitis-2-3      :   28 | 0.26%\n",
      "impacted-stool              :  131 | 1.23%\n",
      "polyps                      : 1028 | 9.64%\n",
      "dyed-resection-margins      :  989 | 9.28%\n",
      "dyed-lifted-polyps          : 1002 | 9.40%\n",
      "ulcerative-colitis-grade-3  :  133 | 1.25%\n",
      "ulcerative-colitis-1-2      :   11 | 0.10%\n",
      "\n",
      "Total number of images: 10662, in 23 classes.\n",
      "\n",
      "Dataset.list_files:  /mnt/sdb/hyper-kvasir/labeled/*/*.*g \n",
      "\n",
      "WARNING:tensorflow:Entity <function create_dataset.<locals>.get_label at 0x7fdb343e8290> could not be transformed and will be executed as-is. Please report this to the AutoGraph team. When filing the bug, set the verbosity to 10 (on Linux, `export AUTOGRAPH_VERBOSITY=10`) and attach the full output. Cause: Cell is empty\n",
      "WARNING: Entity <function create_dataset.<locals>.get_label at 0x7fdb343e8290> could not be transformed and will be executed as-is. Please report this to the AutoGraph team. When filing the bug, set the verbosity to 10 (on Linux, `export AUTOGRAPH_VERBOSITY=10`) and attach the full output. Cause: Cell is empty\n",
      "[16  6 18  7 19 18  8 19 14 20]\n",
      "[ 6  7  7 21 15  9 14  6 14  6]\n",
      "[ 7 11 18 11 18  9 19 18 19 11]\n",
      "[11 20 18 11 15  6 11 14  7 20]\n",
      "[ 3 17 11  8 19  7  8 17 14 18]\n",
      "[15 14  7  3 12  6 10  6 20 12]\n",
      "[19  7  2  7 20 12  7  6  2 11]\n",
      "[14 12  6 12  6 20  7  2 11  2]\n",
      "[19  9 20  6 19  3 15  7  6  2]\n",
      "[11  6 11 18 20  7 18 15 14  6]\n",
      "\n",
      "Full dataset sample size:        10662\n",
      "Train dataset sample size:        7463\n",
      "Test dataset sample size:         1599\n",
      "Validation dataset sample size:   1600\n"
     ]
    }
   ],
   "source": [
    "train_ds, test_ds, val_ds, params = create_dataset(config)\n",
    "\n",
    "train_steps = params[\"train_size\"] // config[\"batch_size\"]\n",
    "test_steps = params[\"test_size\"] // config[\"batch_size\"]\n",
    "val_steps = params[\"val_size\"] // config[\"batch_size\"]\n",
    "class_names = params[\"class_names\"]\n",
    "neg = params[\"neg_count\"]\n",
    "pos = params[\"pos_count\"]\n",
    "total = params[\"ds_size\"]"
   ]
  },
  {
   "cell_type": "markdown",
   "metadata": {},
   "source": [
    "# Step 1\n",
    "Train a teacher model on labeled images"
   ]
  },
  {
   "cell_type": "code",
   "execution_count": 4,
   "metadata": {},
   "outputs": [],
   "source": [
    "from tensorflow.python.keras.applications import ResNet50\n",
    "from tensorflow.python.keras.models import Sequential, Model\n",
    "from tensorflow.keras.layers import Dense, Dropout, Flatten, GlobalAveragePooling2D, UpSampling2D, BatchNormalization\n",
    "\n",
    "from tensorflow.python.keras.callbacks import EarlyStopping, ModelCheckpoint, TensorBoard, LearningRateScheduler\n",
    "import datetime"
   ]
  },
  {
   "cell_type": "markdown",
   "metadata": {},
   "source": [
    "### Create and compile the model"
   ]
  },
  {
   "cell_type": "code",
   "execution_count": 5,
   "metadata": {},
   "outputs": [],
   "source": [
    "resnet_model = ResNet50(\n",
    "    weights='imagenet',\n",
    "    include_top=False,\n",
    "    input_shape=config[\"img_shape\"]\n",
    ")"
   ]
  },
  {
   "cell_type": "code",
   "execution_count": 6,
   "metadata": {},
   "outputs": [],
   "source": [
    "# Freeze layers in resnet\n",
    "resnet_model.trainable = True\n",
    "\n",
    "# Define model\n",
    "resnet50_model = Sequential()\n",
    "\n",
    "resnet50_model.add(resnet_model)\n",
    "resnet50_model.add(GlobalAveragePooling2D())\n",
    "resnet50_model.add(Dense(params[\"num_classes\"], activation=config[\"final_activation\"]))\n",
    "\n",
    "\n",
    "if config['optimizer'] == 'Adam':\n",
    "    opt = tf.keras.optimizers.Adam(learning_rate=config[\"learning_rate\"])\n",
    "elif config['optimizer'] == 'SGD':\n",
    "    opt = tf.keras.optimizers.SGD(learning_rate=config[\"learning_rate\"])\n",
    "\n",
    "resnet50_model.compile(\n",
    "    optimizer=opt,\n",
    "    loss='sparse_categorical_crossentropy',\n",
    "    metrics=['sparse_categorical_accuracy']\n",
    ")"
   ]
  },
  {
   "cell_type": "raw",
   "metadata": {},
   "source": [
    "if config[\"verbosity\"] > 0:\n",
    "    resnet50_model.summary()"
   ]
  },
  {
   "cell_type": "raw",
   "metadata": {},
   "source": [
    "# Save image of layers\n",
    "tf.keras.utils.plot_model(resnet50_model, 'models/{}.png'.format(model_name), show_shapes=True)"
   ]
  },
  {
   "cell_type": "markdown",
   "metadata": {},
   "source": [
    "### Callbacks"
   ]
  },
  {
   "cell_type": "code",
   "execution_count": 7,
   "metadata": {},
   "outputs": [],
   "source": [
    "# By using LearnignRateScheduler\n",
    "initial_learning_rate = config[\"learning_rate\"]\n",
    "decay_steps = params[\"train_size\"] // config[\"batch_size\"]\n",
    "batch_size = config['batch_size']\n",
    "decay_rate = config['decay_rate']\n",
    "\n",
    "def schedule(epoch):\n",
    "    # calculate new learning rate\n",
    "    learning_rate = initial_learning_rate / (1 + decay_rate * (epoch*batch_size) / decay_steps)\n",
    "    \n",
    "    # update tensorboard\n",
    "    tf.summary.scalar(name='learning_rate', data=learning_rate, step=epoch)\n",
    "    return learning_rate\n",
    "\n",
    "log_dir=\"./logs/{}/\".format(config[\"model\"]) + datetime.datetime.now().strftime(\"%Y%m%d-%H%M%S\")\n",
    "file_writer = tf.summary.create_file_writer(log_dir + \"/metrics\")\n",
    "file_writer.set_as_default()\n",
    "\n",
    "lr_schedule_cb = LearningRateScheduler(schedule, verbose=1)\n",
    "earlystopp_cb = EarlyStopping(monitor='val_loss',verbose=1, patience=early_stopping_patience, restore_best_weights=True)\n",
    "checkpoint_cb = ModelCheckpoint(filepath='./models/best_cp-{epoch:03d}.hdf', monitor='val_loss', save_best_only=True, mode='auto')\n",
    "tensorboard_cb = TensorBoard(log_dir=log_dir, update_freq='batch')\n",
    "\n",
    "callbacks = [tensorboard_cb, lr_schedule_cb]\n",
    "\n",
    "# Write config dictionary to text file\n",
    "f = open(log_dir+\"/config.txt\",\"w\")\n",
    "f.write(str(config))\n",
    "f.close()"
   ]
  },
  {
   "cell_type": "markdown",
   "metadata": {},
   "source": [
    "### Train the model"
   ]
  },
  {
   "cell_type": "code",
   "execution_count": 8,
   "metadata": {},
   "outputs": [
    {
     "name": "stdout",
     "output_type": "stream",
     "text": [
      "Train for 58 steps, validate for 12 steps\n",
      "\n",
      "Epoch 00001: LearningRateScheduler reducing learning rate to 0.01.\n",
      "Epoch 1/10\n",
      "58/58 [==============================] - 15s 257ms/step - loss: 2.8905 - sparse_categorical_accuracy: 0.2659 - val_loss: 64142999.0000 - val_sparse_categorical_accuracy: 0.0990\n",
      "\n",
      "Epoch 00002: LearningRateScheduler reducing learning rate to 0.005311355311355312.\n",
      "Epoch 2/10\n",
      "58/58 [==============================] - 6s 99ms/step - loss: 1.3421 - sparse_categorical_accuracy: 0.5412 - val_loss: 3377.1042 - val_sparse_categorical_accuracy: 0.0983\n",
      "\n",
      "Epoch 00003: LearningRateScheduler reducing learning rate to 0.0036159600997506237.\n",
      "Epoch 3/10\n",
      "58/58 [==============================] - 5s 92ms/step - loss: 0.9487 - sparse_categorical_accuracy: 0.6572 - val_loss: 49.2578 - val_sparse_categorical_accuracy: 0.0983\n",
      "\n",
      "Epoch 00004: LearningRateScheduler reducing learning rate to 0.00274102079395085.\n",
      "Epoch 4/10\n",
      "58/58 [==============================] - 5s 90ms/step - loss: 0.7718 - sparse_categorical_accuracy: 0.7233 - val_loss: 6.3157 - val_sparse_categorical_accuracy: 0.0827\n",
      "\n",
      "Epoch 00005: LearningRateScheduler reducing learning rate to 0.0022070015220700154.\n",
      "Epoch 5/10\n",
      "58/58 [==============================] - 5s 90ms/step - loss: 0.6741 - sparse_categorical_accuracy: 0.7543 - val_loss: 4.5573 - val_sparse_categorical_accuracy: 0.0833\n",
      "\n",
      "Epoch 00006: LearningRateScheduler reducing learning rate to 0.0018471337579617835.\n",
      "Epoch 6/10\n",
      "58/58 [==============================] - 5s 91ms/step - loss: 0.6178 - sparse_categorical_accuracy: 0.7699 - val_loss: 4.6150 - val_sparse_categorical_accuracy: 0.0365\n",
      "\n",
      "Epoch 00007: LearningRateScheduler reducing learning rate to 0.0015881708652792988.\n",
      "Epoch 7/10\n",
      "58/58 [==============================] - 5s 91ms/step - loss: 0.6195 - sparse_categorical_accuracy: 0.7733 - val_loss: 4.8373 - val_sparse_categorical_accuracy: 0.0736\n",
      "\n",
      "Epoch 00008: LearningRateScheduler reducing learning rate to 0.001392891450528338.\n",
      "Epoch 8/10\n",
      "58/58 [==============================] - 5s 91ms/step - loss: 0.5586 - sparse_categorical_accuracy: 0.7905 - val_loss: 4.9835 - val_sparse_categorical_accuracy: 0.0723\n",
      "\n",
      "Epoch 00009: LearningRateScheduler reducing learning rate to 0.001240376390076989.\n",
      "Epoch 9/10\n",
      "58/58 [==============================] - 5s 91ms/step - loss: 0.5348 - sparse_categorical_accuracy: 0.8031 - val_loss: 5.4212 - val_sparse_categorical_accuracy: 0.0566\n",
      "\n",
      "Epoch 00010: LearningRateScheduler reducing learning rate to 0.001117964533538936.\n",
      "Epoch 10/10\n",
      "58/58 [==============================] - 5s 91ms/step - loss: 0.5068 - sparse_categorical_accuracy: 0.8105 - val_loss: 4.5920 - val_sparse_categorical_accuracy: 0.0625\n"
     ]
    }
   ],
   "source": [
    "history = resnet50_model.fit(\n",
    "    train_ds,\n",
    "    steps_per_epoch = train_steps,\n",
    "    epochs = config[\"num_epochs\"],\n",
    "    validation_data = test_ds,\n",
    "    validation_steps = test_steps,\n",
    "    validation_freq = 1,\n",
    "    callbacks = callbacks\n",
    ")\n",
    "\n",
    "last_epoch = history.epoch[-1]+1\n",
    "\n",
    "# Write history dictionary to text file\n",
    "f = open(log_dir+\"/history.txt\",\"w\")\n",
    "f.write( str(history.history) )\n",
    "f.close()"
   ]
  },
  {
   "cell_type": "markdown",
   "metadata": {},
   "source": [
    "`Keras`\n",
    "Save/load the model"
   ]
  },
  {
   "cell_type": "raw",
   "metadata": {},
   "source": [
    "resnet50_model.save('models/{}.h5'.format(model_name))\n",
    "resnet50_model = tf.keras.models.load_model('models/{}.h5'.format(model_name))"
   ]
  },
  {
   "cell_type": "markdown",
   "metadata": {},
   "source": [
    "## Evaluate the model"
   ]
  },
  {
   "cell_type": "code",
   "execution_count": 9,
   "metadata": {},
   "outputs": [
    {
     "name": "stdout",
     "output_type": "stream",
     "text": [
      "12/12 - 0s - loss: 4.7344 - sparse_categorical_accuracy: 0.0508\n"
     ]
    }
   ],
   "source": [
    "resnet50_evaluate = resnet50_model.evaluate(val_ds, verbose=2, steps=val_steps)\n",
    "\n",
    "# Write evaluate dictionary to text file\n",
    "f = open(log_dir+\"/evaluate.txt\",\"w\")\n",
    "f.write( str(resnet50_evaluate) )\n",
    "f.close()"
   ]
  },
  {
   "cell_type": "code",
   "execution_count": 10,
   "metadata": {},
   "outputs": [],
   "source": [
    "acc = history.history['sparse_categorical_accuracy']\n",
    "val_acc = history.history['val_sparse_categorical_accuracy']\n",
    "\n",
    "loss = history.history['loss']\n",
    "val_loss = history.history['val_loss']\n",
    "\n",
    "lr = history.history['lr']\n",
    "epochs_range = range(history.epoch[-1]+1)"
   ]
  },
  {
   "cell_type": "code",
   "execution_count": 11,
   "metadata": {},
   "outputs": [
    {
     "data": {
      "image/png": "[encoded data removed]",
      "text/plain": [
       "<Figure size 576x432 with 1 Axes>"
      ]
     },
     "metadata": {
      "needs_background": "light"
     },
     "output_type": "display_data"
    }
   ],
   "source": [
    "# Plot the learning rate\n",
    "plt.figure(figsize=(8, 6))\n",
    "plt.plot(epochs_range, lr, label='Learning Rate')\n",
    "plt.xlabel('Epoch')\n",
    "plt.ylabel('Learnign rate')\n",
    "plt.savefig(log_dir+'/learning_rate.png')\n",
    "plt.title('Adaptive Learning Rate');"
   ]
  },
  {
   "cell_type": "code",
   "execution_count": 12,
   "metadata": {},
   "outputs": [
    {
     "data": {
      "image/png": "[encoded data removed]",
      "text/plain": [
       "<Figure size 1008x432 with 2 Axes>"
      ]
     },
     "metadata": {
      "needs_background": "light"
     },
     "output_type": "display_data"
    }
   ],
   "source": [
    "# Plot train-val accuracy and loss\n",
    "plt.figure(figsize=(14, 6))\n",
    "\n",
    "# Subplot 1\n",
    "plt.subplot(1, 2, 1)\n",
    "plt.plot(epochs_range, acc, label='Training Accuracy')\n",
    "plt.plot(epochs_range, val_acc, label='Validation Accuracy')\n",
    "plt.legend(loc='lower right')\n",
    "# plt.ylim([0.5, 1])\n",
    "plt.xlabel('Epoch')\n",
    "plt.ylabel('Accuracy')\n",
    "plt.title('Training and Validation Accuracy')\n",
    "\n",
    "# Subplot 2\n",
    "plt.subplot(1, 2, 2)\n",
    "plt.plot(epochs_range, loss, label='Training Loss')\n",
    "plt.plot(epochs_range, val_loss, label='Validation Loss')\n",
    "plt.legend(loc='upper right')\n",
    "plt.ylim([0.0, 3])\n",
    "plt.xlabel('Epoch')\n",
    "plt.ylabel('Accuracy')\n",
    "plt.title('Training and Validation Loss')\n",
    "plt.savefig(log_dir+'/accuracy_and_loss.png')\n",
    "plt.show()"
   ]
  },
  {
   "cell_type": "markdown",
   "metadata": {},
   "source": [
    "### Fine tune the model"
   ]
  },
  {
   "cell_type": "raw",
   "metadata": {},
   "source": [
    "res_net.trainable = True\n",
    "\n",
    "# Let's take a look to see how many layers are in the base model\n",
    "print(\"Number of layers in the base model: \", len(res_net.layers))\n",
    "\n",
    "# Freeze all the layers before the `fine_tune_at` layer\n",
    "for layer in res_net.layers[:fine_tune_from]:\n",
    "    layer.trainable = False\n",
    "\n",
    "print(\"Number of layers unfreezed: \", len(resnet50_model.trainable_variables))"
   ]
  },
  {
   "cell_type": "raw",
   "metadata": {},
   "source": [
    "# Drop learning rate by a magnitude\n",
    "initial_learning_rate = config[\"learning_rate\"]/10\n",
    "\n",
    "lr_schedule_cb = LearningRateScheduler(schedule, verbose=1)\n",
    "callbacks = [tensorboard_cb, lr_schedule_cb]"
   ]
  },
  {
   "cell_type": "raw",
   "metadata": {},
   "source": [
    "if config['optimizer'] == 'Adam':\n",
    "    opt = tf.keras.optimizers.Adam(learning_rate=config[\"learning_rate\"])\n",
    "elif config['optimizer'] == 'SGD':\n",
    "    opt = tf.keras.optimizers.SGD(learning_rate=config[\"learning_rate\"])\n",
    "\n",
    "resnet50_model.compile(\n",
    "    optimizer=opt,\n",
    "    loss='sparse_categorical_crossentropy',\n",
    "    metrics=['sparse_categorical_accuracy']\n",
    ")"
   ]
  },
  {
   "cell_type": "code",
   "execution_count": 13,
   "metadata": {},
   "outputs": [
    {
     "name": "stdout",
     "output_type": "stream",
     "text": [
      "Train for 58 steps, validate for 12 steps\n",
      "\n",
      "Epoch 00011: LearningRateScheduler reducing learning rate to 0.0010175438596491228.\n",
      "Epoch 11/20\n",
      "58/58 [==============================] - 6s 100ms/step - loss: 0.5040 - sparse_categorical_accuracy: 0.8106 - val_loss: 5.3689 - val_sparse_categorical_accuracy: 0.0625\n",
      "\n",
      "Epoch 00012: LearningRateScheduler reducing learning rate to 0.0009336767546683837.\n",
      "Epoch 12/20\n",
      "58/58 [==============================] - 5s 94ms/step - loss: 0.4699 - sparse_categorical_accuracy: 0.8209 - val_loss: 5.4157 - val_sparse_categorical_accuracy: 0.1400\n",
      "\n",
      "Epoch 00013: LearningRateScheduler reducing learning rate to 0.0008625817965496728.\n",
      "Epoch 13/20\n",
      "58/58 [==============================] - 6s 96ms/step - loss: 0.4534 - sparse_categorical_accuracy: 0.8326 - val_loss: 4.2054 - val_sparse_categorical_accuracy: 0.2168\n",
      "\n",
      "Epoch 00014: LearningRateScheduler reducing learning rate to 0.0008015478164731896.\n",
      "Epoch 14/20\n",
      "58/58 [==============================] - 5s 92ms/step - loss: 0.4341 - sparse_categorical_accuracy: 0.8370 - val_loss: 3.4856 - val_sparse_categorical_accuracy: 0.2663\n",
      "\n",
      "Epoch 00015: LearningRateScheduler reducing learning rate to 0.0007485802787816209.\n",
      "Epoch 15/20\n",
      "58/58 [==============================] - 5s 90ms/step - loss: 0.4222 - sparse_categorical_accuracy: 0.8446 - val_loss: 2.8566 - val_sparse_categorical_accuracy: 0.3939\n",
      "\n",
      "Epoch 00016: LearningRateScheduler reducing learning rate to 0.000702179176755448.\n",
      "Epoch 16/20\n",
      "58/58 [==============================] - 5s 92ms/step - loss: 0.4059 - sparse_categorical_accuracy: 0.8478 - val_loss: 2.3927 - val_sparse_categorical_accuracy: 0.4512\n",
      "\n",
      "Epoch 00017: LearningRateScheduler reducing learning rate to 0.0006611947104423165.\n",
      "Epoch 17/20\n",
      "58/58 [==============================] - 5s 91ms/step - loss: 0.3902 - sparse_categorical_accuracy: 0.8590 - val_loss: 1.7737 - val_sparse_categorical_accuracy: 0.5059\n",
      "\n",
      "Epoch 00018: LearningRateScheduler reducing learning rate to 0.0006247307195174493.\n",
      "Epoch 18/20\n",
      "58/58 [==============================] - 5s 91ms/step - loss: 0.3731 - sparse_categorical_accuracy: 0.8633 - val_loss: 1.3986 - val_sparse_categorical_accuracy: 0.5579\n",
      "\n",
      "Epoch 00019: LearningRateScheduler reducing learning rate to 0.0005920783993466722.\n",
      "Epoch 19/20\n",
      "58/58 [==============================] - 5s 92ms/step - loss: 0.3559 - sparse_categorical_accuracy: 0.8673 - val_loss: 0.9540 - val_sparse_categorical_accuracy: 0.6712\n",
      "\n",
      "Epoch 00020: LearningRateScheduler reducing learning rate to 0.0005626697710516104.\n",
      "Epoch 20/20\n",
      "58/58 [==============================] - 5s 93ms/step - loss: 0.3494 - sparse_categorical_accuracy: 0.8739 - val_loss: 0.6693 - val_sparse_categorical_accuracy: 0.7604\n"
     ]
    }
   ],
   "source": [
    "total_epochs = last_epoch + fine_tune_epochs\n",
    "\n",
    "history_fine = resnet50_model.fit(\n",
    "    train_ds,\n",
    "    steps_per_epoch = train_steps,\n",
    "    epochs = total_epochs,\n",
    "    initial_epoch = last_epoch,\n",
    "    validation_data = test_ds,\n",
    "    validation_steps = test_steps,\n",
    "    validation_freq = 1,\n",
    "    callbacks = callbacks\n",
    ")\n",
    "\n",
    "last_epoch = history_fine.epoch[-1]+1"
   ]
  },
  {
   "cell_type": "code",
   "execution_count": 14,
   "metadata": {
    "scrolled": true
   },
   "outputs": [],
   "source": [
    "# For fine-tuning\n",
    "acc += history_fine.history['sparse_categorical_accuracy']\n",
    "val_acc += history_fine.history['val_sparse_categorical_accuracy']\n",
    "\n",
    "loss += history_fine.history['loss']\n",
    "val_loss += history_fine.history['val_loss']\n",
    "\n",
    "lr += history_fine.history['lr']"
   ]
  },
  {
   "cell_type": "code",
   "execution_count": 15,
   "metadata": {},
   "outputs": [
    {
     "data": {
      "image/png": "[encoded data removed]",
      "text/plain": [
       "<Figure size 936x288 with 1 Axes>"
      ]
     },
     "metadata": {
      "needs_background": "light"
     },
     "output_type": "display_data"
    },
    {
     "data": {
      "image/png": "[encoded data removed]",
      "text/plain": [
       "<Figure size 1008x576 with 2 Axes>"
      ]
     },
     "metadata": {
      "needs_background": "light"
     },
     "output_type": "display_data"
    },
    {
     "name": "stdout",
     "output_type": "stream",
     "text": [
      "Fine tuning from epoch:  9\n"
     ]
    }
   ],
   "source": [
    "# Plot the learning rate\n",
    "plt.figure(figsize=(13, 4))\n",
    "plt.plot(range(last_epoch), lr, label='Learning Rate')\n",
    "plt.xlabel('Epoch')\n",
    "plt.ylabel('Learnign rate')\n",
    "plt.savefig(log_dir+'/learning_rate.png')\n",
    "plt.title('Adaptive Learning Rate');\n",
    "\n",
    "# Subplot 1\n",
    "plt.figure(figsize=(14, 8))\n",
    "plt.subplot(2, 1, 1)\n",
    "plt.plot(acc, label='Training Accuracy')\n",
    "plt.plot(val_acc, label='Validation Accuracy')\n",
    "plt.plot([history.epoch[-1]-1,history.epoch[-1]-1],\n",
    "          plt.ylim(), label='Start Fine Tuning')\n",
    "plt.legend(loc='lower right')\n",
    "plt.title('Training and Validation Accuracy')\n",
    "\n",
    "# Subplot 2\n",
    "plt.subplot(2, 1, 2)\n",
    "plt.plot(loss, label='Training Loss')\n",
    "plt.plot(val_loss, label='Validation Loss')\n",
    "plt.ylim([0, 3.0])\n",
    "plt.plot([history.epoch[-1]-1,history.epoch[-1]-1],\n",
    "         plt.ylim(), label='Start Fine Tuning')\n",
    "plt.legend(loc='upper right')\n",
    "plt.title('Training and Validation Loss')\n",
    "plt.xlabel('epoch')\n",
    "plt.show()\n",
    "\n",
    "print (\"Fine tuning from epoch: \", history.epoch[-1])"
   ]
  },
  {
   "cell_type": "markdown",
   "metadata": {},
   "source": [
    "`Tensorboard`"
   ]
  },
  {
   "cell_type": "raw",
   "metadata": {},
   "source": [
    "from tensorboard import notebook\n",
    "# Load the TensorBoard notebook extension\n",
    "%load_ext tensorboard\n",
    "\n",
    "# Start tensorboard\n",
    "%tensorboard --logdir logs\n",
    "\n",
    "notebook.list()"
   ]
  },
  {
   "cell_type": "markdown",
   "metadata": {},
   "source": [
    "# Step 2  \n",
    "Use the teacher to generate pseudo labels on unlabeled images"
   ]
  },
  {
   "cell_type": "code",
   "execution_count": 17,
   "metadata": {},
   "outputs": [],
   "source": [
    "def get_filename(file_path):\n",
    "    parts = tf.strings.split(file_path, os.path.sep)\n",
    "    # the last item of parts is the filename\n",
    "    filename = parts[-1]\n",
    "    return filename\n",
    "\n",
    "def decode_img(img):\n",
    "    # convert the compressed string to a 3D uint8 tensor\n",
    "    img = tf.image.decode_jpeg(img, channels=3)\n",
    "    # Use `convert_image_dtype` to convert to floats in the [0,1] range.\n",
    "    img = tf.image.convert_image_dtype(img, tf.float32)\n",
    "    # resize the image to the desired size.\n",
    "    return tf.image.resize(img, [config[\"img_shape\"][0], config[\"img_shape\"][1] ])\n",
    "\n",
    "def process_path(file_path):\n",
    "    filename = get_filename(file_path)\n",
    "    # load the raw data from the file as a string\n",
    "    img = tf.io.read_file(file_path)\n",
    "    img = decode_img(img)\n",
    "    return img, filename"
   ]
  },
  {
   "cell_type": "code",
   "execution_count": 18,
   "metadata": {},
   "outputs": [],
   "source": [
    "AUTOTUNE = tf.data.experimental.AUTOTUNE\n",
    "data_dir_unlabeled = pathlib.Path('/mnt/sdb/hyper-kvasir/unlabeled-test/')\n",
    "\n",
    "ds_size_unlabeled = len(list(data_dir_unlabeled.glob('*.*g')))\n",
    "\n",
    "files_string = str(data_dir_unlabeled/'*.*g')\n",
    "list_ds_unlabeled = tf.data.Dataset.list_files(files_string)\n",
    "\n",
    "unlabeled_ds = list_ds_unlabeled.map(process_path, num_parallel_calls=AUTOTUNE)"
   ]
  },
  {
   "cell_type": "code",
   "execution_count": 19,
   "metadata": {},
   "outputs": [],
   "source": [
    "unlabeled_ds = unlabeled_ds#.batch(1).prefetch(buffer_size=AUTOTUNE)"
   ]
  },
  {
   "cell_type": "code",
   "execution_count": 39,
   "metadata": {},
   "outputs": [
    {
     "name": "stdout",
     "output_type": "stream",
     "text": [
      "b'0c356da9-17b8-4a6b-a68e-fcfe7f5e57e8dyed-lifted-polyps.jpg'\n",
      "1/1 [==============================] - 0s 14ms/sample\n",
      "0.00% hemorrhoids\n",
      "0.00% barretts\n",
      "0.00% esophagitis-a\n",
      "0.00% esophagitis-b-d\n",
      "0.01% ulcerative-colitis-0-1\n",
      "0.00% barretts-short-segment\n",
      "0.47% cecum\n",
      "0.00% pylorus\n",
      "0.00% retroflex-rectum\n",
      "0.01% ulcerative-colitis-grade-2\n",
      "0.01% ulcerative-colitis-grade-1\n",
      "0.00% bbps-2-3\n",
      "0.02% bbps-0-1\n",
      "0.00% ileum\n",
      "0.00% retroflex-stomach\n",
      "0.00% normal-z-line\n",
      "0.00% ulcerative-colitis-2-3\n",
      "0.00% impacted-stool\n",
      "0.01% polyps\n",
      "23.10% dyed-resection-margins\n",
      "76.36% dyed-lifted-polyps\n",
      "0.02% ulcerative-colitis-grade-3\n",
      "0.00% ulcerative-colitis-1-2\n"
     ]
    },
    {
     "data": {
      "image/png": "[encoded data removed]",
      "text/plain": [
       "<Figure size 432x288 with 1 Axes>"
      ]
     },
     "metadata": {},
     "output_type": "display_data"
    }
   ],
   "source": [
    "for img, name in unlabeled_ds.take(1):\n",
    "    # Convert to numpy and add dimension\n",
    "    print (name.numpy())\n",
    "    show_image(img.numpy())\n",
    "    img = np.expand_dims(img.numpy(), 0)\n",
    "    prediction = resnet50_model.predict(img, verbose=1)\n",
    "    for i, pred in enumerate(prediction[0]):\n",
    "        print(\"{:0.2f}% {}\".format(pred*100, class_names[i]))"
   ]
  },
  {
   "cell_type": "markdown",
   "metadata": {},
   "source": [
    "Next hurdle: get access to both dataset sample and prediction.  \n",
    "- Predict one and one image?\n",
    "- Predict all at once?  "
   ]
  },
  {
   "cell_type": "code",
   "execution_count": null,
   "metadata": {},
   "outputs": [],
   "source": [
    "unlabeled_pred = resnet50_model.predict(unlabeled_ds, verbose=1)"
   ]
  },
  {
   "cell_type": "code",
   "execution_count": null,
   "metadata": {},
   "outputs": [],
   "source": [
    "for sample, prediction in zip(unlabeled_ds, unlabeled_pred):\n",
    "    pass\n",
    "#     print (sample)\n",
    "#     if idx > 5:\n",
    "#         sys.exit(1)\n",
    "#     idx += 1\n",
    "\n",
    "\n",
    "# count = 0\n",
    "# predictions = unlabeled_pred[count]\n",
    "\n",
    "# for i, pred in enumerate(predictions):\n",
    "#     print(\"{:0.4f} {}\".format(pred, class_names[i]))\n",
    "# print (\"Predicton:\", class_names[np.argmax(predictions)])\n",
    "\n",
    "# plt.figure(frameon=False, facecolor='white')\n",
    "# plt.imshow(image)\n",
    "# plt.axis('off');"
   ]
  },
  {
   "cell_type": "code",
   "execution_count": null,
   "metadata": {},
   "outputs": [],
   "source": [
    "print (class_names[np.argmax(prediction)])"
   ]
  },
  {
   "cell_type": "code",
   "execution_count": null,
   "metadata": {},
   "outputs": [],
   "source": [
    "for i, pred in enumerate(prediction):\n",
    "    print(\"{:0.4f} {}\".format(pred, class_names[i]))"
   ]
  },
  {
   "cell_type": "code",
   "execution_count": null,
   "metadata": {},
   "outputs": [],
   "source": [
    "show_image(sample[0].numpy()[0])"
   ]
  },
  {
   "cell_type": "code",
   "execution_count": null,
   "metadata": {},
   "outputs": [],
   "source": [
    "sample[1].numpy()[0]"
   ]
  },
  {
   "cell_type": "markdown",
   "metadata": {},
   "source": [
    "## Predict new samples"
   ]
  },
  {
   "cell_type": "code",
   "execution_count": null,
   "metadata": {},
   "outputs": [],
   "source": [
    "# Fetch one batch\n",
    "images, labels = next(iter(val_ds))\n",
    "\n",
    "# Convert from tensor to numpy array\n",
    "images = images.numpy()\n",
    "labels = labels.numpy()"
   ]
  },
  {
   "cell_type": "code",
   "execution_count": null,
   "metadata": {},
   "outputs": [],
   "source": [
    "# Get a random image and label\n",
    "rand = np.random.randint(0, config[\"batch_size\"])\n",
    "image = images[rand]\n",
    "label = labels[rand]\n",
    "\n",
    "# Predict one image\n",
    "predictions = resnet50_model.predict(np.expand_dims(image, axis=0))[0]\n",
    "\n",
    "for i, pred in enumerate(predictions):\n",
    "    print(\"{:0.4f} {}\".format(pred, class_names[i]))\n",
    "\n",
    "print (\"\\nLabel:\", class_names[label])\n",
    "print (\"Predicton:\", class_names[np.argmax(predictions)])\n",
    "\n",
    "plt.figure(frameon=False, facecolor='white')\n",
    "plt.imshow(image)\n",
    "plt.axis('off');"
   ]
  },
  {
   "cell_type": "code",
   "execution_count": null,
   "metadata": {},
   "outputs": [],
   "source": [
    "# Predict one batch\n",
    "predictions = resnet50_model.predict(images)\n",
    "\n",
    "print ('{:3}  {:<27} {:27}'.format('idx', 'label', 'pred'))\n",
    "print ('---  {} {}'.format(27*'-', 27*'-'), end='')\n",
    "\n",
    "# make a list to store the wrong predictions\n",
    "wrong_predictions = []\n",
    "\n",
    "for i, pred in enumerate(predictions):\n",
    "    label = class_names[labels[i]]\n",
    "    prediction = class_names[np.argmax(pred)]\n",
    "    print ('\\n{:3}  {:27} {:27}'.format(i, label, prediction), end='')\n",
    "    if (label != prediction): \n",
    "        print (\"-Incorrect-\", end='')\n",
    "        wrong_predictions.append(i)"
   ]
  },
  {
   "cell_type": "code",
   "execution_count": null,
   "metadata": {},
   "outputs": [],
   "source": [
    "# Print info about wrong predictions\n",
    "print(\"List of wrong predictions from batch:\" ,wrong_predictions)\n",
    "color_string = \"\\x1b[31m{:0.4f} {}\\x1b[0m\"\n",
    "\n",
    "for i, wrong_pred in enumerate(wrong_predictions):\n",
    "    \n",
    "    image = images[wrong_pred]\n",
    "    label = labels[wrong_pred]\n",
    "    \n",
    "    # Predict one image\n",
    "    predictions = resnet50_model.predict(np.expand_dims(image, axis=0))[0]\n",
    "    pred_label = np.argmax(predictions)\n",
    "    \n",
    "    print (\"\\n\\nLabel:\", class_names[label])\n",
    "    print (\"Predicton:\", class_names[pred_label])\n",
    "    print (\"-------------------------------------\")\n",
    "    for i, pred in enumerate(predictions):\n",
    "        # print in colors\n",
    "        if i == pred_label:\n",
    "            print(color_string.format(pred, class_names[i]))\n",
    "        else:\n",
    "            print(\"{:0.4f} {}\".format(pred, class_names[i]))\n",
    "\n",
    "#     plt.figure(frameon=False, facecolor='white')\n",
    "#     plt.imshow(image)\n",
    "#     plt.axis('off');"
   ]
  }
 ],
 "metadata": {
  "kernelspec": {
   "display_name": "TF2",
   "language": "python",
   "name": "tf2"
  },
  "language_info": {
   "codemirror_mode": {
    "name": "ipython",
    "version": 3
   },
   "file_extension": ".py",
   "mimetype": "text/x-python",
   "name": "python",
   "nbconvert_exporter": "python",
   "pygments_lexer": "ipython3",
   "version": "3.7.6"
  }
 },
 "nbformat": 4,
 "nbformat_minor": 4
}
