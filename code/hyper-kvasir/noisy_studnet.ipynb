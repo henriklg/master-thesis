{
 "cells": [
  {
   "cell_type": "markdown",
   "metadata": {},
   "source": [
    "Kvasir dataset split into neg/pos and trained using Resnet50 without augmentation. Getting some decent results after training on resampled data with large step-size.  \n",
    "- Class weighting  \n",
    "- Resampling  \n",
    "- Initial Bias-estimation\n",
    "- Decreasing learning rate"
   ]
  },
  {
   "cell_type": "markdown",
   "metadata": {},
   "source": [
    "### Loading data"
   ]
  },
  {
   "cell_type": "code",
   "execution_count": 1,
   "metadata": {},
   "outputs": [],
   "source": [
    "from __future__ import absolute_import, division, print_function, unicode_literals\n",
    "\n",
    "import tensorflow as tf\n",
    "\n",
    "import numpy as np\n",
    "import os\n",
    "import pathlib\n",
    "import matplotlib.pyplot as plt\n",
    "\n",
    "# Some stuff to make utils-function work\n",
    "import sys\n",
    "sys.path.append('../utils')\n",
    "from data_prep import create_dataset, print_class_info, show_image\n",
    "%load_ext autoreload\n",
    "%autoreload 2\n",
    "\n",
    "# Jupyter-specific\n",
    "%matplotlib inline"
   ]
  },
  {
   "cell_type": "markdown",
   "metadata": {},
   "source": [
    "Some parameters"
   ]
  },
  {
   "cell_type": "code",
   "execution_count": 13,
   "metadata": {},
   "outputs": [],
   "source": [
    "data_dir = pathlib.Path('/mnt/sdb/hyper-kvasir/labeled/')\n",
    "\n",
    "config = {\n",
    "    # Dataset\n",
    "    \"data_dir\": data_dir,\n",
    "    \"cache_dir\": \"./cache\",\n",
    "    \"ds_info\": 'complete',\n",
    "    \"resample\": False,\n",
    "    \"neg_class\": ['normal-cecum'],\n",
    "    \"outcast\": None,\n",
    "    # Model\n",
    "    \"model\": 'resnet',\n",
    "    \"num_epochs\": 30,\n",
    "    \"batch_size\": 128,\n",
    "    \"img_shape\": (128, 128, 3),\n",
    "    \"learning_rate\": 0.01,\n",
    "    \"optimizer\": 'Adam',\n",
    "    \"final_activation\": 'softmax',\n",
    "    # Callbacks\n",
    "    \"learning_schedule\": False,\n",
    "    \"early_stopping\": False,\n",
    "    \"early_stopping_patience\": 20,\n",
    "    \"decay_rate\": 0.4,              # higher number gives steeper dropoff\n",
    "    # Misc\n",
    "    \"verbosity\": 1\n",
    "    }\n",
    "\n",
    "model_name = '{}x{}x{}_{}_{}'.format(config[\"num_epochs\"], config[\"batch_size\"], \n",
    "                                     config[\"img_shape\"][1], config[\"ds_info\"], config[\"model\"])\n",
    "\n",
    "fine_tune_from = 130\n",
    "fine_tune_epochs = 30\n",
    "early_stopping_patience = config[\"early_stopping_patience\"]"
   ]
  },
  {
   "cell_type": "markdown",
   "metadata": {},
   "source": [
    "Create training, testing and validation dataset from utils/data_prep.py.  \n",
    "Returns tf.dataset for shuffled, cached and batched data"
   ]
  },
  {
   "cell_type": "code",
   "execution_count": 3,
   "metadata": {},
   "outputs": [
    {
     "name": "stdout",
     "output_type": "stream",
     "text": [
      "Directories:  ['hemorrhoids' 'barretts' 'esophagitis-a' 'esophagitis-b-d'\n",
      " 'ulcerative-colitis-0-1' 'barretts-short-segment' 'cecum' 'pylorus'\n",
      " 'retroflex-rectum' 'ulcerative-colitis-grade-2'\n",
      " 'ulcerative-colitis-grade-1' 'bbps-2-3' 'bbps-0-1' 'ileum'\n",
      " 'retroflex-stomach' 'normal-z-line' 'ulcerative-colitis-2-3'\n",
      " 'impacted-stool' 'polyps' 'dyed-resection-margins' 'dyed-lifted-polyps'\n",
      " 'ulcerative-colitis-grade-3' 'ulcerative-colitis-1-2']\n",
      "\n",
      "hemorrhoids                 :    6 | 0.06%\n",
      "barretts                    :   41 | 0.38%\n",
      "esophagitis-a               :  403 | 3.78%\n",
      "esophagitis-b-d             :  260 | 2.44%\n",
      "ulcerative-colitis-0-1      :   35 | 0.33%\n",
      "barretts-short-segment      :   53 | 0.50%\n",
      "cecum                       : 1009 | 9.46%\n",
      "pylorus                     :  999 | 9.37%\n",
      "retroflex-rectum            :  391 | 3.67%\n",
      "ulcerative-colitis-grade-2  :  443 | 4.15%\n",
      "ulcerative-colitis-grade-1  :  201 | 1.89%\n",
      "bbps-2-3                    : 1148 | 10.77%\n",
      "bbps-0-1                    :  646 | 6.06%\n",
      "ileum                       :    9 | 0.08%\n",
      "retroflex-stomach           :  764 | 7.17%\n",
      "normal-z-line               :  932 | 8.74%\n",
      "ulcerative-colitis-2-3      :   28 | 0.26%\n",
      "impacted-stool              :  131 | 1.23%\n",
      "polyps                      : 1028 | 9.64%\n",
      "dyed-resection-margins      :  989 | 9.28%\n",
      "dyed-lifted-polyps          : 1002 | 9.40%\n",
      "ulcerative-colitis-grade-3  :  133 | 1.25%\n",
      "ulcerative-colitis-1-2      :   11 | 0.10%\n",
      "\n",
      "Total number of images: 10662, in 23 classes.\n",
      "\n",
      "Dataset.list_files:  /mnt/sdb/hyper-kvasir/labeled/*/*.*g \n",
      "\n",
      "WARNING:tensorflow:Entity <function create_dataset.<locals>.get_label at 0x7f61a0f91cb0> could not be transformed and will be executed as-is. Please report this to the AutoGraph team. When filing the bug, set the verbosity to 10 (on Linux, `export AUTOGRAPH_VERBOSITY=10`) and attach the full output. Cause: Cell is empty\n",
      "WARNING: Entity <function create_dataset.<locals>.get_label at 0x7f61a0f91cb0> could not be transformed and will be executed as-is. Please report this to the AutoGraph team. When filing the bug, set the verbosity to 10 (on Linux, `export AUTOGRAPH_VERBOSITY=10`) and attach the full output. Cause: Cell is empty\n",
      "[ 9 20  8  6 12 15 20 15  6  6]\n",
      "[ 9 20 15 11 19  7  4  6 10  7]\n",
      "[ 6 10 19  9 18 20 14 11 14  2]\n",
      "[11  8 15 11 15  7 19  6 15 11]\n",
      "[ 2 17 20 11 10  2  2  6 14 19]\n",
      "[11 15 18  7 14 15 21  2 15 14]\n",
      "[20  3  2 11  7 20 19  7 15  3]\n",
      "[12 19  7 19 14 15 20  6 14 18]\n",
      "[18 15  6 20 12  6 11 14 20 12]\n",
      "[ 8 14  7 18 12  7 12 20  7 20]\n",
      "\n",
      "Full dataset sample size:        10662\n",
      "Train dataset sample size:        7463\n",
      "Test dataset sample size:         1599\n",
      "Validation dataset sample size:   1600\n"
     ]
    }
   ],
   "source": [
    "train_ds, test_ds, val_ds, params = create_dataset(config)\n",
    "\n",
    "train_steps = params[\"train_size\"] // config[\"batch_size\"]\n",
    "test_steps = params[\"test_size\"] // config[\"batch_size\"]\n",
    "val_steps = params[\"val_size\"] // config[\"batch_size\"]\n",
    "class_names = params[\"class_names\"]\n",
    "neg = params[\"neg_count\"]\n",
    "pos = params[\"pos_count\"]\n",
    "total = params[\"ds_size\"]"
   ]
  },
  {
   "cell_type": "markdown",
   "metadata": {},
   "source": [
    "# Step 1\n",
    "Train a teacher model on labeled images"
   ]
  },
  {
   "cell_type": "code",
   "execution_count": 4,
   "metadata": {},
   "outputs": [],
   "source": [
    "from tensorflow.python.keras.applications import ResNet50\n",
    "from tensorflow.python.keras.models import Sequential, Model\n",
    "from tensorflow.keras.layers import Dense, Dropout, Flatten, GlobalAveragePooling2D, UpSampling2D, BatchNormalization"
   ]
  },
  {
   "cell_type": "markdown",
   "metadata": {},
   "source": [
    "### Create and compile the model"
   ]
  },
  {
   "cell_type": "code",
   "execution_count": 5,
   "metadata": {},
   "outputs": [],
   "source": [
    "resnet_model = ResNet50(\n",
    "    weights='imagenet',\n",
    "    include_top=False,\n",
    "    input_shape=config[\"img_shape\"]\n",
    ")"
   ]
  },
  {
   "cell_type": "code",
   "execution_count": 6,
   "metadata": {},
   "outputs": [],
   "source": [
    "# Freeze layers in resnet\n",
    "resnet_model.trainable = True\n",
    "\n",
    "# Define model\n",
    "resnet50_model = Sequential()\n",
    "\n",
    "resnet50_model.add(resnet_model)\n",
    "resnet50_model.add(GlobalAveragePooling2D())\n",
    "resnet50_model.add(Dense(params[\"num_classes\"], activation=config[\"final_activation\"]))\n",
    "\n",
    "if config['optimizer'] == 'Adam':\n",
    "    opt = tf.keras.optimizers.Adam(learning_rate=config[\"learning_rate\"])\n",
    "elif config['optimizer'] == 'SGD':\n",
    "    opt = tf.keras.optimizers.SGD(learning_rate=config[\"learning_rate\"])\n",
    "\n",
    "resnet50_model.compile(\n",
    "    optimizer=opt,\n",
    "    loss='sparse_categorical_crossentropy',\n",
    "    metrics=['sparse_categorical_accuracy']\n",
    ")"
   ]
  },
  {
   "cell_type": "code",
   "execution_count": 7,
   "metadata": {},
   "outputs": [
    {
     "name": "stdout",
     "output_type": "stream",
     "text": [
      "Model: \"sequential\"\n",
      "_________________________________________________________________\n",
      "Layer (type)                 Output Shape              Param #   \n",
      "=================================================================\n",
      "resnet50 (Model)             (None, 2, 2, 2048)        23587712  \n",
      "_________________________________________________________________\n",
      "global_average_pooling2d (Gl (None, 2048)              0         \n",
      "_________________________________________________________________\n",
      "dense (Dense)                (None, 23)                47127     \n",
      "=================================================================\n",
      "Total params: 23,634,839\n",
      "Trainable params: 23,581,719\n",
      "Non-trainable params: 53,120\n",
      "_________________________________________________________________\n"
     ]
    }
   ],
   "source": [
    "if config[\"verbosity\"] > 0:\n",
    "    resnet50_model.summary()"
   ]
  },
  {
   "cell_type": "raw",
   "metadata": {},
   "source": [
    "# Save image of layers\n",
    "tf.keras.utils.plot_model(resnet50_model, 'models/{}.png'.format(model_name), show_shapes=True)"
   ]
  },
  {
   "cell_type": "markdown",
   "metadata": {},
   "source": [
    "### Callbacks"
   ]
  },
  {
   "cell_type": "code",
   "execution_count": null,
   "metadata": {},
   "outputs": [],
   "source": [
    "from tensorflow.python.keras.callbacks import EarlyStopping, ModelCheckpoint, TensorBoard, LearningRateScheduler\n",
    "import datetime"
   ]
  },
  {
   "cell_type": "code",
   "execution_count": 9,
   "metadata": {},
   "outputs": [],
   "source": [
    "# By using LearnignRateScheduler\n",
    "initial_learning_rate = config[\"learning_rate\"]\n",
    "decay_steps = params[\"train_size\"] // config[\"batch_size\"]\n",
    "batch_size = config['batch_size']\n",
    "decay_rate = config['decay_rate']\n",
    "\n",
    "def schedule(epoch):\n",
    "    # calculate new learning rate\n",
    "    learning_rate = initial_learning_rate / (1 + decay_rate * (epoch*batch_size) / decay_steps)\n",
    "    \n",
    "    # update tensorboard\n",
    "    tf.summary.scalar(name='learning_rate', data=learning_rate, step=epoch)\n",
    "    return learning_rate\n",
    "\n",
    "log_dir=\"./logs/{}/\".format(config[\"model\"]) + datetime.datetime.now().strftime(\"%Y%m%d-%H%M%S\")\n",
    "file_writer = tf.summary.create_file_writer(log_dir + \"/metrics\")\n",
    "file_writer.set_as_default()\n",
    "\n",
    "lr_schedule_cb = LearningRateScheduler(schedule, verbose=1)\n",
    "earlystopp_cb = EarlyStopping(monitor='val_loss',verbose=1, patience=early_stopping_patience, restore_best_weights=True)\n",
    "checkpoint_cb = ModelCheckpoint(filepath='./models/best_cp-{epoch:03d}.hdf', monitor='val_loss', save_best_only=True, mode='auto')\n",
    "tensorboard_cb = TensorBoard(log_dir=log_dir, update_freq='batch')\n",
    "\n",
    "callbacks = [tensorboard_cb]\n",
    "if config[\"early_stopping\"]: callbacks.append(earlystopp_cb)\n",
    "if config[\"learning_schedule\"]: callbacks.append(lr_schedule_cb)\n",
    "\n",
    "# Write config dictionary to text file\n",
    "f = open(log_dir+\"/config.txt\",\"w\")\n",
    "f.write(str(config))\n",
    "f.close()"
   ]
  },
  {
   "cell_type": "markdown",
   "metadata": {},
   "source": [
    "### Train the model"
   ]
  },
  {
   "cell_type": "code",
   "execution_count": 14,
   "metadata": {},
   "outputs": [
    {
     "name": "stdout",
     "output_type": "stream",
     "text": [
      "Train for 58 steps, validate for 12 steps\n",
      "\n",
      "Epoch 00001: LearningRateScheduler reducing learning rate to 0.01.\n",
      "Epoch 1/30\n",
      "58/58 [==============================] - 6s 97ms/step - loss: 0.7996 - sparse_categorical_accuracy: 0.7105 - val_loss: 9.7687 - val_sparse_categorical_accuracy: 0.0833\n",
      "\n",
      "Epoch 00002: LearningRateScheduler reducing learning rate to 0.005311355311355312.\n",
      "Epoch 2/30\n",
      "58/58 [==============================] - 5s 95ms/step - loss: 0.7220 - sparse_categorical_accuracy: 0.7416 - val_loss: 5.1960 - val_sparse_categorical_accuracy: 0.1035\n",
      "\n",
      "Epoch 00003: LearningRateScheduler reducing learning rate to 0.0036159600997506237.\n",
      "Epoch 3/30\n",
      "58/58 [==============================] - 6s 95ms/step - loss: 0.5974 - sparse_categorical_accuracy: 0.7691 - val_loss: 4.6512 - val_sparse_categorical_accuracy: 0.1191\n",
      "\n",
      "Epoch 00004: LearningRateScheduler reducing learning rate to 0.00274102079395085.\n",
      "Epoch 4/30\n",
      "58/58 [==============================] - 5s 94ms/step - loss: 0.5421 - sparse_categorical_accuracy: 0.7874 - val_loss: 5.6089 - val_sparse_categorical_accuracy: 0.1178\n",
      "\n",
      "Epoch 00005: LearningRateScheduler reducing learning rate to 0.0022070015220700154.\n",
      "Epoch 5/30\n",
      "58/58 [==============================] - 5s 94ms/step - loss: 0.5066 - sparse_categorical_accuracy: 0.8000 - val_loss: 6.2040 - val_sparse_categorical_accuracy: 0.1211\n",
      "\n",
      "Epoch 00006: LearningRateScheduler reducing learning rate to 0.0018471337579617835.\n",
      "Epoch 6/30\n",
      "58/58 [==============================] - 5s 94ms/step - loss: 0.5099 - sparse_categorical_accuracy: 0.8025 - val_loss: 6.7724 - val_sparse_categorical_accuracy: 0.1068\n",
      "\n",
      "Epoch 00007: LearningRateScheduler reducing learning rate to 0.0015881708652792988.\n",
      "Epoch 7/30\n",
      "58/58 [==============================] - 5s 94ms/step - loss: 0.4687 - sparse_categorical_accuracy: 0.8125 - val_loss: 6.4246 - val_sparse_categorical_accuracy: 0.1380\n",
      "\n",
      "Epoch 00008: LearningRateScheduler reducing learning rate to 0.001392891450528338.\n",
      "Epoch 8/30\n",
      "58/58 [==============================] - 5s 94ms/step - loss: 0.4401 - sparse_categorical_accuracy: 0.8308 - val_loss: 4.9287 - val_sparse_categorical_accuracy: 0.2435\n",
      "\n",
      "Epoch 00009: LearningRateScheduler reducing learning rate to 0.001240376390076989.\n",
      "Epoch 9/30\n",
      "58/58 [==============================] - 5s 94ms/step - loss: 0.4225 - sparse_categorical_accuracy: 0.8319 - val_loss: 4.7348 - val_sparse_categorical_accuracy: 0.2637\n",
      "\n",
      "Epoch 00010: LearningRateScheduler reducing learning rate to 0.001117964533538936.\n",
      "Epoch 10/30\n",
      "58/58 [==============================] - 6s 96ms/step - loss: 0.4125 - sparse_categorical_accuracy: 0.8398 - val_loss: 4.1247 - val_sparse_categorical_accuracy: 0.3027\n",
      "\n",
      "Epoch 00011: LearningRateScheduler reducing learning rate to 0.0010175438596491228.\n",
      "Epoch 11/30\n",
      "58/58 [==============================] - 6s 96ms/step - loss: 0.3948 - sparse_categorical_accuracy: 0.8475 - val_loss: 3.5808 - val_sparse_categorical_accuracy: 0.3249\n",
      "\n",
      "Epoch 00012: LearningRateScheduler reducing learning rate to 0.0009336767546683837.\n",
      "Epoch 12/30\n",
      "58/58 [==============================] - 6s 96ms/step - loss: 0.3728 - sparse_categorical_accuracy: 0.8567 - val_loss: 2.8252 - val_sparse_categorical_accuracy: 0.4310\n",
      "\n",
      "Epoch 00013: LearningRateScheduler reducing learning rate to 0.0008625817965496728.\n",
      "Epoch 13/30\n",
      "58/58 [==============================] - 6s 96ms/step - loss: 0.3609 - sparse_categorical_accuracy: 0.8606 - val_loss: 2.4786 - val_sparse_categorical_accuracy: 0.4818\n",
      "\n",
      "Epoch 00014: LearningRateScheduler reducing learning rate to 0.0008015478164731896.\n",
      "Epoch 14/30\n",
      "58/58 [==============================] - 6s 96ms/step - loss: 0.3500 - sparse_categorical_accuracy: 0.8630 - val_loss: 2.0611 - val_sparse_categorical_accuracy: 0.5371\n",
      "\n",
      "Epoch 00015: LearningRateScheduler reducing learning rate to 0.0007485802787816209.\n",
      "Epoch 15/30\n",
      "58/58 [==============================] - 6s 95ms/step - loss: 0.3244 - sparse_categorical_accuracy: 0.8753 - val_loss: 1.4767 - val_sparse_categorical_accuracy: 0.6100\n",
      "\n",
      "Epoch 00016: LearningRateScheduler reducing learning rate to 0.000702179176755448.\n",
      "Epoch 16/30\n",
      "58/58 [==============================] - 6s 96ms/step - loss: 0.3241 - sparse_categorical_accuracy: 0.8794 - val_loss: 1.2565 - val_sparse_categorical_accuracy: 0.6283\n",
      "\n",
      "Epoch 00017: LearningRateScheduler reducing learning rate to 0.0006611947104423165.\n",
      "Epoch 17/30\n",
      "58/58 [==============================] - 6s 97ms/step - loss: 0.2877 - sparse_categorical_accuracy: 0.8936 - val_loss: 0.7597 - val_sparse_categorical_accuracy: 0.7591\n",
      "\n",
      "Epoch 00018: LearningRateScheduler reducing learning rate to 0.0006247307195174493.\n",
      "Epoch 18/30\n",
      "58/58 [==============================] - 5s 94ms/step - loss: 0.2635 - sparse_categorical_accuracy: 0.9014 - val_loss: 0.8359 - val_sparse_categorical_accuracy: 0.7350\n",
      "\n",
      "Epoch 00019: LearningRateScheduler reducing learning rate to 0.0005920783993466722.\n",
      "Epoch 19/30\n",
      "58/58 [==============================] - 6s 96ms/step - loss: 0.2558 - sparse_categorical_accuracy: 0.9036 - val_loss: 0.5128 - val_sparse_categorical_accuracy: 0.8164\n",
      "\n",
      "Epoch 00020: LearningRateScheduler reducing learning rate to 0.0005626697710516104.\n",
      "Epoch 20/30\n",
      "58/58 [==============================] - 6s 95ms/step - loss: 0.2135 - sparse_categorical_accuracy: 0.9228 - val_loss: 0.4042 - val_sparse_categorical_accuracy: 0.8730\n",
      "\n",
      "Epoch 00021: LearningRateScheduler reducing learning rate to 0.0005360443622920518.\n",
      "Epoch 21/30\n",
      "58/58 [==============================] - 6s 96ms/step - loss: 0.2039 - sparse_categorical_accuracy: 0.9304 - val_loss: 0.3296 - val_sparse_categorical_accuracy: 0.8965\n",
      "\n",
      "Epoch 00022: LearningRateScheduler reducing learning rate to 0.0005118249205788916.\n",
      "Epoch 22/30\n",
      "58/58 [==============================] - 5s 94ms/step - loss: 0.1825 - sparse_categorical_accuracy: 0.9366 - val_loss: 0.3562 - val_sparse_categorical_accuracy: 0.8919\n",
      "\n",
      "Epoch 00023: LearningRateScheduler reducing learning rate to 0.0004896994258696386.\n",
      "Epoch 23/30\n",
      "58/58 [==============================] - 5s 95ms/step - loss: 0.1661 - sparse_categorical_accuracy: 0.9406 - val_loss: 0.4527 - val_sparse_categorical_accuracy: 0.8581\n",
      "\n",
      "Epoch 00024: LearningRateScheduler reducing learning rate to 0.0004694075752670767.\n",
      "Epoch 24/30\n",
      "58/58 [==============================] - 5s 93ms/step - loss: 0.1531 - sparse_categorical_accuracy: 0.9460 - val_loss: 0.4217 - val_sparse_categorical_accuracy: 0.8685\n",
      "\n",
      "Epoch 00025: LearningRateScheduler reducing learning rate to 0.00045073049424930055.\n",
      "Epoch 25/30\n",
      "58/58 [==============================] - 5s 94ms/step - loss: 0.1444 - sparse_categorical_accuracy: 0.9514 - val_loss: 0.3297 - val_sparse_categorical_accuracy: 0.9076\n",
      "\n",
      "Epoch 00026: LearningRateScheduler reducing learning rate to 0.0004334828101644245.\n",
      "Epoch 26/30\n",
      "58/58 [==============================] - 5s 94ms/step - loss: 0.1182 - sparse_categorical_accuracy: 0.9603 - val_loss: 0.3286 - val_sparse_categorical_accuracy: 0.9173\n",
      "\n",
      "Epoch 00027: LearningRateScheduler reducing learning rate to 0.00041750647854880507.\n",
      "Epoch 27/30\n",
      "58/58 [==============================] - 5s 93ms/step - loss: 0.0978 - sparse_categorical_accuracy: 0.9662 - val_loss: 0.3411 - val_sparse_categorical_accuracy: 0.9121\n",
      "\n",
      "Epoch 00028: LearningRateScheduler reducing learning rate to 0.00040266592613163007.\n",
      "Epoch 28/30\n",
      "58/58 [==============================] - 5s 93ms/step - loss: 0.0953 - sparse_categorical_accuracy: 0.9669 - val_loss: 0.3863 - val_sparse_categorical_accuracy: 0.9017\n",
      "\n",
      "Epoch 00029: LearningRateScheduler reducing learning rate to 0.0003888441941539286.\n",
      "Epoch 29/30\n",
      "58/58 [==============================] - 5s 92ms/step - loss: 0.0849 - sparse_categorical_accuracy: 0.9709 - val_loss: 0.3354 - val_sparse_categorical_accuracy: 0.9206\n",
      "\n",
      "Epoch 00030: LearningRateScheduler reducing learning rate to 0.0003759398496240601.\n",
      "Epoch 30/30\n",
      "58/58 [==============================] - 5s 92ms/step - loss: 0.0745 - sparse_categorical_accuracy: 0.9739 - val_loss: 0.4495 - val_sparse_categorical_accuracy: 0.9030\n"
     ]
    }
   ],
   "source": [
    "history = resnet50_model.fit(\n",
    "    train_ds,\n",
    "    steps_per_epoch = train_steps,\n",
    "    epochs = config[\"num_epochs\"],\n",
    "    validation_data = test_ds,\n",
    "    validation_steps = test_steps,\n",
    "    validation_freq = 1,\n",
    "    callbacks = callbacks\n",
    ")\n",
    "\n",
    "last_epoch = history.epoch[-1]+1\n",
    "\n",
    "# Write history dictionary to text file\n",
    "f = open(log_dir+\"/history.txt\",\"w\")\n",
    "f.write( str(history.history) )\n",
    "f.close()"
   ]
  },
  {
   "cell_type": "markdown",
   "metadata": {},
   "source": [
    "`Keras`\n",
    "Save/load the model"
   ]
  },
  {
   "cell_type": "raw",
   "metadata": {},
   "source": [
    "best_acc =  str(history.history[\"val_sparse_categorical_accuracy\"][-1])[2:4]"
   ]
  },
  {
   "cell_type": "code",
   "execution_count": null,
   "metadata": {},
   "outputs": [],
   "source": [
    "# resnet50_model.save('models/{}.h5'.format(model_name+best_acc))\n",
    "# resnet50_model = tf.keras.models.load_model('models/{}.h5'.format(model_name+\"94\"))\n",
    "# resnet50_model = tf.keras.models.load_model(\"/home/henrik/master_thesis/code/hyper-kvasir/models/best_cp-010.hdf\")"
   ]
  },
  {
   "cell_type": "markdown",
   "metadata": {},
   "source": [
    "## Evaluate the model"
   ]
  },
  {
   "cell_type": "code",
   "execution_count": 15,
   "metadata": {},
   "outputs": [
    {
     "name": "stdout",
     "output_type": "stream",
     "text": [
      "12/12 - 0s - loss: 0.3710 - sparse_categorical_accuracy: 0.9095\n"
     ]
    }
   ],
   "source": [
    "resnet50_evaluate = resnet50_model.evaluate(val_ds, verbose=2, steps=val_steps)\n",
    "\n",
    "# Write evaluate dictionary to text file\n",
    "f = open(log_dir+\"/evaluate.txt\",\"w\")\n",
    "f.write( str(resnet50_evaluate) )\n",
    "f.close()"
   ]
  },
  {
   "cell_type": "code",
   "execution_count": 16,
   "metadata": {},
   "outputs": [],
   "source": [
    "acc = history.history['sparse_categorical_accuracy']\n",
    "val_acc = history.history['val_sparse_categorical_accuracy']\n",
    "\n",
    "loss = history.history['loss']\n",
    "val_loss = history.history['val_loss']\n",
    "\n",
    "lr = history.history['lr']\n",
    "epochs_range = range(history.epoch[-1]+1)"
   ]
  },
  {
   "cell_type": "code",
   "execution_count": 17,
   "metadata": {},
   "outputs": [
    {
     "data": {
      "image/png": "[encoded data removed]",
      "text/plain": [
       "<Figure size 576x432 with 1 Axes>"
      ]
     },
     "metadata": {
      "needs_background": "light"
     },
     "output_type": "display_data"
    }
   ],
   "source": [
    "# Plot the learning rate\n",
    "plt.figure(figsize=(8, 6))\n",
    "plt.plot(epochs_range, lr, label='Learning Rate')\n",
    "plt.xlabel('Epoch')\n",
    "plt.ylabel('Learnign rate')\n",
    "plt.savefig(log_dir+'/learning_rate.png')\n",
    "plt.title('Adaptive Learning Rate');"
   ]
  },
  {
   "cell_type": "code",
   "execution_count": 18,
   "metadata": {},
   "outputs": [
    {
     "data": {
      "image/png": "[encoded data removed]",
      "text/plain": [
       "<Figure size 1008x432 with 2 Axes>"
      ]
     },
     "metadata": {
      "needs_background": "light"
     },
     "output_type": "display_data"
    }
   ],
   "source": [
    "# Plot train-val accuracy and loss\n",
    "plt.figure(figsize=(14, 6))\n",
    "\n",
    "# Subplot 1\n",
    "plt.subplot(1, 2, 1)\n",
    "plt.plot(epochs_range, acc, label='Training Accuracy')\n",
    "plt.plot(epochs_range, val_acc, label='Validation Accuracy')\n",
    "plt.legend(loc='lower right')\n",
    "# plt.ylim([0.5, 1])\n",
    "plt.xlabel('Epoch')\n",
    "plt.ylabel('Accuracy')\n",
    "plt.title('Training and Validation Accuracy')\n",
    "\n",
    "# Subplot 2\n",
    "plt.subplot(1, 2, 2)\n",
    "plt.plot(epochs_range, loss, label='Training Loss')\n",
    "plt.plot(epochs_range, val_loss, label='Validation Loss')\n",
    "plt.legend(loc='upper right')\n",
    "plt.ylim([0.0, 3])\n",
    "plt.xlabel('Epoch')\n",
    "plt.ylabel('Accuracy')\n",
    "plt.title('Training and Validation Loss')\n",
    "plt.savefig(log_dir+'/accuracy_and_loss.png')\n",
    "plt.show()"
   ]
  },
  {
   "cell_type": "markdown",
   "metadata": {},
   "source": [
    "### Fine tune the model"
   ]
  },
  {
   "cell_type": "raw",
   "metadata": {},
   "source": [
    "res_net.trainable = True\n",
    "\n",
    "# Let's take a look to see how many layers are in the base model\n",
    "print(\"Number of layers in the base model: \", len(res_net.layers))\n",
    "\n",
    "# Freeze all the layers before the `fine_tune_at` layer\n",
    "for layer in res_net.layers[:fine_tune_from]:\n",
    "    layer.trainable = False\n",
    "\n",
    "print(\"Number of layers unfreezed: \", len(resnet50_model.trainable_variables))"
   ]
  },
  {
   "cell_type": "raw",
   "metadata": {},
   "source": [
    "# Drop learning rate by a magnitude\n",
    "initial_learning_rate = config[\"learning_rate\"]/10\n",
    "\n",
    "lr_schedule_cb = LearningRateScheduler(schedule, verbose=1)\n",
    "callbacks = [tensorboard_cb, lr_schedule_cb]"
   ]
  },
  {
   "cell_type": "raw",
   "metadata": {},
   "source": [
    "if config['optimizer'] == 'Adam':\n",
    "    opt = tf.keras.optimizers.Adam(learning_rate=config[\"learning_rate\"])\n",
    "elif config['optimizer'] == 'SGD':\n",
    "    opt = tf.keras.optimizers.SGD(learning_rate=config[\"learning_rate\"])\n",
    "\n",
    "resnet50_model.compile(\n",
    "    optimizer=opt,\n",
    "    loss='sparse_categorical_crossentropy',\n",
    "    metrics=['sparse_categorical_accuracy']\n",
    ")"
   ]
  },
  {
   "cell_type": "raw",
   "metadata": {},
   "source": [
    "total_epochs = last_epoch + fine_tune_epochs\n",
    "\n",
    "history_fine = resnet50_model.fit(\n",
    "    train_ds,\n",
    "    steps_per_epoch = train_steps,\n",
    "    epochs = total_epochs,\n",
    "    initial_epoch = last_epoch,\n",
    "    validation_data = test_ds,\n",
    "    validation_steps = test_steps,\n",
    "    validation_freq = 1,\n",
    "    callbacks = callbacks\n",
    ")\n",
    "\n",
    "last_epoch = history_fine.epoch[-1]+1"
   ]
  },
  {
   "cell_type": "raw",
   "metadata": {},
   "source": [
    "# For fine-tuning\n",
    "acc += history_fine.history['sparse_categorical_accuracy']\n",
    "val_acc += history_fine.history['val_sparse_categorical_accuracy']\n",
    "\n",
    "loss += history_fine.history['loss']\n",
    "val_loss += history_fine.history['val_loss']\n",
    "\n",
    "lr += history_fine.history['lr']"
   ]
  },
  {
   "cell_type": "raw",
   "metadata": {},
   "source": [
    "# Plot the learning rate\n",
    "plt.figure(figsize=(13, 4))\n",
    "plt.plot(range(last_epoch), lr, label='Learning Rate')\n",
    "plt.xlabel('Epoch')\n",
    "plt.ylabel('Learnign rate')\n",
    "plt.savefig(log_dir+'/learning_rate.png')\n",
    "plt.title('Adaptive Learning Rate');\n",
    "\n",
    "# Subplot 1\n",
    "plt.figure(figsize=(14, 8))\n",
    "plt.subplot(2, 1, 1)\n",
    "plt.plot(acc, label='Training Accuracy')\n",
    "plt.plot(val_acc, label='Validation Accuracy')\n",
    "plt.plot([history.epoch[-1]-1,history.epoch[-1]-1],\n",
    "          plt.ylim(), label='Start Fine Tuning')\n",
    "plt.legend(loc='lower right')\n",
    "plt.title('Training and Validation Accuracy')\n",
    "\n",
    "# Subplot 2\n",
    "plt.subplot(2, 1, 2)\n",
    "plt.plot(loss, label='Training Loss')\n",
    "plt.plot(val_loss, label='Validation Loss')\n",
    "plt.ylim([0, 3.0])\n",
    "plt.plot([history.epoch[-1]-1,history.epoch[-1]-1],\n",
    "         plt.ylim(), label='Start Fine Tuning')\n",
    "plt.legend(loc='upper right')\n",
    "plt.title('Training and Validation Loss')\n",
    "plt.xlabel('epoch')\n",
    "plt.show()\n",
    "\n",
    "print (\"Fine tuning from epoch: \", history.epoch[-1])"
   ]
  },
  {
   "cell_type": "markdown",
   "metadata": {},
   "source": [
    "`Tensorboard`"
   ]
  },
  {
   "cell_type": "raw",
   "metadata": {},
   "source": [
    "from tensorboard import notebook\n",
    "# Load the TensorBoard notebook extension\n",
    "%load_ext tensorboard\n",
    "\n",
    "# Start tensorboard\n",
    "%tensorboard --logdir logs\n",
    "\n",
    "notebook.list()"
   ]
  },
  {
   "cell_type": "markdown",
   "metadata": {},
   "source": [
    "# Step 2  \n",
    "Use the teacher to generate pseudo labels on unlabeled images"
   ]
  },
  {
   "cell_type": "markdown",
   "metadata": {},
   "source": [
    "#### Check the predictions on validation dataset"
   ]
  },
  {
   "cell_type": "code",
   "execution_count": 30,
   "metadata": {},
   "outputs": [
    {
     "name": "stdout",
     "output_type": "stream",
     "text": [
      "label: retroflex-rectum\n",
      "1/1 [==============================] - 0s 14ms/sample\n",
      "0.00% hemorrhoids\n",
      "0.00% barretts\n",
      "0.00% esophagitis-a\n",
      "0.00% esophagitis-b-d\n",
      "0.00% ulcerative-colitis-0-1\n",
      "0.00% barretts-short-segment\n",
      "0.00% cecum\n",
      "0.00% pylorus\n",
      "99.75% retroflex-rectum\n",
      "0.00% ulcerative-colitis-grade-2\n",
      "0.00% ulcerative-colitis-grade-1\n",
      "0.00% bbps-2-3\n",
      "0.00% bbps-0-1\n",
      "0.00% ileum\n",
      "0.18% retroflex-stomach\n",
      "0.00% normal-z-line\n",
      "0.00% ulcerative-colitis-2-3\n",
      "0.00% impacted-stool\n",
      "0.06% polyps\n",
      "0.00% dyed-resection-margins\n",
      "0.01% dyed-lifted-polyps\n",
      "0.00% ulcerative-colitis-grade-3\n",
      "0.00% ulcerative-colitis-1-2\n"
     ]
    },
    {
     "data": {
      "image/png": "[encoded data removed]",
      "text/plain": [
       "<Figure size 432x288 with 1 Axes>"
      ]
     },
     "metadata": {},
     "output_type": "display_data"
    }
   ],
   "source": [
    "# Take one batch of validation data\n",
    "for images, labels in val_ds.take(1):\n",
    "    # Take one image and convert it to numpy\n",
    "    img = images.numpy()[0]\n",
    "    lab = labels.numpy()[0]\n",
    "    # Add one dimension\n",
    "    print (\"label:\", class_names[lab])\n",
    "    show_image(img)\n",
    "    img = np.expand_dims(img, 0)\n",
    "    \n",
    "    prediction = resnet50_model.predict(img, verbose=1)\n",
    "    for i, pred in enumerate(prediction[0]):\n",
    "        print(\"{:0.2f}% {}\".format(pred*100, class_names[i]))"
   ]
  },
  {
   "cell_type": "code",
   "execution_count": 68,
   "metadata": {},
   "outputs": [],
   "source": [
    "def get_filename(file_path):\n",
    "    parts = tf.strings.split(file_path, os.path.sep)\n",
    "    # the last item of parts is the filename\n",
    "    filename = parts[-1]\n",
    "    print (type(filename))\n",
    "    return filename\n",
    "\n",
    "def decode_img(img):\n",
    "    # convert the compressed string to a 3D uint8 tensor\n",
    "    img = tf.image.decode_jpeg(img, channels=3)\n",
    "    # Use `convert_image_dtype` to convert to floats in the [0,1] range.\n",
    "    img = tf.image.convert_image_dtype(img, tf.float32)\n",
    "    # resize the image to the desired size.\n",
    "    return tf.image.resize(img, [config[\"img_shape\"][0], config[\"img_shape\"][1] ])\n",
    "\n",
    "def process_path(file_path):\n",
    "    filename = get_filename(file_path)\n",
    "    # load the raw data from the file as a string\n",
    "    img = tf.io.read_file(file_path)\n",
    "    img = decode_img(img)\n",
    "    return img, filename"
   ]
  },
  {
   "cell_type": "markdown",
   "metadata": {},
   "source": [
    "Read in the unlabeled `test` dataset (which are images taken from the training data)"
   ]
  },
  {
   "cell_type": "code",
   "execution_count": 69,
   "metadata": {},
   "outputs": [
    {
     "name": "stdout",
     "output_type": "stream",
     "text": [
      "<class 'tensorflow.python.framework.ops.Tensor'>\n"
     ]
    }
   ],
   "source": [
    "AUTOTUNE = tf.data.experimental.AUTOTUNE\n",
    "data_dir_unlabeled_test = pathlib.Path('/mnt/sdb/hyper-kvasir/unlabeled-test/')\n",
    "\n",
    "ds_size_unlabeled_test = len(list(data_dir_unlabeled_test.glob('*.*g')))\n",
    "\n",
    "files_string = str(data_dir_unlabeled_test/'*.*g')\n",
    "list_ds_unlabeled_test = tf.data.Dataset.list_files(files_string)\n",
    "\n",
    "unlabeled_ds_test = list_ds_unlabeled_test.map(process_path, num_parallel_calls=AUTOTUNE)"
   ]
  },
  {
   "cell_type": "markdown",
   "metadata": {},
   "source": [
    "Next hurdle: get access to both dataset sample and prediction.  \n",
    "- Predict one and one image?\n",
    "- Predict all at once?  "
   ]
  },
  {
   "cell_type": "markdown",
   "metadata": {},
   "source": [
    "This method works, but predicts one image at a time.. Slow?"
   ]
  },
  {
   "cell_type": "code",
   "execution_count": 73,
   "metadata": {},
   "outputs": [
    {
     "name": "stdout",
     "output_type": "stream",
     "text": [
      "Filename: 1da3b686-6529-4858-aa88-2ecade8a0fcbulcerative-colitis-2-3.jpg\n",
      "1/1 [==============================] - 0s 14ms/sample\n",
      "0.00% hemorrhoids\n",
      "0.00% barretts\n",
      "0.00% esophagitis-a\n",
      "0.00% esophagitis-b-d\n",
      "0.00% ulcerative-colitis-0-1\n",
      "0.00% barretts-short-segment\n",
      "0.00% cecum\n",
      "0.00% pylorus\n",
      "0.00% retroflex-rectum\n",
      "0.01% ulcerative-colitis-grade-2\n",
      "0.00% ulcerative-colitis-grade-1\n",
      "0.00% bbps-2-3\n",
      "0.00% bbps-0-1\n",
      "0.00% ileum\n",
      "0.00% retroflex-stomach\n",
      "0.00% normal-z-line\n",
      "0.00% ulcerative-colitis-2-3\n",
      "0.00% impacted-stool\n",
      "0.00% polyps\n",
      "0.00% dyed-resection-margins\n",
      "0.00% dyed-lifted-polyps\n",
      "99.99% ulcerative-colitis-grade-3\n",
      "0.00% ulcerative-colitis-1-2\n"
     ]
    },
    {
     "data": {
      "image/png": "[encoded data removed]",
      "text/plain": [
       "<Figure size 432x288 with 1 Axes>"
      ]
     },
     "metadata": {},
     "output_type": "display_data"
    }
   ],
   "source": [
    "# Take one image of unlabeled-test set\n",
    "for img, name in unlabeled_ds_test.take(1):\n",
    "    # Convert to numpy and add dimension\n",
    "    print (\"Filename:\", str(name.numpy())[2:-1])\n",
    "    show_image(img.numpy())\n",
    "    img = np.expand_dims(img.numpy(), 0)\n",
    "    prediction = resnet50_model.predict(img, verbose=0)\n",
    "    for i, pred in enumerate(prediction[0]):\n",
    "        print(\"{:0.2f}% {}\".format(pred*100, class_names[i]))"
   ]
  },
  {
   "cell_type": "markdown",
   "metadata": {},
   "source": [
    "Read in the `full` unlabeled dataset"
   ]
  },
  {
   "cell_type": "code",
   "execution_count": 46,
   "metadata": {},
   "outputs": [],
   "source": [
    "data_dir_unlabeled = pathlib.Path('/mnt/sdb/hyper-kvasir/unlabeled/')\n",
    "\n",
    "ds_size_unlabeled = len(list(data_dir_unlabeled.glob('*.*g')))\n",
    "\n",
    "files_string = str(data_dir_unlabeled/'*.*g')\n",
    "list_ds_unlabeled = tf.data.Dataset.list_files(files_string)\n",
    "\n",
    "unlabeled_ds = list_ds_unlabeled.map(process_path, num_parallel_calls=AUTOTUNE)"
   ]
  },
  {
   "cell_type": "code",
   "execution_count": 56,
   "metadata": {},
   "outputs": [],
   "source": [
    "unlabeled_ds = unlabeled_ds.shuffle(3000).batch(128)"
   ]
  },
  {
   "cell_type": "code",
   "execution_count": null,
   "metadata": {},
   "outputs": [],
   "source": []
  },
  {
   "cell_type": "code",
   "execution_count": 82,
   "metadata": {},
   "outputs": [],
   "source": [
    "# Grab one batch\n",
    "for images, names in unlabeled_ds.take(1):\n",
    "    pass\n",
    "\n",
    "predictions = resnet50_model.predict(images, verbose=0)"
   ]
  },
  {
   "cell_type": "code",
   "execution_count": 158,
   "metadata": {},
   "outputs": [
    {
     "name": "stdout",
     "output_type": "stream",
     "text": [
      "File: 76435a7b-566d-40b9-8fd7-0ccd612112a6.jpg\n",
      "0.01% polyps\n"
     ]
    },
    {
     "data": {
      "image/png": "[encoded data removed]",
      "text/plain": [
       "<Figure size 432x288 with 1 Axes>"
      ]
     },
     "metadata": {},
     "output_type": "display_data"
    }
   ],
   "source": [
    "sample_idx = np.random.randint(0, 128)\n",
    "img = images.numpy()[sample_idx]\n",
    "name = names.numpy()[sample_idx]\n",
    "\n",
    "print (\"File:\", str(name)[2:-1])\n",
    "show_image(img)\n",
    "\n",
    "print ((\"{:0.2f}% {}\".format(predictions[sample_idx][18]*100, class_names[18])))\n",
    "\n",
    "# for i, pred in enumerate(predictions[sample_idx]):\n",
    "#     print(\"{:0.2f}% {}\".format(pred*100, class_names[i]))"
   ]
  },
  {
   "cell_type": "code",
   "execution_count": 57,
   "metadata": {},
   "outputs": [
    {
     "ename": "AttributeError",
     "evalue": "'bytes' object has no attribute 'numpy'",
     "output_type": "error",
     "traceback": [
      "\u001b[0;31m---------------------------------------------------------------------------\u001b[0m",
      "\u001b[0;31mAttributeError\u001b[0m                            Traceback (most recent call last)",
      "\u001b[0;32m<ipython-input-57-67381712c8e8>\u001b[0m in \u001b[0;36m<module>\u001b[0;34m\u001b[0m\n\u001b[1;32m      4\u001b[0m     \u001b[0mname\u001b[0m \u001b[0;34m=\u001b[0m \u001b[0mnames\u001b[0m\u001b[0;34m.\u001b[0m\u001b[0mnumpy\u001b[0m\u001b[0;34m(\u001b[0m\u001b[0;34m)\u001b[0m\u001b[0;34m[\u001b[0m\u001b[0;36m0\u001b[0m\u001b[0;34m]\u001b[0m\u001b[0;34m\u001b[0m\u001b[0;34m\u001b[0m\u001b[0m\n\u001b[1;32m      5\u001b[0m     \u001b[0;31m# Convert to numpy and add dimension\u001b[0m\u001b[0;34m\u001b[0m\u001b[0;34m\u001b[0m\u001b[0;34m\u001b[0m\u001b[0m\n\u001b[0;32m----> 6\u001b[0;31m     \u001b[0mprint\u001b[0m \u001b[0;34m(\u001b[0m\u001b[0;34m\"File:\"\u001b[0m\u001b[0;34m,\u001b[0m\u001b[0mstr\u001b[0m\u001b[0;34m(\u001b[0m\u001b[0mname\u001b[0m\u001b[0;34m.\u001b[0m\u001b[0mnumpy\u001b[0m\u001b[0;34m(\u001b[0m\u001b[0;34m)\u001b[0m\u001b[0;34m)\u001b[0m\u001b[0;34m[\u001b[0m\u001b[0;36m2\u001b[0m\u001b[0;34m:\u001b[0m\u001b[0;34m-\u001b[0m\u001b[0;36m1\u001b[0m\u001b[0;34m]\u001b[0m\u001b[0;34m)\u001b[0m\u001b[0;34m\u001b[0m\u001b[0;34m\u001b[0m\u001b[0m\n\u001b[0m\u001b[1;32m      7\u001b[0m     \u001b[0mshow_image\u001b[0m\u001b[0;34m(\u001b[0m\u001b[0mimg\u001b[0m\u001b[0;34m.\u001b[0m\u001b[0mnumpy\u001b[0m\u001b[0;34m(\u001b[0m\u001b[0;34m)\u001b[0m\u001b[0;34m)\u001b[0m\u001b[0;34m\u001b[0m\u001b[0;34m\u001b[0m\u001b[0m\n\u001b[1;32m      8\u001b[0m     \u001b[0mimg\u001b[0m \u001b[0;34m=\u001b[0m \u001b[0mnp\u001b[0m\u001b[0;34m.\u001b[0m\u001b[0mexpand_dims\u001b[0m\u001b[0;34m(\u001b[0m\u001b[0mimg\u001b[0m\u001b[0;34m.\u001b[0m\u001b[0mnumpy\u001b[0m\u001b[0;34m(\u001b[0m\u001b[0;34m)\u001b[0m\u001b[0;34m,\u001b[0m \u001b[0;36m0\u001b[0m\u001b[0;34m)\u001b[0m\u001b[0;34m\u001b[0m\u001b[0;34m\u001b[0m\u001b[0m\n",
      "\u001b[0;31mAttributeError\u001b[0m: 'bytes' object has no attribute 'numpy'"
     ]
    }
   ],
   "source": [
    "# Take one image of unlabeled-test set\n",
    "for img, name in unlabeled_ds.take(1):\n",
    "    # Convert to numpy and add dimension\n",
    "    print (\"File:\",str(name.numpy())[2:-1])\n",
    "    show_image(img.numpy())\n",
    "    img = np.expand_dims(img.numpy(), 0)\n",
    "    prediction = resnet50_model.predict(img, verbose=0)\n",
    "    print (prediction)\n",
    "    for i, pred in enumerate(prediction[0]):\n",
    "        print(\"{:0.2f}% {}\".format(pred*100, class_names[i]))"
   ]
  },
  {
   "cell_type": "code",
   "execution_count": null,
   "metadata": {},
   "outputs": [],
   "source": []
  },
  {
   "cell_type": "code",
   "execution_count": null,
   "metadata": {},
   "outputs": [],
   "source": []
  },
  {
   "cell_type": "code",
   "execution_count": null,
   "metadata": {},
   "outputs": [],
   "source": [
    "unlabeled_pred = resnet50_model.predict(unlabeled_ds, verbose=1)"
   ]
  },
  {
   "cell_type": "code",
   "execution_count": null,
   "metadata": {},
   "outputs": [],
   "source": [
    "for sample, prediction in zip(unlabeled_ds, unlabeled_pred):\n",
    "    pass\n",
    "#     print (sample)\n",
    "#     if idx > 5:\n",
    "#         sys.exit(1)\n",
    "#     idx += 1\n",
    "\n",
    "\n",
    "# count = 0\n",
    "# predictions = unlabeled_pred[count]\n",
    "\n",
    "# for i, pred in enumerate(predictions):\n",
    "#     print(\"{:0.4f} {}\".format(pred, class_names[i]))\n",
    "# print (\"Predicton:\", class_names[np.argmax(predictions)])\n",
    "\n",
    "# plt.figure(frameon=False, facecolor='white')\n",
    "# plt.imshow(image)\n",
    "# plt.axis('off');"
   ]
  },
  {
   "cell_type": "code",
   "execution_count": null,
   "metadata": {},
   "outputs": [],
   "source": [
    "print (class_names[np.argmax(prediction)])"
   ]
  },
  {
   "cell_type": "code",
   "execution_count": null,
   "metadata": {},
   "outputs": [],
   "source": [
    "for i, pred in enumerate(prediction):\n",
    "    print(\"{:0.4f} {}\".format(pred, class_names[i]))"
   ]
  },
  {
   "cell_type": "code",
   "execution_count": null,
   "metadata": {},
   "outputs": [],
   "source": [
    "show_image(sample[0].numpy()[0])"
   ]
  },
  {
   "cell_type": "code",
   "execution_count": null,
   "metadata": {},
   "outputs": [],
   "source": [
    "sample[1].numpy()[0]"
   ]
  },
  {
   "cell_type": "markdown",
   "metadata": {},
   "source": [
    "## Predict new samples"
   ]
  },
  {
   "cell_type": "code",
   "execution_count": null,
   "metadata": {},
   "outputs": [],
   "source": [
    "# Fetch one batch\n",
    "images, labels = next(iter(val_ds))\n",
    "\n",
    "# Convert from tensor to numpy array\n",
    "images = images.numpy()\n",
    "labels = labels.numpy()"
   ]
  },
  {
   "cell_type": "code",
   "execution_count": null,
   "metadata": {},
   "outputs": [],
   "source": [
    "# Get a random image and label\n",
    "rand = np.random.randint(0, config[\"batch_size\"])\n",
    "image = images[rand]\n",
    "label = labels[rand]\n",
    "\n",
    "# Predict one image\n",
    "predictions = resnet50_model.predict(np.expand_dims(image, axis=0))[0]\n",
    "\n",
    "for i, pred in enumerate(predictions):\n",
    "    print(\"{:0.4f} {}\".format(pred, class_names[i]))\n",
    "\n",
    "print (\"\\nLabel:\", class_names[label])\n",
    "print (\"Predicton:\", class_names[np.argmax(predictions)])\n",
    "\n",
    "plt.figure(frameon=False, facecolor='white')\n",
    "plt.imshow(image)\n",
    "plt.axis('off');"
   ]
  },
  {
   "cell_type": "code",
   "execution_count": null,
   "metadata": {},
   "outputs": [],
   "source": [
    "# Predict one batch\n",
    "predictions = resnet50_model.predict(images)\n",
    "\n",
    "print ('{:3}  {:<27} {:27}'.format('idx', 'label', 'pred'))\n",
    "print ('---  {} {}'.format(27*'-', 27*'-'), end='')\n",
    "\n",
    "# make a list to store the wrong predictions\n",
    "wrong_predictions = []\n",
    "\n",
    "for i, pred in enumerate(predictions):\n",
    "    label = class_names[labels[i]]\n",
    "    prediction = class_names[np.argmax(pred)]\n",
    "    print ('\\n{:3}  {:27} {:27}'.format(i, label, prediction), end='')\n",
    "    if (label != prediction): \n",
    "        print (\"-Incorrect-\", end='')\n",
    "        wrong_predictions.append(i)"
   ]
  },
  {
   "cell_type": "code",
   "execution_count": null,
   "metadata": {},
   "outputs": [],
   "source": [
    "# Print info about wrong predictions\n",
    "print(\"List of wrong predictions from batch:\" ,wrong_predictions)\n",
    "color_string = \"\\x1b[31m{:0.4f} {}\\x1b[0m\"\n",
    "\n",
    "for i, wrong_pred in enumerate(wrong_predictions):\n",
    "    \n",
    "    image = images[wrong_pred]\n",
    "    label = labels[wrong_pred]\n",
    "    \n",
    "    # Predict one image\n",
    "    predictions = resnet50_model.predict(np.expand_dims(image, axis=0))[0]\n",
    "    pred_label = np.argmax(predictions)\n",
    "    \n",
    "    print (\"\\n\\nLabel:\", class_names[label])\n",
    "    print (\"Predicton:\", class_names[pred_label])\n",
    "    print (\"-------------------------------------\")\n",
    "    for i, pred in enumerate(predictions):\n",
    "        # print in colors\n",
    "        if i == pred_label:\n",
    "            print(color_string.format(pred, class_names[i]))\n",
    "        else:\n",
    "            print(\"{:0.4f} {}\".format(pred, class_names[i]))\n",
    "\n",
    "#     plt.figure(frameon=False, facecolor='white')\n",
    "#     plt.imshow(image)\n",
    "#     plt.axis('off');"
   ]
  }
 ],
 "metadata": {
  "kernelspec": {
   "display_name": "TF2",
   "language": "python",
   "name": "tf2"
  },
  "language_info": {
   "codemirror_mode": {
    "name": "ipython",
    "version": 3
   },
   "file_extension": ".py",
   "mimetype": "text/x-python",
   "name": "python",
   "nbconvert_exporter": "python",
   "pygments_lexer": "ipython3",
   "version": "3.7.6"
  }
 },
 "nbformat": 4,
 "nbformat_minor": 4
}
