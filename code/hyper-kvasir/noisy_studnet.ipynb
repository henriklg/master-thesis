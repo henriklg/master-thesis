{
 "cells": [
  {
   "cell_type": "markdown",
   "metadata": {},
   "source": [
    "Kvasir dataset split into neg/pos and trained using Resnet50 without augmentation. Getting some decent results after training on resampled data with large step-size.  \n",
    "- Class weighting  \n",
    "- Resampling  \n",
    "- Initial Bias-estimation\n",
    "- Decreasing learning rate"
   ]
  },
  {
   "cell_type": "markdown",
   "metadata": {},
   "source": [
    "### Loading data"
   ]
  },
  {
   "cell_type": "code",
   "execution_count": 2,
   "metadata": {},
   "outputs": [],
   "source": [
    "from __future__ import absolute_import, division, print_function, unicode_literals\n",
    "\n",
    "import tensorflow as tf\n",
    "\n",
    "import numpy as np\n",
    "import os\n",
    "import pathlib\n",
    "import matplotlib.pyplot as plt\n",
    "\n",
    "# Some stuff to make utils-function work\n",
    "import sys\n",
    "sys.path.append('../utils')\n",
    "from data_prep import create_dataset, print_class_info, show_image\n",
    "%load_ext autoreload\n",
    "%autoreload 2\n",
    "\n",
    "# Jupyter-specific\n",
    "%matplotlib inline"
   ]
  },
  {
   "cell_type": "markdown",
   "metadata": {},
   "source": [
    "Some parameters"
   ]
  },
  {
   "cell_type": "code",
   "execution_count": 3,
   "metadata": {},
   "outputs": [],
   "source": [
    "data_dir = pathlib.Path('/mnt/sdb/hyper-kvasir/labeled/')\n",
    "\n",
    "config = {\n",
    "    \"data_dir\": data_dir,\n",
    "    \"cache_dir\": \"./cache\",\n",
    "    \"model\": 'self-trained',\n",
    "    \"ds_info\": 'complete',\n",
    "    \"resample\": False,\n",
    "    \"neg_class\": ['normal-cecum'],\n",
    "    \"num_epochs\": 80,\n",
    "    \"batch_size\": 128,\n",
    "    \"img_shape\": (64, 64, 3),\n",
    "    \"outcast\": None,\n",
    "    \"optimizer\": 'Adam',\n",
    "    \"final_activation\": 'softmax',\n",
    "    \"learning_rate\": 0.01,\n",
    "    \"early_stopping_patience\": 10,\n",
    "    \"decay_rate\": 0.4,              # higher number gives steeper dropoff\n",
    "    \"verbosity\": 1\n",
    "    }\n",
    "\n",
    "model_name = '{}x{}x{}_{}_{}'.format(config[\"num_epochs\"], config[\"batch_size\"], \n",
    "                                     config[\"img_shape\"][1], config[\"ds_info\"], config[\"model\"])\n",
    "\n",
    "fine_tune_from = 130\n",
    "fine_tune_epochs = 30\n",
    "early_stopping_patience = config[\"early_stopping_patience\"]"
   ]
  },
  {
   "cell_type": "markdown",
   "metadata": {},
   "source": [
    "Create training, testing and validation dataset from utils/data_prep.py.  \n",
    "Returns tf.dataset for shuffled, cached and batched data"
   ]
  },
  {
   "cell_type": "code",
   "execution_count": 11,
   "metadata": {},
   "outputs": [
    {
     "name": "stdout",
     "output_type": "stream",
     "text": [
      "Directories:  ['hemorrhoids' 'barretts' 'esophagitis-a' 'esophagitis-b-d'\n",
      " 'ulcerative-colitis-0-1' 'barretts-short-segment' 'cecum' 'pylorus'\n",
      " 'retroflex-rectum' 'ulcerative-colitis-grade-2'\n",
      " 'ulcerative-colitis-grade-1' 'bbps-2-3' 'bbps-0-1' 'ileum'\n",
      " 'retroflex-stomach' 'normal-z-line' 'ulcerative-colitis-2-3'\n",
      " 'impacted-stool' 'polyps' 'dyed-resection-margins' 'dyed-lifted-polyps'\n",
      " 'ulcerative-colitis-grade-3' 'ulcerative-colitis-1-2']\n",
      "\n",
      "hemorrhoids                 :    6 | 0.06%\n",
      "barretts                    :   41 | 0.38%\n",
      "esophagitis-a               :  403 | 3.78%\n",
      "esophagitis-b-d             :  260 | 2.44%\n",
      "ulcerative-colitis-0-1      :   35 | 0.33%\n",
      "barretts-short-segment      :   53 | 0.50%\n",
      "cecum                       : 1009 | 9.46%\n",
      "pylorus                     :  999 | 9.37%\n",
      "retroflex-rectum            :  391 | 3.67%\n",
      "ulcerative-colitis-grade-2  :  443 | 4.15%\n",
      "ulcerative-colitis-grade-1  :  201 | 1.89%\n",
      "bbps-2-3                    : 1148 | 10.77%\n",
      "bbps-0-1                    :  646 | 6.06%\n",
      "ileum                       :    9 | 0.08%\n",
      "retroflex-stomach           :  764 | 7.17%\n",
      "normal-z-line               :  932 | 8.74%\n",
      "ulcerative-colitis-2-3      :   28 | 0.26%\n",
      "impacted-stool              :  131 | 1.23%\n",
      "polyps                      : 1028 | 9.64%\n",
      "dyed-resection-margins      :  989 | 9.28%\n",
      "dyed-lifted-polyps          : 1002 | 9.40%\n",
      "ulcerative-colitis-grade-3  :  133 | 1.25%\n",
      "ulcerative-colitis-1-2      :   11 | 0.10%\n",
      "\n",
      "Total number of images: 10662, in 23 classes.\n",
      "\n",
      "Dataset.list_files:  /mnt/sdb/hyper-kvasir/labeled/*/*.*g \n",
      "\n",
      "WARNING:tensorflow:Entity <function create_dataset.<locals>.get_label at 0x7fcccc073050> could not be transformed and will be executed as-is. Please report this to the AutoGraph team. When filing the bug, set the verbosity to 10 (on Linux, `export AUTOGRAPH_VERBOSITY=10`) and attach the full output. Cause: Cell is empty\n",
      "WARNING: Entity <function create_dataset.<locals>.get_label at 0x7fcccc073050> could not be transformed and will be executed as-is. Please report this to the AutoGraph team. When filing the bug, set the verbosity to 10 (on Linux, `export AUTOGRAPH_VERBOSITY=10`) and attach the full output. Cause: Cell is empty\n",
      "[ 6  7  6 14 20 20 11  7  3 21]\n",
      "[14 19 18  8 18 20 18  7 20 14]\n",
      "[ 9 18  1  6  2  8 19 20 10 11]\n",
      "[ 2  3 19 15 19  6 20 20  5  6]\n",
      "[18  5  6 21 10  8  6 18  7 14]\n",
      "[15 16 11 19 14 20 19 15 18 11]\n",
      "[19 14  3  6  5  3 14  1 15 19]\n",
      "[20  6  8 18 19  3 14  7 11  8]\n",
      "[ 7  7 20  8 12 12 11 21 15 11]\n",
      "[15  7  6 15  6 14 19 19  8 11]\n",
      "\n",
      "Full dataset sample size:        10662\n",
      "Train dataset sample size:        7463\n",
      "Test dataset sample size:         1599\n",
      "Validation dataset sample size:   1600\n"
     ]
    }
   ],
   "source": [
    "train_ds, test_ds, val_ds, params = create_dataset(config)\n",
    "\n",
    "train_steps = params[\"train_size\"] // config[\"batch_size\"]\n",
    "test_steps = params[\"test_size\"] // config[\"batch_size\"]\n",
    "val_steps = params[\"val_size\"] // config[\"batch_size\"]\n",
    "class_names = params[\"class_names\"]\n",
    "neg = params[\"neg_count\"]\n",
    "pos = params[\"pos_count\"]\n",
    "total = params[\"ds_size\"]"
   ]
  },
  {
   "cell_type": "markdown",
   "metadata": {},
   "source": [
    "# Step 1\n",
    "Train a teacher model on labeled images"
   ]
  },
  {
   "cell_type": "code",
   "execution_count": 21,
   "metadata": {},
   "outputs": [],
   "source": [
    "from tensorflow.python.keras.applications import ResNet50\n",
    "from tensorflow.python.keras.models import Sequential, Model\n",
    "from tensorflow.keras.layers import Dense, Dropout, Flatten, GlobalAveragePooling2D, UpSampling2D, BatchNormalization\n",
    "\n",
    "from tensorflow.python.keras.callbacks import EarlyStopping, ModelCheckpoint, TensorBoard, LearningRateScheduler\n",
    "import datetime"
   ]
  },
  {
   "cell_type": "markdown",
   "metadata": {},
   "source": [
    "### Create and compile the model"
   ]
  },
  {
   "cell_type": "code",
   "execution_count": 22,
   "metadata": {},
   "outputs": [],
   "source": [
    "resnet_model = ResNet50(\n",
    "    weights='imagenet',\n",
    "    include_top=False,\n",
    "    input_shape=config[\"img_shape\"]\n",
    ")"
   ]
  },
  {
   "cell_type": "code",
   "execution_count": 52,
   "metadata": {},
   "outputs": [],
   "source": [
    "# Freeze layers in resnet\n",
    "resnet_model.trainable = True\n",
    "\n",
    "# Define model\n",
    "resnet50_model = Sequential()\n",
    "\n",
    "resnet50_model.add(resnet_model)\n",
    "resnet50_model.add(GlobalAveragePooling2D())\n",
    "resnet50_model.add(Dense(params[\"num_classes\"], activation=config[\"final_activation\"]))\n",
    "\n",
    "\n",
    "if config['optimizer'] == 'Adam':\n",
    "    opt = tf.keras.optimizers.Adam(learning_rate=config[\"learning_rate\"])\n",
    "elif config['optimizer'] == 'SGD':\n",
    "    opt = tf.keras.optimizers.SGD(learning_rate=config[\"learning_rate\"])\n",
    "\n",
    "resnet50_model.compile(\n",
    "    optimizer=opt,\n",
    "    loss='sparse_categorical_crossentropy',\n",
    "    metrics=['sparse_categorical_accuracy']\n",
    ")"
   ]
  },
  {
   "cell_type": "code",
   "execution_count": 53,
   "metadata": {},
   "outputs": [
    {
     "name": "stdout",
     "output_type": "stream",
     "text": [
      "Model: \"sequential_6\"\n",
      "_________________________________________________________________\n",
      "Layer (type)                 Output Shape              Param #   \n",
      "=================================================================\n",
      "reshape_2 (Reshape)          (None, 224, 224, 3)       0         \n",
      "_________________________________________________________________\n",
      "resnet50 (Model)             (None, 7, 7, 2048)        23587712  \n",
      "_________________________________________________________________\n",
      "global_average_pooling2d_1 ( (None, 2048)              0         \n",
      "_________________________________________________________________\n",
      "dense_1 (Dense)              (None, 23)                47127     \n",
      "=================================================================\n",
      "Total params: 23,634,839\n",
      "Trainable params: 23,581,719\n",
      "Non-trainable params: 53,120\n",
      "_________________________________________________________________\n"
     ]
    }
   ],
   "source": [
    "if config[\"verbosity\"] > 0:\n",
    "    resnet50_model.summary()"
   ]
  },
  {
   "cell_type": "raw",
   "metadata": {},
   "source": [
    "# Save image of layers\n",
    "tf.keras.utils.plot_model(resnet50_model, 'models/{}.png'.format(model_name), show_shapes=True)"
   ]
  },
  {
   "cell_type": "markdown",
   "metadata": {},
   "source": [
    "### Callbacks"
   ]
  },
  {
   "cell_type": "code",
   "execution_count": 7,
   "metadata": {},
   "outputs": [],
   "source": [
    "# By using LearnignRateScheduler\n",
    "initial_learning_rate = config[\"learning_rate\"]\n",
    "decay_steps = params[\"train_size\"] // config[\"batch_size\"]\n",
    "batch_size = config['batch_size']\n",
    "decay_rate = config['decay_rate']\n",
    "\n",
    "def schedule(epoch):\n",
    "    # calculate new learning rate\n",
    "    learning_rate = initial_learning_rate / (1 + decay_rate * (epoch*batch_size) / decay_steps)\n",
    "    \n",
    "    # update tensorboard\n",
    "    tf.summary.scalar(name='learning_rate', data=learning_rate, step=epoch)\n",
    "    return learning_rate\n",
    "\n",
    "log_dir=\"./logs/{}/\".format(config[\"model\"]) + datetime.datetime.now().strftime(\"%Y%m%d-%H%M%S\")\n",
    "file_writer = tf.summary.create_file_writer(log_dir + \"/metrics\")\n",
    "file_writer.set_as_default()\n",
    "\n",
    "lr_schedule_cb = LearningRateScheduler(schedule, verbose=1)\n",
    "earlystopp_cb = EarlyStopping(monitor='val_loss',verbose=1, patience=early_stopping_patience, restore_best_weights=True)\n",
    "checkpoint_cb = ModelCheckpoint(filepath='./models/best_cp-{epoch:03d}.hdf', monitor='val_loss', save_best_only=True, mode='auto')\n",
    "tensorboard_cb = TensorBoard(log_dir=log_dir, update_freq='batch')\n",
    "\n",
    "callbacks = [tensorboard_cb, lr_schedule_cb]\n",
    "\n",
    "# Write config dictionary to text file\n",
    "f = open(log_dir+\"/config.txt\",\"w\")\n",
    "f.write(str(config))\n",
    "f.close()"
   ]
  },
  {
   "cell_type": "markdown",
   "metadata": {},
   "source": [
    "### Train the model"
   ]
  },
  {
   "cell_type": "code",
   "execution_count": null,
   "metadata": {},
   "outputs": [
    {
     "name": "stdout",
     "output_type": "stream",
     "text": [
      "Train for 3731 steps, validate for 799 steps\n",
      "\n",
      "Epoch 00001: LearningRateScheduler reducing learning rate to 0.01.\n",
      "Epoch 1/80\n",
      "3729/3731 [============================>.] - ETA: 0s - loss: 2.1050 - sparse_categorical_accuracy: 0.3001WARNING:tensorflow:From /home/henrik/anaconda3/envs/TF2/lib/python3.7/site-packages/tensorflow_core/python/ops/resource_variable_ops.py:1781: calling BaseResourceVariable.__init__ (from tensorflow.python.ops.resource_variable_ops) with constraint is deprecated and will be removed in a future version.\n",
      "Instructions for updating:\n",
      "If using Keras pass *_constraint arguments to layers.\n",
      "INFO:tensorflow:Assets written to: ./models/best_cp-001.hdf/assets\n",
      "3731/3731 [==============================] - 356s 95ms/step - loss: 2.1044 - sparse_categorical_accuracy: 0.3003 - val_loss: 3.2209 - val_sparse_categorical_accuracy: 0.3648\n",
      "\n",
      "Epoch 00002: LearningRateScheduler reducing learning rate to 0.009997856262393481.\n",
      "Epoch 2/80\n",
      "3731/3731 [==============================] - 158s 42ms/step - loss: 1.1271 - sparse_categorical_accuracy: 0.5805 - val_loss: 4.7571 - val_sparse_categorical_accuracy: 0.3755\n",
      "\n",
      "Epoch 00003: LearningRateScheduler reducing learning rate to 0.009995713443712159.\n",
      "Epoch 3/80\n",
      "3729/3731 [============================>.] - ETA: 0s - loss: 0.9362 - sparse_categorical_accuracy: 0.6364INFO:tensorflow:Assets written to: ./models/best_cp-003.hdf/assets\n",
      "3731/3731 [==============================] - 182s 49ms/step - loss: 0.9361 - sparse_categorical_accuracy: 0.6364 - val_loss: 1.1237 - val_sparse_categorical_accuracy: 0.6508\n",
      "\n",
      "Epoch 00004: LearningRateScheduler reducing learning rate to 0.009993571543365297.\n",
      "Epoch 4/80\n",
      "3729/3731 [============================>.] - ETA: 0s - loss: 0.8138 - sparse_categorical_accuracy: 0.6846INFO:tensorflow:Assets written to: ./models/best_cp-004.hdf/assets\n",
      "3731/3731 [==============================] - 181s 49ms/step - loss: 0.8137 - sparse_categorical_accuracy: 0.6845 - val_loss: 1.0636 - val_sparse_categorical_accuracy: 0.6608\n",
      "\n",
      "Epoch 00005: LearningRateScheduler reducing learning rate to 0.00999143056076268.\n",
      "Epoch 5/80\n",
      "3731/3731 [==============================] - 157s 42ms/step - loss: 0.7287 - sparse_categorical_accuracy: 0.7186 - val_loss: 1.0935 - val_sparse_categorical_accuracy: 0.6421\n",
      "\n",
      "Epoch 00006: LearningRateScheduler reducing learning rate to 0.009989290495314591.\n",
      "Epoch 6/80\n",
      "3730/3731 [============================>.] - ETA: 0s - loss: 0.6640 - sparse_categorical_accuracy: 0.7425INFO:tensorflow:Assets written to: ./models/best_cp-006.hdf/assets\n",
      "3731/3731 [==============================] - 189s 51ms/step - loss: 0.6641 - sparse_categorical_accuracy: 0.7424 - val_loss: 0.6868 - val_sparse_categorical_accuracy: 0.7478\n",
      "\n",
      "Epoch 00007: LearningRateScheduler reducing learning rate to 0.009987151346431822.\n",
      "Epoch 7/80\n",
      "3731/3731 [==============================] - 168s 45ms/step - loss: 0.6376 - sparse_categorical_accuracy: 0.7546 - val_loss: 0.6918 - val_sparse_categorical_accuracy: 0.7384\n",
      "\n",
      "Epoch 00008: LearningRateScheduler reducing learning rate to 0.009985013113525664.\n",
      "Epoch 8/80\n",
      "3730/3731 [============================>.] - ETA: 0s - loss: 0.6063 - sparse_categorical_accuracy: 0.7674INFO:tensorflow:Assets written to: ./models/best_cp-008.hdf/assets\n",
      "3731/3731 [==============================] - 192s 52ms/step - loss: 0.6062 - sparse_categorical_accuracy: 0.7675 - val_loss: 0.6379 - val_sparse_categorical_accuracy: 0.7703\n",
      "\n",
      "Epoch 00009: LearningRateScheduler reducing learning rate to 0.00998287579600792.\n",
      "Epoch 9/80\n",
      "3729/3731 [============================>.] - ETA: 0s - loss: 0.5805 - sparse_categorical_accuracy: 0.7753INFO:tensorflow:Assets written to: ./models/best_cp-009.hdf/assets\n",
      "3731/3731 [==============================] - 203s 54ms/step - loss: 0.5811 - sparse_categorical_accuracy: 0.7750 - val_loss: 0.5776 - val_sparse_categorical_accuracy: 0.7778\n",
      "\n",
      "Epoch 00010: LearningRateScheduler reducing learning rate to 0.009980739393290888.\n",
      "Epoch 10/80\n",
      "3729/3731 [============================>.] - ETA: 0s - loss: 0.5731 - sparse_categorical_accuracy: 0.7831INFO:tensorflow:Assets written to: ./models/best_cp-010.hdf/assets\n",
      "3731/3731 [==============================] - 197s 53ms/step - loss: 0.5732 - sparse_categorical_accuracy: 0.7829 - val_loss: 0.5348 - val_sparse_categorical_accuracy: 0.8023\n",
      "\n",
      "Epoch 00011: LearningRateScheduler reducing learning rate to 0.009978603904787376.\n",
      "Epoch 11/80\n",
      "3731/3731 [==============================] - 168s 45ms/step - loss: 0.5512 - sparse_categorical_accuracy: 0.7852 - val_loss: 0.6241 - val_sparse_categorical_accuracy: 0.7804\n",
      "\n",
      "Epoch 00012: LearningRateScheduler reducing learning rate to 0.00997646932991069.\n",
      "Epoch 12/80\n",
      "3731/3731 [==============================] - 169s 45ms/step - loss: 0.5280 - sparse_categorical_accuracy: 0.7958 - val_loss: 0.6073 - val_sparse_categorical_accuracy: 0.7872\n",
      "\n",
      "Epoch 00013: LearningRateScheduler reducing learning rate to 0.009974335668074642.\n",
      "Epoch 13/80\n",
      "3731/3731 [==============================] - 170s 45ms/step - loss: 0.5240 - sparse_categorical_accuracy: 0.8017 - val_loss: 0.6138 - val_sparse_categorical_accuracy: 0.7872\n",
      "\n",
      "Epoch 00014: LearningRateScheduler reducing learning rate to 0.009972202918693537.\n",
      "Epoch 14/80\n",
      "3731/3731 [==============================] - 166s 44ms/step - loss: 0.5005 - sparse_categorical_accuracy: 0.8086 - val_loss: 0.8541 - val_sparse_categorical_accuracy: 0.7503\n",
      "\n",
      "Epoch 00015: LearningRateScheduler reducing learning rate to 0.009970071081182193.\n",
      "Epoch 15/80\n",
      "3731/3731 [==============================] - 169s 45ms/step - loss: 0.4851 - sparse_categorical_accuracy: 0.8140 - val_loss: 0.5875 - val_sparse_categorical_accuracy: 0.7685\n",
      "\n",
      "Epoch 00016: LearningRateScheduler reducing learning rate to 0.009967940154955918.\n",
      "Epoch 16/80\n",
      "3729/3731 [============================>.] - ETA: 0s - loss: 0.4756 - sparse_categorical_accuracy: 0.8163"
     ]
    }
   ],
   "source": [
    "history = resnet50_model.fit(\n",
    "    train_ds,\n",
    "    steps_per_epoch = train_steps,\n",
    "    epochs = config[\"num_epochs\"],\n",
    "    validation_data = test_ds,\n",
    "    validation_steps = test_steps,\n",
    "    validation_freq = 1,\n",
    "    callbacks = callbacks\n",
    ")\n",
    "\n",
    "last_epoch = history.epoch[-1]+1\n",
    "\n",
    "# Write history dictionary to text file\n",
    "f = open(log_dir+\"/history.txt\",\"w\")\n",
    "f.write( str(history.history) )\n",
    "f.close()"
   ]
  },
  {
   "cell_type": "markdown",
   "metadata": {},
   "source": [
    "`Keras`\n",
    "Save/load the model"
   ]
  },
  {
   "cell_type": "raw",
   "metadata": {},
   "source": [
    "best_acc =  str(history.history[\"val_sparse_categorical_accuracy\"][-1])[2:4]"
   ]
  },
  {
   "cell_type": "code",
   "execution_count": null,
   "metadata": {},
   "outputs": [],
   "source": [
    "# resnet50_model.save('models/{}.h5'.format(model_name+best_acc))\n",
    "# resnet50_model = tf.keras.models.load_model('models/{}.h5'.format(model_name+\"94\"))\n",
    "resnet50_model = tf.keras.models.load_model(\"/home/henrik/master_thesis/code/hyper-kvasir/models/best_cp-010.hdf\")"
   ]
  },
  {
   "cell_type": "markdown",
   "metadata": {},
   "source": [
    "## Evaluate the model"
   ]
  },
  {
   "cell_type": "code",
   "execution_count": null,
   "metadata": {},
   "outputs": [],
   "source": [
    "resnet50_evaluate = resnet50_model.evaluate(val_ds, verbose=2, steps=val_steps)\n",
    "\n",
    "# Write evaluate dictionary to text file\n",
    "f = open(log_dir+\"/evaluate.txt\",\"w\")\n",
    "f.write( str(resnet50_evaluate) )\n",
    "f.close()"
   ]
  },
  {
   "cell_type": "code",
   "execution_count": null,
   "metadata": {},
   "outputs": [],
   "source": [
    "acc = history.history['sparse_categorical_accuracy']\n",
    "val_acc = history.history['val_sparse_categorical_accuracy']\n",
    "\n",
    "loss = history.history['loss']\n",
    "val_loss = history.history['val_loss']\n",
    "\n",
    "lr = history.history['lr']\n",
    "epochs_range = range(history.epoch[-1]+1)"
   ]
  },
  {
   "cell_type": "code",
   "execution_count": null,
   "metadata": {},
   "outputs": [],
   "source": [
    "# Plot the learning rate\n",
    "plt.figure(figsize=(8, 6))\n",
    "plt.plot(epochs_range, lr, label='Learning Rate')\n",
    "plt.xlabel('Epoch')\n",
    "plt.ylabel('Learnign rate')\n",
    "plt.savefig(log_dir+'/learning_rate.png')\n",
    "plt.title('Adaptive Learning Rate');"
   ]
  },
  {
   "cell_type": "code",
   "execution_count": 22,
   "metadata": {},
   "outputs": [
    {
     "data": {
      "image/png": "[encoded data removed]",
      "text/plain": [
       "<Figure size 1008x432 with 2 Axes>"
      ]
     },
     "metadata": {
      "needs_background": "light"
     },
     "output_type": "display_data"
    }
   ],
   "source": [
    "# Plot train-val accuracy and loss\n",
    "plt.figure(figsize=(14, 6))\n",
    "\n",
    "# Subplot 1\n",
    "plt.subplot(1, 2, 1)\n",
    "plt.plot(epochs_range, acc, label='Training Accuracy')\n",
    "plt.plot(epochs_range, val_acc, label='Validation Accuracy')\n",
    "plt.legend(loc='lower right')\n",
    "# plt.ylim([0.5, 1])\n",
    "plt.xlabel('Epoch')\n",
    "plt.ylabel('Accuracy')\n",
    "plt.title('Training and Validation Accuracy')\n",
    "\n",
    "# Subplot 2\n",
    "plt.subplot(1, 2, 2)\n",
    "plt.plot(epochs_range, loss, label='Training Loss')\n",
    "plt.plot(epochs_range, val_loss, label='Validation Loss')\n",
    "plt.legend(loc='upper right')\n",
    "plt.ylim([0.0, 3])\n",
    "plt.xlabel('Epoch')\n",
    "plt.ylabel('Accuracy')\n",
    "plt.title('Training and Validation Loss')\n",
    "plt.savefig(log_dir+'/accuracy_and_loss.png')\n",
    "plt.show()"
   ]
  },
  {
   "cell_type": "markdown",
   "metadata": {},
   "source": [
    "### Fine tune the model"
   ]
  },
  {
   "cell_type": "raw",
   "metadata": {},
   "source": [
    "res_net.trainable = True\n",
    "\n",
    "# Let's take a look to see how many layers are in the base model\n",
    "print(\"Number of layers in the base model: \", len(res_net.layers))\n",
    "\n",
    "# Freeze all the layers before the `fine_tune_at` layer\n",
    "for layer in res_net.layers[:fine_tune_from]:\n",
    "    layer.trainable = False\n",
    "\n",
    "print(\"Number of layers unfreezed: \", len(resnet50_model.trainable_variables))"
   ]
  },
  {
   "cell_type": "raw",
   "metadata": {},
   "source": [
    "# Drop learning rate by a magnitude\n",
    "initial_learning_rate = config[\"learning_rate\"]/10\n",
    "\n",
    "lr_schedule_cb = LearningRateScheduler(schedule, verbose=1)\n",
    "callbacks = [tensorboard_cb, lr_schedule_cb]"
   ]
  },
  {
   "cell_type": "raw",
   "metadata": {},
   "source": [
    "if config['optimizer'] == 'Adam':\n",
    "    opt = tf.keras.optimizers.Adam(learning_rate=config[\"learning_rate\"])\n",
    "elif config['optimizer'] == 'SGD':\n",
    "    opt = tf.keras.optimizers.SGD(learning_rate=config[\"learning_rate\"])\n",
    "\n",
    "resnet50_model.compile(\n",
    "    optimizer=opt,\n",
    "    loss='sparse_categorical_crossentropy',\n",
    "    metrics=['sparse_categorical_accuracy']\n",
    ")"
   ]
  },
  {
   "cell_type": "raw",
   "metadata": {},
   "source": [
    "total_epochs = last_epoch + fine_tune_epochs\n",
    "\n",
    "history_fine = resnet50_model.fit(\n",
    "    train_ds,\n",
    "    steps_per_epoch = train_steps,\n",
    "    epochs = total_epochs,\n",
    "    initial_epoch = last_epoch,\n",
    "    validation_data = test_ds,\n",
    "    validation_steps = test_steps,\n",
    "    validation_freq = 1,\n",
    "    callbacks = callbacks\n",
    ")\n",
    "\n",
    "last_epoch = history_fine.epoch[-1]+1"
   ]
  },
  {
   "cell_type": "raw",
   "metadata": {},
   "source": [
    "# For fine-tuning\n",
    "acc += history_fine.history['sparse_categorical_accuracy']\n",
    "val_acc += history_fine.history['val_sparse_categorical_accuracy']\n",
    "\n",
    "loss += history_fine.history['loss']\n",
    "val_loss += history_fine.history['val_loss']\n",
    "\n",
    "lr += history_fine.history['lr']"
   ]
  },
  {
   "cell_type": "raw",
   "metadata": {},
   "source": [
    "# Plot the learning rate\n",
    "plt.figure(figsize=(13, 4))\n",
    "plt.plot(range(last_epoch), lr, label='Learning Rate')\n",
    "plt.xlabel('Epoch')\n",
    "plt.ylabel('Learnign rate')\n",
    "plt.savefig(log_dir+'/learning_rate.png')\n",
    "plt.title('Adaptive Learning Rate');\n",
    "\n",
    "# Subplot 1\n",
    "plt.figure(figsize=(14, 8))\n",
    "plt.subplot(2, 1, 1)\n",
    "plt.plot(acc, label='Training Accuracy')\n",
    "plt.plot(val_acc, label='Validation Accuracy')\n",
    "plt.plot([history.epoch[-1]-1,history.epoch[-1]-1],\n",
    "          plt.ylim(), label='Start Fine Tuning')\n",
    "plt.legend(loc='lower right')\n",
    "plt.title('Training and Validation Accuracy')\n",
    "\n",
    "# Subplot 2\n",
    "plt.subplot(2, 1, 2)\n",
    "plt.plot(loss, label='Training Loss')\n",
    "plt.plot(val_loss, label='Validation Loss')\n",
    "plt.ylim([0, 3.0])\n",
    "plt.plot([history.epoch[-1]-1,history.epoch[-1]-1],\n",
    "         plt.ylim(), label='Start Fine Tuning')\n",
    "plt.legend(loc='upper right')\n",
    "plt.title('Training and Validation Loss')\n",
    "plt.xlabel('epoch')\n",
    "plt.show()\n",
    "\n",
    "print (\"Fine tuning from epoch: \", history.epoch[-1])"
   ]
  },
  {
   "cell_type": "markdown",
   "metadata": {},
   "source": [
    "`Tensorboard`"
   ]
  },
  {
   "cell_type": "raw",
   "metadata": {},
   "source": [
    "from tensorboard import notebook\n",
    "# Load the TensorBoard notebook extension\n",
    "%load_ext tensorboard\n",
    "\n",
    "# Start tensorboard\n",
    "%tensorboard --logdir logs\n",
    "\n",
    "notebook.list()"
   ]
  },
  {
   "cell_type": "markdown",
   "metadata": {},
   "source": [
    "# Step 2  \n",
    "Use the teacher to generate pseudo labels on unlabeled images"
   ]
  },
  {
   "cell_type": "code",
   "execution_count": 23,
   "metadata": {},
   "outputs": [],
   "source": [
    "def get_filename(file_path):\n",
    "    parts = tf.strings.split(file_path, os.path.sep)\n",
    "    # the last item of parts is the filename\n",
    "    filename = parts[-1]\n",
    "    return filename\n",
    "\n",
    "def decode_img(img):\n",
    "    # convert the compressed string to a 3D uint8 tensor\n",
    "    img = tf.image.decode_jpeg(img, channels=3)\n",
    "    # Use `convert_image_dtype` to convert to floats in the [0,1] range.\n",
    "    img = tf.image.convert_image_dtype(img, tf.float32)\n",
    "    # resize the image to the desired size.\n",
    "    return tf.image.resize(img, [config[\"img_shape\"][0], config[\"img_shape\"][1] ])\n",
    "\n",
    "def process_path(file_path):\n",
    "    filename = get_filename(file_path)\n",
    "    # load the raw data from the file as a string\n",
    "    img = tf.io.read_file(file_path)\n",
    "    img = decode_img(img)\n",
    "    return img, filename"
   ]
  },
  {
   "cell_type": "code",
   "execution_count": 24,
   "metadata": {},
   "outputs": [],
   "source": [
    "AUTOTUNE = tf.data.experimental.AUTOTUNE\n",
    "data_dir_unlabeled = pathlib.Path('/mnt/sdb/hyper-kvasir/unlabeled-test/')\n",
    "\n",
    "ds_size_unlabeled = len(list(data_dir_unlabeled.glob('*.*g')))\n",
    "\n",
    "files_string = str(data_dir_unlabeled/'*.*g')\n",
    "list_ds_unlabeled = tf.data.Dataset.list_files(files_string)\n",
    "\n",
    "unlabeled_ds = list_ds_unlabeled.map(process_path, num_parallel_calls=AUTOTUNE)"
   ]
  },
  {
   "cell_type": "code",
   "execution_count": 25,
   "metadata": {},
   "outputs": [],
   "source": [
    "unlabeled_ds = unlabeled_ds#.batch(1).prefetch(buffer_size=AUTOTUNE)"
   ]
  },
  {
   "cell_type": "markdown",
   "metadata": {},
   "source": [
    "Next hurdle: get access to both dataset sample and prediction.  \n",
    "- Predict one and one image?\n",
    "- Predict all at once?  "
   ]
  },
  {
   "cell_type": "markdown",
   "metadata": {},
   "source": [
    "This method works, but predicts one image at a time.. Slow?"
   ]
  },
  {
   "cell_type": "code",
   "execution_count": null,
   "metadata": {},
   "outputs": [],
   "source": [
    "# Take one image of unlabeled-test set\n",
    "for img, name in unlabeled_ds.take(1):\n",
    "    # Convert to numpy and add dimension\n",
    "    print (name.numpy())\n",
    "    show_image(img.numpy())\n",
    "    img = np.expand_dims(img.numpy(), 0)\n",
    "    prediction = resnet50_model.predict(img, verbose=1)\n",
    "    for i, pred in enumerate(prediction[0]):\n",
    "        print(\"{:0.2f}% {}\".format(pred*100, class_names[i]))"
   ]
  },
  {
   "cell_type": "code",
   "execution_count": 69,
   "metadata": {},
   "outputs": [
    {
     "name": "stdout",
     "output_type": "stream",
     "text": [
      "label :  ulcerative-colitis-grade-2\n",
      "1/1 [==============================] - 0s 14ms/sample\n",
      "0.00% hemorrhoids\n",
      "0.00% barretts\n",
      "0.00% esophagitis-a\n",
      "0.00% esophagitis-b-d\n",
      "5.00% ulcerative-colitis-0-1\n",
      "0.00% barretts-short-segment\n",
      "5.22% cecum\n",
      "0.00% pylorus\n",
      "0.01% retroflex-rectum\n",
      "76.01% ulcerative-colitis-grade-2\n",
      "8.20% ulcerative-colitis-grade-1\n",
      "0.00% bbps-2-3\n",
      "0.22% bbps-0-1\n",
      "0.80% ileum\n",
      "0.00% retroflex-stomach\n",
      "0.00% normal-z-line\n",
      "1.13% ulcerative-colitis-2-3\n",
      "0.00% impacted-stool\n",
      "0.01% polyps\n",
      "0.00% dyed-resection-margins\n",
      "0.00% dyed-lifted-polyps\n",
      "2.81% ulcerative-colitis-grade-3\n",
      "0.59% ulcerative-colitis-1-2\n"
     ]
    },
    {
     "data": {
      "image/png": "[encoded data removed]",
      "text/plain": [
       "<Figure size 432x288 with 1 Axes>"
      ]
     },
     "metadata": {},
     "output_type": "display_data"
    }
   ],
   "source": [
    "# Take one batch of validation data\n",
    "for images, labels in val_ds.take(1):\n",
    "    # Take one image and convert it to numpy\n",
    "    img = images.numpy()[0]\n",
    "    lab = labels.numpy()[0]\n",
    "    # Add one dimension\n",
    "    print (\"label : \", class_names[lab])\n",
    "    show_image(img)\n",
    "    img = np.expand_dims(img, 0)\n",
    "    \n",
    "    prediction = resnet50_model.predict(img, verbose=1)\n",
    "    for i, pred in enumerate(prediction[0]):\n",
    "        print(\"{:0.2f}% {}\".format(pred*100, class_names[i]))"
   ]
  },
  {
   "cell_type": "code",
   "execution_count": null,
   "metadata": {},
   "outputs": [],
   "source": [
    "unlabeled_pred = resnet50_model.predict(unlabeled_ds, verbose=1)"
   ]
  },
  {
   "cell_type": "code",
   "execution_count": null,
   "metadata": {},
   "outputs": [],
   "source": [
    "for sample, prediction in zip(unlabeled_ds, unlabeled_pred):\n",
    "    pass\n",
    "#     print (sample)\n",
    "#     if idx > 5:\n",
    "#         sys.exit(1)\n",
    "#     idx += 1\n",
    "\n",
    "\n",
    "# count = 0\n",
    "# predictions = unlabeled_pred[count]\n",
    "\n",
    "# for i, pred in enumerate(predictions):\n",
    "#     print(\"{:0.4f} {}\".format(pred, class_names[i]))\n",
    "# print (\"Predicton:\", class_names[np.argmax(predictions)])\n",
    "\n",
    "# plt.figure(frameon=False, facecolor='white')\n",
    "# plt.imshow(image)\n",
    "# plt.axis('off');"
   ]
  },
  {
   "cell_type": "code",
   "execution_count": null,
   "metadata": {},
   "outputs": [],
   "source": [
    "print (class_names[np.argmax(prediction)])"
   ]
  },
  {
   "cell_type": "code",
   "execution_count": null,
   "metadata": {},
   "outputs": [],
   "source": [
    "for i, pred in enumerate(prediction):\n",
    "    print(\"{:0.4f} {}\".format(pred, class_names[i]))"
   ]
  },
  {
   "cell_type": "code",
   "execution_count": null,
   "metadata": {},
   "outputs": [],
   "source": [
    "show_image(sample[0].numpy()[0])"
   ]
  },
  {
   "cell_type": "code",
   "execution_count": null,
   "metadata": {},
   "outputs": [],
   "source": [
    "sample[1].numpy()[0]"
   ]
  },
  {
   "cell_type": "markdown",
   "metadata": {},
   "source": [
    "## Predict new samples"
   ]
  },
  {
   "cell_type": "code",
   "execution_count": null,
   "metadata": {},
   "outputs": [],
   "source": [
    "# Fetch one batch\n",
    "images, labels = next(iter(val_ds))\n",
    "\n",
    "# Convert from tensor to numpy array\n",
    "images = images.numpy()\n",
    "labels = labels.numpy()"
   ]
  },
  {
   "cell_type": "code",
   "execution_count": null,
   "metadata": {},
   "outputs": [],
   "source": [
    "# Get a random image and label\n",
    "rand = np.random.randint(0, config[\"batch_size\"])\n",
    "image = images[rand]\n",
    "label = labels[rand]\n",
    "\n",
    "# Predict one image\n",
    "predictions = resnet50_model.predict(np.expand_dims(image, axis=0))[0]\n",
    "\n",
    "for i, pred in enumerate(predictions):\n",
    "    print(\"{:0.4f} {}\".format(pred, class_names[i]))\n",
    "\n",
    "print (\"\\nLabel:\", class_names[label])\n",
    "print (\"Predicton:\", class_names[np.argmax(predictions)])\n",
    "\n",
    "plt.figure(frameon=False, facecolor='white')\n",
    "plt.imshow(image)\n",
    "plt.axis('off');"
   ]
  },
  {
   "cell_type": "code",
   "execution_count": null,
   "metadata": {},
   "outputs": [],
   "source": [
    "# Predict one batch\n",
    "predictions = resnet50_model.predict(images)\n",
    "\n",
    "print ('{:3}  {:<27} {:27}'.format('idx', 'label', 'pred'))\n",
    "print ('---  {} {}'.format(27*'-', 27*'-'), end='')\n",
    "\n",
    "# make a list to store the wrong predictions\n",
    "wrong_predictions = []\n",
    "\n",
    "for i, pred in enumerate(predictions):\n",
    "    label = class_names[labels[i]]\n",
    "    prediction = class_names[np.argmax(pred)]\n",
    "    print ('\\n{:3}  {:27} {:27}'.format(i, label, prediction), end='')\n",
    "    if (label != prediction): \n",
    "        print (\"-Incorrect-\", end='')\n",
    "        wrong_predictions.append(i)"
   ]
  },
  {
   "cell_type": "code",
   "execution_count": null,
   "metadata": {},
   "outputs": [],
   "source": [
    "# Print info about wrong predictions\n",
    "print(\"List of wrong predictions from batch:\" ,wrong_predictions)\n",
    "color_string = \"\\x1b[31m{:0.4f} {}\\x1b[0m\"\n",
    "\n",
    "for i, wrong_pred in enumerate(wrong_predictions):\n",
    "    \n",
    "    image = images[wrong_pred]\n",
    "    label = labels[wrong_pred]\n",
    "    \n",
    "    # Predict one image\n",
    "    predictions = resnet50_model.predict(np.expand_dims(image, axis=0))[0]\n",
    "    pred_label = np.argmax(predictions)\n",
    "    \n",
    "    print (\"\\n\\nLabel:\", class_names[label])\n",
    "    print (\"Predicton:\", class_names[pred_label])\n",
    "    print (\"-------------------------------------\")\n",
    "    for i, pred in enumerate(predictions):\n",
    "        # print in colors\n",
    "        if i == pred_label:\n",
    "            print(color_string.format(pred, class_names[i]))\n",
    "        else:\n",
    "            print(\"{:0.4f} {}\".format(pred, class_names[i]))\n",
    "\n",
    "#     plt.figure(frameon=False, facecolor='white')\n",
    "#     plt.imshow(image)\n",
    "#     plt.axis('off');"
   ]
  }
 ],
 "metadata": {
  "kernelspec": {
   "display_name": "TF2",
   "language": "python",
   "name": "tf2"
  },
  "language_info": {
   "codemirror_mode": {
    "name": "ipython",
    "version": 3
   },
   "file_extension": ".py",
   "mimetype": "text/x-python",
   "name": "python",
   "nbconvert_exporter": "python",
   "pygments_lexer": "ipython3",
   "version": "3.7.6"
  }
 },
 "nbformat": 4,
 "nbformat_minor": 4
}
