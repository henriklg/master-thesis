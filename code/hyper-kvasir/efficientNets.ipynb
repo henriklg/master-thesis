{
 "cells": [
  {
   "cell_type": "markdown",
   "metadata": {},
   "source": [
    "Kvasir dataset split into neg/pos and trained using Resnet50 without augmentation. Getting some decent results after training on resampled data with large step-size.  \n",
    "- Class weighting  \n",
    "- Resampling  \n",
    "- Initial Bias-estimation\n",
    "- Decreasing learning rate"
   ]
  },
  {
   "cell_type": "markdown",
   "metadata": {},
   "source": [
    "### Loading data"
   ]
  },
  {
   "cell_type": "code",
   "execution_count": 1,
   "metadata": {},
   "outputs": [],
   "source": [
    "from __future__ import absolute_import, division, print_function, unicode_literals\n",
    "\n",
    "import tensorflow as tf\n",
    "\n",
    "import numpy as np\n",
    "import time\n",
    "import os\n",
    "import pathlib\n",
    "import matplotlib.pyplot as plt\n",
    " \n",
    "# Some stuff to make utils-function work\n",
    "import sys\n",
    "sys.path.append('../utils')\n",
    "from data_prep import create_dataset, print_class_info, show_image\n",
    "%load_ext autoreload\n",
    "%autoreload 2\n",
    "\n",
    "# Jupyter-specific\n",
    "%matplotlib inline"
   ]
  },
  {
   "cell_type": "markdown",
   "metadata": {},
   "source": [
    "Some parameters"
   ]
  },
  {
   "cell_type": "code",
   "execution_count": 4,
   "metadata": {},
   "outputs": [],
   "source": [
    "data_dir = pathlib.Path('/home/henrik/master-thesis/data/hyper-kvasir/labeled/')\n",
    "\n",
    "config = {\n",
    "    # Dataset\n",
    "    \"data_dir\": data_dir,\n",
    "    \"cache_dir\": \"./cache\",\n",
    "    \"ds_info\": 'hyp-kva',\n",
    "    \"resample\": True,\n",
    "    \"shuffle_buffer_size\": 0,\n",
    "    \"neg_class\": ['normal-cecum'],\n",
    "    \"outcast\": None,\n",
    "    # Model\n",
    "    \"model\": 'EfficientNetB0',\n",
    "    \"num_epochs\": 80,\n",
    "    \"batch_size\": 128,\n",
    "    \"img_shape\": (64, 64, 3),\n",
    "    \"learning_rate\": 0.01,\n",
    "    \"optimizer\": 'Adam',\n",
    "    \"final_activation\": 'softmax',\n",
    "    # Callbacks\n",
    "    \"learning_schedule\": True,\n",
    "    \"checkpoint\": True,\n",
    "    \"early_stopping\": True,\n",
    "    \"early_stopping_patience\": 10,\n",
    "    \"decay_rate\": 0.05,              # higher number gives steeper dropoff\n",
    "    # Misc\n",
    "    \"verbosity\": 1\n",
    "    }\n",
    "\n",
    "model_name = '{}x{}x{}_{}_{}'.format(config[\"num_epochs\"], config[\"batch_size\"], \n",
    "                                     config[\"img_shape\"][1], config[\"ds_info\"], config[\"model\"])\n",
    "\n",
    "fine_tune_from = 130\n",
    "fine_tune_epochs = 30\n",
    "early_stopping_patience = config[\"early_stopping_patience\"]"
   ]
  },
  {
   "cell_type": "markdown",
   "metadata": {},
   "source": [
    "Create training, testing and validation dataset from utils/data_prep.py.  \n",
    "Returns tf.dataset for shuffled, cached and batched data"
   ]
  },
  {
   "cell_type": "code",
   "execution_count": 5,
   "metadata": {},
   "outputs": [
    {
     "name": "stdout",
     "output_type": "stream",
     "text": [
      "barretts-short-segment      :   53 | 0.50%\n",
      "bbps-0-1                    :  646 | 6.06%\n",
      "impacted-stool              :  131 | 1.23%\n",
      "bbps-2-3                    : 1148 | 10.77%\n",
      "hemorrhoids                 :    6 | 0.06%\n",
      "ulcerative-colitis-grade-2  :  443 | 4.15%\n",
      "normal-z-line               :  932 | 8.74%\n",
      "retroflex-stomach           :  764 | 7.17%\n",
      "esophagitis-b-d             :  260 | 2.44%\n",
      "dyed-resection-margins      :  989 | 9.28%\n",
      "ileum                       :    9 | 0.08%\n",
      "ulcerative-colitis-0-1      :   35 | 0.33%\n",
      "dyed-lifted-polyps          : 1002 | 9.40%\n",
      "polyps                      : 1028 | 9.64%\n",
      "ulcerative-colitis-2-3      :   28 | 0.26%\n",
      "ulcerative-colitis-1-2      :   11 | 0.10%\n",
      "ulcerative-colitis-grade-3  :  133 | 1.25%\n",
      "retroflex-rectum            :  391 | 3.67%\n",
      "esophagitis-a               :  403 | 3.78%\n",
      "ulcerative-colitis-grade-1  :  201 | 1.89%\n",
      "pylorus                     :  999 | 9.37%\n",
      "cecum                       : 1009 | 9.46%\n",
      "barretts                    :   41 | 0.38%\n",
      "\n",
      "Total number of images: 10662, in 23 classes.\n",
      "\n",
      "Dataset.list_files:  /home/henrik/master-thesis/data/hyper-kvasir/labeled/*/*.*g \n",
      "\n",
      "WARNING:tensorflow:AutoGraph could not transform <function create_dataset.<locals>.get_label at 0x7fd310091e60> and will run it as-is.\n",
      "Please report this to the TensorFlow team. When filing the bug, set the verbosity to 10 (on Linux, `export AUTOGRAPH_VERBOSITY=10`) and attach the full output.\n",
      "Cause: Cell is empty\n",
      "WARNING: AutoGraph could not transform <function create_dataset.<locals>.get_label at 0x7fd310091e60> and will run it as-is.\n",
      "Please report this to the TensorFlow team. When filing the bug, set the verbosity to 10 (on Linux, `export AUTOGRAPH_VERBOSITY=10`) and attach the full output.\n",
      "Cause: Cell is empty\n",
      "[20 12  3  6  9 20 13  5 20 22]\n",
      "[18  9  9 18 17  3  2 20 13 12]\n",
      "[ 3 21 13  1  6  7 12 17  5 13]\n",
      "[21  9  7  9 12  7 20 11  9 20]\n",
      "[ 3 13  1 17 21 20  9  6 13  9]\n",
      "[ 6 20  9  5  9 12  9  1  7 12]\n",
      "[19 19  9  1 21 16 17 21  3 18]\n",
      "[ 5  9 21 12  6 21  6 13 12  7]\n",
      "[12  1 18 12 12  6  3 15  9 12]\n",
      "[ 3 20  3  6  6  7  1  6 12  6]\n",
      "\n",
      "Beginning resampling..\n",
      "---- Fractions ---- \n",
      "[0.00497092 0.06058901 0.01228663 0.10767211 0.00056275 0.04154943\n",
      " 0.08741324 0.07165635 0.02438567 0.09275933 0.00084412 0.00328269\n",
      " 0.09397861 0.09641718 0.00262615 0.0010317  0.01247421 0.03667229\n",
      " 0.03779779 0.018852   0.09369724 0.09463515 0.00384543]\n",
      "\n",
      "---- Fractions after resampling ---.\n",
      "[0.05333333 0.06       0.03333334 0.04666667 0.06       0.02\n",
      " 0.04666667 0.06       0.02       0.03333334 0.04       0.09333333\n",
      " 0.05333333 0.03333334 0.02       0.03333334 0.06666667 0.04666667\n",
      " 0.05333333 0.03333334 0.02666667 0.03333334 0.03333334]\n",
      "\n",
      "Full dataset sample size:        10662\n",
      "Train dataset sample size:        7463\n",
      "Test dataset sample size:         1599\n",
      "Validation dataset sample size:   1599\n"
     ]
    }
   ],
   "source": [
    "train_ds, test_ds, val_ds, params = create_dataset(config)\n",
    "\n",
    "train_steps = params[\"train_size\"] // config[\"batch_size\"]\n",
    "test_steps = params[\"test_size\"] // config[\"batch_size\"]\n",
    "val_steps = params[\"val_size\"] // config[\"batch_size\"]\n",
    "class_names = params[\"class_names\"]"
   ]
  },
  {
   "cell_type": "markdown",
   "metadata": {},
   "source": [
    "# Step 1\n",
    "Train a teacher model on labeled images"
   ]
  },
  {
   "cell_type": "code",
   "execution_count": 6,
   "metadata": {},
   "outputs": [],
   "source": [
    "from tensorflow.python.keras.models import Sequential, Model\n",
    "from tensorflow.keras import layers"
   ]
  },
  {
   "cell_type": "markdown",
   "metadata": {},
   "source": [
    "### Create and compile the model"
   ]
  },
  {
   "cell_type": "code",
   "execution_count": 7,
   "metadata": {},
   "outputs": [
    {
     "name": "stderr",
     "output_type": "stream",
     "text": [
      "Using TensorFlow backend.\n"
     ]
    }
   ],
   "source": [
    "from efficientnet import EfficientNetB0 as EfficientNet\n",
    "\n",
    "# from efficientnet import center_crop_and_resize, preprocess_input"
   ]
  },
  {
   "cell_type": "code",
   "execution_count": 8,
   "metadata": {},
   "outputs": [],
   "source": [
    "efficientnet_base = EfficientNet(\n",
    "    weights=\"imagenet\",\n",
    "    include_top=False, \n",
    "    input_shape=config[\"img_shape\"]\n",
    ")"
   ]
  },
  {
   "cell_type": "code",
   "execution_count": 9,
   "metadata": {},
   "outputs": [],
   "source": [
    "# Unfreeze the layers. I.E we're just using the pre-trained weights as initial weigths and biases and train over them\n",
    "efficientnet_base.trainable = True\n",
    "\n",
    "# Define model\n",
    "en_model = Sequential()\n",
    "en_model.add(efficientnet_base)\n",
    "en_model.add(layers.GlobalAveragePooling2D())\n",
    "# en_model.add(layers.Dropout(0.2))\n",
    "# en_model.add(layers.Dense(256, activation='relu'))\n",
    "en_model.add(layers.Dense(params[\"num_classes\"], activation=config[\"final_activation\"]))\n",
    "\n",
    "if config['optimizer'] == 'Adam':\n",
    "    opt = tf.keras.optimizers.Adam(learning_rate=config[\"learning_rate\"])\n",
    "elif config['optimizer'] == 'SGD':\n",
    "    opt = tf.keras.optimizers.SGD(learning_rate=config[\"learning_rate\"])\n",
    "\n",
    "en_model.compile(\n",
    "    optimizer=opt,\n",
    "    loss='sparse_categorical_crossentropy',\n",
    "    metrics=['sparse_categorical_accuracy']\n",
    ")"
   ]
  },
  {
   "cell_type": "code",
   "execution_count": 10,
   "metadata": {},
   "outputs": [
    {
     "name": "stdout",
     "output_type": "stream",
     "text": [
      "Model: \"sequential\"\n",
      "_________________________________________________________________\n",
      "Layer (type)                 Output Shape              Param #   \n",
      "=================================================================\n",
      "efficientnet-b0 (Model)      (None, 2, 2, 1280)        4049564   \n",
      "_________________________________________________________________\n",
      "global_average_pooling2d (Gl (None, 1280)              0         \n",
      "_________________________________________________________________\n",
      "dense (Dense)                (None, 23)                29463     \n",
      "=================================================================\n",
      "Total params: 4,079,027\n",
      "Trainable params: 4,037,011\n",
      "Non-trainable params: 42,016\n",
      "_________________________________________________________________\n"
     ]
    }
   ],
   "source": [
    "en_model.summary()"
   ]
  },
  {
   "cell_type": "markdown",
   "metadata": {},
   "source": [
    "### Callbacks"
   ]
  },
  {
   "cell_type": "code",
   "execution_count": 11,
   "metadata": {},
   "outputs": [],
   "source": [
    "from tensorflow.python.keras.callbacks import EarlyStopping, ModelCheckpoint, TensorBoard, LearningRateScheduler\n",
    "import datetime"
   ]
  },
  {
   "cell_type": "code",
   "execution_count": 12,
   "metadata": {},
   "outputs": [],
   "source": [
    "# By using LearnignRateScheduler\n",
    "initial_learning_rate = config[\"learning_rate\"]\n",
    "decay_steps = params[\"train_size\"] // config[\"batch_size\"]\n",
    "batch_size = config['batch_size']\n",
    "decay_rate = config['decay_rate']\n",
    "\n",
    "def schedule(epoch):\n",
    "    # calculate new learning rate\n",
    "    learning_rate = initial_learning_rate / (1 + decay_rate * (epoch*batch_size) / decay_steps)\n",
    "    \n",
    "    # update tensorboard\n",
    "    tf.summary.scalar(name='learning_rate', data=learning_rate, step=epoch)\n",
    "    return learning_rate\n",
    "\n",
    "log_dir=\"./logs/{}/\".format(config[\"model\"]) + datetime.datetime.now().strftime(\"%Y%m%d-%H%M%S\")\n",
    "file_writer = tf.summary.create_file_writer(log_dir + \"/metrics\")\n",
    "file_writer.set_as_default()\n",
    "\n",
    "lr_schedule_cb = LearningRateScheduler(schedule, verbose=1)\n",
    "earlystopp_cb = EarlyStopping(monitor='val_loss',verbose=1, patience=early_stopping_patience, restore_best_weights=True)\n",
    "checkpoint_cb = ModelCheckpoint(filepath='./models/best_cp-{epoch:03d}.hdf', monitor='val_loss', save_best_only=True, mode='auto')\n",
    "tensorboard_cb = TensorBoard(log_dir=log_dir, update_freq='batch')\n",
    "\n",
    "callbacks = [tensorboard_cb]\n",
    "if config[\"early_stopping\"]: callbacks.append(earlystopp_cb)\n",
    "if config[\"learning_schedule\"]: callbacks.append(lr_schedule_cb)\n",
    "if config[\"checkpoint\"]: callbacks.append(checkpoint_cb)\n",
    "\n",
    "# Write config dictionary to text file\n",
    "f = open(log_dir+\"/config.txt\",\"w\")\n",
    "f.write(str(config))\n",
    "f.close()"
   ]
  },
  {
   "cell_type": "code",
   "execution_count": 13,
   "metadata": {},
   "outputs": [
    {
     "name": "stdout",
     "output_type": "stream",
     "text": [
      "Train for 58 steps, validate for 12 steps\n",
      "\n",
      "Epoch 00001: LearningRateScheduler reducing learning rate to 0.01.\n",
      "Epoch 1/80\n",
      "57/58 [============================>.] - ETA: 0s - loss: 1.1831 - sparse_categorical_accuracy: 0.6442WARNING:tensorflow:From /home/henrik/anaconda3/envs/TF2/lib/python3.7/site-packages/tensorflow_core/python/ops/resource_variable_ops.py:1786: calling BaseResourceVariable.__init__ (from tensorflow.python.ops.resource_variable_ops) with constraint is deprecated and will be removed in a future version.\n",
      "Instructions for updating:\n",
      "If using Keras pass *_constraint arguments to layers.\n",
      "INFO:tensorflow:Assets written to: ./models/best_cp-001.hdf/assets\n",
      "58/58 [==============================] - 33s 567ms/step - loss: 1.1783 - sparse_categorical_accuracy: 0.6452 - val_loss: 6031.6906 - val_sparse_categorical_accuracy: 0.1035\n",
      "\n",
      "Epoch 00002: LearningRateScheduler reducing learning rate to 0.009006211180124225.\n",
      "Epoch 2/80\n",
      "57/58 [============================>.] - ETA: 0s - loss: 0.5707 - sparse_categorical_accuracy: 0.7914INFO:tensorflow:Assets written to: ./models/best_cp-002.hdf/assets\n",
      "58/58 [==============================] - 25s 430ms/step - loss: 0.5701 - sparse_categorical_accuracy: 0.7922 - val_loss: 125.3974 - val_sparse_categorical_accuracy: 0.1152\n",
      "\n",
      "Epoch 00003: LearningRateScheduler reducing learning rate to 0.008192090395480226.\n",
      "Epoch 3/80\n",
      "57/58 [============================>.] - ETA: 0s - loss: 0.4297 - sparse_categorical_accuracy: 0.8458INFO:tensorflow:Assets written to: ./models/best_cp-003.hdf/assets\n",
      "58/58 [==============================] - 24s 421ms/step - loss: 0.4291 - sparse_categorical_accuracy: 0.8470 - val_loss: 7.0820 - val_sparse_categorical_accuracy: 0.5501\n",
      "\n",
      "Epoch 00004: LearningRateScheduler reducing learning rate to 0.007512953367875648.\n",
      "Epoch 4/80\n",
      "57/58 [============================>.] - ETA: 0s - loss: 0.3824 - sparse_categorical_accuracy: 0.8587- ETA: 2s - loss: 0.3842 - INFO:tensorflow:Assets written to: ./models/best_cp-004.hdf/assets\n",
      "58/58 [==============================] - 25s 425ms/step - loss: 0.3826 - sparse_categorical_accuracy: 0.8591 - val_loss: 3.1010 - val_sparse_categorical_accuracy: 0.5475\n",
      "\n",
      "Epoch 00005: LearningRateScheduler reducing learning rate to 0.006937799043062201.\n",
      "Epoch 5/80\n",
      "57/58 [============================>.] - ETA: 0s - loss: 0.3363 - sparse_categorical_accuracy: 0.8808INFO:tensorflow:Assets written to: ./models/best_cp-005.hdf/assets\n",
      "58/58 [==============================] - 25s 432ms/step - loss: 0.3355 - sparse_categorical_accuracy: 0.8809 - val_loss: 2.8334 - val_sparse_categorical_accuracy: 0.5788\n",
      "\n",
      "Epoch 00006: LearningRateScheduler reducing learning rate to 0.0064444444444444445.\n",
      "Epoch 6/80\n",
      "57/58 [============================>.] - ETA: 0s - loss: 0.2977 - sparse_categorical_accuracy: 0.8946INFO:tensorflow:Assets written to: ./models/best_cp-006.hdf/assets\n",
      "58/58 [==============================] - 26s 445ms/step - loss: 0.2957 - sparse_categorical_accuracy: 0.8952 - val_loss: 1.7155 - val_sparse_categorical_accuracy: 0.6504\n",
      "\n",
      "Epoch 00007: LearningRateScheduler reducing learning rate to 0.006016597510373444.\n",
      "Epoch 7/80\n",
      "58/58 [==============================] - 4s 77ms/step - loss: 0.2807 - sparse_categorical_accuracy: 0.9014 - val_loss: 2.0719 - val_sparse_categorical_accuracy: 0.7207\n",
      "\n",
      "Epoch 00008: LearningRateScheduler reducing learning rate to 0.005642023346303501.\n",
      "Epoch 8/80\n",
      "57/58 [============================>.] - ETA: 0s - loss: 0.2796 - sparse_categorical_accuracy: 0.9050INFO:tensorflow:Assets written to: ./models/best_cp-008.hdf/assets\n",
      "58/58 [==============================] - 25s 425ms/step - loss: 0.2785 - sparse_categorical_accuracy: 0.9050 - val_loss: 1.5805 - val_sparse_categorical_accuracy: 0.7031\n",
      "\n",
      "Epoch 00009: LearningRateScheduler reducing learning rate to 0.005311355311355312.\n",
      "Epoch 9/80\n",
      "57/58 [============================>.] - ETA: 0s - loss: 0.2399 - sparse_categorical_accuracy: 0.9165INFO:tensorflow:Assets written to: ./models/best_cp-009.hdf/assets\n",
      "58/58 [==============================] - 25s 431ms/step - loss: 0.2404 - sparse_categorical_accuracy: 0.9164 - val_loss: 0.8482 - val_sparse_categorical_accuracy: 0.8132\n",
      "\n",
      "Epoch 00010: LearningRateScheduler reducing learning rate to 0.005017301038062284.\n",
      "Epoch 10/80\n",
      "57/58 [============================>.] - ETA: 0s - loss: 0.2027 - sparse_categorical_accuracy: 0.9296INFO:tensorflow:Assets written to: ./models/best_cp-010.hdf/assets\n",
      "58/58 [==============================] - 26s 440ms/step - loss: 0.2013 - sparse_categorical_accuracy: 0.9298 - val_loss: 0.4595 - val_sparse_categorical_accuracy: 0.8809\n",
      "\n",
      "Epoch 00011: LearningRateScheduler reducing learning rate to 0.004754098360655738.\n",
      "Epoch 11/80\n",
      "58/58 [==============================] - 5s 79ms/step - loss: 0.1811 - sparse_categorical_accuracy: 0.9324 - val_loss: 0.8196 - val_sparse_categorical_accuracy: 0.7897\n",
      "\n",
      "Epoch 00012: LearningRateScheduler reducing learning rate to 0.004517133956386293.\n",
      "Epoch 12/80\n",
      "58/58 [==============================] - 4s 76ms/step - loss: 0.1558 - sparse_categorical_accuracy: 0.9436 - val_loss: 0.7976 - val_sparse_categorical_accuracy: 0.8145\n",
      "\n",
      "Epoch 00013: LearningRateScheduler reducing learning rate to 0.0043026706231454005.\n",
      "Epoch 13/80\n",
      "58/58 [==============================] - 5s 78ms/step - loss: 0.1403 - sparse_categorical_accuracy: 0.9516 - val_loss: 1.0531 - val_sparse_categorical_accuracy: 0.7988\n",
      "\n",
      "Epoch 00014: LearningRateScheduler reducing learning rate to 0.004107648725212464.\n",
      "Epoch 14/80\n",
      "58/58 [==============================] - 4s 74ms/step - loss: 0.1174 - sparse_categorical_accuracy: 0.9592 - val_loss: 0.6094 - val_sparse_categorical_accuracy: 0.8620\n",
      "\n",
      "Epoch 00015: LearningRateScheduler reducing learning rate to 0.003929539295392953.\n",
      "Epoch 15/80\n",
      "58/58 [==============================] - 4s 74ms/step - loss: 0.1065 - sparse_categorical_accuracy: 0.9662 - val_loss: 0.6892 - val_sparse_categorical_accuracy: 0.8737\n",
      "\n",
      "Epoch 00016: LearningRateScheduler reducing learning rate to 0.0037662337662337664.\n",
      "Epoch 16/80\n",
      "57/58 [============================>.] - ETA: 0s - loss: 0.0768 - sparse_categorical_accuracy: 0.9751INFO:tensorflow:Assets written to: ./models/best_cp-016.hdf/assets\n",
      "58/58 [==============================] - 25s 433ms/step - loss: 0.0762 - sparse_categorical_accuracy: 0.9754 - val_loss: 0.3652 - val_sparse_categorical_accuracy: 0.9167\n",
      "\n",
      "Epoch 00017: LearningRateScheduler reducing learning rate to 0.0036159600997506237.\n",
      "Epoch 17/80\n",
      "58/58 [==============================] - 5s 80ms/step - loss: 0.0639 - sparse_categorical_accuracy: 0.9803 - val_loss: 0.3662 - val_sparse_categorical_accuracy: 0.9232\n",
      "\n",
      "Epoch 00018: LearningRateScheduler reducing learning rate to 0.003477218225419664.\n",
      "Epoch 18/80\n",
      "58/58 [==============================] - 5s 78ms/step - loss: 0.0554 - sparse_categorical_accuracy: 0.9820 - val_loss: 0.4228 - val_sparse_categorical_accuracy: 0.9128\n",
      "\n",
      "Epoch 00019: LearningRateScheduler reducing learning rate to 0.003348729792147806.\n",
      "Epoch 19/80\n",
      "58/58 [==============================] - 5s 78ms/step - loss: 0.0503 - sparse_categorical_accuracy: 0.9825 - val_loss: 0.3901 - val_sparse_categorical_accuracy: 0.9238\n",
      "\n",
      "Epoch 00020: LearningRateScheduler reducing learning rate to 0.0032293986636971047.\n",
      "Epoch 20/80\n",
      "58/58 [==============================] - 5s 78ms/step - loss: 0.0485 - sparse_categorical_accuracy: 0.9826 - val_loss: 0.3892 - val_sparse_categorical_accuracy: 0.9238\n",
      "\n",
      "Epoch 00021: LearningRateScheduler reducing learning rate to 0.0031182795698924733.\n",
      "Epoch 21/80\n",
      "58/58 [==============================] - 5s 78ms/step - loss: 0.0377 - sparse_categorical_accuracy: 0.9872 - val_loss: 0.4125 - val_sparse_categorical_accuracy: 0.9323\n",
      "\n",
      "Epoch 00022: LearningRateScheduler reducing learning rate to 0.0030145530145530143.\n",
      "Epoch 22/80\n",
      "58/58 [==============================] - 5s 78ms/step - loss: 0.0394 - sparse_categorical_accuracy: 0.9884 - val_loss: 0.4191 - val_sparse_categorical_accuracy: 0.9095\n",
      "\n",
      "Epoch 00023: LearningRateScheduler reducing learning rate to 0.0029175050301810863.\n",
      "Epoch 23/80\n",
      "58/58 [==============================] - 5s 78ms/step - loss: 0.0345 - sparse_categorical_accuracy: 0.9887 - val_loss: 0.4923 - val_sparse_categorical_accuracy: 0.9049\n",
      "\n",
      "Epoch 00024: LearningRateScheduler reducing learning rate to 0.0028265107212475634.\n",
      "Epoch 24/80\n",
      "57/58 [============================>.] - ETA: 0s - loss: 0.0227 - sparse_categorical_accuracy: 0.9926INFO:tensorflow:Assets written to: ./models/best_cp-024.hdf/assets\n",
      "58/58 [==============================] - 26s 446ms/step - loss: 0.0226 - sparse_categorical_accuracy: 0.9926 - val_loss: 0.3405 - val_sparse_categorical_accuracy: 0.9323\n",
      "\n",
      "Epoch 00025: LearningRateScheduler reducing learning rate to 0.00274102079395085.\n",
      "Epoch 25/80\n",
      "58/58 [==============================] - 5s 79ms/step - loss: 0.0248 - sparse_categorical_accuracy: 0.9912 - val_loss: 0.3841 - val_sparse_categorical_accuracy: 0.9342\n",
      "\n",
      "Epoch 00026: LearningRateScheduler reducing learning rate to 0.002660550458715596.\n",
      "Epoch 26/80\n",
      "58/58 [==============================] - 5s 79ms/step - loss: 0.0234 - sparse_categorical_accuracy: 0.9927 - val_loss: 0.3958 - val_sparse_categorical_accuracy: 0.9251\n",
      "\n",
      "Epoch 00027: LearningRateScheduler reducing learning rate to 0.0025846702317290555.\n",
      "Epoch 27/80\n",
      "58/58 [==============================] - 5s 78ms/step - loss: 0.0243 - sparse_categorical_accuracy: 0.9921 - val_loss: 0.3832 - val_sparse_categorical_accuracy: 0.9297\n",
      "\n",
      "Epoch 00028: LearningRateScheduler reducing learning rate to 0.0025129982668977468.\n",
      "Epoch 28/80\n",
      "57/58 [============================>.] - ETA: 0s - loss: 0.0141 - sparse_categorical_accuracy: 0.9963INFO:tensorflow:Assets written to: ./models/best_cp-028.hdf/assets\n",
      "58/58 [==============================] - 26s 441ms/step - loss: 0.0138 - sparse_categorical_accuracy: 0.9964 - val_loss: 0.3221 - val_sparse_categorical_accuracy: 0.9499\n",
      "\n",
      "Epoch 00029: LearningRateScheduler reducing learning rate to 0.0024451939291736924.\n",
      "Epoch 29/80\n",
      "58/58 [==============================] - 5s 79ms/step - loss: 0.0243 - sparse_categorical_accuracy: 0.9929 - val_loss: 0.4891 - val_sparse_categorical_accuracy: 0.9251\n",
      "\n",
      "Epoch 00030: LearningRateScheduler reducing learning rate to 0.0023809523809523807.\n",
      "Epoch 30/80\n",
      "58/58 [==============================] - 4s 76ms/step - loss: 0.0148 - sparse_categorical_accuracy: 0.9947 - val_loss: 0.3682 - val_sparse_categorical_accuracy: 0.9401\n",
      "\n",
      "Epoch 00031: LearningRateScheduler reducing learning rate to 0.0023200000000000004.\n",
      "Epoch 31/80\n",
      "57/58 [============================>.] - ETA: 0s - loss: 0.0094 - sparse_categorical_accuracy: 0.9962INFO:tensorflow:Assets written to: ./models/best_cp-031.hdf/assets\n",
      "58/58 [==============================] - 25s 434ms/step - loss: 0.0098 - sparse_categorical_accuracy: 0.9961 - val_loss: 0.3032 - val_sparse_categorical_accuracy: 0.9492\n",
      "\n",
      "Epoch 00032: LearningRateScheduler reducing learning rate to 0.002262090483619345.\n",
      "Epoch 32/80\n",
      "58/58 [==============================] - 5s 78ms/step - loss: 0.0089 - sparse_categorical_accuracy: 0.9969 - val_loss: 0.3949 - val_sparse_categorical_accuracy: 0.9382\n",
      "\n",
      "Epoch 00033: LearningRateScheduler reducing learning rate to 0.0022070015220700154.\n",
      "Epoch 33/80\n",
      "58/58 [==============================] - 5s 78ms/step - loss: 0.0123 - sparse_categorical_accuracy: 0.9969 - val_loss: 0.3363 - val_sparse_categorical_accuracy: 0.9479\n",
      "\n",
      "Epoch 00034: LearningRateScheduler reducing learning rate to 0.0021545319465081725.\n",
      "Epoch 34/80\n",
      "58/58 [==============================] - 5s 78ms/step - loss: 0.0097 - sparse_categorical_accuracy: 0.9966 - val_loss: 0.3840 - val_sparse_categorical_accuracy: 0.9473\n",
      "\n",
      "Epoch 00035: LearningRateScheduler reducing learning rate to 0.0021044992743105948.\n",
      "Epoch 35/80\n",
      "58/58 [==============================] - 5s 78ms/step - loss: 0.0109 - sparse_categorical_accuracy: 0.9969 - val_loss: 0.3412 - val_sparse_categorical_accuracy: 0.9499\n",
      "\n",
      "Epoch 00036: LearningRateScheduler reducing learning rate to 0.002056737588652482.\n",
      "Epoch 36/80\n",
      "57/58 [============================>.] - ETA: 0s - loss: 0.0116 - sparse_categorical_accuracy: 0.9962INFO:tensorflow:Assets written to: ./models/best_cp-036.hdf/assets\n",
      "58/58 [==============================] - 26s 448ms/step - loss: 0.0114 - sparse_categorical_accuracy: 0.9962 - val_loss: 0.2857 - val_sparse_categorical_accuracy: 0.9492\n",
      "\n",
      "Epoch 00037: LearningRateScheduler reducing learning rate to 0.002011095700416089.\n",
      "Epoch 37/80\n",
      "58/58 [==============================] - 5s 78ms/step - loss: 0.0093 - sparse_categorical_accuracy: 0.9972 - val_loss: 0.3528 - val_sparse_categorical_accuracy: 0.9440\n",
      "\n",
      "Epoch 00038: LearningRateScheduler reducing learning rate to 0.0019674355495251017.\n",
      "Epoch 38/80\n",
      "58/58 [==============================] - 5s 78ms/step - loss: 0.0109 - sparse_categorical_accuracy: 0.9968 - val_loss: 0.3402 - val_sparse_categorical_accuracy: 0.9492\n",
      "\n",
      "Epoch 00039: LearningRateScheduler reducing learning rate to 0.0019256308100929615.\n",
      "Epoch 39/80\n",
      "58/58 [==============================] - 5s 78ms/step - loss: 0.0071 - sparse_categorical_accuracy: 0.9978 - val_loss: 0.3637 - val_sparse_categorical_accuracy: 0.9460\n",
      "\n",
      "Epoch 00040: LearningRateScheduler reducing learning rate to 0.00188556566970091.\n",
      "Epoch 40/80\n",
      "58/58 [==============================] - 5s 78ms/step - loss: 0.0053 - sparse_categorical_accuracy: 0.9984 - val_loss: 0.3273 - val_sparse_categorical_accuracy: 0.9525\n",
      "\n",
      "Epoch 00041: LearningRateScheduler reducing learning rate to 0.0018471337579617835.\n",
      "Epoch 41/80\n",
      "58/58 [==============================] - 5s 78ms/step - loss: 0.0030 - sparse_categorical_accuracy: 0.9987 - val_loss: 0.3432 - val_sparse_categorical_accuracy: 0.9538\n",
      "\n",
      "Epoch 00042: LearningRateScheduler reducing learning rate to 0.0018102372034956304.\n",
      "Epoch 42/80\n",
      "58/58 [==============================] - 5s 78ms/step - loss: 0.0022 - sparse_categorical_accuracy: 0.9993 - val_loss: 0.3493 - val_sparse_categorical_accuracy: 0.9557\n",
      "\n",
      "Epoch 00043: LearningRateScheduler reducing learning rate to 0.0017747858017135862.\n",
      "Epoch 43/80\n",
      "58/58 [==============================] - 5s 78ms/step - loss: 0.0102 - sparse_categorical_accuracy: 0.9969 - val_loss: 0.4680 - val_sparse_categorical_accuracy: 0.9290\n",
      "\n",
      "Epoch 00044: LearningRateScheduler reducing learning rate to 0.0017406962785114046.\n",
      "Epoch 44/80\n",
      "58/58 [==============================] - 5s 78ms/step - loss: 0.0122 - sparse_categorical_accuracy: 0.9964 - val_loss: 0.3533 - val_sparse_categorical_accuracy: 0.9531\n",
      "\n",
      "Epoch 00045: LearningRateScheduler reducing learning rate to 0.001707891637220259.\n",
      "Epoch 45/80\n",
      "58/58 [==============================] - 4s 78ms/step - loss: 0.0078 - sparse_categorical_accuracy: 0.9976 - val_loss: 0.3984 - val_sparse_categorical_accuracy: 0.9518\n",
      "\n",
      "Epoch 00046: LearningRateScheduler reducing learning rate to 0.0016763005780346821.\n",
      "Epoch 46/80\n",
      "57/58 [============================>.] - ETA: 0s - loss: 0.0095 - sparse_categorical_accuracy: 0.9973Restoring model weights from the end of the best epoch.\n",
      "58/58 [==============================] - 4s 76ms/step - loss: 0.0094 - sparse_categorical_accuracy: 0.9973 - val_loss: 0.3487 - val_sparse_categorical_accuracy: 0.9551\n",
      "Epoch 00046: early stopping\n"
     ]
    }
   ],
   "source": [
    "history = en_model.fit(\n",
    "    train_ds,\n",
    "    steps_per_epoch = train_steps,\n",
    "    epochs = config[\"num_epochs\"],\n",
    "    validation_data = test_ds,\n",
    "    validation_steps = test_steps,\n",
    "    validation_freq = 1,\n",
    "    callbacks = callbacks\n",
    ")"
   ]
  },
  {
   "cell_type": "code",
   "execution_count": 122,
   "metadata": {},
   "outputs": [],
   "source": [
    "best_acc =  str(history.history[\"val_sparse_categorical_accuracy\"][-1])[2:4]\n",
    "en_model.save('./models/{}.h5'.format(model_name+best_acc))"
   ]
  },
  {
   "cell_type": "markdown",
   "metadata": {},
   "source": [
    "## Evaluate the model"
   ]
  },
  {
   "cell_type": "code",
   "execution_count": 15,
   "metadata": {},
   "outputs": [],
   "source": [
    "# Check if validation data is cached\n",
    "cache_dir = config[\"cache_dir\"]\n",
    "img_width = config[\"img_shape\"][0]\n",
    "ds_info = config[\"ds_info\"]\n",
    "filename = \"{}/{}_{}_val.tfcache.index\".format(cache_dir, img_width, ds_info)\n",
    "\n",
    "cached = os.path.isfile(filename)\n",
    "if not cached:\n",
    "    # Iterate over dataset to initialize caching\n",
    "    for batch in val_ds.take(params[\"val_size\"]):\n",
    "        pass"
   ]
  },
  {
   "cell_type": "code",
   "execution_count": 16,
   "metadata": {},
   "outputs": [
    {
     "name": "stdout",
     "output_type": "stream",
     "text": [
      "12/12 - 0s - loss: 0.2503 - sparse_categorical_accuracy: 0.9564\n"
     ]
    }
   ],
   "source": [
    "en_evaluate = en_model.evaluate(val_ds, verbose=2, steps=val_steps)\n",
    "\n",
    "# Write evaluate dictionary to text file\n",
    "f = open(log_dir+\"/evaluate.txt\",\"w\")\n",
    "f.write( str(en_evaluate) )\n",
    "f.close()"
   ]
  },
  {
   "cell_type": "code",
   "execution_count": 17,
   "metadata": {},
   "outputs": [],
   "source": [
    "acc = history.history['sparse_categorical_accuracy']\n",
    "val_acc = history.history['val_sparse_categorical_accuracy']\n",
    "\n",
    "loss = history.history['loss']\n",
    "val_loss = history.history['val_loss']\n",
    "\n",
    "if config[\"learning_schedule\"]: lr = history.history['lr']\n",
    "epochs_range = range(history.epoch[-1]+1)"
   ]
  },
  {
   "cell_type": "code",
   "execution_count": 18,
   "metadata": {},
   "outputs": [
    {
     "data": {
      "image/png": "[encoded data removed]",
      "text/plain": [
       "<Figure size 576x432 with 1 Axes>"
      ]
     },
     "metadata": {
      "needs_background": "light"
     },
     "output_type": "display_data"
    }
   ],
   "source": [
    "if config[\"learning_schedule\"]:\n",
    "    # Plot the learning rate\n",
    "    plt.figure(figsize=(8, 6))\n",
    "    plt.plot(epochs_range, lr, label='Learning Rate')\n",
    "    plt.xlabel('Epoch')\n",
    "    plt.ylabel('Learnign rate')\n",
    "    plt.savefig(log_dir+'/learning_rate.png')\n",
    "    plt.title('Adaptive Learning Rate');"
   ]
  },
  {
   "cell_type": "code",
   "execution_count": 19,
   "metadata": {},
   "outputs": [
    {
     "data": {
      "image/png": "[encoded data removed]",
      "text/plain": [
       "<Figure size 1008x432 with 2 Axes>"
      ]
     },
     "metadata": {
      "needs_background": "light"
     },
     "output_type": "display_data"
    }
   ],
   "source": [
    "# Plot train-val accuracy and loss\n",
    "plt.figure(figsize=(14, 6))\n",
    "\n",
    "# Subplot 1\n",
    "plt.subplot(1, 2, 1)\n",
    "plt.plot(epochs_range, acc, label='Training Accuracy')\n",
    "plt.plot(epochs_range, val_acc, label='Validation Accuracy')\n",
    "plt.legend(loc='lower right')\n",
    "# plt.ylim([0.5, 1])\n",
    "plt.xlabel('Epoch')\n",
    "plt.ylabel('Accuracy')\n",
    "plt.title('Training and Validation Accuracy')\n",
    "\n",
    "# Subplot 2\n",
    "plt.subplot(1, 2, 2)\n",
    "plt.plot(epochs_range, loss, label='Training Loss')\n",
    "plt.plot(epochs_range, val_loss, label='Validation Loss')\n",
    "plt.legend(loc='upper right')\n",
    "plt.ylim([0.0, 3])\n",
    "plt.xlabel('Epoch')\n",
    "plt.ylabel('Accuracy')\n",
    "plt.title('Training and Validation Loss')\n",
    "plt.savefig(log_dir+'/accuracy_and_loss.png')\n",
    "plt.show()"
   ]
  },
  {
   "cell_type": "markdown",
   "metadata": {},
   "source": [
    "#### Check the predictions on validation dataset"
   ]
  },
  {
   "cell_type": "code",
   "execution_count": 26,
   "metadata": {},
   "outputs": [
    {
     "name": "stdout",
     "output_type": "stream",
     "text": [
      "label: bbps-0-1\n",
      "\n",
      "99.98% bbps-0-1\n"
     ]
    },
    {
     "data": {
      "image/png": "[encoded data removed]",
      "text/plain": [
       "<Figure size 432x288 with 1 Axes>"
      ]
     },
     "metadata": {},
     "output_type": "display_data"
    }
   ],
   "source": [
    "# Take one batch of validation data\n",
    "for images, labels in val_ds.take(1):\n",
    "    pass\n",
    "\n",
    "idx = np.random.randint(0, config[\"batch_size\"])\n",
    "\n",
    "# Take one image and convert it to numpy\n",
    "img = images.numpy()[idx]\n",
    "lab = labels.numpy()[idx]\n",
    "# Add one dimension\n",
    "print (\"label:\", class_names[lab], end='\\n\\n')\n",
    "show_image(img)\n",
    "img = np.expand_dims(img, 0)\n",
    "\n",
    "prediction = en_model.predict(img, verbose=0)\n",
    "for i, pred in enumerate(prediction[0]):\n",
    "    if pred > 0.01: print(\"{:>5.2f}% {}\".format(pred*100, class_names[i]))"
   ]
  },
  {
   "cell_type": "markdown",
   "metadata": {},
   "source": [
    "## Read in the unlabeled `test` dataset (which are images taken from the training data)"
   ]
  },
  {
   "cell_type": "code",
   "execution_count": 27,
   "metadata": {},
   "outputs": [],
   "source": [
    "def get_filename(file_path):\n",
    "    parts = tf.strings.split(file_path, os.path.sep)\n",
    "    # the last item of parts is the filename\n",
    "    filename = parts[-1]\n",
    "    return filename\n",
    "\n",
    "def decode_img(img):\n",
    "    # convert the compressed string to a 3D uint8 tensor\n",
    "    img = tf.image.decode_jpeg(img, channels=3)\n",
    "    # Use `convert_image_dtype` to convert to floats in the [0,1] range.\n",
    "    img = tf.image.convert_image_dtype(img, tf.float32)\n",
    "    # resize the image to the desired size.\n",
    "    return tf.image.resize(img, [config[\"img_shape\"][0], config[\"img_shape\"][1] ])\n",
    "\n",
    "def process_path(file_path):\n",
    "    filename = get_filename(file_path)\n",
    "    # load the raw data from the file as a string\n",
    "    img = tf.io.read_file(file_path)\n",
    "    img = decode_img(img)\n",
    "    return img, filename"
   ]
  },
  {
   "cell_type": "code",
   "execution_count": 28,
   "metadata": {},
   "outputs": [],
   "source": [
    "AUTOTUNE = tf.data.experimental.AUTOTUNE\n",
    "data_dir_unlabeled_test = pathlib.Path('/home/henrik/master-thesis/data/hyper-kvasir/unlabeled-test/')\n",
    "\n",
    "ds_size_unlabeled_test = len(list(data_dir_unlabeled_test.glob('*.*g')))\n",
    "\n",
    "files_string = str(data_dir_unlabeled_test/'*.*g')\n",
    "list_ds_unlabeled_test = tf.data.Dataset.list_files(files_string)\n",
    "\n",
    "unlabeled_ds_test = list_ds_unlabeled_test.map(process_path, num_parallel_calls=AUTOTUNE)"
   ]
  },
  {
   "cell_type": "markdown",
   "metadata": {},
   "source": [
    "Run prediction on one random image, to verify the results after training."
   ]
  },
  {
   "cell_type": "code",
   "execution_count": 42,
   "metadata": {},
   "outputs": [
    {
     "name": "stdout",
     "output_type": "stream",
     "text": [
      "Filename: 0c1bc617-ff62-4204-8017-98df284ae244dyed-lifted-polyps.jpg\n",
      "Label: dyed-lifted-polyps\n",
      "\n",
      "99.99% dyed-lifted-polyps\n"
     ]
    },
    {
     "data": {
      "image/png": "[encoded data removed]",
      "text/plain": [
       "<Figure size 432x288 with 1 Axes>"
      ]
     },
     "metadata": {},
     "output_type": "display_data"
    }
   ],
   "source": [
    "# Print some images and confidence levels to see how to model performs\n",
    "# Take one image of unlabeled-test set\n",
    "for img, name in unlabeled_ds_test.take(1):\n",
    "    # Convert to numpy and add dimension\n",
    "    print (\"Filename:\", str(name.numpy())[2:-1])\n",
    "    print (\"Label:\", str(name.numpy())[38:-5])\n",
    "    show_image(img.numpy())\n",
    "    img = np.expand_dims(img.numpy(), 0)\n",
    "    prediction = en_model.predict(img, verbose=0)\n",
    "    print ()\n",
    "    for i, pred in enumerate(prediction[0]):\n",
    "        if pred > 0.01: print(\"{:>5.2f}% {}\".format(pred*100, class_names[i]))"
   ]
  },
  {
   "cell_type": "markdown",
   "metadata": {},
   "source": [
    "Add the findings with probability score higher than threshold to the training dataset"
   ]
  },
  {
   "cell_type": "code",
   "execution_count": 43,
   "metadata": {},
   "outputs": [
    {
     "name": "stdout",
     "output_type": "stream",
     "text": [
      "Found 101 new samples from unlabeled_ds_test\n"
     ]
    }
   ],
   "source": [
    "# Create a dataset with 1 sample from training dataset\n",
    "img, lab = next(iter(train_ds.unbatch().take(1)))\n",
    "new_samples = tf.data.Dataset.from_tensors((img, lab))\n",
    "\n",
    "pred_confidence = 0.90\n",
    "new_samples_counter = 0\n",
    "img_list = []\n",
    "lab_list = []\n",
    "\n",
    "for batch in unlabeled_ds_test.batch(20):\n",
    "    images, filenames = batch\n",
    "    batch_preds = en_model.predict(images, verbose=0)\n",
    "    \n",
    "    for pred, image in zip(batch_preds, images):\n",
    "        highest_pred = np.max(pred)\n",
    "        if highest_pred > pred_confidence:\n",
    "            pred_idx = np.argmax(pred).astype(np.int32)\n",
    "            pred_class = class_names[pred_idx]\n",
    "            \n",
    "            img_list.append(image)\n",
    "            lab_list.append(pred_idx)\n",
    "            \n",
    "            new_samples_counter += 1\n",
    "        \n",
    "print (\"Found\", new_samples_counter, \"new samples from unlabeled_ds_test\")"
   ]
  },
  {
   "cell_type": "code",
   "execution_count": null,
   "metadata": {},
   "outputs": [],
   "source": [
    "# Create a dataset out of list of findings\n",
    "new_findings = tf.data.Dataset.from_tensor_slices((img_list, lab_list))"
   ]
  },
  {
   "cell_type": "code",
   "execution_count": null,
   "metadata": {},
   "outputs": [],
   "source": [
    "# Merge new dataset with original\n",
    "new_train_ds = train_ds.unbatch().take(params[\"train_size\"]).concatenate(new_findings)\n",
    "\n",
    "print (\"Added new samples from unlabeled dataset to the training dataset\")"
   ]
  },
  {
   "cell_type": "code",
   "execution_count": null,
   "metadata": {},
   "outputs": [],
   "source": [
    "print (\"Training dataset size:\", params[\"train_size\"])\n",
    "\n",
    "num_elements = new_train_ds.reduce(0, lambda x, _: x + 1).numpy()\n",
    "print (\"New size:\", num_elements)"
   ]
  },
  {
   "cell_type": "markdown",
   "metadata": {},
   "source": [
    "## Read in the `full` unlabeled dataset"
   ]
  },
  {
   "cell_type": "code",
   "execution_count": 44,
   "metadata": {},
   "outputs": [],
   "source": [
    "def get_filename(file_path):\n",
    "    parts = tf.strings.split(file_path, os.path.sep)\n",
    "    # the last item of parts is the filename\n",
    "    filename = parts[-1]\n",
    "    return filename\n",
    "\n",
    "def decode_img(img):\n",
    "    # convert the compressed string to a 3D uint8 tensor\n",
    "    img = tf.image.decode_jpeg(img, channels=3)\n",
    "    # Use `convert_image_dtype` to convert to floats in the [0,1] range.\n",
    "    img = tf.image.convert_image_dtype(img, tf.float32)\n",
    "    # resize the image to the desired size.\n",
    "    return tf.image.resize(img, [config[\"img_shape\"][0], config[\"img_shape\"][1] ])\n",
    "\n",
    "def process_path(file_path):\n",
    "    filename = get_filename(file_path)\n",
    "    # load the raw data from the file as a string\n",
    "    img = tf.io.read_file(file_path)\n",
    "    img = decode_img(img)\n",
    "    return img, filename"
   ]
  },
  {
   "cell_type": "code",
   "execution_count": 45,
   "metadata": {},
   "outputs": [
    {
     "name": "stdout",
     "output_type": "stream",
     "text": [
      "Loaded 99417 images into unlabeled_ds.\n"
     ]
    }
   ],
   "source": [
    "AUTOTUNE = tf.data.experimental.AUTOTUNE\n",
    "data_dir_unlabeled = pathlib.Path('/home/henrik/master-thesis/data/hyper-kvasir/unlabeled/')\n",
    "\n",
    "ds_size_unlabeled = len(list(data_dir_unlabeled.glob('*.*g')))\n",
    "\n",
    "files_string = str(data_dir_unlabeled/'*.*g')\n",
    "list_ds_unlabeled = tf.data.Dataset.list_files(files_string)\n",
    "\n",
    "unlabeled_ds = list_ds_unlabeled.map(process_path, num_parallel_calls=AUTOTUNE)\n",
    "\n",
    "print (\"Loaded {} images into unlabeled_ds.\".format(ds_size_unlabeled))"
   ]
  },
  {
   "cell_type": "code",
   "execution_count": 55,
   "metadata": {},
   "outputs": [
    {
     "name": "stdout",
     "output_type": "stream",
     "text": [
      "File: 307f4cd3-ef8d-4821-8145-62c96bf0aa65.jpg\n",
      "\n",
      "98.34% polyps\n",
      " 1.53% ulcerative-colitis-grade-3\n"
     ]
    },
    {
     "data": {
      "image/png": "[encoded data removed]",
      "text/plain": [
       "<Figure size 432x288 with 1 Axes>"
      ]
     },
     "metadata": {},
     "output_type": "display_data"
    }
   ],
   "source": [
    "# Run prediction on 1 image\n",
    "for img, name in unlabeled_ds.take(1):\n",
    "    # Convert to numpy and add dimension\n",
    "    print (\"File:\",str(name.numpy())[2:-1], end='\\n\\n')\n",
    "    show_image(img.numpy())\n",
    "    img = np.expand_dims(img.numpy(), 0)\n",
    "    prediction = en_model.predict(img, verbose=0)\n",
    "    \n",
    "    # If probability above 1% print info\n",
    "    for i, pred in enumerate(prediction[0]):\n",
    "         if pred > 0.01: print(\"{:>5.2f}% {}\".format(pred*100, class_names[i]))"
   ]
  },
  {
   "cell_type": "markdown",
   "metadata": {},
   "source": [
    "## Iterate over unlabeled dataset and predict new sampels"
   ]
  },
  {
   "cell_type": "markdown",
   "metadata": {},
   "source": [
    "Using 'append to list and convert to tensor'-method\n",
    "- cache takes too much space"
   ]
  },
  {
   "cell_type": "code",
   "execution_count": null,
   "metadata": {},
   "outputs": [],
   "source": [
    "from tqdm.notebook import tqdm\n",
    "\n",
    "pred_confidence = 0.99\n",
    "new_samples_counter = 0\n",
    "total_time = time.time()\n",
    "img_list = []\n",
    "lab_list = []\n",
    "\n",
    "for count, (image,label) in tqdm(enumerate(unlabeled_ds), total=ds_size_unlabeled, desc='Predicting'):\n",
    "    img = np.expand_dims(image, 0)\n",
    "    pred = en_model.predict(img)\n",
    "    highest_pred = np.max(pred)\n",
    "    if highest_pred > pred_confidence:\n",
    "        pred_idx = np.argmax(pred).astype(np.int32)\n",
    "        #pred_class = class_names[pred_idx]\n",
    "\n",
    "        img_list.append(image)\n",
    "        lab_list.append(pred_idx)\n",
    "        \n",
    "        new_samples_counter += 1\n",
    "        \n",
    "print (\"\\nTotal time: {:.3f} s\".format( time.time() - total_time ))\n",
    "print (\"Found\", new_samples_counter, \"new samples in unlabeled_ds\")"
   ]
  },
  {
   "cell_type": "code",
   "execution_count": null,
   "metadata": {},
   "outputs": [
    {
     "data": {
      "application/vnd.jupyter.widget-view+json": {
       "model_id": "49816a3fb41548ed930842155300293d",
       "version_major": 2,
       "version_minor": 0
      },
      "text/plain": [
       "HBox(children=(FloatProgress(value=0.0, description='Predicting', max=99417.0, style=ProgressStyle(description…"
      ]
     },
     "metadata": {},
     "output_type": "display_data"
    },
    {
     "data": {
      "application/vnd.jupyter.widget-view+json": {
       "model_id": "4825abda4938431bb8870a7da0295b34",
       "version_major": 2,
       "version_minor": 0
      },
      "text/plain": [
       "HBox(children=(FloatProgress(value=1.0, bar_style='info', description='Findings', max=1.0, style=ProgressStyle…"
      ]
     },
     "metadata": {},
     "output_type": "display_data"
    },
    {
     "name": "stdout",
     "output_type": "stream",
     "text": [
      "\n",
      "\n",
      "\n",
      "\n"
     ]
    }
   ],
   "source": [
    "from tqdm.notebook import tqdm\n",
    "\n",
    "pred_confidence = 0.99\n",
    "new_samples_counter = 0\n",
    "total_time = time.time()\n",
    "img_list = []\n",
    "lab_list = []\n",
    "\n",
    "tqdm_predicting = tqdm(total=ds_size_unlabeled, desc='Predicting', position=0)\n",
    "tqdm_findings = tqdm(desc='Findings', position=1, bar_format='{desc}:{bar}{n_fmt}')\n",
    "\n",
    "for count, (image,label) in enumerate(unlabeled_ds):\n",
    "    img = np.expand_dims(image, 0)\n",
    "    pred = en_model.predict(img)\n",
    "    highest_pred = np.max(pred)\n",
    "    if highest_pred > pred_confidence:\n",
    "        pred_idx = np.argmax(pred).astype(np.int32)\n",
    "        #pred_class = class_names[pred_idx]\n",
    "\n",
    "        img_list.append(image)\n",
    "        lab_list.append(pred_idx)\n",
    "        \n",
    "        new_samples_counter += 1\n",
    "        tqdm_findings.update(1)\n",
    "    tqdm_predicting.update(1)\n",
    "        \n",
    "print (\"\\nTotal time: {:.3f} s\".format( time.time() - total_time ))\n",
    "print (\"Found\", new_samples_counter, \"new samples in unlabeled_ds\")"
   ]
  },
  {
   "cell_type": "code",
   "execution_count": null,
   "metadata": {},
   "outputs": [],
   "source": [
    "new_findings = tf.data.Dataset.from_tensor_slices((img_list, lab_list))"
   ]
  },
  {
   "cell_type": "code",
   "execution_count": null,
   "metadata": {},
   "outputs": [],
   "source": [
    "new_train_ds = train_ds.unbatch().take(params[\"train_size\"]).concatenate(new_findings)"
   ]
  },
  {
   "cell_type": "code",
   "execution_count": null,
   "metadata": {},
   "outputs": [],
   "source": [
    "print (\"Training dataset size:\", params[\"train_size\"])\n",
    "\n",
    "num_elements = new_train_ds.reduce(0, lambda x, _: x + 1).numpy()\n",
    "print (\"New size:\", num_elements)"
   ]
  }
 ],
 "metadata": {
  "kernelspec": {
   "display_name": "Python 3",
   "language": "python",
   "name": "python3"
  },
  "language_info": {
   "codemirror_mode": {
    "name": "ipython",
    "version": 3
   },
   "file_extension": ".py",
   "mimetype": "text/x-python",
   "name": "python",
   "nbconvert_exporter": "python",
   "pygments_lexer": "ipython3",
   "version": "3.7.6"
  }
 },
 "nbformat": 4,
 "nbformat_minor": 4
}
