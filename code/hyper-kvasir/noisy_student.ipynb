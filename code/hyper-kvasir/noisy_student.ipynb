{
 "cells": [
  {
   "cell_type": "markdown",
   "metadata": {},
   "source": [
    "The goal of this notebook is to create a student-teacher model where we first train a teacher on labeled data, and then use this teacher model to label more data, then we swap out the teacher with a student and train again over all the samples. "
   ]
  },
  {
   "cell_type": "markdown",
   "metadata": {},
   "source": [
    "# Loading data"
   ]
  },
  {
   "cell_type": "code",
   "execution_count": null,
   "metadata": {},
   "outputs": [],
   "source": [
    "from __future__ import absolute_import, division, print_function, unicode_literals\n",
    "\n",
    "import tensorflow as tf\n",
    "import numpy as np\n",
    "import datetime\n",
    "import pickle\n",
    "import time\n",
    "import os\n",
    "import pathlib\n",
    "import matplotlib.pyplot as plt\n",
    "import sys\n",
    "import shutil\n",
    " \n",
    "# Some stuff to make utils-function work\n",
    "sys.path.append('../utils')\n",
    "from pipeline import *\n",
    "from create_model import *\n",
    "from utils import *\n",
    "from unlabeled_utils import *\n",
    "from evaluate_model import *\n",
    "%load_ext autoreload\n",
    "%autoreload 2\n",
    "\n",
    "# Jupyter-specific\n",
    "%matplotlib inline\n",
    "\n",
    "project_time = datetime.datetime.now().strftime(\"%Y%m%d-%H%M%S\")"
   ]
  },
  {
   "cell_type": "markdown",
   "metadata": {},
   "source": [
    "Some parameters"
   ]
  },
  {
   "cell_type": "code",
   "execution_count": null,
   "metadata": {},
   "outputs": [],
   "source": [
    "data_dir = pathlib.Path('/home/henriklg/master-thesis/data/hyper-kvasir/labeled_ttv/')\n",
    "unlab_dir = pathlib.Path('/home/henriklg/master-thesis/data/hyper-kvasir/unlabeled_ttv/')\n",
    "\n",
    "iteration = 0\n",
    "dir_name = str(iteration)+\"_teacher\"\n",
    "log_dir = \"./logs/{}/{}\".format(project_time, dir_name)\n",
    "\n",
    "conf = {\n",
    "    # Dataset\n",
    "    \"data_dir\": data_dir,\n",
    "    \"unlab_dir\": unlab_dir,\n",
    "    \"ds_info\": 'hypkva',\n",
    "    \"augment\": [\"crop\",\"flip\",\"brightness\",\"saturation\",\"contrast\",\"rotate\"],\n",
    "    \"aug_mult\": 0.4,\n",
    "    \"resample\": True,\n",
    "    \"class_weight\": False,\n",
    "    \"shuffle_buffer_size\": 2000,        # 0=no shuffling\n",
    "    \"seed\": 2511,\n",
    "    \"neg_class\": None,                 # select neg class for binary ds (normal class)\n",
    "    \"outcast\": None,                   # list of folders to drop - currently only works for 1 item\n",
    "    # Model\n",
    "    \"model\": 'EfficientNetB0',\n",
    "    \"weights\": \"imagenet\",                   # which weights to initialize the model with\n",
    "    \"dropout\": 0.2,\n",
    "    \"num_epochs\": 3,\n",
    "    \"batch_size\": 16,\n",
    "    \"img_shape\": (128, 128, 3),\n",
    "    \"learning_rate\": 0.001,\n",
    "    \"optimizer\": 'Adam',\n",
    "    \"final_activation\": 'softmax',     # sigmoid for binary ds\n",
    "    # Callbacks\n",
    "    \"tensorboard\": False,\n",
    "    \"learning_schedule\": False,\n",
    "    \"decay_rate\": 0,                   # 128:0.25   64:1.0   32:4.0   16:16   8:64\n",
    "    \"checkpoint\": False,\n",
    "    \"early_stopp\": False,\n",
    "    \"early_stopp_patience\": 7,\n",
    "    # Misc\n",
    "    \"verbosity\": 0,\n",
    "    \"keep_threshold\": 0.8,\n",
    "    \"dir_name\": dir_name,\n",
    "    \"log_dir\": log_dir,\n",
    "    \"cache_dir\": \"./cache\",\n",
    "    }"
   ]
  },
  {
   "cell_type": "markdown",
   "metadata": {},
   "source": [
    "Create training, testing and validation dataset from utils/data_prep.py.  \n",
    "Returns tf.dataset for shuffled, cached and batched data"
   ]
  },
  {
   "cell_type": "code",
   "execution_count": null,
   "metadata": {},
   "outputs": [],
   "source": [
    "ds = create_dataset(conf)"
   ]
  },
  {
   "cell_type": "code",
   "execution_count": null,
   "metadata": {},
   "outputs": [],
   "source": [
    "# First iteration only\n",
    "datasets_bin = [tf_bincount(ds[\"clean_train\"], conf[\"num_classes\"])]\n",
    "sanity = []\n",
    "ds[\"combined_train\"] = ds[\"clean_train\"]"
   ]
  },
  {
   "cell_type": "code",
   "execution_count": null,
   "metadata": {},
   "outputs": [],
   "source": [
    "def run_iteration(conf, ds, datasets_bin, sanity):\n",
    "    \"\"\"\n",
    "    \"\"\"\n",
    "    ## Prep cache\n",
    "    cache_dir = './cache/{}_{}_{}_resampled/'.format(\n",
    "        conf[\"img_shape\"][0], \n",
    "        conf[\"ds_info\"],\n",
    "        \"train\"\n",
    "    )\n",
    "    # create directory if not already exist\n",
    "    pathlib.Path(cache_dir).mkdir(parents=True, exist_ok=True)\n",
    "    \n",
    "    model = create_model(conf)\n",
    "    callbacks = create_callbacks(conf)\n",
    "    class_weights = get_class_weights(ds[\"train\"], conf)\n",
    "\n",
    "    start_time = time.time()\n",
    "    history = model.fit(\n",
    "            ds[\"train\"],\n",
    "            steps_per_epoch = conf[\"steps\"][\"train\"],\n",
    "            epochs = conf[\"num_epochs\"],\n",
    "            validation_data = ds[\"test\"],\n",
    "            validation_steps = conf[\"steps\"][\"test\"],\n",
    "            validation_freq = 1,\n",
    "            class_weight = class_weights,\n",
    "            callbacks = callbacks,\n",
    "            verbose = 1\n",
    "    )\n",
    "    if conf[\"verbosity\"]:\n",
    "        print (\"Time spent on training: {:.2f} minutes.\".format(np.round(time.time() - start_time)/60))\n",
    "\n",
    "    if conf[\"num_epochs\"] > 9:\n",
    "        model.save(conf[\"log_dir\"]+'/model')\n",
    "    # from tensorflow.python.keras.models import Model, load_model\n",
    "    # teacher_model = tf.keras.models.load_model(\"./logs/20200526-121128/teacher1/model\")\n",
    "\n",
    "    evaluate_model(model, history, ds, conf)\n",
    "\n",
    "    unlab_ds, unlab_size = create_unlab_ds(conf)\n",
    "\n",
    "    count = {\"findings\": 0, \"total\": 0}\n",
    "    pseudo = {\n",
    "        \"pred_list\": [],\n",
    "        \"lab_list\": [],\n",
    "        \"name_list\": []\n",
    "    }\n",
    "\n",
    "    pseudo, count = generate_labels(\n",
    "        count, pseudo, unlab_ds, unlab_size, model, conf)\n",
    "\n",
    "    # Sort in order of highest confidence to lowest\n",
    "    pseudo_sorted = custom_sort(pseudo)\n",
    "\n",
    "    checkout_findings(pseudo_sorted, conf)\n",
    "    checkout_class(\"polyps\", pseudo_sorted, conf)\n",
    "\n",
    "    datasets_bin, added_samples = resample_and_combine(ds, conf, pseudo, pseudo_sorted, datasets_bin)\n",
    "\n",
    "    sanity = update_sanity(sanity, len(added_samples), unlab_size, datasets_bin, conf)\n",
    "\n",
    "    # Update unlab_ds\n",
    "    unlab_ds, unlab_size = reduce_dataset(unlab_ds, unlab_size, remove=added_samples)\n",
    "    \n",
    "    # Remove cache\n",
    "    try:\n",
    "        shutil.rmtree(cache_dir)\n",
    "    except OSError as e:\n",
    "        print(\"Error: %s : %s\" % (dir_path, e.strerror))\n",
    "    time.sleep(1)"
   ]
  },
  {
   "cell_type": "code",
   "execution_count": null,
   "metadata": {},
   "outputs": [],
   "source": [
    "teacher = {\n",
    "    \"name\": \"teacher\",\n",
    "    \"aug_mult\": 0.5,\n",
    "    \"dropout\": 0.2\n",
    "}\n",
    "\n",
    "student = {\n",
    "    \"name\": \"student\",\n",
    "    \"aug_mult\": 0.5,\n",
    "    \"dropout\": 0.2\n",
    "}\n",
    "\n",
    "models_list = [teacher, student, teacher, student]"
   ]
  },
  {
   "cell_type": "code",
   "execution_count": null,
   "metadata": {},
   "outputs": [],
   "source": [
    "for idx, curr_model in enumerate(models_list):\n",
    "    iteration = int((np.floor(idx/2.0)))   # 0,0,1,1 etc\n",
    "    dir_name = str(iteration)+'_'+curr_model[\"name\"]\n",
    "    conf[\"log_dir\"] = \"./logs/{}/{}\".format(project_time, dir_name)\n",
    "    \n",
    "    for (key, value) in curr_model.items():\n",
    "        conf[key] = value\n",
    "        \n",
    "    run_iteration(conf, ds, datasets_bin, sanity)\n",
    "    \n",
    "    # refresh training data\n",
    "    ds[\"train\"] = prepare_for_training(\n",
    "        ds=ds[\"combined_train\"], \n",
    "        ds_name='train_'+dir_name,\n",
    "        conf=conf,\n",
    "        cache=True\n",
    "    )"
   ]
  }
 ],
 "metadata": {
  "kernelspec": {
   "display_name": "Python 3",
   "language": "python",
   "name": "python3"
  },
  "language_info": {
   "codemirror_mode": {
    "name": "ipython",
    "version": 3
   },
   "file_extension": ".py",
   "mimetype": "text/x-python",
   "name": "python",
   "nbconvert_exporter": "python",
   "pygments_lexer": "ipython3",
   "version": "3.7.6"
  }
 },
 "nbformat": 4,
 "nbformat_minor": 4
}
