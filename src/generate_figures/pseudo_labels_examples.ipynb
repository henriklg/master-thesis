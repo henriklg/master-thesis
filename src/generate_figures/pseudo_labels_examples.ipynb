{
 "cells": [
  {
   "cell_type": "code",
   "execution_count": null,
   "metadata": {},
   "outputs": [],
   "source": [
    "from __future__ import absolute_import, division, print_function, unicode_literals\n",
    "\n",
    "import tensorflow as tf\n",
    "\n",
    "import numpy as np\n",
    "import datetime\n",
    "import time\n",
    "import os\n",
    "import pathlib\n",
    "import matplotlib.pyplot as plt\n",
    " \n",
    "# Some stuff to make utils-function work\n",
    "import sys\n",
    "sys.path.append('../utils')\n",
    "from pipeline import create_dataset, split_and_create_dataset, prepare_for_training\n",
    "from utils import show_image, class_distribution\n",
    "from utils import print_split_info, unpipe, tf_bincount, checkout_dataset\n",
    "%load_ext autoreload\n",
    "%autoreload 2\n",
    "\n",
    "# Jupyter-specific\n",
    "%matplotlib inline\n",
    "\n",
    "project_time = datetime.datetime.now().strftime(\"%Y%m%d-%H%M%S\")"
   ]
  },
  {
   "cell_type": "code",
   "execution_count": null,
   "metadata": {},
   "outputs": [],
   "source": [
    "data_dir = pathlib.Path('/home/henriklg/master-thesis/data/hyper-kvasir/labeled_ttv/')\n",
    "unlab_dir = pathlib.Path('/home/henriklg/master-thesis/data/hyper-kvasir/unlabeled_ttv/')\n",
    "\n",
    "iteration = 0\n",
    "model_name = str(iteration)+\"_teacher\"\n",
    "log_dir = \"./logs/{}/{}\".format(project_time, model_name)\n",
    "\n",
    "conf = {\n",
    "    # Dataset\n",
    "    \"data_dir\": data_dir,\n",
    "    \"unlab_dir\": unlab_dir,\n",
    "    \"log_dir\": log_dir,\n",
    "    \"cache_dir\": \"./cache\",\n",
    "    \"ds_info\": 'hypkva',\n",
    "    \"augment\": [\"xcrop\",\"flip\",\"brightness\",\"saturation\",\"contrast\",\"rotate\"],\n",
    "    \"aug_mult\": 0.7,\n",
    "    \"resample\": False,\n",
    "    \"class_weight\": False,\n",
    "    \"shuffle_buffer_size\": 2000,        # 0=no shuffling\n",
    "    \"seed\": 2511,\n",
    "    \"neg_class\": None,                 # select neg class for binary ds (normal class)\n",
    "    \"outcast\": None,                   # list of folders to drop - currently only works for 1 item\n",
    "    # Model\n",
    "    \"model_name\": model_name,\n",
    "    \"model\": 'EfficientNetB4',\n",
    "    \"weights\": None,                   # which weights to initialize the model with\n",
    "    \"dropout\": 0.2,\n",
    "    \"num_epochs\": 4,\n",
    "    \"batch_size\": 16,\n",
    "    \"img_shape\": (128, 128, 3),\n",
    "    \"learning_rate\": 0.001,\n",
    "    \"optimizer\": 'Adam',\n",
    "    \"final_activation\": 'softmax',     # sigmoid for binary ds\n",
    "    # Callbacks\n",
    "    \"learning_schedule\": False,\n",
    "    \"decay_rate\": 0,                   # 128:0.25   64:1.0   32:4.0   16:16   8:64\n",
    "    \"checkpoint\": False,\n",
    "    \"early_stopp\": False,\n",
    "    \"early_stopp_patience\": 7,\n",
    "    # Misc\n",
    "    \"verbosity\": 1,\n",
    "    \"keep_threshold\": 0.0\n",
    "    }"
   ]
  },
  {
   "cell_type": "code",
   "execution_count": null,
   "metadata": {},
   "outputs": [],
   "source": [
    "ds = create_dataset(conf)"
   ]
  },
  {
   "cell_type": "code",
   "execution_count": null,
   "metadata": {},
   "outputs": [],
   "source": [
    "import pickle\n",
    "from pipeline import create_unlab_ds\n",
    "\n",
    "from utils import print_bar_chart\n",
    "from utils import checkout_findings\n",
    "from utils import checkout_class\n",
    "\n",
    "from unlabeled_utils import custom_sort\n",
    "from unlabeled_utils import resample_unlab\n",
    "from unlabeled_utils import generate_labels\n",
    "from unlabeled_utils import reduce_dataset\n",
    "\n",
    "pickle_path = \"/home/henriklg/master-thesis/code/hyper-kvasir/experiments/unlab_dist\"\n",
    "unlab_findings = pickle.load (open (pickle_path+\"/unlab_findings.pkl\", \"rb\"))"
   ]
  },
  {
   "cell_type": "code",
   "execution_count": null,
   "metadata": {},
   "outputs": [],
   "source": [
    "# Sort in order of highest confidence to lowest\n",
    "unlab_findings = custom_sort(unlab_findings)\n",
    "\n",
    "checkout_findings(unlab_findings, conf)"
   ]
  },
  {
   "cell_type": "code",
   "execution_count": null,
   "metadata": {},
   "outputs": [],
   "source": [
    "# Print grid of images from one of the classes\n",
    "checkout_class(\"ulcerative-colitis-grade-3\", unlab_findings, conf)"
   ]
  }
 ],
 "metadata": {
  "kernelspec": {
   "display_name": "Python 3",
   "language": "python",
   "name": "python3"
  },
  "language_info": {
   "codemirror_mode": {
    "name": "ipython",
    "version": 3
   },
   "file_extension": ".py",
   "mimetype": "text/x-python",
   "name": "python",
   "nbconvert_exporter": "python",
   "pygments_lexer": "ipython3",
   "version": "3.7.6"
  }
 },
 "nbformat": 4,
 "nbformat_minor": 4
}
