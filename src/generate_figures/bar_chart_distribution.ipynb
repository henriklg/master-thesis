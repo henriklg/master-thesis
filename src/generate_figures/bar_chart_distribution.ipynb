{
 "cells": [
  {
   "cell_type": "code",
   "execution_count": null,
   "metadata": {},
   "outputs": [],
   "source": [
    "from __future__ import absolute_import, division, print_function, unicode_literals\n",
    "\n",
    "import tensorflow as tf\n",
    "import numpy as np\n",
    "import datetime\n",
    "import pickle\n",
    "import time\n",
    "import os\n",
    "import pathlib\n",
    "import matplotlib.pyplot as plt\n",
    "import sys\n",
    " \n",
    "# Some stuff to make utils-function work\n",
    "sys.path.append('../utils')\n",
    "from pipeline import *\n",
    "from create_model import *\n",
    "from utils import *\n",
    "from unlabeled_utils import *\n",
    "from evaluate_model import *\n",
    "%load_ext autoreload\n",
    "%autoreload 2\n",
    "\n",
    "# Jupyter-specific\n",
    "%matplotlib inline"
   ]
  },
  {
   "cell_type": "code",
   "execution_count": null,
   "metadata": {},
   "outputs": [],
   "source": [
    "data_dir = pathlib.Path('/home/henriklg/master-thesis/data/hyper-kvasir/labeled_ttv/')\n",
    "unlab_dir = pathlib.Path('/home/henriklg/master-thesis/data/hyper-kvasir/unlabeled_ttv/')\n",
    "\n",
    "dir_name = \"distribution\"\n",
    "log_dir = \"./logs//{}\".format(dir_name)\n",
    "\n",
    "conf = {\n",
    "    # Dataset\n",
    "    \"data_dir\": data_dir,\n",
    "    \"unlab_dir\": unlab_dir,\n",
    "    \"ds_info\": 'hypkva',\n",
    "    \"augment\": [\"crop\",\"flip\",\"brightness\",\"saturation\",\"contrast\",\"rotate\"],\n",
    "    \"aug_mult\": 0.1,\n",
    "    \"resample\": True,\n",
    "    \"class_weight\": False,\n",
    "    \"shuffle_buffer_size\": 2000,       # no shuffling: 0\n",
    "    \"seed\": 2511,\n",
    "    \"neg_class\": None,                 # select neg class for binary ds (normal class)\n",
    "    \"outcast\": None,                   # list of folders to drop - currently only supports 1 item\n",
    "    # Model\n",
    "    \"model\": 'EfficientNetB0',\n",
    "    \"weights\": \"imagenet\",             # which weights to initialize the model with\n",
    "    \"dropout\": 0.1,\n",
    "    \"num_epochs\": 3,\n",
    "    \"batch_size\": 16,\n",
    "    \"img_shape\": (128, 128, 3),\n",
    "    \"learning_rate\": 0.001,\n",
    "    \"optimizer\": 'Adam',\n",
    "    \"final_activation\": 'softmax',     # sigmoid for binary ds\n",
    "    # Callbacks\n",
    "    \"tensorboard\": False,\n",
    "    \"decay_rate\": 0,                   # 128:0.25   64:1.0   32:4.0   16:16   8:64\n",
    "    \"checkpoint\": False,\n",
    "    \"early_stopp_patience\": 0,         # disable: 0\n",
    "    # Misc\n",
    "    \"verbosity\": 1,\n",
    "    \"keep_thresh\": 0.8,\n",
    "    \"pseudo_thresh\": 0,\n",
    "    \"class_limit\": 0,\n",
    "    \"dir_name\": dir_name,\n",
    "    \"log_dir\": log_dir,\n",
    "    \"cache_dir\": \"./cache\",\n",
    "    }"
   ]
  },
  {
   "cell_type": "code",
   "execution_count": null,
   "metadata": {},
   "outputs": [],
   "source": [
    "ds = create_dataset(conf)"
   ]
  },
  {
   "cell_type": "code",
   "execution_count": null,
   "metadata": {},
   "outputs": [],
   "source": [
    "datasets_bin = [tf_bincount(ds[\"clean_train\"], conf[\"num_classes\"])]\n",
    "sanity = []\n",
    "ds[\"combined_train\"] = ds[\"clean_train\"]"
   ]
  },
  {
   "cell_type": "code",
   "execution_count": null,
   "metadata": {},
   "outputs": [],
   "source": [
    "pickle_path = \"/home/henriklg/master-thesis/code/hyper-kvasir/experiments/model-size/all-b4/0_teacher\"\n",
    "teacher_pseudo = pickle.load (open (pickle_path+\"/unlab_findings.pkl\", \"rb\"))\n",
    "\n",
    "teach_pseudo_sorted = custom_sort(teacher_pseudo)"
   ]
  },
  {
   "cell_type": "code",
   "execution_count": null,
   "metadata": {},
   "outputs": [],
   "source": [
    "def resample_and_combine(ds, conf, pseudo_sorted, datasets_bin, limit=0):\n",
    "    \"\"\"\n",
    "    \"\"\"\n",
    "    new_findings, added_samples = resample_unlab(pseudo_sorted, datasets_bin[-1], conf, limit=limit)\n",
    "    # create tf.tensor of the new findings\n",
    "    findings_tensor = tf.data.Dataset.from_tensor_slices(new_findings)\n",
    "\n",
    "    # combine with original training_ds (using clean_ds which is not augmented/repeated etc)\n",
    "    if len(added_samples) != 0: # if no samples are added just re-use previous combined_train\n",
    "        ds[\"combined_train\"] = ds[\"combined_train\"].concatenate(findings_tensor)\n",
    "\n",
    "    # count samples in the new/combined dataset\n",
    "    datasets_bin.append(tf_bincount(ds[\"combined_train\"], conf[\"num_classes\"]))\n",
    "    with open(conf[\"log_dir\"]+\"/datasets_bin.pkl\", 'wb') as f:\n",
    "        pickle.dump(datasets_bin, f)\n",
    "\n",
    "    # History of class distribution\n",
    "    print_bar_chart(\n",
    "        data=datasets_bin,\n",
    "        conf=conf,\n",
    "        title=None,\n",
    "        fname=\"bar_chart-distribution\"\n",
    "    )\n",
    "    return datasets_bin, added_samples"
   ]
  },
  {
   "cell_type": "code",
   "execution_count": null,
   "metadata": {},
   "outputs": [],
   "source": [
    "datasets_bin, added_samples = resample_and_combine(ds, conf, teach_pseudo_sorted, datasets_bin)"
   ]
  },
  {
   "cell_type": "code",
   "execution_count": null,
   "metadata": {},
   "outputs": [],
   "source": [
    "pickle_path = \"/home/henriklg/master-thesis/code/hyper-kvasir/experiments/model-size/all-b4/0_student\"\n",
    "stud_pseudo = pickle.load (open (pickle_path+\"/unlab_findings.pkl\", \"rb\"))\n",
    "\n",
    "stud_pseudo_sorted = custom_sort(stud_pseudo)"
   ]
  },
  {
   "cell_type": "code",
   "execution_count": null,
   "metadata": {},
   "outputs": [],
   "source": [
    "datasets_bin, added_samples = resample_and_combine(ds, conf, stud_pseudo_sorted, datasets_bin)"
   ]
  }
 ],
 "metadata": {
  "kernelspec": {
   "display_name": "Python 3",
   "language": "python",
   "name": "python3"
  },
  "language_info": {
   "codemirror_mode": {
    "name": "ipython",
    "version": 3
   },
   "file_extension": ".py",
   "mimetype": "text/x-python",
   "name": "python",
   "nbconvert_exporter": "python",
   "pygments_lexer": "ipython3",
   "version": "3.7.6"
  }
 },
 "nbformat": 4,
 "nbformat_minor": 4
}
